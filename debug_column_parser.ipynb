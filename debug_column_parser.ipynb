{
 "cells": [
  {
   "cell_type": "code",
   "execution_count": 1,
   "metadata": {},
   "outputs": [],
   "source": [
    "from sqlanalyzer import column_parser\n",
    "import pandas as pd\n",
    "import sqlparse\n",
    "import re"
   ]
  },
  {
   "cell_type": "code",
   "execution_count": 2,
   "metadata": {},
   "outputs": [],
   "source": [
    "query = \"\"\"SELECT mapbox_account_id, vertical\n",
    "FROM (SELECT *, max(dt) over (partition by 'dummy') as max_dt from analytics.mbx_account_verticals)\n",
    "where dt = max_dt\n",
    "\"\"\""
   ]
  },
  {
   "cell_type": "code",
   "execution_count": 3,
   "metadata": {},
   "outputs": [
    {
     "data": {
      "text/plain": [
       "{'main': \"SELECT mapbox_account_id,\\n       vertical\\nFROM\\n  (SELECT *,\\n          max(dt) OVER (PARTITION BY 'dummy') AS max_dt\\n   FROM analytics.mbx_account_verticals)\\nWHERE dt = max_dt\"}"
      ]
     },
     "execution_count": 3,
     "metadata": {},
     "output_type": "execute_result"
    }
   ],
   "source": [
    "formatter = column_parser.Parser(query)\n",
    "formatted_query = formatter.format_query(query)\n",
    "cte_queries = formatter.parse_cte(formatted_query)\n",
    "cte_queries"
   ]
  },
  {
   "cell_type": "code",
   "execution_count": 4,
   "metadata": {},
   "outputs": [],
   "source": [
    "db_fields = pd.DataFrame({'db_table': 'analytics.mbx_account_verticals', \n",
    "            'all_columns': ['mapbox_account_id', 'email', 'salesforce_account_id', 'vertical', 'vertical_source', 'dt']})\n"
   ]
  },
  {
   "cell_type": "code",
   "execution_count": 5,
   "metadata": {},
   "outputs": [
    {
     "data": {
      "text/plain": [
       "{'main': \"SELECT mapbox_account_id,\\n       vertical\\nFROM\\n  (SELECT *,\\n          max(dt) OVER (PARTITION BY 'dummy') AS max_dt\\n   FROM analytics.mbx_account_verticals)\\nWHERE dt = max_dt\"}"
      ]
     },
     "execution_count": 5,
     "metadata": {},
     "output_type": "execute_result"
    }
   ],
   "source": [
    "cte_queries"
   ]
  },
  {
   "cell_type": "code",
   "execution_count": 6,
   "metadata": {},
   "outputs": [
    {
     "data": {
      "text/plain": [
       "[{'database_name': 'analytics',\n",
       "  'table_name': 'mbx_account_verticals',\n",
       "  'column_name': 'email'},\n",
       " {'database_name': 'analytics',\n",
       "  'table_name': 'mbx_account_verticals',\n",
       "  'column_name': 'mapbox_account_id'},\n",
       " {'database_name': 'analytics',\n",
       "  'table_name': 'mbx_account_verticals',\n",
       "  'column_name': 'salesforce_account_id'},\n",
       " {'database_name': 'analytics',\n",
       "  'table_name': 'mbx_account_verticals',\n",
       "  'column_name': 'vertical_source'},\n",
       " {'database_name': 'analytics',\n",
       "  'table_name': 'mbx_account_verticals',\n",
       "  'column_name': 'dt'},\n",
       " {'database_name': 'analytics',\n",
       "  'table_name': 'mbx_account_verticals',\n",
       "  'column_name': 'vertical'}]"
      ]
     },
     "execution_count": 6,
     "metadata": {},
     "output_type": "execute_result"
    }
   ],
   "source": [
    "query = cte_queries['main']\n",
    "columns_queried = formatter.match_queried_fields(query, db_fields)\n",
    "columns_queried\n"
   ]
  },
  {
   "cell_type": "code",
   "execution_count": null,
   "metadata": {},
   "outputs": [],
   "source": [
    "queried_cols"
   ]
  },
  {
   "cell_type": "code",
   "execution_count": null,
   "metadata": {},
   "outputs": [],
   "source": [
    "# _map_db_columns\n",
    "original_columns_list = []\n",
    "var_list = variables\n",
    "queried_cols = queried_columns\n",
    "\n",
    "for var in set(var_list):\n",
    "\n",
    "    var = var.strip(' ')\n",
    "\n",
    "    if var in table_alias_mapping.keys():\n",
    "        pass\n",
    "\n",
    "    else:\n",
    "        var_split = var.split('.')\n",
    "\n",
    "        if len(var_split) == 1:\n",
    "            if var_split[0] == '*':\n",
    "                for db_table in queried_cols:\n",
    "                    for k,v in db_table.items():\n",
    "                        for col in v:\n",
    "                            original_columns_list.append(\"{}.{}\".format(k, col))\n",
    "                \n",
    "            else:\n",
    "                for db_table in queried_cols:\n",
    "                    for k,v in db_table.items():\n",
    "                        if var in v:\n",
    "                            original_columns_list.append(\"{}.{}\".format(k, var))\n",
    "\n",
    "        elif len(var_split) == 2:\n",
    "\n",
    "            if var_split[0] in table_alias_mapping.keys():\n",
    "                db_table = table_alias_mapping[var_split[0]]\n",
    "                \n",
    "                for db_table_col in queried_cols:\n",
    "                    for k,v in db_table_col.items():\n",
    "\n",
    "                        if k == db_table and var_split[1] in v:\n",
    "                            original_columns_list.append(\"{}.{}\".format(k, var_split[1]))\n",
    "                        elif k == db_table and var_split[1] == '*':\n",
    "                            for col in v:\n",
    "                                original_columns_list.append(\"{}.{}\".format(k, col))    \n",
    "\n",
    "                                "
   ]
  },
  {
   "cell_type": "code",
   "execution_count": null,
   "metadata": {},
   "outputs": [],
   "source": [
    "original_columns_list"
   ]
  },
  {
   "cell_type": "code",
   "execution_count": null,
   "metadata": {},
   "outputs": [],
   "source": [
    "# _get_all_scanned_cols\n",
    "all_columns_scanned = []\n",
    "\n",
    "for _,cte_query in cte_queries.items():\n",
    "\n",
    "    table_alias_mapping = formatter.get_table_names(cte_query.split('\\n'))\n",
    "    variables = formatter._get_all_variables(cte_query)\n",
    "    queried_columns = formatter._get_queried_columns(table_alias_mapping, db_fields)\n",
    "    \n",
    "    if variables == []:\n",
    "        original_columns_list = []\n",
    "        for table in queried_columns:\n",
    "            for k,v in table.items():\n",
    "                for t in v:\n",
    "                    original_columns_list.append(\"{}.{}\".format(k,t))\n",
    "    else:\n",
    "        original_columns_list = formatter._map_db_columns(variables, queried_columns, table_alias_mapping)\n",
    "    \n",
    "    all_columns_scanned.extend(list(set(original_columns_list)))\n",
    "    \n",
    "    \n",
    "    "
   ]
  },
  {
   "cell_type": "code",
   "execution_count": null,
   "metadata": {},
   "outputs": [],
   "source": [
    "all_columns_scanned"
   ]
  },
  {
   "cell_type": "code",
   "execution_count": null,
   "metadata": {},
   "outputs": [],
   "source": [
    "# match_queried_fields\n",
    "all_columns_scanned = _get_all_scanned_cols(cte_queries, db_fields)\n",
    "\n",
    "column_payload = []\n",
    "for column in all_columns_scanned:\n",
    "    try:\n",
    "        col_split = column.split('.')\n",
    "        db, table, col = col_split[0], col_split[1], col_split[2]\n",
    "        row_payload = dict()\n",
    "        row_payload[\"database_name\"] = db\n",
    "        row_payload[\"table_name\"] = table \n",
    "        row_payload[\"column_name\"] = col\n",
    "        for arg, value in kwargs.items():\n",
    "            row_payload[arg] = value    \n",
    "\n",
    "        column_payload.append(row_payload)  \n",
    "    except:\n",
    "        pass"
   ]
  }
 ],
 "metadata": {
  "kernelspec": {
   "display_name": "Python 3",
   "language": "python",
   "name": "python3"
  },
  "language_info": {
   "codemirror_mode": {
    "name": "ipython",
    "version": 3
   },
   "file_extension": ".py",
   "mimetype": "text/x-python",
   "name": "python",
   "nbconvert_exporter": "python",
   "pygments_lexer": "ipython3",
   "version": "3.7.4"
  }
 },
 "nbformat": 4,
 "nbformat_minor": 2
}
