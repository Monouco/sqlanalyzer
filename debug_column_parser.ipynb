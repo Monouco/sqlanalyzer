{
 "cells": [
  {
   "cell_type": "code",
   "execution_count": 1,
   "metadata": {},
   "outputs": [],
   "source": [
    "from sqlanalyzer import column_parser\n",
    "import pandas as pd\n",
    "import sqlparse\n",
    "import re"
   ]
  },
  {
   "cell_type": "code",
   "execution_count": 2,
   "metadata": {},
   "outputs": [],
   "source": [
    "query = \"\"\"SELECT mapbox_account_id, vertical\n",
    "FROM (SELECT an_mbx_v.*, max(dt) over (partition by 'dummy') as max_dt from analytics.mbx_account_verticals an_mbx_v)\n",
    "where dt = max_dt\n",
    "\"\"\""
   ]
  },
  {
   "cell_type": "code",
   "execution_count": 3,
   "metadata": {},
   "outputs": [
    {
     "data": {
      "text/plain": [
       "{'main': \"SELECT mapbox_account_id,\\n       vertical\\nFROM\\n  (SELECT an_mbx_v.*,\\n          max(dt) OVER (PARTITION BY 'dummy') AS max_dt\\n   FROM analytics.mbx_account_verticals an_mbx_v)\\nWHERE dt = max_dt\"}"
      ]
     },
     "execution_count": 3,
     "metadata": {},
     "output_type": "execute_result"
    }
   ],
   "source": [
    "formatter = column_parser.Parser(query)\n",
    "formatted_query = formatter.format_query(query)\n",
    "cte_queries = formatter.parse_cte(formatted_query)\n",
    "cte_queries"
   ]
  },
  {
   "cell_type": "code",
   "execution_count": 4,
   "metadata": {},
   "outputs": [],
   "source": [
    "db_fields = pd.DataFrame({'db_table': 'analytics.mbx_account_verticals', \n",
    "            'all_columns': ['mapbox_account_id', 'email', 'salesforce_account_id', 'vertical', 'vertical_source', 'dt']})\n"
   ]
  },
  {
   "cell_type": "code",
   "execution_count": 5,
   "metadata": {},
   "outputs": [
    {
     "data": {
      "text/plain": [
       "{'main': \"SELECT mapbox_account_id,\\n       vertical\\nFROM\\n  (SELECT an_mbx_v.*,\\n          max(dt) OVER (PARTITION BY 'dummy') AS max_dt\\n   FROM analytics.mbx_account_verticals an_mbx_v)\\nWHERE dt = max_dt\"}"
      ]
     },
     "execution_count": 5,
     "metadata": {},
     "output_type": "execute_result"
    }
   ],
   "source": [
    "cte_queries"
   ]
  },
  {
   "cell_type": "code",
   "execution_count": 10,
   "metadata": {},
   "outputs": [
    {
     "data": {
      "text/plain": [
       "[{'database_name': 'analytics',\n",
       "  'table_name': 'mbx_account_verticals',\n",
       "  'column_name': 'mapbox_account_id'},\n",
       " {'database_name': 'analytics',\n",
       "  'table_name': 'mbx_account_verticals',\n",
       "  'column_name': 'dt'},\n",
       " {'database_name': 'analytics',\n",
       "  'table_name': 'mbx_account_verticals',\n",
       "  'column_name': 'vertical'}]"
      ]
     },
     "execution_count": 10,
     "metadata": {},
     "output_type": "execute_result"
    }
   ],
   "source": [
    "query = cte_queries['main']\n",
    "columns_queried = formatter.match_queried_fields(query, db_fields)\n",
    "columns_queried\n"
   ]
  },
  {
   "cell_type": "code",
   "execution_count": 7,
   "metadata": {},
   "outputs": [
    {
     "name": "stdout",
     "output_type": "stream",
     "text": [
      "1\n",
      "['an_mbx_v.*']\n",
      "1\n",
      "['*']\n"
     ]
    }
   ],
   "source": [
    "e = query.split('\\n')[3]\n",
    "\n",
    "print(sum(list(map(lambda x: '*' in x, re.findall(r\"([a-z].*[*])\", e)))))\n",
    "print(re.findall(r\"([a-z].*[*])\", e))\n",
    "print(sum(list(map(lambda x: '*' in x, re.findall(r\"([*])\", e)))))\n",
    "print(re.findall(r\"([*])\", e))\n"
   ]
  },
  {
   "cell_type": "code",
   "execution_count": 8,
   "metadata": {
    "scrolled": true
   },
   "outputs": [
    {
     "data": {
      "text/plain": [
       "['b.*']"
      ]
     },
     "execution_count": 8,
     "metadata": {},
     "output_type": "execute_result"
    }
   ],
   "source": [
    "re.findall(r\"([a-z].*[*])\", \"  b.* FROM\")"
   ]
  },
  {
   "cell_type": "code",
   "execution_count": 9,
   "metadata": {},
   "outputs": [
    {
     "data": {
      "text/plain": [
       "['*']"
      ]
     },
     "execution_count": 9,
     "metadata": {},
     "output_type": "execute_result"
    }
   ],
   "source": [
    "re.findall(r\"([*])\", \"    (SELECT *,\")"
   ]
  },
  {
   "cell_type": "code",
   "execution_count": null,
   "metadata": {},
   "outputs": [],
   "source": [
    "# _get_all_variables\n",
    "# def _get_all_variables(self, query):\n",
    "#     \"\"\"\n",
    "#     Get all variables including: table names, aliases, column names and aliases, and all other non-sql reserved words.\n",
    "#     Args:\n",
    "#         param (string): A string of any type of complete query; allows only complete query but can nest with CTE's and/or subqueries.\n",
    "#     Returns:\n",
    "#         list: A list of all variables within the query.\n",
    "#     \"\"\"\n",
    "all_variables = []\n",
    "\n",
    "for e in query.split('\\n'):\n",
    "    if sum(list(map(lambda x: '*' in x, re.findall(r\"([a-z].*[*])\", e)))):\n",
    "        variable = re.findall(r\"([a-z].*[*])\", e)\n",
    "    elif sum(list(map(lambda x: '*' in x, re.findall(r\"([*])\", e)))):\n",
    "        variable = re.findall(r\"([*])\", e)\n",
    "    else:\n",
    "        variable = [x.strip(' ') for x in re.findall(r\"[a-z_\\s.]+\", e)]\n",
    "\n",
    "    all_variables.extend(variable)\n",
    "\n",
    "#     return all_variables"
   ]
  },
  {
   "cell_type": "code",
   "execution_count": null,
   "metadata": {},
   "outputs": [],
   "source": [
    "all_variables"
   ]
  },
  {
   "cell_type": "code",
   "execution_count": null,
   "metadata": {},
   "outputs": [],
   "source": [
    "# _get_all_scanned_cols\n",
    "all_columns_scanned = []\n",
    "\n",
    "cte_query = cte_queries['main']\n",
    "meta_cols = db_fields\n",
    "\n",
    "table_alias_mapping = formatter.get_table_names(cte_query.split('\\n'))\n",
    "# variables = formatter._get_all_variables(cte_query)\n",
    "variables = all_variables\n",
    "queried_columns = formatter._get_queried_columns(table_alias_mapping, meta_cols)\n",
    "print(table_alias_mapping)\n",
    "print(variables)\n",
    "print(queried_columns)\n"
   ]
  },
  {
   "cell_type": "code",
   "execution_count": null,
   "metadata": {},
   "outputs": [],
   "source": [
    "for var in var_list:\n",
    "    var_split = var.split('.')\n",
    "    print(var_split, len(var_split))\n",
    "    if var_split[0] in table_alias_mapping.keys():\n",
    "        db_table = table_alias_mapping[var_split[0]]\n",
    "        print(db_table)\n",
    "#     else:\n",
    "#         print(var_split)\n",
    "    "
   ]
  },
  {
   "cell_type": "code",
   "execution_count": null,
   "metadata": {},
   "outputs": [],
   "source": [
    "if var_split[0] in table_alias_mapping.keys():\n",
    "    db_table = table_alias_mapping[var_split[0]]\n",
    "    print(db_table)\n",
    "    "
   ]
  },
  {
   "cell_type": "code",
   "execution_count": null,
   "metadata": {},
   "outputs": [],
   "source": [
    "queried_cols"
   ]
  },
  {
   "cell_type": "code",
   "execution_count": null,
   "metadata": {},
   "outputs": [],
   "source": [
    "# for db_table_col in queried_cols:\n",
    "db_table_col = queried_cols[0]\n",
    "for k,v in db_table_col.items():\n",
    "    if k == db_table and var_split[1] in v:\n",
    "        original_columns_list.append(\"{}.{}\".format(k, var_split[1]))\n",
    "            "
   ]
  },
  {
   "cell_type": "code",
   "execution_count": null,
   "metadata": {},
   "outputs": [],
   "source": [
    "original_columns_list"
   ]
  },
  {
   "cell_type": "code",
   "execution_count": null,
   "metadata": {},
   "outputs": [],
   "source": [
    "# var_split = var.split('.')\n",
    "\n",
    "# if len(var_split) == 1:\n",
    "#     for db_table in queried_cols:\n",
    "#         for k,v in db_table.items():\n",
    "#             if var in v:\n",
    "#                 original_columns_list.append(\"{}.{}\".format(k, var))\n",
    "\n",
    "# elif len(var_split) == 2:\n",
    "\n",
    "   "
   ]
  },
  {
   "cell_type": "code",
   "execution_count": null,
   "metadata": {},
   "outputs": [],
   "source": [
    "# _map_db_columns\n",
    "var_list, queried_cols, table_alias_mapping = variables, queried_columns, table_alias_mapping\n",
    "\n",
    "\n",
    "original_columns_list = []\n",
    "\n",
    "for var in set(var_list):\n",
    "\n",
    "    var = var.strip(' ')\n",
    "\n",
    "    if var in table_alias_mapping.keys():\n",
    "        pass\n",
    "\n",
    "    else:\n",
    "        var_split = var.split('.')\n",
    "\n",
    "        if len(var_split) == 1:\n",
    "            for db_table in queried_cols:\n",
    "                for k,v in db_table.items():\n",
    "                    if var in v:\n",
    "                        original_columns_list.append(\"{}.{}\".format(k, var))\n",
    "\n",
    "        elif len(var_split) == 2:\n",
    "\n",
    "            if var_split[0] in table_alias_mapping.keys():\n",
    "                db_table = table_alias_mapping[var_split[0]]\n",
    "               \n",
    "                for db_table_col in queried_cols:\n",
    "                    for k,v in db_table_col.items():\n",
    "\n",
    "                        if k == db_table and var_split[1] in v:\n",
    "                            original_columns_list.append(\"{}.{}\".format(k, var_split[1]))\n",
    "                        elif k == db_table and var_split[1] == '*':\n",
    "                            for col in v:\n",
    "                                original_columns_list.append(\"{}.{}\".format(k, col))     \n"
   ]
  },
  {
   "cell_type": "code",
   "execution_count": null,
   "metadata": {},
   "outputs": [],
   "source": [
    "list(set(original_columns_list))"
   ]
  },
  {
   "cell_type": "code",
   "execution_count": null,
   "metadata": {},
   "outputs": [],
   "source": [
    "all_columns_scanned = []\n",
    "# if variables == []:\n",
    "#     original_columns_list = []\n",
    "#     for table in queried_columns:\n",
    "#         for k,v in table.items():\n",
    "#             for t in v:\n",
    "#                 original_columns_list.append(\"{}.{}\".format(k,t))\n",
    "# else:\n",
    "original_columns_list = formatter._map_db_columns(variables, queried_columns, table_alias_mapping)\n",
    "        \n",
    "all_columns_scanned.extend(list(set(original_columns_list)))\n"
   ]
  },
  {
   "cell_type": "code",
   "execution_count": null,
   "metadata": {},
   "outputs": [],
   "source": []
  },
  {
   "cell_type": "code",
   "execution_count": null,
   "metadata": {},
   "outputs": [],
   "source": [
    "# all_columns_scanned = _get_all_scanned_cols(cte_queries, db_fields)\n",
    "all_columns_scanned\n"
   ]
  },
  {
   "cell_type": "code",
   "execution_count": null,
   "metadata": {},
   "outputs": [],
   "source": [
    "column_payload = []\n",
    "for column in all_columns_scanned:\n",
    "    try:\n",
    "        col_split = column.split('.')\n",
    "        db, table, col = col_split[0], col_split[1], col_split[2]\n",
    "        row_payload = dict()\n",
    "        row_payload[\"database_name\"] = db\n",
    "        row_payload[\"table_name\"] = table \n",
    "        row_payload[\"column_name\"] = col\n",
    "        for arg, value in kwargs.items():\n",
    "            row_payload[arg] = value    \n",
    "\n",
    "        column_payload.append(row_payload)  \n",
    "    except:\n",
    "        pass"
   ]
  },
  {
   "cell_type": "code",
   "execution_count": null,
   "metadata": {},
   "outputs": [],
   "source": [
    "column_payload"
   ]
  },
  {
   "cell_type": "code",
   "execution_count": null,
   "metadata": {},
   "outputs": [],
   "source": []
  }
 ],
 "metadata": {
  "kernelspec": {
   "display_name": "Python 3",
   "language": "python",
   "name": "python3"
  },
  "language_info": {
   "codemirror_mode": {
    "name": "ipython",
    "version": 3
   },
   "file_extension": ".py",
   "mimetype": "text/x-python",
   "name": "python",
   "nbconvert_exporter": "python",
   "pygments_lexer": "ipython3",
   "version": "3.7.4"
  }
 },
 "nbformat": 4,
 "nbformat_minor": 2
}
