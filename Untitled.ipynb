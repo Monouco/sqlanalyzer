{
 "cells": [
  {
   "cell_type": "code",
   "execution_count": 1,
   "metadata": {},
   "outputs": [],
   "source": [
    "from sqlanalyzer import column_parser, unbundle\n",
    "import re\n",
    "import json"
   ]
  },
  {
   "cell_type": "code",
   "execution_count": 2,
   "metadata": {},
   "outputs": [],
   "source": [
    "query = \"\"\"SELECT a.*,        b.*,        c.*,        d.* FROM   (SELECT DISTINCT anonymous_id,                    user_id    FROM mapbox_customer_data.segment_identifies    WHERE dt >= '2018-07-01'      AND anonymous_id IS NOT NULL      AND user_id IS NOT NULL ) a LEFT JOIN   (SELECT id,           email,           created    FROM mapbox_customer_data.accounts    WHERE cast(dt AS DATE) = CURRENT_DATE - INTERVAL '1' DAY ) b ON a.user_id = b.id LEFT JOIN   (SELECT anonymous_id AS anon_id_ad,           context_campaign_name,           min(TIMESTAMP) AS min_exposure    FROM mapbox_customer_data.segment_pages    WHERE dt >= '2018-07-01'      AND context_campaign_name IS NOT NULL    GROUP BY 1,             2) c ON a.anonymous_id = c.anon_id_ad LEFT JOIN   (SELECT DISTINCT anonymous_id AS anon_id_event,                    original_timestamp,                    event,                    context_traits_email    FROM mapbox_customer_data.segment_tracks    WHERE dt >= '2018-07-01'      AND event LIKE 'submitted_%form'      AND context_traits_email IS NOT NULL ) d ON a.anonymous_id = d.anon_id_event LEFT JOIN e ON e.user_id = a.user_id \n",
    "\"\"\""
   ]
  },
  {
   "cell_type": "code",
   "execution_count": 3,
   "metadata": {},
   "outputs": [],
   "source": [
    "formatter = column_parser.Parser(query)\n",
    "formatted_query = formatter.format_query(query)\n",
    "unbundled = unbundle.Unbundle(formatted_query)"
   ]
  },
  {
   "cell_type": "code",
   "execution_count": 4,
   "metadata": {},
   "outputs": [
    {
     "data": {
      "text/plain": [
       "True"
      ]
     },
     "execution_count": 4,
     "metadata": {},
     "output_type": "execute_result"
    }
   ],
   "source": [
    "unbundled.has_child(query)"
   ]
  },
  {
   "cell_type": "code",
   "execution_count": 5,
   "metadata": {},
   "outputs": [],
   "source": [
    "formatter = column_parser.Parser(query)\n",
    "formatted_query = formatter.format_query(query)\n",
    "query_list = formatted_query.split('\\n')\n",
    "\n"
   ]
  },
  {
   "cell_type": "code",
   "execution_count": 6,
   "metadata": {},
   "outputs": [
    {
     "data": {
      "text/plain": [
       "(['SELECT a.*,', '       b.*,', '       c.*,', '       d.*'],\n",
       " ['FROM',\n",
       "  '  (SELECT DISTINCT anonymous_id,',\n",
       "  '                   user_id',\n",
       "  '   FROM mapbox_customer_data.segment_identifies',\n",
       "  \"   WHERE dt >= '2018-07-01'\",\n",
       "  '     AND anonymous_id IS NOT NULL',\n",
       "  '     AND user_id IS NOT NULL ) a',\n",
       "  'LEFT JOIN',\n",
       "  '  (SELECT id,',\n",
       "  '          email,',\n",
       "  '          created',\n",
       "  '   FROM mapbox_customer_data.accounts',\n",
       "  \"   WHERE cast(dt AS DATE) = CURRENT_DATE - INTERVAL '1' DAY ) b ON a.user_id = b.id\",\n",
       "  'LEFT JOIN',\n",
       "  '  (SELECT anonymous_id AS anon_id_ad,',\n",
       "  '          context_campaign_name,',\n",
       "  '          min(TIMESTAMP) AS min_exposure',\n",
       "  '   FROM mapbox_customer_data.segment_pages',\n",
       "  \"   WHERE dt >= '2018-07-01'\",\n",
       "  '     AND context_campaign_name IS NOT NULL',\n",
       "  '   GROUP BY 1,',\n",
       "  '            2) c ON a.anonymous_id = c.anon_id_ad',\n",
       "  'LEFT JOIN',\n",
       "  '  (SELECT DISTINCT anonymous_id AS anon_id_event,',\n",
       "  '                   original_timestamp,',\n",
       "  '                   event,',\n",
       "  '                   context_traits_email',\n",
       "  '   FROM mapbox_customer_data.segment_tracks',\n",
       "  \"   WHERE dt >= '2018-07-01'\",\n",
       "  \"     AND event LIKE 'submitted_%form'\",\n",
       "  '     AND context_traits_email IS NOT NULL ) d ON a.anonymous_id = d.anon_id_event'])"
      ]
     },
     "execution_count": 6,
     "metadata": {},
     "output_type": "execute_result"
    }
   ],
   "source": [
    "main_query, copy_query_list = unbundled.get_sub_query(query_list)\n",
    "main_query, copy_query_list"
   ]
  },
  {
   "cell_type": "code",
   "execution_count": 7,
   "metadata": {},
   "outputs": [],
   "source": [
    "sub_query_list_copy = copy_query_list\n",
    "sub_query = 'abc'\n",
    "sub_queries = []\n",
    "\n",
    "# while sub_query:\n",
    "    "
   ]
  },
  {
   "cell_type": "code",
   "execution_count": 8,
   "metadata": {},
   "outputs": [
    {
     "data": {
      "text/plain": [
       "(\"FROM   (SELECT DISTINCT anonymous_id,                    user_id    FROM mapbox_customer_data.segment_identifies    WHERE dt >= '2018-07-01'      AND anonymous_id IS NOT NULL      AND user_id IS NOT NULL ) a\",\n",
       " ['LEFT JOIN',\n",
       "  '  (SELECT id,',\n",
       "  '          email,',\n",
       "  '          created',\n",
       "  '   FROM mapbox_customer_data.accounts',\n",
       "  \"   WHERE cast(dt AS DATE) = CURRENT_DATE - INTERVAL '1' DAY ) b ON a.user_id = b.id\",\n",
       "  'LEFT JOIN',\n",
       "  '  (SELECT anonymous_id AS anon_id_ad,',\n",
       "  '          context_campaign_name,',\n",
       "  '          min(TIMESTAMP) AS min_exposure',\n",
       "  '   FROM mapbox_customer_data.segment_pages',\n",
       "  \"   WHERE dt >= '2018-07-01'\",\n",
       "  '     AND context_campaign_name IS NOT NULL',\n",
       "  '   GROUP BY 1,',\n",
       "  '            2) c ON a.anonymous_id = c.anon_id_ad',\n",
       "  'LEFT JOIN',\n",
       "  '  (SELECT DISTINCT anonymous_id AS anon_id_event,',\n",
       "  '                   original_timestamp,',\n",
       "  '                   event,',\n",
       "  '                   context_traits_email',\n",
       "  '   FROM mapbox_customer_data.segment_tracks',\n",
       "  \"   WHERE dt >= '2018-07-01'\",\n",
       "  \"     AND event LIKE 'submitted_%form'\",\n",
       "  '     AND context_traits_email IS NOT NULL ) d ON a.anonymous_id = d.anon_id_event'])"
      ]
     },
     "execution_count": 8,
     "metadata": {},
     "output_type": "execute_result"
    }
   ],
   "source": [
    "sub_join, sub_query_list_copy = unbundled._divider(sub_query_list_copy)\n",
    "sub_query = ' '.join(sub_join)\n",
    "sub_query, sub_query_list_copy"
   ]
  },
  {
   "cell_type": "markdown",
   "metadata": {},
   "source": [
    "# stitch_main"
   ]
  },
  {
   "cell_type": "code",
   "execution_count": 14,
   "metadata": {},
   "outputs": [
    {
     "data": {
      "text/plain": [
       "\"FROM   (SELECT DISTINCT anonymous_id,                    user_id    FROM mapbox_customer_data.segment_identifies    WHERE dt >= '2018-07-01'      AND anonymous_id IS NOT NULL      AND user_id IS NOT NULL ) a\""
      ]
     },
     "execution_count": 14,
     "metadata": {},
     "output_type": "execute_result"
    }
   ],
   "source": [
    "sub_query"
   ]
  },
  {
   "cell_type": "code",
   "execution_count": 13,
   "metadata": {
    "scrolled": true
   },
   "outputs": [
    {
     "data": {
      "text/plain": [
       "False"
      ]
     },
     "execution_count": 13,
     "metadata": {},
     "output_type": "execute_result"
    }
   ],
   "source": [
    "sub_query_dict = {}\n",
    "unbundled.has_child(sub_query)"
   ]
  },
  {
   "cell_type": "code",
   "execution_count": 11,
   "metadata": {},
   "outputs": [],
   "source": [
    "if unbundled.has_child(sub_query):\n",
    "    main_query, sub_query_dict = unbundled._parse_alias(main_query, sub_query)\n",
    "else:\n",
    "    main_query.append(sub_query)"
   ]
  },
  {
   "cell_type": "code",
   "execution_count": 12,
   "metadata": {},
   "outputs": [
    {
     "data": {
      "text/plain": [
       "['SELECT a.*,',\n",
       " '       b.*,',\n",
       " '       c.*,',\n",
       " '       d.*',\n",
       " \"FROM   (SELECT DISTINCT anonymous_id,                    user_id    FROM mapbox_customer_data.segment_identifies    WHERE dt >= '2018-07-01'      AND anonymous_id IS NOT NULL      AND user_id IS NOT NULL ) a\",\n",
       " \"FROM   (SELECT DISTINCT anonymous_id,                    user_id    FROM mapbox_customer_data.segment_identifies    WHERE dt >= '2018-07-01'      AND anonymous_id IS NOT NULL      AND user_id IS NOT NULL ) a\"]"
      ]
     },
     "execution_count": 12,
     "metadata": {},
     "output_type": "execute_result"
    }
   ],
   "source": [
    "main_query"
   ]
  },
  {
   "cell_type": "code",
   "execution_count": 10,
   "metadata": {},
   "outputs": [
    {
     "data": {
      "text/plain": [
       "(['SELECT a.*,',\n",
       "  '       b.*,',\n",
       "  '       c.*,',\n",
       "  '       d.*',\n",
       "  \"FROM   (SELECT DISTINCT anonymous_id,                    user_id    FROM mapbox_customer_data.segment_identifies    WHERE dt >= '2018-07-01'      AND anonymous_id IS NOT NULL      AND user_id IS NOT NULL ) a\"],\n",
       " {})"
      ]
     },
     "execution_count": 10,
     "metadata": {},
     "output_type": "execute_result"
    }
   ],
   "source": [
    "main_query, sub_query_dict = unbundled._stitch_main(main_query, sub_query)\n",
    "main_query, sub_query_dict"
   ]
  },
  {
   "cell_type": "code",
   "execution_count": null,
   "metadata": {},
   "outputs": [],
   "source": [
    "if sub_query_dict != {}: sub_queries.append(sub_query_dict)"
   ]
  },
  {
   "cell_type": "code",
   "execution_count": null,
   "metadata": {},
   "outputs": [],
   "source": []
  },
  {
   "cell_type": "code",
   "execution_count": null,
   "metadata": {},
   "outputs": [],
   "source": []
  },
  {
   "cell_type": "code",
   "execution_count": null,
   "metadata": {},
   "outputs": [],
   "source": [
    "# main_query, sub_queries = unbundled.separator(copy_query_list, main_query)\n",
    "# main_query, sub_queries"
   ]
  },
  {
   "cell_type": "code",
   "execution_count": null,
   "metadata": {},
   "outputs": [],
   "source": []
  },
  {
   "cell_type": "code",
   "execution_count": null,
   "metadata": {},
   "outputs": [],
   "source": []
  },
  {
   "cell_type": "code",
   "execution_count": null,
   "metadata": {},
   "outputs": [],
   "source": [
    "# query_dict, sub_queries = unbundled.restructure_subquery({}, 'main', query)\n",
    "main_query, sub_queries = unbundled.delevel(query)"
   ]
  },
  {
   "cell_type": "code",
   "execution_count": null,
   "metadata": {},
   "outputs": [],
   "source": [
    "main_query, sub_queries"
   ]
  },
  {
   "cell_type": "code",
   "execution_count": null,
   "metadata": {},
   "outputs": [],
   "source": []
  }
 ],
 "metadata": {
  "kernelspec": {
   "display_name": "Python 3",
   "language": "python",
   "name": "python3"
  },
  "language_info": {
   "codemirror_mode": {
    "name": "ipython",
    "version": 3
   },
   "file_extension": ".py",
   "mimetype": "text/x-python",
   "name": "python",
   "nbconvert_exporter": "python",
   "pygments_lexer": "ipython3",
   "version": "3.7.4"
  }
 },
 "nbformat": 4,
 "nbformat_minor": 2
}
