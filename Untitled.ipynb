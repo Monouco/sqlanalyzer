{
 "cells": [
  {
   "cell_type": "code",
   "execution_count": 93,
   "metadata": {},
   "outputs": [],
   "source": [
    "def unnest_query_list(query_list):\n",
    "    preprocess_list = []\n",
    "    \n",
    "    for q in query_list:\n",
    "        for alias, query in q.items():\n",
    "            \n",
    "            if isinstance(query, str):\n",
    "                preprocess_list.append(query)\n",
    "            else:\n",
    "                \n",
    "                for sub_q in query:\n",
    "                    sub_list = []\n",
    "                    for sub_alias, sub_query in sub_q.items():\n",
    "                        \n",
    "                        if isinstance(sub_query, str):\n",
    "                            sub_list.append(sub_query)\n",
    "                            \n",
    "                        else:\n",
    "                            for sub_sub_q in sub_query:\n",
    "                                for sub_sub_alias, sub_sub_query in sub_sub_q.items():\n",
    "                                    \n",
    "                                    if isinstance(sub_sub_query, str):\n",
    "                                        sub_list.append(sub_sub_query)\n",
    "                                        \n",
    "                    preprocess_list.extend(sub_list)\n",
    "                    \n",
    "    return preprocess_list\n"
   ]
  },
  {
   "cell_type": "markdown",
   "metadata": {},
   "source": [
    "## purely nested"
   ]
  },
  {
   "cell_type": "code",
   "execution_count": 94,
   "metadata": {},
   "outputs": [],
   "source": [
    "query_list = [{'level_1_main': 'SELECT * FROM no alias '},\n",
    " {'level_2_main': 'SELECT a.*,        b.* WHERE context_campaign_name IS NOT NULL FROM a LEFT JOIN b ON a.user_id = b.id '},\n",
    " {'a': \"SELECT DISTINCT anonymous_id, user_id FROM customer_data.segment_identifies WHERE dt >= '2018-07-01'\"},\n",
    " {'b': 'SELECT id, email, created FROM customer_data.accounts'}]"
   ]
  },
  {
   "cell_type": "code",
   "execution_count": 95,
   "metadata": {},
   "outputs": [
    {
     "data": {
      "text/plain": [
       "[{'level_1_main': 'SELECT * FROM no alias '},\n",
       " {'level_2_main': 'SELECT a.*,        b.* WHERE context_campaign_name IS NOT NULL FROM a LEFT JOIN b ON a.user_id = b.id '},\n",
       " {'a': \"SELECT DISTINCT anonymous_id, user_id FROM customer_data.segment_identifies WHERE dt >= '2018-07-01'\"},\n",
       " {'b': 'SELECT id, email, created FROM customer_data.accounts'}]"
      ]
     },
     "execution_count": 95,
     "metadata": {},
     "output_type": "execute_result"
    }
   ],
   "source": [
    "query_list"
   ]
  },
  {
   "cell_type": "code",
   "execution_count": 96,
   "metadata": {},
   "outputs": [
    {
     "data": {
      "text/plain": [
       "['SELECT * FROM no alias ',\n",
       " 'SELECT a.*,        b.* WHERE context_campaign_name IS NOT NULL FROM a LEFT JOIN b ON a.user_id = b.id ',\n",
       " \"SELECT DISTINCT anonymous_id, user_id FROM customer_data.segment_identifies WHERE dt >= '2018-07-01'\",\n",
       " 'SELECT id, email, created FROM customer_data.accounts']"
      ]
     },
     "execution_count": 96,
     "metadata": {},
     "output_type": "execute_result"
    }
   ],
   "source": [
    "unnest_query_list(query_list)"
   ]
  },
  {
   "cell_type": "code",
   "execution_count": null,
   "metadata": {},
   "outputs": [],
   "source": []
  },
  {
   "cell_type": "markdown",
   "metadata": {},
   "source": [
    "## CTE with nested"
   ]
  },
  {
   "cell_type": "code",
   "execution_count": 97,
   "metadata": {},
   "outputs": [],
   "source": [
    "query_list = [{'opportunity_product_rev': \"SELECT opportunity_id,\\n          op.product_2_id,\\n          p.name AS product_name,\\n          COALESCE(CAST(quantity AS DOUBLE) * CAST(list_price AS DOUBLE), 0) AS total_price,\\n          netsuite_conn_netsuite_item_key_id_c AS netsuite_conn_net_suite_item_key_id_c,\\n          COUNT(netsuite_conn_netsuite_item_key_id_c) OVER (PARTITION BY opportunity_id) AS num_netsuite_items\\n   FROM sfdc.opportunity_product op\\n   LEFT JOIN sfdc.products p ON op.product_2_id = p.id\\n   AND p.dt = '{run_date}'\\n   WHERE op.dt = '{run_date}'\\n     AND opportunity_id IS NOT NULL\\n     AND product_name_c IS NOT NULL\\n     AND op.is_deleted = FALSE \"},\n",
    " {'arr_account': [{'level_1_main': \"SELECT account_id,        service_month,        arr_a,        prev_arr_a,        CASE            WHEN arr_a > 0                 AND prev_arr_a = 0 THEN 'new'            WHEN arr_a = 0                 AND prev_arr_a > 0 THEN 'churn'            WHEN arr_a > 0                 AND arr_a < prev_arr_a THEN 'contraction'            WHEN arr_a > 0                 AND arr_a > prev_arr_a THEN 'expansion'            WHEN arr_a > 0                 AND arr_a = prev_arr_a                 AND opportunity_id_a <> prev_opportunity_id_a THEN 'renewal'            WHEN arr_a > 0                 AND arr_a = prev_arr_a                 AND opportunity_id_a = prev_opportunity_id_a THEN 'active'            WHEN arr_a = 0                 AND prev_arr_a = 0 THEN 'not_active'            ELSE 'unknown'        END AS account_status FROM c \"},\n",
    "   {'c': 'SELECT account_id,        service_month,        ROUND(arr_a, 2) AS arr_a,        ROUND(COALESCE(LAG(arr_a) OVER (PARTITION BY account_id                                        ORDER BY service_month ASC), 0), 2) AS prev_arr_a,        opportunity_id_a,        prev_opportunity_id_a FROM b '},\n",
    "   {'b': \"SELECT account_id,        service_month,        SUM(arr_a) OVER (PARTITION BY account_id                         ORDER BY service_month ASC) AS arr_a,                        CONCAT_WS(',', opportunity_id_a) AS opportunity_id_a,                        LAG(CONCAT_WS(',', opportunity_id_a)) OVER (PARTITION BY account_id                                                                    ORDER BY service_month ASC) AS prev_opportunity_id_a FROM a \"},\n",
    "   {'a': 'SELECT aa.account_id,        aa.service_month,        arr_a,        opportunity_id_a FROM aa LEFT JOIN bb ON aa.account_id = bb.account_id '},\n",
    "   {'aa': 'SELECT account_id, service_month, SUM(COALESCE(arr_p, 0) - COALESCE(prev_arr_p, 0)) AS arr_a FROM arr_product_status_mid GROUP BY account_id, service_month'},\n",
    "   {'bb': 'SELECT account_id, service_month, COLLECT_SET(opp) AS opportunity_id_a FROM arr_product_status_mid LATERAL VIEW EXPLODE (opportunity_id) t AS opp GROUP BY account_id, service_month'}]},\n",
    " {'main_query': 'SELECT service_month,\\n       account_id,\\n       account_name,\\n       mapped_product,\\n       mid_product,\\n       product_name,\\n       account_status,\\n       mapped_status,\\n       mid_status,\\n       product_status,\\n       arr_p,\\n       cum_arr_p,\\n       prev_cum_arr_p,\\n       opportunity_id_p,\\n       prev_opportunity_id_p,\\n       opportunity_id_nw\\nFROM arr_full_status'}]\n"
   ]
  },
  {
   "cell_type": "code",
   "execution_count": 98,
   "metadata": {
    "scrolled": false
   },
   "outputs": [
    {
     "data": {
      "text/plain": [
       "[{'opportunity_product_rev': \"SELECT opportunity_id,\\n          op.product_2_id,\\n          p.name AS product_name,\\n          COALESCE(CAST(quantity AS DOUBLE) * CAST(list_price AS DOUBLE), 0) AS total_price,\\n          netsuite_conn_netsuite_item_key_id_c AS netsuite_conn_net_suite_item_key_id_c,\\n          COUNT(netsuite_conn_netsuite_item_key_id_c) OVER (PARTITION BY opportunity_id) AS num_netsuite_items\\n   FROM sfdc.opportunity_product op\\n   LEFT JOIN sfdc.products p ON op.product_2_id = p.id\\n   AND p.dt = '{run_date}'\\n   WHERE op.dt = '{run_date}'\\n     AND opportunity_id IS NOT NULL\\n     AND product_name_c IS NOT NULL\\n     AND op.is_deleted = FALSE \"},\n",
       " {'arr_account': [{'level_1_main': \"SELECT account_id,        service_month,        arr_a,        prev_arr_a,        CASE            WHEN arr_a > 0                 AND prev_arr_a = 0 THEN 'new'            WHEN arr_a = 0                 AND prev_arr_a > 0 THEN 'churn'            WHEN arr_a > 0                 AND arr_a < prev_arr_a THEN 'contraction'            WHEN arr_a > 0                 AND arr_a > prev_arr_a THEN 'expansion'            WHEN arr_a > 0                 AND arr_a = prev_arr_a                 AND opportunity_id_a <> prev_opportunity_id_a THEN 'renewal'            WHEN arr_a > 0                 AND arr_a = prev_arr_a                 AND opportunity_id_a = prev_opportunity_id_a THEN 'active'            WHEN arr_a = 0                 AND prev_arr_a = 0 THEN 'not_active'            ELSE 'unknown'        END AS account_status FROM c \"},\n",
       "   {'c': 'SELECT account_id,        service_month,        ROUND(arr_a, 2) AS arr_a,        ROUND(COALESCE(LAG(arr_a) OVER (PARTITION BY account_id                                        ORDER BY service_month ASC), 0), 2) AS prev_arr_a,        opportunity_id_a,        prev_opportunity_id_a FROM b '},\n",
       "   {'b': \"SELECT account_id,        service_month,        SUM(arr_a) OVER (PARTITION BY account_id                         ORDER BY service_month ASC) AS arr_a,                        CONCAT_WS(',', opportunity_id_a) AS opportunity_id_a,                        LAG(CONCAT_WS(',', opportunity_id_a)) OVER (PARTITION BY account_id                                                                    ORDER BY service_month ASC) AS prev_opportunity_id_a FROM a \"},\n",
       "   {'a': 'SELECT aa.account_id,        aa.service_month,        arr_a,        opportunity_id_a FROM aa LEFT JOIN bb ON aa.account_id = bb.account_id '},\n",
       "   {'aa': 'SELECT account_id, service_month, SUM(COALESCE(arr_p, 0) - COALESCE(prev_arr_p, 0)) AS arr_a FROM arr_product_status_mid GROUP BY account_id, service_month'},\n",
       "   {'bb': 'SELECT account_id, service_month, COLLECT_SET(opp) AS opportunity_id_a FROM arr_product_status_mid LATERAL VIEW EXPLODE (opportunity_id) t AS opp GROUP BY account_id, service_month'}]},\n",
       " {'main_query': 'SELECT service_month,\\n       account_id,\\n       account_name,\\n       mapped_product,\\n       mid_product,\\n       product_name,\\n       account_status,\\n       mapped_status,\\n       mid_status,\\n       product_status,\\n       arr_p,\\n       cum_arr_p,\\n       prev_cum_arr_p,\\n       opportunity_id_p,\\n       prev_opportunity_id_p,\\n       opportunity_id_nw\\nFROM arr_full_status'}]"
      ]
     },
     "execution_count": 98,
     "metadata": {},
     "output_type": "execute_result"
    }
   ],
   "source": [
    "query_list"
   ]
  },
  {
   "cell_type": "code",
   "execution_count": 99,
   "metadata": {},
   "outputs": [
    {
     "data": {
      "text/plain": [
       "[\"SELECT opportunity_id,\\n          op.product_2_id,\\n          p.name AS product_name,\\n          COALESCE(CAST(quantity AS DOUBLE) * CAST(list_price AS DOUBLE), 0) AS total_price,\\n          netsuite_conn_netsuite_item_key_id_c AS netsuite_conn_net_suite_item_key_id_c,\\n          COUNT(netsuite_conn_netsuite_item_key_id_c) OVER (PARTITION BY opportunity_id) AS num_netsuite_items\\n   FROM sfdc.opportunity_product op\\n   LEFT JOIN sfdc.products p ON op.product_2_id = p.id\\n   AND p.dt = '{run_date}'\\n   WHERE op.dt = '{run_date}'\\n     AND opportunity_id IS NOT NULL\\n     AND product_name_c IS NOT NULL\\n     AND op.is_deleted = FALSE \",\n",
       " \"SELECT account_id,        service_month,        arr_a,        prev_arr_a,        CASE            WHEN arr_a > 0                 AND prev_arr_a = 0 THEN 'new'            WHEN arr_a = 0                 AND prev_arr_a > 0 THEN 'churn'            WHEN arr_a > 0                 AND arr_a < prev_arr_a THEN 'contraction'            WHEN arr_a > 0                 AND arr_a > prev_arr_a THEN 'expansion'            WHEN arr_a > 0                 AND arr_a = prev_arr_a                 AND opportunity_id_a <> prev_opportunity_id_a THEN 'renewal'            WHEN arr_a > 0                 AND arr_a = prev_arr_a                 AND opportunity_id_a = prev_opportunity_id_a THEN 'active'            WHEN arr_a = 0                 AND prev_arr_a = 0 THEN 'not_active'            ELSE 'unknown'        END AS account_status FROM c \",\n",
       " 'SELECT account_id,        service_month,        ROUND(arr_a, 2) AS arr_a,        ROUND(COALESCE(LAG(arr_a) OVER (PARTITION BY account_id                                        ORDER BY service_month ASC), 0), 2) AS prev_arr_a,        opportunity_id_a,        prev_opportunity_id_a FROM b ',\n",
       " \"SELECT account_id,        service_month,        SUM(arr_a) OVER (PARTITION BY account_id                         ORDER BY service_month ASC) AS arr_a,                        CONCAT_WS(',', opportunity_id_a) AS opportunity_id_a,                        LAG(CONCAT_WS(',', opportunity_id_a)) OVER (PARTITION BY account_id                                                                    ORDER BY service_month ASC) AS prev_opportunity_id_a FROM a \",\n",
       " 'SELECT aa.account_id,        aa.service_month,        arr_a,        opportunity_id_a FROM aa LEFT JOIN bb ON aa.account_id = bb.account_id ',\n",
       " 'SELECT account_id, service_month, SUM(COALESCE(arr_p, 0) - COALESCE(prev_arr_p, 0)) AS arr_a FROM arr_product_status_mid GROUP BY account_id, service_month',\n",
       " 'SELECT account_id, service_month, COLLECT_SET(opp) AS opportunity_id_a FROM arr_product_status_mid LATERAL VIEW EXPLODE (opportunity_id) t AS opp GROUP BY account_id, service_month',\n",
       " 'SELECT service_month,\\n       account_id,\\n       account_name,\\n       mapped_product,\\n       mid_product,\\n       product_name,\\n       account_status,\\n       mapped_status,\\n       mid_status,\\n       product_status,\\n       arr_p,\\n       cum_arr_p,\\n       prev_cum_arr_p,\\n       opportunity_id_p,\\n       prev_opportunity_id_p,\\n       opportunity_id_nw\\nFROM arr_full_status']"
      ]
     },
     "execution_count": 99,
     "metadata": {},
     "output_type": "execute_result"
    }
   ],
   "source": [
    "unnest_query_list(query_list)"
   ]
  },
  {
   "cell_type": "code",
   "execution_count": null,
   "metadata": {},
   "outputs": [],
   "source": []
  },
  {
   "cell_type": "markdown",
   "metadata": {},
   "source": [
    "## nested with CTE"
   ]
  },
  {
   "cell_type": "code",
   "execution_count": 100,
   "metadata": {},
   "outputs": [],
   "source": [
    "query_list = [{'level_1_main': 'SELECT * FROM T '},\n",
    " {'T': 'SELECT * FROM custom_sql_query '},\n",
    " {'custom_sql_query': [{'reg_users': [{'level_1_main': 'SELECT * WHERE context_campaign_name IS NOT NULL FROM no alias '},\n",
    "     {'level_2_main': 'SELECT a.*,        b.*,        c.*,        d.* FROM a LEFT JOIN b ON a.user_id = b.id LEFT JOIN c ON a.anonymous_id = c.anon_id_ad LEFT JOIN d ON a.anonymous_id = d.anon_id_event '},\n",
    "     {'a': \"SELECT DISTINCT anonymous_id, user_id FROM mapbox_customer_data.segment_identifies WHERE dt >= '2018-07-01' AND anonymous_id IS NOT NULL AND user_id IS NOT NULL \"},\n",
    "     {'c': \"SELECT anonymous_id AS anon_id_ad, context_campaign_name, min(TIMESTAMP) AS min_exposure FROM mapbox_customer_data.segment_pages WHERE dt >= '2018-07-01' AND context_campaign_name IS NOT NULL GROUP BY 1, 2\"},\n",
    "     {'b': \"SELECT id, email, created FROM mapbox_customer_data.accounts WHERE cast(dt AS DATE) = CURRENT_DATE - INTERVAL '1' DAY \"},\n",
    "     {'d': \"SELECT DISTINCT anonymous_id AS anon_id_event, original_timestamp, event, context_traits_email FROM mapbox_customer_data.segment_tracks WHERE dt >= '2018-07-01' AND event LIKE 'submitted_%form' AND context_traits_email IS NOT NULL \"}]},\n",
    "   {'main_query': 'SELECT a.*,\\n       b.*\\nFROM cleaned_list a\\nLEFT JOIN mql_flag b ON a.event_email = b.email'}]}]\n"
   ]
  },
  {
   "cell_type": "code",
   "execution_count": 101,
   "metadata": {
    "scrolled": true
   },
   "outputs": [
    {
     "data": {
      "text/plain": [
       "[{'level_1_main': 'SELECT * FROM T '},\n",
       " {'T': 'SELECT * FROM custom_sql_query '},\n",
       " {'custom_sql_query': [{'reg_users': [{'level_1_main': 'SELECT * WHERE context_campaign_name IS NOT NULL FROM no alias '},\n",
       "     {'level_2_main': 'SELECT a.*,        b.*,        c.*,        d.* FROM a LEFT JOIN b ON a.user_id = b.id LEFT JOIN c ON a.anonymous_id = c.anon_id_ad LEFT JOIN d ON a.anonymous_id = d.anon_id_event '},\n",
       "     {'a': \"SELECT DISTINCT anonymous_id, user_id FROM mapbox_customer_data.segment_identifies WHERE dt >= '2018-07-01' AND anonymous_id IS NOT NULL AND user_id IS NOT NULL \"},\n",
       "     {'c': \"SELECT anonymous_id AS anon_id_ad, context_campaign_name, min(TIMESTAMP) AS min_exposure FROM mapbox_customer_data.segment_pages WHERE dt >= '2018-07-01' AND context_campaign_name IS NOT NULL GROUP BY 1, 2\"},\n",
       "     {'b': \"SELECT id, email, created FROM mapbox_customer_data.accounts WHERE cast(dt AS DATE) = CURRENT_DATE - INTERVAL '1' DAY \"},\n",
       "     {'d': \"SELECT DISTINCT anonymous_id AS anon_id_event, original_timestamp, event, context_traits_email FROM mapbox_customer_data.segment_tracks WHERE dt >= '2018-07-01' AND event LIKE 'submitted_%form' AND context_traits_email IS NOT NULL \"}]},\n",
       "   {'main_query': 'SELECT a.*,\\n       b.*\\nFROM cleaned_list a\\nLEFT JOIN mql_flag b ON a.event_email = b.email'}]}]"
      ]
     },
     "execution_count": 101,
     "metadata": {},
     "output_type": "execute_result"
    }
   ],
   "source": [
    "query_list"
   ]
  },
  {
   "cell_type": "code",
   "execution_count": 102,
   "metadata": {},
   "outputs": [
    {
     "data": {
      "text/plain": [
       "['SELECT * FROM T ',\n",
       " 'SELECT * FROM custom_sql_query ',\n",
       " 'SELECT * WHERE context_campaign_name IS NOT NULL FROM no alias ',\n",
       " 'SELECT a.*,        b.*,        c.*,        d.* FROM a LEFT JOIN b ON a.user_id = b.id LEFT JOIN c ON a.anonymous_id = c.anon_id_ad LEFT JOIN d ON a.anonymous_id = d.anon_id_event ',\n",
       " \"SELECT DISTINCT anonymous_id, user_id FROM mapbox_customer_data.segment_identifies WHERE dt >= '2018-07-01' AND anonymous_id IS NOT NULL AND user_id IS NOT NULL \",\n",
       " \"SELECT anonymous_id AS anon_id_ad, context_campaign_name, min(TIMESTAMP) AS min_exposure FROM mapbox_customer_data.segment_pages WHERE dt >= '2018-07-01' AND context_campaign_name IS NOT NULL GROUP BY 1, 2\",\n",
       " \"SELECT id, email, created FROM mapbox_customer_data.accounts WHERE cast(dt AS DATE) = CURRENT_DATE - INTERVAL '1' DAY \",\n",
       " \"SELECT DISTINCT anonymous_id AS anon_id_event, original_timestamp, event, context_traits_email FROM mapbox_customer_data.segment_tracks WHERE dt >= '2018-07-01' AND event LIKE 'submitted_%form' AND context_traits_email IS NOT NULL \",\n",
       " 'SELECT a.*,\\n       b.*\\nFROM cleaned_list a\\nLEFT JOIN mql_flag b ON a.event_email = b.email']"
      ]
     },
     "execution_count": 102,
     "metadata": {},
     "output_type": "execute_result"
    }
   ],
   "source": [
    "unnest_query_list(query_list)"
   ]
  },
  {
   "cell_type": "code",
   "execution_count": null,
   "metadata": {},
   "outputs": [],
   "source": []
  }
 ],
 "metadata": {
  "kernelspec": {
   "display_name": "Python 3",
   "language": "python",
   "name": "python3"
  },
  "language_info": {
   "codemirror_mode": {
    "name": "ipython",
    "version": 3
   },
   "file_extension": ".py",
   "mimetype": "text/x-python",
   "name": "python",
   "nbconvert_exporter": "python",
   "pygments_lexer": "ipython3",
   "version": "3.7.4"
  }
 },
 "nbformat": 4,
 "nbformat_minor": 2
}
