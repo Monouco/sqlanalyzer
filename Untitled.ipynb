{
 "cells": [
  {
   "cell_type": "code",
   "execution_count": 124,
   "metadata": {},
   "outputs": [],
   "source": [
    "from sqlanalyzer import column_parser\n",
    "import pandas as pd\n",
    "import re"
   ]
  },
  {
   "cell_type": "code",
   "execution_count": 109,
   "metadata": {},
   "outputs": [],
   "source": [
    "query = \"\"\"SELECT opportunity_id,\n",
    "          op.product_2_id, p.name AS product_name,\n",
    "                           COALESCE(CAST(quantity AS DOUBLE) * CAST(list_price AS DOUBLE), 0) AS total_price,\n",
    "                           netsuite_conn_netsuite_item_key_id_c AS netsuite_conn_net_suite_item_key_id_c,\n",
    "                           COUNT(netsuite_conn_netsuite_item_key_id_c) OVER (PARTITION BY opportunity_id) AS num_netsuite_items\n",
    "   FROM sfdc.opportunity_product op\n",
    "   LEFT JOIN sfdc.products p ON op.product_2_id = p.id\n",
    "   AND p.dt = '{run_date}'\n",
    "   WHERE op.dt = '{run_date}'\n",
    "     AND opportunity_id IS NOT NULL\n",
    "     AND product_name_c IS NOT NULL\n",
    "     AND op.is_deleted = FALSE \n",
    "\"\"\""
   ]
  },
  {
   "cell_type": "code",
   "execution_count": 110,
   "metadata": {},
   "outputs": [
    {
     "name": "stdout",
     "output_type": "stream",
     "text": [
      "SELECT opportunity_id,\n",
      "       op.product_2_id,\n",
      "       p.name AS product_name,\n",
      "       COALESCE(CAST(quantity AS DOUBLE) * CAST(list_price AS DOUBLE), 0) AS total_price,\n",
      "       netsuite_conn_netsuite_item_key_id_c AS netsuite_conn_net_suite_item_key_id_c,\n",
      "       COUNT(netsuite_conn_netsuite_item_key_id_c) OVER (PARTITION BY opportunity_id) AS num_netsuite_items\n",
      "FROM sfdc.opportunity_product op\n",
      "LEFT JOIN sfdc.products p ON op.product_2_id = p.id\n",
      "AND p.dt = '{run_date}'\n",
      "WHERE op.dt = '{run_date}'\n",
      "  AND opportunity_id IS NOT NULL\n",
      "  AND product_name_c IS NOT NULL\n",
      "  AND op.is_deleted = FALSE\n"
     ]
    }
   ],
   "source": [
    "formatter = column_parser.Parser(query)\n",
    "formatted = formatter.format_query(query)\n",
    "print(formatted)"
   ]
  },
  {
   "cell_type": "code",
   "execution_count": 112,
   "metadata": {},
   "outputs": [],
   "source": [
    "db_fields_1 = pd.DataFrame({'db_table': 'sfdc.opportunity_product', \n",
    "            'all_columns': ['actual_quantity_c',\n",
    " 'annual_list_price_value_c',\n",
    " 'annual_product_value_c',\n",
    " 'annual_recurring_revenue_c',\n",
    " 'contract_is_12_months_or_more_c',\n",
    " 'created_by_id',\n",
    " 'created_date',\n",
    " 'description',\n",
    " 'discount_c',\n",
    " 'end_date_c',\n",
    " 'final_year_of_contract_c',\n",
    " 'id',\n",
    " 'invoice_schedule_c',\n",
    " 'is_deleted',\n",
    " 'last_modified_by_id',\n",
    " 'last_modified_date',\n",
    " 'line_family_c',\n",
    " 'list_price',\n",
    " 'list_price_value_c',\n",
    " 'monthly_recurring_revenue_c',\n",
    " 'name',\n",
    " 'netsuite_conn_netsuite_item_id_import_c',\n",
    " 'netsuite_conn_netsuite_item_key_id_c',\n",
    " 'netsuite_conn_pushed_from_netsuite_c',\n",
    " 'netsuite_conn_start_date_c',\n",
    " 'opp_end_date_lineitem_end_date_c',\n",
    " 'opportunity_id',\n",
    " 'opportunity_product_line_types_c',\n",
    " 'opportunity_service_days_c',\n",
    " 'overage_price_c',\n",
    " 'pricebook_entry_id',\n",
    " 'product_2_id',\n",
    " 'product_code',\n",
    " 'product_family_c',\n",
    " 'product_name_c',\n",
    " 'product_value_c',\n",
    " 'quantity',\n",
    " 'roll_up_summary_years_c',\n",
    " 'service_date',\n",
    " 'service_days_c',\n",
    " 'service_year_c',\n",
    " 'service_year_to_text_c',\n",
    " 'system_modstamp',\n",
    " 'time_fetched_from_salesforce',\n",
    " 'total_price',\n",
    " 'unit_price',\n",
    " 'update_everything_c',\n",
    " 'x18_digit_opportunity_id_c',\n",
    " 'dt']})\n"
   ]
  },
  {
   "cell_type": "code",
   "execution_count": 113,
   "metadata": {},
   "outputs": [],
   "source": [
    "db_fields_2 = pd.DataFrame({'db_table': 'sfdc.products', \n",
    "            'all_columns': ['availability_c',\n",
    " 'billing_type_c',\n",
    " 'cpm_product_c',\n",
    " 'created_date',\n",
    " 'exempt_api_calls_c',\n",
    " 'family',\n",
    " 'id',\n",
    " 'implementing_sdks_c',\n",
    " 'is_active',\n",
    " 'is_deleted',\n",
    " 'launch_date_c',\n",
    " 'name',\n",
    " 'netsuite_conn_celigo_update_c',\n",
    " 'netsuite_conn_item_category_c',\n",
    " 'netsuite_conn_netsuite_id_c',\n",
    " 'netsuite_conn_sub_type_c',\n",
    " 'pql_usage_tier_c',\n",
    " 'product_code',\n",
    " 'product_id_c',\n",
    " 'service_organization_c',\n",
    " 'sku_id_c',\n",
    " 'volume_discount_c',\n",
    " 'dt']})\n"
   ]
  },
  {
   "cell_type": "code",
   "execution_count": 115,
   "metadata": {},
   "outputs": [],
   "source": [
    "df = db_fields_1.append(db_fields_2, ignore_index=True)\n",
    "db_fields = df"
   ]
  },
  {
   "cell_type": "code",
   "execution_count": 117,
   "metadata": {},
   "outputs": [
    {
     "data": {
      "text/plain": [
       "[{'database_name': 'sfdc', 'table_name': 'products', 'column_name': 'name'},\n",
       " {'database_name': 'sfdc', 'table_name': 'products', 'column_name': 'dt'},\n",
       " {'database_name': 'sfdc',\n",
       "  'table_name': 'opportunity_product',\n",
       "  'column_name': 'dt'},\n",
       " {'database_name': 'sfdc',\n",
       "  'table_name': 'opportunity_product',\n",
       "  'column_name': 'opportunity_id'},\n",
       " {'database_name': 'sfdc',\n",
       "  'table_name': 'opportunity_product',\n",
       "  'column_name': 'product_name_c'},\n",
       " {'database_name': 'sfdc',\n",
       "  'table_name': 'opportunity_product',\n",
       "  'column_name': 'netsuite_conn_netsuite_item_key_id_c'},\n",
       " {'database_name': 'sfdc', 'table_name': 'products', 'column_name': 'id'},\n",
       " {'database_name': 'sfdc',\n",
       "  'table_name': 'opportunity_product',\n",
       "  'column_name': 'is_deleted'}]"
      ]
     },
     "execution_count": 117,
     "metadata": {},
     "output_type": "execute_result"
    }
   ],
   "source": [
    "fields = formatter.match_queried_fields(formatted, db_fields)\n",
    "fields"
   ]
  },
  {
   "cell_type": "code",
   "execution_count": null,
   "metadata": {},
   "outputs": [],
   "source": []
  }
 ],
 "metadata": {
  "kernelspec": {
   "display_name": "Python 3",
   "language": "python",
   "name": "python3"
  },
  "language_info": {
   "codemirror_mode": {
    "name": "ipython",
    "version": 3
   },
   "file_extension": ".py",
   "mimetype": "text/x-python",
   "name": "python",
   "nbconvert_exporter": "python",
   "pygments_lexer": "ipython3",
   "version": "3.7.4"
  }
 },
 "nbformat": 4,
 "nbformat_minor": 2
}
