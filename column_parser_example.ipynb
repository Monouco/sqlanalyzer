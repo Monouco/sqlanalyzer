{
 "cells": [
  {
   "cell_type": "code",
   "execution_count": 1,
   "metadata": {},
   "outputs": [],
   "source": [
    "from sqlanalyzer import column_parser, unbundle, query_analyzer\n",
    "import re, json, time, sys\n",
    "import pandas as pd"
   ]
  },
  {
   "cell_type": "markdown",
   "metadata": {},
   "source": [
    "## given db metadata"
   ]
  },
  {
   "cell_type": "code",
   "execution_count": 72,
   "metadata": {},
   "outputs": [],
   "source": [
    "def extract_subquery_fields(query, db_fields):\n",
    "    formatter = column_parser.Parser(query)\n",
    "    formatted = formatter.format_query(query)\n",
    "    fields = formatter.match_queried_fields(formatted, db_fields)\n",
    "    return fields\n",
    "\n",
    "\n",
    "def compile_queried_cols(col_list, query_list):\n",
    "    \n",
    "    for q in query_list:\n",
    "        \n",
    "        for alias, query in q.items():\n",
    "            \n",
    "            if isinstance(query, str):\n",
    "                col_list.extend(extract_subquery_fields(query, db_fields))\n",
    "                query_list = []\n",
    "                \n",
    "            elif isinstance(query, list):\n",
    "                query_list = query\n",
    "    \n",
    "    return col_list, query_list\n",
    "        "
   ]
  },
  {
   "cell_type": "code",
   "execution_count": 103,
   "metadata": {},
   "outputs": [],
   "source": [
    "query = \"\"\"WITH reg_users AS\n",
    "  (SELECT *\n",
    "   FROM\n",
    "     (SELECT a.*,\n",
    "             b.*,\n",
    "             c.*,\n",
    "             d.*\n",
    "      FROM\n",
    "        (SELECT DISTINCT anonymous_id,\n",
    "                         user_id\n",
    "         FROM mapbox_customer_data.segment_identifies\n",
    "         WHERE dt >= '2018-07-01'\n",
    "           AND anonymous_id IS NOT NULL\n",
    "           AND user_id IS NOT NULL ) a\n",
    "      LEFT JOIN\n",
    "        (SELECT id,\n",
    "                email,\n",
    "                created\n",
    "         FROM mapbox_customer_data.accounts\n",
    "         WHERE cast(dt AS DATE) = CURRENT_DATE - INTERVAL '1' DAY ) b ON a.user_id = b.id\n",
    "      LEFT JOIN\n",
    "        (SELECT anonymous_id AS anon_id_ad,\n",
    "                context_campaign_name,\n",
    "                min(TIMESTAMP) AS min_exposure\n",
    "         FROM mapbox_customer_data.segment_pages\n",
    "         WHERE dt >= '2018-07-01'\n",
    "           AND context_campaign_name IS NOT NULL\n",
    "         GROUP BY 1,\n",
    "                  2) c ON a.anonymous_id = c.anon_id_ad\n",
    "      LEFT JOIN\n",
    "        (SELECT DISTINCT anonymous_id AS anon_id_event,\n",
    "                         original_timestamp,\n",
    "                         event,\n",
    "                         context_traits_email\n",
    "         FROM mapbox_customer_data.segment_tracks\n",
    "         WHERE dt >= '2018-07-01'\n",
    "           AND event LIKE 'submitted_%form'\n",
    "           AND context_traits_email IS NOT NULL ) d ON a.anonymous_id = d.anon_id_event)\n",
    "   WHERE context_campaign_name IS NOT NULL ),\n",
    "\n",
    "     non_reg_users AS\n",
    "  (SELECT context_campaign_name,\n",
    "          min_exposure,\n",
    "          event,\n",
    "          original_timestamp AS event_timestamp,\n",
    "          context_traits_email AS event_email\n",
    "   FROM\n",
    "     (SELECT a.*,\n",
    "             b.*\n",
    "      FROM\n",
    "        (SELECT anonymous_id AS anon_id_ad,\n",
    "                context_campaign_name,\n",
    "                min(original_timestamp) AS min_exposure\n",
    "         FROM\n",
    "           (SELECT context_campaign_name,\n",
    "                   anonymous_id,\n",
    "                   original_timestamp\n",
    "            FROM mapbox_customer_data.segment_pages\n",
    "            WHERE dt >= '2018-07-01'\n",
    "              AND context_campaign_name IS NOT NULL )\n",
    "         GROUP BY 1,\n",
    "                  2) a\n",
    "      LEFT JOIN\n",
    "        (SELECT DISTINCT anonymous_id AS anon_id_event,\n",
    "                         original_timestamp,\n",
    "                         event,\n",
    "                         context_traits_email\n",
    "         FROM mapbox_customer_data.segment_tracks\n",
    "         WHERE dt >= '2018-07-01'\n",
    "           AND event LIKE 'submitted_%form'\n",
    "           AND context_traits_email IS NOT NULL ) b ON a.anon_id_ad = b.anon_id_event)\n",
    "   WHERE anon_id_event IS NOT NULL\n",
    "     AND to_unixtime(min_exposure) <= to_unixtime(original_timestamp)\n",
    "     AND cast(min_exposure AS DATE) >= cast(original_timestamp AS DATE) - INTERVAL '28' DAY ),\n",
    "\n",
    "     mql_flag AS\n",
    "  (SELECT email,\n",
    "          created_date,\n",
    "          last_mql_date_c,\n",
    "          mql_flag\n",
    "   FROM\n",
    "     (SELECT email,\n",
    "             min(created_date) created_date,\n",
    "             max(last_mql_date_c) last_mql_date_c,\n",
    "             CASE\n",
    "                 WHEN max(last_mql_date_c) IS NOT NULL THEN 1\n",
    "                 ELSE 0\n",
    "             END AS mql_flag,\n",
    "             sum(CASE\n",
    "                     WHEN is_deleted = TRUE THEN 1\n",
    "                     ELSE 0\n",
    "                 END) AS is_deleted\n",
    "      FROM sales.salesforce_leads\n",
    "      WHERE cast(dt AS DATE) = CURRENT_DATE - INTERVAL '1' DAY\n",
    "      GROUP BY 1)\n",
    "   WHERE mql_flag = 1\n",
    "     AND is_deleted = 0 ),\n",
    "\n",
    "     cleaned_list AS\n",
    "  (SELECT DISTINCT *\n",
    "   FROM\n",
    "     (SELECT context_campaign_name,\n",
    "             min_exposure,\n",
    "             'created_an_account' AS event,\n",
    "             created AS event_timestamp,\n",
    "             email AS event_email\n",
    "      FROM reg_users\n",
    "      WHERE to_unixtime(min_exposure) <= to_unixtime(created)\n",
    "        AND cast(min_exposure AS DATE) >= cast(created AS DATE) - INTERVAL '28' DAY\n",
    "      UNION ALL SELECT context_campaign_name,\n",
    "                       min_exposure,\n",
    "                       event,\n",
    "                       original_timestamp AS event_timestamp,\n",
    "                       context_traits_email AS event_email\n",
    "      FROM reg_users\n",
    "      WHERE to_unixtime(min_exposure) <= to_unixtime(original_timestamp)\n",
    "        AND cast(min_exposure AS DATE) >= cast(original_timestamp AS DATE) - INTERVAL '28' DAY\n",
    "      UNION ALL SELECT *\n",
    "      FROM non_reg_users))\n",
    "\n",
    "SELECT a.*,\n",
    "       b.*\n",
    "FROM cleaned_list a\n",
    "LEFT JOIN mql_flag b ON a.event_email = b.email\n",
    "\n",
    "\"\"\""
   ]
  },
  {
   "cell_type": "code",
   "execution_count": 104,
   "metadata": {
    "collapsed": true
   },
   "outputs": [
    {
     "name": "stdout",
     "output_type": "stream",
     "text": [
      "WITH reg_users AS\n",
      "  (SELECT *\n",
      "   FROM\n",
      "     (SELECT a.*,\n",
      "             b.*,\n",
      "             c.*,\n",
      "             d.*\n",
      "      FROM\n",
      "        (SELECT DISTINCT anonymous_id,\n",
      "                         user_id\n",
      "         FROM mapbox_customer_data.segment_identifies\n",
      "         WHERE dt >= '2018-07-01'\n",
      "           AND anonymous_id IS NOT NULL\n",
      "           AND user_id IS NOT NULL ) a\n",
      "      LEFT JOIN\n",
      "        (SELECT id,\n",
      "                email,\n",
      "                created\n",
      "         FROM mapbox_customer_data.accounts\n",
      "         WHERE cast(dt AS DATE) = CURRENT_DATE - INTERVAL '1' DAY ) b ON a.user_id = b.id\n",
      "      LEFT JOIN\n",
      "        (SELECT anonymous_id AS anon_id_ad,\n",
      "                context_campaign_name,\n",
      "                min(TIMESTAMP) AS min_exposure\n",
      "         FROM mapbox_customer_data.segment_pages\n",
      "         WHERE dt >= '2018-07-01'\n",
      "           AND context_campaign_name IS NOT NULL\n",
      "         GROUP BY 1,\n",
      "                  2) c ON a.anonymous_id = c.anon_id_ad\n",
      "      LEFT JOIN\n",
      "        (SELECT DISTINCT anonymous_id AS anon_id_event,\n",
      "                         original_timestamp,\n",
      "                         event,\n",
      "                         context_traits_email\n",
      "         FROM mapbox_customer_data.segment_tracks\n",
      "         WHERE dt >= '2018-07-01'\n",
      "           AND event LIKE 'submitted_%form'\n",
      "           AND context_traits_email IS NOT NULL ) d ON a.anonymous_id = d.anon_id_event)\n",
      "   WHERE context_campaign_name IS NOT NULL ),\n",
      "     non_reg_users AS\n",
      "  (SELECT context_campaign_name,\n",
      "          min_exposure,\n",
      "          event,\n",
      "          original_timestamp AS event_timestamp,\n",
      "          context_traits_email AS event_email\n",
      "   FROM\n",
      "     (SELECT a.*,\n",
      "             b.*\n",
      "      FROM\n",
      "        (SELECT anonymous_id AS anon_id_ad,\n",
      "                context_campaign_name,\n",
      "                min(original_timestamp) AS min_exposure\n",
      "         FROM\n",
      "           (SELECT context_campaign_name,\n",
      "                   anonymous_id,\n",
      "                   original_timestamp\n",
      "            FROM mapbox_customer_data.segment_pages\n",
      "            WHERE dt >= '2018-07-01'\n",
      "              AND context_campaign_name IS NOT NULL )\n",
      "         GROUP BY 1,\n",
      "                  2) a\n",
      "      LEFT JOIN\n",
      "        (SELECT DISTINCT anonymous_id AS anon_id_event,\n",
      "                         original_timestamp,\n",
      "                         event,\n",
      "                         context_traits_email\n",
      "         FROM mapbox_customer_data.segment_tracks\n",
      "         WHERE dt >= '2018-07-01'\n",
      "           AND event LIKE 'submitted_%form'\n",
      "           AND context_traits_email IS NOT NULL ) b ON a.anon_id_ad = b.anon_id_event)\n",
      "   WHERE anon_id_event IS NOT NULL\n",
      "     AND to_unixtime(min_exposure) <= to_unixtime(original_timestamp)\n",
      "     AND cast(min_exposure AS DATE) >= cast(original_timestamp AS DATE) - INTERVAL '28' DAY ),\n",
      "     mql_flag AS\n",
      "  (SELECT email,\n",
      "          created_date,\n",
      "          last_mql_date_c,\n",
      "          mql_flag\n",
      "   FROM\n",
      "     (SELECT email,\n",
      "             min(created_date) created_date,\n",
      "             max(last_mql_date_c) last_mql_date_c,\n",
      "             CASE\n",
      "                 WHEN max(last_mql_date_c) IS NOT NULL THEN 1\n",
      "                 ELSE 0\n",
      "             END AS mql_flag,\n",
      "             sum(CASE\n",
      "                     WHEN is_deleted = TRUE THEN 1\n",
      "                     ELSE 0\n",
      "                 END) AS is_deleted\n",
      "      FROM sales.salesforce_leads\n",
      "      WHERE cast(dt AS DATE) = CURRENT_DATE - INTERVAL '1' DAY\n",
      "      GROUP BY 1)\n",
      "   WHERE mql_flag = 1\n",
      "     AND is_deleted = 0 ),\n",
      "     cleaned_list AS\n",
      "  (SELECT DISTINCT *\n",
      "   FROM\n",
      "     (SELECT context_campaign_name,\n",
      "             min_exposure,\n",
      "             'created_an_account' AS event,\n",
      "             created AS event_timestamp,\n",
      "             email AS event_email\n",
      "      FROM reg_users\n",
      "      WHERE to_unixtime(min_exposure) <= to_unixtime(created)\n",
      "        AND cast(min_exposure AS DATE) >= cast(created AS DATE) - INTERVAL '28' DAY\n",
      "      UNION ALL SELECT context_campaign_name,\n",
      "                       min_exposure,\n",
      "                       event,\n",
      "                       original_timestamp AS event_timestamp,\n",
      "                       context_traits_email AS event_email\n",
      "      FROM reg_users\n",
      "      WHERE to_unixtime(min_exposure) <= to_unixtime(original_timestamp)\n",
      "        AND cast(min_exposure AS DATE) >= cast(original_timestamp AS DATE) - INTERVAL '28' DAY\n",
      "      UNION ALL SELECT *\n",
      "      FROM non_reg_users))\n",
      "SELECT a.*,\n",
      "       b.*\n",
      "FROM cleaned_list a\n",
      "LEFT JOIN mql_flag b ON a.event_email = b.email\n"
     ]
    }
   ],
   "source": [
    "formatter = column_parser.Parser(query)\n",
    "formatted = formatter.format_query(query)\n",
    "print(formatted)"
   ]
  },
  {
   "cell_type": "code",
   "execution_count": 105,
   "metadata": {},
   "outputs": [],
   "source": [
    "analyzer = query_analyzer.Analyzer(query)\n",
    "query_dict = analyzer.parse_query(query)"
   ]
  },
  {
   "cell_type": "code",
   "execution_count": null,
   "metadata": {},
   "outputs": [],
   "source": []
  },
  {
   "cell_type": "code",
   "execution_count": 106,
   "metadata": {
    "scrolled": false
   },
   "outputs": [
    {
     "data": {
      "text/plain": [
       "[{'reg_users': [{'level_1_main': 'SELECT * WHERE context_campaign_name IS NOT NULL FROM no alias '},\n",
       "   {'level_2_main': 'SELECT a.*,        b.*,        c.*,        d.* FROM a LEFT JOIN b ON a.user_id = b.id LEFT JOIN c ON a.anonymous_id = c.anon_id_ad LEFT JOIN d ON a.anonymous_id = d.anon_id_event '},\n",
       "   {'a': \"SELECT DISTINCT anonymous_id, user_id FROM mapbox_customer_data.segment_identifies WHERE dt >= '2018-07-01' AND anonymous_id IS NOT NULL AND user_id IS NOT NULL \"},\n",
       "   {'c': \"SELECT anonymous_id AS anon_id_ad, context_campaign_name, min(TIMESTAMP) AS min_exposure FROM mapbox_customer_data.segment_pages WHERE dt >= '2018-07-01' AND context_campaign_name IS NOT NULL GROUP BY 1, 2\"},\n",
       "   {'b': \"SELECT id, email, created FROM mapbox_customer_data.accounts WHERE cast(dt AS DATE) = CURRENT_DATE - INTERVAL '1' DAY \"},\n",
       "   {'d': \"SELECT DISTINCT anonymous_id AS anon_id_event, original_timestamp, event, context_traits_email FROM mapbox_customer_data.segment_tracks WHERE dt >= '2018-07-01' AND event LIKE 'submitted_%form' AND context_traits_email IS NOT NULL \"}]},\n",
       " {'non_reg_users': [{'level_1_main': \"SELECT context_campaign_name,        min_exposure,        event,        original_timestamp AS event_timestamp,        context_traits_email AS event_email WHERE anon_id_event IS NOT NULL   AND to_unixtime(min_exposure) <= to_unixtime(original_timestamp)   AND cast(min_exposure AS DATE) >= cast(original_timestamp AS DATE) - INTERVAL '28' DAY FROM no alias \"},\n",
       "   {'level_2_main': 'SELECT a.*,        b.* FROM a LEFT JOIN b ON a.anon_id_ad = b.anon_id_event '},\n",
       "   {'b': \"SELECT DISTINCT anonymous_id AS anon_id_event, original_timestamp, event, context_traits_email FROM mapbox_customer_data.segment_tracks WHERE dt >= '2018-07-01' AND event LIKE 'submitted_%form' AND context_traits_email IS NOT NULL \"},\n",
       "   {'a': 'SELECT anonymous_id AS anon_id_ad,        context_campaign_name,        min(original_timestamp) AS min_exposure FROM no alias '},\n",
       "   {'no alias': \"SELECT context_campaign_name, anonymous_id, original_timestamp FROM mapbox_customer_data.segment_pages WHERE dt >= '2018-07-01' AND context_campaign_name IS NOT NULL \"}]},\n",
       " {'mql_flag': [{'level_1_main': 'SELECT email,        created_date,        last_mql_date_c,        mql_flag WHERE mql_flag = 1   AND is_deleted = 0 FROM no alias '},\n",
       "   {'no alias': \"SELECT email, min(created_date) created_date, max(last_mql_date_c) last_mql_date_c, CASE WHEN max(last_mql_date_c) IS NOT NULL THEN 1 ELSE 0 END AS mql_flag, sum(CASE WHEN is_deleted = TRUE THEN 1 ELSE 0 END) AS is_deleted FROM sales.salesforce_leads WHERE cast(dt AS DATE) = CURRENT_DATE - INTERVAL '1' DAY GROUP BY 1\"}]},\n",
       " {'cleaned_list': [{'level_1_main': 'SELECT DISTINCT * FROM no alias '},\n",
       "   {'no alias': \"SELECT context_campaign_name, min_exposure, 'created_an_account' AS event, created AS event_timestamp, email AS event_email FROM reg_users WHERE to_unixtime(min_exposure) <= to_unixtime(created) AND cast(min_exposure AS DATE) >= cast(created AS DATE) - INTERVAL '28' DAY UNION ALL SELECT context_campaign_name, min_exposure, event, original_timestamp AS event_timestamp, context_traits_email AS event_email FROM reg_users WHERE to_unixtime(min_exposure) <= to_unixtime(original_timestamp) AND cast(min_exposure AS DATE) >= cast(original_timestamp AS DATE) - INTERVAL '28' DAY UNION ALL SELECT * FROM non_reg_users\"}]},\n",
       " {'main_query': 'SELECT a.*,\\n       b.*\\nFROM cleaned_list a\\nLEFT JOIN mql_flag b ON a.event_email = b.email'}]"
      ]
     },
     "execution_count": 106,
     "metadata": {},
     "output_type": "execute_result"
    }
   ],
   "source": [
    "query_dict"
   ]
  },
  {
   "cell_type": "code",
   "execution_count": null,
   "metadata": {},
   "outputs": [],
   "source": []
  },
  {
   "cell_type": "code",
   "execution_count": null,
   "metadata": {},
   "outputs": [],
   "source": []
  },
  {
   "cell_type": "code",
   "execution_count": 5,
   "metadata": {
    "scrolled": false
   },
   "outputs": [
    {
     "data": {
      "text/html": [
       "<div>\n",
       "<style scoped>\n",
       "    .dataframe tbody tr th:only-of-type {\n",
       "        vertical-align: middle;\n",
       "    }\n",
       "\n",
       "    .dataframe tbody tr th {\n",
       "        vertical-align: top;\n",
       "    }\n",
       "\n",
       "    .dataframe thead th {\n",
       "        text-align: right;\n",
       "    }\n",
       "</style>\n",
       "<table border=\"1\" class=\"dataframe\">\n",
       "  <thead>\n",
       "    <tr style=\"text-align: right;\">\n",
       "      <th></th>\n",
       "      <th>db_table</th>\n",
       "      <th>all_columns</th>\n",
       "    </tr>\n",
       "  </thead>\n",
       "  <tbody>\n",
       "    <tr>\n",
       "      <td>0</td>\n",
       "      <td>wbr.map_requests_by_account</td>\n",
       "      <td>platform</td>\n",
       "    </tr>\n",
       "    <tr>\n",
       "      <td>1</td>\n",
       "      <td>wbr.map_requests_by_account</td>\n",
       "      <td>mobile_os</td>\n",
       "    </tr>\n",
       "    <tr>\n",
       "      <td>2</td>\n",
       "      <td>wbr.map_requests_by_account</td>\n",
       "      <td>service</td>\n",
       "    </tr>\n",
       "    <tr>\n",
       "      <td>3</td>\n",
       "      <td>wbr.map_requests_by_account</td>\n",
       "      <td>service_metadata</td>\n",
       "    </tr>\n",
       "    <tr>\n",
       "      <td>4</td>\n",
       "      <td>wbr.map_requests_by_account</td>\n",
       "      <td>service_metadata_version</td>\n",
       "    </tr>\n",
       "    <tr>\n",
       "      <td>5</td>\n",
       "      <td>wbr.map_requests_by_account</td>\n",
       "      <td>account</td>\n",
       "    </tr>\n",
       "    <tr>\n",
       "      <td>6</td>\n",
       "      <td>wbr.map_requests_by_account</td>\n",
       "      <td>num_requests</td>\n",
       "    </tr>\n",
       "    <tr>\n",
       "      <td>7</td>\n",
       "      <td>wbr.map_requests_by_account</td>\n",
       "      <td>dt</td>\n",
       "    </tr>\n",
       "  </tbody>\n",
       "</table>\n",
       "</div>"
      ],
      "text/plain": [
       "                      db_table               all_columns\n",
       "0  wbr.map_requests_by_account                  platform\n",
       "1  wbr.map_requests_by_account                 mobile_os\n",
       "2  wbr.map_requests_by_account                   service\n",
       "3  wbr.map_requests_by_account          service_metadata\n",
       "4  wbr.map_requests_by_account  service_metadata_version\n",
       "5  wbr.map_requests_by_account                   account\n",
       "6  wbr.map_requests_by_account              num_requests\n",
       "7  wbr.map_requests_by_account                        dt"
      ]
     },
     "execution_count": 5,
     "metadata": {},
     "output_type": "execute_result"
    }
   ],
   "source": [
    "db_fields_1 = pd.DataFrame({'db_table': 'wbr.map_requests_by_account', \n",
    "            'all_columns': ['platform', 'mobile_os', 'service', 'service_metadata', 'service_metadata_version', 'account', 'num_requests', 'dt']})\n",
    "db_fields_1\n"
   ]
  },
  {
   "cell_type": "code",
   "execution_count": null,
   "metadata": {},
   "outputs": [],
   "source": []
  },
  {
   "cell_type": "code",
   "execution_count": 6,
   "metadata": {},
   "outputs": [
    {
     "data": {
      "text/html": [
       "<div>\n",
       "<style scoped>\n",
       "    .dataframe tbody tr th:only-of-type {\n",
       "        vertical-align: middle;\n",
       "    }\n",
       "\n",
       "    .dataframe tbody tr th {\n",
       "        vertical-align: top;\n",
       "    }\n",
       "\n",
       "    .dataframe thead th {\n",
       "        text-align: right;\n",
       "    }\n",
       "</style>\n",
       "<table border=\"1\" class=\"dataframe\">\n",
       "  <thead>\n",
       "    <tr style=\"text-align: right;\">\n",
       "      <th></th>\n",
       "      <th>db_table</th>\n",
       "      <th>all_columns</th>\n",
       "    </tr>\n",
       "  </thead>\n",
       "  <tbody>\n",
       "    <tr>\n",
       "      <td>0</td>\n",
       "      <td>mapbox_customer_data.styles</td>\n",
       "      <td>id</td>\n",
       "    </tr>\n",
       "    <tr>\n",
       "      <td>1</td>\n",
       "      <td>mapbox_customer_data.styles</td>\n",
       "      <td>owner</td>\n",
       "    </tr>\n",
       "    <tr>\n",
       "      <td>2</td>\n",
       "      <td>mapbox_customer_data.styles</td>\n",
       "      <td>metadata</td>\n",
       "    </tr>\n",
       "    <tr>\n",
       "      <td>3</td>\n",
       "      <td>mapbox_customer_data.styles</td>\n",
       "      <td>sources</td>\n",
       "    </tr>\n",
       "  </tbody>\n",
       "</table>\n",
       "</div>"
      ],
      "text/plain": [
       "                      db_table all_columns\n",
       "0  mapbox_customer_data.styles          id\n",
       "1  mapbox_customer_data.styles       owner\n",
       "2  mapbox_customer_data.styles    metadata\n",
       "3  mapbox_customer_data.styles     sources"
      ]
     },
     "execution_count": 6,
     "metadata": {},
     "output_type": "execute_result"
    }
   ],
   "source": [
    "db_fields_2 = pd.DataFrame({'db_table': 'mapbox_customer_data.styles', \n",
    "            'all_columns': ['id', 'owner', 'metadata', 'sources']})\n",
    "db_fields_2\n"
   ]
  },
  {
   "cell_type": "code",
   "execution_count": 7,
   "metadata": {},
   "outputs": [
    {
     "data": {
      "text/html": [
       "<div>\n",
       "<style scoped>\n",
       "    .dataframe tbody tr th:only-of-type {\n",
       "        vertical-align: middle;\n",
       "    }\n",
       "\n",
       "    .dataframe tbody tr th {\n",
       "        vertical-align: top;\n",
       "    }\n",
       "\n",
       "    .dataframe thead th {\n",
       "        text-align: right;\n",
       "    }\n",
       "</style>\n",
       "<table border=\"1\" class=\"dataframe\">\n",
       "  <thead>\n",
       "    <tr style=\"text-align: right;\">\n",
       "      <th></th>\n",
       "      <th>db_table</th>\n",
       "      <th>all_columns</th>\n",
       "    </tr>\n",
       "  </thead>\n",
       "  <tbody>\n",
       "    <tr>\n",
       "      <td>0</td>\n",
       "      <td>sfdc.accounts</td>\n",
       "      <td>dt</td>\n",
       "    </tr>\n",
       "    <tr>\n",
       "      <td>1</td>\n",
       "      <td>sfdc.accounts</td>\n",
       "      <td>customer_tier_c</td>\n",
       "    </tr>\n",
       "    <tr>\n",
       "      <td>2</td>\n",
       "      <td>sfdc.accounts</td>\n",
       "      <td>csm_c</td>\n",
       "    </tr>\n",
       "    <tr>\n",
       "      <td>3</td>\n",
       "      <td>sfdc.accounts</td>\n",
       "      <td>name</td>\n",
       "    </tr>\n",
       "    <tr>\n",
       "      <td>4</td>\n",
       "      <td>sfdc.accounts</td>\n",
       "      <td>mapbox_username_c</td>\n",
       "    </tr>\n",
       "    <tr>\n",
       "      <td>5</td>\n",
       "      <td>sfdc.accounts</td>\n",
       "      <td>x18_digit_account_id_c</td>\n",
       "    </tr>\n",
       "  </tbody>\n",
       "</table>\n",
       "</div>"
      ],
      "text/plain": [
       "        db_table             all_columns\n",
       "0  sfdc.accounts                      dt\n",
       "1  sfdc.accounts         customer_tier_c\n",
       "2  sfdc.accounts                   csm_c\n",
       "3  sfdc.accounts                    name\n",
       "4  sfdc.accounts       mapbox_username_c\n",
       "5  sfdc.accounts  x18_digit_account_id_c"
      ]
     },
     "execution_count": 7,
     "metadata": {},
     "output_type": "execute_result"
    }
   ],
   "source": [
    "db_fields_3 = pd.DataFrame({'db_table': 'sfdc.accounts', \n",
    "            'all_columns': ['dt', 'customer_tier_c', 'csm_c', 'name', 'mapbox_username_c', 'x18_digit_account_id_c']})\n",
    "db_fields_3\n"
   ]
  },
  {
   "cell_type": "code",
   "execution_count": 8,
   "metadata": {},
   "outputs": [
    {
     "data": {
      "text/html": [
       "<div>\n",
       "<style scoped>\n",
       "    .dataframe tbody tr th:only-of-type {\n",
       "        vertical-align: middle;\n",
       "    }\n",
       "\n",
       "    .dataframe tbody tr th {\n",
       "        vertical-align: top;\n",
       "    }\n",
       "\n",
       "    .dataframe thead th {\n",
       "        text-align: right;\n",
       "    }\n",
       "</style>\n",
       "<table border=\"1\" class=\"dataframe\">\n",
       "  <thead>\n",
       "    <tr style=\"text-align: right;\">\n",
       "      <th></th>\n",
       "      <th>db_table</th>\n",
       "      <th>all_columns</th>\n",
       "    </tr>\n",
       "  </thead>\n",
       "  <tbody>\n",
       "    <tr>\n",
       "      <td>0</td>\n",
       "      <td>sfdc.users</td>\n",
       "      <td>dt</td>\n",
       "    </tr>\n",
       "    <tr>\n",
       "      <td>1</td>\n",
       "      <td>sfdc.users</td>\n",
       "      <td>name</td>\n",
       "    </tr>\n",
       "    <tr>\n",
       "      <td>2</td>\n",
       "      <td>sfdc.users</td>\n",
       "      <td>id</td>\n",
       "    </tr>\n",
       "  </tbody>\n",
       "</table>\n",
       "</div>"
      ],
      "text/plain": [
       "     db_table all_columns\n",
       "0  sfdc.users          dt\n",
       "1  sfdc.users        name\n",
       "2  sfdc.users          id"
      ]
     },
     "execution_count": 8,
     "metadata": {},
     "output_type": "execute_result"
    }
   ],
   "source": [
    "db_fields_4 = pd.DataFrame({'db_table': 'sfdc.users', \n",
    "            'all_columns': ['dt', 'name', 'id']})\n",
    "db_fields_4\n"
   ]
  },
  {
   "cell_type": "code",
   "execution_count": 9,
   "metadata": {},
   "outputs": [],
   "source": [
    "df = db_fields_1.append(db_fields_2, ignore_index=True)"
   ]
  },
  {
   "cell_type": "code",
   "execution_count": 10,
   "metadata": {},
   "outputs": [],
   "source": [
    "df = df.append(db_fields_3, ignore_index=True)\n",
    "df = df.append(db_fields_4, ignore_index=True)"
   ]
  },
  {
   "cell_type": "code",
   "execution_count": 11,
   "metadata": {},
   "outputs": [],
   "source": [
    "db_fields = df"
   ]
  },
  {
   "cell_type": "code",
   "execution_count": 12,
   "metadata": {},
   "outputs": [
    {
     "data": {
      "text/html": [
       "<div>\n",
       "<style scoped>\n",
       "    .dataframe tbody tr th:only-of-type {\n",
       "        vertical-align: middle;\n",
       "    }\n",
       "\n",
       "    .dataframe tbody tr th {\n",
       "        vertical-align: top;\n",
       "    }\n",
       "\n",
       "    .dataframe thead th {\n",
       "        text-align: right;\n",
       "    }\n",
       "</style>\n",
       "<table border=\"1\" class=\"dataframe\">\n",
       "  <thead>\n",
       "    <tr style=\"text-align: right;\">\n",
       "      <th></th>\n",
       "      <th>db_table</th>\n",
       "      <th>all_columns</th>\n",
       "    </tr>\n",
       "  </thead>\n",
       "  <tbody>\n",
       "    <tr>\n",
       "      <td>0</td>\n",
       "      <td>wbr.map_requests_by_account</td>\n",
       "      <td>platform</td>\n",
       "    </tr>\n",
       "    <tr>\n",
       "      <td>1</td>\n",
       "      <td>wbr.map_requests_by_account</td>\n",
       "      <td>mobile_os</td>\n",
       "    </tr>\n",
       "    <tr>\n",
       "      <td>2</td>\n",
       "      <td>wbr.map_requests_by_account</td>\n",
       "      <td>service</td>\n",
       "    </tr>\n",
       "    <tr>\n",
       "      <td>3</td>\n",
       "      <td>wbr.map_requests_by_account</td>\n",
       "      <td>service_metadata</td>\n",
       "    </tr>\n",
       "    <tr>\n",
       "      <td>4</td>\n",
       "      <td>wbr.map_requests_by_account</td>\n",
       "      <td>service_metadata_version</td>\n",
       "    </tr>\n",
       "    <tr>\n",
       "      <td>5</td>\n",
       "      <td>wbr.map_requests_by_account</td>\n",
       "      <td>account</td>\n",
       "    </tr>\n",
       "    <tr>\n",
       "      <td>6</td>\n",
       "      <td>wbr.map_requests_by_account</td>\n",
       "      <td>num_requests</td>\n",
       "    </tr>\n",
       "    <tr>\n",
       "      <td>7</td>\n",
       "      <td>wbr.map_requests_by_account</td>\n",
       "      <td>dt</td>\n",
       "    </tr>\n",
       "    <tr>\n",
       "      <td>8</td>\n",
       "      <td>mapbox_customer_data.styles</td>\n",
       "      <td>id</td>\n",
       "    </tr>\n",
       "    <tr>\n",
       "      <td>9</td>\n",
       "      <td>mapbox_customer_data.styles</td>\n",
       "      <td>owner</td>\n",
       "    </tr>\n",
       "    <tr>\n",
       "      <td>10</td>\n",
       "      <td>mapbox_customer_data.styles</td>\n",
       "      <td>metadata</td>\n",
       "    </tr>\n",
       "    <tr>\n",
       "      <td>11</td>\n",
       "      <td>mapbox_customer_data.styles</td>\n",
       "      <td>sources</td>\n",
       "    </tr>\n",
       "    <tr>\n",
       "      <td>12</td>\n",
       "      <td>sfdc.accounts</td>\n",
       "      <td>dt</td>\n",
       "    </tr>\n",
       "    <tr>\n",
       "      <td>13</td>\n",
       "      <td>sfdc.accounts</td>\n",
       "      <td>customer_tier_c</td>\n",
       "    </tr>\n",
       "    <tr>\n",
       "      <td>14</td>\n",
       "      <td>sfdc.accounts</td>\n",
       "      <td>csm_c</td>\n",
       "    </tr>\n",
       "    <tr>\n",
       "      <td>15</td>\n",
       "      <td>sfdc.accounts</td>\n",
       "      <td>name</td>\n",
       "    </tr>\n",
       "    <tr>\n",
       "      <td>16</td>\n",
       "      <td>sfdc.accounts</td>\n",
       "      <td>mapbox_username_c</td>\n",
       "    </tr>\n",
       "    <tr>\n",
       "      <td>17</td>\n",
       "      <td>sfdc.accounts</td>\n",
       "      <td>x18_digit_account_id_c</td>\n",
       "    </tr>\n",
       "    <tr>\n",
       "      <td>18</td>\n",
       "      <td>sfdc.users</td>\n",
       "      <td>dt</td>\n",
       "    </tr>\n",
       "    <tr>\n",
       "      <td>19</td>\n",
       "      <td>sfdc.users</td>\n",
       "      <td>name</td>\n",
       "    </tr>\n",
       "    <tr>\n",
       "      <td>20</td>\n",
       "      <td>sfdc.users</td>\n",
       "      <td>id</td>\n",
       "    </tr>\n",
       "  </tbody>\n",
       "</table>\n",
       "</div>"
      ],
      "text/plain": [
       "                       db_table               all_columns\n",
       "0   wbr.map_requests_by_account                  platform\n",
       "1   wbr.map_requests_by_account                 mobile_os\n",
       "2   wbr.map_requests_by_account                   service\n",
       "3   wbr.map_requests_by_account          service_metadata\n",
       "4   wbr.map_requests_by_account  service_metadata_version\n",
       "5   wbr.map_requests_by_account                   account\n",
       "6   wbr.map_requests_by_account              num_requests\n",
       "7   wbr.map_requests_by_account                        dt\n",
       "8   mapbox_customer_data.styles                        id\n",
       "9   mapbox_customer_data.styles                     owner\n",
       "10  mapbox_customer_data.styles                  metadata\n",
       "11  mapbox_customer_data.styles                   sources\n",
       "12                sfdc.accounts                        dt\n",
       "13                sfdc.accounts           customer_tier_c\n",
       "14                sfdc.accounts                     csm_c\n",
       "15                sfdc.accounts                      name\n",
       "16                sfdc.accounts         mapbox_username_c\n",
       "17                sfdc.accounts    x18_digit_account_id_c\n",
       "18                   sfdc.users                        dt\n",
       "19                   sfdc.users                      name\n",
       "20                   sfdc.users                        id"
      ]
     },
     "execution_count": 12,
     "metadata": {},
     "output_type": "execute_result"
    }
   ],
   "source": [
    "db_fields"
   ]
  },
  {
   "cell_type": "markdown",
   "metadata": {},
   "source": [
    "## given query"
   ]
  },
  {
   "cell_type": "code",
   "execution_count": null,
   "metadata": {},
   "outputs": [],
   "source": [
    "query = \"\"\"\"SELECT u.name,\\n       b.customer_tier_c,\\n       b.name,\\n       m.account,\\n       b.x18_digit_account_id_c,\\n       s.id,\\n       m.platform,\\n       m.mobile_os,\\n       m.num_requests,\\n       Row_number() OVER(PARTITION BY s.id) row_\\nFROM wbr.map_requests_by_account m\\nINNER JOIN\\n  (SELECT DISTINCT id\\n   FROM mapbox_customer_data.styles\\n   WHERE cast(dt AS DATE) >= CURRENT_DATE - INTERVAL '14' DAY\\n     AND sources LIKE '%mapbox-streets-v7%' ) s ON m.service_metadata_version = s.id\\nLEFT JOIN\\n  (SELECT customer_tier_c,\\n          csm_c,\\n          name,\\n          mapbox_username_c,\\n          x18_digit_account_id_c\\n   FROM sfdc.accounts\\n   WHERE cast(dt AS DATE) = CURRENT_DATE - INTERVAL '1' DAY ) b ON m.account = b.mapbox_username_c\\nLEFT JOIN\\n  (SELECT name,\\n          id\\n   FROM sfdc.users\\n   WHERE cast(dt AS DATE) = CURRENT_DATE - INTERVAL '1' DAY ) u ON b.csm_c = u.id\\nWHERE cast(m.dt AS DATE) >= CURRENT_DATE - INTERVAL '14' DAY\\n  AND m.service_metadata = 'custom'\\n  AND m.service = 'styles'\\n  AND b.customer_tier_c IN ('Tier 0',\\n                            'Tier 1',\\n                            'Tier 2',\\n                            'Tier 3',\\n                            'Tier 4')\"\n",
    "\"\"\""
   ]
  },
  {
   "cell_type": "markdown",
   "metadata": {},
   "source": [
    "## transformation 1: format query"
   ]
  },
  {
   "cell_type": "code",
   "execution_count": null,
   "metadata": {},
   "outputs": [],
   "source": [
    "query = \"\"\"SELECT api.name, acct.customer_tier_c, acct.name FROM api_requests_by_account api\n",
    "LEFT JOIN accounts \n",
    "acct ON api.user_id = acct.customer_api_id\n",
    "\"\"\""
   ]
  },
  {
   "cell_type": "code",
   "execution_count": null,
   "metadata": {},
   "outputs": [],
   "source": [
    "formatter = column_parser.Parser(query)"
   ]
  },
  {
   "cell_type": "code",
   "execution_count": null,
   "metadata": {
    "scrolled": false
   },
   "outputs": [],
   "source": [
    "formatted = formatter.format_query(query)\n",
    "print(formatted)"
   ]
  },
  {
   "cell_type": "markdown",
   "metadata": {},
   "source": [
    "## transformation 2: separate CTE's"
   ]
  },
  {
   "cell_type": "code",
   "execution_count": null,
   "metadata": {},
   "outputs": [],
   "source": [
    "query = \"\"\"WITH a AS\n",
    "  (SELECT DISTINCT anonymous_id,\n",
    "                   user_id\n",
    "   FROM customer_data.segment_identifies\n",
    "   WHERE dt >= '2018-07-01'),\n",
    "     b AS\n",
    "  (SELECT id,\n",
    "          email,\n",
    "          created\n",
    "   FROM customer_data.accounts)\n",
    "SELECT a.*,\n",
    "       b.*\n",
    "FROM a\n",
    "LEFT JOIN b ON a.user_id = b.id\n",
    "WHERE context_campaign_name IS NOT NULL\n",
    "\"\"\""
   ]
  },
  {
   "cell_type": "code",
   "execution_count": null,
   "metadata": {},
   "outputs": [],
   "source": [
    "formatter = column_parser.Parser(query)\n",
    "formatted = formatter.format_query(query)\n",
    "print(formatted)"
   ]
  },
  {
   "cell_type": "code",
   "execution_count": null,
   "metadata": {},
   "outputs": [],
   "source": [
    "formatter = column_parser.Parser(query)\n",
    "cte_query = formatter.parse_cte(query)\n",
    "cte_query"
   ]
  },
  {
   "cell_type": "code",
   "execution_count": null,
   "metadata": {},
   "outputs": [],
   "source": [
    "cte_query.keys()"
   ]
  },
  {
   "cell_type": "code",
   "execution_count": null,
   "metadata": {
    "scrolled": true
   },
   "outputs": [],
   "source": [
    "formatted = formatter.format_query(cte_query['main'])\n",
    "cte_query = formatter.parse_cte(formatted)\n",
    "cte_query"
   ]
  },
  {
   "cell_type": "code",
   "execution_count": null,
   "metadata": {},
   "outputs": [],
   "source": [
    "formatted = formatter.format_query(cte_query['main'])\n",
    "cte_query = formatter.parse_cte(formatted)\n",
    "cte_query"
   ]
  },
  {
   "cell_type": "markdown",
   "metadata": {},
   "source": [
    "## transformation 3: match table aliases"
   ]
  },
  {
   "cell_type": "code",
   "execution_count": null,
   "metadata": {},
   "outputs": [],
   "source": [
    "query = \"\"\"SELECT *\n",
    "FROM api_requests.requests_by_account m\n",
    "INNER JOIN mapbox_customer_data.styles s ON m.metadata_version = s.id\n",
    "LEFT JOIN sfdc.users u ON m.csm = u.id\n",
    "\"\"\""
   ]
  },
  {
   "cell_type": "code",
   "execution_count": null,
   "metadata": {},
   "outputs": [],
   "source": [
    "formatter = column_parser.Parser(query)\n",
    "formatted = formatter.format_query(query)"
   ]
  },
  {
   "cell_type": "code",
   "execution_count": null,
   "metadata": {},
   "outputs": [],
   "source": [
    "print(formatted)"
   ]
  },
  {
   "cell_type": "code",
   "execution_count": null,
   "metadata": {},
   "outputs": [],
   "source": [
    "table_alias_mapping = formatter.get_table_names(formatted.split('\\n'))\n",
    "table_alias_mapping"
   ]
  },
  {
   "cell_type": "markdown",
   "metadata": {},
   "source": [
    "## transformation 4: find columns"
   ]
  },
  {
   "cell_type": "code",
   "execution_count": null,
   "metadata": {},
   "outputs": [],
   "source": [
    "fields = formatter.match_queried_fields(query, db_fields)"
   ]
  },
  {
   "cell_type": "code",
   "execution_count": null,
   "metadata": {},
   "outputs": [],
   "source": [
    "pd.DataFrame(fields).sort_values(by=['database_name', 'table_name', 'column_name'])"
   ]
  },
  {
   "cell_type": "markdown",
   "metadata": {},
   "source": [
    "## bonus transformation: upload other query metadata (such as timestamp, user)"
   ]
  },
  {
   "cell_type": "code",
   "execution_count": null,
   "metadata": {},
   "outputs": [],
   "source": []
  }
 ],
 "metadata": {
  "kernelspec": {
   "display_name": "Python 3",
   "language": "python",
   "name": "python3"
  },
  "language_info": {
   "codemirror_mode": {
    "name": "ipython",
    "version": 3
   },
   "file_extension": ".py",
   "mimetype": "text/x-python",
   "name": "python",
   "nbconvert_exporter": "python",
   "pygments_lexer": "ipython3",
   "version": "3.7.4"
  }
 },
 "nbformat": 4,
 "nbformat_minor": 2
}
