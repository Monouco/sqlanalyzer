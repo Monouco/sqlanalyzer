{
 "cells": [
  {
   "cell_type": "code",
   "execution_count": null,
   "metadata": {},
   "outputs": [],
   "source": [
    "from graphviz import Digraph\n",
    "dot = Digraph('derived_query')\n",
    "dot.node('derived_query', 'derived_query')\n",
    "dot.node('sfdc_accounts', 'sfdc_accounts')\n",
    "dot.node('sfdc_cases_oppty', 'sfdc_cases_oppty')\n",
    "dot.node('sfdc_oppty', 'sfdc_oppty')\n",
    "dot.node('sfdc_cases', 'sfdc_cases')\n",
    "\n",
    "dot.edge('derived_query', 'sfdc_accounts', label=\"sfdc.accounts\")\n",
    "dot.edge('derived_query', 'sfdc_cases_oppty', label=\"sfdc.oppty, sfdc.cases\")\n",
    "dot.edge('sfdc_cases_oppty', 'sfdc_oppty', label=\"sfdc.oppty\")\n",
    "dot.edge('sfdc_cases_oppty', 'sfdc_cases', label=\"sfdc.cases\")\n",
    "\n",
    "dot.render('derived_query.gv', view=True)"
   ]
  }
 ],
 "metadata": {
  "kernelspec": {
   "display_name": "Python 3",
   "language": "python",
   "name": "python3"
  },
  "language_info": {
   "codemirror_mode": {
    "name": "ipython",
    "version": 3
   },
   "file_extension": ".py",
   "mimetype": "text/x-python",
   "name": "python",
   "nbconvert_exporter": "python",
   "pygments_lexer": "ipython3",
   "version": "3.7.4"
  }
 },
 "nbformat": 4,
 "nbformat_minor": 2
}
