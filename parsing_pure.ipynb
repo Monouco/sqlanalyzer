{
 "cells": [
  {
   "cell_type": "code",
   "execution_count": 1,
   "metadata": {},
   "outputs": [],
   "source": [
    "import json\n",
    "import pandas as pd\n",
    "from sqlanalyzer import column_parser"
   ]
  },
  {
   "cell_type": "code",
   "execution_count": 2,
   "metadata": {},
   "outputs": [],
   "source": [
    "with open('./sqlanalyzer/data.json', 'r') as f:\n",
    "    query_dict = json.load(f)"
   ]
  },
  {
   "cell_type": "code",
   "execution_count": 3,
   "metadata": {},
   "outputs": [
    {
     "name": "stdout",
     "output_type": "stream",
     "text": [
      "{\n",
      "  \"no alias\": {\n",
      "    \"a\": \"SELECT DISTINCT anonymous_id,                    user_id    FROM mapbox_customer_data.segment_identifies    WHERE dt >= '2018-07-01'      AND anonymous_id IS NOT NULL AND user_id IS NOT NULL \",\n",
      "    \"b\": \"SELECT id,           email,           created    FROM mapbox_customer_data.accounts WHERE cast(dt AS DATE) = CURRENT_DATE - INTERVAL '1' DAY \",\n",
      "    \"c\": \"SELECT anonymous_id AS anon_id_ad,           context_campaign_name,           min(TIMESTAMP) AS min_exposure    FROM mapbox_customer_data.segment_pages    WHERE dt >= '2018-07-01'      AND context_campaign_name IS NOT NULL    GROUP BY 1, 2\",\n",
      "    \"d\": \"SELECT DISTINCT anonymous_id AS anon_id_event,                    original_timestamp,                    event,                    context_traits_email    FROM mapbox_customer_data.segment_tracks    WHERE dt >= '2018-07-01'      AND event LIKE 'submitted_%form' AND context_traits_email IS NOT NULL \",\n",
      "    \"e\": {\n",
      "      \"sfdc_accounts\": \"sfdc.accounts\",\n",
      "      \"sfdc_cases_oppty\": {\n",
      "        \"no alias\": {\n",
      "          \"dt_owner\": \"SELECT DISTINCT dt FROM sfdc.owner AS sfdc_owner\",\n",
      "          \"main\": \"SELECT MAX(dt)\\nFROM AS dt_owner ON sfdc_oppty.dt = sfdc_cases.dt\"\n",
      "        },\n",
      "        \"sfdc_cases\": \"SELECT dt FROM sfdc.cases\",\n",
      "        \"main\": \"SELECT MAX(dt)\\nFROM (\\nSELECT dt\\nFROM sfdc.oppty\\nLEFT JOIN\\nLEFT JOIN sfdc_cases ON sfdc_oppty.dt = sfdc_cases.dt\"\n",
      "      },\n",
      "      \"main\": \"SELECT sfdc_accounts.platform,\\n       sfdc_accounts.mobile_os,\\n       sfdc_accounts.service_metadata,\\n       sfdc_cases.account,\\n       sfdc_cases.num_requests,\\n       sfdc_cases.owner,\\n       sfdc_accounts.user_id\\nFROM sfdc.accounts sfdc_accounts\\nLEFT JOIN\\nWHERE sfdc_cases_oppty.dt > '2020-04-03'\\n  AND sfdc_cases_oppty.dt < '2020-05-04'\\nORDER BY 1\\nGROUP BY 3\\nLIMIT 20 AS sfdc_cases_oppty ON sfdc_cases_oppty.dt = sfdc_accounts.dt\"\n",
      "    },\n",
      "    \"main\": \"SELECT a.*,\\n       b.*,\\n       c.*,\\n       d.*\\nFROM\\nLEFT JOIN\\nLEFT JOIN\\nLEFT JOIN\\nLEFT JOIN b ON a.user_id = b.id\\nc ON a.anonymous_id = c.anon_id_ad\\nd ON a.anonymous_id = d.anon_id_event\\ne ON e.user_id = a.user_id\"\n",
      "  },\n",
      "  \"main\": \"SELECT *\\nFROM\\nWHERE context_campaign_name IS NOT NULL \"\n",
      "} \n",
      "\n",
      "\n",
      "\n"
     ]
    }
   ],
   "source": [
    "print(json.dumps(query_dict, indent=2), '\\n\\n\\n')"
   ]
  },
  {
   "cell_type": "markdown",
   "metadata": {},
   "source": [
    "## metastore "
   ]
  },
  {
   "cell_type": "code",
   "execution_count": 4,
   "metadata": {},
   "outputs": [],
   "source": [
    "db_fields_1 = pd.DataFrame({'db_table': 'mapbox_customer_data.segment_identifies', \n",
    "            'all_columns': ['anonymous_id', 'user_id', 'service', 'service_metadata', 'service_metadata_version', 'account', 'num_requests', 'dt']})\n"
   ]
  },
  {
   "cell_type": "code",
   "execution_count": 5,
   "metadata": {},
   "outputs": [],
   "source": [
    "db_fields_2 = pd.DataFrame({'db_table': 'mapbox_customer_data.accounts', \n",
    "            'all_columns': ['id', 'user_id', 'email', 'created', 'service_metadata_version', 'account', 'num_requests', 'dt']})\n"
   ]
  },
  {
   "cell_type": "code",
   "execution_count": 6,
   "metadata": {},
   "outputs": [],
   "source": [
    "db_fields_3 = pd.DataFrame({'db_table': 'mapbox_customer_data.segment_pages', \n",
    "            'all_columns': ['anonymous_id', 'context_campaign_name', 'service', 'service_metadata', 'service_metadata_version', 'account', 'num_requests', 'dt']})\n"
   ]
  },
  {
   "cell_type": "code",
   "execution_count": 7,
   "metadata": {},
   "outputs": [],
   "source": [
    "db_fields_4 = pd.DataFrame({'db_table': 'mapbox_customer_data.segment_tracks', \n",
    "            'all_columns': ['anonymous_id', 'original_timestamp', 'event', 'context_traits_email', 'service_metadata_version', 'account', 'num_requests', 'dt']})\n"
   ]
  },
  {
   "cell_type": "code",
   "execution_count": 8,
   "metadata": {},
   "outputs": [],
   "source": [
    "db_fields_5 = pd.DataFrame({'db_table': 'sfdc.cases', \n",
    "            'all_columns': ['anonymous_id', 'original_timestamp', 'event', 'context_traits_email', 'service_metadata_version', 'account', 'num_requests', 'dt']})\n"
   ]
  },
  {
   "cell_type": "code",
   "execution_count": 9,
   "metadata": {},
   "outputs": [],
   "source": [
    "db_fields_6 = pd.DataFrame({'db_table': 'sfdc.owner',\n",
    "                           'all_columns': ['dt', 'first_name', 'last_name']})\n"
   ]
  },
  {
   "cell_type": "code",
   "execution_count": 10,
   "metadata": {},
   "outputs": [],
   "source": [
    "db_fields_7 = pd.DataFrame({'db_table': 'sfdc.accounts',\n",
    "                           'all_columns': ['platform', 'mobile_os', 'service_metadata', 'user_id', 'first_name', 'last_name']})\n"
   ]
  },
  {
   "cell_type": "code",
   "execution_count": 11,
   "metadata": {},
   "outputs": [
    {
     "data": {
      "text/html": [
       "<div>\n",
       "<style scoped>\n",
       "    .dataframe tbody tr th:only-of-type {\n",
       "        vertical-align: middle;\n",
       "    }\n",
       "\n",
       "    .dataframe tbody tr th {\n",
       "        vertical-align: top;\n",
       "    }\n",
       "\n",
       "    .dataframe thead th {\n",
       "        text-align: right;\n",
       "    }\n",
       "</style>\n",
       "<table border=\"1\" class=\"dataframe\">\n",
       "  <thead>\n",
       "    <tr style=\"text-align: right;\">\n",
       "      <th></th>\n",
       "      <th>db_table</th>\n",
       "      <th>all_columns</th>\n",
       "    </tr>\n",
       "  </thead>\n",
       "  <tbody>\n",
       "    <tr>\n",
       "      <td>0</td>\n",
       "      <td>mapbox_customer_data.segment_identifies</td>\n",
       "      <td>anonymous_id</td>\n",
       "    </tr>\n",
       "    <tr>\n",
       "      <td>1</td>\n",
       "      <td>mapbox_customer_data.segment_identifies</td>\n",
       "      <td>user_id</td>\n",
       "    </tr>\n",
       "    <tr>\n",
       "      <td>2</td>\n",
       "      <td>mapbox_customer_data.segment_identifies</td>\n",
       "      <td>service</td>\n",
       "    </tr>\n",
       "    <tr>\n",
       "      <td>3</td>\n",
       "      <td>mapbox_customer_data.segment_identifies</td>\n",
       "      <td>service_metadata</td>\n",
       "    </tr>\n",
       "    <tr>\n",
       "      <td>4</td>\n",
       "      <td>mapbox_customer_data.segment_identifies</td>\n",
       "      <td>service_metadata_version</td>\n",
       "    </tr>\n",
       "    <tr>\n",
       "      <td>5</td>\n",
       "      <td>mapbox_customer_data.segment_identifies</td>\n",
       "      <td>account</td>\n",
       "    </tr>\n",
       "    <tr>\n",
       "      <td>6</td>\n",
       "      <td>mapbox_customer_data.segment_identifies</td>\n",
       "      <td>num_requests</td>\n",
       "    </tr>\n",
       "    <tr>\n",
       "      <td>7</td>\n",
       "      <td>mapbox_customer_data.segment_identifies</td>\n",
       "      <td>dt</td>\n",
       "    </tr>\n",
       "    <tr>\n",
       "      <td>8</td>\n",
       "      <td>mapbox_customer_data.accounts</td>\n",
       "      <td>id</td>\n",
       "    </tr>\n",
       "    <tr>\n",
       "      <td>9</td>\n",
       "      <td>mapbox_customer_data.accounts</td>\n",
       "      <td>user_id</td>\n",
       "    </tr>\n",
       "    <tr>\n",
       "      <td>10</td>\n",
       "      <td>mapbox_customer_data.accounts</td>\n",
       "      <td>email</td>\n",
       "    </tr>\n",
       "    <tr>\n",
       "      <td>11</td>\n",
       "      <td>mapbox_customer_data.accounts</td>\n",
       "      <td>created</td>\n",
       "    </tr>\n",
       "    <tr>\n",
       "      <td>12</td>\n",
       "      <td>mapbox_customer_data.accounts</td>\n",
       "      <td>service_metadata_version</td>\n",
       "    </tr>\n",
       "    <tr>\n",
       "      <td>13</td>\n",
       "      <td>mapbox_customer_data.accounts</td>\n",
       "      <td>account</td>\n",
       "    </tr>\n",
       "    <tr>\n",
       "      <td>14</td>\n",
       "      <td>mapbox_customer_data.accounts</td>\n",
       "      <td>num_requests</td>\n",
       "    </tr>\n",
       "    <tr>\n",
       "      <td>15</td>\n",
       "      <td>mapbox_customer_data.accounts</td>\n",
       "      <td>dt</td>\n",
       "    </tr>\n",
       "    <tr>\n",
       "      <td>16</td>\n",
       "      <td>mapbox_customer_data.segment_pages</td>\n",
       "      <td>anonymous_id</td>\n",
       "    </tr>\n",
       "    <tr>\n",
       "      <td>17</td>\n",
       "      <td>mapbox_customer_data.segment_pages</td>\n",
       "      <td>context_campaign_name</td>\n",
       "    </tr>\n",
       "    <tr>\n",
       "      <td>18</td>\n",
       "      <td>mapbox_customer_data.segment_pages</td>\n",
       "      <td>service</td>\n",
       "    </tr>\n",
       "    <tr>\n",
       "      <td>19</td>\n",
       "      <td>mapbox_customer_data.segment_pages</td>\n",
       "      <td>service_metadata</td>\n",
       "    </tr>\n",
       "    <tr>\n",
       "      <td>20</td>\n",
       "      <td>mapbox_customer_data.segment_pages</td>\n",
       "      <td>service_metadata_version</td>\n",
       "    </tr>\n",
       "    <tr>\n",
       "      <td>21</td>\n",
       "      <td>mapbox_customer_data.segment_pages</td>\n",
       "      <td>account</td>\n",
       "    </tr>\n",
       "    <tr>\n",
       "      <td>22</td>\n",
       "      <td>mapbox_customer_data.segment_pages</td>\n",
       "      <td>num_requests</td>\n",
       "    </tr>\n",
       "    <tr>\n",
       "      <td>23</td>\n",
       "      <td>mapbox_customer_data.segment_pages</td>\n",
       "      <td>dt</td>\n",
       "    </tr>\n",
       "    <tr>\n",
       "      <td>24</td>\n",
       "      <td>mapbox_customer_data.segment_tracks</td>\n",
       "      <td>anonymous_id</td>\n",
       "    </tr>\n",
       "    <tr>\n",
       "      <td>25</td>\n",
       "      <td>mapbox_customer_data.segment_tracks</td>\n",
       "      <td>original_timestamp</td>\n",
       "    </tr>\n",
       "    <tr>\n",
       "      <td>26</td>\n",
       "      <td>mapbox_customer_data.segment_tracks</td>\n",
       "      <td>event</td>\n",
       "    </tr>\n",
       "    <tr>\n",
       "      <td>27</td>\n",
       "      <td>mapbox_customer_data.segment_tracks</td>\n",
       "      <td>context_traits_email</td>\n",
       "    </tr>\n",
       "    <tr>\n",
       "      <td>28</td>\n",
       "      <td>mapbox_customer_data.segment_tracks</td>\n",
       "      <td>service_metadata_version</td>\n",
       "    </tr>\n",
       "    <tr>\n",
       "      <td>29</td>\n",
       "      <td>mapbox_customer_data.segment_tracks</td>\n",
       "      <td>account</td>\n",
       "    </tr>\n",
       "    <tr>\n",
       "      <td>30</td>\n",
       "      <td>mapbox_customer_data.segment_tracks</td>\n",
       "      <td>num_requests</td>\n",
       "    </tr>\n",
       "    <tr>\n",
       "      <td>31</td>\n",
       "      <td>mapbox_customer_data.segment_tracks</td>\n",
       "      <td>dt</td>\n",
       "    </tr>\n",
       "    <tr>\n",
       "      <td>32</td>\n",
       "      <td>sfdc.cases</td>\n",
       "      <td>anonymous_id</td>\n",
       "    </tr>\n",
       "    <tr>\n",
       "      <td>33</td>\n",
       "      <td>sfdc.cases</td>\n",
       "      <td>original_timestamp</td>\n",
       "    </tr>\n",
       "    <tr>\n",
       "      <td>34</td>\n",
       "      <td>sfdc.cases</td>\n",
       "      <td>event</td>\n",
       "    </tr>\n",
       "    <tr>\n",
       "      <td>35</td>\n",
       "      <td>sfdc.cases</td>\n",
       "      <td>context_traits_email</td>\n",
       "    </tr>\n",
       "    <tr>\n",
       "      <td>36</td>\n",
       "      <td>sfdc.cases</td>\n",
       "      <td>service_metadata_version</td>\n",
       "    </tr>\n",
       "    <tr>\n",
       "      <td>37</td>\n",
       "      <td>sfdc.cases</td>\n",
       "      <td>account</td>\n",
       "    </tr>\n",
       "    <tr>\n",
       "      <td>38</td>\n",
       "      <td>sfdc.cases</td>\n",
       "      <td>num_requests</td>\n",
       "    </tr>\n",
       "    <tr>\n",
       "      <td>39</td>\n",
       "      <td>sfdc.cases</td>\n",
       "      <td>dt</td>\n",
       "    </tr>\n",
       "    <tr>\n",
       "      <td>40</td>\n",
       "      <td>sfdc.owner</td>\n",
       "      <td>dt</td>\n",
       "    </tr>\n",
       "    <tr>\n",
       "      <td>41</td>\n",
       "      <td>sfdc.owner</td>\n",
       "      <td>first_name</td>\n",
       "    </tr>\n",
       "    <tr>\n",
       "      <td>42</td>\n",
       "      <td>sfdc.owner</td>\n",
       "      <td>last_name</td>\n",
       "    </tr>\n",
       "    <tr>\n",
       "      <td>43</td>\n",
       "      <td>sfdc.accounts</td>\n",
       "      <td>platform</td>\n",
       "    </tr>\n",
       "    <tr>\n",
       "      <td>44</td>\n",
       "      <td>sfdc.accounts</td>\n",
       "      <td>mobile_os</td>\n",
       "    </tr>\n",
       "    <tr>\n",
       "      <td>45</td>\n",
       "      <td>sfdc.accounts</td>\n",
       "      <td>service_metadata</td>\n",
       "    </tr>\n",
       "    <tr>\n",
       "      <td>46</td>\n",
       "      <td>sfdc.accounts</td>\n",
       "      <td>user_id</td>\n",
       "    </tr>\n",
       "    <tr>\n",
       "      <td>47</td>\n",
       "      <td>sfdc.accounts</td>\n",
       "      <td>first_name</td>\n",
       "    </tr>\n",
       "    <tr>\n",
       "      <td>48</td>\n",
       "      <td>sfdc.accounts</td>\n",
       "      <td>last_name</td>\n",
       "    </tr>\n",
       "  </tbody>\n",
       "</table>\n",
       "</div>"
      ],
      "text/plain": [
       "                                   db_table               all_columns\n",
       "0   mapbox_customer_data.segment_identifies              anonymous_id\n",
       "1   mapbox_customer_data.segment_identifies                   user_id\n",
       "2   mapbox_customer_data.segment_identifies                   service\n",
       "3   mapbox_customer_data.segment_identifies          service_metadata\n",
       "4   mapbox_customer_data.segment_identifies  service_metadata_version\n",
       "5   mapbox_customer_data.segment_identifies                   account\n",
       "6   mapbox_customer_data.segment_identifies              num_requests\n",
       "7   mapbox_customer_data.segment_identifies                        dt\n",
       "8             mapbox_customer_data.accounts                        id\n",
       "9             mapbox_customer_data.accounts                   user_id\n",
       "10            mapbox_customer_data.accounts                     email\n",
       "11            mapbox_customer_data.accounts                   created\n",
       "12            mapbox_customer_data.accounts  service_metadata_version\n",
       "13            mapbox_customer_data.accounts                   account\n",
       "14            mapbox_customer_data.accounts              num_requests\n",
       "15            mapbox_customer_data.accounts                        dt\n",
       "16       mapbox_customer_data.segment_pages              anonymous_id\n",
       "17       mapbox_customer_data.segment_pages     context_campaign_name\n",
       "18       mapbox_customer_data.segment_pages                   service\n",
       "19       mapbox_customer_data.segment_pages          service_metadata\n",
       "20       mapbox_customer_data.segment_pages  service_metadata_version\n",
       "21       mapbox_customer_data.segment_pages                   account\n",
       "22       mapbox_customer_data.segment_pages              num_requests\n",
       "23       mapbox_customer_data.segment_pages                        dt\n",
       "24      mapbox_customer_data.segment_tracks              anonymous_id\n",
       "25      mapbox_customer_data.segment_tracks        original_timestamp\n",
       "26      mapbox_customer_data.segment_tracks                     event\n",
       "27      mapbox_customer_data.segment_tracks      context_traits_email\n",
       "28      mapbox_customer_data.segment_tracks  service_metadata_version\n",
       "29      mapbox_customer_data.segment_tracks                   account\n",
       "30      mapbox_customer_data.segment_tracks              num_requests\n",
       "31      mapbox_customer_data.segment_tracks                        dt\n",
       "32                               sfdc.cases              anonymous_id\n",
       "33                               sfdc.cases        original_timestamp\n",
       "34                               sfdc.cases                     event\n",
       "35                               sfdc.cases      context_traits_email\n",
       "36                               sfdc.cases  service_metadata_version\n",
       "37                               sfdc.cases                   account\n",
       "38                               sfdc.cases              num_requests\n",
       "39                               sfdc.cases                        dt\n",
       "40                               sfdc.owner                        dt\n",
       "41                               sfdc.owner                first_name\n",
       "42                               sfdc.owner                 last_name\n",
       "43                            sfdc.accounts                  platform\n",
       "44                            sfdc.accounts                 mobile_os\n",
       "45                            sfdc.accounts          service_metadata\n",
       "46                            sfdc.accounts                   user_id\n",
       "47                            sfdc.accounts                first_name\n",
       "48                            sfdc.accounts                 last_name"
      ]
     },
     "execution_count": 11,
     "metadata": {},
     "output_type": "execute_result"
    }
   ],
   "source": [
    "df = db_fields_1.append(db_fields_2, ignore_index=True)\n",
    "df = df.append(db_fields_3, ignore_index=True)\n",
    "df = df.append(db_fields_4, ignore_index=True)\n",
    "df = df.append(db_fields_5, ignore_index=True)\n",
    "df = df.append(db_fields_6, ignore_index=True)\n",
    "df = df.append(db_fields_7, ignore_index=True)\n",
    "df"
   ]
  },
  {
   "cell_type": "code",
   "execution_count": 12,
   "metadata": {},
   "outputs": [],
   "source": [
    "def extract_subquery_fields(query, db_fields):\n",
    "    formatter = column_parser.Parser(query)\n",
    "    formatted = formatter.format_query(query)\n",
    "    fields = formatter.match_queried_fields(formatted, db_fields)\n",
    "    return fields\n"
   ]
  },
  {
   "cell_type": "code",
   "execution_count": 13,
   "metadata": {},
   "outputs": [],
   "source": [
    "new_dict = {}\n",
    "new_dict['no alias'] = query_dict['no alias']\n",
    "for k,v in query_dict['no alias'].items():\n",
    "    if k in ('a', 'b', 'c', 'd'):\n",
    "        new_dict['no alias'][k] = extract_subquery_fields(query_dict['no alias'][k], df)"
   ]
  },
  {
   "cell_type": "code",
   "execution_count": 14,
   "metadata": {},
   "outputs": [
    {
     "data": {
      "text/plain": [
       "{'no alias': {'a': [{'database_name': 'mapbox_customer_data',\n",
       "    'table_name': 'segment_identifies',\n",
       "    'column_name': 'dt'},\n",
       "   {'database_name': 'mapbox_customer_data',\n",
       "    'table_name': 'segment_identifies',\n",
       "    'column_name': 'anonymous_id'},\n",
       "   {'database_name': 'mapbox_customer_data',\n",
       "    'table_name': 'segment_identifies',\n",
       "    'column_name': 'user_id'}],\n",
       "  'b': [{'database_name': 'mapbox_customer_data',\n",
       "    'table_name': 'accounts',\n",
       "    'column_name': 'id'},\n",
       "   {'database_name': 'mapbox_customer_data',\n",
       "    'table_name': 'accounts',\n",
       "    'column_name': 'email'},\n",
       "   {'database_name': 'mapbox_customer_data',\n",
       "    'table_name': 'accounts',\n",
       "    'column_name': 'created'},\n",
       "   {'database_name': 'mapbox_customer_data',\n",
       "    'table_name': 'accounts',\n",
       "    'column_name': 'dt'}],\n",
       "  'c': [{'database_name': 'mapbox_customer_data',\n",
       "    'table_name': 'segment_pages',\n",
       "    'column_name': 'dt'},\n",
       "   {'database_name': 'mapbox_customer_data',\n",
       "    'table_name': 'segment_pages',\n",
       "    'column_name': 'context_campaign_name'},\n",
       "   {'database_name': 'mapbox_customer_data',\n",
       "    'table_name': 'segment_pages',\n",
       "    'column_name': 'anonymous_id'}],\n",
       "  'd': [{'database_name': 'mapbox_customer_data',\n",
       "    'table_name': 'segment_tracks',\n",
       "    'column_name': 'event'},\n",
       "   {'database_name': 'mapbox_customer_data',\n",
       "    'table_name': 'segment_tracks',\n",
       "    'column_name': 'original_timestamp'},\n",
       "   {'database_name': 'mapbox_customer_data',\n",
       "    'table_name': 'segment_tracks',\n",
       "    'column_name': 'anonymous_id'},\n",
       "   {'database_name': 'mapbox_customer_data',\n",
       "    'table_name': 'segment_tracks',\n",
       "    'column_name': 'dt'},\n",
       "   {'database_name': 'mapbox_customer_data',\n",
       "    'table_name': 'segment_tracks',\n",
       "    'column_name': 'context_traits_email'}],\n",
       "  'e': {'sfdc_accounts': 'sfdc.accounts',\n",
       "   'sfdc_cases_oppty': {'no alias': {'dt_owner': 'SELECT DISTINCT dt FROM sfdc.owner AS sfdc_owner',\n",
       "     'main': 'SELECT MAX(dt)\\nFROM AS dt_owner ON sfdc_oppty.dt = sfdc_cases.dt'},\n",
       "    'sfdc_cases': 'SELECT dt FROM sfdc.cases',\n",
       "    'main': 'SELECT MAX(dt)\\nFROM (\\nSELECT dt\\nFROM sfdc.oppty\\nLEFT JOIN\\nLEFT JOIN sfdc_cases ON sfdc_oppty.dt = sfdc_cases.dt'},\n",
       "   'main': \"SELECT sfdc_accounts.platform,\\n       sfdc_accounts.mobile_os,\\n       sfdc_accounts.service_metadata,\\n       sfdc_cases.account,\\n       sfdc_cases.num_requests,\\n       sfdc_cases.owner,\\n       sfdc_accounts.user_id\\nFROM sfdc.accounts sfdc_accounts\\nLEFT JOIN\\nWHERE sfdc_cases_oppty.dt > '2020-04-03'\\n  AND sfdc_cases_oppty.dt < '2020-05-04'\\nORDER BY 1\\nGROUP BY 3\\nLIMIT 20 AS sfdc_cases_oppty ON sfdc_cases_oppty.dt = sfdc_accounts.dt\"},\n",
       "  'main': 'SELECT a.*,\\n       b.*,\\n       c.*,\\n       d.*\\nFROM\\nLEFT JOIN\\nLEFT JOIN\\nLEFT JOIN\\nLEFT JOIN b ON a.user_id = b.id\\nc ON a.anonymous_id = c.anon_id_ad\\nd ON a.anonymous_id = d.anon_id_event\\ne ON e.user_id = a.user_id'}}"
      ]
     },
     "execution_count": 14,
     "metadata": {},
     "output_type": "execute_result"
    }
   ],
   "source": [
    "new_dict"
   ]
  },
  {
   "cell_type": "code",
   "execution_count": 15,
   "metadata": {},
   "outputs": [
    {
     "data": {
      "text/plain": [
       "{'no alias': {'a': [{'database_name': 'mapbox_customer_data',\n",
       "    'table_name': 'segment_identifies',\n",
       "    'column_name': 'dt'},\n",
       "   {'database_name': 'mapbox_customer_data',\n",
       "    'table_name': 'segment_identifies',\n",
       "    'column_name': 'anonymous_id'},\n",
       "   {'database_name': 'mapbox_customer_data',\n",
       "    'table_name': 'segment_identifies',\n",
       "    'column_name': 'user_id'}],\n",
       "  'b': [{'database_name': 'mapbox_customer_data',\n",
       "    'table_name': 'accounts',\n",
       "    'column_name': 'id'},\n",
       "   {'database_name': 'mapbox_customer_data',\n",
       "    'table_name': 'accounts',\n",
       "    'column_name': 'email'},\n",
       "   {'database_name': 'mapbox_customer_data',\n",
       "    'table_name': 'accounts',\n",
       "    'column_name': 'created'},\n",
       "   {'database_name': 'mapbox_customer_data',\n",
       "    'table_name': 'accounts',\n",
       "    'column_name': 'dt'}],\n",
       "  'c': [{'database_name': 'mapbox_customer_data',\n",
       "    'table_name': 'segment_pages',\n",
       "    'column_name': 'dt'},\n",
       "   {'database_name': 'mapbox_customer_data',\n",
       "    'table_name': 'segment_pages',\n",
       "    'column_name': 'context_campaign_name'},\n",
       "   {'database_name': 'mapbox_customer_data',\n",
       "    'table_name': 'segment_pages',\n",
       "    'column_name': 'anonymous_id'}],\n",
       "  'd': [{'database_name': 'mapbox_customer_data',\n",
       "    'table_name': 'segment_tracks',\n",
       "    'column_name': 'event'},\n",
       "   {'database_name': 'mapbox_customer_data',\n",
       "    'table_name': 'segment_tracks',\n",
       "    'column_name': 'original_timestamp'},\n",
       "   {'database_name': 'mapbox_customer_data',\n",
       "    'table_name': 'segment_tracks',\n",
       "    'column_name': 'anonymous_id'},\n",
       "   {'database_name': 'mapbox_customer_data',\n",
       "    'table_name': 'segment_tracks',\n",
       "    'column_name': 'dt'},\n",
       "   {'database_name': 'mapbox_customer_data',\n",
       "    'table_name': 'segment_tracks',\n",
       "    'column_name': 'context_traits_email'}],\n",
       "  'e': {'sfdc_accounts': 'sfdc.accounts',\n",
       "   'sfdc_cases_oppty': {'no alias': {'dt_owner': 'SELECT DISTINCT dt FROM sfdc.owner AS sfdc_owner',\n",
       "     'main': 'SELECT MAX(dt)\\nFROM AS dt_owner ON sfdc_oppty.dt = sfdc_cases.dt'},\n",
       "    'sfdc_cases': 'SELECT dt FROM sfdc.cases',\n",
       "    'main': 'SELECT MAX(dt)\\nFROM (\\nSELECT dt\\nFROM sfdc.oppty\\nLEFT JOIN\\nLEFT JOIN sfdc_cases ON sfdc_oppty.dt = sfdc_cases.dt'},\n",
       "   'main': \"SELECT sfdc_accounts.platform,\\n       sfdc_accounts.mobile_os,\\n       sfdc_accounts.service_metadata,\\n       sfdc_cases.account,\\n       sfdc_cases.num_requests,\\n       sfdc_cases.owner,\\n       sfdc_accounts.user_id\\nFROM sfdc.accounts sfdc_accounts\\nLEFT JOIN\\nWHERE sfdc_cases_oppty.dt > '2020-04-03'\\n  AND sfdc_cases_oppty.dt < '2020-05-04'\\nORDER BY 1\\nGROUP BY 3\\nLIMIT 20 AS sfdc_cases_oppty ON sfdc_cases_oppty.dt = sfdc_accounts.dt\"},\n",
       "  'main': 'SELECT a.*,\\n       b.*,\\n       c.*,\\n       d.*\\nFROM\\nLEFT JOIN\\nLEFT JOIN\\nLEFT JOIN\\nLEFT JOIN b ON a.user_id = b.id\\nc ON a.anonymous_id = c.anon_id_ad\\nd ON a.anonymous_id = d.anon_id_event\\ne ON e.user_id = a.user_id'},\n",
       " 'main': 'SELECT *\\nFROM\\nWHERE context_campaign_name IS NOT NULL '}"
      ]
     },
     "execution_count": 15,
     "metadata": {},
     "output_type": "execute_result"
    }
   ],
   "source": [
    "query_dict"
   ]
  },
  {
   "cell_type": "code",
   "execution_count": 39,
   "metadata": {},
   "outputs": [
    {
     "data": {
      "text/plain": [
       "{'sfdc_accounts': 'sfdc.accounts',\n",
       " 'sfdc_cases_oppty': {'no alias': {'dt_owner': 'SELECT DISTINCT dt FROM sfdc.owner AS sfdc_owner',\n",
       "   'main': 'SELECT MAX(dt)\\nFROM AS dt_owner ON sfdc_oppty.dt = sfdc_cases.dt'},\n",
       "  'sfdc_cases': 'SELECT dt FROM sfdc.cases',\n",
       "  'main': 'SELECT MAX(dt)\\nFROM (\\nSELECT dt\\nFROM sfdc.oppty\\nLEFT JOIN\\nLEFT JOIN sfdc_cases ON sfdc_oppty.dt = sfdc_cases.dt'},\n",
       " 'main': \"SELECT sfdc_accounts.platform,\\n       sfdc_accounts.mobile_os,\\n       sfdc_accounts.service_metadata,\\n       sfdc_cases.account,\\n       sfdc_cases.num_requests,\\n       sfdc_cases.owner,\\n       sfdc_accounts.user_id\\nFROM sfdc.accounts sfdc_accounts\\nLEFT JOIN\\nWHERE sfdc_cases_oppty.dt > '2020-04-03'\\n  AND sfdc_cases_oppty.dt < '2020-05-04'\\nORDER BY 1\\nGROUP BY 3\\nLIMIT 20 AS sfdc_cases_oppty ON sfdc_cases_oppty.dt = sfdc_accounts.dt\"}"
      ]
     },
     "execution_count": 39,
     "metadata": {},
     "output_type": "execute_result"
    }
   ],
   "source": [
    "query_dict['no alias']['e']"
   ]
  },
  {
   "cell_type": "markdown",
   "metadata": {},
   "source": [
    "### bottom path"
   ]
  },
  {
   "cell_type": "code",
   "execution_count": 28,
   "metadata": {
    "scrolled": true
   },
   "outputs": [
    {
     "ename": "AttributeError",
     "evalue": "'str' object has no attribute 'keys'",
     "output_type": "error",
     "traceback": [
      "\u001b[0;31m---------------------------------------------------------------------------\u001b[0m",
      "\u001b[0;31mAttributeError\u001b[0m                            Traceback (most recent call last)",
      "\u001b[0;32m<ipython-input-28-adfc6f70b167>\u001b[0m in \u001b[0;36m<module>\u001b[0;34m\u001b[0m\n\u001b[0;32m----> 1\u001b[0;31m \u001b[0mquery_dict\u001b[0m\u001b[0;34m[\u001b[0m\u001b[0;34m'no alias'\u001b[0m\u001b[0;34m]\u001b[0m\u001b[0;34m[\u001b[0m\u001b[0;34m'e'\u001b[0m\u001b[0;34m]\u001b[0m\u001b[0;34m[\u001b[0m\u001b[0;34m'sfdc_accounts'\u001b[0m\u001b[0;34m]\u001b[0m\u001b[0;34m.\u001b[0m\u001b[0mkeys\u001b[0m\u001b[0;34m(\u001b[0m\u001b[0;34m)\u001b[0m\u001b[0;34m\u001b[0m\u001b[0;34m\u001b[0m\u001b[0m\n\u001b[0m",
      "\u001b[0;31mAttributeError\u001b[0m: 'str' object has no attribute 'keys'"
     ]
    }
   ],
   "source": [
    "query_dict['no alias']['e']['sfdc_accounts'].keys()"
   ]
  },
  {
   "cell_type": "code",
   "execution_count": 29,
   "metadata": {},
   "outputs": [
    {
     "ename": "AttributeError",
     "evalue": "'str' object has no attribute 'keys'",
     "output_type": "error",
     "traceback": [
      "\u001b[0;31m---------------------------------------------------------------------------\u001b[0m",
      "\u001b[0;31mAttributeError\u001b[0m                            Traceback (most recent call last)",
      "\u001b[0;32m<ipython-input-29-5312249614e2>\u001b[0m in \u001b[0;36m<module>\u001b[0;34m\u001b[0m\n\u001b[0;32m----> 1\u001b[0;31m \u001b[0mquery_dict\u001b[0m\u001b[0;34m[\u001b[0m\u001b[0;34m'no alias'\u001b[0m\u001b[0;34m]\u001b[0m\u001b[0;34m[\u001b[0m\u001b[0;34m'e'\u001b[0m\u001b[0;34m]\u001b[0m\u001b[0;34m[\u001b[0m\u001b[0;34m'main'\u001b[0m\u001b[0;34m]\u001b[0m\u001b[0;34m.\u001b[0m\u001b[0mkeys\u001b[0m\u001b[0;34m(\u001b[0m\u001b[0;34m)\u001b[0m\u001b[0;34m\u001b[0m\u001b[0;34m\u001b[0m\u001b[0m\n\u001b[0m",
      "\u001b[0;31mAttributeError\u001b[0m: 'str' object has no attribute 'keys'"
     ]
    }
   ],
   "source": [
    "query_dict['no alias']['e']['main'].keys()"
   ]
  },
  {
   "cell_type": "code",
   "execution_count": 33,
   "metadata": {},
   "outputs": [
    {
     "ename": "AttributeError",
     "evalue": "'str' object has no attribute 'keys'",
     "output_type": "error",
     "traceback": [
      "\u001b[0;31m---------------------------------------------------------------------------\u001b[0m",
      "\u001b[0;31mAttributeError\u001b[0m                            Traceback (most recent call last)",
      "\u001b[0;32m<ipython-input-33-5054dfa7539e>\u001b[0m in \u001b[0;36m<module>\u001b[0;34m\u001b[0m\n\u001b[0;32m----> 1\u001b[0;31m \u001b[0mquery_dict\u001b[0m\u001b[0;34m[\u001b[0m\u001b[0;34m'no alias'\u001b[0m\u001b[0;34m]\u001b[0m\u001b[0;34m[\u001b[0m\u001b[0;34m'e'\u001b[0m\u001b[0;34m]\u001b[0m\u001b[0;34m[\u001b[0m\u001b[0;34m'sfdc_cases_oppty'\u001b[0m\u001b[0;34m]\u001b[0m\u001b[0;34m[\u001b[0m\u001b[0;34m'main'\u001b[0m\u001b[0;34m]\u001b[0m\u001b[0;34m.\u001b[0m\u001b[0mkeys\u001b[0m\u001b[0;34m(\u001b[0m\u001b[0;34m)\u001b[0m\u001b[0;34m\u001b[0m\u001b[0;34m\u001b[0m\u001b[0m\n\u001b[0m",
      "\u001b[0;31mAttributeError\u001b[0m: 'str' object has no attribute 'keys'"
     ]
    }
   ],
   "source": [
    "query_dict['no alias']['e']['sfdc_cases_oppty']['main'].keys()"
   ]
  },
  {
   "cell_type": "code",
   "execution_count": 35,
   "metadata": {},
   "outputs": [
    {
     "ename": "AttributeError",
     "evalue": "'str' object has no attribute 'keys'",
     "output_type": "error",
     "traceback": [
      "\u001b[0;31m---------------------------------------------------------------------------\u001b[0m",
      "\u001b[0;31mAttributeError\u001b[0m                            Traceback (most recent call last)",
      "\u001b[0;32m<ipython-input-35-fe755802b277>\u001b[0m in \u001b[0;36m<module>\u001b[0;34m\u001b[0m\n\u001b[0;32m----> 1\u001b[0;31m \u001b[0mquery_dict\u001b[0m\u001b[0;34m[\u001b[0m\u001b[0;34m'no alias'\u001b[0m\u001b[0;34m]\u001b[0m\u001b[0;34m[\u001b[0m\u001b[0;34m'e'\u001b[0m\u001b[0;34m]\u001b[0m\u001b[0;34m[\u001b[0m\u001b[0;34m'sfdc_cases_oppty'\u001b[0m\u001b[0;34m]\u001b[0m\u001b[0;34m[\u001b[0m\u001b[0;34m'sfdc_cases'\u001b[0m\u001b[0;34m]\u001b[0m\u001b[0;34m.\u001b[0m\u001b[0mkeys\u001b[0m\u001b[0;34m(\u001b[0m\u001b[0;34m)\u001b[0m\u001b[0;34m\u001b[0m\u001b[0;34m\u001b[0m\u001b[0m\n\u001b[0m",
      "\u001b[0;31mAttributeError\u001b[0m: 'str' object has no attribute 'keys'"
     ]
    }
   ],
   "source": [
    "query_dict['no alias']['e']['sfdc_cases_oppty']['sfdc_cases'].keys()"
   ]
  },
  {
   "cell_type": "code",
   "execution_count": 37,
   "metadata": {},
   "outputs": [
    {
     "ename": "AttributeError",
     "evalue": "'str' object has no attribute 'keys'",
     "output_type": "error",
     "traceback": [
      "\u001b[0;31m---------------------------------------------------------------------------\u001b[0m",
      "\u001b[0;31mAttributeError\u001b[0m                            Traceback (most recent call last)",
      "\u001b[0;32m<ipython-input-37-02b3f7aa1361>\u001b[0m in \u001b[0;36m<module>\u001b[0;34m\u001b[0m\n\u001b[0;32m----> 1\u001b[0;31m \u001b[0mquery_dict\u001b[0m\u001b[0;34m[\u001b[0m\u001b[0;34m'no alias'\u001b[0m\u001b[0;34m]\u001b[0m\u001b[0;34m[\u001b[0m\u001b[0;34m'e'\u001b[0m\u001b[0;34m]\u001b[0m\u001b[0;34m[\u001b[0m\u001b[0;34m'sfdc_cases_oppty'\u001b[0m\u001b[0;34m]\u001b[0m\u001b[0;34m[\u001b[0m\u001b[0;34m'no alias'\u001b[0m\u001b[0;34m]\u001b[0m\u001b[0;34m[\u001b[0m\u001b[0;34m'dt_owner'\u001b[0m\u001b[0;34m]\u001b[0m\u001b[0;34m.\u001b[0m\u001b[0mkeys\u001b[0m\u001b[0;34m(\u001b[0m\u001b[0;34m)\u001b[0m\u001b[0;34m\u001b[0m\u001b[0;34m\u001b[0m\u001b[0m\n\u001b[0m",
      "\u001b[0;31mAttributeError\u001b[0m: 'str' object has no attribute 'keys'"
     ]
    }
   ],
   "source": [
    "query_dict['no alias']['e']['sfdc_cases_oppty']['no alias']['dt_owner'].keys()"
   ]
  },
  {
   "cell_type": "code",
   "execution_count": 38,
   "metadata": {},
   "outputs": [
    {
     "ename": "AttributeError",
     "evalue": "'str' object has no attribute 'keys'",
     "output_type": "error",
     "traceback": [
      "\u001b[0;31m---------------------------------------------------------------------------\u001b[0m",
      "\u001b[0;31mAttributeError\u001b[0m                            Traceback (most recent call last)",
      "\u001b[0;32m<ipython-input-38-3e43580119e6>\u001b[0m in \u001b[0;36m<module>\u001b[0;34m\u001b[0m\n\u001b[0;32m----> 1\u001b[0;31m \u001b[0mquery_dict\u001b[0m\u001b[0;34m[\u001b[0m\u001b[0;34m'no alias'\u001b[0m\u001b[0;34m]\u001b[0m\u001b[0;34m[\u001b[0m\u001b[0;34m'e'\u001b[0m\u001b[0;34m]\u001b[0m\u001b[0;34m[\u001b[0m\u001b[0;34m'sfdc_cases_oppty'\u001b[0m\u001b[0;34m]\u001b[0m\u001b[0;34m[\u001b[0m\u001b[0;34m'no alias'\u001b[0m\u001b[0;34m]\u001b[0m\u001b[0;34m[\u001b[0m\u001b[0;34m'main'\u001b[0m\u001b[0;34m]\u001b[0m\u001b[0;34m.\u001b[0m\u001b[0mkeys\u001b[0m\u001b[0;34m(\u001b[0m\u001b[0;34m)\u001b[0m\u001b[0;34m\u001b[0m\u001b[0;34m\u001b[0m\u001b[0m\n\u001b[0m",
      "\u001b[0;31mAttributeError\u001b[0m: 'str' object has no attribute 'keys'"
     ]
    }
   ],
   "source": [
    "query_dict['no alias']['e']['sfdc_cases_oppty']['no alias']['main'].keys()"
   ]
  }
 ],
 "metadata": {
  "kernelspec": {
   "display_name": "Python 3",
   "language": "python",
   "name": "python3"
  },
  "language_info": {
   "codemirror_mode": {
    "name": "ipython",
    "version": 3
   },
   "file_extension": ".py",
   "mimetype": "text/x-python",
   "name": "python",
   "nbconvert_exporter": "python",
   "pygments_lexer": "ipython3",
   "version": "3.7.4"
  }
 },
 "nbformat": 4,
 "nbformat_minor": 2
}
