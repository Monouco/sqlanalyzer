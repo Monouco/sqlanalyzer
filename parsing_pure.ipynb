{
 "cells": [
  {
   "cell_type": "code",
   "execution_count": 1,
   "metadata": {},
   "outputs": [],
   "source": [
    "import json\n",
    "import pandas as pd\n",
    "from sqlanalyzer import column_parser"
   ]
  },
  {
   "cell_type": "code",
   "execution_count": 2,
   "metadata": {},
   "outputs": [],
   "source": [
    "with open('./sqlanalyzer/data.json', 'r') as f:\n",
    "    query_dict = json.load(f)"
   ]
  },
  {
   "cell_type": "code",
   "execution_count": 3,
   "metadata": {},
   "outputs": [
    {
     "name": "stdout",
     "output_type": "stream",
     "text": [
      "{\n",
      "  \"mapbox_accounts0\": {\n",
      "    \"main\": \"SELECT id,\\n       email AS email_accounts,\\n       accountlevel\\nFROM mapbox_customer_data.accounts\\nWHERE dt = '{run_date}'\\n  AND COALESCE(LOWER(email), 'NULL') NOT LIKE ('%@mapbox.com')\\n  AND COALESCE(accountlevel, 'NULL') NOT IN ('staff',\\n                                             'mapbox-no-bill-1')\\n  AND id NOT IN ('streets-review-production') ), \"\n",
      "  },\n",
      "  \"mbx_verticals\": {\n",
      "    \"no alias\": \"SELECT *,           max(dt) OVER (PARTITION BY 'dummy') AS max_dt    FROM analytics.mbx_account_verticals\",\n",
      "    \"main\": \"SELECT mapbox_account_id,\\n       vertical\\nFROM\\nWHERE dt = max_dt ), \"\n",
      "  },\n",
      "  \"mbx_sfdc_accounts\": {\n",
      "    \"a\": \"sfdc.mapbox_accounts\",\n",
      "    \"b.id\": \"AND b.dt = '{run_date}' AND a.salesforce_account_id =\",\n",
      "    \"main\": \"SELECT a.*,\\n       b.name AS sfdc_account_name\\nFROM sfdc.mapbox_accounts a\\nLEFT JOIN sfdc.accounts b ON a.dt = '{run_date}'\\nWHERE a.dt = '{run_date}' ), \"\n",
      "  },\n",
      "  \"enterprise_exception\": {\n",
      "    \"(sfdc_acct_id)),\": \"VALUES ('0013600000QmuNtAAJ') ,('00136000005AxApAAK') ,('00136000005AxMbAAK') ,('0013600001KDnawAAD') ,('0011R000020WJXyQAO') ,('00136000005AxCgAAK') ,('00136000005AxElAAK') ,('0013600001KDUFDAA5') ,('00136000005AxLLAA0') ,('00136000005Ax5QAAS') ,('00136000005AxLgAAK')) AS v\",\n",
      "    \"main\": \"SELECT *\\nFROM (\\n      VALUES ('0013600000QmuNtAAJ') ,('00136000005AxApAAK') ,('00136000005AxMbAAK') ,('0013600001KDnawAAD') ,('0011R000020WJXyQAO') ,('00136000005AxCgAAK') ,('00136000005AxElAAK') ,('0013600001KDUFDAA5') ,('00136000005AxLLAA0') ,('00136000005Ax5QAAS') ,('00136000005AxLgAAK')) AS v (sfdc_acct_id)), \"\n",
      "  },\n",
      "  \"apa_deals0\": {\n",
      "    \"no alias\": \"SELECT *,           max(dt) OVER (PARTITION BY 'dummy') AS max_dt    FROM analytics.apa_deals\",\n",
      "    \"main\": \"SELECT mbx_acct_id,\\n       prd_start_date,\\n       prd_end_date\\nFROM\\nWHERE dt = max_dt ), \"\n",
      "  },\n",
      "  \"apa_deals\": {\n",
      "    \"apa\": \"apa_deals0\",\n",
      "    \"rcal\": \"IGHT JOIN analytics.ref_calendar\",\n",
      "    \"main\": \"SELECT DISTINCT rcal.vdate,\\n                apa.mbx_acct_id\\nFROM apa_deals0 apa rcal ON rcal.vdate BETWEEN apa.prd_start_date AND apa.prd_end_date),\"\n",
      "  },\n",
      "  \"paygo_free\": \"SELECT DISTINCT DATE(DATE_TRUNC('month', inv.date)) AS date_month,\\n                mbxacct.id AS mbx_acct_id\\nFROM payments.stripe_invoices inv\\nINNER JOIN payments.stripe_discounts disc ON inv.discount_id = disc.id\\nINNER JOIN payments.stripe_coupons coup ON disc.coupon_id = coup.id\\nAND coup.duration IN ('forever',\\n                      'repeating')\\nAND coup.percent_off = 100\\nINNER JOIN mapbox_customer_data.accounts mbxacct ON inv.customer_id = mbxacct.customerid\\nAND mbxacct.dt = '{run_date}'\\nWHERE inv.date >= DATE('2019-05-01') ),\",\n",
      "  \"cohort_mapping\": \"SELECT id,\\n       email_accounts,\\n       sfdc_account_id,\\n       vertical,\\n       revenue_group,\\n       CASE\\n           WHEN revenue_group IN ('enterprise exception') THEN 'Cohort 1'\\n           WHEN revenue_group IN ('enterprise longtail',\\n                                  'spp') THEN 'Cohort 2'\\n           ELSE 'Cohort 3'\\n       END AS cohort\\nFROM\\n  (SELECT a.id,\\n          a.email_accounts,\\n          mbx_sfdc.salesforce_account_id AS sfdc_account_id,\\n          COALESCE(b.vertical, 'none') AS vertical,\\n          CASE\\n              WHEN entexp.sfdc_acct_id IS NOT NULL THEN 'enterprise exception'\\n              WHEN spp.mbx_acct_id IS NOT NULL THEN 'spp'\\n              WHEN a.accountlevel = 'enterprise' THEN 'enterprise longtail'\\n              WHEN pfree.mbx_acct_id IS NOT NULL THEN 'paygo_free'\\n              ELSE 'paygo'\\n          END AS revenue_group\\n   FROM mapbox_accounts0 a\\n   LEFT JOIN mbx_verticals b ON a.id = b.mapbox_account_id\\n   LEFT JOIN mbx_sfdc_accounts mbx_sfdc ON a.id = mbx_sfdc.mapbox_account_id\\n   LEFT JOIN enterprise_exception entexp ON mbx_sfdc.salesforce_account_id = entexp.sfdc_acct_id\\n   LEFT JOIN apa_deals spp ON a.id = spp.mbx_acct_id\\n   AND spp.vdate = DATE('{run_date}')\\n   LEFT JOIN paygo_free pfree ON a.id = pfree.mbx_acct_id\\n   AND pfree.date_month BETWEEN ADD_MONTHS(DATE('{run_date}'), -1) AND DATE_SUB(DATE('{run_date}'), 1))),\",\n",
      "  \"service_mapping\": {\n",
      "    \"no alias\": \"SELECT DISTINCT sku_id,                    service_org,                    dt,                    max(dt) OVER (PARTITION BY 'dummy') AS max_dt    FROM analytics.service_endpoint_mapping    WHERE cast(dt AS DATE) >= CURRENT_DATE - INTERVAL '4' DAY \",\n",
      "    \"main\": \"SELECT DISTINCT sku_id AS service,\\n                service_org\\nFROM\\nWHERE dt = max_dt ), \"\n",
      "  },\n",
      "  \"weekly_data0\": \"SELECT (date_trunc('WEEK',(cast(a.dt AS DATE) + INTERVAL '1' DAY)) - INTERVAL '1' DAY) AS dt_week,\\n       a.log_source,\\n       a.platform,\\n       a.service,\\n       COALESCE(c.service_org, 'other') AS service_org,\\n       CASE\\n           WHEN a.status_code IN (301,\\n                                  302,\\n                                  307)\\n                OR a.status_code >= 400 THEN 'non_billable'\\n           ELSE 'billable'\\n       END AS status_code,\\n       CASE\\n           WHEN a.request_type IS NULL THEN 'non_billable'\\n           ELSE a.request_type\\n       END AS request_type,\\n       b.cohort,\\n       'all_cohort' AS dummy,\\n       b.vertical,\\n       a.account,\\n       COALESCE(b.sfdc_account_id, a.account) AS sfdc_account_id,\\n       sum(a.num_requests) AS num_requests\\nFROM analytics.api_requests a\\nINNER JOIN cohort_mapping b ON a.account = b.id\\nLEFT JOIN service_mapping c ON a.service = c.service\\nWHERE cast(a.dt AS DATE) > cast('{run_date}' AS DATE) - INTERVAL '14' DAY\\n  AND cast(a.dt AS DATE) <= cast('{run_date}' AS DATE)\\n  AND a.account != 'unknown'\\nGROUP BY 1,\\n         2,\\n         3,\\n         4,\\n         5,\\n         6,\\n         7,\\n         8,\\n         9,\\n         10,\\n         11,\\n         12\\nUNION ALL\\nSELECT (date_trunc('WEEK',(cast(a.dt AS DATE) + INTERVAL '1' DAY)) - INTERVAL '1' DAY) AS dt_week,\\n       a.log_source,\\n       a.platform,\\n       a.service,\\n       COALESCE(c.service_org, 'other') AS service_org,\\n       CASE\\n           WHEN a.status_code IN (301,\\n                                  302,\\n                                  307)\\n                OR a.status_code >= 400 THEN 'non_billable'\\n           ELSE 'billable'\\n       END AS status_code,\\n       CASE\\n           WHEN a.request_type IS NULL THEN 'non_billable'\\n           ELSE a.request_type\\n       END AS request_type,\\n       'Cohort 2, 3' AS cohort,\\n       'cohort_2_3' AS dummy,\\n       b.vertical,\\n       a.account,\\n       COALESCE(b.sfdc_account_id, a.account) AS sfdc_account_id,\\n       sum(a.num_requests) AS num_requests\\nFROM analytics.api_requests a\\nINNER JOIN cohort_mapping b ON a.account = b.id\\nAND b.cohort IN ('Cohort 2',\\n                 'Cohort 3')\\nLEFT JOIN service_mapping c ON a.service = c.service\\nWHERE cast(a.dt AS DATE) > cast('{run_date}' AS DATE) - INTERVAL '14' DAY\\n  AND cast(a.dt AS DATE) <= cast('{run_date}' AS DATE)\\n  AND a.account != 'unknown'\\n  AND b.cohort IN ('Cohort 2',\\n                   'Cohort 3')\\nGROUP BY 1,\\n         2,\\n         3,\\n         4,\\n         5,\\n         6,\\n         7,\\n         8,\\n         9,\\n         10,\\n         11,\\n         12),\",\n",
      "  \"cubed_data0_pre\": {\n",
      "    \"no alias\": \"SELECT dt_week,           log_source,           platform,           service,           service_org,           status_code,           request_type,           cohort,           dummy,           vertical,           account,           sfdc_account_id,           sum(num_requests) AS num_requests    FROM weekly_data0    GROUP BY dt_week,             log_source,             platform,             service,             service_org,             status_code,             request_type,             account,             cohort,             dummy,             vertical,             sfdc_account_id WITH CUBE\",\n",
      "    \"main\": \"SELECT dt_week,\\n       log_source,\\n       platform,\\n       service,\\n       service_org,\\n       status_code,\\n       request_type,\\n       cohort,\\n       vertical,\\n       account,\\n       sfdc_account_id,\\n       num_requests\\nFROM\\nWHERE dummy IS NOT NULL\\n  AND NOT (cohort IS NULL\\n           AND dummy != 'all_cohort')\\n  AND NOT (service IS NOT NULL\\n           AND service_org IS NULL)\\n  AND sfdc_account_id IS NOT NULL\\n  AND dt_week IS NOT NULL ), \"\n",
      "  },\n",
      "  \"cubed_data\": {\n",
      "    \"a),\": \"cubed_data0_pre\",\n",
      "    \"main\": \"SELECT a.dt_week,\\n       COALESCE(a.log_source, '_all') AS log_source,\\n       COALESCE(a.platform, '_all') AS platform,\\n       COALESCE(a.service, '_all') AS service,\\n       COALESCE(a.service_org, '_all') AS service_org,\\n       COALESCE(a.status_code, '_all') AS status_code,\\n       COALESCE(a.request_type, '_all') AS request_type,\\n       COALESCE(a.cohort, '_all') AS cohort,\\n       COALESCE(a.vertical, '_all') AS vertical,\\n       COALESCE(a.account, '_all') AS account,\\n       a.sfdc_account_id AS sfdc_account_id,\\n       a.num_requests\\nFROM cubed_data0_pre a), \"\n",
      "  },\n",
      "  \"this_week\": {\n",
      "    \"main\": \"SELECT dt_week,\\n       log_source,\\n       platform,\\n       service,\\n       service_org,\\n       status_code,\\n       request_type,\\n       cohort,\\n       vertical,\\n       account AS account_a,\\n       sfdc_account_id,\\n       num_requests\\nFROM cubed_data), \"\n",
      "  },\n",
      "  \"last_week\": {\n",
      "    \"main\": \"SELECT cast(dt_week AS DATE) + INTERVAL '7' DAY AS dt_week,\\n                                                   log_source,\\n                                                   platform,\\n                                                   service,\\n                                                   service_org,\\n                                                   status_code,\\n                                                   request_type,\\n                                                   cohort,\\n                                                   vertical,\\n                                                   account AS account_b,\\n                                                   sfdc_account_id,\\n                                                   num_requests\\nFROM cubed_data), \"\n",
      "  },\n",
      "  \"total_join\": {\n",
      "    \"a\": \"this_week\",\n",
      "    \"DATE)),\": \"AND a.sfdc_account_id = b.sfdc_account_id AND a.cohort = b.cohort AND a.vertical = b.vertical AND a.service = b.service AND a.service_org = b.service_org AND a.log_source = b.log_source AND a.platform = b.platform AND a.request_type = b.request_type AND a.status_code = b.status_code AND cast(a.dt_week AS DATE) = cast(b.dt_week AS\",\n",
      "    \"main\": \"SELECT coalesce(b.account_b, a.account_a) AS account,\\n       coalesce(b.sfdc_account_id, a.sfdc_account_id) AS sfdc_account_id,\\n       coalesce(b.cohort, a.cohort) AS cohort,\\n       coalesce(b.vertical, a.vertical) AS vertical,\\n       coalesce(cast(b.dt_week AS DATE), cast(a.dt_week AS DATE)) AS dt_week,\\n       coalesce(b.service, a.service) AS service,\\n       coalesce(b.service_org, a.service_org) AS service_org,\\n       coalesce(b.log_source, a.log_source) AS log_source,\\n       coalesce(b.platform, a.platform) AS platform,\\n       coalesce(b.status_code, a.status_code) AS status_code,\\n       coalesce(b.request_type, a.request_type) AS request_type,\\n       coalesce(a.num_requests, 0) AS this_week,\\n       coalesce(b.num_requests, 0) AS last_week,\\n       COALESCE(a.num_requests, 0) - coalesce(b.num_requests, 0) AS diff\\nFROM this_week a\\nLEFT JOIN last_week b ON a.account_a = b.account_b \"\n",
      "  },\n",
      "  \"winners_pre\": {\n",
      "    \"main\": \"SELECT *,\\n       row_number() OVER (PARTITION BY dt_week,\\n                                       log_source,\\n                                       service,\\n                                       service_org,\\n                                       platform,\\n                                       request_type,\\n                                       status_code,\\n                                       cohort,\\n                                       vertical\\n                          ORDER BY diff DESC) AS rank\\nFROM total_join\\nWHERE account = '_all'\\n  AND cast(dt_week AS DATE) + INTERVAL '6' DAY = cast('{run_date}' AS DATE)\\n  AND diff > 0\\n  AND account != 'unknown'\\nUNION ALL\\nSELECT *,\\n       row_number() OVER (PARTITION BY dt_week,\\n                                       log_source,\\n                                       service,\\n                                       service_org,\\n                                       platform,\\n                                       request_type,\\n                                       status_code,\\n                                       cohort, \"\n",
      "  },\n",
      "  \"winners\": {\n",
      "    \"main\": \"SELECT 'Winners' AS category,\\n       log_source,\\n       service,\\n       service_org,\\n       account,\\n       sfdc_account_id,\\n       cohort,\\n       vertical,\\n       platform,\\n       status_code,\\n       request_type,\\n       cast(dt_week AS DATE) + INTERVAL '6' DAY AS dt_week,\\n                                                   this_week,\\n                                                   last_week,\\n                                                   diff,\\n                                                   rank\\nFROM winners_pre\\nWHERE rank <= 50\\n  AND diff > 0\\n  AND account != 'unknown' ), \"\n",
      "  },\n",
      "  \"losers_pre\": {\n",
      "    \"main\": \"SELECT *,\\n       row_number() OVER (PARTITION BY dt_week,\\n                                       log_source,\\n                                       service,\\n                                       service_org,\\n                                       platform,\\n                                       request_type,\\n                                       status_code,\\n                                       cohort,\\n                                       vertical\\n                          ORDER BY diff ASC) AS rank\\nFROM total_join\\nWHERE account = '_all'\\n  AND cast(dt_week AS DATE) + INTERVAL '6' DAY = cast('{run_date}' AS DATE)\\n  AND diff < 0\\n  AND account != 'unknown'\\nUNION ALL\\nSELECT *,\\n       row_number() OVER (PARTITION BY dt_week,\\n                                       log_source,\\n                                       service,\\n                                       service_org,\\n                                       platform,\\n                                       request_type,\\n                                       status_code,\\n                                       cohort, \"\n",
      "  },\n",
      "  \"losers\": {\n",
      "    \"main\": \"SELECT 'Losers' AS category,\\n       log_source,\\n       service,\\n       service_org,\\n       account,\\n       sfdc_account_id,\\n       cohort,\\n       vertical,\\n       platform,\\n       status_code,\\n       request_type,\\n       cast(dt_week AS DATE) + INTERVAL '6' DAY AS dt_week,\\n                                                   this_week,\\n                                                   last_week,\\n                                                   diff,\\n                                                   rank\\nFROM losers_pre\\nWHERE rank <= 50\\n  AND diff < 0\\n  AND account != 'unknown' ), \"\n",
      "  },\n",
      "  \"final_winners_losers\": {\n",
      "    \"main\": \"SELECT category,\\n       log_source,\\n       service,\\n       service_org,\\n       account,\\n       sfdc_account_id,\\n       cohort,\\n       vertical,\\n       platform,\\n       status_code,\\n       request_type,\\n       this_week,\\n       last_week,\\n       diff,\\n       rank\\nFROM losers\\nWHERE cast(dt_week AS DATE) = cast('{run_date}' AS DATE)\\nUNION ALL\\nSELECT category,\\n       log_source,\\n       service,\\n       service_org,\\n       account,\\n       sfdc_account_id,\\n       cohort,\\n       vertical,\\n       platform,\\n       status_code,\\n       request_type,\\n       this_week,\\n       last_week, \"\n",
      "  },\n",
      "  \"main\": {\n",
      "    \"main\": \"SELECT *\\nFROM final_winners_losers \"\n",
      "  }\n",
      "} \n",
      "\n",
      "\n",
      "\n"
     ]
    }
   ],
   "source": [
    "print(json.dumps(query_dict, indent=2), '\\n\\n\\n')"
   ]
  },
  {
   "cell_type": "code",
   "execution_count": null,
   "metadata": {},
   "outputs": [],
   "source": [
    "query_dict['mbx_verticals']"
   ]
  },
  {
   "cell_type": "code",
   "execution_count": null,
   "metadata": {},
   "outputs": [],
   "source": [
    "query_dict['mbx_sfdc_accounts']"
   ]
  },
  {
   "cell_type": "code",
   "execution_count": null,
   "metadata": {},
   "outputs": [],
   "source": [
    "query_dict['apa_deals0']"
   ]
  },
  {
   "cell_type": "code",
   "execution_count": null,
   "metadata": {},
   "outputs": [],
   "source": [
    "query_dict['apa_deals']"
   ]
  },
  {
   "cell_type": "markdown",
   "metadata": {},
   "source": [
    "## metastore "
   ]
  },
  {
   "cell_type": "code",
   "execution_count": 4,
   "metadata": {},
   "outputs": [],
   "source": [
    "db_fields_1 = pd.DataFrame({'db_table': 'mapbox_customer_data.accounts', \n",
    "            'all_columns': ['id', 'accountlevel', 'email', 'created', 'service_metadata_version', 'account', 'num_requests', 'dt', 'customerid']})\n"
   ]
  },
  {
   "cell_type": "code",
   "execution_count": 5,
   "metadata": {},
   "outputs": [],
   "source": [
    "db_fields_2 = pd.DataFrame({'db_table': 'analytics.mbx_account_verticals', \n",
    "            'all_columns': ['mapbox_account_id', 'email', 'salesforce_account_id', 'vertical', 'vertical_source', 'dt']})\n"
   ]
  },
  {
   "cell_type": "code",
   "execution_count": 6,
   "metadata": {},
   "outputs": [],
   "source": [
    "db_fields_3 = pd.DataFrame({'db_table': 'sfdc.mapbox_accounts', \n",
    "            'all_columns': ['mapbox_account_id', 'mapbox_account_salesforce_id', 'salesforce_account_id', 'dt']})\n"
   ]
  },
  {
   "cell_type": "code",
   "execution_count": 7,
   "metadata": {},
   "outputs": [],
   "source": [
    "db_fields_4 = pd.DataFrame({'db_table': 'sfdc.accounts', \n",
    "            'all_columns': ['name', 'dt', 'account_health_c', 'billing_state']})\n"
   ]
  },
  {
   "cell_type": "code",
   "execution_count": 8,
   "metadata": {},
   "outputs": [],
   "source": [
    "db_fields_5 = pd.DataFrame({'db_table': 'analytics.apa_deals',\n",
    "                           'all_columns': ['mbx_acct_id', 'prd_start_date', 'prd_end_date', 'dt', 'stripe_cust_id']})\n"
   ]
  },
  {
   "cell_type": "code",
   "execution_count": 9,
   "metadata": {},
   "outputs": [],
   "source": [
    "db_fields_6 = pd.DataFrame({'db_table': 'analytics.ref_calendar',\n",
    "                           'all_columns': ['vdate']})\n"
   ]
  },
  {
   "cell_type": "code",
   "execution_count": 10,
   "metadata": {},
   "outputs": [],
   "source": [
    "db_fields_7 = pd.DataFrame({'db_table': 'payments.stripe_invoices',\n",
    "                           'all_columns': ['date', 'discount_id', 'customer_id', 'received_at', 'amount_due']})\n"
   ]
  },
  {
   "cell_type": "code",
   "execution_count": 11,
   "metadata": {},
   "outputs": [],
   "source": [
    "db_fields_8 = pd.DataFrame({'db_table': 'payments.stripe_discounts',\n",
    "                           'all_columns': ['id', 'coupon_id', 'subscription', 'received_at']})\n"
   ]
  },
  {
   "cell_type": "code",
   "execution_count": 12,
   "metadata": {},
   "outputs": [],
   "source": [
    "db_fields_9 = pd.DataFrame({'db_table': 'payments.stripe_coupons',\n",
    "                           'all_columns': ['id', 'duration', 'percent_off', 'created', 'currency']})\n"
   ]
  },
  {
   "cell_type": "code",
   "execution_count": 13,
   "metadata": {},
   "outputs": [],
   "source": [
    "db_fields_10 = pd.DataFrame({'db_table': 'analytics.service_endpoint_mapping',\n",
    "                           'all_columns': ['parent_sku', 'sku_id', 'service_org', 'dt', 'platform']})\n"
   ]
  },
  {
   "cell_type": "code",
   "execution_count": 14,
   "metadata": {},
   "outputs": [],
   "source": [
    "db_fields_11 = pd.DataFrame({'db_table': 'analytics.api_requests',\n",
    "                           'all_columns': ['log_source', 'platform', 'service', 'country',\n",
    "                                          'status_code', 'request_type', 'plugin', 'account', 'hr',\n",
    "                                          'num_requests', 'dt', 'hr_segment']})\n"
   ]
  },
  {
   "cell_type": "code",
   "execution_count": 15,
   "metadata": {},
   "outputs": [],
   "source": [
    "db_fields_12 = pd.DataFrame({'db_table': 'analytics.service_endpoint_mapping',\n",
    "                           'all_columns': ['parent_sku', 'sku_id', 'service_org', 'dt', 'platform']})\n"
   ]
  },
  {
   "cell_type": "code",
   "execution_count": 16,
   "metadata": {},
   "outputs": [
    {
     "data": {
      "text/html": [
       "<div>\n",
       "<style scoped>\n",
       "    .dataframe tbody tr th:only-of-type {\n",
       "        vertical-align: middle;\n",
       "    }\n",
       "\n",
       "    .dataframe tbody tr th {\n",
       "        vertical-align: top;\n",
       "    }\n",
       "\n",
       "    .dataframe thead th {\n",
       "        text-align: right;\n",
       "    }\n",
       "</style>\n",
       "<table border=\"1\" class=\"dataframe\">\n",
       "  <thead>\n",
       "    <tr style=\"text-align: right;\">\n",
       "      <th></th>\n",
       "      <th>db_table</th>\n",
       "      <th>all_columns</th>\n",
       "    </tr>\n",
       "  </thead>\n",
       "  <tbody>\n",
       "    <tr>\n",
       "      <td>0</td>\n",
       "      <td>mapbox_customer_data.accounts</td>\n",
       "      <td>id</td>\n",
       "    </tr>\n",
       "    <tr>\n",
       "      <td>1</td>\n",
       "      <td>mapbox_customer_data.accounts</td>\n",
       "      <td>accountlevel</td>\n",
       "    </tr>\n",
       "    <tr>\n",
       "      <td>2</td>\n",
       "      <td>mapbox_customer_data.accounts</td>\n",
       "      <td>email</td>\n",
       "    </tr>\n",
       "    <tr>\n",
       "      <td>3</td>\n",
       "      <td>mapbox_customer_data.accounts</td>\n",
       "      <td>created</td>\n",
       "    </tr>\n",
       "    <tr>\n",
       "      <td>4</td>\n",
       "      <td>mapbox_customer_data.accounts</td>\n",
       "      <td>service_metadata_version</td>\n",
       "    </tr>\n",
       "    <tr>\n",
       "      <td>...</td>\n",
       "      <td>...</td>\n",
       "      <td>...</td>\n",
       "    </tr>\n",
       "    <tr>\n",
       "      <td>60</td>\n",
       "      <td>analytics.service_endpoint_mapping</td>\n",
       "      <td>parent_sku</td>\n",
       "    </tr>\n",
       "    <tr>\n",
       "      <td>61</td>\n",
       "      <td>analytics.service_endpoint_mapping</td>\n",
       "      <td>sku_id</td>\n",
       "    </tr>\n",
       "    <tr>\n",
       "      <td>62</td>\n",
       "      <td>analytics.service_endpoint_mapping</td>\n",
       "      <td>service_org</td>\n",
       "    </tr>\n",
       "    <tr>\n",
       "      <td>63</td>\n",
       "      <td>analytics.service_endpoint_mapping</td>\n",
       "      <td>dt</td>\n",
       "    </tr>\n",
       "    <tr>\n",
       "      <td>64</td>\n",
       "      <td>analytics.service_endpoint_mapping</td>\n",
       "      <td>platform</td>\n",
       "    </tr>\n",
       "  </tbody>\n",
       "</table>\n",
       "<p>65 rows × 2 columns</p>\n",
       "</div>"
      ],
      "text/plain": [
       "                              db_table               all_columns\n",
       "0        mapbox_customer_data.accounts                        id\n",
       "1        mapbox_customer_data.accounts              accountlevel\n",
       "2        mapbox_customer_data.accounts                     email\n",
       "3        mapbox_customer_data.accounts                   created\n",
       "4        mapbox_customer_data.accounts  service_metadata_version\n",
       "..                                 ...                       ...\n",
       "60  analytics.service_endpoint_mapping                parent_sku\n",
       "61  analytics.service_endpoint_mapping                    sku_id\n",
       "62  analytics.service_endpoint_mapping               service_org\n",
       "63  analytics.service_endpoint_mapping                        dt\n",
       "64  analytics.service_endpoint_mapping                  platform\n",
       "\n",
       "[65 rows x 2 columns]"
      ]
     },
     "execution_count": 16,
     "metadata": {},
     "output_type": "execute_result"
    }
   ],
   "source": [
    "df = db_fields_1.append(db_fields_2, ignore_index=True)\n",
    "df = df.append(db_fields_3, ignore_index=True)\n",
    "df = df.append(db_fields_4, ignore_index=True)\n",
    "df = df.append(db_fields_5, ignore_index=True)\n",
    "df = df.append(db_fields_6, ignore_index=True)\n",
    "df = df.append(db_fields_7, ignore_index=True)\n",
    "df = df.append(db_fields_8, ignore_index=True)\n",
    "df = df.append(db_fields_9, ignore_index=True)\n",
    "df = df.append(db_fields_10, ignore_index=True)\n",
    "df = df.append(db_fields_11, ignore_index=True)\n",
    "df = df.append(db_fields_12, ignore_index=True)\n",
    "df"
   ]
  },
  {
   "cell_type": "code",
   "execution_count": 17,
   "metadata": {},
   "outputs": [],
   "source": [
    "def extract_subquery_fields(query, db_fields):\n",
    "    formatter = column_parser.Parser(query)\n",
    "    formatted = formatter.format_query(query)\n",
    "    fields = formatter.match_queried_fields(formatted, db_fields)\n",
    "    return fields\n"
   ]
  },
  {
   "cell_type": "code",
   "execution_count": 18,
   "metadata": {},
   "outputs": [],
   "source": [
    "def compile_queried_cols(query_dict):\n",
    "    all_cols = []\n",
    "    for k,v in query_dict.items():\n",
    "        if isinstance(v, dict):\n",
    "            for k1,v1 in v.items():\n",
    "                all_cols.extend(extract_subquery_fields(v1, df))\n",
    "        else:\n",
    "            all_cols.extend(extract_subquery_fields(v, df))\n",
    "    return all_cols\n"
   ]
  },
  {
   "cell_type": "code",
   "execution_count": 19,
   "metadata": {
    "scrolled": false
   },
   "outputs": [
    {
     "name": "stdout",
     "output_type": "stream",
     "text": [
      "mapbox_accounts0 \n",
      " [{'database_name': 'mapbox_customer_data', 'table_name': 'accounts', 'column_name': 'dt'}, {'database_name': 'mapbox_customer_data', 'table_name': 'accounts', 'column_name': 'id'}, {'database_name': 'mapbox_customer_data', 'table_name': 'accounts', 'column_name': 'accountlevel'}, {'database_name': 'mapbox_customer_data', 'table_name': 'accounts', 'column_name': 'email'}] \n",
      "\n",
      "\n",
      "mbx_verticals \n",
      " [{'database_name': 'analytics', 'table_name': 'mbx_account_verticals', 'column_name': 'dt'}] \n",
      "\n",
      "\n",
      "mbx_sfdc_accounts \n",
      " [{'database_name': 'sfdc', 'table_name': 'mapbox_accounts', 'column_name': 'dt'}, {'database_name': 'sfdc', 'table_name': 'mapbox_accounts', 'column_name': 'mapbox_account_salesforce_id'}, {'database_name': 'sfdc', 'table_name': 'mapbox_accounts', 'column_name': 'mapbox_account_id'}, {'database_name': 'sfdc', 'table_name': 'accounts', 'column_name': 'name'}, {'database_name': 'sfdc', 'table_name': 'mapbox_accounts', 'column_name': 'salesforce_account_id'}] \n",
      "\n",
      "\n",
      "enterprise_exception \n",
      " [] \n",
      "\n",
      "\n",
      "apa_deals0 \n",
      " [{'database_name': 'analytics', 'table_name': 'apa_deals', 'column_name': 'dt'}] \n",
      "\n",
      "\n",
      "apa_deals \n",
      " [] \n",
      "\n",
      "\n",
      "paygo_free \n",
      " [{'database_name': 'mapbox_customer_data', 'table_name': 'accounts', 'column_name': 'customerid'}, {'database_name': 'payments', 'table_name': 'stripe_invoices', 'column_name': 'discount_id'}, {'database_name': 'payments', 'table_name': 'stripe_invoices', 'column_name': 'customer_id'}, {'database_name': 'payments', 'table_name': 'stripe_invoices', 'column_name': 'date'}, {'database_name': 'payments', 'table_name': 'stripe_coupons', 'column_name': 'id'}, {'database_name': 'payments', 'table_name': 'stripe_coupons', 'column_name': 'duration'}, {'database_name': 'payments', 'table_name': 'stripe_coupons', 'column_name': 'percent_off'}, {'database_name': 'mapbox_customer_data', 'table_name': 'accounts', 'column_name': 'dt'}, {'database_name': 'mapbox_customer_data', 'table_name': 'accounts', 'column_name': 'id'}, {'database_name': 'payments', 'table_name': 'stripe_discounts', 'column_name': 'coupon_id'}, {'database_name': 'payments', 'table_name': 'stripe_discounts', 'column_name': 'id'}] \n",
      "\n",
      "\n",
      "cohort_mapping \n",
      " [] \n",
      "\n",
      "\n",
      "service_mapping \n",
      " [{'database_name': 'analytics', 'table_name': 'service_endpoint_mapping', 'column_name': 'dt'}, {'database_name': 'analytics', 'table_name': 'service_endpoint_mapping', 'column_name': 'sku_id'}, {'database_name': 'analytics', 'table_name': 'service_endpoint_mapping', 'column_name': 'service_org'}] \n",
      "\n",
      "\n",
      "weekly_data0 \n",
      " [{'database_name': 'analytics', 'table_name': 'api_requests', 'column_name': 'request_type'}, {'database_name': 'analytics', 'table_name': 'api_requests', 'column_name': 'account'}, {'database_name': 'analytics', 'table_name': 'api_requests', 'column_name': 'service'}, {'database_name': 'analytics', 'table_name': 'api_requests', 'column_name': 'num_requests'}, {'database_name': 'analytics', 'table_name': 'api_requests', 'column_name': 'status_code'}, {'database_name': 'analytics', 'table_name': 'api_requests', 'column_name': 'platform'}, {'database_name': 'analytics', 'table_name': 'api_requests', 'column_name': 'dt'}, {'database_name': 'analytics', 'table_name': 'api_requests', 'column_name': 'log_source'}] \n",
      "\n",
      "\n",
      "cubed_data0_pre \n",
      " [] \n",
      "\n",
      "\n",
      "cubed_data \n",
      " [] \n",
      "\n",
      "\n",
      "this_week \n",
      " [] \n",
      "\n",
      "\n",
      "last_week \n",
      " [] \n",
      "\n",
      "\n",
      "total_join \n",
      " [] \n",
      "\n",
      "\n",
      "winners_pre \n",
      " [] \n",
      "\n",
      "\n",
      "winners \n",
      " [] \n",
      "\n",
      "\n",
      "losers_pre \n",
      " [] \n",
      "\n",
      "\n",
      "losers \n",
      " [] \n",
      "\n",
      "\n",
      "final_winners_losers \n",
      " [] \n",
      "\n",
      "\n",
      "main \n",
      " [] \n",
      "\n",
      "\n"
     ]
    }
   ],
   "source": [
    "for k,v in query_dict.items():\n",
    "    if isinstance(v, dict):\n",
    "        print(k, '\\n', compile_queried_cols(v), '\\n\\n')\n",
    "    else:\n",
    "        print(k, '\\n', extract_subquery_fields(v, df), '\\n\\n')"
   ]
  },
  {
   "cell_type": "code",
   "execution_count": null,
   "metadata": {},
   "outputs": [],
   "source": []
  }
 ],
 "metadata": {
  "kernelspec": {
   "display_name": "Python 3",
   "language": "python",
   "name": "python3"
  },
  "language_info": {
   "codemirror_mode": {
    "name": "ipython",
    "version": 3
   },
   "file_extension": ".py",
   "mimetype": "text/x-python",
   "name": "python",
   "nbconvert_exporter": "python",
   "pygments_lexer": "ipython3",
   "version": "3.7.4"
  }
 },
 "nbformat": 4,
 "nbformat_minor": 2
}
