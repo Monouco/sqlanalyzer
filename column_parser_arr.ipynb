{
 "cells": [
  {
   "cell_type": "code",
   "execution_count": 19,
   "metadata": {},
   "outputs": [],
   "source": [
    "from sqlanalyzer import column_parser, unbundle, query_analyzer\n",
    "import re, json, time, sys\n",
    "import pandas as pd"
   ]
  },
  {
   "cell_type": "markdown",
   "metadata": {},
   "source": [
    "## given db metadata"
   ]
  },
  {
   "cell_type": "code",
   "execution_count": 20,
   "metadata": {},
   "outputs": [],
   "source": [
    "def extract_subquery_fields(query, db_fields):\n",
    "    formatter = column_parser.Parser(query)\n",
    "    formatted = formatter.format_query(query)\n",
    "    fields = formatter.match_queried_fields(formatted, db_fields)\n",
    "    return fields\n",
    " \n",
    "    \n",
    "def unnest_query_list(query_list):\n",
    "    preprocess_list = []\n",
    "    \n",
    "    for q in query_list:\n",
    "        for _, query in q.items():\n",
    "            \n",
    "            if isinstance(query, str):\n",
    "                preprocess_list.append(query)\n",
    "            else:\n",
    "                \n",
    "                for sub_q in query:\n",
    "                    sub_list = []\n",
    "                    for _, sub_query in sub_q.items():\n",
    "                        \n",
    "                        if isinstance(sub_query, str):\n",
    "                            sub_list.append(sub_query)\n",
    "                            \n",
    "                        else:\n",
    "                            for sub_sub_q in sub_query:\n",
    "                                for _, sub_sub_query in sub_sub_q.items():\n",
    "                                    \n",
    "                                    if isinstance(sub_sub_query, str):\n",
    "                                        sub_list.append(sub_sub_query)\n",
    "                                        \n",
    "                    preprocess_list.extend(sub_list)\n",
    "                    \n",
    "    return preprocess_list\n"
   ]
  },
  {
   "cell_type": "code",
   "execution_count": 37,
   "metadata": {},
   "outputs": [],
   "source": [
    "query = \"\"\"SELECT opportunity_id,\n",
    "          op.product_2_id, p.name AS product_name,\n",
    "                           COALESCE(CAST(quantity AS DOUBLE) * CAST(list_price AS DOUBLE), 0) AS total_price,\n",
    "                           netsuite_conn_netsuite_item_key_id_c AS netsuite_conn_net_suite_item_key_id_c,\n",
    "                           COUNT(netsuite_conn_netsuite_item_key_id_c) OVER (PARTITION BY opportunity_id) AS num_netsuite_items\n",
    "   FROM sfdc.opportunity_product op\n",
    "   LEFT JOIN sfdc.products p ON op.product_2_id = p.id\n",
    "   AND p.dt = '{run_date}'\n",
    "   WHERE op.dt = '{run_date}'\n",
    "     AND opportunity_id IS NOT NULL\n",
    "     AND product_name_c IS NOT NULL\n",
    "     AND op.is_deleted = FALSE \n",
    "\"\"\""
   ]
  },
  {
   "cell_type": "code",
   "execution_count": 38,
   "metadata": {},
   "outputs": [],
   "source": [
    "formatter = column_parser.Parser(query)\n",
    "formatted = formatter.format_query(query)"
   ]
  },
  {
   "cell_type": "code",
   "execution_count": 39,
   "metadata": {},
   "outputs": [],
   "source": [
    "analyzer = query_analyzer.Analyzer(query)\n",
    "query_dict = analyzer.parse_query(query)"
   ]
  },
  {
   "cell_type": "code",
   "execution_count": 40,
   "metadata": {},
   "outputs": [
    {
     "data": {
      "text/plain": [
       "[{'query': \"SELECT opportunity_id,\\n          op.product_2_id, p.name AS product_name,\\n                           COALESCE(CAST(quantity AS DOUBLE) * CAST(list_price AS DOUBLE), 0) AS total_price,\\n                           netsuite_conn_netsuite_item_key_id_c AS netsuite_conn_net_suite_item_key_id_c,\\n                           COUNT(netsuite_conn_netsuite_item_key_id_c) OVER (PARTITION BY opportunity_id) AS num_netsuite_items\\n   FROM sfdc.opportunity_product op\\n   LEFT JOIN sfdc.products p ON op.product_2_id = p.id\\n   AND p.dt = '{run_date}'\\n   WHERE op.dt = '{run_date}'\\n     AND opportunity_id IS NOT NULL\\n     AND product_name_c IS NOT NULL\\n     AND op.is_deleted = FALSE \\n\"}]"
      ]
     },
     "execution_count": 40,
     "metadata": {},
     "output_type": "execute_result"
    }
   ],
   "source": [
    "query_dict"
   ]
  },
  {
   "cell_type": "code",
   "execution_count": 41,
   "metadata": {},
   "outputs": [],
   "source": [
    "preprocess_list = unnest_query_list(query_dict)"
   ]
  },
  {
   "cell_type": "code",
   "execution_count": 42,
   "metadata": {
    "scrolled": false
   },
   "outputs": [
    {
     "data": {
      "text/plain": [
       "[\"SELECT opportunity_id,\\n          op.product_2_id, p.name AS product_name,\\n                           COALESCE(CAST(quantity AS DOUBLE) * CAST(list_price AS DOUBLE), 0) AS total_price,\\n                           netsuite_conn_netsuite_item_key_id_c AS netsuite_conn_net_suite_item_key_id_c,\\n                           COUNT(netsuite_conn_netsuite_item_key_id_c) OVER (PARTITION BY opportunity_id) AS num_netsuite_items\\n   FROM sfdc.opportunity_product op\\n   LEFT JOIN sfdc.products p ON op.product_2_id = p.id\\n   AND p.dt = '{run_date}'\\n   WHERE op.dt = '{run_date}'\\n     AND opportunity_id IS NOT NULL\\n     AND product_name_c IS NOT NULL\\n     AND op.is_deleted = FALSE \\n\"]"
      ]
     },
     "execution_count": 42,
     "metadata": {},
     "output_type": "execute_result"
    }
   ],
   "source": [
    "preprocess_list"
   ]
  },
  {
   "cell_type": "code",
   "execution_count": 43,
   "metadata": {},
   "outputs": [],
   "source": [
    "col_list = []\n",
    "for query in preprocess_list:\n",
    "    col_list.extend(extract_subquery_fields(query, db_fields))\n"
   ]
  },
  {
   "cell_type": "code",
   "execution_count": 44,
   "metadata": {},
   "outputs": [
    {
     "data": {
      "text/plain": [
       "[{'database_name': 'sfdc', 'table_name': 'products', 'column_name': 'dt'},\n",
       " {'database_name': 'sfdc',\n",
       "  'table_name': 'opportunity_product',\n",
       "  'column_name': 'is_deleted'},\n",
       " {'database_name': 'sfdc',\n",
       "  'table_name': 'opportunity_product',\n",
       "  'column_name': 'opportunity_id'},\n",
       " {'database_name': 'sfdc',\n",
       "  'table_name': 'opportunity_product',\n",
       "  'column_name': 'dt'},\n",
       " {'database_name': 'sfdc', 'table_name': 'products', 'column_name': 'name'},\n",
       " {'database_name': 'sfdc',\n",
       "  'table_name': 'opportunity_product',\n",
       "  'column_name': 'product_name_c'},\n",
       " {'database_name': 'sfdc',\n",
       "  'table_name': 'opportunity_product',\n",
       "  'column_name': 'netsuite_conn_netsuite_item_key_id_c'},\n",
       " {'database_name': 'sfdc', 'table_name': 'products', 'column_name': 'id'}]"
      ]
     },
     "execution_count": 44,
     "metadata": {},
     "output_type": "execute_result"
    }
   ],
   "source": [
    "col_list"
   ]
  },
  {
   "cell_type": "code",
   "execution_count": 27,
   "metadata": {
    "scrolled": false
   },
   "outputs": [],
   "source": [
    "db_fields_1 = pd.DataFrame({'db_table': 'sfdc.opportunity_product', \n",
    "            'all_columns': ['actual_quantity_c',\n",
    " 'annual_list_price_value_c',\n",
    " 'annual_product_value_c',\n",
    " 'annual_recurring_revenue_c',\n",
    " 'contract_is_12_months_or_more_c',\n",
    " 'created_by_id',\n",
    " 'created_date',\n",
    " 'description',\n",
    " 'discount_c',\n",
    " 'end_date_c',\n",
    " 'final_year_of_contract_c',\n",
    " 'id',\n",
    " 'invoice_schedule_c',\n",
    " 'is_deleted',\n",
    " 'last_modified_by_id',\n",
    " 'last_modified_date',\n",
    " 'line_family_c',\n",
    " 'list_price',\n",
    " 'list_price_value_c',\n",
    " 'monthly_recurring_revenue_c',\n",
    " 'name',\n",
    " 'netsuite_conn_netsuite_item_id_import_c',\n",
    " 'netsuite_conn_netsuite_item_key_id_c',\n",
    " 'netsuite_conn_pushed_from_netsuite_c',\n",
    " 'netsuite_conn_start_date_c',\n",
    " 'opp_end_date_lineitem_end_date_c',\n",
    " 'opportunity_id',\n",
    " 'opportunity_product_line_types_c',\n",
    " 'opportunity_service_days_c',\n",
    " 'overage_price_c',\n",
    " 'pricebook_entry_id',\n",
    " 'product_2_id',\n",
    " 'product_code',\n",
    " 'product_family_c',\n",
    " 'product_name_c',\n",
    " 'product_value_c',\n",
    " 'quantity',\n",
    " 'roll_up_summary_years_c',\n",
    " 'service_date',\n",
    " 'service_days_c',\n",
    " 'service_year_c',\n",
    " 'service_year_to_text_c',\n",
    " 'system_modstamp',\n",
    " 'time_fetched_from_salesforce',\n",
    " 'total_price',\n",
    " 'unit_price',\n",
    " 'update_everything_c',\n",
    " 'x18_digit_opportunity_id_c',\n",
    " 'dt']})\n"
   ]
  },
  {
   "cell_type": "code",
   "execution_count": 28,
   "metadata": {},
   "outputs": [],
   "source": [
    "db_fields_2 = pd.DataFrame({'db_table': 'sfdc.products', \n",
    "            'all_columns': ['availability_c',\n",
    " 'billing_type_c',\n",
    " 'cpm_product_c',\n",
    " 'created_date',\n",
    " 'exempt_api_calls_c',\n",
    " 'family',\n",
    " 'id',\n",
    " 'implementing_sdks_c',\n",
    " 'is_active',\n",
    " 'is_deleted',\n",
    " 'launch_date_c',\n",
    " 'name',\n",
    " 'netsuite_conn_celigo_update_c',\n",
    " 'netsuite_conn_item_category_c',\n",
    " 'netsuite_conn_netsuite_id_c',\n",
    " 'netsuite_conn_sub_type_c',\n",
    " 'pql_usage_tier_c',\n",
    " 'product_code',\n",
    " 'product_id_c',\n",
    " 'service_organization_c',\n",
    " 'sku_id_c',\n",
    " 'volume_discount_c',\n",
    " 'dt']})\n"
   ]
  },
  {
   "cell_type": "code",
   "execution_count": 29,
   "metadata": {},
   "outputs": [],
   "source": [
    "db_fields_3 = pd.DataFrame({'db_table': 'sfdc.accounts', \n",
    "            'all_columns': ['account_health_c',\n",
    " 'account_health_flag_c',\n",
    " 'account_health_last_touch_c',\n",
    " 'account_notes_c',\n",
    " 'account_owner_c',\n",
    " 'account_owner_id_c',\n",
    " 'account_segment_c',\n",
    " 'account_source',\n",
    " 'account_start_date_c',\n",
    " 'account_tier_c',\n",
    " 'add_company_tags_single_c',\n",
    " 'annual_revenue',\n",
    " 'billing_city',\n",
    " 'billing_country',\n",
    " 'billing_postal_code',\n",
    " 'billing_state',\n",
    " 'billing_street',\n",
    " 'churned_date_c',\n",
    " 'created_by_id',\n",
    " 'created_date',\n",
    " 'crunchbase_funding_c',\n",
    " 'csm_c',\n",
    " 'customer_tier_c',\n",
    " 'domain_c',\n",
    " 'dscorgpkg_lead_source_c',\n",
    " 'dscorgpkg_naics_codes_c',\n",
    " 'dscorgpkg_sic_codes_c',\n",
    " 'finance_arr_c',\n",
    " 'github_issue_ticket_c',\n",
    " 'health_update_c',\n",
    " 'id',\n",
    " 'industry',\n",
    " 'industry_group_c',\n",
    " 'industry_sector_c',\n",
    " 'initial_deal_arr_c',\n",
    " 'initial_deal_date_c',\n",
    " 'is_deleted',\n",
    " 'last_activity_date',\n",
    " 'last_modified_date',\n",
    " 'lfbn_account_domain_c',\n",
    " 'lost_opportunities_c',\n",
    " 'lost_renewals_c',\n",
    " 'mapbox_username_c',\n",
    " 'naics_code_c',\n",
    " 'name',\n",
    " 'netsuite_conn_channel_tier_c',\n",
    " 'next_renewal_date_c',\n",
    " 'number_of_employees',\n",
    " 'number_of_mapbox_users_c',\n",
    " 'open_opportunities_c',\n",
    " 'open_renewals_c',\n",
    " 'owner_id',\n",
    " 'owner_role_c',\n",
    " 'parent_id',\n",
    " 'partner_status_c',\n",
    " 'partner_type_c',\n",
    " 'primary_contact_c',\n",
    " 'primary_use_case_c',\n",
    " 'rating',\n",
    " 'record_type_id',\n",
    " 'region_c',\n",
    " 'renewal_manager_c',\n",
    " 'sb_pf_company_c',\n",
    " 'sdr_c',\n",
    " 'segmentation_c',\n",
    " 'shipping_city',\n",
    " 'shipping_country',\n",
    " 'shipping_postal_code',\n",
    " 'shipping_state',\n",
    " 'shipping_street',\n",
    " 'sic',\n",
    " 'solution_engineer_c',\n",
    " 'sub_industry_c',\n",
    " 'sub_region_c',\n",
    " 'support_engineer_c',\n",
    " 'type',\n",
    " 'vertical_c',\n",
    " 'vertical_formula_c',\n",
    " 'won_opportunities_c',\n",
    " 'x18_digit_account_id_c',\n",
    " 'zendesk_result_c',\n",
    " 'zendesk_zendesk_organization_c',\n",
    " 'zendesk_zendesk_organization_id_c',\n",
    " 'zisf_zoominfo_industry_c',\n",
    " 'dt']})\n"
   ]
  },
  {
   "cell_type": "code",
   "execution_count": 30,
   "metadata": {},
   "outputs": [],
   "source": [
    "db_fields_4 = pd.DataFrame({'db_table': 'sfdc.opportunities', \n",
    "            'all_columns': ['account_id',\n",
    " 'add_company_tag_c',\n",
    " 'add_use_cases_c',\n",
    " 'admin_churn_fc_override_c',\n",
    " 'agenda_c',\n",
    " 'amount',\n",
    " 'arr_c',\n",
    " 'authority_c',\n",
    " 'authority_detail_c',\n",
    " 'autorenewal_c',\n",
    " 'average_contract_value_acv_c',\n",
    " 'billing_entity_c',\n",
    " 'budget_in_usd_c',\n",
    " 'business_goals_notes_c',\n",
    " 'campaign_id',\n",
    " 'churn_acv_c',\n",
    " 'churn_arr_c',\n",
    " 'close_date',\n",
    " 'commit_flag_c',\n",
    " 'compelling_event_c',\n",
    " 'confirm_enterprise_requirements_c',\n",
    " 'contract_signed_c',\n",
    " 'contracted_expansion_c',\n",
    " 'contraction_acv_c',\n",
    " 'country_c',\n",
    " 'created_by_id',\n",
    " 'created_by_role_c',\n",
    " 'created_date',\n",
    " 'csm_c',\n",
    " 'customer_presentation_date_c',\n",
    " 'customer_value_prop_c',\n",
    " 'department_c',\n",
    " 'economic_buyer_identified_c',\n",
    " 'effective_date_c',\n",
    " 'effective_date_mgr_c',\n",
    " 'effective_date_vp_c',\n",
    " 'estimated_annual_revenue_c',\n",
    " 'exit_arr_c',\n",
    " 'expected_close_date_c',\n",
    " 'expected_launch_date_c',\n",
    " 'final_confirmation_on_triptik_c',\n",
    " 'final_documents_sent_c',\n",
    " 'forecast_category',\n",
    " 'forecast_category_name',\n",
    " 'forecasted_churn_reportable_c',\n",
    " 'gclid_c',\n",
    " 'gclid_date_c',\n",
    " 'github_ticket_c',\n",
    " 'id',\n",
    " 'inbound_message_c',\n",
    " 'interested_in_c',\n",
    " 'is_closed',\n",
    " 'is_deleted',\n",
    " 'is_split',\n",
    " 'is_won',\n",
    " 'last_activity_date',\n",
    " 'last_modified_date',\n",
    " 'last_referenced_date',\n",
    " 'last_trip_tik_update_c',\n",
    " 'latest_hand_off_date_c',\n",
    " 'lead_source',\n",
    " 'lead_source_detail_c',\n",
    " 'lost_because_c',\n",
    " 'lost_because_competitor_list_c',\n",
    " 'lost_because_detail_c',\n",
    " 'lost_because_notes_c',\n",
    " 'lost_date_c',\n",
    " 'mapbox_service_owner_c',\n",
    " 'mapbox_username_c',\n",
    " 'name',\n",
    " 'need_detail_c',\n",
    " 'need_notes_sdr_c',\n",
    " 'need_sdr_c',\n",
    " 'net_new_arr_c',\n",
    " 'net_new_arr_forecast_c',\n",
    " 'net_new_arr_forecast_mgr_c',\n",
    " 'net_new_arr_forecast_vp_c',\n",
    " 'netsuite_conn_bill_to_tier_c',\n",
    " 'netsuite_conn_current_sales_order_id_c',\n",
    " 'netsuite_conn_netsuite_sales_order_number_c',\n",
    " 'netsuite_conn_ship_to_tier_c',\n",
    " 'new_acv2019_c',\n",
    " 'next_step',\n",
    " 'next_step_c',\n",
    " 'next_step_date_c',\n",
    " 'next_steps_new_c',\n",
    " 'non_enterprise_c',\n",
    " 'notes_c',\n",
    " 'objectives_c',\n",
    " 'opp_renewal_risk_c',\n",
    " 'opp_renewal_risk_flag_c',\n",
    " 'opportunity_count_c',\n",
    " 'opportunity_owner_id_c',\n",
    " 'opportunity_product_lines_c',\n",
    " 'opportunity_segment_c',\n",
    " 'original_renewal_date_c',\n",
    " 'other_use_case_c',\n",
    " 'owner_id',\n",
    " 'owner_role_c',\n",
    " 'partner_reseller_c',\n",
    " 'poc_kick_off_date_c',\n",
    " 'pricebook_2_id',\n",
    " 'primary_competitor_c',\n",
    " 'primary_use_case_c',\n",
    " 'primary_use_case_sdr_c',\n",
    " 'prior_amount_c',\n",
    " 'prior_close_date_c',\n",
    " 'prior_opportunity_c',\n",
    " 'prior_opportunity_service_end_date_c',\n",
    " 'prior_stage_c',\n",
    " 'probability',\n",
    " 'product_acv_c',\n",
    " 'qualified_by_c',\n",
    " 'record_type_id',\n",
    " 'renewal_acv_c',\n",
    " 'renewal_arr_c',\n",
    " 'renewal_arr_override_c',\n",
    " 'renewal_deadline_c',\n",
    " 'renewal_health_c',\n",
    " 'renewal_manager_c',\n",
    " 'renewal_new_agreement_c',\n",
    " 'requires_legal_c',\n",
    " 'sal_date_c',\n",
    " 'sales_engineer_c',\n",
    " 'sales_forecast_mgr_c',\n",
    " 'sales_forecast_vp_c',\n",
    " 'sales_manager_forecast_last_updated_on_c',\n",
    " 'sales_manager_forecast_updated_manually_c',\n",
    " 'sales_rep_forecast_last_updated_on_c',\n",
    " 'sales_to_cs_hand_off_c',\n",
    " 'se_github_ticket_c',\n",
    " 'service_days_c',\n",
    " 'service_end_date_c',\n",
    " 'service_start_date_c',\n",
    " 'service_years_c',\n",
    " 'shipping_entity_c',\n",
    " 'stage_0_date_c',\n",
    " 'stage_1_date_c',\n",
    " 'stage_2_date_c',\n",
    " 'stage_3_date_c',\n",
    " 'stage_4_date_c',\n",
    " 'stage_5_date_c',\n",
    " 'stage_6_date_c',\n",
    " 'stage_7_date_c',\n",
    " 'stage_change_date_c',\n",
    " 'stage_duration_c',\n",
    " 'stage_name',\n",
    " 'stakeholder_identified_c',\n",
    " 'sub_vertical_c',\n",
    " 'tcp_confirmed_with_buyer_c',\n",
    " 'tcp_customer_tech_signoff_c',\n",
    " 'tcp_end_date_c',\n",
    " 'tcp_entered_evaluation_status_c',\n",
    " 'tcp_entered_review_status_c',\n",
    " 'tcp_lost_because_c',\n",
    " 'tcp_products_used_c',\n",
    " 'tcp_risks_c',\n",
    " 'tcp_solution_architecture_url_c',\n",
    " 'tcp_solution_fit_score_c',\n",
    " 'tcp_solution_notes_c',\n",
    " 'tcp_start_date_c',\n",
    " 'tcp_status_c',\n",
    " 'tcp_tech_owner_c',\n",
    " 'technical_goals_notes_c',\n",
    " 'territory_2_id',\n",
    " 'total_contract_value_tcv_c',\n",
    " 'trip_tik_created_c',\n",
    " 'trip_tik_url_c',\n",
    " 'type',\n",
    " 'vertical_c',\n",
    " 'vertical_formula_c',\n",
    " 'vp_forecast_updated_manually_c',\n",
    " 'weighted_arr_c',\n",
    " 'won_date_c',\n",
    " 'x18_digit_opportunity_id_c',\n",
    " 'years_c',\n",
    " 'churn_code_c',\n",
    " 'churn_sub_code_c',\n",
    " 'dt']})"
   ]
  },
  {
   "cell_type": "code",
   "execution_count": 31,
   "metadata": {},
   "outputs": [],
   "source": [
    "db_fields_5 = pd.DataFrame({'db_table': 'wbr.year_month_dummy_final', \n",
    "            'all_columns': ['year_month']})"
   ]
  },
  {
   "cell_type": "code",
   "execution_count": 32,
   "metadata": {},
   "outputs": [],
   "source": [
    "db_fields_6 = pd.DataFrame({'db_table': 'wbr.product_service_mapping', \n",
    "            'all_columns': ['product_name', 'mapped_product', 'mid_product', 'endpoint']})"
   ]
  },
  {
   "cell_type": "code",
   "execution_count": 33,
   "metadata": {},
   "outputs": [],
   "source": [
    "df = db_fields_1.append(db_fields_2, ignore_index=True)\n",
    "df = df.append(db_fields_3, ignore_index=True)\n",
    "df = df.append(db_fields_4, ignore_index=True)\n",
    "df = df.append(db_fields_5, ignore_index=True)\n",
    "df = df.append(db_fields_6, ignore_index=True)"
   ]
  },
  {
   "cell_type": "code",
   "execution_count": 34,
   "metadata": {},
   "outputs": [],
   "source": [
    "db_fields = df"
   ]
  },
  {
   "cell_type": "markdown",
   "metadata": {},
   "source": [
    "## given query"
   ]
  },
  {
   "cell_type": "code",
   "execution_count": null,
   "metadata": {},
   "outputs": [],
   "source": [
    "query = \"\"\"\"SELECT u.name,\\n       b.customer_tier_c,\\n       b.name,\\n       m.account,\\n       b.x18_digit_account_id_c,\\n       s.id,\\n       m.platform,\\n       m.mobile_os,\\n       m.num_requests,\\n       Row_number() OVER(PARTITION BY s.id) row_\\nFROM wbr.map_requests_by_account m\\nINNER JOIN\\n  (SELECT DISTINCT id\\n   FROM mapbox_customer_data.styles\\n   WHERE cast(dt AS DATE) >= CURRENT_DATE - INTERVAL '14' DAY\\n     AND sources LIKE '%mapbox-streets-v7%' ) s ON m.service_metadata_version = s.id\\nLEFT JOIN\\n  (SELECT customer_tier_c,\\n          csm_c,\\n          name,\\n          mapbox_username_c,\\n          x18_digit_account_id_c\\n   FROM sfdc.accounts\\n   WHERE cast(dt AS DATE) = CURRENT_DATE - INTERVAL '1' DAY ) b ON m.account = b.mapbox_username_c\\nLEFT JOIN\\n  (SELECT name,\\n          id\\n   FROM sfdc.users\\n   WHERE cast(dt AS DATE) = CURRENT_DATE - INTERVAL '1' DAY ) u ON b.csm_c = u.id\\nWHERE cast(m.dt AS DATE) >= CURRENT_DATE - INTERVAL '14' DAY\\n  AND m.service_metadata = 'custom'\\n  AND m.service = 'styles'\\n  AND b.customer_tier_c IN ('Tier 0',\\n                            'Tier 1',\\n                            'Tier 2',\\n                            'Tier 3',\\n                            'Tier 4')\"\n",
    "\"\"\""
   ]
  },
  {
   "cell_type": "markdown",
   "metadata": {},
   "source": [
    "## transformation 1: format query"
   ]
  },
  {
   "cell_type": "code",
   "execution_count": null,
   "metadata": {},
   "outputs": [],
   "source": [
    "query = \"\"\"SELECT api.name, acct.customer_tier_c, acct.name FROM api_requests_by_account api\n",
    "LEFT JOIN accounts \n",
    "acct ON api.user_id = acct.customer_api_id\n",
    "\"\"\""
   ]
  },
  {
   "cell_type": "code",
   "execution_count": null,
   "metadata": {},
   "outputs": [],
   "source": [
    "formatter = column_parser.Parser(query)"
   ]
  },
  {
   "cell_type": "code",
   "execution_count": null,
   "metadata": {
    "scrolled": false
   },
   "outputs": [],
   "source": [
    "formatted = formatter.format_query(query)\n",
    "print(formatted)"
   ]
  },
  {
   "cell_type": "markdown",
   "metadata": {},
   "source": [
    "## transformation 2: separate CTE's"
   ]
  },
  {
   "cell_type": "code",
   "execution_count": null,
   "metadata": {},
   "outputs": [],
   "source": [
    "query = \"\"\"WITH a AS\n",
    "  (SELECT DISTINCT anonymous_id,\n",
    "                   user_id\n",
    "   FROM customer_data.segment_identifies\n",
    "   WHERE dt >= '2018-07-01'),\n",
    "     b AS\n",
    "  (SELECT id,\n",
    "          email,\n",
    "          created\n",
    "   FROM customer_data.accounts)\n",
    "SELECT a.*,\n",
    "       b.*\n",
    "FROM a\n",
    "LEFT JOIN b ON a.user_id = b.id\n",
    "WHERE context_campaign_name IS NOT NULL\n",
    "\"\"\""
   ]
  },
  {
   "cell_type": "code",
   "execution_count": null,
   "metadata": {},
   "outputs": [],
   "source": [
    "formatter = column_parser.Parser(query)\n",
    "formatted = formatter.format_query(query)\n",
    "print(formatted)"
   ]
  },
  {
   "cell_type": "code",
   "execution_count": null,
   "metadata": {},
   "outputs": [],
   "source": [
    "formatter = column_parser.Parser(query)\n",
    "cte_query = formatter.parse_cte(query)\n",
    "cte_query"
   ]
  },
  {
   "cell_type": "code",
   "execution_count": null,
   "metadata": {},
   "outputs": [],
   "source": [
    "cte_query.keys()"
   ]
  },
  {
   "cell_type": "code",
   "execution_count": null,
   "metadata": {
    "scrolled": true
   },
   "outputs": [],
   "source": [
    "formatted = formatter.format_query(cte_query['main'])\n",
    "cte_query = formatter.parse_cte(formatted)\n",
    "cte_query"
   ]
  },
  {
   "cell_type": "code",
   "execution_count": null,
   "metadata": {},
   "outputs": [],
   "source": [
    "formatted = formatter.format_query(cte_query['main'])\n",
    "cte_query = formatter.parse_cte(formatted)\n",
    "cte_query"
   ]
  },
  {
   "cell_type": "markdown",
   "metadata": {},
   "source": [
    "## transformation 3: match table aliases"
   ]
  },
  {
   "cell_type": "code",
   "execution_count": null,
   "metadata": {},
   "outputs": [],
   "source": [
    "query = \"\"\"SELECT *\n",
    "FROM api_requests.requests_by_account m\n",
    "INNER JOIN mapbox_customer_data.styles s ON m.metadata_version = s.id\n",
    "LEFT JOIN sfdc.users u ON m.csm = u.id\n",
    "\"\"\""
   ]
  },
  {
   "cell_type": "code",
   "execution_count": null,
   "metadata": {},
   "outputs": [],
   "source": [
    "formatter = column_parser.Parser(query)\n",
    "formatted = formatter.format_query(query)"
   ]
  },
  {
   "cell_type": "code",
   "execution_count": null,
   "metadata": {},
   "outputs": [],
   "source": [
    "print(formatted)"
   ]
  },
  {
   "cell_type": "code",
   "execution_count": null,
   "metadata": {},
   "outputs": [],
   "source": [
    "table_alias_mapping = formatter.get_table_names(formatted.split('\\n'))\n",
    "table_alias_mapping"
   ]
  },
  {
   "cell_type": "markdown",
   "metadata": {},
   "source": [
    "## transformation 4: find columns"
   ]
  },
  {
   "cell_type": "code",
   "execution_count": null,
   "metadata": {},
   "outputs": [],
   "source": [
    "fields = formatter.match_queried_fields(query, db_fields)"
   ]
  },
  {
   "cell_type": "code",
   "execution_count": null,
   "metadata": {},
   "outputs": [],
   "source": [
    "pd.DataFrame(fields).sort_values(by=['database_name', 'table_name', 'column_name'])"
   ]
  },
  {
   "cell_type": "markdown",
   "metadata": {},
   "source": [
    "## bonus transformation: upload other query metadata (such as timestamp, user)"
   ]
  },
  {
   "cell_type": "code",
   "execution_count": null,
   "metadata": {},
   "outputs": [],
   "source": []
  }
 ],
 "metadata": {
  "kernelspec": {
   "display_name": "Python 3",
   "language": "python",
   "name": "python3"
  },
  "language_info": {
   "codemirror_mode": {
    "name": "ipython",
    "version": 3
   },
   "file_extension": ".py",
   "mimetype": "text/x-python",
   "name": "python",
   "nbconvert_exporter": "python",
   "pygments_lexer": "ipython3",
   "version": "3.7.4"
  }
 },
 "nbformat": 4,
 "nbformat_minor": 2
}
