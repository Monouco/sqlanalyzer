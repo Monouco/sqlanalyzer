{
 "cells": [
  {
   "cell_type": "code",
   "execution_count": 1,
   "metadata": {},
   "outputs": [],
   "source": [
    "query_list_1 = [\"SELECT COALESCE(a.platform, 'other') AS platform,\",\n",
    " \"       COALESCE(a.service, 'unknown') AS service,\",\n",
    " '       COUNT(DISTINCT a.account) AS num_devs,',\n",
    " '       COUNT(DISTINCT CASE',\n",
    " '                          WHEN b.account IS NOT NULL THEN NULL',\n",
    " '                          ELSE a.account',\n",
    " '                      END) AS num_devs_xstudio_only',\n",
    " 'FROM web_mobile_studio a',\n",
    " 'LEFT JOIN',\n",
    " '  (SELECT account,',\n",
    " \"          CONCAT_WS(',', COLLECT_SET(LOWER(service))) AS service\",\n",
    " '   FROM web_mobile_studio',\n",
    " \"   WHERE dt BETWEEN DATE_SUB('{run_date}', 6) AND '{run_date}'\",\n",
    " '   GROUP BY account) b ON a.account = b.account',\n",
    " \"AND b.service = 'studio'\",\n",
    " \"WHERE a.dt BETWEEN DATE_SUB('{run_date}', 6) AND '{run_date}'\",\n",
    " \"GROUP BY COALESCE(a.platform, 'other'),\",\n",
    " \"         COALESCE(a.service, 'unknown') WITH CUBE),\"]"
   ]
  },
  {
   "cell_type": "code",
   "execution_count": 2,
   "metadata": {},
   "outputs": [],
   "source": [
    "query_list_2 = ['SELECT s.dt,',\n",
    " \"       COALESCE(em.platform, 'unknown') AS platform,\",\n",
    " \"       COALESCE(service_org, 'other') AS service,\",\n",
    " '       account',\n",
    " 'FROM sku.daily_by_account s',\n",
    " 'INNER JOIN mapbox_customer_data.accounts a ON s.account = a.id',\n",
    " \"AND a.dt = '{run_date}'\",\n",
    " 'LEFT JOIN analytics_service_endpoint_mapping em ON s.sku_id = em.sku_id',\n",
    " 'AND em.in_sku IS NOT NULL',\n",
    " 'AND em.parent_sku IS NULL',\n",
    " \"WHERE s.dt BETWEEN DATE_SUB('{run_date}', 29) AND '{run_date}'\",\n",
    " 'GROUP BY 1,',\n",
    " '         2,',\n",
    " '         3,',\n",
    " '         4),']"
   ]
  },
  {
   "cell_type": "code",
   "execution_count": 15,
   "metadata": {},
   "outputs": [
    {
     "name": "stdout",
     "output_type": "stream",
     "text": [
      "0 SELECT s.dt,\n",
      "1        COALESCE(em.platform, 'unknown') AS platform,\n",
      "2        COALESCE(service_org, 'other') AS service,\n",
      "3        account\n",
      "4 FROM sku.daily_by_account s\n",
      "5 INNER JOIN mapbox_customer_data.accounts a ON s.account = a.id\n",
      "6 AND a.dt = '{run_date}'\n",
      "7 LEFT JOIN analytics_service_endpoint_mapping em ON s.sku_id = em.sku_id\n",
      "8 AND em.in_sku IS NOT NULL\n",
      "9 AND em.parent_sku IS NULL\n",
      "10 WHERE s.dt BETWEEN DATE_SUB('{run_date}', 29) AND '{run_date}'\n",
      "11 GROUP BY 1,\n",
      "12          2,\n",
      "13          3,\n",
      "14          4),\n"
     ]
    }
   ],
   "source": [
    "for i,l in enumerate(query_list_2): print(i, l)"
   ]
  },
  {
   "cell_type": "code",
   "execution_count": 46,
   "metadata": {},
   "outputs": [],
   "source": [
    "query_list = query_list_2\n",
    "\n",
    "pos_delete, pos_where = [len(query_list)-1], len(query_list)\n",
    "pos_join = []\n",
    "for i, line in enumerate(query_list):\n",
    "    if line.startswith('ORDER') or line.startswith('GROUP'):\n",
    "        pos_delete.append(i)\n",
    "    elif line.startswith('FROM') and len(line.split(' ')) > 1:\n",
    "        pos_join.append(i)\n",
    "    elif line.startswith('FROM') and len(line.split(' ')) == 1:\n",
    "        pos_join.append(i+1)\n",
    "    elif line.startswith('WHERE'):\n",
    "        pos_where = i\n",
    "    if line.startswith('LEFT JOIN') or line.startswith('INNER JOIN') or line.startswith('FULL OUTER JOIN') or line.startswith('RIGHT JOIN'):\n",
    "        for i2, line2 in enumerate(query_list[i:min(pos_where, min(pos_delete))]):\n",
    "            if line2.startswith('LEFT JOIN') or line.startswith('INNER JOIN') or line.startswith('FULL OUTER JOIN') or line.startswith('RIGHT JOIN'):\n",
    "                pos_join.append(i)\n",
    "\n",
    "\n",
    "if min(pos_delete) == len(query_list)-1:\n",
    "    pos_join.append(min(pos_delete))\n",
    "else:\n",
    "    pass\n",
    "\n",
    "pos_join.extend(range(max(pos_join)+1, min(pos_where, min(pos_delete)) - 1))\n",
    "    "
   ]
  },
  {
   "cell_type": "code",
   "execution_count": 47,
   "metadata": {},
   "outputs": [
    {
     "data": {
      "text/plain": [
       "10"
      ]
     },
     "execution_count": 47,
     "metadata": {},
     "output_type": "execute_result"
    }
   ],
   "source": [
    "min(pos_where, min(pos_delete))"
   ]
  },
  {
   "cell_type": "code",
   "execution_count": 48,
   "metadata": {},
   "outputs": [
    {
     "data": {
      "text/plain": [
       "[4, 5, 5, 5, 5, 5, 5, 5, 5, 5, 7, 8]"
      ]
     },
     "execution_count": 48,
     "metadata": {},
     "output_type": "execute_result"
    }
   ],
   "source": [
    "pos_join"
   ]
  },
  {
   "cell_type": "code",
   "execution_count": 50,
   "metadata": {},
   "outputs": [
    {
     "name": "stdout",
     "output_type": "stream",
     "text": [
      "0 SELECT COALESCE(a.platform, 'other') AS platform,\n",
      "1        COALESCE(a.service, 'unknown') AS service,\n",
      "2        COUNT(DISTINCT a.account) AS num_devs,\n",
      "3        COUNT(DISTINCT CASE\n",
      "4                           WHEN b.account IS NOT NULL THEN NULL\n",
      "5                           ELSE a.account\n",
      "6                       END) AS num_devs_xstudio_only\n",
      "7 FROM web_mobile_studio a\n",
      "8 LEFT JOIN\n",
      "9   (SELECT account,\n",
      "10           CONCAT_WS(',', COLLECT_SET(LOWER(service))) AS service\n",
      "11    FROM web_mobile_studio\n",
      "12    WHERE dt BETWEEN DATE_SUB('{run_date}', 6) AND '{run_date}'\n",
      "13    GROUP BY account) b ON a.account = b.account\n",
      "14 AND b.service = 'studio'\n",
      "15 WHERE a.dt BETWEEN DATE_SUB('{run_date}', 6) AND '{run_date}'\n",
      "16 GROUP BY COALESCE(a.platform, 'other'),\n",
      "17          COALESCE(a.service, 'unknown') WITH CUBE),\n"
     ]
    }
   ],
   "source": [
    "for i,l in enumerate(query_list_1): print(i, l)"
   ]
  },
  {
   "cell_type": "code",
   "execution_count": 51,
   "metadata": {},
   "outputs": [],
   "source": [
    "pos_join = []\n",
    "for i, line in enumerate(query_list):\n",
    "    if line.startswith('LEFT JOIN') or line.startswith('INNER JOIN') or line.startswith('FULL OUTER JOIN') or line.startswith('RIGHT JOIN'):\n",
    "        for i2, line2 in enumerate(query_list[i:min(pos_where, min(pos_delete))]):\n",
    "            if line2.startswith('LEFT JOIN') or line.startswith('INNER JOIN') or line.startswith('FULL OUTER JOIN') or line.startswith('RIGHT JOIN'):\n",
    "                pos_join.append(i)\n",
    "    \n",
    "        \n",
    "        "
   ]
  },
  {
   "cell_type": "code",
   "execution_count": 52,
   "metadata": {},
   "outputs": [
    {
     "data": {
      "text/plain": [
       "[5, 5, 5, 5, 5, 7]"
      ]
     },
     "execution_count": 52,
     "metadata": {},
     "output_type": "execute_result"
    }
   ],
   "source": [
    "pos_join"
   ]
  },
  {
   "cell_type": "code",
   "execution_count": null,
   "metadata": {},
   "outputs": [],
   "source": []
  }
 ],
 "metadata": {
  "kernelspec": {
   "display_name": "Python 3",
   "language": "python",
   "name": "python3"
  },
  "language_info": {
   "codemirror_mode": {
    "name": "ipython",
    "version": 3
   },
   "file_extension": ".py",
   "mimetype": "text/x-python",
   "name": "python",
   "nbconvert_exporter": "python",
   "pygments_lexer": "ipython3",
   "version": "3.7.4"
  }
 },
 "nbformat": 4,
 "nbformat_minor": 2
}
