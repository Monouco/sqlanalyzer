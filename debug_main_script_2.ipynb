{
 "cells": [
  {
   "cell_type": "code",
   "execution_count": 1,
   "metadata": {},
   "outputs": [],
   "source": [
    "from sqlanalyzer import column_parser, unbundle\n",
    "from sqlanalyzer.unbundle import *\n",
    "import sqlparse\n",
    "import re\n",
    "import json\n",
    "import pandas as pd\n",
    "import time\n",
    "\n",
    "\n",
    "def extract_subquery_fields(query, db_fields):\n",
    "    formatter = column_parser.Parser(query)\n",
    "    formatted = formatter.format_query(query)\n",
    "    fields = formatter.match_queried_fields(formatted, db_fields)\n",
    "    return fields\n",
    "\n",
    "\n",
    "def compile_queried_cols(query_dict, df):\n",
    "    all_cols = []\n",
    "    for _,v in query_dict.items():\n",
    "        if isinstance(v, dict):\n",
    "            for _,v1 in v.items():\n",
    "                all_cols.extend(extract_subquery_fields(v1, df))\n",
    "        else:\n",
    "            all_cols.extend(extract_subquery_fields(v, df))\n",
    "    return all_cols"
   ]
  },
  {
   "cell_type": "code",
   "execution_count": 2,
   "metadata": {},
   "outputs": [],
   "source": [
    "query = open('active_devs.sql').read()\n",
    "\n",
    "formatter = column_parser.Parser(query)\n",
    "formatted_query = formatter.format_query(query)\n",
    "query_list = formatted_query.split('\\n')\n",
    "\n",
    "unbundled = unbundle.Unbundle(query)\n"
   ]
  },
  {
   "cell_type": "code",
   "execution_count": 3,
   "metadata": {},
   "outputs": [],
   "source": [
    "if is_cte(formatted_query):\n",
    "    cte_dict = formatter.parse_cte(formatted_query)\n",
    "    final_dict = {}\n",
    "    for alias, query in cte_dict.items():\n",
    "        formatter = column_parser.Parser(query)\n",
    "        formatted_query = formatter.format_query(query)\n",
    "        try:\n",
    "            final_dict[alias] = unbundled.extract_query_dict(formatted_query)\n",
    "        except:\n",
    "            final_dict[alias] = formatted_query\n",
    "\n",
    "else:\n",
    "    final_dict = unbundled.extract_query_dict(query)\n",
    "        "
   ]
  },
  {
   "cell_type": "code",
   "execution_count": 4,
   "metadata": {},
   "outputs": [
    {
     "data": {
      "text/plain": [
       "dict_keys(['analytics_service_endpoint_mapping', 'web_dev', 'mobile_dev', 'studio_dev', 'web_mobile_studio', 'mau_cube', 'wau_cube', 'dau_cube', 'main'])"
      ]
     },
     "execution_count": 4,
     "metadata": {},
     "output_type": "execute_result"
    }
   ],
   "source": [
    "cte_dict.keys()"
   ]
  },
  {
   "cell_type": "code",
   "execution_count": 5,
   "metadata": {},
   "outputs": [],
   "source": [
    "# for alias, query in cte_dict.items():\n",
    "query = cte_dict['web_dev']\n",
    "alias = 'web_dev'\n",
    "formatter = column_parser.Parser(query)\n",
    "formatted_query = formatter.format_query(query)\n",
    "try:\n",
    "    final_dict[alias] = unbundled.extract_query_dict(formatted_query)\n",
    "except:\n",
    "    final_dict[alias] = formatted_query\n",
    "    "
   ]
  },
  {
   "cell_type": "code",
   "execution_count": 6,
   "metadata": {},
   "outputs": [
    {
     "data": {
      "text/plain": [
       "\"SELECT s.dt,\\n       COALESCE(em.platform, 'unknown') AS platform,\\n       COALESCE(service_org, 'other') AS service,\\n       account\\nFROM sku.daily_by_account s\\nINNER JOIN mapbox_customer_data.accounts a ON s.account = a.id\\nAND a.dt = '{run_date}'\\nLEFT JOIN analytics_service_endpoint_mapping em ON s.sku_id = em.sku_id\\nAND em.in_sku IS NOT NULL\\nAND em.parent_sku IS NULL\\nWHERE s.dt BETWEEN DATE_SUB('{run_date}', 29) AND '{run_date}'\\nGROUP BY 1,\\n         2,\\n         3,\\n         4),\""
      ]
     },
     "execution_count": 6,
     "metadata": {},
     "output_type": "execute_result"
    }
   ],
   "source": [
    "formatted_query"
   ]
  },
  {
   "cell_type": "code",
   "execution_count": 7,
   "metadata": {},
   "outputs": [
    {
     "data": {
      "text/plain": [
       "['SELECT s.dt,',\n",
       " \"       COALESCE(em.platform, 'unknown') AS platform,\",\n",
       " \"       COALESCE(service_org, 'other') AS service,\",\n",
       " '       account',\n",
       " 'FROM sku.daily_by_account s',\n",
       " 'INNER JOIN mapbox_customer_data.accounts a ON s.account = a.id',\n",
       " \"AND a.dt = '{run_date}'\",\n",
       " 'LEFT JOIN analytics_service_endpoint_mapping em ON s.sku_id = em.sku_id',\n",
       " 'AND em.in_sku IS NOT NULL',\n",
       " 'AND em.parent_sku IS NULL',\n",
       " \"WHERE s.dt BETWEEN DATE_SUB('{run_date}', 29) AND '{run_date}'\",\n",
       " 'GROUP BY 1,',\n",
       " '         2,',\n",
       " '         3,',\n",
       " '         4),']"
      ]
     },
     "execution_count": 7,
     "metadata": {},
     "output_type": "execute_result"
    }
   ],
   "source": [
    "query_list = formatted_query.split('\\n')\n",
    "query_list"
   ]
  },
  {
   "cell_type": "code",
   "execution_count": 8,
   "metadata": {},
   "outputs": [
    {
     "name": "stdout",
     "output_type": "stream",
     "text": [
      "0 SELECT s.dt,\n",
      "1        COALESCE(em.platform, 'unknown') AS platform,\n",
      "2        COALESCE(service_org, 'other') AS service,\n",
      "3        account\n",
      "4 FROM sku.daily_by_account s\n",
      "5 INNER JOIN mapbox_customer_data.accounts a ON s.account = a.id\n",
      "6 AND a.dt = '{run_date}'\n",
      "7 LEFT JOIN analytics_service_endpoint_mapping em ON s.sku_id = em.sku_id\n",
      "8 AND em.in_sku IS NOT NULL\n",
      "9 AND em.parent_sku IS NULL\n",
      "10 WHERE s.dt BETWEEN DATE_SUB('{run_date}', 29) AND '{run_date}'\n",
      "11 GROUP BY 1,\n",
      "12          2,\n",
      "13          3,\n",
      "14          4),\n"
     ]
    }
   ],
   "source": [
    "for i, l in enumerate(query_list): print(i, l)"
   ]
  },
  {
   "cell_type": "code",
   "execution_count": 20,
   "metadata": {},
   "outputs": [],
   "source": [
    "pos_delete, pos_where = [len(query_list)-1], len(query_list)\n",
    "pos_join = []\n",
    "for i, line in enumerate(query_list):\n",
    "    if line.startswith('ORDER') or line.startswith('GROUP'):\n",
    "        pos_delete.append(i)\n",
    "    elif line.startswith('FROM') and len(line.split(' ')) > 1:\n",
    "        pos_join.append(i)\n",
    "        \n",
    "    elif line.startswith('FROM') and len(line.split(' ')) == 1:\n",
    "        j = 0\n",
    "        for i2,line2 in enumerate(query_list[i+1:]):\n",
    "            if line2.startswith(' '): j += 1\n",
    "            else: break\n",
    "        pos_join.append(j+i)\n",
    "        \n",
    "    elif line.startswith('WHERE'):\n",
    "        pos_where = i\n",
    "    elif line.startswith('LEFT JOIN') or line.startswith('INNER JOIN') or line.startswith('FULL OUTER JOIN') or line.startswith('RIGHT JOIN'):\n",
    "        pos_join.append(i)\n",
    "\n",
    "if min(pos_delete) == len(query_list)-1:\n",
    "    pos_join.append(min(pos_delete))\n",
    "else:\n",
    "    pass"
   ]
  },
  {
   "cell_type": "code",
   "execution_count": 21,
   "metadata": {},
   "outputs": [
    {
     "data": {
      "text/plain": [
       "([4, 5, 7], 10, [14, 11])"
      ]
     },
     "execution_count": 21,
     "metadata": {},
     "output_type": "execute_result"
    }
   ],
   "source": [
    "pos_join, pos_where, pos_delete"
   ]
  },
  {
   "cell_type": "code",
   "execution_count": 13,
   "metadata": {},
   "outputs": [],
   "source": [
    "alias_pos = unbundled._get_alias_pos(query_list, pos_join, pos_where)\n",
    "sub_query_pos = list(zip(pos_join, alias_pos))\n",
    "sub_query, keep = unbundled._parse_sub_query(query_list, sub_query_pos)\n",
    "main_query_pos = unbundled.main_query(query_list, sub_query_pos)\n",
    "if main_query_pos != []:\n",
    "    sub_query['main'] = '\\n'.join([query_list[p] for p in main_query_pos])\n",
    "sub_query['main'] = sub_query['main'] + ' ' + '\\n'.join(keep)\n"
   ]
  },
  {
   "cell_type": "code",
   "execution_count": 14,
   "metadata": {},
   "outputs": [
    {
     "data": {
      "text/plain": [
       "{'s': 'sku.daily_by_account',\n",
       " 'main': \"SELECT s.dt,\\n       COALESCE(em.platform, 'unknown') AS platform,\\n       COALESCE(service_org, 'other') AS service,\\n       account\\nFROM sku.daily_by_account s\\nINNER JOIN mapbox_customer_data.accounts a ON s.account = a.id\\nAND a.dt = '{run_date}'\\nLEFT JOIN analytics_service_endpoint_mapping em ON s.sku_id = em.sku_id\\nAND em.in_sku IS NOT NULL\\nAND em.parent_sku IS NULL\\nWHERE s.dt BETWEEN DATE_SUB('{run_date}', 29) AND '{run_date}'\\nGROUP BY 1,\\n         2,\\n         3,\\n         4), \"}"
      ]
     },
     "execution_count": 14,
     "metadata": {},
     "output_type": "execute_result"
    }
   ],
   "source": [
    "sub_query"
   ]
  },
  {
   "cell_type": "code",
   "execution_count": null,
   "metadata": {},
   "outputs": [],
   "source": []
  }
 ],
 "metadata": {
  "kernelspec": {
   "display_name": "Python 3",
   "language": "python",
   "name": "python3"
  },
  "language_info": {
   "codemirror_mode": {
    "name": "ipython",
    "version": 3
   },
   "file_extension": ".py",
   "mimetype": "text/x-python",
   "name": "python",
   "nbconvert_exporter": "python",
   "pygments_lexer": "ipython3",
   "version": "3.7.4"
  }
 },
 "nbformat": 4,
 "nbformat_minor": 2
}
