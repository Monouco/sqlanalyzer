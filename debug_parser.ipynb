{
 "cells": [
  {
   "cell_type": "code",
   "execution_count": 1,
   "metadata": {},
   "outputs": [],
   "source": [
    "import pandas as pd\n",
    "from sqlanalyzer import column_parser\n",
    "import re"
   ]
  },
  {
   "cell_type": "code",
   "execution_count": 2,
   "metadata": {},
   "outputs": [],
   "source": [
    "query = \"\"\"\"SELECT sfdc_accounts.platform,           sfdc_accounts.mobile_os,           sfdc_accounts.service_metadata,           sfdc_cases.account,           sfdc_cases.num_requests,           sfdc_cases.owner,           sfdc_accounts.user_id    FROM sfdc.accounts sfdc_accounts    LEFT JOIN sfdc.cases sfdc_cases ON sfdc_cases.id = sfdc_accounts.case_id    WHERE sfdc_cases_oppty.dt > '2020-04-03'      AND sfdc_cases_oppty.dt < '2020-05-04'    ORDER BY 1    GROUP BY 3 LIMIT 20\"\n",
    "\"\"\""
   ]
  },
  {
   "cell_type": "code",
   "execution_count": 3,
   "metadata": {},
   "outputs": [],
   "source": [
    "db_fields_1 = pd.DataFrame({'db_table': 'sfdc.cases', \n",
    "            'all_columns': ['account', 'num_requests', 'owner', 'anonymous_id', 'id', 'original_timestamp', 'event', 'context_traits_email', 'service_metadata_version', 'dt']})\n",
    "db_fields_2 = pd.DataFrame({'db_table': 'sfdc.accounts',\n",
    "                           'all_columns': ['platform', 'case_id', 'mobile_os', 'service_metadata', 'user_id', 'first_name', 'last_name']})\n",
    "df = db_fields_1.append(db_fields_2, ignore_index=True)"
   ]
  },
  {
   "cell_type": "code",
   "execution_count": 4,
   "metadata": {},
   "outputs": [
    {
     "data": {
      "text/html": [
       "<div>\n",
       "<style scoped>\n",
       "    .dataframe tbody tr th:only-of-type {\n",
       "        vertical-align: middle;\n",
       "    }\n",
       "\n",
       "    .dataframe tbody tr th {\n",
       "        vertical-align: top;\n",
       "    }\n",
       "\n",
       "    .dataframe thead th {\n",
       "        text-align: right;\n",
       "    }\n",
       "</style>\n",
       "<table border=\"1\" class=\"dataframe\">\n",
       "  <thead>\n",
       "    <tr style=\"text-align: right;\">\n",
       "      <th></th>\n",
       "      <th>db_table</th>\n",
       "      <th>all_columns</th>\n",
       "    </tr>\n",
       "  </thead>\n",
       "  <tbody>\n",
       "    <tr>\n",
       "      <td>0</td>\n",
       "      <td>sfdc.cases</td>\n",
       "      <td>account</td>\n",
       "    </tr>\n",
       "    <tr>\n",
       "      <td>1</td>\n",
       "      <td>sfdc.cases</td>\n",
       "      <td>num_requests</td>\n",
       "    </tr>\n",
       "    <tr>\n",
       "      <td>2</td>\n",
       "      <td>sfdc.cases</td>\n",
       "      <td>owner</td>\n",
       "    </tr>\n",
       "    <tr>\n",
       "      <td>3</td>\n",
       "      <td>sfdc.cases</td>\n",
       "      <td>anonymous_id</td>\n",
       "    </tr>\n",
       "    <tr>\n",
       "      <td>4</td>\n",
       "      <td>sfdc.cases</td>\n",
       "      <td>id</td>\n",
       "    </tr>\n",
       "    <tr>\n",
       "      <td>5</td>\n",
       "      <td>sfdc.cases</td>\n",
       "      <td>original_timestamp</td>\n",
       "    </tr>\n",
       "    <tr>\n",
       "      <td>6</td>\n",
       "      <td>sfdc.cases</td>\n",
       "      <td>event</td>\n",
       "    </tr>\n",
       "    <tr>\n",
       "      <td>7</td>\n",
       "      <td>sfdc.cases</td>\n",
       "      <td>context_traits_email</td>\n",
       "    </tr>\n",
       "    <tr>\n",
       "      <td>8</td>\n",
       "      <td>sfdc.cases</td>\n",
       "      <td>service_metadata_version</td>\n",
       "    </tr>\n",
       "    <tr>\n",
       "      <td>9</td>\n",
       "      <td>sfdc.cases</td>\n",
       "      <td>dt</td>\n",
       "    </tr>\n",
       "    <tr>\n",
       "      <td>10</td>\n",
       "      <td>sfdc.accounts</td>\n",
       "      <td>platform</td>\n",
       "    </tr>\n",
       "    <tr>\n",
       "      <td>11</td>\n",
       "      <td>sfdc.accounts</td>\n",
       "      <td>case_id</td>\n",
       "    </tr>\n",
       "    <tr>\n",
       "      <td>12</td>\n",
       "      <td>sfdc.accounts</td>\n",
       "      <td>mobile_os</td>\n",
       "    </tr>\n",
       "    <tr>\n",
       "      <td>13</td>\n",
       "      <td>sfdc.accounts</td>\n",
       "      <td>service_metadata</td>\n",
       "    </tr>\n",
       "    <tr>\n",
       "      <td>14</td>\n",
       "      <td>sfdc.accounts</td>\n",
       "      <td>user_id</td>\n",
       "    </tr>\n",
       "    <tr>\n",
       "      <td>15</td>\n",
       "      <td>sfdc.accounts</td>\n",
       "      <td>first_name</td>\n",
       "    </tr>\n",
       "    <tr>\n",
       "      <td>16</td>\n",
       "      <td>sfdc.accounts</td>\n",
       "      <td>last_name</td>\n",
       "    </tr>\n",
       "  </tbody>\n",
       "</table>\n",
       "</div>"
      ],
      "text/plain": [
       "         db_table               all_columns\n",
       "0      sfdc.cases                   account\n",
       "1      sfdc.cases              num_requests\n",
       "2      sfdc.cases                     owner\n",
       "3      sfdc.cases              anonymous_id\n",
       "4      sfdc.cases                        id\n",
       "5      sfdc.cases        original_timestamp\n",
       "6      sfdc.cases                     event\n",
       "7      sfdc.cases      context_traits_email\n",
       "8      sfdc.cases  service_metadata_version\n",
       "9      sfdc.cases                        dt\n",
       "10  sfdc.accounts                  platform\n",
       "11  sfdc.accounts                   case_id\n",
       "12  sfdc.accounts                 mobile_os\n",
       "13  sfdc.accounts          service_metadata\n",
       "14  sfdc.accounts                   user_id\n",
       "15  sfdc.accounts                first_name\n",
       "16  sfdc.accounts                 last_name"
      ]
     },
     "execution_count": 4,
     "metadata": {},
     "output_type": "execute_result"
    }
   ],
   "source": [
    "df"
   ]
  },
  {
   "cell_type": "code",
   "execution_count": 5,
   "metadata": {},
   "outputs": [
    {
     "data": {
      "text/plain": [
       "\"SELECT sfdc_accounts.platform,\\n       sfdc_accounts.mobile_os,\\n       sfdc_accounts.service_metadata,\\n       sfdc_cases.account,\\n       sfdc_cases.num_requests,\\n       sfdc_cases.owner,\\n       sfdc_accounts.user_id\\nFROM sfdc.accounts sfdc_accounts\\nLEFT JOIN sfdc.cases sfdc_cases ON sfdc_cases.id = sfdc_accounts.case_id\\nWHERE sfdc_cases_oppty.dt > '2020-04-03'\\n  AND sfdc_cases_oppty.dt < '2020-05-04'\\nORDER BY 1\\nGROUP BY 3\\nLIMIT 20\""
      ]
     },
     "execution_count": 5,
     "metadata": {},
     "output_type": "execute_result"
    }
   ],
   "source": [
    "formatter = column_parser.Parser(query)\n",
    "formatted = formatter.format_query(query)\n",
    "formatted"
   ]
  },
  {
   "cell_type": "code",
   "execution_count": 6,
   "metadata": {},
   "outputs": [
    {
     "data": {
      "text/plain": [
       "[{'database_name': 'sfdc', 'table_name': 'cases', 'column_name': 'id'},\n",
       " {'database_name': 'sfdc',\n",
       "  'table_name': 'cases',\n",
       "  'column_name': 'num_requests'},\n",
       " {'database_name': 'sfdc', 'table_name': 'cases', 'column_name': 'account'},\n",
       " {'database_name': 'sfdc', 'table_name': 'cases', 'column_name': 'owner'}]"
      ]
     },
     "execution_count": 6,
     "metadata": {},
     "output_type": "execute_result"
    }
   ],
   "source": [
    "fields = formatter.match_queried_fields(formatted, df)\n",
    "fields"
   ]
  },
  {
   "cell_type": "code",
   "execution_count": 33,
   "metadata": {},
   "outputs": [
    {
     "name": "stdout",
     "output_type": "stream",
     "text": [
      "[{'sfdc.accounts': {'user_id', 'last_name', 'service_metadata', 'mobile_os', 'first_name', 'case_id', 'platform'}}, {'sfdc.cases': {'anonymous_id', 'service_metadata_version', 'id', 'num_requests', 'original_timestamp', 'event', 'context_traits_email', 'dt', 'account', 'owner'}}]\n",
      "['sfdc.cases.account', 'sfdc.cases.num_requests', 'sfdc.cases.id', 'sfdc.cases.owner']\n"
     ]
    }
   ],
   "source": [
    "all_columns_scanned = []\n",
    "\n",
    "for _,cte_query in cte_queries.items():\n",
    "\n",
    "    table_alias_mapping = formatter.get_table_names(cte_query.split('\\n'))\n",
    "    variables = formatter._get_all_variables(cte_query)\n",
    "    queried_columns = formatter._get_queried_columns(table_alias_mapping, df)\n",
    "    print(queried_columns)\n",
    "    if variables == []:\n",
    "        original_columns_list = []\n",
    "        for table in queried_columns:\n",
    "            for k,v in table.items():\n",
    "                for t in v:\n",
    "                    original_columns_list.append(\"{}.{}\".format(k,t))\n",
    "    else:\n",
    "        print(formatter._map_db_columns(variables, queried_columns, table_alias_mapping))\n",
    "#         all_columns_scanned.extend(formatter._map_db_columns(variables, queried_columns, table_alias_mapping))\n",
    "        \n",
    "#     all_columns_scanned.extend(list(set(original_columns_list)))"
   ]
  },
  {
   "cell_type": "code",
   "execution_count": 36,
   "metadata": {},
   "outputs": [
    {
     "data": {
      "text/plain": [
       "\"SELECT sfdc_accounts.platform,\\n       sfdc_accounts.mobile_os,\\n       sfdc_accounts.service_metadata,\\n       sfdc_cases.account,\\n       sfdc_cases.num_requests,\\n       sfdc_cases.owner,\\n       sfdc_accounts.user_id\\nFROM sfdc.accounts sfdc_accounts\\nLEFT JOIN sfdc.cases sfdc_cases ON sfdc_cases.id = sfdc_accounts.case_id\\nWHERE sfdc_cases_oppty.dt > '2020-04-03'\\n  AND sfdc_cases_oppty.dt < '2020-05-04'\\nORDER BY 1\\nGROUP BY 3\\nLIMIT 20\""
      ]
     },
     "execution_count": 36,
     "metadata": {},
     "output_type": "execute_result"
    }
   ],
   "source": [
    "cte_query = cte_queries['main']\n",
    "cte_query"
   ]
  },
  {
   "cell_type": "code",
   "execution_count": 40,
   "metadata": {},
   "outputs": [
    {
     "data": {
      "text/plain": [
       "['sfdc_accounts.platform',\n",
       " 'sfdc_accounts.mobile_os',\n",
       " 'sfdc_accounts.service_metadata',\n",
       " 'sfdc_cases.account',\n",
       " 'sfdc_cases.num_requests',\n",
       " 'sfdc_cases.owner',\n",
       " 'sfdc_accounts.user_id',\n",
       " 'sfdc.accounts sfdc_accounts',\n",
       " '',\n",
       " 'sfdc.cases sfdc_cases',\n",
       " 'sfdc_cases.id',\n",
       " 'sfdc_accounts.case_id',\n",
       " 'sfdc_cases_oppty.dt',\n",
       " '',\n",
       " '',\n",
       " 'sfdc_cases_oppty.dt',\n",
       " '',\n",
       " '',\n",
       " '',\n",
       " '',\n",
       " '',\n",
       " '']"
      ]
     },
     "execution_count": 40,
     "metadata": {},
     "output_type": "execute_result"
    }
   ],
   "source": [
    "table_alias_mapping = formatter.get_table_names(cte_query.split('\\n'))\n",
    "variables = formatter._get_all_variables(cte_query)\n",
    "queried_columns = formatter._get_queried_columns(table_alias_mapping, df)\n",
    "variables"
   ]
  },
  {
   "cell_type": "code",
   "execution_count": 43,
   "metadata": {},
   "outputs": [
    {
     "name": "stdout",
     "output_type": "stream",
     "text": [
      "['']\n",
      "['sfdc_accounts', 'service_metadata']\n",
      "['sfdc_cases', 'num_requests']\n",
      "['sfdc_cases', 'owner']\n",
      "['sfdc_accounts', 'case_id']\n",
      "['sfdc_accounts', 'user_id']\n",
      "['sfdc_cases', 'id']\n",
      "['sfdc_cases_oppty', 'dt']\n",
      "['sfdc', 'cases sfdc_cases']\n",
      "['sfdc_accounts', 'platform']\n",
      "['sfdc_cases', 'account']\n",
      "['sfdc_accounts', 'mobile_os']\n",
      "['sfdc', 'accounts sfdc_accounts']\n"
     ]
    }
   ],
   "source": [
    "# formatter._map_db_columns(variables, queried_columns, table_alias_mapping)\n",
    "var_list, queried_cols, table_alias_mapping = variables, queried_columns, table_alias_mapping\n",
    "original_columns_list = []\n",
    "\n",
    "for var in set(var_list):\n",
    "\n",
    "    var = var.strip(' ')\n",
    "\n",
    "    if var in table_alias_mapping.keys():\n",
    "        pass\n",
    "\n",
    "    else:\n",
    "        var_split = var.split('.')\n",
    "        print(var_split)\n",
    "        if len(var_split) == 1:\n",
    "            for db_table in queried_cols:\n",
    "                for k,v in db_table.items():\n",
    "                    if var in v:\n",
    "                        original_columns_list.append(\"{}.{}\".format(k, var))\n",
    "\n",
    "        elif len(var_split) == 2:\n",
    "\n",
    "            if var_split[0] in table_alias_mapping.keys():\n",
    "                db_table = table_alias_mapping[var_split[0]]\n",
    "\n",
    "                for db_table_col in queried_cols:\n",
    "                    for k,v in db_table_col.items():\n",
    "                        if k == db_table and var_split[1] in v:\n",
    "                            original_columns_list.append(\"{}.{}\".format(k, var_split[1]))"
   ]
  },
  {
   "cell_type": "code",
   "execution_count": 28,
   "metadata": {},
   "outputs": [
    {
     "data": {
      "text/plain": [
       "['sfdc.cases.account',\n",
       " 'sfdc.cases.num_requests',\n",
       " 'sfdc.cases.id',\n",
       " 'sfdc.cases.owner']"
      ]
     },
     "execution_count": 28,
     "metadata": {},
     "output_type": "execute_result"
    }
   ],
   "source": [
    "all_columns_scanned"
   ]
  },
  {
   "cell_type": "code",
   "execution_count": 11,
   "metadata": {},
   "outputs": [
    {
     "data": {
      "text/plain": [
       "['SELECT sfdc_accounts.platform,',\n",
       " '       sfdc_accounts.mobile_os,',\n",
       " '       sfdc_accounts.service_metadata,',\n",
       " '       sfdc_cases.account,',\n",
       " '       sfdc_cases.num_requests,',\n",
       " '       sfdc_cases.owner,',\n",
       " '       sfdc_accounts.user_id',\n",
       " 'FROM sfdc.accounts sfdc_accounts',\n",
       " 'LEFT JOIN sfdc.cases sfdc_cases ON sfdc_cases.id = sfdc_accounts.case_id',\n",
       " \"WHERE sfdc_cases_oppty.dt > '2020-04-03'\",\n",
       " \"  AND sfdc_cases_oppty.dt < '2020-05-04'\",\n",
       " 'ORDER BY 1',\n",
       " 'GROUP BY 3',\n",
       " 'LIMIT 20']"
      ]
     },
     "execution_count": 11,
     "metadata": {},
     "output_type": "execute_result"
    }
   ],
   "source": [
    "line_query = formatted.split('\\n')\n",
    "line_query"
   ]
  },
  {
   "cell_type": "code",
   "execution_count": 12,
   "metadata": {},
   "outputs": [
    {
     "name": "stdout",
     "output_type": "stream",
     "text": [
      "['sfdc.accounts', 'sfdc_accounts']\n",
      "['sfdc.cases', 'sfdc_cases', 'ON', 'sfdc_cases.id', '=', 'sfdc_accounts.case_id']\n"
     ]
    }
   ],
   "source": [
    "# get_table_names\n",
    "table_name_mapping = dict()\n",
    "\n",
    "for line in line_query:\n",
    "\n",
    "    table_line = re.findall(r\"(FROM|JOIN).(\\w+.*)\", line)\n",
    "\n",
    "    if table_line != []:\n",
    "        table_name_line = table_line[0][1].split(' ')\n",
    "        print(table_name_line)\n",
    "        if len(table_name_line) <= 2:\n",
    "            table_name_mapping[table_name_line[0].rstrip(')|,')] = table_name_line[0].rstrip(')|,')\n",
    "\n",
    "        elif len(table_name_line) > 2 and table_name_line[1] == 'AS':\n",
    "            table_name_mapping[table_name_line[2].rstrip(')|,')] = table_name_line[0].rstrip(')|,')\n",
    "        \n",
    "        elif len(table_name_line) > 2 and table_name_line[1] != 'AS':\n",
    "            table_name_mapping[table_name_line[1].rstrip(')|,')] = table_name_line[0].rstrip(')|,')\n",
    "            "
   ]
  },
  {
   "cell_type": "code",
   "execution_count": 13,
   "metadata": {},
   "outputs": [
    {
     "data": {
      "text/plain": [
       "{'sfdc.accounts': 'sfdc.accounts', 'sfdc_cases': 'sfdc.cases'}"
      ]
     },
     "execution_count": 13,
     "metadata": {},
     "output_type": "execute_result"
    }
   ],
   "source": [
    "table_name_mapping"
   ]
  },
  {
   "cell_type": "code",
   "execution_count": null,
   "metadata": {},
   "outputs": [],
   "source": []
  },
  {
   "cell_type": "code",
   "execution_count": 14,
   "metadata": {},
   "outputs": [
    {
     "data": {
      "text/plain": [
       "['sfdc.cases.id',\n",
       " 'sfdc.cases.num_requests',\n",
       " 'sfdc.cases.account',\n",
       " 'sfdc.cases.owner']"
      ]
     },
     "execution_count": 14,
     "metadata": {},
     "output_type": "execute_result"
    }
   ],
   "source": [
    "formatted_query = formatter.format_query(query)\n",
    "cte_queries = formatter.parse_cte(formatted_query)\n",
    "all_columns_scanned = formatter._get_all_scanned_cols(cte_queries, df)\n",
    "all_columns_scanned\n"
   ]
  },
  {
   "cell_type": "code",
   "execution_count": null,
   "metadata": {},
   "outputs": [],
   "source": [
    "column_payload = []\n",
    "for column in all_columns_scanned:\n",
    "    try:\n",
    "        col_split = column.split('.')\n",
    "        db, table, col = col_split[0], col_split[1], col_split[2]\n",
    "        row_payload = dict()\n",
    "        row_payload[\"database_name\"] = db\n",
    "        row_payload[\"table_name\"] = table \n",
    "        row_payload[\"column_name\"] = col\n",
    "        for arg, value in kwargs.items():\n",
    "            row_payload[arg] = value    \n",
    "\n",
    "        column_payload.append(row_payload)  \n",
    "    except:\n",
    "        pass"
   ]
  }
 ],
 "metadata": {
  "kernelspec": {
   "display_name": "Python 3",
   "language": "python",
   "name": "python3"
  },
  "language_info": {
   "codemirror_mode": {
    "name": "ipython",
    "version": 3
   },
   "file_extension": ".py",
   "mimetype": "text/x-python",
   "name": "python",
   "nbconvert_exporter": "python",
   "pygments_lexer": "ipython3",
   "version": "3.7.4"
  }
 },
 "nbformat": 4,
 "nbformat_minor": 2
}
