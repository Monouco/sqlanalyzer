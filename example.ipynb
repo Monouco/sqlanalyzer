{
 "cells": [
  {
   "cell_type": "code",
   "execution_count": 1,
   "metadata": {},
   "outputs": [],
   "source": [
    "from sqlanalyzer import column_parser\n",
    "import pandas as pd"
   ]
  },
  {
   "cell_type": "markdown",
   "metadata": {},
   "source": [
    "## given db metadata"
   ]
  },
  {
   "cell_type": "code",
   "execution_count": 2,
   "metadata": {},
   "outputs": [
    {
     "data": {
      "text/html": [
       "<div>\n",
       "<style scoped>\n",
       "    .dataframe tbody tr th:only-of-type {\n",
       "        vertical-align: middle;\n",
       "    }\n",
       "\n",
       "    .dataframe tbody tr th {\n",
       "        vertical-align: top;\n",
       "    }\n",
       "\n",
       "    .dataframe thead th {\n",
       "        text-align: right;\n",
       "    }\n",
       "</style>\n",
       "<table border=\"1\" class=\"dataframe\">\n",
       "  <thead>\n",
       "    <tr style=\"text-align: right;\">\n",
       "      <th></th>\n",
       "      <th>db_table</th>\n",
       "      <th>all_columns</th>\n",
       "    </tr>\n",
       "  </thead>\n",
       "  <tbody>\n",
       "    <tr>\n",
       "      <td>0</td>\n",
       "      <td>sfdc.accounts</td>\n",
       "      <td>account_health_c</td>\n",
       "    </tr>\n",
       "    <tr>\n",
       "      <td>1</td>\n",
       "      <td>sfdc.accounts</td>\n",
       "      <td>account_health_flag_c</td>\n",
       "    </tr>\n",
       "    <tr>\n",
       "      <td>2</td>\n",
       "      <td>sfdc.accounts</td>\n",
       "      <td>account_health_last_touch_c</td>\n",
       "    </tr>\n",
       "    <tr>\n",
       "      <td>3</td>\n",
       "      <td>sfdc.accounts</td>\n",
       "      <td>account_notes_c</td>\n",
       "    </tr>\n",
       "    <tr>\n",
       "      <td>4</td>\n",
       "      <td>sfdc.accounts</td>\n",
       "      <td>account_owner_c</td>\n",
       "    </tr>\n",
       "    <tr>\n",
       "      <td>...</td>\n",
       "      <td>...</td>\n",
       "      <td>...</td>\n",
       "    </tr>\n",
       "    <tr>\n",
       "      <td>80</td>\n",
       "      <td>sfdc.accounts</td>\n",
       "      <td>zendesk_result_c</td>\n",
       "    </tr>\n",
       "    <tr>\n",
       "      <td>81</td>\n",
       "      <td>sfdc.accounts</td>\n",
       "      <td>zendesk_zendesk_organization_c</td>\n",
       "    </tr>\n",
       "    <tr>\n",
       "      <td>82</td>\n",
       "      <td>sfdc.accounts</td>\n",
       "      <td>zendesk_zendesk_organization_id_c</td>\n",
       "    </tr>\n",
       "    <tr>\n",
       "      <td>83</td>\n",
       "      <td>sfdc.accounts</td>\n",
       "      <td>zisf_zoominfo_industry_c</td>\n",
       "    </tr>\n",
       "    <tr>\n",
       "      <td>84</td>\n",
       "      <td>sfdc.accounts</td>\n",
       "      <td>dt</td>\n",
       "    </tr>\n",
       "  </tbody>\n",
       "</table>\n",
       "<p>85 rows × 2 columns</p>\n",
       "</div>"
      ],
      "text/plain": [
       "         db_table                        all_columns\n",
       "0   sfdc.accounts                   account_health_c\n",
       "1   sfdc.accounts              account_health_flag_c\n",
       "2   sfdc.accounts        account_health_last_touch_c\n",
       "3   sfdc.accounts                    account_notes_c\n",
       "4   sfdc.accounts                    account_owner_c\n",
       "..            ...                                ...\n",
       "80  sfdc.accounts                   zendesk_result_c\n",
       "81  sfdc.accounts     zendesk_zendesk_organization_c\n",
       "82  sfdc.accounts  zendesk_zendesk_organization_id_c\n",
       "83  sfdc.accounts           zisf_zoominfo_industry_c\n",
       "84  sfdc.accounts                                 dt\n",
       "\n",
       "[85 rows x 2 columns]"
      ]
     },
     "execution_count": 2,
     "metadata": {},
     "output_type": "execute_result"
    }
   ],
   "source": [
    "db_fields = pd.DataFrame({'db_table': 'sfdc.accounts', \n",
    "            'all_columns': ['account_health_c', 'account_health_flag_c', 'account_health_last_touch_c', 'account_notes_c', 'account_owner_c', 'account_owner_id_c', 'account_segment_c', 'account_source', 'account_start_date_c', 'account_tier_c', 'add_company_tags_single_c', 'annual_revenue', 'billing_city', 'billing_country', 'billing_postal_code', 'billing_state', 'billing_street', 'churned_date_c', 'created_by_id', 'created_date', 'crunchbase_funding_c', 'csm_c', 'customer_tier_c', 'domain_c', 'dscorgpkg_lead_source_c', 'dscorgpkg_naics_codes_c', 'dscorgpkg_sic_codes_c', 'finance_arr_c', 'github_issue_ticket_c', 'health_update_c', 'id', 'industry', 'industry_group_c', 'industry_sector_c', 'initial_deal_arr_c', 'initial_deal_date_c', 'is_deleted', 'last_activity_date', 'last_modified_date', 'lfbn_account_domain_c', 'lost_opportunities_c', 'lost_renewals_c', 'mapbox_username_c', 'naics_code_c', 'name', 'netsuite_conn_channel_tier_c', 'next_renewal_date_c', 'number_of_employees', 'number_of_mapbox_users_c', 'open_opportunities_c', 'open_renewals_c', 'owner_id', 'owner_role_c', 'parent_id', 'partner_status_c', 'partner_type_c', 'primary_contact_c', 'primary_use_case_c', 'rating', 'record_type_id', 'region_c', 'renewal_manager_c', 'sb_pf_company_c', 'sdr_c', 'segmentation_c', 'shipping_city', 'shipping_country', 'shipping_postal_code', 'shipping_state', 'shipping_street', 'sic', 'solution_engineer_c', 'sub_industry_c', 'sub_region_c', 'support_engineer_c', 'type', 'vertical_c', 'vertical_formula_c', 'won_opportunities_c', 'x18_digit_account_id_c', 'zendesk_result_c', 'zendesk_zendesk_organization_c', 'zendesk_zendesk_organization_id_c', 'zisf_zoominfo_industry_c', 'dt']})\n",
    "db_fields"
   ]
  },
  {
   "cell_type": "markdown",
   "metadata": {},
   "source": [
    "## given query"
   ]
  },
  {
   "cell_type": "code",
   "execution_count": 3,
   "metadata": {},
   "outputs": [],
   "source": [
    "query = \"\"\"WITH opportunity_to_name AS (\n",
    "                SELECT  -- make sure there is only one name per id\n",
    "                id AS account_id, name AS account_name FROM sfdc.accounts sfdc_accounts\n",
    "                WHERE dt = '{run_date}' GROUP BY id, name) SELECT * FROM opportunity_to_name \n",
    "                where dt > (select MAX(datetime) from sfdc.opportunities as sfdc_oppty)\n",
    "\"\"\""
   ]
  },
  {
   "cell_type": "markdown",
   "metadata": {},
   "source": [
    "## transformation 1: format query"
   ]
  },
  {
   "cell_type": "code",
   "execution_count": 4,
   "metadata": {},
   "outputs": [],
   "source": [
    "formatter = column_parser.Parser(query)"
   ]
  },
  {
   "cell_type": "code",
   "execution_count": 5,
   "metadata": {},
   "outputs": [
    {
     "name": "stdout",
     "output_type": "stream",
     "text": [
      "WITH opportunity_to_name AS\n",
      "  (SELECT id AS account_id,\n",
      "          name AS account_name\n",
      "   FROM sfdc.accounts sfdc_accounts\n",
      "   WHERE dt = '{run_date}'\n",
      "   GROUP BY id,\n",
      "            name)\n",
      "SELECT *\n",
      "FROM opportunity_to_name\n",
      "WHERE dt >\n",
      "    (SELECT MAX(datetime)\n",
      "     FROM sfdc.opportunities AS sfdc_oppty)\n"
     ]
    }
   ],
   "source": [
    "formatted = formatter.format_query(query)\n",
    "print(formatted)"
   ]
  },
  {
   "cell_type": "markdown",
   "metadata": {},
   "source": [
    "## transformation 2: separate CTE's"
   ]
  },
  {
   "cell_type": "code",
   "execution_count": 6,
   "metadata": {},
   "outputs": [
    {
     "data": {
      "text/plain": [
       "{'main': 'SELECT *\\nFROM opportunity_to_name\\nWHERE dt >\\n    (SELECT MAX(datetime)\\n     FROM sfdc.opportunities AS sfdc_oppty)',\n",
       " 'opportunity_to_name': \"WITH opportunity_to_name AS\\n  (SELECT id AS account_id,\\n          name AS account_name\\n   FROM sfdc.accounts sfdc_accounts\\n   WHERE dt = '{run_date}'\\n   GROUP BY id,\\n            name)\\n\"}"
      ]
     },
     "execution_count": 6,
     "metadata": {},
     "output_type": "execute_result"
    }
   ],
   "source": [
    "cte_query = formatter.parse_cte(formatted)\n",
    "cte_query"
   ]
  },
  {
   "cell_type": "markdown",
   "metadata": {},
   "source": [
    "## transformation 3: match table aliases"
   ]
  },
  {
   "cell_type": "code",
   "execution_count": 7,
   "metadata": {},
   "outputs": [
    {
     "data": {
      "text/plain": [
       "{'sfdc_accounts': 'sfdc.accounts',\n",
       " 'opportunity_to_name': 'opportunity_to_name',\n",
       " 'sfdc_oppty': 'sfdc.opportunities'}"
      ]
     },
     "execution_count": 7,
     "metadata": {},
     "output_type": "execute_result"
    }
   ],
   "source": [
    "table_alias_mapping = formatter.get_table_names(formatted.split('\\n'))\n",
    "table_alias_mapping"
   ]
  },
  {
   "cell_type": "markdown",
   "metadata": {},
   "source": [
    "## transformation 4: find columns"
   ]
  },
  {
   "cell_type": "code",
   "execution_count": 8,
   "metadata": {},
   "outputs": [
    {
     "data": {
      "text/plain": [
       "[{'database_name': 'sfdc', 'table_name': 'accounts', 'column_name': 'name'},\n",
       " {'database_name': 'sfdc', 'table_name': 'accounts', 'column_name': 'dt'},\n",
       " {'database_name': 'sfdc', 'table_name': 'accounts', 'column_name': 'id'}]"
      ]
     },
     "execution_count": 8,
     "metadata": {},
     "output_type": "execute_result"
    }
   ],
   "source": [
    "formatter.match_queried_fields(query, db_fields)"
   ]
  },
  {
   "cell_type": "markdown",
   "metadata": {},
   "source": [
    "## bonus transformation: upload other query metadata (such as timestamp, user)"
   ]
  },
  {
   "cell_type": "code",
   "execution_count": null,
   "metadata": {},
   "outputs": [],
   "source": []
  }
 ],
 "metadata": {
  "kernelspec": {
   "display_name": "Python 3",
   "language": "python",
   "name": "python3"
  },
  "language_info": {
   "codemirror_mode": {
    "name": "ipython",
    "version": 3
   },
   "file_extension": ".py",
   "mimetype": "text/x-python",
   "name": "python",
   "nbconvert_exporter": "python",
   "pygments_lexer": "ipython3",
   "version": "3.7.4"
  }
 },
 "nbformat": 4,
 "nbformat_minor": 2
}
