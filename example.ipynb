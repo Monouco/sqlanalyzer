{
 "cells": [
  {
   "cell_type": "code",
   "execution_count": 2,
   "metadata": {},
   "outputs": [],
   "source": [
    "from sqlanalyzer import column_parser\n",
    "import pandas as pd"
   ]
  },
  {
   "cell_type": "markdown",
   "metadata": {},
   "source": [
    "## given db metadata"
   ]
  },
  {
   "cell_type": "code",
   "execution_count": 4,
   "metadata": {
    "scrolled": false
   },
   "outputs": [
    {
     "data": {
      "text/html": [
       "<div>\n",
       "<style scoped>\n",
       "    .dataframe tbody tr th:only-of-type {\n",
       "        vertical-align: middle;\n",
       "    }\n",
       "\n",
       "    .dataframe tbody tr th {\n",
       "        vertical-align: top;\n",
       "    }\n",
       "\n",
       "    .dataframe thead th {\n",
       "        text-align: right;\n",
       "    }\n",
       "</style>\n",
       "<table border=\"1\" class=\"dataframe\">\n",
       "  <thead>\n",
       "    <tr style=\"text-align: right;\">\n",
       "      <th></th>\n",
       "      <th>db_table</th>\n",
       "      <th>all_columns</th>\n",
       "    </tr>\n",
       "  </thead>\n",
       "  <tbody>\n",
       "    <tr>\n",
       "      <td>0</td>\n",
       "      <td>wbr.map_requests_by_account</td>\n",
       "      <td>platform</td>\n",
       "    </tr>\n",
       "    <tr>\n",
       "      <td>1</td>\n",
       "      <td>wbr.map_requests_by_account</td>\n",
       "      <td>mobile_os</td>\n",
       "    </tr>\n",
       "    <tr>\n",
       "      <td>2</td>\n",
       "      <td>wbr.map_requests_by_account</td>\n",
       "      <td>service</td>\n",
       "    </tr>\n",
       "    <tr>\n",
       "      <td>3</td>\n",
       "      <td>wbr.map_requests_by_account</td>\n",
       "      <td>service_metadata</td>\n",
       "    </tr>\n",
       "    <tr>\n",
       "      <td>4</td>\n",
       "      <td>wbr.map_requests_by_account</td>\n",
       "      <td>service_metadata_version</td>\n",
       "    </tr>\n",
       "    <tr>\n",
       "      <td>5</td>\n",
       "      <td>wbr.map_requests_by_account</td>\n",
       "      <td>account</td>\n",
       "    </tr>\n",
       "    <tr>\n",
       "      <td>6</td>\n",
       "      <td>wbr.map_requests_by_account</td>\n",
       "      <td>num_requests</td>\n",
       "    </tr>\n",
       "    <tr>\n",
       "      <td>7</td>\n",
       "      <td>wbr.map_requests_by_account</td>\n",
       "      <td>dt</td>\n",
       "    </tr>\n",
       "  </tbody>\n",
       "</table>\n",
       "</div>"
      ],
      "text/plain": [
       "                      db_table               all_columns\n",
       "0  wbr.map_requests_by_account                  platform\n",
       "1  wbr.map_requests_by_account                 mobile_os\n",
       "2  wbr.map_requests_by_account                   service\n",
       "3  wbr.map_requests_by_account          service_metadata\n",
       "4  wbr.map_requests_by_account  service_metadata_version\n",
       "5  wbr.map_requests_by_account                   account\n",
       "6  wbr.map_requests_by_account              num_requests\n",
       "7  wbr.map_requests_by_account                        dt"
      ]
     },
     "execution_count": 4,
     "metadata": {},
     "output_type": "execute_result"
    }
   ],
   "source": [
    "db_fields_1 = pd.DataFrame({'db_table': 'wbr.map_requests_by_account', \n",
    "            'all_columns': ['platform', 'mobile_os', 'service', 'service_metadata', 'service_metadata_version', 'account', 'num_requests', 'dt']})\n",
    "db_fields_1\n"
   ]
  },
  {
   "cell_type": "code",
   "execution_count": null,
   "metadata": {},
   "outputs": [],
   "source": []
  },
  {
   "cell_type": "code",
   "execution_count": 5,
   "metadata": {},
   "outputs": [
    {
     "data": {
      "text/html": [
       "<div>\n",
       "<style scoped>\n",
       "    .dataframe tbody tr th:only-of-type {\n",
       "        vertical-align: middle;\n",
       "    }\n",
       "\n",
       "    .dataframe tbody tr th {\n",
       "        vertical-align: top;\n",
       "    }\n",
       "\n",
       "    .dataframe thead th {\n",
       "        text-align: right;\n",
       "    }\n",
       "</style>\n",
       "<table border=\"1\" class=\"dataframe\">\n",
       "  <thead>\n",
       "    <tr style=\"text-align: right;\">\n",
       "      <th></th>\n",
       "      <th>db_table</th>\n",
       "      <th>all_columns</th>\n",
       "    </tr>\n",
       "  </thead>\n",
       "  <tbody>\n",
       "    <tr>\n",
       "      <td>0</td>\n",
       "      <td>mapbox_customer_data.styles</td>\n",
       "      <td>id</td>\n",
       "    </tr>\n",
       "    <tr>\n",
       "      <td>1</td>\n",
       "      <td>mapbox_customer_data.styles</td>\n",
       "      <td>owner</td>\n",
       "    </tr>\n",
       "    <tr>\n",
       "      <td>2</td>\n",
       "      <td>mapbox_customer_data.styles</td>\n",
       "      <td>metadata</td>\n",
       "    </tr>\n",
       "    <tr>\n",
       "      <td>3</td>\n",
       "      <td>mapbox_customer_data.styles</td>\n",
       "      <td>sources</td>\n",
       "    </tr>\n",
       "  </tbody>\n",
       "</table>\n",
       "</div>"
      ],
      "text/plain": [
       "                      db_table all_columns\n",
       "0  mapbox_customer_data.styles          id\n",
       "1  mapbox_customer_data.styles       owner\n",
       "2  mapbox_customer_data.styles    metadata\n",
       "3  mapbox_customer_data.styles     sources"
      ]
     },
     "execution_count": 5,
     "metadata": {},
     "output_type": "execute_result"
    }
   ],
   "source": [
    "db_fields_2 = pd.DataFrame({'db_table': 'mapbox_customer_data.styles', \n",
    "            'all_columns': ['id', 'owner', 'metadata', 'sources']})\n",
    "db_fields_2\n"
   ]
  },
  {
   "cell_type": "code",
   "execution_count": 9,
   "metadata": {},
   "outputs": [
    {
     "data": {
      "text/html": [
       "<div>\n",
       "<style scoped>\n",
       "    .dataframe tbody tr th:only-of-type {\n",
       "        vertical-align: middle;\n",
       "    }\n",
       "\n",
       "    .dataframe tbody tr th {\n",
       "        vertical-align: top;\n",
       "    }\n",
       "\n",
       "    .dataframe thead th {\n",
       "        text-align: right;\n",
       "    }\n",
       "</style>\n",
       "<table border=\"1\" class=\"dataframe\">\n",
       "  <thead>\n",
       "    <tr style=\"text-align: right;\">\n",
       "      <th></th>\n",
       "      <th>db_table</th>\n",
       "      <th>all_columns</th>\n",
       "    </tr>\n",
       "  </thead>\n",
       "  <tbody>\n",
       "    <tr>\n",
       "      <td>0</td>\n",
       "      <td>sfdc.accounts</td>\n",
       "      <td>dt</td>\n",
       "    </tr>\n",
       "    <tr>\n",
       "      <td>1</td>\n",
       "      <td>sfdc.accounts</td>\n",
       "      <td>customer_tier_c</td>\n",
       "    </tr>\n",
       "    <tr>\n",
       "      <td>2</td>\n",
       "      <td>sfdc.accounts</td>\n",
       "      <td>csm_c</td>\n",
       "    </tr>\n",
       "    <tr>\n",
       "      <td>3</td>\n",
       "      <td>sfdc.accounts</td>\n",
       "      <td>name</td>\n",
       "    </tr>\n",
       "    <tr>\n",
       "      <td>4</td>\n",
       "      <td>sfdc.accounts</td>\n",
       "      <td>mapbox_username_c</td>\n",
       "    </tr>\n",
       "    <tr>\n",
       "      <td>5</td>\n",
       "      <td>sfdc.accounts</td>\n",
       "      <td>x18_digit_account_id_c</td>\n",
       "    </tr>\n",
       "  </tbody>\n",
       "</table>\n",
       "</div>"
      ],
      "text/plain": [
       "        db_table             all_columns\n",
       "0  sfdc.accounts                      dt\n",
       "1  sfdc.accounts         customer_tier_c\n",
       "2  sfdc.accounts                   csm_c\n",
       "3  sfdc.accounts                    name\n",
       "4  sfdc.accounts       mapbox_username_c\n",
       "5  sfdc.accounts  x18_digit_account_id_c"
      ]
     },
     "execution_count": 9,
     "metadata": {},
     "output_type": "execute_result"
    }
   ],
   "source": [
    "db_fields_3 = pd.DataFrame({'db_table': 'sfdc.accounts', \n",
    "            'all_columns': ['dt', 'customer_tier_c', 'csm_c', 'name', 'mapbox_username_c', 'x18_digit_account_id_c']})\n",
    "db_fields_3\n"
   ]
  },
  {
   "cell_type": "code",
   "execution_count": 8,
   "metadata": {},
   "outputs": [
    {
     "data": {
      "text/html": [
       "<div>\n",
       "<style scoped>\n",
       "    .dataframe tbody tr th:only-of-type {\n",
       "        vertical-align: middle;\n",
       "    }\n",
       "\n",
       "    .dataframe tbody tr th {\n",
       "        vertical-align: top;\n",
       "    }\n",
       "\n",
       "    .dataframe thead th {\n",
       "        text-align: right;\n",
       "    }\n",
       "</style>\n",
       "<table border=\"1\" class=\"dataframe\">\n",
       "  <thead>\n",
       "    <tr style=\"text-align: right;\">\n",
       "      <th></th>\n",
       "      <th>db_table</th>\n",
       "      <th>all_columns</th>\n",
       "    </tr>\n",
       "  </thead>\n",
       "  <tbody>\n",
       "    <tr>\n",
       "      <td>0</td>\n",
       "      <td>sfdc.users</td>\n",
       "      <td>dt</td>\n",
       "    </tr>\n",
       "    <tr>\n",
       "      <td>1</td>\n",
       "      <td>sfdc.users</td>\n",
       "      <td>name</td>\n",
       "    </tr>\n",
       "    <tr>\n",
       "      <td>2</td>\n",
       "      <td>sfdc.users</td>\n",
       "      <td>id</td>\n",
       "    </tr>\n",
       "  </tbody>\n",
       "</table>\n",
       "</div>"
      ],
      "text/plain": [
       "     db_table all_columns\n",
       "0  sfdc.users          dt\n",
       "1  sfdc.users        name\n",
       "2  sfdc.users          id"
      ]
     },
     "execution_count": 8,
     "metadata": {},
     "output_type": "execute_result"
    }
   ],
   "source": [
    "db_fields_4 = pd.DataFrame({'db_table': 'sfdc.users', \n",
    "            'all_columns': ['dt', 'name', 'id']})\n",
    "db_fields_4\n"
   ]
  },
  {
   "cell_type": "code",
   "execution_count": 12,
   "metadata": {},
   "outputs": [],
   "source": [
    "df = db_fields_1.append(db_fields_2, ignore_index=True)"
   ]
  },
  {
   "cell_type": "code",
   "execution_count": 13,
   "metadata": {},
   "outputs": [],
   "source": [
    "df = df.append(db_fields_3, ignore_index=True)\n",
    "df = df.append(db_fields_4, ignore_index=True)"
   ]
  },
  {
   "cell_type": "code",
   "execution_count": 15,
   "metadata": {},
   "outputs": [],
   "source": [
    "db_fields = df"
   ]
  },
  {
   "cell_type": "code",
   "execution_count": 28,
   "metadata": {},
   "outputs": [
    {
     "data": {
      "text/html": [
       "<div>\n",
       "<style scoped>\n",
       "    .dataframe tbody tr th:only-of-type {\n",
       "        vertical-align: middle;\n",
       "    }\n",
       "\n",
       "    .dataframe tbody tr th {\n",
       "        vertical-align: top;\n",
       "    }\n",
       "\n",
       "    .dataframe thead th {\n",
       "        text-align: right;\n",
       "    }\n",
       "</style>\n",
       "<table border=\"1\" class=\"dataframe\">\n",
       "  <thead>\n",
       "    <tr style=\"text-align: right;\">\n",
       "      <th></th>\n",
       "      <th>db_table</th>\n",
       "      <th>all_columns</th>\n",
       "    </tr>\n",
       "  </thead>\n",
       "  <tbody>\n",
       "    <tr>\n",
       "      <td>0</td>\n",
       "      <td>wbr.map_requests_by_account</td>\n",
       "      <td>platform</td>\n",
       "    </tr>\n",
       "    <tr>\n",
       "      <td>1</td>\n",
       "      <td>wbr.map_requests_by_account</td>\n",
       "      <td>mobile_os</td>\n",
       "    </tr>\n",
       "    <tr>\n",
       "      <td>2</td>\n",
       "      <td>wbr.map_requests_by_account</td>\n",
       "      <td>service</td>\n",
       "    </tr>\n",
       "    <tr>\n",
       "      <td>3</td>\n",
       "      <td>wbr.map_requests_by_account</td>\n",
       "      <td>service_metadata</td>\n",
       "    </tr>\n",
       "    <tr>\n",
       "      <td>4</td>\n",
       "      <td>wbr.map_requests_by_account</td>\n",
       "      <td>service_metadata_version</td>\n",
       "    </tr>\n",
       "    <tr>\n",
       "      <td>5</td>\n",
       "      <td>wbr.map_requests_by_account</td>\n",
       "      <td>account</td>\n",
       "    </tr>\n",
       "    <tr>\n",
       "      <td>6</td>\n",
       "      <td>wbr.map_requests_by_account</td>\n",
       "      <td>num_requests</td>\n",
       "    </tr>\n",
       "    <tr>\n",
       "      <td>7</td>\n",
       "      <td>wbr.map_requests_by_account</td>\n",
       "      <td>dt</td>\n",
       "    </tr>\n",
       "    <tr>\n",
       "      <td>8</td>\n",
       "      <td>mapbox_customer_data.styles</td>\n",
       "      <td>id</td>\n",
       "    </tr>\n",
       "    <tr>\n",
       "      <td>9</td>\n",
       "      <td>mapbox_customer_data.styles</td>\n",
       "      <td>owner</td>\n",
       "    </tr>\n",
       "    <tr>\n",
       "      <td>10</td>\n",
       "      <td>mapbox_customer_data.styles</td>\n",
       "      <td>metadata</td>\n",
       "    </tr>\n",
       "    <tr>\n",
       "      <td>11</td>\n",
       "      <td>mapbox_customer_data.styles</td>\n",
       "      <td>sources</td>\n",
       "    </tr>\n",
       "    <tr>\n",
       "      <td>12</td>\n",
       "      <td>sfdc.accounts</td>\n",
       "      <td>dt</td>\n",
       "    </tr>\n",
       "    <tr>\n",
       "      <td>13</td>\n",
       "      <td>sfdc.accounts</td>\n",
       "      <td>customer_tier_c</td>\n",
       "    </tr>\n",
       "    <tr>\n",
       "      <td>14</td>\n",
       "      <td>sfdc.accounts</td>\n",
       "      <td>csm_c</td>\n",
       "    </tr>\n",
       "    <tr>\n",
       "      <td>15</td>\n",
       "      <td>sfdc.accounts</td>\n",
       "      <td>name</td>\n",
       "    </tr>\n",
       "    <tr>\n",
       "      <td>16</td>\n",
       "      <td>sfdc.accounts</td>\n",
       "      <td>mapbox_username_c</td>\n",
       "    </tr>\n",
       "    <tr>\n",
       "      <td>17</td>\n",
       "      <td>sfdc.accounts</td>\n",
       "      <td>x18_digit_account_id_c</td>\n",
       "    </tr>\n",
       "    <tr>\n",
       "      <td>18</td>\n",
       "      <td>sfdc.users</td>\n",
       "      <td>dt</td>\n",
       "    </tr>\n",
       "    <tr>\n",
       "      <td>19</td>\n",
       "      <td>sfdc.users</td>\n",
       "      <td>name</td>\n",
       "    </tr>\n",
       "    <tr>\n",
       "      <td>20</td>\n",
       "      <td>sfdc.users</td>\n",
       "      <td>id</td>\n",
       "    </tr>\n",
       "  </tbody>\n",
       "</table>\n",
       "</div>"
      ],
      "text/plain": [
       "                       db_table               all_columns\n",
       "0   wbr.map_requests_by_account                  platform\n",
       "1   wbr.map_requests_by_account                 mobile_os\n",
       "2   wbr.map_requests_by_account                   service\n",
       "3   wbr.map_requests_by_account          service_metadata\n",
       "4   wbr.map_requests_by_account  service_metadata_version\n",
       "5   wbr.map_requests_by_account                   account\n",
       "6   wbr.map_requests_by_account              num_requests\n",
       "7   wbr.map_requests_by_account                        dt\n",
       "8   mapbox_customer_data.styles                        id\n",
       "9   mapbox_customer_data.styles                     owner\n",
       "10  mapbox_customer_data.styles                  metadata\n",
       "11  mapbox_customer_data.styles                   sources\n",
       "12                sfdc.accounts                        dt\n",
       "13                sfdc.accounts           customer_tier_c\n",
       "14                sfdc.accounts                     csm_c\n",
       "15                sfdc.accounts                      name\n",
       "16                sfdc.accounts         mapbox_username_c\n",
       "17                sfdc.accounts    x18_digit_account_id_c\n",
       "18                   sfdc.users                        dt\n",
       "19                   sfdc.users                      name\n",
       "20                   sfdc.users                        id"
      ]
     },
     "execution_count": 28,
     "metadata": {},
     "output_type": "execute_result"
    }
   ],
   "source": [
    "db_fields"
   ]
  },
  {
   "cell_type": "markdown",
   "metadata": {},
   "source": [
    "## given query"
   ]
  },
  {
   "cell_type": "code",
   "execution_count": 16,
   "metadata": {},
   "outputs": [],
   "source": [
    "query = \"\"\"\"SELECT u.name,\\n       b.customer_tier_c,\\n       b.name,\\n       m.account,\\n       b.x18_digit_account_id_c,\\n       s.id,\\n       m.platform,\\n       m.mobile_os,\\n       m.num_requests,\\n       Row_number() OVER(PARTITION BY s.id) row_\\nFROM wbr.map_requests_by_account m\\nINNER JOIN\\n  (SELECT DISTINCT id\\n   FROM mapbox_customer_data.styles\\n   WHERE cast(dt AS DATE) >= CURRENT_DATE - INTERVAL '14' DAY\\n     AND sources LIKE '%mapbox-streets-v7%' ) s ON m.service_metadata_version = s.id\\nLEFT JOIN\\n  (SELECT customer_tier_c,\\n          csm_c,\\n          name,\\n          mapbox_username_c,\\n          x18_digit_account_id_c\\n   FROM sfdc.accounts\\n   WHERE cast(dt AS DATE) = CURRENT_DATE - INTERVAL '1' DAY ) b ON m.account = b.mapbox_username_c\\nLEFT JOIN\\n  (SELECT name,\\n          id\\n   FROM sfdc.users\\n   WHERE cast(dt AS DATE) = CURRENT_DATE - INTERVAL '1' DAY ) u ON b.csm_c = u.id\\nWHERE cast(m.dt AS DATE) >= CURRENT_DATE - INTERVAL '14' DAY\\n  AND m.service_metadata = 'custom'\\n  AND m.service = 'styles'\\n  AND b.customer_tier_c IN ('Tier 0',\\n                            'Tier 1',\\n                            'Tier 2',\\n                            'Tier 3',\\n                            'Tier 4')\"\n",
    "\"\"\""
   ]
  },
  {
   "cell_type": "markdown",
   "metadata": {},
   "source": [
    "## transformation 1: format query"
   ]
  },
  {
   "cell_type": "code",
   "execution_count": 18,
   "metadata": {},
   "outputs": [],
   "source": [
    "formatter = column_parser.Parser(query)"
   ]
  },
  {
   "cell_type": "code",
   "execution_count": 19,
   "metadata": {
    "scrolled": false
   },
   "outputs": [
    {
     "name": "stdout",
     "output_type": "stream",
     "text": [
      "SELECT u.name,\n",
      "       b.customer_tier_c,\n",
      "       b.name,\n",
      "       m.account,\n",
      "       b.x18_digit_account_id_c,\n",
      "       s.id,\n",
      "       m.platform,\n",
      "       m.mobile_os,\n",
      "       m.num_requests,\n",
      "       Row_number() OVER(PARTITION BY s.id) row_\n",
      "FROM wbr.map_requests_by_account m\n",
      "INNER JOIN\n",
      "  (SELECT DISTINCT id\n",
      "   FROM mapbox_customer_data.styles\n",
      "   WHERE cast(dt AS DATE) >= CURRENT_DATE - INTERVAL '14' DAY\n",
      "     AND sources LIKE '%mapbox-streets-v7%' ) s ON m.service_metadata_version = s.id\n",
      "LEFT JOIN\n",
      "  (SELECT customer_tier_c,\n",
      "          csm_c,\n",
      "          name,\n",
      "          mapbox_username_c,\n",
      "          x18_digit_account_id_c\n",
      "   FROM sfdc.accounts\n",
      "   WHERE cast(dt AS DATE) = CURRENT_DATE - INTERVAL '1' DAY ) b ON m.account = b.mapbox_username_c\n",
      "LEFT JOIN\n",
      "  (SELECT name,\n",
      "          id\n",
      "   FROM sfdc.users\n",
      "   WHERE cast(dt AS DATE) = CURRENT_DATE - INTERVAL '1' DAY ) u ON b.csm_c = u.id\n",
      "WHERE cast(m.dt AS DATE) >= CURRENT_DATE - INTERVAL '14' DAY\n",
      "  AND m.service_metadata = 'custom'\n",
      "  AND m.service = 'styles'\n",
      "  AND b.customer_tier_c IN ('Tier 0',\n",
      "                            'Tier 1',\n",
      "                            'Tier 2',\n",
      "                            'Tier 3',\n",
      "                            'Tier 4')\n"
     ]
    }
   ],
   "source": [
    "formatted = formatter.format_query(query)\n",
    "print(formatted)"
   ]
  },
  {
   "cell_type": "markdown",
   "metadata": {},
   "source": [
    "## transformation 2: separate CTE's"
   ]
  },
  {
   "cell_type": "code",
   "execution_count": 20,
   "metadata": {},
   "outputs": [
    {
     "data": {
      "text/plain": [
       "{'main': \"SELECT u.name,\\n       b.customer_tier_c,\\n       b.name,\\n       m.account,\\n       b.x18_digit_account_id_c,\\n       s.id,\\n       m.platform,\\n       m.mobile_os,\\n       m.num_requests,\\n       Row_number() OVER(PARTITION BY s.id) row_\\nFROM wbr.map_requests_by_account m\\nINNER JOIN\\n  (SELECT DISTINCT id\\n   FROM mapbox_customer_data.styles\\n   WHERE cast(dt AS DATE) >= CURRENT_DATE - INTERVAL '14' DAY\\n     AND sources LIKE '%mapbox-streets-v7%' ) s ON m.service_metadata_version = s.id\\nLEFT JOIN\\n  (SELECT customer_tier_c,\\n          csm_c,\\n          name,\\n          mapbox_username_c,\\n          x18_digit_account_id_c\\n   FROM sfdc.accounts\\n   WHERE cast(dt AS DATE) = CURRENT_DATE - INTERVAL '1' DAY ) b ON m.account = b.mapbox_username_c\\nLEFT JOIN\\n  (SELECT name,\\n          id\\n   FROM sfdc.users\\n   WHERE cast(dt AS DATE) = CURRENT_DATE - INTERVAL '1' DAY ) u ON b.csm_c = u.id\\nWHERE cast(m.dt AS DATE) >= CURRENT_DATE - INTERVAL '14' DAY\\n  AND m.service_metadata = 'custom'\\n  AND m.service = 'styles'\\n  AND b.customer_tier_c IN ('Tier 0',\\n                            'Tier 1',\\n                            'Tier 2',\\n                            'Tier 3',\\n                            'Tier 4')\"}"
      ]
     },
     "execution_count": 20,
     "metadata": {},
     "output_type": "execute_result"
    }
   ],
   "source": [
    "cte_query = formatter.parse_cte(formatted)\n",
    "cte_query"
   ]
  },
  {
   "cell_type": "code",
   "execution_count": 21,
   "metadata": {},
   "outputs": [
    {
     "data": {
      "text/plain": [
       "dict_keys(['main'])"
      ]
     },
     "execution_count": 21,
     "metadata": {},
     "output_type": "execute_result"
    }
   ],
   "source": [
    "cte_query.keys()"
   ]
  },
  {
   "cell_type": "code",
   "execution_count": 22,
   "metadata": {
    "scrolled": true
   },
   "outputs": [
    {
     "data": {
      "text/plain": [
       "{'main': \"SELECT u.name,\\n       b.customer_tier_c,\\n       b.name,\\n       m.account,\\n       b.x18_digit_account_id_c,\\n       s.id,\\n       m.platform,\\n       m.mobile_os,\\n       m.num_requests,\\n       Row_number() OVER(PARTITION BY s.id) row_\\nFROM wbr.map_requests_by_account m\\nINNER JOIN\\n  (SELECT DISTINCT id\\n   FROM mapbox_customer_data.styles\\n   WHERE cast(dt AS DATE) >= CURRENT_DATE - INTERVAL '14' DAY\\n     AND sources LIKE '%mapbox-streets-v7%' ) s ON m.service_metadata_version = s.id\\nLEFT JOIN\\n  (SELECT customer_tier_c,\\n          csm_c,\\n          name,\\n          mapbox_username_c,\\n          x18_digit_account_id_c\\n   FROM sfdc.accounts\\n   WHERE cast(dt AS DATE) = CURRENT_DATE - INTERVAL '1' DAY ) b ON m.account = b.mapbox_username_c\\nLEFT JOIN\\n  (SELECT name,\\n          id\\n   FROM sfdc.users\\n   WHERE cast(dt AS DATE) = CURRENT_DATE - INTERVAL '1' DAY ) u ON b.csm_c = u.id\\nWHERE cast(m.dt AS DATE) >= CURRENT_DATE - INTERVAL '14' DAY\\n  AND m.service_metadata = 'custom'\\n  AND m.service = 'styles'\\n  AND b.customer_tier_c IN ('Tier 0',\\n                            'Tier 1',\\n                            'Tier 2',\\n                            'Tier 3',\\n                            'Tier 4')\"}"
      ]
     },
     "execution_count": 22,
     "metadata": {},
     "output_type": "execute_result"
    }
   ],
   "source": [
    "formatted = formatter.format_query(cte_query['main'])\n",
    "cte_query = formatter.parse_cte(formatted)\n",
    "cte_query"
   ]
  },
  {
   "cell_type": "code",
   "execution_count": 23,
   "metadata": {},
   "outputs": [
    {
     "data": {
      "text/plain": [
       "{'main': \"SELECT u.name,\\n       b.customer_tier_c,\\n       b.name,\\n       m.account,\\n       b.x18_digit_account_id_c,\\n       s.id,\\n       m.platform,\\n       m.mobile_os,\\n       m.num_requests,\\n       Row_number() OVER(PARTITION BY s.id) row_\\nFROM wbr.map_requests_by_account m\\nINNER JOIN\\n  (SELECT DISTINCT id\\n   FROM mapbox_customer_data.styles\\n   WHERE cast(dt AS DATE) >= CURRENT_DATE - INTERVAL '14' DAY\\n     AND sources LIKE '%mapbox-streets-v7%' ) s ON m.service_metadata_version = s.id\\nLEFT JOIN\\n  (SELECT customer_tier_c,\\n          csm_c,\\n          name,\\n          mapbox_username_c,\\n          x18_digit_account_id_c\\n   FROM sfdc.accounts\\n   WHERE cast(dt AS DATE) = CURRENT_DATE - INTERVAL '1' DAY ) b ON m.account = b.mapbox_username_c\\nLEFT JOIN\\n  (SELECT name,\\n          id\\n   FROM sfdc.users\\n   WHERE cast(dt AS DATE) = CURRENT_DATE - INTERVAL '1' DAY ) u ON b.csm_c = u.id\\nWHERE cast(m.dt AS DATE) >= CURRENT_DATE - INTERVAL '14' DAY\\n  AND m.service_metadata = 'custom'\\n  AND m.service = 'styles'\\n  AND b.customer_tier_c IN ('Tier 0',\\n                            'Tier 1',\\n                            'Tier 2',\\n                            'Tier 3',\\n                            'Tier 4')\"}"
      ]
     },
     "execution_count": 23,
     "metadata": {},
     "output_type": "execute_result"
    }
   ],
   "source": [
    "formatted = formatter.format_query(cte_query['main'])\n",
    "cte_query = formatter.parse_cte(formatted)\n",
    "cte_query"
   ]
  },
  {
   "cell_type": "markdown",
   "metadata": {},
   "source": [
    "## transformation 3: match table aliases"
   ]
  },
  {
   "cell_type": "code",
   "execution_count": 24,
   "metadata": {},
   "outputs": [
    {
     "data": {
      "text/plain": [
       "{'m': 'wbr.map_requests_by_account',\n",
       " 'mapbox_customer_data.styles': 'mapbox_customer_data.styles',\n",
       " 'sfdc.accounts': 'sfdc.accounts',\n",
       " 'sfdc.users': 'sfdc.users'}"
      ]
     },
     "execution_count": 24,
     "metadata": {},
     "output_type": "execute_result"
    }
   ],
   "source": [
    "table_alias_mapping = formatter.get_table_names(formatted.split('\\n'))\n",
    "table_alias_mapping"
   ]
  },
  {
   "cell_type": "markdown",
   "metadata": {},
   "source": [
    "## transformation 4: find columns"
   ]
  },
  {
   "cell_type": "code",
   "execution_count": 29,
   "metadata": {},
   "outputs": [],
   "source": [
    "fields = formatter.match_queried_fields(query, db_fields)"
   ]
  },
  {
   "cell_type": "code",
   "execution_count": 33,
   "metadata": {},
   "outputs": [
    {
     "data": {
      "text/html": [
       "<div>\n",
       "<style scoped>\n",
       "    .dataframe tbody tr th:only-of-type {\n",
       "        vertical-align: middle;\n",
       "    }\n",
       "\n",
       "    .dataframe tbody tr th {\n",
       "        vertical-align: top;\n",
       "    }\n",
       "\n",
       "    .dataframe thead th {\n",
       "        text-align: right;\n",
       "    }\n",
       "</style>\n",
       "<table border=\"1\" class=\"dataframe\">\n",
       "  <thead>\n",
       "    <tr style=\"text-align: right;\">\n",
       "      <th></th>\n",
       "      <th>database_name</th>\n",
       "      <th>table_name</th>\n",
       "      <th>column_name</th>\n",
       "    </tr>\n",
       "  </thead>\n",
       "  <tbody>\n",
       "    <tr>\n",
       "      <td>17</td>\n",
       "      <td>mapbox_customer_data</td>\n",
       "      <td>styles</td>\n",
       "      <td>id</td>\n",
       "    </tr>\n",
       "    <tr>\n",
       "      <td>13</td>\n",
       "      <td>mapbox_customer_data</td>\n",
       "      <td>styles</td>\n",
       "      <td>sources</td>\n",
       "    </tr>\n",
       "    <tr>\n",
       "      <td>2</td>\n",
       "      <td>sfdc</td>\n",
       "      <td>accounts</td>\n",
       "      <td>csm_c</td>\n",
       "    </tr>\n",
       "    <tr>\n",
       "      <td>3</td>\n",
       "      <td>sfdc</td>\n",
       "      <td>accounts</td>\n",
       "      <td>customer_tier_c</td>\n",
       "    </tr>\n",
       "    <tr>\n",
       "      <td>6</td>\n",
       "      <td>sfdc</td>\n",
       "      <td>accounts</td>\n",
       "      <td>dt</td>\n",
       "    </tr>\n",
       "    <tr>\n",
       "      <td>15</td>\n",
       "      <td>sfdc</td>\n",
       "      <td>accounts</td>\n",
       "      <td>mapbox_username_c</td>\n",
       "    </tr>\n",
       "    <tr>\n",
       "      <td>4</td>\n",
       "      <td>sfdc</td>\n",
       "      <td>accounts</td>\n",
       "      <td>name</td>\n",
       "    </tr>\n",
       "    <tr>\n",
       "      <td>8</td>\n",
       "      <td>sfdc</td>\n",
       "      <td>users</td>\n",
       "      <td>dt</td>\n",
       "    </tr>\n",
       "    <tr>\n",
       "      <td>9</td>\n",
       "      <td>sfdc</td>\n",
       "      <td>users</td>\n",
       "      <td>id</td>\n",
       "    </tr>\n",
       "    <tr>\n",
       "      <td>16</td>\n",
       "      <td>sfdc</td>\n",
       "      <td>users</td>\n",
       "      <td>name</td>\n",
       "    </tr>\n",
       "    <tr>\n",
       "      <td>12</td>\n",
       "      <td>wbr</td>\n",
       "      <td>map_requests_by_account</td>\n",
       "      <td>account</td>\n",
       "    </tr>\n",
       "    <tr>\n",
       "      <td>7</td>\n",
       "      <td>wbr</td>\n",
       "      <td>map_requests_by_account</td>\n",
       "      <td>dt</td>\n",
       "    </tr>\n",
       "    <tr>\n",
       "      <td>11</td>\n",
       "      <td>wbr</td>\n",
       "      <td>map_requests_by_account</td>\n",
       "      <td>mobile_os</td>\n",
       "    </tr>\n",
       "    <tr>\n",
       "      <td>0</td>\n",
       "      <td>wbr</td>\n",
       "      <td>map_requests_by_account</td>\n",
       "      <td>num_requests</td>\n",
       "    </tr>\n",
       "    <tr>\n",
       "      <td>5</td>\n",
       "      <td>wbr</td>\n",
       "      <td>map_requests_by_account</td>\n",
       "      <td>platform</td>\n",
       "    </tr>\n",
       "    <tr>\n",
       "      <td>10</td>\n",
       "      <td>wbr</td>\n",
       "      <td>map_requests_by_account</td>\n",
       "      <td>service</td>\n",
       "    </tr>\n",
       "    <tr>\n",
       "      <td>1</td>\n",
       "      <td>wbr</td>\n",
       "      <td>map_requests_by_account</td>\n",
       "      <td>service_metadata</td>\n",
       "    </tr>\n",
       "    <tr>\n",
       "      <td>14</td>\n",
       "      <td>wbr</td>\n",
       "      <td>map_requests_by_account</td>\n",
       "      <td>service_metadata_version</td>\n",
       "    </tr>\n",
       "  </tbody>\n",
       "</table>\n",
       "</div>"
      ],
      "text/plain": [
       "           database_name               table_name               column_name\n",
       "17  mapbox_customer_data                   styles                        id\n",
       "13  mapbox_customer_data                   styles                   sources\n",
       "2                   sfdc                 accounts                     csm_c\n",
       "3                   sfdc                 accounts           customer_tier_c\n",
       "6                   sfdc                 accounts                        dt\n",
       "15                  sfdc                 accounts         mapbox_username_c\n",
       "4                   sfdc                 accounts                      name\n",
       "8                   sfdc                    users                        dt\n",
       "9                   sfdc                    users                        id\n",
       "16                  sfdc                    users                      name\n",
       "12                   wbr  map_requests_by_account                   account\n",
       "7                    wbr  map_requests_by_account                        dt\n",
       "11                   wbr  map_requests_by_account                 mobile_os\n",
       "0                    wbr  map_requests_by_account              num_requests\n",
       "5                    wbr  map_requests_by_account                  platform\n",
       "10                   wbr  map_requests_by_account                   service\n",
       "1                    wbr  map_requests_by_account          service_metadata\n",
       "14                   wbr  map_requests_by_account  service_metadata_version"
      ]
     },
     "execution_count": 33,
     "metadata": {},
     "output_type": "execute_result"
    }
   ],
   "source": [
    "pd.DataFrame(fields).sort_values(by=['database_name', 'table_name', 'column_name'])"
   ]
  },
  {
   "cell_type": "markdown",
   "metadata": {},
   "source": [
    "## bonus transformation: upload other query metadata (such as timestamp, user)"
   ]
  },
  {
   "cell_type": "code",
   "execution_count": null,
   "metadata": {},
   "outputs": [],
   "source": []
  }
 ],
 "metadata": {
  "kernelspec": {
   "display_name": "Python 3",
   "language": "python",
   "name": "python3"
  },
  "language_info": {
   "codemirror_mode": {
    "name": "ipython",
    "version": 3
   },
   "file_extension": ".py",
   "mimetype": "text/x-python",
   "name": "python",
   "nbconvert_exporter": "python",
   "pygments_lexer": "ipython3",
   "version": "3.7.4"
  }
 },
 "nbformat": 4,
 "nbformat_minor": 2
}
