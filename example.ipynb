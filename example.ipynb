{
 "cells": [
  {
   "cell_type": "code",
   "execution_count": 4,
   "metadata": {},
   "outputs": [],
   "source": [
    "from sqlanalyzer import column_parser\n",
    "import pandas as pd"
   ]
  },
  {
   "cell_type": "markdown",
   "metadata": {},
   "source": [
    "## given db metadata"
   ]
  },
  {
   "cell_type": "code",
   "execution_count": 2,
   "metadata": {},
   "outputs": [
    {
     "data": {
      "text/html": [
       "<div>\n",
       "<style scoped>\n",
       "    .dataframe tbody tr th:only-of-type {\n",
       "        vertical-align: middle;\n",
       "    }\n",
       "\n",
       "    .dataframe tbody tr th {\n",
       "        vertical-align: top;\n",
       "    }\n",
       "\n",
       "    .dataframe thead th {\n",
       "        text-align: right;\n",
       "    }\n",
       "</style>\n",
       "<table border=\"1\" class=\"dataframe\">\n",
       "  <thead>\n",
       "    <tr style=\"text-align: right;\">\n",
       "      <th></th>\n",
       "      <th>db_table</th>\n",
       "      <th>all_columns</th>\n",
       "    </tr>\n",
       "  </thead>\n",
       "  <tbody>\n",
       "    <tr>\n",
       "      <td>0</td>\n",
       "      <td>sfdc.accounts</td>\n",
       "      <td>account_health_c</td>\n",
       "    </tr>\n",
       "    <tr>\n",
       "      <td>1</td>\n",
       "      <td>sfdc.accounts</td>\n",
       "      <td>account_health_flag_c</td>\n",
       "    </tr>\n",
       "    <tr>\n",
       "      <td>2</td>\n",
       "      <td>sfdc.accounts</td>\n",
       "      <td>account_health_last_touch_c</td>\n",
       "    </tr>\n",
       "    <tr>\n",
       "      <td>3</td>\n",
       "      <td>sfdc.accounts</td>\n",
       "      <td>account_notes_c</td>\n",
       "    </tr>\n",
       "    <tr>\n",
       "      <td>4</td>\n",
       "      <td>sfdc.accounts</td>\n",
       "      <td>account_owner_c</td>\n",
       "    </tr>\n",
       "    <tr>\n",
       "      <td>...</td>\n",
       "      <td>...</td>\n",
       "      <td>...</td>\n",
       "    </tr>\n",
       "    <tr>\n",
       "      <td>80</td>\n",
       "      <td>sfdc.accounts</td>\n",
       "      <td>zendesk_result_c</td>\n",
       "    </tr>\n",
       "    <tr>\n",
       "      <td>81</td>\n",
       "      <td>sfdc.accounts</td>\n",
       "      <td>zendesk_zendesk_organization_c</td>\n",
       "    </tr>\n",
       "    <tr>\n",
       "      <td>82</td>\n",
       "      <td>sfdc.accounts</td>\n",
       "      <td>zendesk_zendesk_organization_id_c</td>\n",
       "    </tr>\n",
       "    <tr>\n",
       "      <td>83</td>\n",
       "      <td>sfdc.accounts</td>\n",
       "      <td>zisf_zoominfo_industry_c</td>\n",
       "    </tr>\n",
       "    <tr>\n",
       "      <td>84</td>\n",
       "      <td>sfdc.accounts</td>\n",
       "      <td>dt</td>\n",
       "    </tr>\n",
       "  </tbody>\n",
       "</table>\n",
       "<p>85 rows × 2 columns</p>\n",
       "</div>"
      ],
      "text/plain": [
       "         db_table                        all_columns\n",
       "0   sfdc.accounts                   account_health_c\n",
       "1   sfdc.accounts              account_health_flag_c\n",
       "2   sfdc.accounts        account_health_last_touch_c\n",
       "3   sfdc.accounts                    account_notes_c\n",
       "4   sfdc.accounts                    account_owner_c\n",
       "..            ...                                ...\n",
       "80  sfdc.accounts                   zendesk_result_c\n",
       "81  sfdc.accounts     zendesk_zendesk_organization_c\n",
       "82  sfdc.accounts  zendesk_zendesk_organization_id_c\n",
       "83  sfdc.accounts           zisf_zoominfo_industry_c\n",
       "84  sfdc.accounts                                 dt\n",
       "\n",
       "[85 rows x 2 columns]"
      ]
     },
     "execution_count": 2,
     "metadata": {},
     "output_type": "execute_result"
    }
   ],
   "source": [
    "db_fields = pd.DataFrame({'db_table': 'sfdc.accounts', \n",
    "            'all_columns': ['account_health_c', 'account_health_flag_c', 'account_health_last_touch_c', 'account_notes_c', 'account_owner_c', 'account_owner_id_c', 'account_segment_c', 'account_source', 'account_start_date_c', 'account_tier_c', 'add_company_tags_single_c', 'annual_revenue', 'billing_city', 'billing_country', 'billing_postal_code', 'billing_state', 'billing_street', 'churned_date_c', 'created_by_id', 'created_date', 'crunchbase_funding_c', 'csm_c', 'customer_tier_c', 'domain_c', 'dscorgpkg_lead_source_c', 'dscorgpkg_naics_codes_c', 'dscorgpkg_sic_codes_c', 'finance_arr_c', 'github_issue_ticket_c', 'health_update_c', 'id', 'industry', 'industry_group_c', 'industry_sector_c', 'initial_deal_arr_c', 'initial_deal_date_c', 'is_deleted', 'last_activity_date', 'last_modified_date', 'lfbn_account_domain_c', 'lost_opportunities_c', 'lost_renewals_c', 'mapbox_username_c', 'naics_code_c', 'name', 'netsuite_conn_channel_tier_c', 'next_renewal_date_c', 'number_of_employees', 'number_of_mapbox_users_c', 'open_opportunities_c', 'open_renewals_c', 'owner_id', 'owner_role_c', 'parent_id', 'partner_status_c', 'partner_type_c', 'primary_contact_c', 'primary_use_case_c', 'rating', 'record_type_id', 'region_c', 'renewal_manager_c', 'sb_pf_company_c', 'sdr_c', 'segmentation_c', 'shipping_city', 'shipping_country', 'shipping_postal_code', 'shipping_state', 'shipping_street', 'sic', 'solution_engineer_c', 'sub_industry_c', 'sub_region_c', 'support_engineer_c', 'type', 'vertical_c', 'vertical_formula_c', 'won_opportunities_c', 'x18_digit_account_id_c', 'zendesk_result_c', 'zendesk_zendesk_organization_c', 'zendesk_zendesk_organization_id_c', 'zisf_zoominfo_industry_c', 'dt']})\n",
    "db_fields"
   ]
  },
  {
   "cell_type": "markdown",
   "metadata": {},
   "source": [
    "## given query"
   ]
  },
  {
   "cell_type": "code",
   "execution_count": 21,
   "metadata": {},
   "outputs": [],
   "source": [
    "query = \"\"\"SELECT \"custom_sql_query\".\"account\" AS \"account\", \"custom_sql_query\".\"account_id\" AS \"account_id\", \"custom_sql_query\".\"account_name\" AS \"account_name\", \"custom_sql_query\".\"accountlevel\" AS \"accountlevel\", \"custom_sql_query\".\"authorization_id\" AS \"authorization_id\", \"custom_sql_query\".\"creferrer\" AS \"creferrer\", \"custom_sql_query\".\"csm_c\" AS \"csm_c\", \"custom_sql_query\".\"domain_creferrer\" AS \"domain_creferrer\", CAST(\"custom_sql_query\".\"dt\" AS DATE) AS \"dt\", \"custom_sql_query\".\"email\" AS \"email\", \"custom_sql_query\".\"name\" AS \"name\", \"custom_sql_query\".\"note\" AS \"note\", \"custom_sql_query\".\"num_requests\" AS \"num_requests\", \"custom_sql_query\".\"resource\" AS \"resource\", \"custom_sql_query\".\"service\" AS \"service\", \"custom_sql_query\".\"token\" AS \"token\", \"custom_sql_query\".\"user_id\" AS \"user_id\" FROM ( WITH mapbox_customer_data as ( SELECT id as user_id , email , accountlevel FROM mapbox_customer_data.accounts WHERE cast(dt as DATE) = CURRENT_DATE - INTERVAL '1' DAY ), mbx_acct as ( select mapbox_account_id as user_id , salesforce_account_id as account_id from sfdc.mapbox_accounts where cast(dt as DATE) = CURRENT_DATE - INTERVAL '1' DAY ), sfdc_acct as ( select id as account_id , name as account_name , csm_c from sfdc.accounts where cast(dt as DATE) = CURRENT_DATE - INTERVAL '1' DAY ), tam_name as ( select id as csm_c , name from sfdc.users where cast(dt as DATE) = CURRENT_DATE - INTERVAL '1' DAY ), tam_mapping as ( select a.user_id , a.email , a.accountlevel , b.account_id , c.account_name , c.csm_c , d.name FROM mapbox_customer_data a LEFT JOIN mbx_acct b ON a.user_id = b.user_id LEFT JOIN sfdc_acct c on b.account_id = c.account_id LEFT JOIN tam_name d on c.csm_c = d.csm_c ), raw_data as ( select * from analytics.token_style_referrer_agg where cast(dt as DATE) >= CURRENT_DATE - INTERVAL '14' DAY ) select a.* , b.* from raw_data a left join tam_mapping b on a.account = b.user_id ) \"custom_sql_query\" LIMIT 1000\n",
    "\"\"\""
   ]
  },
  {
   "cell_type": "markdown",
   "metadata": {},
   "source": [
    "## transformation 1: format query"
   ]
  },
  {
   "cell_type": "code",
   "execution_count": 22,
   "metadata": {},
   "outputs": [],
   "source": [
    "formatter = column_parser.Parser(query)"
   ]
  },
  {
   "cell_type": "code",
   "execution_count": 23,
   "metadata": {
    "scrolled": false
   },
   "outputs": [
    {
     "name": "stdout",
     "output_type": "stream",
     "text": [
      "SELECT custom_sql_query.account AS account,\n",
      "       custom_sql_query.account_id AS account_id,\n",
      "       custom_sql_query.account_name AS account_name,\n",
      "       custom_sql_query.accountlevel AS accountlevel,\n",
      "       custom_sql_query.authorization_id AS authorization_id,\n",
      "       custom_sql_query.creferrer AS creferrer,\n",
      "       custom_sql_query.csm_c AS csm_c,\n",
      "       custom_sql_query.domain_creferrer AS domain_creferrer,\n",
      "       CAST(custom_sql_query.dt AS DATE) AS dt,\n",
      "       custom_sql_query.email AS email,\n",
      "       custom_sql_query.name AS name,\n",
      "       custom_sql_query.note AS note,\n",
      "       custom_sql_query.num_requests AS num_requests,\n",
      "       custom_sql_query.resource AS RESOURCE,\n",
      "       custom_sql_query.service AS service,\n",
      "       custom_sql_query.token AS token,\n",
      "       custom_sql_query.user_id AS user_id\n",
      "FROM\n",
      "  (WITH mapbox_customer_data AS\n",
      "     (SELECT id AS user_id,\n",
      "             email,\n",
      "             accountlevel\n",
      "      FROM mapbox_customer_data.accounts\n",
      "      WHERE cast(dt AS DATE) = CURRENT_DATE - INTERVAL '1' DAY ),\n",
      "        mbx_acct AS\n",
      "     (SELECT mapbox_account_id AS user_id,\n",
      "             salesforce_account_id AS account_id\n",
      "      FROM sfdc.mapbox_accounts\n",
      "      WHERE cast(dt AS DATE) = CURRENT_DATE - INTERVAL '1' DAY ),\n",
      "        sfdc_acct AS\n",
      "     (SELECT id AS account_id,\n",
      "             name AS account_name,\n",
      "             csm_c\n",
      "      FROM sfdc.accounts\n",
      "      WHERE cast(dt AS DATE) = CURRENT_DATE - INTERVAL '1' DAY ),\n",
      "        tam_name AS\n",
      "     (SELECT id AS csm_c,\n",
      "             name\n",
      "      FROM sfdc.users\n",
      "      WHERE cast(dt AS DATE) = CURRENT_DATE - INTERVAL '1' DAY ),\n",
      "        tam_mapping AS\n",
      "     (SELECT a.user_id,\n",
      "             a.email,\n",
      "             a.accountlevel,\n",
      "             b.account_id,\n",
      "             c.account_name,\n",
      "             c.csm_c,\n",
      "             d.name\n",
      "      FROM mapbox_customer_data a\n",
      "      LEFT JOIN mbx_acct b ON a.user_id = b.user_id\n",
      "      LEFT JOIN sfdc_acct c ON b.account_id = c.account_id\n",
      "      LEFT JOIN tam_name d ON c.csm_c = d.csm_c),\n",
      "        raw_data AS\n",
      "     (SELECT *\n",
      "      FROM analytics.token_style_referrer_agg\n",
      "      WHERE cast(dt AS DATE) >= CURRENT_DATE - INTERVAL '14' DAY ) SELECT a.*,\n",
      "                                                                          b.*\n",
      "   FROM raw_data a\n",
      "   LEFT JOIN tam_mapping b ON a.account = b.user_id) custom_sql_query\n",
      "LIMIT 1000\n"
     ]
    }
   ],
   "source": [
    "formatted = formatter.format_query(query)\n",
    "print(formatted)"
   ]
  },
  {
   "cell_type": "markdown",
   "metadata": {},
   "source": [
    "## transformation 2: separate CTE's"
   ]
  },
  {
   "cell_type": "code",
   "execution_count": 24,
   "metadata": {},
   "outputs": [
    {
     "data": {
      "text/plain": [
       "{'(WITH mapbox_customer_data': \"  (WITH mapbox_customer_data AS\\n     (SELECT id AS user_id,\\n             email,\\n             accountlevel\\n      FROM mapbox_customer_data.accounts\\n      WHERE cast(dt AS DATE) = CURRENT_DATE - INTERVAL '1' DAY ),\\n\",\n",
       " 'mbx_acct': \"        mbx_acct AS\\n     (SELECT mapbox_account_id AS user_id,\\n             salesforce_account_id AS account_id\\n      FROM sfdc.mapbox_accounts\\n      WHERE cast(dt AS DATE) = CURRENT_DATE - INTERVAL '1' DAY ),\\n\",\n",
       " 'sfdc_acct': \"        sfdc_acct AS\\n     (SELECT id AS account_id,\\n             name AS account_name,\\n             csm_c\\n      FROM sfdc.accounts\\n      WHERE cast(dt AS DATE) = CURRENT_DATE - INTERVAL '1' DAY ),\\n\",\n",
       " 'tam_name': \"        tam_name AS\\n     (SELECT id AS csm_c,\\n             name\\n      FROM sfdc.users\\n      WHERE cast(dt AS DATE) = CURRENT_DATE - INTERVAL '1' DAY ),\\n\",\n",
       " 'tam_mapping': '        tam_mapping AS\\n     (SELECT a.user_id,\\n             a.email,\\n             a.accountlevel,\\n             b.account_id,\\n             c.account_name,\\n             c.csm_c,\\n             d.name\\n      FROM mapbox_customer_data a\\n      LEFT JOIN mbx_acct b ON a.user_id = b.user_id\\n      LEFT JOIN sfdc_acct c ON b.account_id = c.account_id\\n      LEFT JOIN tam_name d ON c.csm_c = d.csm_c),\\n',\n",
       " 'main': 'SELECT a.*,\\n                                                                          b.*\\n   FROM raw_data a\\n   LEFT JOIN tam_mapping b ON a.account = b.user_id) custom_sql_query\\nLIMIT 1000',\n",
       " 'raw_data': \"        raw_data AS\\n     (SELECT *\\n      FROM analytics.token_style_referrer_agg\\n      WHERE cast(dt AS DATE) >= CURRENT_DATE - INTERVAL '14' DAY ) \"}"
      ]
     },
     "execution_count": 24,
     "metadata": {},
     "output_type": "execute_result"
    }
   ],
   "source": [
    "cte_query = formatter.parse_cte(formatted)\n",
    "cte_query"
   ]
  },
  {
   "cell_type": "code",
   "execution_count": 26,
   "metadata": {},
   "outputs": [
    {
     "data": {
      "text/plain": [
       "dict_keys(['(WITH mapbox_customer_data', 'mbx_acct', 'sfdc_acct', 'tam_name', 'tam_mapping', 'main', 'raw_data'])"
      ]
     },
     "execution_count": 26,
     "metadata": {},
     "output_type": "execute_result"
    }
   ],
   "source": [
    "cte_query.keys()"
   ]
  },
  {
   "cell_type": "code",
   "execution_count": 15,
   "metadata": {
    "scrolled": true
   },
   "outputs": [
    {
     "data": {
      "text/plain": [
       "{'main': \"SELECT *\\nFROM\\n  (SELECT *\\n   FROM\\n     (SELECT date_trunc('month', cast(opp_created_date AS DATE)) AS attr_month,\\n             marketing_channel,\\n             TYPE,\\n             sum(CASE\\n                     WHEN category = 'Won' THEN campaign_money_share\\n                     ELSE 0\\n                 END) AS won_money,\\n             sum(CASE\\n                     WHEN category = 'Pipeline' THEN campaign_money_share\\n                     ELSE 0\\n                 END) AS pipeline_money\\n      FROM wbr.marketing_campaign_attribution\\n      WHERE cast(dt AS DATE) = CURRENT_DATE - INTERVAL '1' DAY\\n        AND marketing_attribution_type = 'Generated'\\n        AND campaign_type = 'Web (WEB)'\\n      GROUP BY 1,\\n               2,\\n               3) custom_sql_query\\n   LIMIT 0) T\\nLIMIT 0\"}"
      ]
     },
     "execution_count": 15,
     "metadata": {},
     "output_type": "execute_result"
    }
   ],
   "source": [
    "formatted = formatter.format_query(cte_query['main'])\n",
    "cte_query = formatter.parse_cte(formatted)\n",
    "cte_query"
   ]
  },
  {
   "cell_type": "code",
   "execution_count": 19,
   "metadata": {},
   "outputs": [
    {
     "data": {
      "text/plain": [
       "{'main': \"SELECT *\\nFROM\\n  (SELECT *\\n   FROM\\n     (SELECT date_trunc('month', cast(opp_created_date AS DATE)) AS attr_month,\\n             marketing_channel,\\n             TYPE,\\n             sum(CASE\\n                     WHEN category = 'Won' THEN campaign_money_share\\n                     ELSE 0\\n                 END) AS won_money,\\n             sum(CASE\\n                     WHEN category = 'Pipeline' THEN campaign_money_share\\n                     ELSE 0\\n                 END) AS pipeline_money\\n      FROM wbr.marketing_campaign_attribution\\n      WHERE cast(dt AS DATE) = CURRENT_DATE - INTERVAL '1' DAY\\n        AND marketing_attribution_type = 'Generated'\\n        AND campaign_type = 'Web (WEB)'\\n      GROUP BY 1,\\n               2,\\n               3) custom_sql_query\\n   LIMIT 0) T\\nLIMIT 0\"}"
      ]
     },
     "execution_count": 19,
     "metadata": {},
     "output_type": "execute_result"
    }
   ],
   "source": [
    "formatted = formatter.format_query(cte_query['main'])\n",
    "cte_query = formatter.parse_cte(formatted)\n",
    "cte_query"
   ]
  },
  {
   "cell_type": "markdown",
   "metadata": {},
   "source": [
    "## transformation 3: match table aliases"
   ]
  },
  {
   "cell_type": "code",
   "execution_count": 11,
   "metadata": {},
   "outputs": [
    {
     "data": {
      "text/plain": [
       "{'wbr.marketing_campaign_attribution': 'wbr.marketing_campaign_attribution'}"
      ]
     },
     "execution_count": 11,
     "metadata": {},
     "output_type": "execute_result"
    }
   ],
   "source": [
    "table_alias_mapping = formatter.get_table_names(formatted.split('\\n'))\n",
    "table_alias_mapping"
   ]
  },
  {
   "cell_type": "markdown",
   "metadata": {},
   "source": [
    "## transformation 4: find columns"
   ]
  },
  {
   "cell_type": "code",
   "execution_count": 8,
   "metadata": {},
   "outputs": [
    {
     "data": {
      "text/plain": [
       "[{'database_name': 'sfdc', 'table_name': 'accounts', 'column_name': 'name'},\n",
       " {'database_name': 'sfdc', 'table_name': 'accounts', 'column_name': 'dt'},\n",
       " {'database_name': 'sfdc', 'table_name': 'accounts', 'column_name': 'id'}]"
      ]
     },
     "execution_count": 8,
     "metadata": {},
     "output_type": "execute_result"
    }
   ],
   "source": [
    "formatter.match_queried_fields(query, db_fields)"
   ]
  },
  {
   "cell_type": "markdown",
   "metadata": {},
   "source": [
    "## bonus transformation: upload other query metadata (such as timestamp, user)"
   ]
  },
  {
   "cell_type": "code",
   "execution_count": null,
   "metadata": {},
   "outputs": [],
   "source": []
  }
 ],
 "metadata": {
  "kernelspec": {
   "display_name": "Python 3",
   "language": "python",
   "name": "python3"
  },
  "language_info": {
   "codemirror_mode": {
    "name": "ipython",
    "version": 3
   },
   "file_extension": ".py",
   "mimetype": "text/x-python",
   "name": "python",
   "nbconvert_exporter": "python",
   "pygments_lexer": "ipython3",
   "version": "3.7.4"
  }
 },
 "nbformat": 4,
 "nbformat_minor": 2
}
