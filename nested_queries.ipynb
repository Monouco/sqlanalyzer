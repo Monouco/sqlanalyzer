{
 "cells": [
  {
   "cell_type": "code",
   "execution_count": 1,
   "metadata": {},
   "outputs": [],
   "source": [
    "from sqlanalyzer import column_parser\n",
    "import pandas as pd\n",
    "import sqlparse\n",
    "import re"
   ]
  },
  {
   "cell_type": "code",
   "execution_count": 2,
   "metadata": {},
   "outputs": [],
   "source": [
    "query_1 = \"\"\"SELECT * FROM sfdc.accounts sfdc_accounts\n",
    "LEFT JOIN (SELECT MAX(dt) FROM sfdc.cases) AS sfdc_cases ON sfdc_cases.dt = sfdc_accounts.dt\n",
    "WHERE dt > '2020-04-03' \n",
    "\"\"\"\n"
   ]
  },
  {
   "cell_type": "code",
   "execution_count": null,
   "metadata": {},
   "outputs": [],
   "source": [
    "query_2 = \"\"\"SELECT *\n",
    "FROM (\n",
    "  SELECT u.name, b.customer_tier_c, b.name, m.account, b.x18_digit_account_id_c, s.id, m.platform, m.mobile_os, m.num_requests, Row_number() OVER(\n",
    "    PARTITION BY s.id\n",
    "  ) row_\n",
    "  FROM wbr.map_requests_by_account m\n",
    "  INNER JOIN (\n",
    "    SELECT DISTINCT id\n",
    "    FROM mapbox_customer_data.styles \n",
    "    WHERE cast(dt as DATE) >= CURRENT_DATE - INTERVAL '14' DAY\n",
    "      AND sources LIKE '%mapbox-streets-v7%'\n",
    "  ) s\n",
    "  ON m.service_metadata_version = s.id\n",
    "  LEFT JOIN (\n",
    "    SELECT customer_tier_c, csm_c, name, mapbox_username_c, x18_digit_account_id_c\n",
    "    FROM sfdc.accounts\n",
    "    WHERE cast(dt as DATE) = CURRENT_DATE - INTERVAL '1' DAY\n",
    "  ) b\n",
    "  ON m.account = b.mapbox_username_c\n",
    "  LEFT JOIN (\n",
    "    SELECT name, id\n",
    "    FROM sfdc.users\n",
    "    WHERE cast(dt as DATE) = CURRENT_DATE - INTERVAL '1' DAY\n",
    "  ) u\n",
    "  ON b.csm_c = u.id\n",
    "  WHERE cast(m.dt as DATE) >= CURRENT_DATE - INTERVAL '14' DAY\n",
    "    AND m.service_metadata = 'custom'\n",
    "    AND m.service = 'styles'\n",
    "    AND b.customer_tier_c IN (\n",
    "      'Tier 0',\n",
    "      'Tier 1',\n",
    "      'Tier 2',\n",
    "      'Tier 3',\n",
    "      'Tier 4'\n",
    "    )\n",
    ")\n",
    "WHERE row_ = 1\n",
    "AND m.service_metadata = 'custom'\n",
    "ORDER BY 1, 4\n",
    "LIMIT 5000\n",
    "\"\"\""
   ]
  },
  {
   "cell_type": "code",
   "execution_count": 3,
   "metadata": {},
   "outputs": [],
   "source": [
    "query_3 = \"\"\"SELECT * FROM (SELECT *\\nFROM (\\n  with reg_users as (\\n  \\n  \\tselect * \\n  \\tfrom (\\n  \\tselect \\n  \\t        a.*\\n  \\t        , b.*\\n  \\t        , c.*\\n  \\t        , d.*\\n  \\tfrom \\n  \\t(\\n  \\tselect \\n  \\t        distinct \\n  \\t        anonymous_id\\n  \\t        , user_id\\n  \\tfrom mapbox_customer_data.segment_identifies\\n  \\twhere dt >= \\'2018-07-01\\'\\n  \\tand anonymous_id is not null\\n  \\tand user_id is not null\\n  \\t) a\\n  \\n  \\tleft join \\n  \\n  \\t(\\n  \\tselect \\n  \\t        id \\n  \\t        , email\\n  \\t        , created\\n  \\tfrom mapbox_customer_data.accounts\\n  \\twhere cast(dt as DATE) = CURRENT_DATE - INTERVAL \\'1\\' DAY \\n  \\t) b\\n  \\t        on a.user_id = b.id\\n  \\n  \\tleft join \\n  \\n  \\t(\\n  \\t    \\n  \\t        select        \\n  \\t                anonymous_id as anon_id_ad\\n  \\t                , context_campaign_name\\n  \\t                , min(timestamp) as min_exposure\\n  \\t        from mapbox_customer_data.segment_pages\\n  \\t        where dt >= \\'2018-07-01\\'\\n  \\t        and context_campaign_name is not null\\n  \\t        group by 1,2\\n  \\n  \\t) c \\n  \\t        on a.anonymous_id = c.anon_id_ad\\n  \\t        \\n  \\tleft join \\n  \\n  \\t(\\n  \\t        select \\n  \\t                distinct\\n  \\t                anonymous_id as anon_id_event\\n  \\t                , original_timestamp\\n  \\t                , event\\n  \\t                , context_traits_email\\n  \\t        from mapbox_customer_data.segment_tracks\\n  \\t        where dt >= \\'2018-07-01\\'\\n  \\t        and event like \\'submitted_%form\\'\\n  \\t        and context_traits_email is not null\\n  \\t) d\\n  \\t        on a.anonymous_id = d.anon_id_event\\n  \\n  \\t) \\n  \\twhere context_campaign_name is not null\\n  \\n  ), \\n  \\n  non_reg_users as (\\n  \\n  \\tselect \\n  \\t        context_campaign_name\\n  \\t        , min_exposure\\n  \\t        , event\\n  \\t        , original_timestamp as event_timestamp\\n  \\t        , context_traits_email as event_email\\n  \\tfrom (\\n  \\tselect a.*\\n  \\t        , b.*\\n  \\tfrom \\n  \\t(\\n  \\t        select \\n  \\t                anonymous_id as anon_id_ad\\n  \\t                , context_campaign_name\\n  \\t                , min(original_timestamp) as min_exposure\\n  \\t        from (       \\n  \\t        select        \\n  \\t                context_campaign_name\\n  \\t                , anonymous_id\\n  \\t                , original_timestamp \\n  \\t        from mapbox_customer_data.segment_pages\\n  \\t        where dt >= \\'2018-07-01\\'\\n  \\t        and context_campaign_name is not null\\n  \\t        )\\n  \\t        group by 1,2\\n  \\t) a\\n  \\n  \\tleft join \\n  \\t(\\n  \\t        select \\n  \\t                distinct\\n  \\t                anonymous_id as anon_id_event\\n  \\t                , original_timestamp\\n  \\t                , event\\n  \\t                , context_traits_email\\n  \\t        from mapbox_customer_data.segment_tracks\\n  \\t        where dt >= \\'2018-07-01\\'\\n  \\t        and event like \\'submitted_%form\\'\\n  \\t        and context_traits_email is not null\\n  \\t) b\\n  \\t        on a.anon_id_ad = b.anon_id_event\\n  \\n  \\t)\\n  \\twhere anon_id_event is not null\\n  \\tand to_unixtime(min_exposure) <= to_unixtime(original_timestamp)\\n  \\tand cast(min_exposure as DATE) >= cast(original_timestamp as DATE) - INTERVAL \\'28\\' DAY\\n  \\n  \\n  ), \\n  \\n  mql_flag as (\\n  \\n  \\tselect \\n  \\t        email\\n  \\t        , created_date\\n  \\t        , last_mql_date_c\\n  \\t        , mql_flag\\n  \\tfrom (\\n  \\n  \\tselect \\n  \\t        email\\n  \\t        , min(created_date) created_date\\n  \\t        , max(last_mql_date_c) last_mql_date_c\\n  \\t        , case when max(last_mql_date_c) is not null then 1 else 0 end as mql_flag\\n  \\t        , sum(case when is_deleted = true then 1 else 0 end) as is_deleted\\n  \\tfrom sales.salesforce_leads\\n  \\twhere cast(dt as DATE) = CURRENT_DATE - INTERVAL \\'1\\' DAY \\n  \\tgroup by 1\\n  \\t)\\n  \\twhere mql_flag = 1\\n  \\tand is_deleted = 0\\n  \\n  ),\\n  \\n  cleaned_list as (\\n  \\n  \\n  \\tselect \\n  \\t\\tdistinct \\n  \\t\\t\\t*\\n  \\tfrom (\\n  \\t\\tselect \\n  \\t\\t        context_campaign_name\\n  \\t\\t        , min_exposure\\n  \\t\\t        , \\'created_an_account\\' as event\\n  \\t\\t        , created as event_timestamp\\n  \\t\\t        , email as event_email\\n  \\t\\tfrom reg_users        \\n  \\t\\twhere to_unixtime(min_exposure) <= to_unixtime(created)\\n  \\t\\tand cast(min_exposure as DATE) >= cast(created as DATE) - INTERVAL \\'28\\' DAY\\n  \\n  \\n  \\t\\tunion all\\n  \\n  \\n  \\t\\tselect \\n  \\t\\t        context_campaign_name\\n  \\t\\t        , min_exposure\\n  \\t\\t        , event\\n  \\t\\t        , original_timestamp as event_timestamp\\n  \\t\\t        , context_traits_email as event_email\\n  \\t\\tfrom reg_users      \\n  \\t\\twhere to_unixtime(min_exposure) <= to_unixtime(original_timestamp)\\n  \\t\\tand cast(min_exposure as DATE) >= cast(original_timestamp as DATE) - INTERVAL \\'28\\' DAY\\n  \\n  \\t\\tunion all\\n  \\n  \\t\\tselect * \\n  \\t\\tfrom non_reg_users\\n  \\t)\\n  \\n  )\\n  \\n  \\n  \\n  select \\n  \\ta.*\\n  \\t, b.*\\n  from cleaned_list a\\n  left join mql_flag b \\n  \\ton a.event_email = b.email\\n) \"custom_sql_query\"\\nLIMIT 0) T LIMIT 0\n",
    "\"\"\"\n"
   ]
  },
  {
   "cell_type": "code",
   "execution_count": 2,
   "metadata": {},
   "outputs": [],
   "source": [
    "query_3 = \"\"\"WITH opportunity_to_name AS (\n",
    "                SELECT  -- make sure there is only one name per id\n",
    "                id AS account_id, name AS account_name FROM sfdc.accounts sfdc_accounts\n",
    "                WHERE dt = '{run_date}' GROUP BY id, name) SELECT * FROM opportunity_to_name\n",
    "                \"\"\""
   ]
  },
  {
   "cell_type": "code",
   "execution_count": 3,
   "metadata": {
    "scrolled": true
   },
   "outputs": [
    {
     "data": {
      "text/plain": [
       "['WITH opportunity_to_name AS',\n",
       " '  (SELECT id AS account_id,',\n",
       " '          name AS account_name',\n",
       " '   FROM sfdc.accounts sfdc_accounts',\n",
       " \"   WHERE dt = '{run_date}'\",\n",
       " '   GROUP BY id,',\n",
       " '            name)',\n",
       " 'SELECT *',\n",
       " 'FROM opportunity_to_name']"
      ]
     },
     "execution_count": 3,
     "metadata": {},
     "output_type": "execute_result"
    }
   ],
   "source": [
    "formatter = column_parser.Parser(query_3)\n",
    "formatted = formatter.format_query(query_3)\n",
    "query_list = formatted.split('\\n')\n",
    "query_list"
   ]
  },
  {
   "cell_type": "code",
   "execution_count": 4,
   "metadata": {},
   "outputs": [],
   "source": [
    "def delevel_query(query_list):\n",
    "    line_level = []\n",
    "    sub_query = []\n",
    "    pos_delete, pos_where = len(query_list), len(query_list)\n",
    "    \n",
    "    for i, line in enumerate(query_list):\n",
    "        if line.startswith('ORDER') or line.startswith('GROUP'):\n",
    "            pos_delete = i\n",
    "        if line.startswith('WHERE'):\n",
    "            pos_where = i \n",
    "        if line.startswith('FROM'):\n",
    "            pos_from = i-1\n",
    "        if line.startswith('LEFT JOIN') or line.startswith('INNER JOIN') or line.startswith('FULL OUTER JOIN'):\n",
    "            pos_join = i\n",
    "  \n",
    "    for line in query_list[:pos_from+2]:\n",
    "        line_level.append((line, \"level_1\"))\n",
    "        \n",
    "    for line in query_list[pos_from+1:pos_where]:\n",
    "        if line.startswith(' ') or line.startswith('FROM'):\n",
    "            sub_query.append(line[3:])\n",
    "        else:\n",
    "            line_level.append((line, \"level_1\"))\n",
    "\n",
    "    for line in query_list[pos_where:pos_delete]:    \n",
    "        line_level.append((line, \"level_1\"))\n",
    "\n",
    "    return line_level, sub_query[1:]"
   ]
  },
  {
   "cell_type": "code",
   "execution_count": 5,
   "metadata": {},
   "outputs": [],
   "source": [
    "def parse_sub_query(sub_query_list):\n",
    "    sub_query = \"\\n\".join(sub_query_list)\n",
    "    sub_query = sub_query.lstrip('\\n').lstrip(' ')\n",
    "    \n",
    "    formatter = column_parser.Parser(sub_query)\n",
    "    formatted = formatter.format_query(sub_query)\n",
    "    sub_query_list = formatted.split('\\n')\n",
    "\n",
    "    query = \"\\n\".join(sub_query_list).lstrip('\\n').lstrip(' ').lstrip('\\(')\n",
    "    query_list = query.split('\\n')\n",
    "    \n",
    "    return query_list"
   ]
  },
  {
   "cell_type": "code",
   "execution_count": 6,
   "metadata": {},
   "outputs": [],
   "source": [
    "def has_child(sub_query_list):\n",
    "    query_list = parse_sub_query(sub_query_list)\n",
    "    query_list = delevel_query(query_list)[1]\n",
    "    return query_list, query_list != []"
   ]
  },
  {
   "cell_type": "code",
   "execution_count": 7,
   "metadata": {
    "scrolled": true
   },
   "outputs": [],
   "source": [
    "# delevel_query(query_list)[0]"
   ]
  },
  {
   "cell_type": "code",
   "execution_count": 8,
   "metadata": {
    "scrolled": true
   },
   "outputs": [],
   "source": [
    "formatter = column_parser.Parser(query_3)\n",
    "formatted = formatter.format_query(query_3)\n",
    "query_list = formatted.split('\\n')\n",
    "query_list, has_subquery = has_child(query_list)"
   ]
  },
  {
   "cell_type": "code",
   "execution_count": 9,
   "metadata": {},
   "outputs": [
    {
     "data": {
      "text/plain": [
       "[]"
      ]
     },
     "execution_count": 9,
     "metadata": {},
     "output_type": "execute_result"
    }
   ],
   "source": [
    "query_list"
   ]
  },
  {
   "cell_type": "code",
   "execution_count": 10,
   "metadata": {},
   "outputs": [
    {
     "data": {
      "text/plain": [
       "False"
      ]
     },
     "execution_count": 10,
     "metadata": {},
     "output_type": "execute_result"
    }
   ],
   "source": [
    "has_subquery"
   ]
  },
  {
   "cell_type": "code",
   "execution_count": 11,
   "metadata": {
    "scrolled": true
   },
   "outputs": [],
   "source": [
    "# sub_query_2_list = query_list\n",
    "# sub_query_2_list"
   ]
  },
  {
   "cell_type": "code",
   "execution_count": 12,
   "metadata": {},
   "outputs": [
    {
     "ename": "UnboundLocalError",
     "evalue": "local variable 'pos_from' referenced before assignment",
     "output_type": "error",
     "traceback": [
      "\u001b[0;31m---------------------------------------------------------------------------\u001b[0m",
      "\u001b[0;31mUnboundLocalError\u001b[0m                         Traceback (most recent call last)",
      "\u001b[0;32m<ipython-input-12-b02d938fcdbc>\u001b[0m in \u001b[0;36m<module>\u001b[0;34m\u001b[0m\n\u001b[0;32m----> 1\u001b[0;31m \u001b[0mquery_list\u001b[0m\u001b[0;34m,\u001b[0m \u001b[0mhas_subquery\u001b[0m \u001b[0;34m=\u001b[0m \u001b[0mhas_child\u001b[0m\u001b[0;34m(\u001b[0m\u001b[0mquery_list\u001b[0m\u001b[0;34m)\u001b[0m\u001b[0;34m\u001b[0m\u001b[0;34m\u001b[0m\u001b[0m\n\u001b[0m",
      "\u001b[0;32m<ipython-input-6-73869af09e94>\u001b[0m in \u001b[0;36mhas_child\u001b[0;34m(sub_query_list)\u001b[0m\n\u001b[1;32m      1\u001b[0m \u001b[0;32mdef\u001b[0m \u001b[0mhas_child\u001b[0m\u001b[0;34m(\u001b[0m\u001b[0msub_query_list\u001b[0m\u001b[0;34m)\u001b[0m\u001b[0;34m:\u001b[0m\u001b[0;34m\u001b[0m\u001b[0;34m\u001b[0m\u001b[0m\n\u001b[1;32m      2\u001b[0m     \u001b[0mquery_list\u001b[0m \u001b[0;34m=\u001b[0m \u001b[0mparse_sub_query\u001b[0m\u001b[0;34m(\u001b[0m\u001b[0msub_query_list\u001b[0m\u001b[0;34m)\u001b[0m\u001b[0;34m\u001b[0m\u001b[0;34m\u001b[0m\u001b[0m\n\u001b[0;32m----> 3\u001b[0;31m     \u001b[0mquery_list\u001b[0m \u001b[0;34m=\u001b[0m \u001b[0mdelevel_query\u001b[0m\u001b[0;34m(\u001b[0m\u001b[0mquery_list\u001b[0m\u001b[0;34m)\u001b[0m\u001b[0;34m[\u001b[0m\u001b[0;36m1\u001b[0m\u001b[0;34m]\u001b[0m\u001b[0;34m\u001b[0m\u001b[0;34m\u001b[0m\u001b[0m\n\u001b[0m\u001b[1;32m      4\u001b[0m     \u001b[0;32mreturn\u001b[0m \u001b[0mquery_list\u001b[0m\u001b[0;34m,\u001b[0m \u001b[0mquery_list\u001b[0m \u001b[0;34m!=\u001b[0m \u001b[0;34m[\u001b[0m\u001b[0;34m]\u001b[0m\u001b[0;34m\u001b[0m\u001b[0;34m\u001b[0m\u001b[0m\n",
      "\u001b[0;32m<ipython-input-4-f331119e763b>\u001b[0m in \u001b[0;36mdelevel_query\u001b[0;34m(query_list)\u001b[0m\n\u001b[1;32m     14\u001b[0m             \u001b[0mpos_join\u001b[0m \u001b[0;34m=\u001b[0m \u001b[0mi\u001b[0m\u001b[0;34m\u001b[0m\u001b[0;34m\u001b[0m\u001b[0m\n\u001b[1;32m     15\u001b[0m \u001b[0;34m\u001b[0m\u001b[0m\n\u001b[0;32m---> 16\u001b[0;31m     \u001b[0;32mfor\u001b[0m \u001b[0mline\u001b[0m \u001b[0;32min\u001b[0m \u001b[0mquery_list\u001b[0m\u001b[0;34m[\u001b[0m\u001b[0;34m:\u001b[0m\u001b[0mpos_from\u001b[0m\u001b[0;34m+\u001b[0m\u001b[0;36m2\u001b[0m\u001b[0;34m]\u001b[0m\u001b[0;34m:\u001b[0m\u001b[0;34m\u001b[0m\u001b[0;34m\u001b[0m\u001b[0m\n\u001b[0m\u001b[1;32m     17\u001b[0m         \u001b[0mline_level\u001b[0m\u001b[0;34m.\u001b[0m\u001b[0mappend\u001b[0m\u001b[0;34m(\u001b[0m\u001b[0;34m(\u001b[0m\u001b[0mline\u001b[0m\u001b[0;34m,\u001b[0m \u001b[0;34m\"level_1\"\u001b[0m\u001b[0;34m)\u001b[0m\u001b[0;34m)\u001b[0m\u001b[0;34m\u001b[0m\u001b[0;34m\u001b[0m\u001b[0m\n\u001b[1;32m     18\u001b[0m \u001b[0;34m\u001b[0m\u001b[0m\n",
      "\u001b[0;31mUnboundLocalError\u001b[0m: local variable 'pos_from' referenced before assignment"
     ]
    }
   ],
   "source": [
    "query_list, has_subquery = has_child(query_list)"
   ]
  },
  {
   "cell_type": "code",
   "execution_count": 14,
   "metadata": {
    "scrolled": true
   },
   "outputs": [
    {
     "data": {
      "text/plain": [
       "['WITH reg_users AS',\n",
       " '  (SELECT *',\n",
       " '   FROM',\n",
       " '     (SELECT a.*,',\n",
       " '             b.*,',\n",
       " '             c.*,',\n",
       " '             d.*',\n",
       " '      FROM',\n",
       " '        (SELECT DISTINCT anonymous_id,',\n",
       " '                         user_id',\n",
       " '         FROM mapbox_customer_data.segment_identifies',\n",
       " \"         WHERE dt >= '2018-07-01'\",\n",
       " '           AND anonymous_id IS NOT NULL',\n",
       " '           AND user_id IS NOT NULL ) a',\n",
       " '      LEFT JOIN',\n",
       " '        (SELECT id,',\n",
       " '                email,',\n",
       " '                created',\n",
       " '         FROM mapbox_customer_data.accounts',\n",
       " \"         WHERE cast(dt AS DATE) = CURRENT_DATE - INTERVAL '1' DAY ) b ON a.user_id = b.id\",\n",
       " '      LEFT JOIN',\n",
       " '        (SELECT anonymous_id AS anon_id_ad,',\n",
       " '                context_campaign_name,',\n",
       " '                min(TIMESTAMP) AS min_exposure',\n",
       " '         FROM mapbox_customer_data.segment_pages',\n",
       " \"         WHERE dt >= '2018-07-01'\",\n",
       " '           AND context_campaign_name IS NOT NULL',\n",
       " '         GROUP BY 1,',\n",
       " '                  2) c ON a.anonymous_id = c.anon_id_ad',\n",
       " '      LEFT JOIN',\n",
       " '        (SELECT DISTINCT anonymous_id AS anon_id_event,',\n",
       " '                         original_timestamp,',\n",
       " '                         event,',\n",
       " '                         context_traits_email',\n",
       " '         FROM mapbox_customer_data.segment_tracks',\n",
       " \"         WHERE dt >= '2018-07-01'\",\n",
       " \"           AND event LIKE 'submitted_%form'\",\n",
       " '           AND context_traits_email IS NOT NULL ) d ON a.anonymous_id = d.anon_id_event)',\n",
       " '   WHERE context_campaign_name IS NOT NULL ),',\n",
       " '     non_reg_users AS',\n",
       " '  (SELECT context_campaign_name,',\n",
       " '          min_exposure,',\n",
       " '          event,',\n",
       " '          original_timestamp AS event_timestamp,',\n",
       " '          context_traits_email AS event_email',\n",
       " '   FROM',\n",
       " '     (SELECT a.*,',\n",
       " '             b.*',\n",
       " '      FROM',\n",
       " '        (SELECT anonymous_id AS anon_id_ad,',\n",
       " '                context_campaign_name,',\n",
       " '                min(original_timestamp) AS min_exposure',\n",
       " '         FROM',\n",
       " '           (SELECT context_campaign_name,',\n",
       " '                   anonymous_id,',\n",
       " '                   original_timestamp',\n",
       " '            FROM mapbox_customer_data.segment_pages',\n",
       " \"            WHERE dt >= '2018-07-01'\",\n",
       " '              AND context_campaign_name IS NOT NULL )',\n",
       " '         GROUP BY 1,',\n",
       " '                  2) a',\n",
       " '      LEFT JOIN',\n",
       " '        (SELECT DISTINCT anonymous_id AS anon_id_event,',\n",
       " '                         original_timestamp,',\n",
       " '                         event,',\n",
       " '                         context_traits_email',\n",
       " '         FROM mapbox_customer_data.segment_tracks',\n",
       " \"         WHERE dt >= '2018-07-01'\",\n",
       " \"           AND event LIKE 'submitted_%form'\",\n",
       " '           AND context_traits_email IS NOT NULL ) b ON a.anon_id_ad = b.anon_id_event)',\n",
       " '   WHERE anon_id_event IS NOT NULL',\n",
       " '     AND to_unixtime(min_exposure) <= to_unixtime(original_timestamp)',\n",
       " \"     AND cast(min_exposure AS DATE) >= cast(original_timestamp AS DATE) - INTERVAL '28' DAY ),\",\n",
       " '     mql_flag AS',\n",
       " '  (SELECT email,',\n",
       " '          created_date,',\n",
       " '          last_mql_date_c,',\n",
       " '          mql_flag',\n",
       " '   FROM',\n",
       " '     (SELECT email,',\n",
       " '             min(created_date) created_date,',\n",
       " '             max(last_mql_date_c) last_mql_date_c,',\n",
       " '             CASE',\n",
       " '                 WHEN max(last_mql_date_c) IS NOT NULL THEN 1',\n",
       " '                 ELSE 0',\n",
       " '             END AS mql_flag,',\n",
       " '             sum(CASE',\n",
       " '                     WHEN is_deleted = TRUE THEN 1',\n",
       " '                     ELSE 0',\n",
       " '                 END) AS is_deleted',\n",
       " '      FROM sales.salesforce_leads',\n",
       " \"      WHERE cast(dt AS DATE) = CURRENT_DATE - INTERVAL '1' DAY\",\n",
       " '      GROUP BY 1)',\n",
       " '   WHERE mql_flag = 1',\n",
       " '     AND is_deleted = 0 ),',\n",
       " '     cleaned_list AS',\n",
       " '  (SELECT DISTINCT *',\n",
       " '   FROM',\n",
       " '     (SELECT context_campaign_name,',\n",
       " '             min_exposure,',\n",
       " \"             'created_an_account' AS event,\",\n",
       " '             created AS event_timestamp,',\n",
       " '             email AS event_email',\n",
       " '      FROM reg_users',\n",
       " '      WHERE to_unixtime(min_exposure) <= to_unixtime(created)',\n",
       " \"        AND cast(min_exposure AS DATE) >= cast(created AS DATE) - INTERVAL '28' DAY\",\n",
       " '      UNION ALL SELECT context_campaign_name,',\n",
       " '                       min_exposure,',\n",
       " '                       event,',\n",
       " '                       original_timestamp AS event_timestamp,',\n",
       " '                       context_traits_email AS event_email',\n",
       " '      FROM reg_users',\n",
       " '      WHERE to_unixtime(min_exposure) <= to_unixtime(original_timestamp)',\n",
       " \"        AND cast(min_exposure AS DATE) >= cast(original_timestamp AS DATE) - INTERVAL '28' DAY\",\n",
       " '      UNION ALL SELECT *',\n",
       " '      FROM non_reg_users)) SELECT a.*,',\n",
       " '                                  b.*',\n",
       " 'FROM cleaned_list a',\n",
       " 'LEFT JOIN mql_flag b ON a.event_email = b.email) custom_sql_query']"
      ]
     },
     "execution_count": 14,
     "metadata": {},
     "output_type": "execute_result"
    }
   ],
   "source": [
    "query_list"
   ]
  },
  {
   "cell_type": "code",
   "execution_count": 15,
   "metadata": {},
   "outputs": [
    {
     "data": {
      "text/plain": [
       "True"
      ]
     },
     "execution_count": 15,
     "metadata": {},
     "output_type": "execute_result"
    }
   ],
   "source": [
    "has_subquery"
   ]
  },
  {
   "cell_type": "code",
   "execution_count": 19,
   "metadata": {},
   "outputs": [],
   "source": [
    "# query = '\\n'.join(query_list).lstrip('\\n')\n",
    "formatter = column_parser.Parser(query_3)\n",
    "formatted = formatter.format_query(query_3)\n",
    "cte_dict = formatter.parse_cte(formatted)"
   ]
  },
  {
   "cell_type": "code",
   "execution_count": 20,
   "metadata": {
    "scrolled": true
   },
   "outputs": [
    {
     "data": {
      "text/plain": [
       "dict_keys(['opportunity_to_name', 'main'])"
      ]
     },
     "execution_count": 20,
     "metadata": {},
     "output_type": "execute_result"
    }
   ],
   "source": [
    "cte_dict.keys()"
   ]
  },
  {
   "cell_type": "code",
   "execution_count": 22,
   "metadata": {},
   "outputs": [
    {
     "name": "stdout",
     "output_type": "stream",
     "text": [
      "{'opportunity_to_name': \"SELECT id AS account_id,\\n          name AS account_name\\n   FROM sfdc.accounts sfdc_accounts\\n   WHERE dt = '{run_date}'\\n   GROUP BY id,\\n            name)\\n\", 'main': 'SELECT *\\nFROM opportunity_to_name'}\n"
     ]
    }
   ],
   "source": [
    "print(cte_dict"
   ]
  },
  {
   "cell_type": "code",
   "execution_count": 18,
   "metadata": {},
   "outputs": [
    {
     "name": "stdout",
     "output_type": "stream",
     "text": [
      "SELECT context_campaign_name,\n",
      "          min_exposure,\n",
      "          event,\n",
      "          original_timestamp AS event_timestamp,\n",
      "          context_traits_email AS event_email\n",
      "   FROM\n",
      "     (SELECT a.*,\n",
      "             b.*\n",
      "      FROM\n",
      "        (SELECT anonymous_id AS anon_id_ad,\n",
      "                context_campaign_name,\n",
      "                min(original_timestamp) AS min_exposure\n",
      "         FROM\n",
      "           (SELECT context_campaign_name,\n",
      "                   anonymous_id,\n",
      "                   original_timestamp\n",
      "            FROM mapbox_customer_data.segment_pages\n",
      "            WHERE dt >= '2018-07-01'\n",
      "              AND context_campaign_name IS NOT NULL )\n",
      "         GROUP BY 1,\n",
      "                  2) a\n",
      "      LEFT JOIN\n",
      "        (SELECT DISTINCT anonymous_id AS anon_id_event,\n",
      "                         original_timestamp,\n",
      "                         event,\n",
      "                         context_traits_email\n",
      "         FROM mapbox_customer_data.segment_tracks\n",
      "         WHERE dt >= '2018-07-01'\n",
      "           AND event LIKE 'submitted_%form'\n",
      "           AND context_traits_email IS NOT NULL ) b ON a.anon_id_ad = b.anon_id_event)\n",
      "   WHERE anon_id_event IS NOT NULL\n",
      "     AND to_unixtime(min_exposure) <= to_unixtime(original_timestamp)\n",
      "     AND cast(min_exposure AS DATE) >= cast(original_timestamp AS DATE) - INTERVAL '28' DAY ),\n",
      "\n"
     ]
    }
   ],
   "source": [
    "print(cte_dict['non_reg_users'])"
   ]
  },
  {
   "cell_type": "code",
   "execution_count": 20,
   "metadata": {
    "scrolled": false
   },
   "outputs": [
    {
     "name": "stdout",
     "output_type": "stream",
     "text": [
      "SELECT *\n",
      "   FROM\n",
      "     (SELECT a.*,\n",
      "             b.*,\n",
      "             c.*,\n",
      "             d.*\n",
      "      FROM\n",
      "        (SELECT DISTINCT anonymous_id,\n",
      "                         user_id\n",
      "         FROM mapbox_customer_data.segment_identifies\n",
      "         WHERE dt >= '2018-07-01'\n",
      "           AND anonymous_id IS NOT NULL\n",
      "           AND user_id IS NOT NULL ) a\n",
      "      LEFT JOIN\n",
      "        (SELECT id,\n",
      "                email,\n",
      "                created\n",
      "         FROM mapbox_customer_data.accounts\n",
      "         WHERE cast(dt AS DATE) = CURRENT_DATE - INTERVAL '1' DAY ) b ON a.user_id = b.id\n",
      "      LEFT JOIN\n",
      "        (SELECT anonymous_id AS anon_id_ad,\n",
      "                context_campaign_name,\n",
      "                min(TIMESTAMP) AS min_exposure\n",
      "         FROM mapbox_customer_data.segment_pages\n",
      "         WHERE dt >= '2018-07-01'\n",
      "           AND context_campaign_name IS NOT NULL\n",
      "         GROUP BY 1,\n",
      "                  2) c ON a.anonymous_id = c.anon_id_ad\n",
      "      LEFT JOIN\n",
      "        (SELECT DISTINCT anonymous_id AS anon_id_event,\n",
      "                         original_timestamp,\n",
      "                         event,\n",
      "                         context_traits_email\n",
      "         FROM mapbox_customer_data.segment_tracks\n",
      "         WHERE dt >= '2018-07-01'\n",
      "           AND event LIKE 'submitted_%form'\n",
      "           AND context_traits_email IS NOT NULL ) d ON a.anonymous_id = d.anon_id_event)\n",
      "   WHERE context_campaign_name IS NOT NULL ),\n",
      "\n"
     ]
    }
   ],
   "source": [
    "print(cte_dict['reg_users'])"
   ]
  },
  {
   "cell_type": "code",
   "execution_count": 21,
   "metadata": {},
   "outputs": [
    {
     "name": "stdout",
     "output_type": "stream",
     "text": [
      "SELECT email,\n",
      "          created_date,\n",
      "          last_mql_date_c,\n",
      "          mql_flag\n",
      "   FROM\n",
      "     (SELECT email,\n",
      "             min(created_date) created_date,\n",
      "             max(last_mql_date_c) last_mql_date_c,\n",
      "             CASE\n",
      "                 WHEN max(last_mql_date_c) IS NOT NULL THEN 1\n",
      "                 ELSE 0\n",
      "             END AS mql_flag,\n",
      "             sum(CASE\n",
      "                     WHEN is_deleted = TRUE THEN 1\n",
      "                     ELSE 0\n",
      "                 END) AS is_deleted\n",
      "      FROM sales.salesforce_leads\n",
      "      WHERE cast(dt AS DATE) = CURRENT_DATE - INTERVAL '1' DAY\n",
      "      GROUP BY 1)\n",
      "   WHERE mql_flag = 1\n",
      "     AND is_deleted = 0 ),\n",
      "\n"
     ]
    }
   ],
   "source": [
    "print(cte_dict['mql_flag'])"
   ]
  },
  {
   "cell_type": "code",
   "execution_count": 22,
   "metadata": {
    "scrolled": true
   },
   "outputs": [
    {
     "name": "stdout",
     "output_type": "stream",
     "text": [
      "SELECT DISTINCT *\n",
      "   FROM\n",
      "     (SELECT context_campaign_name,\n",
      "             min_exposure,\n",
      "             'created_an_account' AS event,\n",
      "             created AS event_timestamp,\n",
      "             email AS event_email\n",
      "      FROM reg_users\n",
      "      WHERE to_unixtime(min_exposure) <= to_unixtime(created)\n",
      "        AND cast(min_exposure AS DATE) >= cast(created AS DATE) - INTERVAL '28' DAY\n",
      "      UNION ALL SELECT context_campaign_name,\n",
      "                       min_exposure,\n",
      "                       event,\n",
      "                       original_timestamp AS event_timestamp,\n",
      "                       context_traits_email AS event_email\n",
      "      FROM reg_users\n",
      "      WHERE to_unixtime(min_exposure) <= to_unixtime(original_timestamp)\n",
      "        AND cast(min_exposure AS DATE) >= cast(original_timestamp AS DATE) - INTERVAL '28' DAY\n",
      "      UNION ALL SELECT *\n",
      "      FROM non_reg_users)) \n"
     ]
    }
   ],
   "source": [
    "print(cte_dict['cleaned_list'])"
   ]
  },
  {
   "cell_type": "code",
   "execution_count": 23,
   "metadata": {},
   "outputs": [
    {
     "name": "stdout",
     "output_type": "stream",
     "text": [
      "SELECT a.*,\n",
      "                                  b.*\n",
      "FROM cleaned_list a\n",
      "LEFT JOIN mql_flag b ON a.event_email = b.email) custom_sql_query\n"
     ]
    }
   ],
   "source": [
    "print(cte_dict['main'])"
   ]
  },
  {
   "cell_type": "code",
   "execution_count": null,
   "metadata": {},
   "outputs": [],
   "source": [
    "users_query = cte_dict['reg_users']"
   ]
  },
  {
   "cell_type": "code",
   "execution_count": null,
   "metadata": {},
   "outputs": [],
   "source": [
    "users_query.lstrip('')"
   ]
  },
  {
   "cell_type": "code",
   "execution_count": null,
   "metadata": {},
   "outputs": [],
   "source": [
    "formatter = column_parser.Parser(users_query)\n",
    "formatted = formatter.format_query(users_query)\n",
    "query_list = formatted.split('\\n')\n",
    "query_list, has_subquery = has_child(query_list)"
   ]
  },
  {
   "cell_type": "code",
   "execution_count": null,
   "metadata": {},
   "outputs": [],
   "source": []
  }
 ],
 "metadata": {
  "kernelspec": {
   "display_name": "Python 3",
   "language": "python",
   "name": "python3"
  },
  "language_info": {
   "codemirror_mode": {
    "name": "ipython",
    "version": 3
   },
   "file_extension": ".py",
   "mimetype": "text/x-python",
   "name": "python",
   "nbconvert_exporter": "python",
   "pygments_lexer": "ipython3",
   "version": "3.7.4"
  }
 },
 "nbformat": 4,
 "nbformat_minor": 2
}
