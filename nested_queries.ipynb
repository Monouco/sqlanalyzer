{
 "cells": [
  {
   "cell_type": "code",
   "execution_count": 1,
   "metadata": {},
   "outputs": [],
   "source": [
    "from sqlanalyzer import column_parser\n",
    "import pandas as pd\n",
    "import sqlparse\n",
    "import re"
   ]
  },
  {
   "cell_type": "code",
   "execution_count": 3,
   "metadata": {},
   "outputs": [],
   "source": [
    "query_1 = \"\"\"SELECT * FROM (WITH table AS (SELECT * FROM (SELECT COALESCE((a+b), 0) AS c FROM sfdc.accounts) SELECT * FROM table) AS custom_sql) AS sfdc_accounts \n",
    "LEFT JOIN (SELECT MAX(dt) FROM sfdc.cases) AS sfdc_cases ON sfdc_cases.dt = sfdc_accounts.dt\n",
    "WHERE dt > '2020-04-03' \n",
    "\"\"\"\n"
   ]
  },
  {
   "cell_type": "code",
   "execution_count": 4,
   "metadata": {},
   "outputs": [],
   "source": [
    "query_2 = \"\"\"SELECT *\n",
    "FROM (\n",
    "  SELECT u.name, b.customer_tier_c, b.name, m.account, b.x18_digit_account_id_c, s.id, m.platform, m.mobile_os, m.num_requests, Row_number() OVER(\n",
    "    PARTITION BY s.id\n",
    "  ) row_\n",
    "  FROM wbr.map_requests_by_account m\n",
    "  INNER JOIN (\n",
    "    SELECT DISTINCT id\n",
    "    FROM mapbox_customer_data.styles \n",
    "    WHERE cast(dt as DATE) >= CURRENT_DATE - INTERVAL '14' DAY\n",
    "      AND sources LIKE '%mapbox-streets-v7%'\n",
    "  ) s\n",
    "  ON m.service_metadata_version = s.id\n",
    "  LEFT JOIN (\n",
    "    SELECT customer_tier_c, csm_c, name, mapbox_username_c, x18_digit_account_id_c\n",
    "    FROM sfdc.accounts\n",
    "    WHERE cast(dt as DATE) = CURRENT_DATE - INTERVAL '1' DAY\n",
    "  ) b\n",
    "  ON m.account = b.mapbox_username_c\n",
    "  LEFT JOIN (\n",
    "    SELECT name, id\n",
    "    FROM sfdc.users\n",
    "    WHERE cast(dt as DATE) = CURRENT_DATE - INTERVAL '1' DAY\n",
    "  ) u\n",
    "  ON b.csm_c = u.id\n",
    "  WHERE cast(m.dt as DATE) >= CURRENT_DATE - INTERVAL '14' DAY\n",
    "    AND m.service_metadata = 'custom'\n",
    "    AND m.service = 'styles'\n",
    "    AND b.customer_tier_c IN (\n",
    "      'Tier 0',\n",
    "      'Tier 1',\n",
    "      'Tier 2',\n",
    "      'Tier 3',\n",
    "      'Tier 4'\n",
    "    )\n",
    ")\n",
    "WHERE row_ = 1\n",
    "AND m.service_metadata = 'custom'\n",
    "ORDER BY 1, 4\n",
    "LIMIT 5000\n",
    "\"\"\""
   ]
  },
  {
   "cell_type": "code",
   "execution_count": 2,
   "metadata": {},
   "outputs": [],
   "source": [
    "query_3 = \"\"\"SELECT * FROM (SELECT *\\nFROM (\\n  with reg_users as (\\n  \\n  \\tselect * \\n  \\tfrom (\\n  \\tselect \\n  \\t        a.*\\n  \\t        , b.*\\n  \\t        , c.*\\n  \\t        , d.*\\n  \\tfrom \\n  \\t(\\n  \\tselect \\n  \\t        distinct \\n  \\t        anonymous_id\\n  \\t        , user_id\\n  \\tfrom mapbox_customer_data.segment_identifies\\n  \\twhere dt >= \\'2018-07-01\\'\\n  \\tand anonymous_id is not null\\n  \\tand user_id is not null\\n  \\t) a\\n  \\n  \\tleft join \\n  \\n  \\t(\\n  \\tselect \\n  \\t        id \\n  \\t        , email\\n  \\t        , created\\n  \\tfrom mapbox_customer_data.accounts\\n  \\twhere cast(dt as DATE) = CURRENT_DATE - INTERVAL \\'1\\' DAY \\n  \\t) b\\n  \\t        on a.user_id = b.id\\n  \\n  \\tleft join \\n  \\n  \\t(\\n  \\t    \\n  \\t        select        \\n  \\t                anonymous_id as anon_id_ad\\n  \\t                , context_campaign_name\\n  \\t                , min(timestamp) as min_exposure\\n  \\t        from mapbox_customer_data.segment_pages\\n  \\t        where dt >= \\'2018-07-01\\'\\n  \\t        and context_campaign_name is not null\\n  \\t        group by 1,2\\n  \\n  \\t) c \\n  \\t        on a.anonymous_id = c.anon_id_ad\\n  \\t        \\n  \\tleft join \\n  \\n  \\t(\\n  \\t        select \\n  \\t                distinct\\n  \\t                anonymous_id as anon_id_event\\n  \\t                , original_timestamp\\n  \\t                , event\\n  \\t                , context_traits_email\\n  \\t        from mapbox_customer_data.segment_tracks\\n  \\t        where dt >= \\'2018-07-01\\'\\n  \\t        and event like \\'submitted_%form\\'\\n  \\t        and context_traits_email is not null\\n  \\t) d\\n  \\t        on a.anonymous_id = d.anon_id_event\\n  \\n  \\t) \\n  \\twhere context_campaign_name is not null\\n  \\n  ), \\n  \\n  non_reg_users as (\\n  \\n  \\tselect \\n  \\t        context_campaign_name\\n  \\t        , min_exposure\\n  \\t        , event\\n  \\t        , original_timestamp as event_timestamp\\n  \\t        , context_traits_email as event_email\\n  \\tfrom (\\n  \\tselect a.*\\n  \\t        , b.*\\n  \\tfrom \\n  \\t(\\n  \\t        select \\n  \\t                anonymous_id as anon_id_ad\\n  \\t                , context_campaign_name\\n  \\t                , min(original_timestamp) as min_exposure\\n  \\t        from (       \\n  \\t        select        \\n  \\t                context_campaign_name\\n  \\t                , anonymous_id\\n  \\t                , original_timestamp \\n  \\t        from mapbox_customer_data.segment_pages\\n  \\t        where dt >= \\'2018-07-01\\'\\n  \\t        and context_campaign_name is not null\\n  \\t        )\\n  \\t        group by 1,2\\n  \\t) a\\n  \\n  \\tleft join \\n  \\t(\\n  \\t        select \\n  \\t                distinct\\n  \\t                anonymous_id as anon_id_event\\n  \\t                , original_timestamp\\n  \\t                , event\\n  \\t                , context_traits_email\\n  \\t        from mapbox_customer_data.segment_tracks\\n  \\t        where dt >= \\'2018-07-01\\'\\n  \\t        and event like \\'submitted_%form\\'\\n  \\t        and context_traits_email is not null\\n  \\t) b\\n  \\t        on a.anon_id_ad = b.anon_id_event\\n  \\n  \\t)\\n  \\twhere anon_id_event is not null\\n  \\tand to_unixtime(min_exposure) <= to_unixtime(original_timestamp)\\n  \\tand cast(min_exposure as DATE) >= cast(original_timestamp as DATE) - INTERVAL \\'28\\' DAY\\n  \\n  \\n  ), \\n  \\n  mql_flag as (\\n  \\n  \\tselect \\n  \\t        email\\n  \\t        , created_date\\n  \\t        , last_mql_date_c\\n  \\t        , mql_flag\\n  \\tfrom (\\n  \\n  \\tselect \\n  \\t        email\\n  \\t        , min(created_date) created_date\\n  \\t        , max(last_mql_date_c) last_mql_date_c\\n  \\t        , case when max(last_mql_date_c) is not null then 1 else 0 end as mql_flag\\n  \\t        , sum(case when is_deleted = true then 1 else 0 end) as is_deleted\\n  \\tfrom sales.salesforce_leads\\n  \\twhere cast(dt as DATE) = CURRENT_DATE - INTERVAL \\'1\\' DAY \\n  \\tgroup by 1\\n  \\t)\\n  \\twhere mql_flag = 1\\n  \\tand is_deleted = 0\\n  \\n  ),\\n  \\n  cleaned_list as (\\n  \\n  \\n  \\tselect \\n  \\t\\tdistinct \\n  \\t\\t\\t*\\n  \\tfrom (\\n  \\t\\tselect \\n  \\t\\t        context_campaign_name\\n  \\t\\t        , min_exposure\\n  \\t\\t        , \\'created_an_account\\' as event\\n  \\t\\t        , created as event_timestamp\\n  \\t\\t        , email as event_email\\n  \\t\\tfrom reg_users        \\n  \\t\\twhere to_unixtime(min_exposure) <= to_unixtime(created)\\n  \\t\\tand cast(min_exposure as DATE) >= cast(created as DATE) - INTERVAL \\'28\\' DAY\\n  \\n  \\n  \\t\\tunion all\\n  \\n  \\n  \\t\\tselect \\n  \\t\\t        context_campaign_name\\n  \\t\\t        , min_exposure\\n  \\t\\t        , event\\n  \\t\\t        , original_timestamp as event_timestamp\\n  \\t\\t        , context_traits_email as event_email\\n  \\t\\tfrom reg_users      \\n  \\t\\twhere to_unixtime(min_exposure) <= to_unixtime(original_timestamp)\\n  \\t\\tand cast(min_exposure as DATE) >= cast(original_timestamp as DATE) - INTERVAL \\'28\\' DAY\\n  \\n  \\t\\tunion all\\n  \\n  \\t\\tselect * \\n  \\t\\tfrom non_reg_users\\n  \\t)\\n  \\n  )\\n  \\n  \\n  \\n  select \\n  \\ta.*\\n  \\t, b.*\\n  from cleaned_list a\\n  left join mql_flag b \\n  \\ton a.event_email = b.email\\n) \"custom_sql_query\"\\nLIMIT 0) T LIMIT 0\n",
    "\"\"\""
   ]
  },
  {
   "cell_type": "code",
   "execution_count": 22,
   "metadata": {
    "scrolled": true
   },
   "outputs": [],
   "source": [
    "formatter = column_parser.Parser(query_3)\n",
    "formatted = formatter.format_query(query_3)\n",
    "query_list = formatted.split('\\n')\n",
    "# query_list"
   ]
  },
  {
   "cell_type": "code",
   "execution_count": 5,
   "metadata": {},
   "outputs": [],
   "source": [
    "def delevel_query(query_list):\n",
    "    line_level = []\n",
    "    sub_query = []\n",
    "    pos_delete, pos_where = len(query_list), len(query_list)\n",
    "    \n",
    "    for i, line in enumerate(query_list):\n",
    "        if line.startswith('ORDER') or line.startswith('GROUP'):\n",
    "            pos_delete = i\n",
    "        if line.startswith('WHERE'):\n",
    "            pos_where = i \n",
    "        if line.startswith('FROM'):\n",
    "            pos_from = i-1\n",
    "        if line.startswith('LEFT JOIN') or line.startswith('INNER JOIN') or line.startswith('FULL OUTER JOIN'):\n",
    "            pos_join = i\n",
    "  \n",
    "    for line in query_list[:pos_from+2]:\n",
    "        line_level.append((line, \"level_1\"))\n",
    "        \n",
    "    for line in query_list[pos_from+1:pos_where]:\n",
    "        if line.startswith(' ') or line.startswith('FROM'):\n",
    "            sub_query.append(line[3:])\n",
    "        else:\n",
    "            line_level.append((line, \"level_1\"))\n",
    "\n",
    "    for line in query_list[pos_where:pos_delete]:    \n",
    "        line_level.append((line, \"level_1\"))\n",
    "\n",
    "    return line_level, sub_query[1:]"
   ]
  },
  {
   "cell_type": "code",
   "execution_count": 17,
   "metadata": {},
   "outputs": [],
   "source": [
    "def parse_sub_query(sub_query_list):\n",
    "    sub_query = \"\\n\".join(sub_query_list)\n",
    "    sub_query = sub_query.lstrip('\\n').lstrip(' ')\n",
    "    \n",
    "    formatter = column_parser.Parser(sub_query)\n",
    "    formatted = formatter.format_query(sub_query)\n",
    "    sub_query_list = formatted.split('\\n')\n",
    "\n",
    "    query = \"\\n\".join(sub_query_list).lstrip('\\n').lstrip(' ').lstrip('\\(')\n",
    "    query_list = query.split('\\n')\n",
    "    \n",
    "    return query_list"
   ]
  },
  {
   "cell_type": "code",
   "execution_count": 58,
   "metadata": {},
   "outputs": [],
   "source": [
    "def has_child(sub_query_list):\n",
    "    query_list = parse_sub_query(sub_query_list)\n",
    "    return query_list, delevel_query(query_list)[1] != []"
   ]
  },
  {
   "cell_type": "code",
   "execution_count": 59,
   "metadata": {
    "scrolled": true
   },
   "outputs": [
    {
     "data": {
      "text/plain": [
       "[('SELECT *', 'level_1'), ('FROM', 'level_1'), ('LIMIT 0', 'level_1')]"
      ]
     },
     "execution_count": 59,
     "metadata": {},
     "output_type": "execute_result"
    }
   ],
   "source": [
    "delevel_query(query_list)[0]"
   ]
  },
  {
   "cell_type": "code",
   "execution_count": 60,
   "metadata": {
    "scrolled": true
   },
   "outputs": [
    {
     "data": {
      "text/plain": [
       "True"
      ]
     },
     "execution_count": 60,
     "metadata": {},
     "output_type": "execute_result"
    }
   ],
   "source": [
    "formatter = column_parser.Parser(query_3)\n",
    "formatted = formatter.format_query(query_3)\n",
    "query_list = formatted.split('\\n')\n",
    "has_child(query_list)[1]"
   ]
  },
  {
   "cell_type": "code",
   "execution_count": 74,
   "metadata": {
    "scrolled": true
   },
   "outputs": [],
   "source": [
    "sub_query_2_list = has_child(query_list)[0]\n",
    "# sub_query_1_list"
   ]
  },
  {
   "cell_type": "code",
   "execution_count": 75,
   "metadata": {},
   "outputs": [
    {
     "data": {
      "text/plain": [
       "True"
      ]
     },
     "execution_count": 75,
     "metadata": {},
     "output_type": "execute_result"
    }
   ],
   "source": [
    "# query_list = parse_sub_query(sub_query_1_list)\n",
    "# sub_query_2_list = delevel_query(query_list)[1]\n",
    "# sub_query_2_list == []\n",
    "has_child(sub_query_2_list)[1]"
   ]
  },
  {
   "cell_type": "code",
   "execution_count": 79,
   "metadata": {},
   "outputs": [],
   "source": [
    "sub_query_3_list = has_child(sub_query_2_list)[0]"
   ]
  },
  {
   "cell_type": "code",
   "execution_count": 86,
   "metadata": {},
   "outputs": [],
   "source": [
    "# sub_query_3_list"
   ]
  },
  {
   "cell_type": "code",
   "execution_count": 84,
   "metadata": {},
   "outputs": [
    {
     "data": {
      "text/plain": [
       "True"
      ]
     },
     "execution_count": 84,
     "metadata": {},
     "output_type": "execute_result"
    }
   ],
   "source": [
    "# query_list = parse_sub_query(sub_query_2_list)\n",
    "# sub_query_3 = delevel_query(query_list)[1]\n",
    "# sub_query_3 == []\n",
    "has_child(sub_query_3_list)[1]"
   ]
  },
  {
   "cell_type": "code",
   "execution_count": null,
   "metadata": {},
   "outputs": [],
   "source": [
    "def assign_level(query_list):\n",
    "    "
   ]
  }
 ],
 "metadata": {
  "kernelspec": {
   "display_name": "Python 3",
   "language": "python",
   "name": "python3"
  },
  "language_info": {
   "codemirror_mode": {
    "name": "ipython",
    "version": 3
   },
   "file_extension": ".py",
   "mimetype": "text/x-python",
   "name": "python",
   "nbconvert_exporter": "python",
   "pygments_lexer": "ipython3",
   "version": "3.7.4"
  }
 },
 "nbformat": 4,
 "nbformat_minor": 2
}
