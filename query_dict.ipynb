{
 "cells": [
  {
   "cell_type": "code",
   "execution_count": 1,
   "metadata": {},
   "outputs": [],
   "source": [
    "from sqlanalyzer import column_parser\n",
    "import pandas as pd\n",
    "import sqlparse\n",
    "import re"
   ]
  },
  {
   "cell_type": "code",
   "execution_count": 34,
   "metadata": {},
   "outputs": [],
   "source": [
    "from sqlanalyzer import column_parser\n",
    "import pandas as pd\n",
    "import sqlparse\n",
    "import re\n",
    "\n",
    "\n",
    "def delevel_query(query_list):\n",
    "\n",
    "    sub_query = []\n",
    "    pos_delete = [len(query_list)-1]\n",
    "    pos_join = []\n",
    "    for i, line in enumerate(query_list):\n",
    "        if line.startswith('ORDER') or line.startswith('GROUP'):\n",
    "            pos_delete.append(i)\n",
    "        if line.startswith('FROM') and len(line.split(' ')) > 1:\n",
    "            pos_join.append(i)\n",
    "        elif line.startswith('FROM') and len(line.split(' ')) == 1:\n",
    "            pos_join.append(i+1)\n",
    "        if line.startswith('LEFT JOIN') or line.startswith('INNER JOIN') or line.startswith('FULL OUTER JOIN'):\n",
    "            pos_join.append(i+1)\n",
    "\n",
    "    pos_join.append(min(pos_delete))\n",
    "\n",
    "    sub_query = {}\n",
    "    pos_join_list = iter(pos_join)\n",
    "    next(pos_join_list)\n",
    "\n",
    "    for i in range(len(pos_join)-1):\n",
    "        if i < len(pos_join)-2:\n",
    "            sub_query['sub_query_{}'.format(i)] = ' '.join(query_list[pos_join[i] : next(pos_join_list)-1])\n",
    "        else:\n",
    "            sub_query['sub_query_{}'.format(i)] = ' '.join(query_list[pos_join[i] : pos_join[-1]])\n",
    "            \n",
    "    return sub_query\n",
    "\n",
    "\n",
    "\n",
    "def parse_sub_query(sub_query_list):\n",
    "    sub_query = \"\\n\".join(sub_query_list)\n",
    "    sub_query = sub_query.lstrip('\\n').lstrip(' ')\n",
    "    \n",
    "    formatter = column_parser.Parser(sub_query)\n",
    "    formatted = formatter.format_query(sub_query)\n",
    "    sub_query_list = formatted.split('\\n')\n",
    "\n",
    "    return sub_query_list\n",
    "\n",
    "\n",
    "def has_child(sub_query_list):\n",
    "    query_list = parse_sub_query(sub_query_list)\n",
    "    query_list = delevel_query(query_list)\n",
    "    return query_list, query_list != {}\n"
   ]
  },
  {
   "cell_type": "code",
   "execution_count": 35,
   "metadata": {},
   "outputs": [],
   "source": [
    "query = \"\"\"SELECT sfdc_accounts.platform, sfdc_accounts.mobile_os, sfdc_accounts.service_metadata,\n",
    "sfdc_cases.account, sfdc_cases.num_requests, sfdc_cases.owner\n",
    "FROM sfdc.accounts sfdc_accounts\n",
    "LEFT JOIN (SELECT MAX(dt) FROM (SELECT dt FROM sfdc.oppty ) sfdc_oppty LEFT JOIN (SELECT dt FROM sfdc.cases)) AS sfdc_cases ON sfdc_cases.dt = sfdc_accounts.dt\n",
    "WHERE sfdc_cases.dt > '2020-04-03' AND sfdc_cases.dt < '2020-05-04' ORDER BY 1 GROUP BY 3 LIMIT 20\n",
    "\"\"\"\n"
   ]
  },
  {
   "cell_type": "markdown",
   "metadata": {},
   "source": [
    "## delevel_query"
   ]
  },
  {
   "cell_type": "markdown",
   "metadata": {},
   "source": [
    "## level 0 -- level 1 -- level 2"
   ]
  },
  {
   "cell_type": "code",
   "execution_count": 82,
   "metadata": {},
   "outputs": [],
   "source": [
    "formatter = column_parser.Parser(query)\n",
    "formatted_query = formatter.format_query(query)\n",
    "# cte_queries = formatter.parse_cte(formatted_query)"
   ]
  },
  {
   "cell_type": "code",
   "execution_count": 84,
   "metadata": {},
   "outputs": [],
   "source": [
    "# query_list = formatted_query.split('\\n')\n",
    "# has_subquery = True\n",
    "# counter = 0\n",
    "# while has_subquery:\n",
    "#     counter += 1\n",
    "#     sub_query_list, has_subquery = has_child(query_list)\n",
    "#     query_list = sub_query_list\n",
    "#     print(has_subquery, counter, '\\n'.join(query_list),  '\\n')"
   ]
  },
  {
   "cell_type": "code",
   "execution_count": 85,
   "metadata": {},
   "outputs": [],
   "source": [
    "query_list_0 = formatted_query.split('\\n')"
   ]
  },
  {
   "cell_type": "code",
   "execution_count": 86,
   "metadata": {},
   "outputs": [
    {
     "data": {
      "text/plain": [
       "['SELECT sfdc_accounts.platform,',\n",
       " '       sfdc_accounts.mobile_os,',\n",
       " '       sfdc_accounts.service_metadata,',\n",
       " '       sfdc_cases.account,',\n",
       " '       sfdc_cases.num_requests,',\n",
       " '       sfdc_cases.owner',\n",
       " 'FROM sfdc.accounts sfdc_accounts',\n",
       " 'LEFT JOIN',\n",
       " '  (SELECT MAX(dt)',\n",
       " '   FROM',\n",
       " '     (SELECT dt',\n",
       " '      FROM sfdc.oppty) sfdc_oppty',\n",
       " '   LEFT JOIN',\n",
       " '     (SELECT dt',\n",
       " '      FROM sfdc.cases)) AS sfdc_cases ON sfdc_cases.dt = sfdc_accounts.dt',\n",
       " \"WHERE sfdc_cases.dt > '2020-04-03'\",\n",
       " \"  AND sfdc_cases.dt < '2020-05-04'\",\n",
       " 'ORDER BY 1',\n",
       " 'GROUP BY 3',\n",
       " 'LIMIT 20']"
      ]
     },
     "execution_count": 86,
     "metadata": {},
     "output_type": "execute_result"
    }
   ],
   "source": [
    "query_list_0"
   ]
  },
  {
   "cell_type": "code",
   "execution_count": 125,
   "metadata": {},
   "outputs": [
    {
     "data": {
      "text/plain": [
       "{'sub_query_0': 'FROM sfdc.accounts sfdc_accounts',\n",
       " 'sub_query_1': \"  (SELECT MAX(dt)    FROM      (SELECT dt       FROM sfdc.oppty) sfdc_oppty    LEFT JOIN      (SELECT dt       FROM sfdc.cases)) AS sfdc_cases ON sfdc_cases.dt = sfdc_accounts.dt WHERE sfdc_cases.dt > '2020-04-03'   AND sfdc_cases.dt < '2020-05-04'\"}"
      ]
     },
     "execution_count": 125,
     "metadata": {},
     "output_type": "execute_result"
    }
   ],
   "source": [
    "sub_query_1 = delevel_query(query_list_0)\n",
    "sub_query_1"
   ]
  },
  {
   "cell_type": "code",
   "execution_count": 126,
   "metadata": {},
   "outputs": [
    {
     "data": {
      "text/plain": [
       "\"SELECT MAX(dt)    FROM      (SELECT dt       FROM sfdc.oppty) sfdc_oppty    LEFT JOIN      (SELECT dt       FROM sfdc.cases)) AS sfdc_cases ON sfdc_cases.dt = sfdc_accounts.dt WHERE sfdc_cases.dt > '2020-04-03'   AND sfdc_cases.dt < '2020-05-04'\""
      ]
     },
     "execution_count": 126,
     "metadata": {},
     "output_type": "execute_result"
    }
   ],
   "source": [
    "sub_query_1 = sub_query_1['sub_query_1'].lstrip('\\n \\(')\n",
    "sub_query_1"
   ]
  },
  {
   "cell_type": "code",
   "execution_count": 129,
   "metadata": {},
   "outputs": [
    {
     "name": "stdout",
     "output_type": "stream",
     "text": [
      "SELECT MAX(dt)\n",
      "FROM\n",
      "  (SELECT dt\n",
      "   FROM sfdc.oppty) sfdc_oppty\n",
      "LEFT JOIN\n",
      "  (SELECT dt\n",
      "   FROM sfdc.cases)) AS sfdc_cases ON sfdc_cases.dt = sfdc_accounts.dt\n",
      "WHERE sfdc_cases.dt > '2020-04-03'\n",
      "  AND sfdc_cases.dt < '2020-05-04'\n"
     ]
    }
   ],
   "source": [
    "formatter = column_parser.Parser(sub_query_1)\n",
    "formatted_sub_query_1 = formatter.format_query(sub_query_1)\n",
    "print(formatted_sub_query_1)"
   ]
  },
  {
   "cell_type": "code",
   "execution_count": 130,
   "metadata": {},
   "outputs": [
    {
     "data": {
      "text/plain": [
       "{'sub_query_0': '  (SELECT dt    FROM sfdc.oppty) sfdc_oppty',\n",
       " 'sub_query_1': \"  (SELECT dt    FROM sfdc.cases)) AS sfdc_cases ON sfdc_cases.dt = sfdc_accounts.dt WHERE sfdc_cases.dt > '2020-04-03'\"}"
      ]
     },
     "execution_count": 130,
     "metadata": {},
     "output_type": "execute_result"
    }
   ],
   "source": [
    "delevel_query(formatted_sub_query_1.split('\\n'))"
   ]
  },
  {
   "cell_type": "code",
   "execution_count": null,
   "metadata": {},
   "outputs": [],
   "source": []
  }
 ],
 "metadata": {
  "kernelspec": {
   "display_name": "Python 3",
   "language": "python",
   "name": "python3"
  },
  "language_info": {
   "codemirror_mode": {
    "name": "ipython",
    "version": 3
   },
   "file_extension": ".py",
   "mimetype": "text/x-python",
   "name": "python",
   "nbconvert_exporter": "python",
   "pygments_lexer": "ipython3",
   "version": "3.7.4"
  }
 },
 "nbformat": 4,
 "nbformat_minor": 2
}
