{
 "cells": [
  {
   "cell_type": "code",
   "execution_count": 3,
   "metadata": {},
   "outputs": [],
   "source": [
    "from sqlanalyzer import column_parser\n",
    "import pandas as pd\n",
    "import sqlparse\n",
    "import re"
   ]
  },
  {
   "cell_type": "code",
   "execution_count": 4,
   "metadata": {},
   "outputs": [],
   "source": [
    "from sqlanalyzer import column_parser\n",
    "import pandas as pd\n",
    "import sqlparse\n",
    "import re\n",
    "\n",
    "\n",
    "def get_joins_pos(query_list):\n",
    "\n",
    "    pos_delete, pos_where = [len(query_list)-1], len(query_list)\n",
    "    pos_join = []\n",
    "    for i, line in enumerate(query_list):\n",
    "        if line.startswith('ORDER') or line.startswith('GROUP'):\n",
    "            pos_delete.append(i)\n",
    "        if line.startswith('FROM') and len(line.split(' ')) > 1:\n",
    "            pos_join.append(i)\n",
    "        elif line.startswith('FROM') and len(line.split(' ')) == 1:\n",
    "            pos_join.append(i+1)\n",
    "        if line.startswith('WHERE'):\n",
    "            pos_where = i\n",
    "        if line.startswith('LEFT JOIN') or line.startswith('INNER JOIN') or line.startswith('FULL OUTER JOIN'):\n",
    "            pos_join.append(i+1)\n",
    "\n",
    "    pos_join.append(min(pos_delete))\n",
    "    return pos_join, pos_where\n",
    "\n",
    "\n",
    "def get_alias_pos(query_list, pos_join, pos_where):\n",
    "    pos_join_list = iter(pos_join)\n",
    "    next(pos_join_list)\n",
    "    alias_pos = []\n",
    "\n",
    "    if query_list[pos_join[0]].startswith('FROM'):\n",
    "        alias_pos.append(pos_join[0])\n",
    "\n",
    "    for i in range(len(pos_join)-1):\n",
    "        if i < len(pos_join)-2 and pos_join[i] < pos_where:\n",
    "            end_pos = next(pos_join_list)-1\n",
    "            alias_pos.append(end_pos-1)\n",
    "\n",
    "        elif pos_join[-1] >= pos_where:\n",
    "            end_pos = next(pos_join_list)-1\n",
    "            alias_pos.append(pos_where - 1)\n",
    "        \n",
    "        elif pos_where == len(query_list):\n",
    "            end_pos = pos_join[-1]\n",
    "            alias_pos.append(pos_where-1)\n",
    "#         else:\n",
    "#             end_pos = pos_join[-1]\n",
    "\n",
    "    alias_pos = list(set(alias_pos))\n",
    "    return alias_pos\n",
    "\n",
    "\n",
    "def parse_sub_query(query_list, sub_query_pos):\n",
    "    sub_query = {}\n",
    "    for _, sub_pos in enumerate(sub_query_pos):\n",
    "        alias = query_list[sub_pos[1]]\n",
    "        query = query_list[sub_pos[0]: sub_pos[1]]\n",
    "\n",
    "        try:\n",
    "            alias_list_rev = alias.split(' ')[::-1]\n",
    "            alias_index = alias_list_rev.index('ON')\n",
    "            alias = alias_list_rev[alias_index+1]\n",
    "\n",
    "            if alias_list_rev[alias_index+2] == 'AS':\n",
    "                del alias_list_rev[:alias_index+3]\n",
    "\n",
    "            else:\n",
    "                del alias_list_rev[:alias_index+2]\n",
    "\n",
    "            query.append(' '.join(alias_list_rev[::-1]).rstrip(r'\\)').lstrip(' '))\n",
    "\n",
    "        except:\n",
    "            query.append(' '.join(alias.split(' ')[:-1]).rstrip(r'\\)').lstrip(' '))\n",
    "            alias = alias.split(' ')[-1]\n",
    "\n",
    "        sub_query[alias] = ' '.join(query).lstrip(' \\(').lstrip(' FROM')\n",
    "        \n",
    "    return sub_query\n",
    "\n",
    "\n",
    "def delevel(query_list):\n",
    "\n",
    "    sub_query = {}\n",
    "    pos_join, pos_where = get_joins_pos(query_list)\n",
    "    alias_pos = get_alias_pos(query_list, pos_join, pos_where)\n",
    "    sub_query_pos = list(zip(pos_join[:-1], alias_pos))\n",
    "    sub_query = parse_sub_query(query_list, sub_query_pos)\n",
    "\n",
    "    return sub_query\n",
    "\n",
    "\n",
    "def has_child(formatted_query):\n",
    "    \n",
    "    return delevel(formatted_query.split('\\n')) != {}\n"
   ]
  },
  {
   "cell_type": "code",
   "execution_count": 5,
   "metadata": {},
   "outputs": [],
   "source": [
    "query = \"\"\"SELECT sfdc_accounts.platform, sfdc_accounts.mobile_os, sfdc_accounts.service_metadata,\n",
    "sfdc_cases.account, sfdc_cases.num_requests, sfdc_cases.owner\n",
    "FROM sfdc.accounts sfdc_accounts\n",
    "LEFT JOIN (SELECT MAX(dt) FROM (SELECT dt FROM sfdc.oppty) sfdc_oppty LEFT JOIN (SELECT dt FROM sfdc.cases) sfdc_cases ON sfdc_oppty.dt = sfdc_cases.dt) \n",
    "AS sfdc_cases_oppty ON sfdc_cases_oppty.dt = sfdc_accounts.dt\n",
    "WHERE sfdc_cases_oppty.dt > '2020-04-03' AND sfdc_cases_oppty.dt < '2020-05-04' ORDER BY 1 GROUP BY 3 LIMIT 20\n",
    "\"\"\"\n"
   ]
  },
  {
   "cell_type": "markdown",
   "metadata": {},
   "source": [
    "## delevel_query"
   ]
  },
  {
   "cell_type": "markdown",
   "metadata": {},
   "source": [
    "## level 0 -- level 1 -- level 2"
   ]
  },
  {
   "cell_type": "code",
   "execution_count": 6,
   "metadata": {},
   "outputs": [],
   "source": [
    "formatter = column_parser.Parser(query)\n",
    "formatted_query = formatter.format_query(query)\n",
    "query_list_0 = formatted_query.split('\\n')"
   ]
  },
  {
   "cell_type": "code",
   "execution_count": 7,
   "metadata": {},
   "outputs": [
    {
     "data": {
      "text/plain": [
       "['SELECT sfdc_accounts.platform,',\n",
       " '       sfdc_accounts.mobile_os,',\n",
       " '       sfdc_accounts.service_metadata,',\n",
       " '       sfdc_cases.account,',\n",
       " '       sfdc_cases.num_requests,',\n",
       " '       sfdc_cases.owner',\n",
       " 'FROM sfdc.accounts sfdc_accounts',\n",
       " 'LEFT JOIN',\n",
       " '  (SELECT MAX(dt)',\n",
       " '   FROM',\n",
       " '     (SELECT dt',\n",
       " '      FROM sfdc.oppty) sfdc_oppty',\n",
       " '   LEFT JOIN',\n",
       " '     (SELECT dt',\n",
       " '      FROM sfdc.cases) sfdc_cases ON sfdc_oppty.dt = sfdc_cases.dt) AS sfdc_cases_oppty ON sfdc_cases_oppty.dt = sfdc_accounts.dt',\n",
       " \"WHERE sfdc_cases_oppty.dt > '2020-04-03'\",\n",
       " \"  AND sfdc_cases_oppty.dt < '2020-05-04'\",\n",
       " 'ORDER BY 1',\n",
       " 'GROUP BY 3',\n",
       " 'LIMIT 20']"
      ]
     },
     "execution_count": 7,
     "metadata": {},
     "output_type": "execute_result"
    }
   ],
   "source": [
    "query_list_0"
   ]
  },
  {
   "cell_type": "code",
   "execution_count": 8,
   "metadata": {},
   "outputs": [
    {
     "data": {
      "text/plain": [
       "{'sfdc_accounts': 'sfdc.accounts',\n",
       " 'sfdc_cases_oppty': 'SELECT MAX(dt)    FROM      (SELECT dt       FROM sfdc.oppty) sfdc_oppty    LEFT JOIN      (SELECT dt FROM sfdc.cases) sfdc_cases ON sfdc_oppty.dt = sfdc_cases.dt'}"
      ]
     },
     "execution_count": 8,
     "metadata": {},
     "output_type": "execute_result"
    }
   ],
   "source": [
    "sub_query = delevel(query_list_0)\n",
    "sub_query"
   ]
  },
  {
   "cell_type": "code",
   "execution_count": 9,
   "metadata": {},
   "outputs": [
    {
     "data": {
      "text/plain": [
       "dict_keys(['sfdc_accounts', 'sfdc_cases_oppty'])"
      ]
     },
     "execution_count": 9,
     "metadata": {},
     "output_type": "execute_result"
    }
   ],
   "source": [
    "sub_query.keys()"
   ]
  },
  {
   "cell_type": "code",
   "execution_count": 10,
   "metadata": {
    "scrolled": true
   },
   "outputs": [
    {
     "name": "stdout",
     "output_type": "stream",
     "text": [
      "no subquery\n",
      "{'sfdc_oppty': 'SELECT dt FROM sfdc.oppty', 'sfdc_cases': 'SELECT dt FROM sfdc.cases'}\n"
     ]
    }
   ],
   "source": [
    "for alias, query in sub_query.items():\n",
    "    formatter = column_parser.Parser(query)\n",
    "    formatted_query = formatter.format_query(query)\n",
    "    query_list = formatted_query.split('\\n')\n",
    "    if has_child(formatted_query):\n",
    "        sub_query_dict = delevel(query_list)\n",
    "        print(sub_query_dict)\n",
    "    else:\n",
    "        print(\"no subquery\")\n"
   ]
  },
  {
   "cell_type": "markdown",
   "metadata": {},
   "source": [
    "## graph"
   ]
  },
  {
   "cell_type": "code",
   "execution_count": 11,
   "metadata": {},
   "outputs": [],
   "source": [
    "from graphviz import Digraph"
   ]
  },
  {
   "cell_type": "code",
   "execution_count": 13,
   "metadata": {},
   "outputs": [
    {
     "data": {
      "text/plain": [
       "'derived_query.gv.pdf'"
      ]
     },
     "execution_count": 13,
     "metadata": {},
     "output_type": "execute_result"
    }
   ],
   "source": [
    "dot = Digraph('derived_query')\n",
    "dot.node('derived_query', 'derived_query')\n",
    "dot.node('sfdc_accounts', 'sfdc_accounts')\n",
    "dot.node('sfdc_cases_oppty', 'sfdc_cases_oppty')\n",
    "dot.node('sfdc_oppty', 'sfdc_oppty')\n",
    "dot.node('sfdc_cases', 'sfdc_cases')\n",
    "\n",
    "dot.edge('derived_query', 'sfdc_accounts', label=\"sfdc.accounts\")\n",
    "dot.edge('derived_query', 'sfdc_cases_oppty', label=\"sfdc.oppty, sfdc.cases\")\n",
    "dot.edge('sfdc_cases_oppty', 'sfdc_oppty', label=\"sfdc.oppty\")\n",
    "dot.edge('sfdc_cases_oppty', 'sfdc_cases', label=\"sfdc.cases\")\n",
    "\n",
    "dot.render('derived_query.gv', view=True)"
   ]
  },
  {
   "cell_type": "code",
   "execution_count": null,
   "metadata": {},
   "outputs": [],
   "source": []
  }
 ],
 "metadata": {
  "kernelspec": {
   "display_name": "Python 3",
   "language": "python",
   "name": "python3"
  },
  "language_info": {
   "codemirror_mode": {
    "name": "ipython",
    "version": 3
   },
   "file_extension": ".py",
   "mimetype": "text/x-python",
   "name": "python",
   "nbconvert_exporter": "python",
   "pygments_lexer": "ipython3",
   "version": "3.7.4"
  }
 },
 "nbformat": 4,
 "nbformat_minor": 2
}
