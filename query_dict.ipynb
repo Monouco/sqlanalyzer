{
 "cells": [
  {
   "cell_type": "code",
   "execution_count": 5,
   "metadata": {},
   "outputs": [],
   "source": [
    "from sqlanalyzer import column_parser\n",
    "import pandas as pd\n",
    "import sqlparse\n",
    "import re"
   ]
  },
  {
   "cell_type": "code",
   "execution_count": 28,
   "metadata": {},
   "outputs": [],
   "source": [
    "from sqlanalyzer import column_parser\n",
    "import pandas as pd\n",
    "import sqlparse\n",
    "import re\n",
    "\n",
    "\n",
    "def delevel_query(query_list):\n",
    "    line_level = []\n",
    "    sub_query = []\n",
    "    pos_delete, pos_where = len(query_list), len(query_list)\n",
    "    \n",
    "    for i, line in enumerate(query_list):\n",
    "        if line.startswith('ORDER') or line.startswith('GROUP'):\n",
    "            pos_delete = i\n",
    "        if line.startswith('WHERE'):\n",
    "            pos_where = i \n",
    "        if line.startswith('FROM'):\n",
    "            pos_from = i-1\n",
    "        # if line.startswith('LEFT JOIN') or line.startswith('INNER JOIN') or line.startswith('FULL OUTER JOIN'):\n",
    "        #     pos_join = i\n",
    "  \n",
    "    for line in query_list[:pos_from+2]:\n",
    "        line_level.append((line, \"level_1\"))\n",
    "        \n",
    "    for line in query_list[pos_from+1:pos_where]:\n",
    "        if line.startswith(' ') or line.startswith('FROM'):\n",
    "            sub_query.append(line[3:])\n",
    "        else:\n",
    "            line_level.append((line, \"level_1\"))\n",
    "\n",
    "    for line in query_list[pos_where:pos_delete]:    \n",
    "        line_level.append((line, \"level_1\"))\n",
    "\n",
    "    return line_level, sub_query[1:]\n",
    "\n",
    "\n",
    "def parse_sub_query(sub_query_list):\n",
    "    sub_query = \"\\n\".join(sub_query_list)\n",
    "    sub_query = sub_query.lstrip('\\n').lstrip(' ')\n",
    "    \n",
    "    formatter = column_parser.Parser(sub_query)\n",
    "    formatted = formatter.format_query(sub_query)\n",
    "    sub_query_list = formatted.split('\\n')\n",
    "\n",
    "    return sub_query_list\n",
    "\n",
    "\n",
    "def has_child(sub_query_list):\n",
    "    query_list = parse_sub_query(sub_query_list)\n",
    "    query_list = delevel_query(query_list)[1]\n",
    "    return query_list, query_list != []\n",
    "\n",
    "\n",
    "# def main():\n",
    "#     query = \"\"\"SELECT * FROM sfdc.accounts sfdc_accounts\n",
    "#             LEFT JOIN (SELECT MAX(dt) FROM (SELECT dt FROM sfdc.oppty sfdc_oppty) LEFT JOIN (SELECT dt FROM sfdc.cases)) AS sfdc_cases ON sfdc_cases.dt = sfdc_accounts.dt\n",
    "#             WHERE dt > '2020-04-03' \n",
    "#             \"\"\"\n",
    "\n",
    "#     formatter = column_parser.Parser(query)\n",
    "#     formatted = formatter.format_query(query)\n",
    "#     query_list = formatted.split('\\n')\n",
    "\n",
    "#     has_subquery = True\n",
    "#     while has_subquery:\n",
    "#         sub_query_list, has_subquery = has_child(query_list)\n",
    "#         query_list = sub_query_list\n",
    "#         print(has_subquery, '\\n'.join(query_list),  '\\n')"
   ]
  },
  {
   "cell_type": "code",
   "execution_count": 6,
   "metadata": {},
   "outputs": [],
   "source": [
    "query = \"\"\"SELECT * FROM sfdc.accounts sfdc_accounts\n",
    "LEFT JOIN (SELECT MAX(dt) FROM (SELECT dt FROM sfdc.oppty sfdc_oppty) LEFT JOIN (SELECT dt FROM sfdc.cases)) AS sfdc_cases ON sfdc_cases.dt = sfdc_accounts.dt\n",
    "WHERE dt > '2020-04-03' \n",
    "\"\"\"\n"
   ]
  },
  {
   "cell_type": "code",
   "execution_count": 7,
   "metadata": {},
   "outputs": [],
   "source": [
    "formatter = column_parser.Parser(query)\n",
    "formatted_query = formatter.format_query(query)\n",
    "cte_queries = formatter.parse_cte(formatted_query)"
   ]
  },
  {
   "cell_type": "code",
   "execution_count": 8,
   "metadata": {
    "scrolled": true
   },
   "outputs": [
    {
     "name": "stdout",
     "output_type": "stream",
     "text": [
      "SELECT *\n",
      "FROM sfdc.accounts sfdc_accounts\n",
      "LEFT JOIN\n",
      "  (SELECT MAX(dt)\n",
      "   FROM\n",
      "     (SELECT dt\n",
      "      FROM sfdc.oppty sfdc_oppty)\n",
      "   LEFT JOIN\n",
      "     (SELECT dt\n",
      "      FROM sfdc.cases)) AS sfdc_cases ON sfdc_cases.dt = sfdc_accounts.dt\n",
      "WHERE dt > '2020-04-03'\n"
     ]
    }
   ],
   "source": [
    "print(formatted_query)"
   ]
  },
  {
   "cell_type": "code",
   "execution_count": 52,
   "metadata": {},
   "outputs": [
    {
     "name": "stdout",
     "output_type": "stream",
     "text": [
      "True 1 SELECT MAX(dt)\n",
      "FROM\n",
      "  (SELECT dt\n",
      "   FROM sfdc.oppty sfdc_oppty)\n",
      "LEFT JOIN\n",
      "  (SELECT dt\n",
      "   FROM sfdc.cases)) AS sfdc_cases ON sfdc_cases.dt = sfdc_accounts.dt \n",
      "\n",
      "True 2 SELECT dt\n",
      "FROM sfdc.oppty sfdc_oppty)\n",
      "SELECT dt\n",
      "FROM sfdc.cases)) AS sfdc_cases ON sfdc_cases.dt = sfdc_accounts.dt \n",
      "\n",
      "False 3  \n",
      "\n"
     ]
    }
   ],
   "source": [
    "query_list = formatted_query.split('\\n')\n",
    "has_subquery = True\n",
    "counter = 0\n",
    "while has_subquery:\n",
    "    counter += 1\n",
    "    sub_query_list, has_subquery = has_child(query_list)\n",
    "    query_list = sub_query_list\n",
    "    print(has_subquery, counter, '\\n'.join(query_list),  '\\n')"
   ]
  },
  {
   "cell_type": "code",
   "execution_count": 53,
   "metadata": {},
   "outputs": [],
   "source": [
    "query_list_0 = formatted_query.split('\\n')"
   ]
  },
  {
   "cell_type": "code",
   "execution_count": 54,
   "metadata": {},
   "outputs": [
    {
     "data": {
      "text/plain": [
       "['SELECT MAX(dt)',\n",
       " 'FROM',\n",
       " '  (SELECT dt',\n",
       " '   FROM sfdc.oppty sfdc_oppty)',\n",
       " 'LEFT JOIN',\n",
       " '  (SELECT dt',\n",
       " '   FROM sfdc.cases)) AS sfdc_cases ON sfdc_cases.dt = sfdc_accounts.dt']"
      ]
     },
     "execution_count": 54,
     "metadata": {},
     "output_type": "execute_result"
    }
   ],
   "source": [
    "query_list_1, has_subquery = has_child(query_list_0)\n",
    "query_list_1"
   ]
  },
  {
   "cell_type": "code",
   "execution_count": 55,
   "metadata": {},
   "outputs": [
    {
     "data": {
      "text/plain": [
       "['SELECT dt',\n",
       " 'FROM sfdc.oppty sfdc_oppty)',\n",
       " 'SELECT dt',\n",
       " 'FROM sfdc.cases)) AS sfdc_cases ON sfdc_cases.dt = sfdc_accounts.dt']"
      ]
     },
     "execution_count": 55,
     "metadata": {},
     "output_type": "execute_result"
    }
   ],
   "source": [
    "query_list_2, has_subquery = has_child(query_list_1)\n",
    "query_list_2"
   ]
  },
  {
   "cell_type": "code",
   "execution_count": 58,
   "metadata": {},
   "outputs": [],
   "source": [
    "query_list_2 = parse_sub_query(query_list_1)\n"
   ]
  },
  {
   "cell_type": "code",
   "execution_count": 59,
   "metadata": {},
   "outputs": [
    {
     "data": {
      "text/plain": [
       "['SELECT MAX(dt)',\n",
       " 'FROM',\n",
       " '  (SELECT dt',\n",
       " '   FROM sfdc.oppty sfdc_oppty)',\n",
       " 'LEFT JOIN',\n",
       " '  (SELECT dt',\n",
       " '   FROM sfdc.cases)) AS sfdc_cases ON sfdc_cases.dt = sfdc_accounts.dt']"
      ]
     },
     "execution_count": 59,
     "metadata": {},
     "output_type": "execute_result"
    }
   ],
   "source": [
    "query_list_2"
   ]
  },
  {
   "cell_type": "code",
   "execution_count": 60,
   "metadata": {},
   "outputs": [],
   "source": [
    "query_list_2 = delevel_query(query_list_2)[1]"
   ]
  },
  {
   "cell_type": "code",
   "execution_count": 61,
   "metadata": {},
   "outputs": [
    {
     "data": {
      "text/plain": [
       "['SELECT dt',\n",
       " 'FROM sfdc.oppty sfdc_oppty)',\n",
       " 'SELECT dt',\n",
       " 'FROM sfdc.cases)) AS sfdc_cases ON sfdc_cases.dt = sfdc_accounts.dt']"
      ]
     },
     "execution_count": 61,
     "metadata": {},
     "output_type": "execute_result"
    }
   ],
   "source": [
    "query_list_2"
   ]
  },
  {
   "cell_type": "markdown",
   "metadata": {},
   "source": [
    "## delevel_query"
   ]
  },
  {
   "cell_type": "code",
   "execution_count": null,
   "metadata": {},
   "outputs": [],
   "source": [
    "def delevel_query(query_list):\n",
    "    line_level = []\n",
    "    sub_query = []\n",
    "    pos_delete, pos_where = len(query_list), len(query_list)\n",
    "    \n",
    "    for i, line in enumerate(query_list):\n",
    "        if line.startswith('ORDER') or line.startswith('GROUP'):\n",
    "            pos_delete = i\n",
    "        if line.startswith('WHERE'):\n",
    "            pos_where = i \n",
    "        if line.startswith('FROM'):\n",
    "            pos_from = i-1\n",
    "        # if line.startswith('LEFT JOIN') or line.startswith('INNER JOIN') or line.startswith('FULL OUTER JOIN'):\n",
    "        #     pos_join = i\n",
    "  \n",
    "    for line in query_list[:pos_from+2]:\n",
    "        line_level.append((line, \"level_1\"))\n",
    "        \n",
    "    for line in query_list[pos_from+1:pos_where]:\n",
    "        if line.startswith(' ') or line.startswith('FROM'):\n",
    "            sub_query.append(line[3:])\n",
    "        else:\n",
    "            line_level.append((line, \"level_1\"))\n",
    "\n",
    "    for line in query_list[pos_where:pos_delete]:    \n",
    "        line_level.append((line, \"level_1\"))\n",
    "\n",
    "    return line_level, sub_query[1:]"
   ]
  },
  {
   "cell_type": "code",
   "execution_count": 79,
   "metadata": {},
   "outputs": [],
   "source": [
    "query_list = parse_sub_query(query_list_1)"
   ]
  },
  {
   "cell_type": "code",
   "execution_count": 96,
   "metadata": {},
   "outputs": [
    {
     "name": "stdout",
     "output_type": "stream",
     "text": [
      "0 SELECT MAX(dt)\n",
      "1 FROM\n",
      "2   (SELECT dt\n",
      "3    FROM sfdc.oppty sfdc_oppty)\n",
      "4 LEFT JOIN\n",
      "5   (SELECT dt\n",
      "6    FROM sfdc.cases)) AS sfdc_cases ON sfdc_cases.dt = sfdc_accounts.dt\n"
     ]
    }
   ],
   "source": [
    "for i, line in enumerate(query_list):\n",
    "    print(i, line)"
   ]
  },
  {
   "cell_type": "code",
   "execution_count": 101,
   "metadata": {},
   "outputs": [],
   "source": [
    "line_level = []\n",
    "sub_query = []\n",
    "pos_delete, pos_where = len(query_list)-1, len(query_list)-1\n",
    "pos_join = []\n",
    "for i, line in enumerate(query_list):\n",
    "    if line.startswith('ORDER') or line.startswith('GROUP'):\n",
    "        pos_delete = i\n",
    "    if line.startswith('WHERE'):\n",
    "        pos_where = i \n",
    "    if line.startswith('FROM'):\n",
    "        pos_from = i-1\n",
    "        pos_join.append(i+1)\n",
    "    if line.startswith('LEFT JOIN') or line.startswith('INNER JOIN') or line.startswith('FULL OUTER JOIN'):\n",
    "        pos_join.append(i+1)\n",
    "        \n",
    "pos_join.append(pos_delete)     \n"
   ]
  },
  {
   "cell_type": "code",
   "execution_count": 102,
   "metadata": {},
   "outputs": [
    {
     "data": {
      "text/plain": [
       "(6, 6, 0, [2, 5, 6])"
      ]
     },
     "execution_count": 102,
     "metadata": {},
     "output_type": "execute_result"
    }
   ],
   "source": [
    "pos_delete, pos_where, pos_from, pos_join"
   ]
  },
  {
   "cell_type": "code",
   "execution_count": null,
   "metadata": {},
   "outputs": [],
   "source": [
    "# for line in query_list[:pos_from+2]:\n",
    "#     line_level.append((line, \"level_1\"))\n",
    "\n",
    "# for line in query_list[pos_from+1:pos_where]:\n",
    "#     if line.startswith(' ') or line.startswith('FROM'):\n",
    "#         sub_query.append(line[3:])\n",
    "#     else:\n",
    "#         line_level.append((line, \"level_1\"))\n",
    "\n",
    "pos_join_list = iter(pos_join)\n",
    "\n",
    "\n",
    "\n",
    "for line in query_list[pos_where:pos_delete]:    \n",
    "    line_level.append((line, \"level_1\"))\n",
    "    "
   ]
  }
 ],
 "metadata": {
  "kernelspec": {
   "display_name": "Python 3",
   "language": "python",
   "name": "python3"
  },
  "language_info": {
   "codemirror_mode": {
    "name": "ipython",
    "version": 3
   },
   "file_extension": ".py",
   "mimetype": "text/x-python",
   "name": "python",
   "nbconvert_exporter": "python",
   "pygments_lexer": "ipython3",
   "version": "3.7.4"
  }
 },
 "nbformat": 4,
 "nbformat_minor": 2
}
