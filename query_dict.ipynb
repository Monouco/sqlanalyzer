{
 "cells": [
  {
   "cell_type": "code",
   "execution_count": 1,
   "metadata": {},
   "outputs": [],
   "source": [
    "from sqlanalyzer import column_parser\n",
    "import pandas as pd\n",
    "import sqlparse\n",
    "import re"
   ]
  },
  {
   "cell_type": "code",
   "execution_count": 71,
   "metadata": {},
   "outputs": [],
   "source": [
    "from sqlanalyzer import column_parser\n",
    "import pandas as pd\n",
    "import sqlparse\n",
    "import re\n",
    "\n",
    "\n",
    "def delevel_query(query_list):\n",
    "\n",
    "    sub_query = []\n",
    "    pos_delete = [len(query_list)-1]\n",
    "    pos_join = []\n",
    "    for i, line in enumerate(query_list):\n",
    "        if line.startswith('ORDER') or line.startswith('GROUP'):\n",
    "            pos_delete.append(i)\n",
    "        if line.startswith('FROM') and len(line.split(' ')) > 1:\n",
    "            pos_join.append(i)\n",
    "        elif line.startswith('FROM') and len(line.split(' ')) == 1:\n",
    "            pos_join.append(i+1)\n",
    "        if line.startswith('WHERE'):\n",
    "            pos_where = i\n",
    "        if line.startswith('LEFT JOIN') or line.startswith('INNER JOIN') or line.startswith('FULL OUTER JOIN'):\n",
    "            pos_join.append(i+1)\n",
    "\n",
    "    pos_join.append(min(pos_delete))\n",
    "\n",
    "    sub_query = {}\n",
    "    pos_join_list = iter(pos_join)\n",
    "    next(pos_join_list)\n",
    "    alias_pos = []\n",
    "\n",
    "    if query_list[pos_join[0]].startswith('FROM'):\n",
    "        alias_pos.append(pos_join[0])\n",
    "\n",
    "    for i in range(len(pos_join)-1):\n",
    "        if i < len(pos_join)-2 and pos_join[i] < pos_where:\n",
    "            end_pos = next(pos_join_list)-1\n",
    "            alias_pos.append(end_pos-1)\n",
    "\n",
    "        elif pos_join[-1] >= pos_where:\n",
    "            end_pos = next(pos_join_list)-1\n",
    "            alias_pos.append(pos_where - 1)\n",
    "\n",
    "        else:\n",
    "            end_pos = pos_join[-1]\n",
    "\n",
    "    alias_pos = list(set(alias_pos))\n",
    "    \n",
    "    sub_query = {}\n",
    "\n",
    "    for j in alias_pos:\n",
    "        alias = query_list[j]\n",
    "        try:\n",
    "            alias_index = alias.split(' ')[::-1].index('ON')\n",
    "            alias = alias.split(' ')[::-1][alias_index+1]\n",
    "        except:\n",
    "            alias = alias.split(' ')[-1]\n",
    "\n",
    "        sub_query[alias] = ' '.join(query_list[pos_join[i] : end_pos])\n",
    "            \n",
    "    return sub_query\n",
    "\n",
    "\n",
    "# def has_child(sub_query_list):\n",
    "#     query_list = parse_sub_query(sub_query_list)\n",
    "#     query_list = delevel_query(query_list)\n",
    "#     return query_list, query_list != {}\n"
   ]
  },
  {
   "cell_type": "code",
   "execution_count": 72,
   "metadata": {},
   "outputs": [],
   "source": [
    "query = \"\"\"SELECT sfdc_accounts.platform, sfdc_accounts.mobile_os, sfdc_accounts.service_metadata,\n",
    "sfdc_cases.account, sfdc_cases.num_requests, sfdc_cases.owner\n",
    "FROM sfdc.accounts sfdc_accounts\n",
    "LEFT JOIN (SELECT MAX(dt) FROM (SELECT dt FROM sfdc.oppty) sfdc_oppty LEFT JOIN (SELECT dt FROM sfdc.cases) sfdc_cases ON sfdc_oppty.dt = sfdc_cases.dt) \n",
    "AS sfdc_cases_oppty ON sfdc_cases_oppty.dt = sfdc_accounts.dt\n",
    "WHERE sfdc_cases_oppty.dt > '2020-04-03' AND sfdc_cases_oppty.dt < '2020-05-04' ORDER BY 1 GROUP BY 3 LIMIT 20\n",
    "\"\"\"\n"
   ]
  },
  {
   "cell_type": "markdown",
   "metadata": {},
   "source": [
    "## delevel_query"
   ]
  },
  {
   "cell_type": "markdown",
   "metadata": {},
   "source": [
    "## level 0 -- level 1 -- level 2"
   ]
  },
  {
   "cell_type": "code",
   "execution_count": 73,
   "metadata": {},
   "outputs": [],
   "source": [
    "formatter = column_parser.Parser(query)\n",
    "formatted_query = formatter.format_query(query)\n",
    "query_list_0 = formatted_query.split('\\n')"
   ]
  },
  {
   "cell_type": "code",
   "execution_count": 74,
   "metadata": {},
   "outputs": [
    {
     "data": {
      "text/plain": [
       "{'sfdc_accounts': \"  (SELECT MAX(dt)    FROM      (SELECT dt       FROM sfdc.oppty) sfdc_oppty    LEFT JOIN      (SELECT dt       FROM sfdc.cases) sfdc_cases ON sfdc_oppty.dt = sfdc_cases.dt) AS sfdc_cases_oppty ON sfdc_cases_oppty.dt = sfdc_accounts.dt WHERE sfdc_cases_oppty.dt > '2020-04-03'\",\n",
       " 'sfdc_cases_oppty': \"  (SELECT MAX(dt)    FROM      (SELECT dt       FROM sfdc.oppty) sfdc_oppty    LEFT JOIN      (SELECT dt       FROM sfdc.cases) sfdc_cases ON sfdc_oppty.dt = sfdc_cases.dt) AS sfdc_cases_oppty ON sfdc_cases_oppty.dt = sfdc_accounts.dt WHERE sfdc_cases_oppty.dt > '2020-04-03'\"}"
      ]
     },
     "execution_count": 74,
     "metadata": {},
     "output_type": "execute_result"
    }
   ],
   "source": [
    "sub_query = delevel_query(query_list_0)\n",
    "sub_query\n"
   ]
  },
  {
   "cell_type": "code",
   "execution_count": 75,
   "metadata": {},
   "outputs": [
    {
     "ename": "KeyError",
     "evalue": "'sub_query_1'",
     "output_type": "error",
     "traceback": [
      "\u001b[0;31m---------------------------------------------------------------------------\u001b[0m",
      "\u001b[0;31mKeyError\u001b[0m                                  Traceback (most recent call last)",
      "\u001b[0;32m<ipython-input-75-b3aef7266fb9>\u001b[0m in \u001b[0;36m<module>\u001b[0;34m\u001b[0m\n\u001b[0;32m----> 1\u001b[0;31m \u001b[0msub_query\u001b[0m \u001b[0;34m=\u001b[0m \u001b[0msub_query\u001b[0m\u001b[0;34m[\u001b[0m\u001b[0;34m'sub_query_1'\u001b[0m\u001b[0;34m]\u001b[0m\u001b[0;34m.\u001b[0m\u001b[0mlstrip\u001b[0m\u001b[0;34m(\u001b[0m\u001b[0;34m'\\n \\('\u001b[0m\u001b[0;34m)\u001b[0m\u001b[0;34m\u001b[0m\u001b[0;34m\u001b[0m\u001b[0m\n\u001b[0m\u001b[1;32m      2\u001b[0m \u001b[0mformatter\u001b[0m \u001b[0;34m=\u001b[0m \u001b[0mcolumn_parser\u001b[0m\u001b[0;34m.\u001b[0m\u001b[0mParser\u001b[0m\u001b[0;34m(\u001b[0m\u001b[0msub_query\u001b[0m\u001b[0;34m)\u001b[0m\u001b[0;34m\u001b[0m\u001b[0;34m\u001b[0m\u001b[0m\n\u001b[1;32m      3\u001b[0m \u001b[0mformatted_sub_query\u001b[0m \u001b[0;34m=\u001b[0m \u001b[0mformatter\u001b[0m\u001b[0;34m.\u001b[0m\u001b[0mformat_query\u001b[0m\u001b[0;34m(\u001b[0m\u001b[0msub_query\u001b[0m\u001b[0;34m)\u001b[0m\u001b[0;34m\u001b[0m\u001b[0;34m\u001b[0m\u001b[0m\n\u001b[1;32m      4\u001b[0m \u001b[0msub_sub_query\u001b[0m \u001b[0;34m=\u001b[0m \u001b[0mdelevel_query\u001b[0m\u001b[0;34m(\u001b[0m\u001b[0mformatted_sub_query\u001b[0m\u001b[0;34m.\u001b[0m\u001b[0msplit\u001b[0m\u001b[0;34m(\u001b[0m\u001b[0;34m'\\n'\u001b[0m\u001b[0;34m)\u001b[0m\u001b[0;34m)\u001b[0m\u001b[0;34m\u001b[0m\u001b[0;34m\u001b[0m\u001b[0m\n\u001b[1;32m      5\u001b[0m \u001b[0msub_sub_query\u001b[0m\u001b[0;34m\u001b[0m\u001b[0;34m\u001b[0m\u001b[0m\n",
      "\u001b[0;31mKeyError\u001b[0m: 'sub_query_1'"
     ]
    }
   ],
   "source": [
    "sub_query = sub_query['sub_query_1'].lstrip('\\n \\(')\n",
    "formatter = column_parser.Parser(sub_query)\n",
    "formatted_sub_query = formatter.format_query(sub_query)\n",
    "sub_sub_query = delevel_query(formatted_sub_query.split('\\n'))\n",
    "sub_sub_query\n"
   ]
  },
  {
   "cell_type": "code",
   "execution_count": null,
   "metadata": {},
   "outputs": [],
   "source": []
  }
 ],
 "metadata": {
  "kernelspec": {
   "display_name": "Python 3",
   "language": "python",
   "name": "python3"
  },
  "language_info": {
   "codemirror_mode": {
    "name": "ipython",
    "version": 3
   },
   "file_extension": ".py",
   "mimetype": "text/x-python",
   "name": "python",
   "nbconvert_exporter": "python",
   "pygments_lexer": "ipython3",
   "version": "3.7.4"
  }
 },
 "nbformat": 4,
 "nbformat_minor": 2
}
