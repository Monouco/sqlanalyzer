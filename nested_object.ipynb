{
 "cells": [
  {
   "cell_type": "code",
   "execution_count": 1,
   "metadata": {},
   "outputs": [],
   "source": [
    "from sqlanalyzer import column_parser\n",
    "import pandas as pd\n",
    "import sqlparse\n",
    "import re"
   ]
  },
  {
   "cell_type": "code",
   "execution_count": 2,
   "metadata": {},
   "outputs": [],
   "source": [
    "def delevel_query(query_list):\n",
    "    line_level = []\n",
    "    sub_query = []\n",
    "    pos_delete, pos_where = len(query_list), len(query_list)\n",
    "    \n",
    "    for i, line in enumerate(query_list):\n",
    "        if line.startswith('ORDER') or line.startswith('GROUP'):\n",
    "            pos_delete = i\n",
    "        if line.startswith('WHERE'):\n",
    "            pos_where = i \n",
    "        if line.startswith('FROM'):\n",
    "            pos_from = i-1\n",
    "#         if line.startswith('LEFT JOIN') or line.startswith('INNER JOIN') or line.startswith('FULL OUTER JOIN'):\n",
    "#             pos_join = i\n",
    "  \n",
    "    for line in query_list[:pos_from+2]:\n",
    "        line_level.append((line, \"level_1\"))\n",
    "        \n",
    "    for line in query_list[pos_from+1:pos_where]:\n",
    "        if line.startswith(' ') or line.startswith('FROM'):\n",
    "            sub_query.append(line[3:])\n",
    "        else:\n",
    "            line_level.append((line, \"level_1\"))\n",
    "\n",
    "    for line in query_list[pos_where:pos_delete]:    \n",
    "        line_level.append((line, \"level_1\"))\n",
    "\n",
    "    return line_level, sub_query[1:]"
   ]
  },
  {
   "cell_type": "code",
   "execution_count": 3,
   "metadata": {},
   "outputs": [],
   "source": [
    "def parse_sub_query(sub_query_list):\n",
    "    sub_query = \"\\n\".join(sub_query_list)\n",
    "    sub_query = sub_query.lstrip('\\n').lstrip(' ')\n",
    "    \n",
    "    formatter = column_parser.Parser(sub_query)\n",
    "    formatted = formatter.format_query(sub_query)\n",
    "    sub_query_list = formatted.split('\\n')\n",
    "\n",
    "    query = \"\\n\".join(sub_query_list).lstrip('\\n').lstrip(' ').lstrip(r'\\(')\n",
    "    query_list = query.split('\\n')\n",
    "    \n",
    "    return query_list"
   ]
  },
  {
   "cell_type": "code",
   "execution_count": 4,
   "metadata": {},
   "outputs": [],
   "source": [
    "def has_child(sub_query_list):\n",
    "    query_list = parse_sub_query(sub_query_list)\n",
    "    query_list = delevel_query(query_list)[1]\n",
    "    return query_list, query_list != []"
   ]
  },
  {
   "cell_type": "code",
   "execution_count": 5,
   "metadata": {},
   "outputs": [],
   "source": [
    "query = \"\"\"SELECT *\n",
    "FROM sfdc.accounts sfdc_accounts\n",
    "LEFT JOIN\n",
    "  (SELECT MAX(dt)\n",
    "   FROM\n",
    "     (SELECT dt\n",
    "      FROM sfdc.oppty) sfdc_oppty\n",
    "   LEFT JOIN\n",
    "     (SELECT dt\n",
    "      FROM sfdc.cases) ON sfdc_oppty.dt = sfdc_cases.dt) AS sfdc_cases ON sfdc_cases.dt = sfdc_accounts.dt\n",
    "WHERE dt > '2020-04-03' \n",
    "\"\"\""
   ]
  },
  {
   "cell_type": "code",
   "execution_count": 6,
   "metadata": {
    "scrolled": true
   },
   "outputs": [],
   "source": [
    "formatter = column_parser.Parser(query)\n",
    "formatted = formatter.format_query(query)\n",
    "query_list = formatted.split('\\n')\n",
    "# sub_query_list, has_subquery = has_child(query_list)"
   ]
  },
  {
   "cell_type": "code",
   "execution_count": 7,
   "metadata": {},
   "outputs": [
    {
     "name": "stdout",
     "output_type": "stream",
     "text": [
      "True \n",
      " SELECT *\n",
      "FROM sfdc.accounts sfdc_accounts\n",
      "LEFT JOIN\n",
      "  (SELECT MAX(dt)\n",
      "   FROM\n",
      "     (SELECT dt\n",
      "      FROM sfdc.oppty) sfdc_oppty\n",
      "   LEFT JOIN\n",
      "     (SELECT dt\n",
      "      FROM sfdc.cases) ON sfdc_oppty.dt = sfdc_cases.dt) AS sfdc_cases ON sfdc_cases.dt = sfdc_accounts.dt\n",
      "WHERE dt > '2020-04-03' \n",
      "\n",
      "True \n",
      " SELECT MAX(dt)\n",
      "FROM\n",
      "  (SELECT dt\n",
      "   FROM sfdc.oppty) sfdc_oppty\n",
      "LEFT JOIN\n",
      "  (SELECT dt\n",
      "   FROM sfdc.cases) ON sfdc_oppty.dt = sfdc_cases.dt) AS sfdc_cases ON sfdc_cases.dt = sfdc_accounts.dt \n",
      "\n",
      "True \n",
      " SELECT dt\n",
      "FROM sfdc.oppty) sfdc_oppty\n",
      "SELECT dt\n",
      "FROM sfdc.cases) ON sfdc_oppty.dt = sfdc_cases.dt) AS sfdc_cases ON sfdc_cases.dt = sfdc_accounts.dt \n",
      "\n",
      "False \n",
      "  \n",
      "\n"
     ]
    }
   ],
   "source": [
    "has_subquery = True\n",
    "print(\"True\", '\\n', formatted, '\\n')\n",
    "while has_subquery:\n",
    "    sub_query_list, has_subquery = has_child(query_list)\n",
    "    query_list = sub_query_list\n",
    "    print(has_subquery, '\\n', '\\n'.join(query_list), '\\n')"
   ]
  },
  {
   "cell_type": "markdown",
   "metadata": {},
   "source": [
    "## 1-level"
   ]
  },
  {
   "cell_type": "code",
   "execution_count": 8,
   "metadata": {},
   "outputs": [],
   "source": [
    "query = \"\"\"SELECT sfdc_oppty.dt, sfdc_cases.id\n",
    "FROM sfdc.oppty sfdc_oppty\n",
    "LEFT JOIN sfdc.cases AS sfdc_cases ON sfdc_oppty.dt = sfdc_cases.dt\n",
    "\"\"\""
   ]
  },
  {
   "cell_type": "code",
   "execution_count": 9,
   "metadata": {
    "scrolled": true
   },
   "outputs": [],
   "source": [
    "formatter = column_parser.Parser(query)\n",
    "formatted = formatter.format_query(query)\n",
    "query_list = formatted.split('\\n')\n",
    "# sub_query_list, has_subquery = has_child(query_list)"
   ]
  },
  {
   "cell_type": "code",
   "execution_count": 10,
   "metadata": {},
   "outputs": [
    {
     "name": "stdout",
     "output_type": "stream",
     "text": [
      "True \n",
      " SELECT sfdc_oppty.dt,\n",
      "       sfdc_cases.id\n",
      "FROM sfdc.oppty sfdc_oppty\n",
      "LEFT JOIN sfdc.cases AS sfdc_cases ON sfdc_oppty.dt = sfdc_cases.dt \n",
      "\n",
      "False \n",
      "  \n",
      "\n"
     ]
    }
   ],
   "source": [
    "has_subquery = True\n",
    "print(\"True\", '\\n', formatted, '\\n')\n",
    "while has_subquery:\n",
    "    sub_query_list, has_subquery = has_child(query_list)\n",
    "    query_list = sub_query_list\n",
    "    print(has_subquery, '\\n', '\\n'.join(query_list).lstrip('\\n'), '\\n')"
   ]
  },
  {
   "cell_type": "code",
   "execution_count": 11,
   "metadata": {},
   "outputs": [
    {
     "data": {
      "text/plain": [
       "['sfdc_oppty.dt',\n",
       " 'sfdc_cases.id',\n",
       " 'sfdc.oppty sfdc_oppty',\n",
       " '',\n",
       " 'sfdc.cases',\n",
       " 'sfdc_cases',\n",
       " 'sfdc_oppty.dt',\n",
       " 'sfdc_cases.dt']"
      ]
     },
     "execution_count": 11,
     "metadata": {},
     "output_type": "execute_result"
    }
   ],
   "source": [
    "formatter._get_all_variables(formatted)"
   ]
  },
  {
   "cell_type": "code",
   "execution_count": 12,
   "metadata": {},
   "outputs": [],
   "source": [
    "db_fields_1 = pd.DataFrame({'db_table': 'sfdc.oppty', \n",
    "            'all_columns': ['platform', 'mobile_os', 'service', 'service_metadata', 'service_metadata_version', 'account', 'num_requests', 'dt']})\n",
    "\n",
    "db_fields_2 = pd.DataFrame({'db_table': 'sfdc.cases', \n",
    "            'all_columns': ['account', 'num_requests', 'dt', 'owner', 'id']})\n",
    "\n",
    "db_fields = db_fields_1.append(db_fields_2, ignore_index=True)\n"
   ]
  },
  {
   "cell_type": "code",
   "execution_count": 13,
   "metadata": {},
   "outputs": [],
   "source": [
    "formatted_dict = {'main': formatted}"
   ]
  },
  {
   "cell_type": "code",
   "execution_count": 14,
   "metadata": {},
   "outputs": [
    {
     "data": {
      "text/plain": [
       "['sfdc.oppty.dt']"
      ]
     },
     "execution_count": 14,
     "metadata": {},
     "output_type": "execute_result"
    }
   ],
   "source": [
    "formatter._get_all_scanned_cols(formatted_dict, db_fields)"
   ]
  },
  {
   "cell_type": "code",
   "execution_count": null,
   "metadata": {},
   "outputs": [],
   "source": []
  },
  {
   "cell_type": "code",
   "execution_count": 15,
   "metadata": {},
   "outputs": [],
   "source": [
    "# for _,cte_query in cte_queries.items():\n",
    "\n",
    "table_alias_mapping = formatter.get_table_names(formatted.split('\\n'))\n",
    "variables = formatter._get_all_variables(formatted)\n",
    "queried_columns = formatter._get_queried_columns(table_alias_mapping, db_fields)\n",
    "if variables == []:\n",
    "    original_columns_list = []\n",
    "    for table in queried_columns:\n",
    "        for k,v in table.items():\n",
    "            for t in v:\n",
    "                original_columns_list.append(\"{}.{}\".format(k,t))\n",
    "else:\n",
    "    original_columns_list = formatter._map_db_columns(variables, queried_columns, table_alias_mapping)\n",
    "    "
   ]
  },
  {
   "cell_type": "code",
   "execution_count": 16,
   "metadata": {},
   "outputs": [
    {
     "data": {
      "text/plain": [
       "[{'sfdc.oppty': {'account',\n",
       "   'dt',\n",
       "   'mobile_os',\n",
       "   'num_requests',\n",
       "   'platform',\n",
       "   'service',\n",
       "   'service_metadata',\n",
       "   'service_metadata_version'}},\n",
       " {'sfdc.cases': {'account', 'dt', 'id', 'num_requests', 'owner'}}]"
      ]
     },
     "execution_count": 16,
     "metadata": {},
     "output_type": "execute_result"
    }
   ],
   "source": [
    "queried_columns"
   ]
  },
  {
   "cell_type": "code",
   "execution_count": 17,
   "metadata": {},
   "outputs": [
    {
     "data": {
      "text/plain": [
       "['sfdc_oppty.dt',\n",
       " 'sfdc_cases.id',\n",
       " 'sfdc.oppty sfdc_oppty',\n",
       " '',\n",
       " 'sfdc.cases',\n",
       " 'sfdc_cases',\n",
       " 'sfdc_oppty.dt',\n",
       " 'sfdc_cases.dt']"
      ]
     },
     "execution_count": 17,
     "metadata": {},
     "output_type": "execute_result"
    }
   ],
   "source": [
    "variables"
   ]
  },
  {
   "cell_type": "code",
   "execution_count": 18,
   "metadata": {},
   "outputs": [],
   "source": [
    "var_list = variables\n",
    "queried_cols = queried_columns\n"
   ]
  },
  {
   "cell_type": "code",
   "execution_count": 19,
   "metadata": {},
   "outputs": [],
   "source": [
    "# def _map_db_columns(self, var_list, queried_cols, table_alias_mapping):\n",
    "#         \"\"\"\n",
    "#         Map database columns.\n",
    "#         Args:\n",
    "#             var_list (list): The list of all variables (non-sql reserved words) in query.\n",
    "#             queried_cols (list): The list of all currently existing columns in Glue, under the table that was being queried. \n",
    "#             table_alias_mapping (dict): The mapping of table and their (if) alias.\n",
    "#         Returns:\n",
    "#             list: A list of unique db.table.column that was being scanned by the query.\n",
    "#         \"\"\"\n",
    "#         original_columns_list = []\n",
    "\n",
    "for var in set(var_list):\n",
    "\n",
    "    var = var.strip(' ')\n",
    "\n",
    "    if var in table_alias_mapping.keys():\n",
    "        pass\n",
    "\n",
    "    else:\n",
    "        var_split = var.split('.')\n",
    "\n",
    "        if len(var_split) == 1:\n",
    "            for db_table in queried_cols:\n",
    "                for k,v in db_table.items():\n",
    "                    if var in v:\n",
    "                        original_columns_list.append(\"{}.{}\".format(k, var))\n",
    "\n",
    "        elif len(var_split) == 2:\n",
    "\n",
    "            if var_split[0] in table_alias_mapping.keys():\n",
    "                db_table = table_alias_mapping[var_split[0]]\n",
    "\n",
    "                for db_table_col in queried_cols:\n",
    "                    for k,v in db_table_col.items():\n",
    "                        if k == db_table and var_split[1] in v:\n",
    "                            original_columns_list.append(\"{}.{}\".format(k, var_split[1]))\n",
    "\n",
    "#         return list(set(original_columns_list))\n"
   ]
  },
  {
   "cell_type": "code",
   "execution_count": 20,
   "metadata": {},
   "outputs": [
    {
     "name": "stdout",
     "output_type": "stream",
     "text": [
      "\n",
      "sfdc_cases.id\n",
      "sfdc_cases.dt\n",
      "sfdc.cases\n",
      "sfdc.oppty sfdc_oppty\n",
      "sfdc_cases\n",
      "sfdc_oppty.dt\n"
     ]
    }
   ],
   "source": [
    "for var in set(var_list):\n",
    "\n",
    "    var = var.strip(' ')\n",
    "    print(var)\n",
    "\n",
    "    if var in table_alias_mapping.keys():\n",
    "        pass\n",
    "\n",
    "    else:\n",
    "        var_split = var.split('.')"
   ]
  },
  {
   "cell_type": "code",
   "execution_count": 26,
   "metadata": {},
   "outputs": [
    {
     "name": "stdout",
     "output_type": "stream",
     "text": [
      "['sfdc_oppty.dt']\n",
      "['sfdc_cases.id']\n",
      "['sfdc.oppty sfdc_oppty']\n",
      "['', 'sfdc.cases', 'sfdc_cases', 'sfdc_oppty.dt', 'sfdc_cases.dt']\n"
     ]
    }
   ],
   "source": [
    "all_variables = []\n",
    "for e in formatted.split('\\n'):\n",
    "    if sum(list(map(lambda x: '*' in x, re.findall(r\"\\s[*]?\", e)))):\n",
    "        variable = []\n",
    "    else:\n",
    "        variable = [x.strip(' ') for x in re.findall(r\"[a-z_\\s.]+\", e)]\n",
    "        print(variable)\n",
    "    all_variables.extend(variable)\n",
    "    "
   ]
  },
  {
   "cell_type": "code",
   "execution_count": null,
   "metadata": {},
   "outputs": [],
   "source": []
  }
 ],
 "metadata": {
  "kernelspec": {
   "display_name": "Python 3",
   "language": "python",
   "name": "python3"
  },
  "language_info": {
   "codemirror_mode": {
    "name": "ipython",
    "version": 3
   },
   "file_extension": ".py",
   "mimetype": "text/x-python",
   "name": "python",
   "nbconvert_exporter": "python",
   "pygments_lexer": "ipython3",
   "version": "3.7.4"
  }
 },
 "nbformat": 4,
 "nbformat_minor": 2
}
