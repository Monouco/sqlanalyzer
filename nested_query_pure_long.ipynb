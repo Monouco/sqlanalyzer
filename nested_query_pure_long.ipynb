{
 "cells": [
  {
   "cell_type": "code",
   "execution_count": 193,
   "metadata": {},
   "outputs": [],
   "source": [
    "from sqlanalyzer import column_parser\n",
    "import pandas as pd\n",
    "import sqlparse\n",
    "import re"
   ]
  },
  {
   "cell_type": "code",
   "execution_count": 333,
   "metadata": {},
   "outputs": [],
   "source": [
    "from sqlanalyzer import column_parser\n",
    "import pandas as pd\n",
    "import sqlparse\n",
    "import re\n",
    "import json\n",
    "\n",
    "\n",
    "def get_joins_pos(query_list):\n",
    "\n",
    "    pos_delete, pos_where = [len(query_list)-1], len(query_list)\n",
    "    pos_join = []\n",
    "    for i, line in enumerate(query_list):\n",
    "        if line.startswith('ORDER') or line.startswith('GROUP'):\n",
    "            pos_delete.append(i)\n",
    "        if line.startswith('FROM') and len(line.split(' ')) > 1:\n",
    "            pos_join.append(i)\n",
    "        elif line.startswith('FROM') and len(line.split(' ')) == 1:\n",
    "            pos_join.append(i+1)\n",
    "        if line.startswith('WHERE'):\n",
    "            pos_where = i\n",
    "        if line.startswith('LEFT JOIN') or line.startswith('INNER JOIN') or line.startswith('FULL OUTER JOIN'):\n",
    "            pos_join.append(i+1)\n",
    "\n",
    "    if min(pos_delete) == len(query_list)-1:\n",
    "        pos_join.append(min(pos_delete))\n",
    "    else:\n",
    "        pass\n",
    "\n",
    "    return pos_join, pos_where\n",
    "\n",
    "\n",
    "def get_alias_pos(query_list, pos_join, pos_where):\n",
    "\n",
    "    pos_join_list = iter(pos_join)\n",
    "    next(pos_join_list)\n",
    "    alias_pos = []\n",
    "\n",
    "    if query_list[pos_join[0]].startswith('FROM'):\n",
    "        alias_pos.append(pos_join[0])\n",
    "\n",
    "    for i in range(len(pos_join)-1):\n",
    "        if i < len(pos_join)-2 and pos_join[i] < pos_where:\n",
    "            end_pos = next(pos_join_list)-1\n",
    "            alias_pos.append(end_pos-1)\n",
    "\n",
    "        elif pos_join[-1] >= pos_where:\n",
    "            end_pos = next(pos_join_list)-1\n",
    "            alias_pos.append(pos_where - 1)\n",
    "        \n",
    "        else:\n",
    "            end_pos = pos_join[-1]\n",
    "            alias_pos.append(pos_where-1)\n",
    "\n",
    "    alias_pos = sorted(list(set(alias_pos)))\n",
    "\n",
    "    return alias_pos\n",
    "\n",
    "\n",
    "def parse_sub_query(query_list, sub_query_pos):\n",
    "\n",
    "    sub_query = {}\n",
    "    keep = []\n",
    "    for _, sub_pos in enumerate(sub_query_pos):\n",
    "        alias = query_list[sub_pos[1]]\n",
    "        query = query_list[sub_pos[0]: sub_pos[1]]\n",
    "\n",
    "        try:\n",
    "            alias_list_rev = alias.split(' ')[::-1]\n",
    "            if alias_list_rev[0][-1] != ')':\n",
    "                alias_index = alias_list_rev.index('ON')\n",
    "                alias = alias_list_rev[alias_index+1]\n",
    "\n",
    "                if alias_list_rev[alias_index+2] == 'AS':\n",
    "                    keep.append(' '.join(alias_list_rev[:alias_index+3][::-1]))\n",
    "                    del alias_list_rev[:alias_index+3]\n",
    "\n",
    "                else:\n",
    "                    keep.append(' '.join(alias_list_rev[:alias_index+2][::-1]))\n",
    "                    del alias_list_rev[:alias_index+2]\n",
    "\n",
    "                query.append(' '.join(alias_list_rev[::-1]).rstrip(r'\\)').lstrip(' '))\n",
    "\n",
    "            else:\n",
    "                alias_list_rev[0] = alias_list_rev[0].rstrip(r'\\)')\n",
    "                alias = 'no alias'\n",
    "                query.append(' '.join(alias_list_rev[::-1]))\n",
    "\n",
    "        except:\n",
    "            query.append(' '.join(alias.split(' ')[:-1]).rstrip(r'\\)').lstrip(' '))\n",
    "            alias = alias.split(' ')[-1]\n",
    "\n",
    "        trans_query = ' '.join(query).lstrip(r' \\(').lstrip(' FROM')\n",
    "    \n",
    "        if trans_query == '':\n",
    "            sub_query = {}\n",
    "        else:\n",
    "            sub_query[alias] = trans_query\n",
    "        \n",
    "    return sub_query, keep\n",
    "\n",
    "\n",
    "def delevel(query_list):\n",
    "\n",
    "    sub_query = {}\n",
    "    pos_join, pos_where = get_joins_pos(query_list)\n",
    "    alias_pos = get_alias_pos(query_list, pos_join, pos_where)\n",
    "    sub_query_pos = list(zip(pos_join, alias_pos))\n",
    "    sub_query, keep = parse_sub_query(query_list, sub_query_pos)\n",
    "    main_query_pos = main_query(query_list, sub_query_pos)\n",
    "    if main_query_pos != []:\n",
    "        sub_query['main'] = '\\n'.join([query_list[p] for p in main_query_pos])\n",
    "    sub_query['main'] = sub_query['main'] + ' ' + '\\n'.join(keep)\n",
    "    \n",
    "    return sub_query\n",
    "\n",
    "\n",
    "def has_child(formatted_query):\n",
    "    \n",
    "    count = 0\n",
    "    if len(delevel(formatted_query.split('\\n')).keys()) > 1:\n",
    "        for _,v in delevel(formatted_query.split('\\n')).items():\n",
    "            if v != {}: count += 1\n",
    "            \n",
    "    return count != 0\n",
    "\n",
    "\n",
    "def within(num, rng):\n",
    "    if num >= min(rng) and num <= max(rng): return 1\n",
    "    else: return 0\n",
    "\n",
    "    \n",
    "def main_query(query_list, sub_query_pos):\n",
    "    l = []\n",
    "    for i in range(len(query_list)): \n",
    "        count = 0\n",
    "        for pair in sorted(sub_query_pos):\n",
    "            count += within(i, pair)\n",
    "        if count == 0:\n",
    "            l.append(i)\n",
    "    return l\n",
    "        \n",
    "    \n",
    "def clean_dict(query_dict):\n",
    "    for k,v in query_dict.items(): \n",
    "        if isinstance(v, dict) and len(v.keys()) == 1 and 'main' in v.keys():\n",
    "            query_dict[k] = v['main']\n",
    "    return query_dict\n"
   ]
  },
  {
   "cell_type": "code",
   "execution_count": 365,
   "metadata": {},
   "outputs": [],
   "source": [
    "query = \"\"\"SELECT *\n",
    "   FROM\n",
    "     (SELECT a.*,\n",
    "             b.*,\n",
    "             c.*,\n",
    "             d.*\n",
    "      FROM\n",
    "        (SELECT DISTINCT anonymous_id,\n",
    "                         user_id\n",
    "         FROM mapbox_customer_data.segment_identifies\n",
    "         WHERE dt >= '2018-07-01'\n",
    "           AND anonymous_id IS NOT NULL\n",
    "           AND user_id IS NOT NULL ) a\n",
    "      LEFT JOIN\n",
    "        (SELECT id,\n",
    "                email,\n",
    "                created\n",
    "         FROM mapbox_customer_data.accounts\n",
    "         WHERE cast(dt AS DATE) = CURRENT_DATE - INTERVAL '1' DAY ) b ON a.user_id = b.id\n",
    "      LEFT JOIN\n",
    "        (SELECT anonymous_id AS anon_id_ad,\n",
    "                context_campaign_name,\n",
    "                min(TIMESTAMP) AS min_exposure\n",
    "         FROM mapbox_customer_data.segment_pages\n",
    "         WHERE dt >= '2018-07-01'\n",
    "           AND context_campaign_name IS NOT NULL\n",
    "         GROUP BY 1,\n",
    "                  2) c ON a.anonymous_id = c.anon_id_ad\n",
    "      LEFT JOIN\n",
    "        (SELECT DISTINCT anonymous_id AS anon_id_event,\n",
    "                         original_timestamp,\n",
    "                         event,\n",
    "                         context_traits_email\n",
    "         FROM mapbox_customer_data.segment_tracks\n",
    "         WHERE dt >= '2018-07-01'\n",
    "           AND event LIKE 'submitted_%form'\n",
    "           AND context_traits_email IS NOT NULL ) d ON a.anonymous_id = d.anon_id_event\n",
    "    LEFT JOIN\n",
    "        (SELECT sfdc_accounts.platform, sfdc_accounts.mobile_os, sfdc_accounts.service_metadata,\n",
    "sfdc_cases.account, sfdc_cases.num_requests, sfdc_cases.owner, sfdc_accounts.user_id\n",
    "FROM sfdc.accounts sfdc_accounts\n",
    "LEFT JOIN \n",
    "(SELECT MAX(dt) FROM \n",
    "    (SELECT dt \n",
    "    FROM sfdc.oppty \n",
    "    LEFT JOIN (SELECT MAX(dt) FROM (SELECT DISTINCT dt FROM sfdc.owner AS sfdc_owner) AS dt_owner ON sfdc_oppty.dt = sfdc_cases.dt)\n",
    "    LEFT JOIN (SELECT dt FROM sfdc.cases) sfdc_cases ON sfdc_oppty.dt = sfdc_cases.dt) )\n",
    "AS sfdc_cases_oppty ON sfdc_cases_oppty.dt = sfdc_accounts.dt\n",
    "WHERE sfdc_cases_oppty.dt > '2020-04-03' AND sfdc_cases_oppty.dt < '2020-05-04' ORDER BY 1 GROUP BY 3 LIMIT 20\n",
    "        ) e ON e.user_id = a.user_id\n",
    "        )\n",
    "   WHERE context_campaign_name IS NOT NULL \n",
    "\"\"\""
   ]
  },
  {
   "cell_type": "code",
   "execution_count": 340,
   "metadata": {},
   "outputs": [],
   "source": [
    "formatter = column_parser.Parser(query)\n",
    "formatted_query = formatter.format_query(query)\n",
    "query_list_0 = formatted_query.split('\\n')\n",
    "query_dict = {}\n",
    "sub_query = delevel(query_list_0)\n",
    "query_dict = sub_query"
   ]
  },
  {
   "cell_type": "code",
   "execution_count": 341,
   "metadata": {
    "scrolled": true
   },
   "outputs": [
    {
     "data": {
      "text/plain": [
       "{'no alias': \"SELECT a.*,           b.*,           c.*,           d.*    FROM      (SELECT DISTINCT anonymous_id,                       user_id       FROM mapbox_customer_data.segment_identifies       WHERE dt >= '2018-07-01'         AND anonymous_id IS NOT NULL         AND user_id IS NOT NULL ) a    LEFT JOIN      (SELECT id,              email,              created       FROM mapbox_customer_data.accounts       WHERE cast(dt AS DATE) = CURRENT_DATE - INTERVAL '1' DAY ) b ON a.user_id = b.id    LEFT JOIN      (SELECT anonymous_id AS anon_id_ad,              context_campaign_name,              min(TIMESTAMP) AS min_exposure       FROM mapbox_customer_data.segment_pages       WHERE dt >= '2018-07-01'         AND context_campaign_name IS NOT NULL       GROUP BY 1,                2) c ON a.anonymous_id = c.anon_id_ad    LEFT JOIN      (SELECT DISTINCT anonymous_id AS anon_id_event,                       original_timestamp,                       event,                       context_traits_email       FROM mapbox_customer_data.segment_tracks       WHERE dt >= '2018-07-01'         AND event LIKE 'submitted_%form'         AND context_traits_email IS NOT NULL ) d ON a.anonymous_id = d.anon_id_event    LEFT JOIN      (SELECT sfdc_accounts.platform,              sfdc_accounts.mobile_os,              sfdc_accounts.service_metadata,              sfdc_cases.account,              sfdc_cases.num_requests,              sfdc_cases.owner,              sfdc_accounts.user_id       FROM sfdc.accounts sfdc_accounts       LEFT JOIN         (SELECT MAX(dt)          FROM            (SELECT dt             FROM sfdc.oppty             LEFT JOIN               (SELECT MAX(dt)                FROM                  (SELECT DISTINCT dt                   FROM sfdc.owner AS sfdc_owner) AS dt_owner ON sfdc_oppty.dt = sfdc_cases.dt)             LEFT JOIN               (SELECT dt                FROM sfdc.cases) sfdc_cases ON sfdc_oppty.dt = sfdc_cases.dt)) AS sfdc_cases_oppty ON sfdc_cases_oppty.dt = sfdc_accounts.dt       WHERE sfdc_cases_oppty.dt > '2020-04-03'         AND sfdc_cases_oppty.dt < '2020-05-04'       ORDER BY 1       GROUP BY 3       LIMIT 20) e ON e.user_id = a.user_id\",\n",
       " 'main': 'SELECT *\\nFROM\\nWHERE context_campaign_name IS NOT NULL '}"
      ]
     },
     "execution_count": 341,
     "metadata": {},
     "output_type": "execute_result"
    }
   ],
   "source": [
    "query_dict"
   ]
  },
  {
   "cell_type": "code",
   "execution_count": 342,
   "metadata": {},
   "outputs": [
    {
     "data": {
      "text/plain": [
       "\"SELECT a.*,           b.*,           c.*,           d.*    FROM      (SELECT DISTINCT anonymous_id,                       user_id       FROM mapbox_customer_data.segment_identifies       WHERE dt >= '2018-07-01'         AND anonymous_id IS NOT NULL         AND user_id IS NOT NULL ) a    LEFT JOIN      (SELECT id,              email,              created       FROM mapbox_customer_data.accounts       WHERE cast(dt AS DATE) = CURRENT_DATE - INTERVAL '1' DAY ) b ON a.user_id = b.id    LEFT JOIN      (SELECT anonymous_id AS anon_id_ad,              context_campaign_name,              min(TIMESTAMP) AS min_exposure       FROM mapbox_customer_data.segment_pages       WHERE dt >= '2018-07-01'         AND context_campaign_name IS NOT NULL       GROUP BY 1,                2) c ON a.anonymous_id = c.anon_id_ad    LEFT JOIN      (SELECT DISTINCT anonymous_id AS anon_id_event,                       original_timestamp,                       event,                       context_traits_email       FROM mapbox_customer_data.segment_tracks       WHERE dt >= '2018-07-01'         AND event LIKE 'submitted_%form'         AND context_traits_email IS NOT NULL ) d ON a.anonymous_id = d.anon_id_event    LEFT JOIN      (SELECT sfdc_accounts.platform,              sfdc_accounts.mobile_os,              sfdc_accounts.service_metadata,              sfdc_cases.account,              sfdc_cases.num_requests,              sfdc_cases.owner,              sfdc_accounts.user_id       FROM sfdc.accounts sfdc_accounts       LEFT JOIN         (SELECT MAX(dt)          FROM            (SELECT dt             FROM sfdc.oppty             LEFT JOIN               (SELECT MAX(dt)                FROM                  (SELECT DISTINCT dt                   FROM sfdc.owner AS sfdc_owner) AS dt_owner ON sfdc_oppty.dt = sfdc_cases.dt)             LEFT JOIN               (SELECT dt                FROM sfdc.cases) sfdc_cases ON sfdc_oppty.dt = sfdc_cases.dt)) AS sfdc_cases_oppty ON sfdc_cases_oppty.dt = sfdc_accounts.dt       WHERE sfdc_cases_oppty.dt > '2020-04-03'         AND sfdc_cases_oppty.dt < '2020-05-04'       ORDER BY 1       GROUP BY 3       LIMIT 20) e ON e.user_id = a.user_id\""
      ]
     },
     "execution_count": 342,
     "metadata": {},
     "output_type": "execute_result"
    }
   ],
   "source": [
    "query_dict['no alias']"
   ]
  },
  {
   "cell_type": "code",
   "execution_count": null,
   "metadata": {},
   "outputs": [],
   "source": []
  },
  {
   "cell_type": "code",
   "execution_count": null,
   "metadata": {},
   "outputs": [],
   "source": []
  },
  {
   "cell_type": "code",
   "execution_count": null,
   "metadata": {},
   "outputs": [],
   "source": []
  },
  {
   "cell_type": "code",
   "execution_count": null,
   "metadata": {},
   "outputs": [],
   "source": []
  },
  {
   "cell_type": "markdown",
   "metadata": {},
   "source": [
    "## delevel_query"
   ]
  },
  {
   "cell_type": "markdown",
   "metadata": {},
   "source": [
    "## level 0 -- level 1 -- level 2 -- level 3 -- level 4 -- level 5"
   ]
  },
  {
   "cell_type": "code",
   "execution_count": 366,
   "metadata": {
    "scrolled": false
   },
   "outputs": [],
   "source": [
    "formatter = column_parser.Parser(query)\n",
    "formatted_query = formatter.format_query(query)\n",
    "query_list_0 = formatted_query.split('\\n')\n",
    "query_dict = {}\n",
    "sub_query = delevel(query_list_0)\n",
    "query_dict = sub_query\n",
    "\n",
    "for alias, query in sub_query.items():\n",
    "\n",
    "    formatter = column_parser.Parser(query)\n",
    "    formatted_query = formatter.format_query(query)\n",
    "    query_list = formatted_query.split('\\n')\n",
    "\n",
    "    if has_child(formatted_query) and alias != 'main':\n",
    "        sub_query_dict = delevel(query_list)\n",
    "        query_dict[alias] = sub_query_dict\n",
    "        query_dict = clean_dict(query_dict)\n",
    "\n",
    "        for alias2, query2 in sub_query_dict.items():\n",
    "            formatter2 = column_parser.Parser(query2)\n",
    "            formatted_query2 = formatter2.format_query(query2)\n",
    "            query_list2 = formatted_query2.split('\\n')\n",
    "            \n",
    "            if has_child(formatted_query2) and alias2 != 'main':\n",
    "                sub_query_dict2 = delevel(query_list2)\n",
    "                sub_query_dict[alias2] = sub_query_dict2\n",
    "                \n",
    "                \n",
    "                for alias3, query3 in sub_query_dict2.items():\n",
    "                    formatter3 = column_parser.Parser(query3)\n",
    "                    formatted_query3 = formatter3.format_query(query3)\n",
    "                    query_list3 = formatted_query3.split('\\n')\n",
    "                    \n",
    "                    if has_child(formatted_query3) and alias3 != 'main':\n",
    "                        sub_query_dict3 = delevel(query_list3)\n",
    "                        sub_query_dict2[alias3] = sub_query_dict3\n",
    "                        \n",
    "                        for alias4, query4 in sub_query_dict3.items():\n",
    "                            formatter4 = column_parser.Parser(query4)\n",
    "                            formatted_query4 = formatter4.format_query(query4)\n",
    "                            query_list4 = formatted_query4.split('\\n')\n",
    "                            \n",
    "                            if has_child(formatted_query4) and alias4 != 'main':\n",
    "                                sub_query_dict4 = delevel(query_list4)\n",
    "                                sub_query_dict3[alias4] = sub_query_dict4\n",
    "                            else:\n",
    "                                pass\n",
    "                        query_dict[alias][alias2][alias3] = sub_query_dict3\n",
    "                        query_dict = clean_dict(query_dict)\n",
    "                    else:\n",
    "                        pass\n",
    "                    query_dict[alias][alias2] = sub_query_dict2\n",
    "                    query_dict = clean_dict(query_dict)\n",
    "            else:\n",
    "                pass\n",
    "            query_dict[alias] = sub_query_dict\n",
    "            query_dict = clean_dict(query_dict)\n",
    "    else:\n",
    "        pass\n"
   ]
  },
  {
   "cell_type": "code",
   "execution_count": 394,
   "metadata": {},
   "outputs": [
    {
     "data": {
      "text/plain": [
       "{'no alias': {'a': \"SELECT DISTINCT anonymous_id,                    user_id    FROM mapbox_customer_data.segment_identifies    WHERE dt >= '2018-07-01'      AND anonymous_id IS NOT NULL AND user_id IS NOT NULL \",\n",
       "  'b': \"SELECT id,           email,           created    FROM mapbox_customer_data.accounts WHERE cast(dt AS DATE) = CURRENT_DATE - INTERVAL '1' DAY \",\n",
       "  'c': \"SELECT anonymous_id AS anon_id_ad,           context_campaign_name,           min(TIMESTAMP) AS min_exposure    FROM mapbox_customer_data.segment_pages    WHERE dt >= '2018-07-01'      AND context_campaign_name IS NOT NULL    GROUP BY 1, 2\",\n",
       "  'd': \"SELECT DISTINCT anonymous_id AS anon_id_event,                    original_timestamp,                    event,                    context_traits_email    FROM mapbox_customer_data.segment_tracks    WHERE dt >= '2018-07-01'      AND event LIKE 'submitted_%form' AND context_traits_email IS NOT NULL \",\n",
       "  'e': {'sfdc_accounts': 'sfdc.accounts',\n",
       "   'sfdc_cases_oppty': {'no alias': {'dt_owner': 'SELECT DISTINCT dt FROM sfdc.owner AS sfdc_owner',\n",
       "     'main': 'SELECT MAX(dt)\\nFROM AS dt_owner ON sfdc_oppty.dt = sfdc_cases.dt'},\n",
       "    'sfdc_cases': 'SELECT dt FROM sfdc.cases',\n",
       "    'main': 'SELECT MAX(dt)\\nSELECT dt\\nLEFT JOIN\\nLEFT JOIN sfdc_cases ON sfdc_oppty.dt = sfdc_cases.dt'},\n",
       "   'main': \"SELECT sfdc_accounts.platform,\\n       sfdc_accounts.mobile_os,\\n       sfdc_accounts.service_metadata,\\n       sfdc_cases.account,\\n       sfdc_cases.num_requests,\\n       sfdc_cases.owner,\\n       sfdc_accounts.user_id\\nLEFT JOIN\\nWHERE sfdc_cases_oppty.dt > '2020-04-03'\\n  AND sfdc_cases_oppty.dt < '2020-05-04'\\nORDER BY 1\\nGROUP BY 3\\nLIMIT 20 AS sfdc_cases_oppty ON sfdc_cases_oppty.dt = sfdc_accounts.dt\"},\n",
       "  'main': 'SELECT a.*,\\n       b.*,\\n       c.*,\\n       d.*\\nFROM\\nLEFT JOIN\\nLEFT JOIN\\nLEFT JOIN\\nLEFT JOIN b ON a.user_id = b.id\\nc ON a.anonymous_id = c.anon_id_ad\\nd ON a.anonymous_id = d.anon_id_event\\ne ON e.user_id = a.user_id'},\n",
       " 'main': 'SELECT *\\nFROM\\nWHERE context_campaign_name IS NOT NULL '}"
      ]
     },
     "execution_count": 394,
     "metadata": {},
     "output_type": "execute_result"
    }
   ],
   "source": [
    "query_dict"
   ]
  },
  {
   "cell_type": "code",
   "execution_count": 367,
   "metadata": {},
   "outputs": [
    {
     "name": "stdout",
     "output_type": "stream",
     "text": [
      "main \n",
      " {\n",
      "  \"no alias\": {\n",
      "    \"a\": \"SELECT DISTINCT anonymous_id,                    user_id    FROM mapbox_customer_data.segment_identifies    WHERE dt >= '2018-07-01'      AND anonymous_id IS NOT NULL AND user_id IS NOT NULL \",\n",
      "    \"b\": \"SELECT id,           email,           created    FROM mapbox_customer_data.accounts WHERE cast(dt AS DATE) = CURRENT_DATE - INTERVAL '1' DAY \",\n",
      "    \"c\": \"SELECT anonymous_id AS anon_id_ad,           context_campaign_name,           min(TIMESTAMP) AS min_exposure    FROM mapbox_customer_data.segment_pages    WHERE dt >= '2018-07-01'      AND context_campaign_name IS NOT NULL    GROUP BY 1, 2\",\n",
      "    \"d\": \"SELECT DISTINCT anonymous_id AS anon_id_event,                    original_timestamp,                    event,                    context_traits_email    FROM mapbox_customer_data.segment_tracks    WHERE dt >= '2018-07-01'      AND event LIKE 'submitted_%form' AND context_traits_email IS NOT NULL \",\n",
      "    \"e\": {\n",
      "      \"sfdc_accounts\": \"sfdc.accounts\",\n",
      "      \"sfdc_cases_oppty\": {\n",
      "        \"no alias\": {\n",
      "          \"dt_owner\": \"SELECT DISTINCT dt FROM sfdc.owner AS sfdc_owner\",\n",
      "          \"main\": \"SELECT MAX(dt)\\nFROM AS dt_owner ON sfdc_oppty.dt = sfdc_cases.dt\"\n",
      "        },\n",
      "        \"sfdc_cases\": \"SELECT dt FROM sfdc.cases\",\n",
      "        \"main\": \"SELECT MAX(dt)\\nSELECT dt\\nLEFT JOIN\\nLEFT JOIN sfdc_cases ON sfdc_oppty.dt = sfdc_cases.dt\"\n",
      "      },\n",
      "      \"main\": \"SELECT sfdc_accounts.platform,\\n       sfdc_accounts.mobile_os,\\n       sfdc_accounts.service_metadata,\\n       sfdc_cases.account,\\n       sfdc_cases.num_requests,\\n       sfdc_cases.owner,\\n       sfdc_accounts.user_id\\nLEFT JOIN\\nWHERE sfdc_cases_oppty.dt > '2020-04-03'\\n  AND sfdc_cases_oppty.dt < '2020-05-04'\\nORDER BY 1\\nGROUP BY 3\\nLIMIT 20 AS sfdc_cases_oppty ON sfdc_cases_oppty.dt = sfdc_accounts.dt\"\n",
      "    },\n",
      "    \"main\": \"SELECT a.*,\\n       b.*,\\n       c.*,\\n       d.*\\nFROM\\nLEFT JOIN\\nLEFT JOIN\\nLEFT JOIN\\nLEFT JOIN b ON a.user_id = b.id\\nc ON a.anonymous_id = c.anon_id_ad\\nd ON a.anonymous_id = d.anon_id_event\\ne ON e.user_id = a.user_id\"\n",
      "  },\n",
      "  \"main\": \"SELECT *\\nFROM\\nWHERE context_campaign_name IS NOT NULL \"\n",
      "} \n",
      "\n",
      "\n",
      "\n"
     ]
    }
   ],
   "source": [
    "print(alias, '\\n', json.dumps(query_dict, indent=2), '\\n\\n\\n')"
   ]
  },
  {
   "cell_type": "code",
   "execution_count": 369,
   "metadata": {},
   "outputs": [
    {
     "data": {
      "text/plain": [
       "dict_keys(['no alias', 'main'])"
      ]
     },
     "execution_count": 369,
     "metadata": {},
     "output_type": "execute_result"
    }
   ],
   "source": [
    "query_dict.keys()"
   ]
  },
  {
   "cell_type": "code",
   "execution_count": 371,
   "metadata": {},
   "outputs": [
    {
     "data": {
      "text/plain": [
       "'SELECT *\\nFROM\\nWHERE context_campaign_name IS NOT NULL '"
      ]
     },
     "execution_count": 371,
     "metadata": {},
     "output_type": "execute_result"
    }
   ],
   "source": [
    "query_dict['main']"
   ]
  },
  {
   "cell_type": "code",
   "execution_count": 372,
   "metadata": {},
   "outputs": [
    {
     "data": {
      "text/plain": [
       "dict_keys(['a', 'b', 'c', 'd', 'e', 'main'])"
      ]
     },
     "execution_count": 372,
     "metadata": {},
     "output_type": "execute_result"
    }
   ],
   "source": [
    "query_dict['no alias'].keys()"
   ]
  },
  {
   "cell_type": "code",
   "execution_count": 392,
   "metadata": {},
   "outputs": [
    {
     "data": {
      "text/plain": [
       "'SELECT a.*,\\n       b.*,\\n       c.*,\\n       d.*\\nFROM\\nLEFT JOIN\\nLEFT JOIN\\nLEFT JOIN\\nLEFT JOIN b ON a.user_id = b.id\\nc ON a.anonymous_id = c.anon_id_ad\\nd ON a.anonymous_id = d.anon_id_event\\ne ON e.user_id = a.user_id'"
      ]
     },
     "execution_count": 392,
     "metadata": {},
     "output_type": "execute_result"
    }
   ],
   "source": [
    "query_dict['no alias']['main']"
   ]
  },
  {
   "cell_type": "code",
   "execution_count": 373,
   "metadata": {},
   "outputs": [
    {
     "data": {
      "text/plain": [
       "\"SELECT DISTINCT anonymous_id,                    user_id    FROM mapbox_customer_data.segment_identifies    WHERE dt >= '2018-07-01'      AND anonymous_id IS NOT NULL AND user_id IS NOT NULL \""
      ]
     },
     "execution_count": 373,
     "metadata": {},
     "output_type": "execute_result"
    }
   ],
   "source": [
    "query_dict['no alias']['a']"
   ]
  },
  {
   "cell_type": "code",
   "execution_count": 374,
   "metadata": {},
   "outputs": [
    {
     "data": {
      "text/plain": [
       "\"SELECT id,           email,           created    FROM mapbox_customer_data.accounts WHERE cast(dt AS DATE) = CURRENT_DATE - INTERVAL '1' DAY \""
      ]
     },
     "execution_count": 374,
     "metadata": {},
     "output_type": "execute_result"
    }
   ],
   "source": [
    "query_dict['no alias']['b']"
   ]
  },
  {
   "cell_type": "code",
   "execution_count": 375,
   "metadata": {},
   "outputs": [
    {
     "data": {
      "text/plain": [
       "\"SELECT anonymous_id AS anon_id_ad,           context_campaign_name,           min(TIMESTAMP) AS min_exposure    FROM mapbox_customer_data.segment_pages    WHERE dt >= '2018-07-01'      AND context_campaign_name IS NOT NULL    GROUP BY 1, 2\""
      ]
     },
     "execution_count": 375,
     "metadata": {},
     "output_type": "execute_result"
    }
   ],
   "source": [
    "query_dict['no alias']['c']"
   ]
  },
  {
   "cell_type": "code",
   "execution_count": 376,
   "metadata": {},
   "outputs": [
    {
     "data": {
      "text/plain": [
       "\"SELECT DISTINCT anonymous_id AS anon_id_event,                    original_timestamp,                    event,                    context_traits_email    FROM mapbox_customer_data.segment_tracks    WHERE dt >= '2018-07-01'      AND event LIKE 'submitted_%form' AND context_traits_email IS NOT NULL \""
      ]
     },
     "execution_count": 376,
     "metadata": {},
     "output_type": "execute_result"
    }
   ],
   "source": [
    "query_dict['no alias']['d']"
   ]
  },
  {
   "cell_type": "code",
   "execution_count": 378,
   "metadata": {},
   "outputs": [
    {
     "data": {
      "text/plain": [
       "{'sfdc_accounts': 'sfdc.accounts',\n",
       " 'sfdc_cases_oppty': {'no alias': {'dt_owner': 'SELECT DISTINCT dt FROM sfdc.owner AS sfdc_owner',\n",
       "   'main': 'SELECT MAX(dt)\\nFROM AS dt_owner ON sfdc_oppty.dt = sfdc_cases.dt'},\n",
       "  'sfdc_cases': 'SELECT dt FROM sfdc.cases',\n",
       "  'main': 'SELECT MAX(dt)\\nSELECT dt\\nLEFT JOIN\\nLEFT JOIN sfdc_cases ON sfdc_oppty.dt = sfdc_cases.dt'},\n",
       " 'main': \"SELECT sfdc_accounts.platform,\\n       sfdc_accounts.mobile_os,\\n       sfdc_accounts.service_metadata,\\n       sfdc_cases.account,\\n       sfdc_cases.num_requests,\\n       sfdc_cases.owner,\\n       sfdc_accounts.user_id\\nLEFT JOIN\\nWHERE sfdc_cases_oppty.dt > '2020-04-03'\\n  AND sfdc_cases_oppty.dt < '2020-05-04'\\nORDER BY 1\\nGROUP BY 3\\nLIMIT 20 AS sfdc_cases_oppty ON sfdc_cases_oppty.dt = sfdc_accounts.dt\"}"
      ]
     },
     "execution_count": 378,
     "metadata": {},
     "output_type": "execute_result"
    }
   ],
   "source": [
    "query_dict['no alias']['e']"
   ]
  },
  {
   "cell_type": "code",
   "execution_count": 380,
   "metadata": {},
   "outputs": [
    {
     "data": {
      "text/plain": [
       "\"SELECT sfdc_accounts.platform,\\n       sfdc_accounts.mobile_os,\\n       sfdc_accounts.service_metadata,\\n       sfdc_cases.account,\\n       sfdc_cases.num_requests,\\n       sfdc_cases.owner,\\n       sfdc_accounts.user_id\\nLEFT JOIN\\nWHERE sfdc_cases_oppty.dt > '2020-04-03'\\n  AND sfdc_cases_oppty.dt < '2020-05-04'\\nORDER BY 1\\nGROUP BY 3\\nLIMIT 20 AS sfdc_cases_oppty ON sfdc_cases_oppty.dt = sfdc_accounts.dt\""
      ]
     },
     "execution_count": 380,
     "metadata": {},
     "output_type": "execute_result"
    }
   ],
   "source": [
    "query_dict['no alias']['e']['main']"
   ]
  },
  {
   "cell_type": "code",
   "execution_count": 381,
   "metadata": {},
   "outputs": [
    {
     "data": {
      "text/plain": [
       "'sfdc.accounts'"
      ]
     },
     "execution_count": 381,
     "metadata": {},
     "output_type": "execute_result"
    }
   ],
   "source": [
    "query_dict['no alias']['e']['sfdc_accounts']"
   ]
  },
  {
   "cell_type": "code",
   "execution_count": 382,
   "metadata": {},
   "outputs": [
    {
     "data": {
      "text/plain": [
       "{'no alias': {'dt_owner': 'SELECT DISTINCT dt FROM sfdc.owner AS sfdc_owner',\n",
       "  'main': 'SELECT MAX(dt)\\nFROM AS dt_owner ON sfdc_oppty.dt = sfdc_cases.dt'},\n",
       " 'sfdc_cases': 'SELECT dt FROM sfdc.cases',\n",
       " 'main': 'SELECT MAX(dt)\\nSELECT dt\\nLEFT JOIN\\nLEFT JOIN sfdc_cases ON sfdc_oppty.dt = sfdc_cases.dt'}"
      ]
     },
     "execution_count": 382,
     "metadata": {},
     "output_type": "execute_result"
    }
   ],
   "source": [
    "query_dict['no alias']['e']['sfdc_cases_oppty']"
   ]
  },
  {
   "cell_type": "code",
   "execution_count": 384,
   "metadata": {},
   "outputs": [
    {
     "data": {
      "text/plain": [
       "'SELECT MAX(dt)\\nSELECT dt\\nLEFT JOIN\\nLEFT JOIN sfdc_cases ON sfdc_oppty.dt = sfdc_cases.dt'"
      ]
     },
     "execution_count": 384,
     "metadata": {},
     "output_type": "execute_result"
    }
   ],
   "source": [
    "query_dict['no alias']['e']['sfdc_cases_oppty']['main']"
   ]
  },
  {
   "cell_type": "code",
   "execution_count": 385,
   "metadata": {},
   "outputs": [
    {
     "data": {
      "text/plain": [
       "{'dt_owner': 'SELECT DISTINCT dt FROM sfdc.owner AS sfdc_owner',\n",
       " 'main': 'SELECT MAX(dt)\\nFROM AS dt_owner ON sfdc_oppty.dt = sfdc_cases.dt'}"
      ]
     },
     "execution_count": 385,
     "metadata": {},
     "output_type": "execute_result"
    }
   ],
   "source": [
    "query_dict['no alias']['e']['sfdc_cases_oppty']['no alias']"
   ]
  },
  {
   "cell_type": "code",
   "execution_count": 386,
   "metadata": {},
   "outputs": [
    {
     "data": {
      "text/plain": [
       "'SELECT dt FROM sfdc.cases'"
      ]
     },
     "execution_count": 386,
     "metadata": {},
     "output_type": "execute_result"
    }
   ],
   "source": [
    "query_dict['no alias']['e']['sfdc_cases_oppty']['sfdc_cases']"
   ]
  },
  {
   "cell_type": "code",
   "execution_count": 389,
   "metadata": {},
   "outputs": [
    {
     "data": {
      "text/plain": [
       "'SELECT DISTINCT dt FROM sfdc.owner AS sfdc_owner'"
      ]
     },
     "execution_count": 389,
     "metadata": {},
     "output_type": "execute_result"
    }
   ],
   "source": [
    "query_dict['no alias']['e']['sfdc_cases_oppty']['no alias']['dt_owner']"
   ]
  },
  {
   "cell_type": "code",
   "execution_count": 391,
   "metadata": {},
   "outputs": [
    {
     "data": {
      "text/plain": [
       "'SELECT MAX(dt)\\nFROM AS dt_owner ON sfdc_oppty.dt = sfdc_cases.dt'"
      ]
     },
     "execution_count": 391,
     "metadata": {},
     "output_type": "execute_result"
    }
   ],
   "source": [
    "query_dict['no alias']['e']['sfdc_cases_oppty']['no alias']['main']"
   ]
  },
  {
   "cell_type": "code",
   "execution_count": null,
   "metadata": {},
   "outputs": [],
   "source": []
  }
 ],
 "metadata": {
  "kernelspec": {
   "display_name": "Python 3",
   "language": "python",
   "name": "python3"
  },
  "language_info": {
   "codemirror_mode": {
    "name": "ipython",
    "version": 3
   },
   "file_extension": ".py",
   "mimetype": "text/x-python",
   "name": "python",
   "nbconvert_exporter": "python",
   "pygments_lexer": "ipython3",
   "version": "3.7.4"
  }
 },
 "nbformat": 4,
 "nbformat_minor": 2
}
