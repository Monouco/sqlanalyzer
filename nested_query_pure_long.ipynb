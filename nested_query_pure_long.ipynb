{
 "cells": [
  {
   "cell_type": "code",
   "execution_count": 8,
   "metadata": {},
   "outputs": [],
   "source": [
    "from sqlanalyzer import column_parser\n",
    "import pandas as pd\n",
    "import sqlparse\n",
    "import re"
   ]
  },
  {
   "cell_type": "code",
   "execution_count": 9,
   "metadata": {},
   "outputs": [],
   "source": [
    "from sqlanalyzer import column_parser\n",
    "import pandas as pd\n",
    "import sqlparse\n",
    "import re\n",
    "import json\n",
    "\n",
    "\n",
    "def get_joins_pos(query_list):\n",
    "\n",
    "    pos_delete, pos_where = [len(query_list)-1], len(query_list)\n",
    "    pos_join = []\n",
    "    for i, line in enumerate(query_list):\n",
    "        if line.startswith('ORDER') or line.startswith('GROUP'):\n",
    "            pos_delete.append(i)\n",
    "        if line.startswith('FROM') and len(line.split(' ')) > 1:\n",
    "            pos_join.append(i)\n",
    "        elif line.startswith('FROM') and len(line.split(' ')) == 1:\n",
    "            pos_join.append(i+1)\n",
    "        if line.startswith('WHERE'):\n",
    "            pos_where = i\n",
    "        if line.startswith('LEFT JOIN') or line.startswith('INNER JOIN') or line.startswith('FULL OUTER JOIN'):\n",
    "            pos_join.append(i+1)\n",
    "\n",
    "    if min(pos_delete) == len(query_list)-1:\n",
    "        pos_join.append(min(pos_delete))\n",
    "    else:\n",
    "        pass\n",
    "\n",
    "    return pos_join, pos_where\n",
    "\n",
    "\n",
    "def get_alias_pos(query_list, pos_join, pos_where):\n",
    "\n",
    "    pos_join_list = iter(pos_join)\n",
    "    next(pos_join_list)\n",
    "    alias_pos = []\n",
    "\n",
    "    if query_list[pos_join[0]].startswith('FROM'):\n",
    "        alias_pos.append(pos_join[0])\n",
    "\n",
    "    for i in range(len(pos_join)-1):\n",
    "        if i < len(pos_join)-2 and pos_join[i] < pos_where:\n",
    "            end_pos = next(pos_join_list)-1\n",
    "            alias_pos.append(end_pos-1)\n",
    "\n",
    "        elif pos_join[-1] >= pos_where:\n",
    "            end_pos = next(pos_join_list)-1\n",
    "            alias_pos.append(pos_where - 1)\n",
    "        \n",
    "        else:\n",
    "            end_pos = pos_join[-1]\n",
    "            alias_pos.append(pos_where-1)\n",
    "\n",
    "    alias_pos = sorted(list(set(alias_pos)))\n",
    "\n",
    "    return alias_pos\n",
    "\n",
    "\n",
    "def parse_sub_query(query_list, sub_query_pos):\n",
    "\n",
    "    sub_query = {}\n",
    "    keep = []\n",
    "    for _, sub_pos in enumerate(sub_query_pos):\n",
    "        alias = query_list[sub_pos[1]]\n",
    "        query = query_list[sub_pos[0]: sub_pos[1]]\n",
    "\n",
    "        try:\n",
    "            alias_list_rev = alias.split(' ')[::-1]\n",
    "            if alias_list_rev[0][-1] != ')':\n",
    "                alias_index = alias_list_rev.index('ON')\n",
    "                alias = alias_list_rev[alias_index+1]\n",
    "\n",
    "                if alias_list_rev[alias_index+2] == 'AS':\n",
    "                    keep.append(' '.join(alias_list_rev[:alias_index+3][::-1]))\n",
    "                    del alias_list_rev[:alias_index+3]\n",
    "\n",
    "                else:\n",
    "                    keep.append(' '.join(alias_list_rev[:alias_index+2][::-1]))\n",
    "                    del alias_list_rev[:alias_index+2]\n",
    "\n",
    "                query.append(' '.join(alias_list_rev[::-1]).rstrip(r'\\)').lstrip(' '))\n",
    "\n",
    "            else:\n",
    "                alias_list_rev[0] = alias_list_rev[0].rstrip(r'\\)')\n",
    "                alias = 'no alias'\n",
    "                query.append(' '.join(alias_list_rev[::-1]))\n",
    "\n",
    "        except:\n",
    "            query.append(' '.join(alias.split(' ')[:-1]).rstrip(r'\\)').lstrip(' '))\n",
    "            alias = alias.split(' ')[-1]\n",
    "\n",
    "        trans_query = ' '.join(query).lstrip(r' \\(').lstrip(' FROM')\n",
    "    \n",
    "        if trans_query == '':\n",
    "            sub_query = {}\n",
    "        else:\n",
    "            sub_query[alias] = trans_query\n",
    "        \n",
    "    return sub_query, keep\n",
    "\n",
    "\n",
    "def delevel(query_list):\n",
    "\n",
    "    sub_query = {}\n",
    "    pos_join, pos_where = get_joins_pos(query_list)\n",
    "    alias_pos = get_alias_pos(query_list, pos_join, pos_where)\n",
    "    sub_query_pos = list(zip(pos_join, alias_pos))\n",
    "    sub_query, keep = parse_sub_query(query_list, sub_query_pos)\n",
    "    main_query_pos = main_query(query_list, sub_query_pos)\n",
    "    if main_query_pos != []:\n",
    "        sub_query['main'] = '\\n'.join([query_list[p] for p in main_query_pos])\n",
    "    sub_query['main'] = sub_query['main'] + ' ' + '\\n'.join(keep)\n",
    "    \n",
    "    return sub_query\n",
    "\n",
    "\n",
    "def has_child(formatted_query):\n",
    "    \n",
    "    count = 0\n",
    "    if len(delevel(formatted_query.split('\\n')).keys()) > 1:\n",
    "        for _,v in delevel(formatted_query.split('\\n')).items():\n",
    "            if v != {}: count += 1\n",
    "            \n",
    "    return count != 0\n",
    "\n",
    "\n",
    "def within(num, rng):\n",
    "    if num >= min(rng) and num <= max(rng): return 1\n",
    "    else: return 0\n",
    "\n",
    "    \n",
    "def main_query(query_list, sub_query_pos):\n",
    "    l = []\n",
    "    for i in range(len(query_list)): \n",
    "        count = 0\n",
    "        for pair in sorted(sub_query_pos):\n",
    "            count += within(i, pair)\n",
    "        if count == 0:\n",
    "            l.append(i)\n",
    "    return l\n",
    "        \n",
    "    \n",
    "def clean_dict(query_dict):\n",
    "    for k,v in query_dict.items(): \n",
    "        if isinstance(v, dict) and len(v.keys()) == 1 and 'main' in v.keys():\n",
    "            query_dict[k] = v['main']\n",
    "    return query_dict\n"
   ]
  },
  {
   "cell_type": "code",
   "execution_count": 365,
   "metadata": {},
   "outputs": [],
   "source": [
    "query = \"\"\"SELECT *\n",
    "   FROM\n",
    "     (SELECT a.*,\n",
    "             b.*,\n",
    "             c.*,\n",
    "             d.*\n",
    "      FROM\n",
    "        (SELECT DISTINCT anonymous_id,\n",
    "                         user_id\n",
    "         FROM mapbox_customer_data.segment_identifies\n",
    "         WHERE dt >= '2018-07-01'\n",
    "           AND anonymous_id IS NOT NULL\n",
    "           AND user_id IS NOT NULL ) a\n",
    "      LEFT JOIN\n",
    "        (SELECT id,\n",
    "                email,\n",
    "                created\n",
    "         FROM mapbox_customer_data.accounts\n",
    "         WHERE cast(dt AS DATE) = CURRENT_DATE - INTERVAL '1' DAY ) b ON a.user_id = b.id\n",
    "      LEFT JOIN\n",
    "        (SELECT anonymous_id AS anon_id_ad,\n",
    "                context_campaign_name,\n",
    "                min(TIMESTAMP) AS min_exposure\n",
    "         FROM mapbox_customer_data.segment_pages\n",
    "         WHERE dt >= '2018-07-01'\n",
    "           AND context_campaign_name IS NOT NULL\n",
    "         GROUP BY 1,\n",
    "                  2) c ON a.anonymous_id = c.anon_id_ad\n",
    "      LEFT JOIN\n",
    "        (SELECT DISTINCT anonymous_id AS anon_id_event,\n",
    "                         original_timestamp,\n",
    "                         event,\n",
    "                         context_traits_email\n",
    "         FROM mapbox_customer_data.segment_tracks\n",
    "         WHERE dt >= '2018-07-01'\n",
    "           AND event LIKE 'submitted_%form'\n",
    "           AND context_traits_email IS NOT NULL ) d ON a.anonymous_id = d.anon_id_event\n",
    "    LEFT JOIN\n",
    "        (SELECT sfdc_accounts.platform, sfdc_accounts.mobile_os, sfdc_accounts.service_metadata,\n",
    "sfdc_cases.account, sfdc_cases.num_requests, sfdc_cases.owner, sfdc_accounts.user_id\n",
    "FROM sfdc.accounts sfdc_accounts\n",
    "LEFT JOIN \n",
    "(SELECT MAX(dt) FROM \n",
    "    (SELECT dt \n",
    "    FROM sfdc.oppty \n",
    "    LEFT JOIN (SELECT MAX(dt) FROM (SELECT DISTINCT dt FROM sfdc.owner AS sfdc_owner) AS dt_owner ON sfdc_oppty.dt = sfdc_cases.dt)\n",
    "    LEFT JOIN (SELECT dt FROM sfdc.cases) sfdc_cases ON sfdc_oppty.dt = sfdc_cases.dt) )\n",
    "AS sfdc_cases_oppty ON sfdc_cases_oppty.dt = sfdc_accounts.dt\n",
    "WHERE sfdc_cases_oppty.dt > '2020-04-03' AND sfdc_cases_oppty.dt < '2020-05-04' ORDER BY 1 GROUP BY 3 LIMIT 20\n",
    "        ) e ON e.user_id = a.user_id\n",
    "        )\n",
    "   WHERE context_campaign_name IS NOT NULL \n",
    "\"\"\""
   ]
  },
  {
   "cell_type": "code",
   "execution_count": 10,
   "metadata": {},
   "outputs": [],
   "source": [
    "query = open('./sqlanalyzer/test_query.sql').read()\n",
    "formatter = column_parser.Parser(query)\n",
    "formatted_query = formatter.format_query(query)\n",
    "query_list_0 = formatted_query.split('\\n')\n",
    "query_dict = {}\n",
    "sub_query = delevel(query_list_0)\n",
    "query_dict = sub_query"
   ]
  },
  {
   "cell_type": "code",
   "execution_count": 11,
   "metadata": {
    "scrolled": false
   },
   "outputs": [
    {
     "name": "stdout",
     "output_type": "stream",
     "text": [
      "WITH mapbox_accounts0 AS\n",
      "  (SELECT id ,\n",
      "          email AS email_accounts ,\n",
      "          accountlevel\n",
      "   FROM mapbox_customer_data.accounts\n",
      "   WHERE dt = '{run_date}'\n",
      "     AND COALESCE(LOWER(email), 'NULL') NOT LIKE ('%@mapbox.com')\n",
      "     AND COALESCE(accountlevel, 'NULL') NOT IN ('staff',\n",
      "                                                'mapbox-no-bill-1')\n",
      "     AND id NOT IN ('streets-review-production') ),\n",
      "     mbx_verticals AS\n",
      "  (SELECT mapbox_account_id ,\n",
      "          vertical\n",
      "   FROM\n",
      "     (SELECT * ,\n",
      "             max(dt) OVER (PARTITION BY 'dummy') AS max_dt\n",
      "      FROM analytics.mbx_account_verticals)\n",
      "   WHERE dt = max_dt ),\n",
      "     mbx_sfdc_accounts AS\n",
      "  (SELECT a.* ,\n",
      "          b.name AS sfdc_account_name\n",
      "   FROM sfdc.mapbox_accounts a\n",
      "   LEFT JOIN sfdc.accounts b ON a.dt = '{run_date}'\n",
      "   AND b.dt = '{run_date}'\n",
      "   AND a.salesforce_account_id = b.id\n",
      "   WHERE a.dt = '{run_date}' ),\n",
      "     enterprise_exception AS\n",
      "  (SELECT *\n",
      "   FROM (\n",
      "         VALUES ('0013600000QmuNtAAJ') ,('00136000005AxApAAK') ,('00136000005AxMbAAK') ,('0013600001KDnawAAD') ,('0011R000020WJXyQAO') ,('00136000005AxCgAAK') ,('00136000005AxElAAK') ,('0013600001KDUFDAA5') ,('00136000005AxLLAA0') ,('00136000005Ax5QAAS') ,('00136000005AxLgAAK') ) AS v (sfdc_acct_id)),\n",
      "     apa_deals0 AS\n",
      "  (SELECT mbx_acct_id ,\n",
      "          prd_start_date ,\n",
      "          prd_end_date\n",
      "   FROM\n",
      "     (SELECT * ,\n",
      "             max(dt) OVER (PARTITION BY 'dummy') AS max_dt\n",
      "      FROM analytics.apa_deals)\n",
      "   WHERE dt = max_dt ),\n",
      "     apa_deals AS\n",
      "  (SELECT DISTINCT rcal.vdate ,\n",
      "                   apa.mbx_acct_id\n",
      "   FROM apa_deals0 apa\n",
      "   RIGHT JOIN analytics.ref_calendar rcal ON rcal.vdate BETWEEN apa.prd_start_date AND apa.prd_end_date),\n",
      "     paygo_free AS\n",
      "  (SELECT DISTINCT DATE(DATE_TRUNC('month', inv.date)) AS date_month ,\n",
      "                   mbxacct.id AS mbx_acct_id\n",
      "   FROM payments.stripe_invoices inv\n",
      "   INNER JOIN payments.stripe_discounts disc ON inv.discount_id = disc.id\n",
      "   INNER JOIN payments.stripe_coupons coup ON disc.coupon_id = coup.id\n",
      "   AND coup.duration IN ('forever',\n",
      "                         'repeating')\n",
      "   AND coup.percent_off = 100\n",
      "   INNER JOIN mapbox_customer_data.accounts mbxacct ON inv.customer_id = mbxacct.customerid\n",
      "   AND mbxacct.dt = '{run_date}'\n",
      "   WHERE inv.date >= DATE('2019-05-01') ),\n",
      "     cohort_mapping AS\n",
      "  (SELECT id ,\n",
      "          email_accounts ,\n",
      "          sfdc_account_id ,\n",
      "          vertical ,\n",
      "          revenue_group ,\n",
      "          CASE\n",
      "              WHEN revenue_group IN ('enterprise exception') THEN 'Cohort 1'\n",
      "              WHEN revenue_group IN ('enterprise longtail',\n",
      "                                     'spp') THEN 'Cohort 2'\n",
      "              ELSE 'Cohort 3'\n",
      "          END AS cohort\n",
      "   FROM\n",
      "     (SELECT a.id ,\n",
      "             a.email_accounts ,\n",
      "             mbx_sfdc.salesforce_account_id AS sfdc_account_id ,\n",
      "             COALESCE(b.vertical, 'none') AS vertical ,\n",
      "             CASE\n",
      "                 WHEN entexp.sfdc_acct_id IS NOT NULL THEN 'enterprise exception'\n",
      "                 WHEN spp.mbx_acct_id IS NOT NULL THEN 'spp'\n",
      "                 WHEN a.accountlevel = 'enterprise' THEN 'enterprise longtail'\n",
      "                 WHEN pfree.mbx_acct_id IS NOT NULL THEN 'paygo_free'\n",
      "                 ELSE 'paygo'\n",
      "             END AS revenue_group\n",
      "      FROM mapbox_accounts0 a\n",
      "      LEFT JOIN mbx_verticals b ON a.id = b.mapbox_account_id\n",
      "      LEFT JOIN mbx_sfdc_accounts mbx_sfdc ON a.id = mbx_sfdc.mapbox_account_id\n",
      "      LEFT JOIN enterprise_exception entexp ON mbx_sfdc.salesforce_account_id = entexp.sfdc_acct_id\n",
      "      LEFT JOIN apa_deals spp ON a.id = spp.mbx_acct_id\n",
      "      AND spp.vdate = DATE('{run_date}')\n",
      "      LEFT JOIN paygo_free pfree ON a.id = pfree.mbx_acct_id\n",
      "      AND pfree.date_month BETWEEN ADD_MONTHS(DATE('{run_date}'), -1) AND DATE_SUB(DATE('{run_date}'), 1))),\n",
      "     service_mapping AS\n",
      "  (SELECT DISTINCT sku_id AS service ,\n",
      "                   service_org\n",
      "   FROM\n",
      "     (SELECT DISTINCT sku_id ,\n",
      "                      service_org ,\n",
      "                      dt ,\n",
      "                      max(dt) OVER (PARTITION BY 'dummy') AS max_dt\n",
      "      FROM analytics.service_endpoint_mapping\n",
      "      WHERE cast(dt AS DATE) >= CURRENT_DATE - INTERVAL '4' DAY )\n",
      "   WHERE dt = max_dt ),\n",
      "     weekly_data0 AS\n",
      "  (SELECT (date_trunc('WEEK',(cast(a.dt AS DATE) + INTERVAL '1' DAY)) - INTERVAL '1' DAY) AS dt_week ,\n",
      "          a.log_source ,\n",
      "          a.platform ,\n",
      "          a.service ,\n",
      "          COALESCE(c.service_org, 'other') AS service_org ,\n",
      "          CASE\n",
      "              WHEN a.status_code IN (301,\n",
      "                                     302,\n",
      "                                     307)\n",
      "                   OR a.status_code >= 400 THEN 'non_billable'\n",
      "              ELSE 'billable'\n",
      "          END AS status_code ,\n",
      "          CASE\n",
      "              WHEN a.request_type IS NULL THEN 'non_billable'\n",
      "              ELSE a.request_type\n",
      "          END AS request_type ,\n",
      "          b.cohort ,\n",
      "          'all_cohort' AS dummy ,\n",
      "          b.vertical ,\n",
      "          a.account ,\n",
      "          COALESCE(b.sfdc_account_id, a.account) AS sfdc_account_id ,\n",
      "          sum(a.num_requests) AS num_requests\n",
      "   FROM analytics.api_requests a\n",
      "   INNER JOIN cohort_mapping b ON a.account = b.id\n",
      "   LEFT JOIN service_mapping c ON a.service = c.service\n",
      "   WHERE cast(a.dt AS DATE) > cast('{run_date}' AS DATE) - INTERVAL '14' DAY\n",
      "     AND cast(a.dt AS DATE) <= cast('{run_date}' AS DATE)\n",
      "     AND a.account != 'unknown'\n",
      "   GROUP BY 1,\n",
      "            2,\n",
      "            3,\n",
      "            4,\n",
      "            5,\n",
      "            6,\n",
      "            7,\n",
      "            8,\n",
      "            9,\n",
      "            10,\n",
      "            11,\n",
      "            12\n",
      "   UNION ALL SELECT (date_trunc('WEEK',(cast(a.dt AS DATE) + INTERVAL '1' DAY)) - INTERVAL '1' DAY) AS dt_week ,\n",
      "                    a.log_source ,\n",
      "                    a.platform ,\n",
      "                    a.service ,\n",
      "                    COALESCE(c.service_org, 'other') AS service_org ,\n",
      "                    CASE\n",
      "                        WHEN a.status_code IN (301,\n",
      "                                               302,\n",
      "                                               307)\n",
      "                             OR a.status_code >= 400 THEN 'non_billable'\n",
      "                        ELSE 'billable'\n",
      "                    END AS status_code ,\n",
      "                    CASE\n",
      "                        WHEN a.request_type IS NULL THEN 'non_billable'\n",
      "                        ELSE a.request_type\n",
      "                    END AS request_type ,\n",
      "                    'Cohort 2, 3' AS cohort ,\n",
      "                    'cohort_2_3' AS dummy ,\n",
      "                    b.vertical ,\n",
      "                    a.account ,\n",
      "                    COALESCE(b.sfdc_account_id, a.account) AS sfdc_account_id ,\n",
      "                    sum(a.num_requests) AS num_requests\n",
      "   FROM analytics.api_requests a\n",
      "   INNER JOIN cohort_mapping b ON a.account = b.id\n",
      "   AND b.cohort IN ('Cohort 2',\n",
      "                    'Cohort 3')\n",
      "   LEFT JOIN service_mapping c ON a.service = c.service\n",
      "   WHERE cast(a.dt AS DATE) > cast('{run_date}' AS DATE) - INTERVAL '14' DAY\n",
      "     AND cast(a.dt AS DATE) <= cast('{run_date}' AS DATE)\n",
      "     AND a.account != 'unknown'\n",
      "     AND b.cohort IN ('Cohort 2',\n",
      "                      'Cohort 3')\n",
      "   GROUP BY 1,\n",
      "            2,\n",
      "            3,\n",
      "            4,\n",
      "            5,\n",
      "            6,\n",
      "            7,\n",
      "            8,\n",
      "            9,\n",
      "            10,\n",
      "            11,\n",
      "            12),\n",
      "     cubed_data0_pre AS\n",
      "  (SELECT dt_week ,\n",
      "          log_source ,\n",
      "          platform ,\n",
      "          service ,\n",
      "          service_org ,\n",
      "          status_code ,\n",
      "          request_type ,\n",
      "          cohort ,\n",
      "          vertical ,\n",
      "          account ,\n",
      "          sfdc_account_id ,\n",
      "          num_requests\n",
      "   FROM\n",
      "     (SELECT dt_week ,\n",
      "             log_source ,\n",
      "             platform ,\n",
      "             service ,\n",
      "             service_org ,\n",
      "             status_code ,\n",
      "             request_type ,\n",
      "             cohort ,\n",
      "             dummy ,\n",
      "             vertical ,\n",
      "             account ,\n",
      "             sfdc_account_id ,\n",
      "             sum(num_requests) AS num_requests\n",
      "      FROM weekly_data0\n",
      "      GROUP BY dt_week,\n",
      "               log_source,\n",
      "               platform,\n",
      "               service,\n",
      "               service_org,\n",
      "               status_code,\n",
      "               request_type,\n",
      "               account,\n",
      "               cohort,\n",
      "               dummy,\n",
      "               vertical,\n",
      "               sfdc_account_id WITH CUBE)\n",
      "   WHERE dummy IS NOT NULL\n",
      "     AND NOT (cohort IS NULL\n",
      "              AND dummy != 'all_cohort')\n",
      "     AND NOT (service IS NOT NULL\n",
      "              AND service_org IS NULL)\n",
      "     AND sfdc_account_id IS NOT NULL\n",
      "     AND dt_week IS NOT NULL ),\n",
      "     cubed_data AS\n",
      "  (SELECT a.dt_week ,\n",
      "          COALESCE(a.log_source, '_all') AS log_source ,\n",
      "          COALESCE(a.platform, '_all') AS platform ,\n",
      "          COALESCE(a.service, '_all') AS service ,\n",
      "          COALESCE(a.service_org, '_all') AS service_org ,\n",
      "          COALESCE(a.status_code, '_all') AS status_code ,\n",
      "          COALESCE(a.request_type, '_all') AS request_type ,\n",
      "          COALESCE(a.cohort, '_all') AS cohort ,\n",
      "          COALESCE(a.vertical, '_all') AS vertical ,\n",
      "          COALESCE(a.account, '_all') AS account ,\n",
      "          a.sfdc_account_id AS sfdc_account_id ,\n",
      "          a.num_requests\n",
      "   FROM cubed_data0_pre a),\n",
      "     this_week AS\n",
      "  (SELECT dt_week ,\n",
      "          log_source ,\n",
      "          platform ,\n",
      "          service ,\n",
      "          service_org ,\n",
      "          status_code ,\n",
      "          request_type ,\n",
      "          cohort ,\n",
      "          vertical ,\n",
      "          account AS account_a ,\n",
      "          sfdc_account_id ,\n",
      "          num_requests\n",
      "   FROM cubed_data),\n",
      "     last_week AS\n",
      "  (SELECT cast(dt_week AS DATE) + INTERVAL '7' DAY AS dt_week ,\n",
      "                                                      log_source ,\n",
      "                                                      platform ,\n",
      "                                                      service ,\n",
      "                                                      service_org ,\n",
      "                                                      status_code ,\n",
      "                                                      request_type ,\n",
      "                                                      cohort ,\n",
      "                                                      vertical ,\n",
      "                                                      account AS account_b ,\n",
      "                                                      sfdc_account_id ,\n",
      "                                                      num_requests\n",
      "   FROM cubed_data),\n",
      "     total_join AS\n",
      "  (SELECT coalesce(b.account_b, a.account_a) AS account ,\n",
      "          coalesce(b.sfdc_account_id, a.sfdc_account_id) AS sfdc_account_id ,\n",
      "          coalesce(b.cohort, a.cohort) AS cohort ,\n",
      "          coalesce(b.vertical, a.vertical) AS vertical ,\n",
      "          coalesce(cast(b.dt_week AS DATE), cast(a.dt_week AS DATE)) AS dt_week ,\n",
      "          coalesce(b.service, a.service) AS service ,\n",
      "          coalesce(b.service_org, a.service_org) AS service_org ,\n",
      "          coalesce(b.log_source, a.log_source) AS log_source ,\n",
      "          coalesce(b.platform, a.platform) AS platform ,\n",
      "          coalesce(b.status_code, a.status_code) AS status_code ,\n",
      "          coalesce(b.request_type, a.request_type) AS request_type ,\n",
      "          coalesce(a.num_requests, 0) AS this_week ,\n",
      "          coalesce(b.num_requests, 0) AS last_week ,\n",
      "          COALESCE(a.num_requests, 0) - coalesce(b.num_requests, 0) AS diff\n",
      "   FROM this_week a\n",
      "   LEFT JOIN last_week b ON a.account_a = b.account_b\n",
      "   AND a.sfdc_account_id = b.sfdc_account_id\n",
      "   AND a.cohort = b.cohort\n",
      "   AND a.vertical = b.vertical\n",
      "   AND a.service = b.service\n",
      "   AND a.service_org = b.service_org\n",
      "   AND a.log_source = b.log_source\n",
      "   AND a.platform = b.platform\n",
      "   AND a.request_type = b.request_type\n",
      "   AND a.status_code = b.status_code\n",
      "   AND cast(a.dt_week AS DATE) = cast(b.dt_week AS DATE)),\n",
      "     winners_pre AS\n",
      "  (SELECT * ,\n",
      "          row_number() OVER (PARTITION BY dt_week,\n",
      "                                          log_source,\n",
      "                                          service,\n",
      "                                          service_org,\n",
      "                                          platform,\n",
      "                                          request_type,\n",
      "                                          status_code,\n",
      "                                          cohort,\n",
      "                                          vertical\n",
      "                             ORDER BY diff DESC) AS rank\n",
      "   FROM total_join\n",
      "   WHERE account = '_all'\n",
      "     AND cast(dt_week AS DATE) + INTERVAL '6' DAY = cast('{run_date}' AS DATE)\n",
      "     AND diff > 0\n",
      "     AND account != 'unknown'\n",
      "   UNION ALL SELECT * ,\n",
      "                    row_number() OVER (PARTITION BY dt_week,\n",
      "                                                    log_source,\n",
      "                                                    service,\n",
      "                                                    service_org,\n",
      "                                                    platform,\n",
      "                                                    request_type,\n",
      "                                                    status_code,\n",
      "                                                    cohort,\n",
      "                                                    vertical\n",
      "                                       ORDER BY diff DESC) AS rank\n",
      "   FROM total_join\n",
      "   WHERE account != '_all'\n",
      "     AND cast(dt_week AS DATE) + INTERVAL '6' DAY = cast('{run_date}' AS DATE)\n",
      "     AND diff > 0\n",
      "     AND account != 'unknown' ),\n",
      "     winners AS\n",
      "  (SELECT 'Winners' AS category ,\n",
      "          log_source ,\n",
      "          service ,\n",
      "          service_org ,\n",
      "          account ,\n",
      "          sfdc_account_id ,\n",
      "          cohort ,\n",
      "          vertical ,\n",
      "          platform ,\n",
      "          status_code ,\n",
      "          request_type ,\n",
      "          cast(dt_week AS DATE) + INTERVAL '6' DAY AS dt_week ,\n",
      "                                                      this_week ,\n",
      "                                                      last_week ,\n",
      "                                                      diff ,\n",
      "                                                      rank\n",
      "   FROM winners_pre\n",
      "   WHERE rank <= 50\n",
      "     AND diff > 0\n",
      "     AND account != 'unknown' ),\n",
      "     losers_pre AS\n",
      "  (SELECT * ,\n",
      "          row_number() OVER (PARTITION BY dt_week,\n",
      "                                          log_source,\n",
      "                                          service,\n",
      "                                          service_org,\n",
      "                                          platform,\n",
      "                                          request_type,\n",
      "                                          status_code,\n",
      "                                          cohort,\n",
      "                                          vertical\n",
      "                             ORDER BY diff ASC) AS rank\n",
      "   FROM total_join\n",
      "   WHERE account = '_all'\n",
      "     AND cast(dt_week AS DATE) + INTERVAL '6' DAY = cast('{run_date}' AS DATE)\n",
      "     AND diff < 0\n",
      "     AND account != 'unknown'\n",
      "   UNION ALL SELECT * ,\n",
      "                    row_number() OVER (PARTITION BY dt_week,\n",
      "                                                    log_source,\n",
      "                                                    service,\n",
      "                                                    service_org,\n",
      "                                                    platform,\n",
      "                                                    request_type,\n",
      "                                                    status_code,\n",
      "                                                    cohort,\n",
      "                                                    vertical\n",
      "                                       ORDER BY diff ASC) AS rank\n",
      "   FROM total_join\n",
      "   WHERE account != '_all'\n",
      "     AND cast(dt_week AS DATE) + INTERVAL '6' DAY = cast('{run_date}' AS DATE)\n",
      "     AND diff < 0\n",
      "     AND account != 'unknown' ),\n",
      "     losers AS\n",
      "  (SELECT 'Losers' AS category ,\n",
      "          log_source ,\n",
      "          service ,\n",
      "          service_org ,\n",
      "          account ,\n",
      "          sfdc_account_id ,\n",
      "          cohort ,\n",
      "          vertical ,\n",
      "          platform ,\n",
      "          status_code ,\n",
      "          request_type ,\n",
      "          cast(dt_week AS DATE) + INTERVAL '6' DAY AS dt_week ,\n",
      "                                                      this_week ,\n",
      "                                                      last_week ,\n",
      "                                                      diff ,\n",
      "                                                      rank\n",
      "   FROM losers_pre\n",
      "   WHERE rank <= 50\n",
      "     AND diff < 0\n",
      "     AND account != 'unknown' ),\n",
      "     final_winners_losers AS\n",
      "  (SELECT category ,\n",
      "          log_source ,\n",
      "          service ,\n",
      "          service_org ,\n",
      "          account ,\n",
      "          sfdc_account_id ,\n",
      "          cohort ,\n",
      "          vertical ,\n",
      "          platform ,\n",
      "          status_code ,\n",
      "          request_type ,\n",
      "          this_week ,\n",
      "          last_week ,\n",
      "          diff ,\n",
      "          rank\n",
      "   FROM losers\n",
      "   WHERE cast(dt_week AS DATE) = cast('{run_date}' AS DATE)\n",
      "   UNION ALL SELECT category ,\n",
      "                    log_source ,\n",
      "                    service ,\n",
      "                    service_org ,\n",
      "                    account ,\n",
      "                    sfdc_account_id ,\n",
      "                    cohort ,\n",
      "                    vertical ,\n",
      "                    platform ,\n",
      "                    status_code ,\n",
      "                    request_type ,\n",
      "                    this_week ,\n",
      "                    last_week ,\n",
      "                    diff ,\n",
      "                    rank\n",
      "   FROM winners\n",
      "   WHERE cast(dt_week AS DATE) = cast('{run_date}' AS DATE) )\n",
      "SELECT *\n",
      "FROM final_winners_losers\n"
     ]
    }
   ],
   "source": [
    "print(formatted_query)"
   ]
  },
  {
   "cell_type": "code",
   "execution_count": 342,
   "metadata": {},
   "outputs": [
    {
     "data": {
      "text/plain": [
       "\"SELECT a.*,           b.*,           c.*,           d.*    FROM      (SELECT DISTINCT anonymous_id,                       user_id       FROM mapbox_customer_data.segment_identifies       WHERE dt >= '2018-07-01'         AND anonymous_id IS NOT NULL         AND user_id IS NOT NULL ) a    LEFT JOIN      (SELECT id,              email,              created       FROM mapbox_customer_data.accounts       WHERE cast(dt AS DATE) = CURRENT_DATE - INTERVAL '1' DAY ) b ON a.user_id = b.id    LEFT JOIN      (SELECT anonymous_id AS anon_id_ad,              context_campaign_name,              min(TIMESTAMP) AS min_exposure       FROM mapbox_customer_data.segment_pages       WHERE dt >= '2018-07-01'         AND context_campaign_name IS NOT NULL       GROUP BY 1,                2) c ON a.anonymous_id = c.anon_id_ad    LEFT JOIN      (SELECT DISTINCT anonymous_id AS anon_id_event,                       original_timestamp,                       event,                       context_traits_email       FROM mapbox_customer_data.segment_tracks       WHERE dt >= '2018-07-01'         AND event LIKE 'submitted_%form'         AND context_traits_email IS NOT NULL ) d ON a.anonymous_id = d.anon_id_event    LEFT JOIN      (SELECT sfdc_accounts.platform,              sfdc_accounts.mobile_os,              sfdc_accounts.service_metadata,              sfdc_cases.account,              sfdc_cases.num_requests,              sfdc_cases.owner,              sfdc_accounts.user_id       FROM sfdc.accounts sfdc_accounts       LEFT JOIN         (SELECT MAX(dt)          FROM            (SELECT dt             FROM sfdc.oppty             LEFT JOIN               (SELECT MAX(dt)                FROM                  (SELECT DISTINCT dt                   FROM sfdc.owner AS sfdc_owner) AS dt_owner ON sfdc_oppty.dt = sfdc_cases.dt)             LEFT JOIN               (SELECT dt                FROM sfdc.cases) sfdc_cases ON sfdc_oppty.dt = sfdc_cases.dt)) AS sfdc_cases_oppty ON sfdc_cases_oppty.dt = sfdc_accounts.dt       WHERE sfdc_cases_oppty.dt > '2020-04-03'         AND sfdc_cases_oppty.dt < '2020-05-04'       ORDER BY 1       GROUP BY 3       LIMIT 20) e ON e.user_id = a.user_id\""
      ]
     },
     "execution_count": 342,
     "metadata": {},
     "output_type": "execute_result"
    }
   ],
   "source": [
    "query_dict['no alias']"
   ]
  },
  {
   "cell_type": "code",
   "execution_count": null,
   "metadata": {},
   "outputs": [],
   "source": []
  },
  {
   "cell_type": "code",
   "execution_count": null,
   "metadata": {},
   "outputs": [],
   "source": []
  },
  {
   "cell_type": "code",
   "execution_count": null,
   "metadata": {},
   "outputs": [],
   "source": []
  },
  {
   "cell_type": "code",
   "execution_count": null,
   "metadata": {},
   "outputs": [],
   "source": []
  },
  {
   "cell_type": "markdown",
   "metadata": {},
   "source": [
    "## delevel_query"
   ]
  },
  {
   "cell_type": "markdown",
   "metadata": {},
   "source": [
    "## level 0 -- level 1 -- level 2 -- level 3 -- level 4 -- level 5"
   ]
  },
  {
   "cell_type": "code",
   "execution_count": 366,
   "metadata": {
    "scrolled": false
   },
   "outputs": [],
   "source": [
    "formatter = column_parser.Parser(query)\n",
    "formatted_query = formatter.format_query(query)\n",
    "query_list_0 = formatted_query.split('\\n')\n",
    "query_dict = {}\n",
    "sub_query = delevel(query_list_0)\n",
    "query_dict = sub_query\n",
    "\n",
    "for alias, query in sub_query.items():\n",
    "\n",
    "    formatter = column_parser.Parser(query)\n",
    "    formatted_query = formatter.format_query(query)\n",
    "    query_list = formatted_query.split('\\n')\n",
    "\n",
    "    if has_child(formatted_query) and alias != 'main':\n",
    "        sub_query_dict = delevel(query_list)\n",
    "        query_dict[alias] = sub_query_dict\n",
    "        query_dict = clean_dict(query_dict)\n",
    "\n",
    "        for alias2, query2 in sub_query_dict.items():\n",
    "            formatter2 = column_parser.Parser(query2)\n",
    "            formatted_query2 = formatter2.format_query(query2)\n",
    "            query_list2 = formatted_query2.split('\\n')\n",
    "            \n",
    "            if has_child(formatted_query2) and alias2 != 'main':\n",
    "                sub_query_dict2 = delevel(query_list2)\n",
    "                sub_query_dict[alias2] = sub_query_dict2\n",
    "                \n",
    "                \n",
    "                for alias3, query3 in sub_query_dict2.items():\n",
    "                    formatter3 = column_parser.Parser(query3)\n",
    "                    formatted_query3 = formatter3.format_query(query3)\n",
    "                    query_list3 = formatted_query3.split('\\n')\n",
    "                    \n",
    "                    if has_child(formatted_query3) and alias3 != 'main':\n",
    "                        sub_query_dict3 = delevel(query_list3)\n",
    "                        sub_query_dict2[alias3] = sub_query_dict3\n",
    "                        \n",
    "                        for alias4, query4 in sub_query_dict3.items():\n",
    "                            formatter4 = column_parser.Parser(query4)\n",
    "                            formatted_query4 = formatter4.format_query(query4)\n",
    "                            query_list4 = formatted_query4.split('\\n')\n",
    "                            \n",
    "                            if has_child(formatted_query4) and alias4 != 'main':\n",
    "                                sub_query_dict4 = delevel(query_list4)\n",
    "                                sub_query_dict3[alias4] = sub_query_dict4\n",
    "                            else:\n",
    "                                pass\n",
    "                        query_dict[alias][alias2][alias3] = sub_query_dict3\n",
    "                        query_dict = clean_dict(query_dict)\n",
    "                    else:\n",
    "                        pass\n",
    "                    query_dict[alias][alias2] = sub_query_dict2\n",
    "                    query_dict = clean_dict(query_dict)\n",
    "            else:\n",
    "                pass\n",
    "            query_dict[alias] = sub_query_dict\n",
    "            query_dict = clean_dict(query_dict)\n",
    "    else:\n",
    "        pass\n"
   ]
  },
  {
   "cell_type": "code",
   "execution_count": 394,
   "metadata": {},
   "outputs": [
    {
     "data": {
      "text/plain": [
       "{'no alias': {'a': \"SELECT DISTINCT anonymous_id,                    user_id    FROM mapbox_customer_data.segment_identifies    WHERE dt >= '2018-07-01'      AND anonymous_id IS NOT NULL AND user_id IS NOT NULL \",\n",
       "  'b': \"SELECT id,           email,           created    FROM mapbox_customer_data.accounts WHERE cast(dt AS DATE) = CURRENT_DATE - INTERVAL '1' DAY \",\n",
       "  'c': \"SELECT anonymous_id AS anon_id_ad,           context_campaign_name,           min(TIMESTAMP) AS min_exposure    FROM mapbox_customer_data.segment_pages    WHERE dt >= '2018-07-01'      AND context_campaign_name IS NOT NULL    GROUP BY 1, 2\",\n",
       "  'd': \"SELECT DISTINCT anonymous_id AS anon_id_event,                    original_timestamp,                    event,                    context_traits_email    FROM mapbox_customer_data.segment_tracks    WHERE dt >= '2018-07-01'      AND event LIKE 'submitted_%form' AND context_traits_email IS NOT NULL \",\n",
       "  'e': {'sfdc_accounts': 'sfdc.accounts',\n",
       "   'sfdc_cases_oppty': {'no alias': {'dt_owner': 'SELECT DISTINCT dt FROM sfdc.owner AS sfdc_owner',\n",
       "     'main': 'SELECT MAX(dt)\\nFROM AS dt_owner ON sfdc_oppty.dt = sfdc_cases.dt'},\n",
       "    'sfdc_cases': 'SELECT dt FROM sfdc.cases',\n",
       "    'main': 'SELECT MAX(dt)\\nSELECT dt\\nLEFT JOIN\\nLEFT JOIN sfdc_cases ON sfdc_oppty.dt = sfdc_cases.dt'},\n",
       "   'main': \"SELECT sfdc_accounts.platform,\\n       sfdc_accounts.mobile_os,\\n       sfdc_accounts.service_metadata,\\n       sfdc_cases.account,\\n       sfdc_cases.num_requests,\\n       sfdc_cases.owner,\\n       sfdc_accounts.user_id\\nLEFT JOIN\\nWHERE sfdc_cases_oppty.dt > '2020-04-03'\\n  AND sfdc_cases_oppty.dt < '2020-05-04'\\nORDER BY 1\\nGROUP BY 3\\nLIMIT 20 AS sfdc_cases_oppty ON sfdc_cases_oppty.dt = sfdc_accounts.dt\"},\n",
       "  'main': 'SELECT a.*,\\n       b.*,\\n       c.*,\\n       d.*\\nFROM\\nLEFT JOIN\\nLEFT JOIN\\nLEFT JOIN\\nLEFT JOIN b ON a.user_id = b.id\\nc ON a.anonymous_id = c.anon_id_ad\\nd ON a.anonymous_id = d.anon_id_event\\ne ON e.user_id = a.user_id'},\n",
       " 'main': 'SELECT *\\nFROM\\nWHERE context_campaign_name IS NOT NULL '}"
      ]
     },
     "execution_count": 394,
     "metadata": {},
     "output_type": "execute_result"
    }
   ],
   "source": [
    "query_dict"
   ]
  },
  {
   "cell_type": "code",
   "execution_count": 367,
   "metadata": {},
   "outputs": [
    {
     "name": "stdout",
     "output_type": "stream",
     "text": [
      "main \n",
      " {\n",
      "  \"no alias\": {\n",
      "    \"a\": \"SELECT DISTINCT anonymous_id,                    user_id    FROM mapbox_customer_data.segment_identifies    WHERE dt >= '2018-07-01'      AND anonymous_id IS NOT NULL AND user_id IS NOT NULL \",\n",
      "    \"b\": \"SELECT id,           email,           created    FROM mapbox_customer_data.accounts WHERE cast(dt AS DATE) = CURRENT_DATE - INTERVAL '1' DAY \",\n",
      "    \"c\": \"SELECT anonymous_id AS anon_id_ad,           context_campaign_name,           min(TIMESTAMP) AS min_exposure    FROM mapbox_customer_data.segment_pages    WHERE dt >= '2018-07-01'      AND context_campaign_name IS NOT NULL    GROUP BY 1, 2\",\n",
      "    \"d\": \"SELECT DISTINCT anonymous_id AS anon_id_event,                    original_timestamp,                    event,                    context_traits_email    FROM mapbox_customer_data.segment_tracks    WHERE dt >= '2018-07-01'      AND event LIKE 'submitted_%form' AND context_traits_email IS NOT NULL \",\n",
      "    \"e\": {\n",
      "      \"sfdc_accounts\": \"sfdc.accounts\",\n",
      "      \"sfdc_cases_oppty\": {\n",
      "        \"no alias\": {\n",
      "          \"dt_owner\": \"SELECT DISTINCT dt FROM sfdc.owner AS sfdc_owner\",\n",
      "          \"main\": \"SELECT MAX(dt)\\nFROM AS dt_owner ON sfdc_oppty.dt = sfdc_cases.dt\"\n",
      "        },\n",
      "        \"sfdc_cases\": \"SELECT dt FROM sfdc.cases\",\n",
      "        \"main\": \"SELECT MAX(dt)\\nSELECT dt\\nLEFT JOIN\\nLEFT JOIN sfdc_cases ON sfdc_oppty.dt = sfdc_cases.dt\"\n",
      "      },\n",
      "      \"main\": \"SELECT sfdc_accounts.platform,\\n       sfdc_accounts.mobile_os,\\n       sfdc_accounts.service_metadata,\\n       sfdc_cases.account,\\n       sfdc_cases.num_requests,\\n       sfdc_cases.owner,\\n       sfdc_accounts.user_id\\nLEFT JOIN\\nWHERE sfdc_cases_oppty.dt > '2020-04-03'\\n  AND sfdc_cases_oppty.dt < '2020-05-04'\\nORDER BY 1\\nGROUP BY 3\\nLIMIT 20 AS sfdc_cases_oppty ON sfdc_cases_oppty.dt = sfdc_accounts.dt\"\n",
      "    },\n",
      "    \"main\": \"SELECT a.*,\\n       b.*,\\n       c.*,\\n       d.*\\nFROM\\nLEFT JOIN\\nLEFT JOIN\\nLEFT JOIN\\nLEFT JOIN b ON a.user_id = b.id\\nc ON a.anonymous_id = c.anon_id_ad\\nd ON a.anonymous_id = d.anon_id_event\\ne ON e.user_id = a.user_id\"\n",
      "  },\n",
      "  \"main\": \"SELECT *\\nFROM\\nWHERE context_campaign_name IS NOT NULL \"\n",
      "} \n",
      "\n",
      "\n",
      "\n"
     ]
    }
   ],
   "source": [
    "print(alias, '\\n', json.dumps(query_dict, indent=2), '\\n\\n\\n')"
   ]
  },
  {
   "cell_type": "code",
   "execution_count": 369,
   "metadata": {},
   "outputs": [
    {
     "data": {
      "text/plain": [
       "dict_keys(['no alias', 'main'])"
      ]
     },
     "execution_count": 369,
     "metadata": {},
     "output_type": "execute_result"
    }
   ],
   "source": [
    "query_dict.keys()"
   ]
  },
  {
   "cell_type": "code",
   "execution_count": 371,
   "metadata": {},
   "outputs": [
    {
     "data": {
      "text/plain": [
       "'SELECT *\\nFROM\\nWHERE context_campaign_name IS NOT NULL '"
      ]
     },
     "execution_count": 371,
     "metadata": {},
     "output_type": "execute_result"
    }
   ],
   "source": [
    "query_dict['main']"
   ]
  },
  {
   "cell_type": "code",
   "execution_count": 372,
   "metadata": {},
   "outputs": [
    {
     "data": {
      "text/plain": [
       "dict_keys(['a', 'b', 'c', 'd', 'e', 'main'])"
      ]
     },
     "execution_count": 372,
     "metadata": {},
     "output_type": "execute_result"
    }
   ],
   "source": [
    "query_dict['no alias'].keys()"
   ]
  },
  {
   "cell_type": "code",
   "execution_count": 392,
   "metadata": {},
   "outputs": [
    {
     "data": {
      "text/plain": [
       "'SELECT a.*,\\n       b.*,\\n       c.*,\\n       d.*\\nFROM\\nLEFT JOIN\\nLEFT JOIN\\nLEFT JOIN\\nLEFT JOIN b ON a.user_id = b.id\\nc ON a.anonymous_id = c.anon_id_ad\\nd ON a.anonymous_id = d.anon_id_event\\ne ON e.user_id = a.user_id'"
      ]
     },
     "execution_count": 392,
     "metadata": {},
     "output_type": "execute_result"
    }
   ],
   "source": [
    "query_dict['no alias']['main']"
   ]
  },
  {
   "cell_type": "code",
   "execution_count": 373,
   "metadata": {},
   "outputs": [
    {
     "data": {
      "text/plain": [
       "\"SELECT DISTINCT anonymous_id,                    user_id    FROM mapbox_customer_data.segment_identifies    WHERE dt >= '2018-07-01'      AND anonymous_id IS NOT NULL AND user_id IS NOT NULL \""
      ]
     },
     "execution_count": 373,
     "metadata": {},
     "output_type": "execute_result"
    }
   ],
   "source": [
    "query_dict['no alias']['a']"
   ]
  },
  {
   "cell_type": "code",
   "execution_count": 374,
   "metadata": {},
   "outputs": [
    {
     "data": {
      "text/plain": [
       "\"SELECT id,           email,           created    FROM mapbox_customer_data.accounts WHERE cast(dt AS DATE) = CURRENT_DATE - INTERVAL '1' DAY \""
      ]
     },
     "execution_count": 374,
     "metadata": {},
     "output_type": "execute_result"
    }
   ],
   "source": [
    "query_dict['no alias']['b']"
   ]
  },
  {
   "cell_type": "code",
   "execution_count": 375,
   "metadata": {},
   "outputs": [
    {
     "data": {
      "text/plain": [
       "\"SELECT anonymous_id AS anon_id_ad,           context_campaign_name,           min(TIMESTAMP) AS min_exposure    FROM mapbox_customer_data.segment_pages    WHERE dt >= '2018-07-01'      AND context_campaign_name IS NOT NULL    GROUP BY 1, 2\""
      ]
     },
     "execution_count": 375,
     "metadata": {},
     "output_type": "execute_result"
    }
   ],
   "source": [
    "query_dict['no alias']['c']"
   ]
  },
  {
   "cell_type": "code",
   "execution_count": 376,
   "metadata": {},
   "outputs": [
    {
     "data": {
      "text/plain": [
       "\"SELECT DISTINCT anonymous_id AS anon_id_event,                    original_timestamp,                    event,                    context_traits_email    FROM mapbox_customer_data.segment_tracks    WHERE dt >= '2018-07-01'      AND event LIKE 'submitted_%form' AND context_traits_email IS NOT NULL \""
      ]
     },
     "execution_count": 376,
     "metadata": {},
     "output_type": "execute_result"
    }
   ],
   "source": [
    "query_dict['no alias']['d']"
   ]
  },
  {
   "cell_type": "code",
   "execution_count": 378,
   "metadata": {},
   "outputs": [
    {
     "data": {
      "text/plain": [
       "{'sfdc_accounts': 'sfdc.accounts',\n",
       " 'sfdc_cases_oppty': {'no alias': {'dt_owner': 'SELECT DISTINCT dt FROM sfdc.owner AS sfdc_owner',\n",
       "   'main': 'SELECT MAX(dt)\\nFROM AS dt_owner ON sfdc_oppty.dt = sfdc_cases.dt'},\n",
       "  'sfdc_cases': 'SELECT dt FROM sfdc.cases',\n",
       "  'main': 'SELECT MAX(dt)\\nSELECT dt\\nLEFT JOIN\\nLEFT JOIN sfdc_cases ON sfdc_oppty.dt = sfdc_cases.dt'},\n",
       " 'main': \"SELECT sfdc_accounts.platform,\\n       sfdc_accounts.mobile_os,\\n       sfdc_accounts.service_metadata,\\n       sfdc_cases.account,\\n       sfdc_cases.num_requests,\\n       sfdc_cases.owner,\\n       sfdc_accounts.user_id\\nLEFT JOIN\\nWHERE sfdc_cases_oppty.dt > '2020-04-03'\\n  AND sfdc_cases_oppty.dt < '2020-05-04'\\nORDER BY 1\\nGROUP BY 3\\nLIMIT 20 AS sfdc_cases_oppty ON sfdc_cases_oppty.dt = sfdc_accounts.dt\"}"
      ]
     },
     "execution_count": 378,
     "metadata": {},
     "output_type": "execute_result"
    }
   ],
   "source": [
    "query_dict['no alias']['e']"
   ]
  },
  {
   "cell_type": "code",
   "execution_count": 380,
   "metadata": {},
   "outputs": [
    {
     "data": {
      "text/plain": [
       "\"SELECT sfdc_accounts.platform,\\n       sfdc_accounts.mobile_os,\\n       sfdc_accounts.service_metadata,\\n       sfdc_cases.account,\\n       sfdc_cases.num_requests,\\n       sfdc_cases.owner,\\n       sfdc_accounts.user_id\\nLEFT JOIN\\nWHERE sfdc_cases_oppty.dt > '2020-04-03'\\n  AND sfdc_cases_oppty.dt < '2020-05-04'\\nORDER BY 1\\nGROUP BY 3\\nLIMIT 20 AS sfdc_cases_oppty ON sfdc_cases_oppty.dt = sfdc_accounts.dt\""
      ]
     },
     "execution_count": 380,
     "metadata": {},
     "output_type": "execute_result"
    }
   ],
   "source": [
    "query_dict['no alias']['e']['main']"
   ]
  },
  {
   "cell_type": "code",
   "execution_count": 381,
   "metadata": {},
   "outputs": [
    {
     "data": {
      "text/plain": [
       "'sfdc.accounts'"
      ]
     },
     "execution_count": 381,
     "metadata": {},
     "output_type": "execute_result"
    }
   ],
   "source": [
    "query_dict['no alias']['e']['sfdc_accounts']"
   ]
  },
  {
   "cell_type": "code",
   "execution_count": 382,
   "metadata": {},
   "outputs": [
    {
     "data": {
      "text/plain": [
       "{'no alias': {'dt_owner': 'SELECT DISTINCT dt FROM sfdc.owner AS sfdc_owner',\n",
       "  'main': 'SELECT MAX(dt)\\nFROM AS dt_owner ON sfdc_oppty.dt = sfdc_cases.dt'},\n",
       " 'sfdc_cases': 'SELECT dt FROM sfdc.cases',\n",
       " 'main': 'SELECT MAX(dt)\\nSELECT dt\\nLEFT JOIN\\nLEFT JOIN sfdc_cases ON sfdc_oppty.dt = sfdc_cases.dt'}"
      ]
     },
     "execution_count": 382,
     "metadata": {},
     "output_type": "execute_result"
    }
   ],
   "source": [
    "query_dict['no alias']['e']['sfdc_cases_oppty']"
   ]
  },
  {
   "cell_type": "code",
   "execution_count": 384,
   "metadata": {},
   "outputs": [
    {
     "data": {
      "text/plain": [
       "'SELECT MAX(dt)\\nSELECT dt\\nLEFT JOIN\\nLEFT JOIN sfdc_cases ON sfdc_oppty.dt = sfdc_cases.dt'"
      ]
     },
     "execution_count": 384,
     "metadata": {},
     "output_type": "execute_result"
    }
   ],
   "source": [
    "query_dict['no alias']['e']['sfdc_cases_oppty']['main']"
   ]
  },
  {
   "cell_type": "code",
   "execution_count": 385,
   "metadata": {},
   "outputs": [
    {
     "data": {
      "text/plain": [
       "{'dt_owner': 'SELECT DISTINCT dt FROM sfdc.owner AS sfdc_owner',\n",
       " 'main': 'SELECT MAX(dt)\\nFROM AS dt_owner ON sfdc_oppty.dt = sfdc_cases.dt'}"
      ]
     },
     "execution_count": 385,
     "metadata": {},
     "output_type": "execute_result"
    }
   ],
   "source": [
    "query_dict['no alias']['e']['sfdc_cases_oppty']['no alias']"
   ]
  },
  {
   "cell_type": "code",
   "execution_count": 386,
   "metadata": {},
   "outputs": [
    {
     "data": {
      "text/plain": [
       "'SELECT dt FROM sfdc.cases'"
      ]
     },
     "execution_count": 386,
     "metadata": {},
     "output_type": "execute_result"
    }
   ],
   "source": [
    "query_dict['no alias']['e']['sfdc_cases_oppty']['sfdc_cases']"
   ]
  },
  {
   "cell_type": "code",
   "execution_count": 389,
   "metadata": {},
   "outputs": [
    {
     "data": {
      "text/plain": [
       "'SELECT DISTINCT dt FROM sfdc.owner AS sfdc_owner'"
      ]
     },
     "execution_count": 389,
     "metadata": {},
     "output_type": "execute_result"
    }
   ],
   "source": [
    "query_dict['no alias']['e']['sfdc_cases_oppty']['no alias']['dt_owner']"
   ]
  },
  {
   "cell_type": "code",
   "execution_count": 391,
   "metadata": {},
   "outputs": [
    {
     "data": {
      "text/plain": [
       "'SELECT MAX(dt)\\nFROM AS dt_owner ON sfdc_oppty.dt = sfdc_cases.dt'"
      ]
     },
     "execution_count": 391,
     "metadata": {},
     "output_type": "execute_result"
    }
   ],
   "source": [
    "query_dict['no alias']['e']['sfdc_cases_oppty']['no alias']['main']"
   ]
  },
  {
   "cell_type": "code",
   "execution_count": null,
   "metadata": {},
   "outputs": [],
   "source": []
  }
 ],
 "metadata": {
  "kernelspec": {
   "display_name": "Python 3",
   "language": "python",
   "name": "python3"
  },
  "language_info": {
   "codemirror_mode": {
    "name": "ipython",
    "version": 3
   },
   "file_extension": ".py",
   "mimetype": "text/x-python",
   "name": "python",
   "nbconvert_exporter": "python",
   "pygments_lexer": "ipython3",
   "version": "3.7.4"
  }
 },
 "nbformat": 4,
 "nbformat_minor": 2
}
