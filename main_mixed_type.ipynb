{
 "cells": [
  {
   "cell_type": "code",
   "execution_count": 1,
   "metadata": {},
   "outputs": [],
   "source": [
    "from sqlanalyzer import column_parser, unbundle\n",
    "import sqlparse\n",
    "import re\n",
    "import json\n",
    "import pandas as pd\n",
    "import time\n",
    "\n",
    "\n",
    "def flatten_subquery(final_list, sub_queries, level_num):\n",
    "    for q in sub_queries:\n",
    "        for _,query in q.items():\n",
    "            formatter = column_parser.Parser(query)\n",
    "            formatted_query = formatter.format_query(query)\n",
    "            unbundled = unbundle.Unbundle(formatted_query)\n",
    "            query_dict = {}\n",
    "            if unbundled.has_child(formatted_query):\n",
    "                query_dict, sub_queries = unbundled.restructure_subquery(query_dict, 'level_{}_main'.format(level_num), formatted_query)\n",
    "            else: \n",
    "                sub_queries = []\n",
    "\n",
    "    if query_dict != {}:\n",
    "        final_list.append(query_dict)\n",
    "\n",
    "    for subq in sub_queries:\n",
    "        for _, sub_query in subq.items():\n",
    "            if not unbundled.has_child(sub_query): \n",
    "                final_list.append(subq)\n",
    "    \n",
    "    return final_list, sub_queries\n",
    "\n",
    "\n",
    "def is_cte(query):\n",
    "    return query.startswith('WITH')\n",
    "\n",
    "\n",
    "def flatten_pure_nested(query):\n",
    "\n",
    "    sub_queries = [{'query': query}]\n",
    "    final_list = []\n",
    "    i = 0\n",
    "\n",
    "    while sub_queries != []:\n",
    "        i += 1\n",
    "        final_list, sub_queries = flatten_subquery(final_list, sub_queries, level_num=i)\n",
    "\n",
    "    return final_list"
   ]
  },
  {
   "cell_type": "markdown",
   "metadata": {},
   "source": [
    "## type A: subquery ( subqueries ) \n",
    "\n",
    "SELECT FROM (SELECT FROM (...))"
   ]
  },
  {
   "cell_type": "code",
   "execution_count": 60,
   "metadata": {},
   "outputs": [],
   "source": [
    "query = \"\"\"SELECT *\\n   FROM\\n     (SELECT a.*,\\n             b.*,\\n             c.*,\\n             d.*\\n      FROM\\n        (SELECT DISTINCT anonymous_id,\\n                         user_id\\n         FROM mapbox_customer_data.segment_identifies\\n         WHERE dt >= '2018-07-01'\\n           AND anonymous_id IS NOT NULL\\n           AND user_id IS NOT NULL ) a\\n      LEFT JOIN\\n        (SELECT id,\\n                email,\\n                created\\n         FROM mapbox_customer_data.accounts\\n         WHERE cast(dt AS DATE) = CURRENT_DATE - INTERVAL '1' DAY ) b ON a.user_id = b.id\\n      LEFT JOIN\\n        (SELECT anonymous_id AS anon_id_ad,\\n                context_campaign_name,\\n                min(TIMESTAMP) AS min_exposure\\n         FROM mapbox_customer_data.segment_pages\\n         WHERE dt >= '2018-07-01'\\n           AND context_campaign_name IS NOT NULL\\n         GROUP BY 1,\\n                  2) c ON a.anonymous_id = c.anon_id_ad\\n      LEFT JOIN\\n        (SELECT DISTINCT anonymous_id AS anon_id_event,\\n                         original_timestamp,\\n                         event,\\n                         context_traits_email\\n         FROM mapbox_customer_data.segment_tracks\\n         WHERE dt >= '2018-07-01'\\n           AND event LIKE 'submitted_%form'\\n           AND context_traits_email IS NOT NULL ) d ON a.anonymous_id = d.anon_id_event\\n    LEFT JOIN\\n        (SELECT sfdc_accounts.platform, sfdc_accounts.mobile_os, sfdc_accounts.service_metadata,\\nsfdc_cases.account, sfdc_cases.num_requests, sfdc_cases.owner, sfdc_accounts.user_id\\nFROM sfdc.accounts sfdc_accounts\\nLEFT JOIN \\n(SELECT MAX(dt) FROM \\n    (SELECT dt \\n    FROM sfdc.oppty \\n    LEFT JOIN (SELECT MAX(dt) FROM (SELECT DISTINCT dt FROM sfdc.owner AS sfdc_owner) AS dt_owner ON sfdc_oppty.dt = sfdc_cases.dt)\\n    LEFT JOIN (SELECT dt FROM sfdc.cases) sfdc_cases ON sfdc_oppty.dt = sfdc_cases.dt) )\\nAS sfdc_cases_oppty ON sfdc_cases_oppty.dt = sfdc_accounts.dt\\nLEFT JOIN sfdc.cases AS sfdc_cases ON sfdc_cases.id = sfdc_accounts.case_id\\nWHERE sfdc_cases_oppty.dt > '2020-04-03' AND sfdc_cases_oppty.dt < '2020-05-04' ORDER BY 1 GROUP BY 3 LIMIT 20\\n        ) e ON e.user_id = a.user_id\\n        )\\n   WHERE context_campaign_name IS NOT NULL \\n\"\n",
    "\"\"\"\n"
   ]
  },
  {
   "cell_type": "code",
   "execution_count": 61,
   "metadata": {},
   "outputs": [],
   "source": [
    "final_list, sub_queries = flatten_subquery([], [{'query': query}], level_num=1)\n"
   ]
  },
  {
   "cell_type": "code",
   "execution_count": 62,
   "metadata": {},
   "outputs": [],
   "source": [
    "# final_list, sub_queries"
   ]
  },
  {
   "cell_type": "code",
   "execution_count": 63,
   "metadata": {},
   "outputs": [],
   "source": [
    "final_list, sub_queries = flatten_subquery(final_list, sub_queries, level_num=2)\n",
    "# final_list, sub_queries"
   ]
  },
  {
   "cell_type": "code",
   "execution_count": 64,
   "metadata": {},
   "outputs": [
    {
     "data": {
      "text/plain": [
       "([{'level_1_main': 'SELECT * WHERE context_campaign_name IS NOT NULL FROM no alias '},\n",
       "  {'level_2_main': 'SELECT a.*,        b.*,        c.*,        d.* FROM a LEFT JOIN b ON a.user_id = b.id LEFT JOIN c ON a.anonymous_id = c.anon_id_ad LEFT JOIN d ON a.anonymous_id = d.anon_id_event LEFT JOIN e ON e.user_id = a.user_id '},\n",
       "  {'a': \"SELECT DISTINCT anonymous_id, user_id FROM mapbox_customer_data.segment_identifies WHERE dt >= '2018-07-01' AND anonymous_id IS NOT NULL AND user_id IS NOT NULL \"},\n",
       "  {'b': \"SELECT id, email, created FROM mapbox_customer_data.accounts WHERE cast(dt AS DATE) = CURRENT_DATE - INTERVAL '1' DAY \"},\n",
       "  {'c': \"SELECT anonymous_id AS anon_id_ad, context_campaign_name, min(TIMESTAMP) AS min_exposure FROM mapbox_customer_data.segment_pages WHERE dt >= '2018-07-01' AND context_campaign_name IS NOT NULL GROUP BY 1, 2\"},\n",
       "  {'d': \"SELECT DISTINCT anonymous_id AS anon_id_event, original_timestamp, event, context_traits_email FROM mapbox_customer_data.segment_tracks WHERE dt >= '2018-07-01' AND event LIKE 'submitted_%form' AND context_traits_email IS NOT NULL \"}],\n",
       " '\\n',\n",
       " [{'a': \"SELECT DISTINCT anonymous_id, user_id FROM mapbox_customer_data.segment_identifies WHERE dt >= '2018-07-01' AND anonymous_id IS NOT NULL AND user_id IS NOT NULL \"},\n",
       "  {'b': \"SELECT id, email, created FROM mapbox_customer_data.accounts WHERE cast(dt AS DATE) = CURRENT_DATE - INTERVAL '1' DAY \"},\n",
       "  {'c': \"SELECT anonymous_id AS anon_id_ad, context_campaign_name, min(TIMESTAMP) AS min_exposure FROM mapbox_customer_data.segment_pages WHERE dt >= '2018-07-01' AND context_campaign_name IS NOT NULL GROUP BY 1, 2\"},\n",
       "  {'d': \"SELECT DISTINCT anonymous_id AS anon_id_event, original_timestamp, event, context_traits_email FROM mapbox_customer_data.segment_tracks WHERE dt >= '2018-07-01' AND event LIKE 'submitted_%form' AND context_traits_email IS NOT NULL \"},\n",
       "  {'e': \"SELECT sfdc_accounts.platform, sfdc_accounts.mobile_os, sfdc_accounts.service_metadata, sfdc_cases.account, sfdc_cases.num_requests, sfdc_cases.owner, sfdc_accounts.user_id FROM sfdc.accounts sfdc_accounts LEFT JOIN (SELECT MAX(dt) FROM (SELECT dt FROM sfdc.oppty LEFT JOIN (SELECT MAX(dt) FROM (SELECT DISTINCT dt FROM sfdc.owner AS sfdc_owner) AS dt_owner ON sfdc_oppty.dt = sfdc_cases.dt) LEFT JOIN (SELECT dt FROM sfdc.cases) sfdc_cases ON sfdc_oppty.dt = sfdc_cases.dt)) AS sfdc_cases_oppty ON sfdc_cases_oppty.dt = sfdc_accounts.dt LEFT JOIN sfdc.cases AS sfdc_cases ON sfdc_cases.id = sfdc_accounts.case_id WHERE sfdc_cases_oppty.dt > '2020-04-03' AND sfdc_cases_oppty.dt < '2020-05-04' ORDER BY 1 GROUP BY 3 LIMIT 20\"}])"
      ]
     },
     "execution_count": 64,
     "metadata": {},
     "output_type": "execute_result"
    }
   ],
   "source": [
    "final_list, '\\n', sub_queries"
   ]
  },
  {
   "cell_type": "code",
   "execution_count": 66,
   "metadata": {},
   "outputs": [],
   "source": [
    "# for q in sub_queries:\n",
    "# q = sub_queries[4]\n",
    "q = {'e': \"SELECT sfdc_accounts.platform, sfdc_accounts.mobile_os, sfdc_accounts.service_metadata, sfdc_cases.account, sfdc_cases.num_requests, sfdc_cases.owner, sfdc_accounts.user_id FROM sfdc.accounts sfdc_accounts LEFT JOIN (SELECT MAX(dt) FROM (SELECT dt FROM sfdc.oppty LEFT JOIN (SELECT MAX(dt) FROM (SELECT DISTINCT dt FROM sfdc.owner AS sfdc_owner) AS dt_owner ON sfdc_oppty.dt = sfdc_cases.dt) LEFT JOIN (SELECT dt FROM sfdc.cases) sfdc_cases ON sfdc_oppty.dt = sfdc_cases.dt)) AS sfdc_cases_oppty ON sfdc_cases_oppty.dt = sfdc_accounts.dt LEFT JOIN sfdc.cases AS sfdc_cases ON sfdc_cases.id = sfdc_accounts.case_id WHERE sfdc_cases_oppty.dt > '2020-04-03' AND sfdc_cases_oppty.dt < '2020-05-04' ORDER BY 1 GROUP BY 3 LIMIT 20\"}\n"
   ]
  },
  {
   "cell_type": "code",
   "execution_count": 67,
   "metadata": {},
   "outputs": [
    {
     "data": {
      "text/plain": [
       "{'e': \"SELECT sfdc_accounts.platform, sfdc_accounts.mobile_os, sfdc_accounts.service_metadata, sfdc_cases.account, sfdc_cases.num_requests, sfdc_cases.owner, sfdc_accounts.user_id FROM sfdc.accounts sfdc_accounts LEFT JOIN (SELECT MAX(dt) FROM (SELECT dt FROM sfdc.oppty LEFT JOIN (SELECT MAX(dt) FROM (SELECT DISTINCT dt FROM sfdc.owner AS sfdc_owner) AS dt_owner ON sfdc_oppty.dt = sfdc_cases.dt) LEFT JOIN (SELECT dt FROM sfdc.cases) sfdc_cases ON sfdc_oppty.dt = sfdc_cases.dt)) AS sfdc_cases_oppty ON sfdc_cases_oppty.dt = sfdc_accounts.dt LEFT JOIN sfdc.cases AS sfdc_cases ON sfdc_cases.id = sfdc_accounts.case_id WHERE sfdc_cases_oppty.dt > '2020-04-03' AND sfdc_cases_oppty.dt < '2020-05-04' ORDER BY 1 GROUP BY 3 LIMIT 20\"}"
      ]
     },
     "execution_count": 67,
     "metadata": {},
     "output_type": "execute_result"
    }
   ],
   "source": [
    "q"
   ]
  },
  {
   "cell_type": "code",
   "execution_count": 68,
   "metadata": {},
   "outputs": [
    {
     "data": {
      "text/plain": [
       "True"
      ]
     },
     "execution_count": 68,
     "metadata": {},
     "output_type": "execute_result"
    }
   ],
   "source": [
    "# for _,query in q.items():\n",
    "query = q['e']\n",
    "formatter = column_parser.Parser(query)\n",
    "formatted_query = formatter.format_query(query)\n",
    "unbundled = unbundle.Unbundle(formatted_query)\n",
    "query_dict = {}\n",
    "unbundled.has_child(formatted_query)"
   ]
  },
  {
   "cell_type": "code",
   "execution_count": 74,
   "metadata": {},
   "outputs": [
    {
     "data": {
      "text/plain": [
       "\"SELECT sfdc_accounts.platform,\\n       sfdc_accounts.mobile_os,\\n       sfdc_accounts.service_metadata,\\n       sfdc_cases.account,\\n       sfdc_cases.num_requests,\\n       sfdc_cases.owner,\\n       sfdc_accounts.user_id\\nFROM sfdc.accounts sfdc_accounts\\nLEFT JOIN\\n  (SELECT MAX(dt)\\n   FROM\\n     (SELECT dt\\n      FROM sfdc.oppty\\n      LEFT JOIN\\n        (SELECT MAX(dt)\\n         FROM\\n           (SELECT DISTINCT dt\\n            FROM sfdc.owner AS sfdc_owner) AS dt_owner ON sfdc_oppty.dt = sfdc_cases.dt)\\n      LEFT JOIN\\n        (SELECT dt\\n         FROM sfdc.cases) sfdc_cases ON sfdc_oppty.dt = sfdc_cases.dt)) AS sfdc_cases_oppty ON sfdc_cases_oppty.dt = sfdc_accounts.dt\\nLEFT JOIN sfdc.cases AS sfdc_cases ON sfdc_cases.id = sfdc_accounts.case_id\\nWHERE sfdc_cases_oppty.dt > '2020-04-03'\\n  AND sfdc_cases_oppty.dt < '2020-05-04'\\nORDER BY 1\\nGROUP BY 3\\nLIMIT 20\""
      ]
     },
     "execution_count": 74,
     "metadata": {},
     "output_type": "execute_result"
    }
   ],
   "source": [
    "formatted_query"
   ]
  },
  {
   "cell_type": "code",
   "execution_count": 71,
   "metadata": {},
   "outputs": [
    {
     "data": {
      "text/plain": [
       "(['SELECT sfdc_accounts.platform,',\n",
       "  '       sfdc_accounts.mobile_os,',\n",
       "  '       sfdc_accounts.service_metadata,',\n",
       "  '       sfdc_cases.account,',\n",
       "  '       sfdc_cases.num_requests,',\n",
       "  '       sfdc_cases.owner,',\n",
       "  '       sfdc_accounts.user_id',\n",
       "  \"WHERE sfdc_cases_oppty.dt > '2020-04-03'\",\n",
       "  \"  AND sfdc_cases_oppty.dt < '2020-05-04'\"],\n",
       " ['FROM sfdc.accounts sfdc_accounts',\n",
       "  'LEFT JOIN',\n",
       "  '  (SELECT MAX(dt)',\n",
       "  '   FROM',\n",
       "  '     (SELECT dt',\n",
       "  '      FROM sfdc.oppty',\n",
       "  '      LEFT JOIN',\n",
       "  '        (SELECT MAX(dt)',\n",
       "  '         FROM'])"
      ]
     },
     "execution_count": 71,
     "metadata": {},
     "output_type": "execute_result"
    }
   ],
   "source": [
    "# restructure_subquery\n",
    "query_list = formatted_query.split('\\n')\n",
    "\n",
    "main_query, copy_query_list = unbundled.get_sub_query(query_list)\n",
    "main_query, copy_query_list\n"
   ]
  },
  {
   "cell_type": "code",
   "execution_count": 73,
   "metadata": {},
   "outputs": [
    {
     "name": "stdout",
     "output_type": "stream",
     "text": [
      "0 SELECT sfdc_accounts.platform,\n",
      "1        sfdc_accounts.mobile_os,\n",
      "2        sfdc_accounts.service_metadata,\n",
      "3        sfdc_cases.account,\n",
      "4        sfdc_cases.num_requests,\n",
      "5        sfdc_cases.owner,\n",
      "6        sfdc_accounts.user_id\n",
      "7 FROM sfdc.accounts sfdc_accounts\n",
      "8 LEFT JOIN\n",
      "9   (SELECT MAX(dt)\n",
      "10    FROM\n",
      "11      (SELECT dt\n",
      "12       FROM sfdc.oppty\n",
      "13       LEFT JOIN\n",
      "14         (SELECT MAX(dt)\n",
      "15          FROM\n",
      "16            (SELECT DISTINCT dt\n",
      "17             FROM sfdc.owner AS sfdc_owner) AS dt_owner ON sfdc_oppty.dt = sfdc_cases.dt)\n",
      "18       LEFT JOIN\n",
      "19         (SELECT dt\n",
      "20          FROM sfdc.cases) sfdc_cases ON sfdc_oppty.dt = sfdc_cases.dt)) AS sfdc_cases_oppty ON sfdc_cases_oppty.dt = sfdc_accounts.dt\n",
      "21 LEFT JOIN sfdc.cases AS sfdc_cases ON sfdc_cases.id = sfdc_accounts.case_id\n",
      "22 WHERE sfdc_cases_oppty.dt > '2020-04-03'\n",
      "23   AND sfdc_cases_oppty.dt < '2020-05-04'\n",
      "24 ORDER BY 1\n",
      "25 GROUP BY 3\n",
      "26 LIMIT 20\n"
     ]
    }
   ],
   "source": [
    "for i,l in enumerate(query_list): print(i,l)"
   ]
  },
  {
   "cell_type": "code",
   "execution_count": 72,
   "metadata": {},
   "outputs": [
    {
     "ename": "UnboundLocalError",
     "evalue": "local variable 'main_part' referenced before assignment",
     "output_type": "error",
     "traceback": [
      "\u001b[0;31m---------------------------------------------------------------------------\u001b[0m",
      "\u001b[0;31mUnboundLocalError\u001b[0m                         Traceback (most recent call last)",
      "\u001b[0;32m<ipython-input-72-29407dcf0be6>\u001b[0m in \u001b[0;36m<module>\u001b[0;34m\u001b[0m\n\u001b[0;32m----> 1\u001b[0;31m \u001b[0mmain_query\u001b[0m\u001b[0;34m,\u001b[0m \u001b[0msub_queries\u001b[0m \u001b[0;34m=\u001b[0m \u001b[0munbundled\u001b[0m\u001b[0;34m.\u001b[0m\u001b[0mseparator\u001b[0m\u001b[0;34m(\u001b[0m\u001b[0mcopy_query_list\u001b[0m\u001b[0;34m,\u001b[0m \u001b[0mmain_query\u001b[0m\u001b[0;34m)\u001b[0m\u001b[0;34m\u001b[0m\u001b[0;34m\u001b[0m\u001b[0m\n\u001b[0m\u001b[1;32m      2\u001b[0m \u001b[0mmain_query\u001b[0m\u001b[0;34m,\u001b[0m \u001b[0msub_queries\u001b[0m\u001b[0;34m\u001b[0m\u001b[0;34m\u001b[0m\u001b[0m\n",
      "\u001b[0;32m~/Dev/sqlanalyzer/sqlanalyzer/unbundle.py\u001b[0m in \u001b[0;36mseparator\u001b[0;34m(self, copy_query_list, main_query)\u001b[0m\n\u001b[1;32m    223\u001b[0m             \u001b[0msub_join\u001b[0m\u001b[0;34m,\u001b[0m \u001b[0msub_query_list_copy\u001b[0m \u001b[0;34m=\u001b[0m \u001b[0mself\u001b[0m\u001b[0;34m.\u001b[0m\u001b[0m_divider\u001b[0m\u001b[0;34m(\u001b[0m\u001b[0msub_query_list_copy\u001b[0m\u001b[0;34m)\u001b[0m\u001b[0;34m\u001b[0m\u001b[0;34m\u001b[0m\u001b[0m\n\u001b[1;32m    224\u001b[0m             \u001b[0msub_query\u001b[0m \u001b[0;34m=\u001b[0m \u001b[0;34m' '\u001b[0m\u001b[0;34m.\u001b[0m\u001b[0mjoin\u001b[0m\u001b[0;34m(\u001b[0m\u001b[0msub_join\u001b[0m\u001b[0;34m)\u001b[0m\u001b[0;34m\u001b[0m\u001b[0;34m\u001b[0m\u001b[0m\n\u001b[0;32m--> 225\u001b[0;31m             \u001b[0mmain_query\u001b[0m\u001b[0;34m,\u001b[0m \u001b[0msub_query_dict\u001b[0m \u001b[0;34m=\u001b[0m \u001b[0mself\u001b[0m\u001b[0;34m.\u001b[0m\u001b[0m_stitch_main\u001b[0m\u001b[0;34m(\u001b[0m\u001b[0mmain_query\u001b[0m\u001b[0;34m,\u001b[0m \u001b[0msub_query\u001b[0m\u001b[0;34m)\u001b[0m\u001b[0;34m\u001b[0m\u001b[0;34m\u001b[0m\u001b[0m\n\u001b[0m\u001b[1;32m    226\u001b[0m             \u001b[0;32mif\u001b[0m \u001b[0msub_query_dict\u001b[0m \u001b[0;34m!=\u001b[0m \u001b[0;34m{\u001b[0m\u001b[0;34m}\u001b[0m\u001b[0;34m:\u001b[0m \u001b[0msub_queries\u001b[0m\u001b[0;34m.\u001b[0m\u001b[0mappend\u001b[0m\u001b[0;34m(\u001b[0m\u001b[0msub_query_dict\u001b[0m\u001b[0;34m)\u001b[0m\u001b[0;34m\u001b[0m\u001b[0;34m\u001b[0m\u001b[0m\n\u001b[1;32m    227\u001b[0m \u001b[0;34m\u001b[0m\u001b[0m\n",
      "\u001b[0;32m~/Dev/sqlanalyzer/sqlanalyzer/unbundle.py\u001b[0m in \u001b[0;36m_stitch_main\u001b[0;34m(self, main_query, sub_query)\u001b[0m\n\u001b[1;32m    208\u001b[0m         \u001b[0msub_query_dict\u001b[0m \u001b[0;34m=\u001b[0m \u001b[0;34m{\u001b[0m\u001b[0;34m}\u001b[0m\u001b[0;34m\u001b[0m\u001b[0;34m\u001b[0m\u001b[0m\n\u001b[1;32m    209\u001b[0m         \u001b[0;32mif\u001b[0m \u001b[0mself\u001b[0m\u001b[0;34m.\u001b[0m\u001b[0mhas_child\u001b[0m\u001b[0;34m(\u001b[0m\u001b[0msub_query\u001b[0m\u001b[0;34m)\u001b[0m\u001b[0;34m:\u001b[0m\u001b[0;34m\u001b[0m\u001b[0;34m\u001b[0m\u001b[0m\n\u001b[0;32m--> 210\u001b[0;31m             \u001b[0mmain_query\u001b[0m\u001b[0;34m,\u001b[0m \u001b[0msub_query_dict\u001b[0m \u001b[0;34m=\u001b[0m \u001b[0mself\u001b[0m\u001b[0;34m.\u001b[0m\u001b[0m_parse_alias\u001b[0m\u001b[0;34m(\u001b[0m\u001b[0mmain_query\u001b[0m\u001b[0;34m,\u001b[0m \u001b[0msub_query\u001b[0m\u001b[0;34m)\u001b[0m\u001b[0;34m\u001b[0m\u001b[0;34m\u001b[0m\u001b[0m\n\u001b[0m\u001b[1;32m    211\u001b[0m         \u001b[0;32melse\u001b[0m\u001b[0;34m:\u001b[0m\u001b[0;34m\u001b[0m\u001b[0;34m\u001b[0m\u001b[0m\n\u001b[1;32m    212\u001b[0m             \u001b[0mmain_query\u001b[0m\u001b[0;34m.\u001b[0m\u001b[0mappend\u001b[0m\u001b[0;34m(\u001b[0m\u001b[0msub_query\u001b[0m\u001b[0;34m)\u001b[0m\u001b[0;34m\u001b[0m\u001b[0;34m\u001b[0m\u001b[0m\n",
      "\u001b[0;32m~/Dev/sqlanalyzer/sqlanalyzer/unbundle.py\u001b[0m in \u001b[0;36m_parse_alias\u001b[0;34m(self, main_query, sub_query)\u001b[0m\n\u001b[1;32m    182\u001b[0m                     \u001b[0malias\u001b[0m \u001b[0;34m=\u001b[0m \u001b[0;34m'no alias'\u001b[0m\u001b[0;34m\u001b[0m\u001b[0;34m\u001b[0m\u001b[0m\n\u001b[1;32m    183\u001b[0m \u001b[0;34m\u001b[0m\u001b[0m\n\u001b[0;32m--> 184\u001b[0;31m             \u001b[0mmain_query\u001b[0m\u001b[0;34m.\u001b[0m\u001b[0mextend\u001b[0m\u001b[0;34m(\u001b[0m\u001b[0mmain_part\u001b[0m\u001b[0;34m)\u001b[0m\u001b[0;34m\u001b[0m\u001b[0;34m\u001b[0m\u001b[0m\n\u001b[0m\u001b[1;32m    185\u001b[0m \u001b[0;34m\u001b[0m\u001b[0m\n\u001b[1;32m    186\u001b[0m         \u001b[0;32melif\u001b[0m \u001b[0msub_query_list\u001b[0m\u001b[0;34m[\u001b[0m\u001b[0;36m0\u001b[0m\u001b[0;34m]\u001b[0m\u001b[0;34m.\u001b[0m\u001b[0mrstrip\u001b[0m\u001b[0;34m(\u001b[0m\u001b[0;34m'\\n '\u001b[0m\u001b[0;34m)\u001b[0m \u001b[0;34m==\u001b[0m \u001b[0;34m'CROSS'\u001b[0m\u001b[0;34m:\u001b[0m\u001b[0;34m\u001b[0m\u001b[0;34m\u001b[0m\u001b[0m\n",
      "\u001b[0;31mUnboundLocalError\u001b[0m: local variable 'main_part' referenced before assignment"
     ]
    }
   ],
   "source": [
    "main_query, sub_queries = unbundled.separator(copy_query_list, main_query)\n",
    "main_query, sub_queries\n"
   ]
  },
  {
   "cell_type": "code",
   "execution_count": null,
   "metadata": {},
   "outputs": [],
   "source": []
  },
  {
   "cell_type": "code",
   "execution_count": null,
   "metadata": {},
   "outputs": [],
   "source": []
  },
  {
   "cell_type": "code",
   "execution_count": null,
   "metadata": {},
   "outputs": [],
   "source": []
  },
  {
   "cell_type": "code",
   "execution_count": null,
   "metadata": {},
   "outputs": [],
   "source": []
  },
  {
   "cell_type": "code",
   "execution_count": null,
   "metadata": {},
   "outputs": [],
   "source": [
    "# if unbundled.has_child(formatted_query):\n",
    "query_dict, sub_queries = unbundled.restructure_subquery(query_dict, 'level_{}_main'.format(3), formatted_query)\n",
    "# else: \n",
    "#     sub_queries = []\n"
   ]
  },
  {
   "cell_type": "code",
   "execution_count": null,
   "metadata": {},
   "outputs": [],
   "source": []
  },
  {
   "cell_type": "code",
   "execution_count": 39,
   "metadata": {},
   "outputs": [
    {
     "data": {
      "text/plain": [
       "({}, [])"
      ]
     },
     "execution_count": 39,
     "metadata": {},
     "output_type": "execute_result"
    }
   ],
   "source": [
    "query_dict, sub_queries"
   ]
  },
  {
   "cell_type": "code",
   "execution_count": 40,
   "metadata": {},
   "outputs": [],
   "source": [
    "if query_dict != {}:\n",
    "    final_list.append(query_dict)\n",
    "\n",
    "for subq in sub_queries:\n",
    "    for _, sub_query in subq.items():\n",
    "        if not unbundled.has_child(sub_query): \n",
    "            final_list.append(subq)"
   ]
  },
  {
   "cell_type": "code",
   "execution_count": 41,
   "metadata": {},
   "outputs": [
    {
     "data": {
      "text/plain": [
       "([{'level_1_main': 'SELECT * WHERE context_campaign_name IS NOT NULL FROM no alias '},\n",
       "  {'level_2_main': 'SELECT a.*,        b.*,        c.*,        d.* FROM a LEFT JOIN b ON a.user_id = b.id LEFT JOIN c ON a.anonymous_id = c.anon_id_ad LEFT JOIN d ON a.anonymous_id = d.anon_id_event LEFT JOIN e ON e.user_id = a.user_id '},\n",
       "  {'a': \"SELECT DISTINCT anonymous_id, user_id FROM mapbox_customer_data.segment_identifies WHERE dt >= '2018-07-01' AND anonymous_id IS NOT NULL AND user_id IS NOT NULL \"},\n",
       "  {'b': \"SELECT id, email, created FROM mapbox_customer_data.accounts WHERE cast(dt AS DATE) = CURRENT_DATE - INTERVAL '1' DAY \"},\n",
       "  {'c': \"SELECT anonymous_id AS anon_id_ad, context_campaign_name, min(TIMESTAMP) AS min_exposure FROM mapbox_customer_data.segment_pages WHERE dt >= '2018-07-01' AND context_campaign_name IS NOT NULL GROUP BY 1, 2\"},\n",
       "  {'d': \"SELECT DISTINCT anonymous_id AS anon_id_event, original_timestamp, event, context_traits_email FROM mapbox_customer_data.segment_tracks WHERE dt >= '2018-07-01' AND event LIKE 'submitted_%form' AND context_traits_email IS NOT NULL \"}],\n",
       " [])"
      ]
     },
     "execution_count": 41,
     "metadata": {},
     "output_type": "execute_result"
    }
   ],
   "source": [
    "final_list, sub_queries"
   ]
  },
  {
   "cell_type": "code",
   "execution_count": null,
   "metadata": {},
   "outputs": [],
   "source": []
  },
  {
   "cell_type": "code",
   "execution_count": null,
   "metadata": {},
   "outputs": [],
   "source": []
  },
  {
   "cell_type": "code",
   "execution_count": null,
   "metadata": {},
   "outputs": [],
   "source": []
  },
  {
   "cell_type": "code",
   "execution_count": null,
   "metadata": {},
   "outputs": [],
   "source": []
  },
  {
   "cell_type": "code",
   "execution_count": null,
   "metadata": {},
   "outputs": [],
   "source": []
  },
  {
   "cell_type": "code",
   "execution_count": 10,
   "metadata": {},
   "outputs": [
    {
     "ename": "UnboundLocalError",
     "evalue": "local variable 'main_part' referenced before assignment",
     "output_type": "error",
     "traceback": [
      "\u001b[0;31m---------------------------------------------------------------------------\u001b[0m",
      "\u001b[0;31mUnboundLocalError\u001b[0m                         Traceback (most recent call last)",
      "\u001b[0;32m<ipython-input-10-1e523050d5d9>\u001b[0m in \u001b[0;36m<module>\u001b[0;34m\u001b[0m\n\u001b[0;32m----> 1\u001b[0;31m \u001b[0mfinal_list\u001b[0m\u001b[0;34m,\u001b[0m \u001b[0msub_queries\u001b[0m \u001b[0;34m=\u001b[0m \u001b[0mflatten_subquery\u001b[0m\u001b[0;34m(\u001b[0m\u001b[0mfinal_list\u001b[0m\u001b[0;34m,\u001b[0m \u001b[0msub_queries\u001b[0m\u001b[0;34m,\u001b[0m \u001b[0mlevel_num\u001b[0m\u001b[0;34m=\u001b[0m\u001b[0;36m3\u001b[0m\u001b[0;34m)\u001b[0m\u001b[0;34m\u001b[0m\u001b[0;34m\u001b[0m\u001b[0m\n\u001b[0m\u001b[1;32m      2\u001b[0m \u001b[0mfinal_list\u001b[0m\u001b[0;34m,\u001b[0m \u001b[0msub_queries\u001b[0m\u001b[0;34m\u001b[0m\u001b[0;34m\u001b[0m\u001b[0m\n",
      "\u001b[0;32m<ipython-input-1-e86ca6531544>\u001b[0m in \u001b[0;36mflatten_subquery\u001b[0;34m(final_list, sub_queries, level_num)\u001b[0m\n\u001b[1;32m     15\u001b[0m             \u001b[0mquery_dict\u001b[0m \u001b[0;34m=\u001b[0m \u001b[0;34m{\u001b[0m\u001b[0;34m}\u001b[0m\u001b[0;34m\u001b[0m\u001b[0;34m\u001b[0m\u001b[0m\n\u001b[1;32m     16\u001b[0m             \u001b[0;32mif\u001b[0m \u001b[0munbundled\u001b[0m\u001b[0;34m.\u001b[0m\u001b[0mhas_child\u001b[0m\u001b[0;34m(\u001b[0m\u001b[0mformatted_query\u001b[0m\u001b[0;34m)\u001b[0m\u001b[0;34m:\u001b[0m\u001b[0;34m\u001b[0m\u001b[0;34m\u001b[0m\u001b[0m\n\u001b[0;32m---> 17\u001b[0;31m                 \u001b[0mquery_dict\u001b[0m\u001b[0;34m,\u001b[0m \u001b[0msub_queries\u001b[0m \u001b[0;34m=\u001b[0m \u001b[0munbundled\u001b[0m\u001b[0;34m.\u001b[0m\u001b[0mrestructure_subquery\u001b[0m\u001b[0;34m(\u001b[0m\u001b[0mquery_dict\u001b[0m\u001b[0;34m,\u001b[0m \u001b[0;34m'level_{}_main'\u001b[0m\u001b[0;34m.\u001b[0m\u001b[0mformat\u001b[0m\u001b[0;34m(\u001b[0m\u001b[0mlevel_num\u001b[0m\u001b[0;34m)\u001b[0m\u001b[0;34m,\u001b[0m \u001b[0mformatted_query\u001b[0m\u001b[0;34m)\u001b[0m\u001b[0;34m\u001b[0m\u001b[0;34m\u001b[0m\u001b[0m\n\u001b[0m\u001b[1;32m     18\u001b[0m             \u001b[0;32melse\u001b[0m\u001b[0;34m:\u001b[0m\u001b[0;34m\u001b[0m\u001b[0;34m\u001b[0m\u001b[0m\n\u001b[1;32m     19\u001b[0m                 \u001b[0msub_queries\u001b[0m \u001b[0;34m=\u001b[0m \u001b[0;34m[\u001b[0m\u001b[0;34m]\u001b[0m\u001b[0;34m\u001b[0m\u001b[0;34m\u001b[0m\u001b[0m\n",
      "\u001b[0;32m~/Dev/sqlanalyzer/sqlanalyzer/unbundle.py\u001b[0m in \u001b[0;36mrestructure_subquery\u001b[0;34m(self, query_dict, query_name, sub_query)\u001b[0m\n\u001b[1;32m    242\u001b[0m     \u001b[0;32mdef\u001b[0m \u001b[0mrestructure_subquery\u001b[0m\u001b[0;34m(\u001b[0m\u001b[0mself\u001b[0m\u001b[0;34m,\u001b[0m \u001b[0mquery_dict\u001b[0m\u001b[0;34m,\u001b[0m \u001b[0mquery_name\u001b[0m\u001b[0;34m,\u001b[0m \u001b[0msub_query\u001b[0m\u001b[0;34m)\u001b[0m\u001b[0;34m:\u001b[0m\u001b[0;34m\u001b[0m\u001b[0;34m\u001b[0m\u001b[0m\n\u001b[1;32m    243\u001b[0m \u001b[0;34m\u001b[0m\u001b[0m\n\u001b[0;32m--> 244\u001b[0;31m         \u001b[0mmain_query\u001b[0m\u001b[0;34m,\u001b[0m \u001b[0msub_queries\u001b[0m \u001b[0;34m=\u001b[0m \u001b[0mself\u001b[0m\u001b[0;34m.\u001b[0m\u001b[0mdelevel\u001b[0m\u001b[0;34m(\u001b[0m\u001b[0msub_query\u001b[0m\u001b[0;34m)\u001b[0m\u001b[0;34m\u001b[0m\u001b[0;34m\u001b[0m\u001b[0m\n\u001b[0m\u001b[1;32m    245\u001b[0m         \u001b[0mquery_dict\u001b[0m\u001b[0;34m[\u001b[0m\u001b[0mquery_name\u001b[0m\u001b[0;34m]\u001b[0m \u001b[0;34m=\u001b[0m \u001b[0mmain_query\u001b[0m\u001b[0;34m\u001b[0m\u001b[0;34m\u001b[0m\u001b[0m\n\u001b[1;32m    246\u001b[0m \u001b[0;34m\u001b[0m\u001b[0m\n",
      "\u001b[0;32m~/Dev/sqlanalyzer/sqlanalyzer/unbundle.py\u001b[0m in \u001b[0;36mdelevel\u001b[0;34m(self, query)\u001b[0m\n\u001b[1;32m    235\u001b[0m \u001b[0;34m\u001b[0m\u001b[0m\n\u001b[1;32m    236\u001b[0m         \u001b[0mmain_query\u001b[0m\u001b[0;34m,\u001b[0m \u001b[0mcopy_query_list\u001b[0m \u001b[0;34m=\u001b[0m \u001b[0mself\u001b[0m\u001b[0;34m.\u001b[0m\u001b[0mget_sub_query\u001b[0m\u001b[0;34m(\u001b[0m\u001b[0mquery_list\u001b[0m\u001b[0;34m)\u001b[0m\u001b[0;34m\u001b[0m\u001b[0;34m\u001b[0m\u001b[0m\n\u001b[0;32m--> 237\u001b[0;31m         \u001b[0mmain_query\u001b[0m\u001b[0;34m,\u001b[0m \u001b[0msub_queries\u001b[0m \u001b[0;34m=\u001b[0m \u001b[0mself\u001b[0m\u001b[0;34m.\u001b[0m\u001b[0mseparator\u001b[0m\u001b[0;34m(\u001b[0m\u001b[0mcopy_query_list\u001b[0m\u001b[0;34m,\u001b[0m \u001b[0mmain_query\u001b[0m\u001b[0;34m)\u001b[0m\u001b[0;34m\u001b[0m\u001b[0;34m\u001b[0m\u001b[0m\n\u001b[0m\u001b[1;32m    238\u001b[0m \u001b[0;34m\u001b[0m\u001b[0m\n\u001b[1;32m    239\u001b[0m         \u001b[0;32mreturn\u001b[0m \u001b[0mmain_query\u001b[0m\u001b[0;34m,\u001b[0m \u001b[0msub_queries\u001b[0m\u001b[0;34m\u001b[0m\u001b[0;34m\u001b[0m\u001b[0m\n",
      "\u001b[0;32m~/Dev/sqlanalyzer/sqlanalyzer/unbundle.py\u001b[0m in \u001b[0;36mseparator\u001b[0;34m(self, copy_query_list, main_query)\u001b[0m\n\u001b[1;32m    223\u001b[0m             \u001b[0msub_join\u001b[0m\u001b[0;34m,\u001b[0m \u001b[0msub_query_list_copy\u001b[0m \u001b[0;34m=\u001b[0m \u001b[0mself\u001b[0m\u001b[0;34m.\u001b[0m\u001b[0m_divider\u001b[0m\u001b[0;34m(\u001b[0m\u001b[0msub_query_list_copy\u001b[0m\u001b[0;34m)\u001b[0m\u001b[0;34m\u001b[0m\u001b[0;34m\u001b[0m\u001b[0m\n\u001b[1;32m    224\u001b[0m             \u001b[0msub_query\u001b[0m \u001b[0;34m=\u001b[0m \u001b[0;34m' '\u001b[0m\u001b[0;34m.\u001b[0m\u001b[0mjoin\u001b[0m\u001b[0;34m(\u001b[0m\u001b[0msub_join\u001b[0m\u001b[0;34m)\u001b[0m\u001b[0;34m\u001b[0m\u001b[0;34m\u001b[0m\u001b[0m\n\u001b[0;32m--> 225\u001b[0;31m             \u001b[0mmain_query\u001b[0m\u001b[0;34m,\u001b[0m \u001b[0msub_query_dict\u001b[0m \u001b[0;34m=\u001b[0m \u001b[0mself\u001b[0m\u001b[0;34m.\u001b[0m\u001b[0m_stitch_main\u001b[0m\u001b[0;34m(\u001b[0m\u001b[0mmain_query\u001b[0m\u001b[0;34m,\u001b[0m \u001b[0msub_query\u001b[0m\u001b[0;34m)\u001b[0m\u001b[0;34m\u001b[0m\u001b[0;34m\u001b[0m\u001b[0m\n\u001b[0m\u001b[1;32m    226\u001b[0m             \u001b[0;32mif\u001b[0m \u001b[0msub_query_dict\u001b[0m \u001b[0;34m!=\u001b[0m \u001b[0;34m{\u001b[0m\u001b[0;34m}\u001b[0m\u001b[0;34m:\u001b[0m \u001b[0msub_queries\u001b[0m\u001b[0;34m.\u001b[0m\u001b[0mappend\u001b[0m\u001b[0;34m(\u001b[0m\u001b[0msub_query_dict\u001b[0m\u001b[0;34m)\u001b[0m\u001b[0;34m\u001b[0m\u001b[0;34m\u001b[0m\u001b[0m\n\u001b[1;32m    227\u001b[0m \u001b[0;34m\u001b[0m\u001b[0m\n",
      "\u001b[0;32m~/Dev/sqlanalyzer/sqlanalyzer/unbundle.py\u001b[0m in \u001b[0;36m_stitch_main\u001b[0;34m(self, main_query, sub_query)\u001b[0m\n\u001b[1;32m    208\u001b[0m         \u001b[0msub_query_dict\u001b[0m \u001b[0;34m=\u001b[0m \u001b[0;34m{\u001b[0m\u001b[0;34m}\u001b[0m\u001b[0;34m\u001b[0m\u001b[0;34m\u001b[0m\u001b[0m\n\u001b[1;32m    209\u001b[0m         \u001b[0;32mif\u001b[0m \u001b[0mself\u001b[0m\u001b[0;34m.\u001b[0m\u001b[0mhas_child\u001b[0m\u001b[0;34m(\u001b[0m\u001b[0msub_query\u001b[0m\u001b[0;34m)\u001b[0m\u001b[0;34m:\u001b[0m\u001b[0;34m\u001b[0m\u001b[0;34m\u001b[0m\u001b[0m\n\u001b[0;32m--> 210\u001b[0;31m             \u001b[0mmain_query\u001b[0m\u001b[0;34m,\u001b[0m \u001b[0msub_query_dict\u001b[0m \u001b[0;34m=\u001b[0m \u001b[0mself\u001b[0m\u001b[0;34m.\u001b[0m\u001b[0m_parse_alias\u001b[0m\u001b[0;34m(\u001b[0m\u001b[0mmain_query\u001b[0m\u001b[0;34m,\u001b[0m \u001b[0msub_query\u001b[0m\u001b[0;34m)\u001b[0m\u001b[0;34m\u001b[0m\u001b[0;34m\u001b[0m\u001b[0m\n\u001b[0m\u001b[1;32m    211\u001b[0m         \u001b[0;32melse\u001b[0m\u001b[0;34m:\u001b[0m\u001b[0;34m\u001b[0m\u001b[0;34m\u001b[0m\u001b[0m\n\u001b[1;32m    212\u001b[0m             \u001b[0mmain_query\u001b[0m\u001b[0;34m.\u001b[0m\u001b[0mappend\u001b[0m\u001b[0;34m(\u001b[0m\u001b[0msub_query\u001b[0m\u001b[0;34m)\u001b[0m\u001b[0;34m\u001b[0m\u001b[0;34m\u001b[0m\u001b[0m\n",
      "\u001b[0;32m~/Dev/sqlanalyzer/sqlanalyzer/unbundle.py\u001b[0m in \u001b[0;36m_parse_alias\u001b[0;34m(self, main_query, sub_query)\u001b[0m\n\u001b[1;32m    182\u001b[0m                     \u001b[0malias\u001b[0m \u001b[0;34m=\u001b[0m \u001b[0;34m'no alias'\u001b[0m\u001b[0;34m\u001b[0m\u001b[0;34m\u001b[0m\u001b[0m\n\u001b[1;32m    183\u001b[0m \u001b[0;34m\u001b[0m\u001b[0m\n\u001b[0;32m--> 184\u001b[0;31m             \u001b[0mmain_query\u001b[0m\u001b[0;34m.\u001b[0m\u001b[0mextend\u001b[0m\u001b[0;34m(\u001b[0m\u001b[0mmain_part\u001b[0m\u001b[0;34m)\u001b[0m\u001b[0;34m\u001b[0m\u001b[0;34m\u001b[0m\u001b[0m\n\u001b[0m\u001b[1;32m    185\u001b[0m \u001b[0;34m\u001b[0m\u001b[0m\n\u001b[1;32m    186\u001b[0m         \u001b[0;32melif\u001b[0m \u001b[0msub_query_list\u001b[0m\u001b[0;34m[\u001b[0m\u001b[0;36m0\u001b[0m\u001b[0;34m]\u001b[0m\u001b[0;34m.\u001b[0m\u001b[0mrstrip\u001b[0m\u001b[0;34m(\u001b[0m\u001b[0;34m'\\n '\u001b[0m\u001b[0;34m)\u001b[0m \u001b[0;34m==\u001b[0m \u001b[0;34m'CROSS'\u001b[0m\u001b[0;34m:\u001b[0m\u001b[0;34m\u001b[0m\u001b[0;34m\u001b[0m\u001b[0m\n",
      "\u001b[0;31mUnboundLocalError\u001b[0m: local variable 'main_part' referenced before assignment"
     ]
    }
   ],
   "source": [
    "final_list, sub_queries = flatten_subquery(final_list, sub_queries, level_num=3)\n",
    "final_list, sub_queries"
   ]
  },
  {
   "cell_type": "code",
   "execution_count": null,
   "metadata": {},
   "outputs": [],
   "source": []
  },
  {
   "cell_type": "code",
   "execution_count": null,
   "metadata": {},
   "outputs": [],
   "source": []
  },
  {
   "cell_type": "code",
   "execution_count": null,
   "metadata": {},
   "outputs": [],
   "source": []
  },
  {
   "cell_type": "markdown",
   "metadata": {},
   "source": [
    "## type B: CTE ( subqueries )\n",
    "\n",
    "WITH a AS ()..."
   ]
  },
  {
   "cell_type": "code",
   "execution_count": null,
   "metadata": {},
   "outputs": [],
   "source": [
    "query = \"\"\"WITH reg_users AS\\n  (SELECT *\\n   FROM\\n     (SELECT a.*,\\n             b.*,\\n             c.*,\\n             d.*\\n      FROM\\n        (SELECT DISTINCT anonymous_id,\\n                         user_id\\n         FROM mapbox_customer_data.segment_identifies\\n         WHERE dt >= '2018-07-01'\\n           AND anonymous_id IS NOT NULL\\n           AND user_id IS NOT NULL ) a\\n      LEFT JOIN\\n        (SELECT id,\\n                email,\\n                created\\n         FROM mapbox_customer_data.accounts\\n         WHERE cast(dt AS DATE) = CURRENT_DATE - INTERVAL '1' DAY ) b ON a.user_id = b.id\\n      LEFT JOIN\\n        (SELECT anonymous_id AS anon_id_ad,\\n                context_campaign_name,\\n                min(TIMESTAMP) AS min_exposure\\n         FROM mapbox_customer_data.segment_pages\\n         WHERE dt >= '2018-07-01'\\n           AND context_campaign_name IS NOT NULL\\n         GROUP BY 1,\\n                  2) c ON a.anonymous_id = c.anon_id_ad\\n      LEFT JOIN\\n        (SELECT DISTINCT anonymous_id AS anon_id_event,\\n                         original_timestamp,\\n                         event,\\n                         context_traits_email\\n         FROM mapbox_customer_data.segment_tracks\\n         WHERE dt >= '2018-07-01'\\n           AND event LIKE 'submitted_%form'\\n           AND context_traits_email IS NOT NULL ) d ON a.anonymous_id = d.anon_id_event)\\n   WHERE context_campaign_name IS NOT NULL ),\\n\\n     non_reg_users AS\\n  (SELECT context_campaign_name,\\n          min_exposure,\\n          event,\\n          original_timestamp AS event_timestamp,\\n          context_traits_email AS event_email\\n   FROM\\n     (SELECT a.*,\\n             b.*\\n      FROM\\n        (SELECT anonymous_id AS anon_id_ad,\\n                context_campaign_name,\\n                min(original_timestamp) AS min_exposure\\n         FROM\\n           (SELECT context_campaign_name,\\n                   anonymous_id,\\n                   original_timestamp\\n            FROM mapbox_customer_data.segment_pages\\n            WHERE dt >= '2018-07-01'\\n              AND context_campaign_name IS NOT NULL )\\n         GROUP BY 1,\\n                  2) a\\n      LEFT JOIN\\n        (SELECT DISTINCT anonymous_id AS anon_id_event,\\n                         original_timestamp,\\n                         event,\\n                         context_traits_email\\n         FROM mapbox_customer_data.segment_tracks\\n         WHERE dt >= '2018-07-01'\\n           AND event LIKE 'submitted_%form'\\n           AND context_traits_email IS NOT NULL ) b ON a.anon_id_ad = b.anon_id_event)\\n   WHERE anon_id_event IS NOT NULL\\n     AND to_unixtime(min_exposure) <= to_unixtime(original_timestamp)\\n     AND cast(min_exposure AS DATE) >= cast(original_timestamp AS DATE) - INTERVAL '28' DAY ),\\n\\n     mql_flag AS\\n  (SELECT email,\\n          created_date,\\n          last_mql_date_c,\\n          mql_flag\\n   FROM\\n     (SELECT email,\\n             min(created_date) created_date,\\n             max(last_mql_date_c) last_mql_date_c,\\n             CASE\\n                 WHEN max(last_mql_date_c) IS NOT NULL THEN 1\\n                 ELSE 0\\n             END AS mql_flag,\\n             sum(CASE\\n                     WHEN is_deleted = TRUE THEN 1\\n                     ELSE 0\\n                 END) AS is_deleted\\n      FROM sales.salesforce_leads\\n      WHERE cast(dt AS DATE) = CURRENT_DATE - INTERVAL '1' DAY\\n      GROUP BY 1)\\n   WHERE mql_flag = 1\\n     AND is_deleted = 0 ),\\n\\n     cleaned_list AS\\n  (SELECT DISTINCT *\\n   FROM\\n     (SELECT context_campaign_name,\\n             min_exposure,\\n             'created_an_account' AS event,\\n             created AS event_timestamp,\\n             email AS event_email\\n      FROM reg_users\\n      WHERE to_unixtime(min_exposure) <= to_unixtime(created)\\n        AND cast(min_exposure AS DATE) >= cast(created AS DATE) - INTERVAL '28' DAY\\n      UNION ALL SELECT context_campaign_name,\\n                       min_exposure,\\n                       event,\\n                       original_timestamp AS event_timestamp,\\n                       context_traits_email AS event_email\\n      FROM reg_users\\n      WHERE to_unixtime(min_exposure) <= to_unixtime(original_timestamp)\\n        AND cast(min_exposure AS DATE) >= cast(original_timestamp AS DATE) - INTERVAL '28' DAY\\n      UNION ALL SELECT *\\n      FROM non_reg_users))\\n\\nSELECT a.*,\\n       b.*\\nFROM cleaned_list a\\nLEFT JOIN mql_flag b ON a.event_email = b.email\\n\\n\"\n",
    "\"\"\""
   ]
  },
  {
   "cell_type": "code",
   "execution_count": null,
   "metadata": {
    "scrolled": true
   },
   "outputs": [],
   "source": [
    "if query.startswith('WITH'):\n",
    "    formatter = column_parser.Parser(query)\n",
    "    formatted_query = formatter.format_query(query)\n",
    "    query_list = formatted_query.split('\\n')"
   ]
  },
  {
   "cell_type": "code",
   "execution_count": null,
   "metadata": {},
   "outputs": [],
   "source": [
    "cte_dict = formatter.parse_cte(formatted_query)\n",
    "# cte_dict_new = {}\n",
    "# for alias, cte_query in cte_dict.items():\n",
    "#     cte_dict_new[alias] = cte_query.rstrip('\\n),')\n",
    "     "
   ]
  },
  {
   "cell_type": "code",
   "execution_count": null,
   "metadata": {},
   "outputs": [],
   "source": [
    "# final_list = []\n",
    "# for alias, cte_query in cte_dict_new.items():\n",
    "#     if unbundled.has_child(cte_query):\n",
    "#         final_list.append({alias: flatten_pure_nested(cte_query)})\n",
    "#     else:\n",
    "#         final_list.append({alias: cte_query})\n",
    "    "
   ]
  },
  {
   "cell_type": "code",
   "execution_count": null,
   "metadata": {},
   "outputs": [],
   "source": [
    "cte_query = cte_dict['mql_flag'].rstrip('\\n,\\)')\n",
    "cte_query"
   ]
  },
  {
   "cell_type": "code",
   "execution_count": null,
   "metadata": {},
   "outputs": [],
   "source": [
    "print(cte_query)"
   ]
  },
  {
   "cell_type": "code",
   "execution_count": null,
   "metadata": {
    "scrolled": true
   },
   "outputs": [],
   "source": [
    "flatten_pure_nested(cte_query)"
   ]
  },
  {
   "cell_type": "code",
   "execution_count": null,
   "metadata": {},
   "outputs": [],
   "source": []
  },
  {
   "cell_type": "code",
   "execution_count": null,
   "metadata": {},
   "outputs": [],
   "source": []
  },
  {
   "cell_type": "code",
   "execution_count": null,
   "metadata": {},
   "outputs": [],
   "source": []
  },
  {
   "cell_type": "code",
   "execution_count": null,
   "metadata": {},
   "outputs": [],
   "source": []
  },
  {
   "cell_type": "code",
   "execution_count": null,
   "metadata": {},
   "outputs": [],
   "source": []
  },
  {
   "cell_type": "markdown",
   "metadata": {},
   "source": [
    "## type C: subquery ( CTE ( subqueries ) )\n",
    "\n",
    "SELECT FROM (SELECT FROM (WITH a AS ()...))"
   ]
  },
  {
   "cell_type": "code",
   "execution_count": null,
   "metadata": {},
   "outputs": [],
   "source": [
    "query = \"\"\"SELECT * FROM (SELECT *\\nFROM (\\n  with reg_users as (\\n  \\n  \\tselect * \\n  \\tfrom (\\n  \\tselect \\n  \\t        a.*\\n  \\t        , b.*\\n  \\t        , c.*\\n  \\t        , d.*\\n  \\tfrom \\n  \\t(\\n  \\tselect \\n  \\t        distinct \\n  \\t        anonymous_id\\n  \\t        , user_id\\n  \\tfrom mapbox_customer_data.segment_identifies\\n  \\twhere dt >= \\'2018-07-01\\'\\n  \\tand anonymous_id is not null\\n  \\tand user_id is not null\\n  \\t) a\\n  \\n  \\tleft join \\n  \\n  \\t(\\n  \\tselect \\n  \\t        id \\n  \\t        , email\\n  \\t        , created\\n  \\tfrom mapbox_customer_data.accounts\\n  \\twhere cast(dt as DATE) = CURRENT_DATE - INTERVAL \\'1\\' DAY \\n  \\t) b\\n  \\t        on a.user_id = b.id\\n  \\n  \\tleft join \\n  \\n  \\t(\\n  \\t    \\n  \\t        select        \\n  \\t                anonymous_id as anon_id_ad\\n  \\t                , context_campaign_name\\n  \\t                , min(timestamp) as min_exposure\\n  \\t        from mapbox_customer_data.segment_pages\\n  \\t        where dt >= \\'2018-07-01\\'\\n  \\t        and context_campaign_name is not null\\n  \\t        group by 1,2\\n  \\n  \\t) c \\n  \\t        on a.anonymous_id = c.anon_id_ad\\n  \\t        \\n  \\tleft join \\n  \\n  \\t(\\n  \\t        select \\n  \\t                distinct\\n  \\t                anonymous_id as anon_id_event\\n  \\t                , original_timestamp\\n  \\t                , event\\n  \\t                , context_traits_email\\n  \\t        from mapbox_customer_data.segment_tracks\\n  \\t        where dt >= \\'2018-07-01\\'\\n  \\t        and event like \\'submitted_%form\\'\\n  \\t        and context_traits_email is not null\\n  \\t) d\\n  \\t        on a.anonymous_id = d.anon_id_event\\n  \\n  \\t) \\n  \\twhere context_campaign_name is not null\\n  \\n  ), \\n  \\n  non_reg_users as (\\n  \\n  \\tselect \\n  \\t        context_campaign_name\\n  \\t        , min_exposure\\n  \\t        , event\\n  \\t        , original_timestamp as event_timestamp\\n  \\t        , context_traits_email as event_email\\n  \\tfrom (\\n  \\tselect a.*\\n  \\t        , b.*\\n  \\tfrom \\n  \\t(\\n  \\t        select \\n  \\t                anonymous_id as anon_id_ad\\n  \\t                , context_campaign_name\\n  \\t                , min(original_timestamp) as min_exposure\\n  \\t        from (       \\n  \\t        select        \\n  \\t                context_campaign_name\\n  \\t                , anonymous_id\\n  \\t                , original_timestamp \\n  \\t        from mapbox_customer_data.segment_pages\\n  \\t        where dt >= \\'2018-07-01\\'\\n  \\t        and context_campaign_name is not null\\n  \\t        )\\n  \\t        group by 1,2\\n  \\t) a\\n  \\n  \\tleft join \\n  \\t(\\n  \\t        select \\n  \\t                distinct\\n  \\t                anonymous_id as anon_id_event\\n  \\t                , original_timestamp\\n  \\t                , event\\n  \\t                , context_traits_email\\n  \\t        from mapbox_customer_data.segment_tracks\\n  \\t        where dt >= \\'2018-07-01\\'\\n  \\t        and event like \\'submitted_%form\\'\\n  \\t        and context_traits_email is not null\\n  \\t) b\\n  \\t        on a.anon_id_ad = b.anon_id_event\\n  \\n  \\t)\\n  \\twhere anon_id_event is not null\\n  \\tand to_unixtime(min_exposure) <= to_unixtime(original_timestamp)\\n  \\tand cast(min_exposure as DATE) >= cast(original_timestamp as DATE) - INTERVAL \\'28\\' DAY\\n  \\n  \\n  ), \\n  \\n  mql_flag as (\\n  \\n  \\tselect \\n  \\t        email\\n  \\t        , created_date\\n  \\t        , last_mql_date_c\\n  \\t        , mql_flag\\n  \\tfrom (\\n  \\n  \\tselect \\n  \\t        email\\n  \\t        , min(created_date) created_date\\n  \\t        , max(last_mql_date_c) last_mql_date_c\\n  \\t        , case when max(last_mql_date_c) is not null then 1 else 0 end as mql_flag\\n  \\t        , sum(case when is_deleted = true then 1 else 0 end) as is_deleted\\n  \\tfrom sales.salesforce_leads\\n  \\twhere cast(dt as DATE) = CURRENT_DATE - INTERVAL \\'1\\' DAY \\n  \\tgroup by 1\\n  \\t)\\n  \\twhere mql_flag = 1\\n  \\tand is_deleted = 0\\n  \\n  ),\\n  \\n  cleaned_list as (\\n  \\n  \\n  \\tselect \\n  \\t\\tdistinct \\n  \\t\\t\\t*\\n  \\tfrom (\\n  \\t\\tselect \\n  \\t\\t        context_campaign_name\\n  \\t\\t        , min_exposure\\n  \\t\\t        , \\'created_an_account\\' as event\\n  \\t\\t        , created as event_timestamp\\n  \\t\\t        , email as event_email\\n  \\t\\tfrom reg_users        \\n  \\t\\twhere to_unixtime(min_exposure) <= to_unixtime(created)\\n  \\t\\tand cast(min_exposure as DATE) >= cast(created as DATE) - INTERVAL \\'28\\' DAY\\n  \\n  \\n  \\t\\tunion all\\n  \\n  \\n  \\t\\tselect \\n  \\t\\t        context_campaign_name\\n  \\t\\t        , min_exposure\\n  \\t\\t        , event\\n  \\t\\t        , original_timestamp as event_timestamp\\n  \\t\\t        , context_traits_email as event_email\\n  \\t\\tfrom reg_users      \\n  \\t\\twhere to_unixtime(min_exposure) <= to_unixtime(original_timestamp)\\n  \\t\\tand cast(min_exposure as DATE) >= cast(original_timestamp as DATE) - INTERVAL \\'28\\' DAY\\n  \\n  \\t\\tunion all\\n  \\n  \\t\\tselect * \\n  \\t\\tfrom non_reg_users\\n  \\t)\\n  \\n  )\\n  \\n  \\n  \\n  select \\n  \\ta.*\\n  \\t, b.*\\n  from cleaned_list a\\n  left join mql_flag b \\n  \\ton a.event_email = b.email\\n) \"custom_sql_query\"\\nLIMIT 0) T LIMIT 0\n",
    "\"\"\"\n"
   ]
  }
 ],
 "metadata": {
  "kernelspec": {
   "display_name": "Python 3",
   "language": "python",
   "name": "python3"
  },
  "language_info": {
   "codemirror_mode": {
    "name": "ipython",
    "version": 3
   },
   "file_extension": ".py",
   "mimetype": "text/x-python",
   "name": "python",
   "nbconvert_exporter": "python",
   "pygments_lexer": "ipython3",
   "version": "3.7.4"
  }
 },
 "nbformat": 4,
 "nbformat_minor": 2
}
