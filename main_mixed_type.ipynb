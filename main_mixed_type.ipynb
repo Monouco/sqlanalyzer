{
 "cells": [
  {
   "cell_type": "code",
   "execution_count": 5,
   "metadata": {},
   "outputs": [],
   "source": [
    "from sqlanalyzer import column_parser, unbundle\n",
    "import sqlparse\n",
    "import re\n",
    "import json\n",
    "import pandas as pd\n",
    "import time\n",
    "\n",
    "\n",
    "def flatten_subquery(final_list, sub_queries, level_num):\n",
    "    \n",
    "    for q in sub_queries:\n",
    "        for alias,query in q.items():\n",
    "            formatter = column_parser.Parser(query)\n",
    "            formatted_query = formatter.format_query(query)\n",
    "            unbundled = unbundle.Unbundle(formatted_query)\n",
    "            query_dict = {}\n",
    "            if unbundled.has_child(query):\n",
    "                if alias == 'no alias' or alias == '' or alias == 'query':\n",
    "                    query_dict, sub_queries = unbundled.restructure_subquery(query_dict, 'level_{}_main'.format(level_num), formatted_query)\n",
    "                else:\n",
    "                    query_dict, sub_queries = unbundled.restructure_subquery(query_dict, alias, formatted_query)\n",
    "\n",
    "        if query_dict != {}:\n",
    "            final_list.append(query_dict)\n",
    "\n",
    "        for subq in sub_queries:\n",
    "            for _, sub_query in subq.items():\n",
    "                if not unbundled.has_child(sub_query): \n",
    "                    final_list.append(subq)\n",
    "                    sub_queries.remove(subq)\n",
    "\n",
    "    return final_list, sub_queries\n",
    "\n",
    "\n",
    "def flatten_pure_nested(query):\n",
    "\n",
    "    sub_queries = [{'query': query}]\n",
    "    final_list = []\n",
    "    i = 0\n",
    "\n",
    "    while sub_queries != []:\n",
    "        i += 1\n",
    "        final_list, sub_queries = flatten_subquery(final_list, sub_queries, level_num=i)\n",
    "\n",
    "    return final_list\n",
    "\n",
    "def flatten_cte_nested(unbundled, cte_dict):\n",
    "    cte_list = []\n",
    "\n",
    "    for cte_alias, cte_query in cte_dict.items():\n",
    "        if unbundled.has_child(cte_query):\n",
    "            cte_list.append({cte_alias: flatten_pure_nested(cte_query)})\n",
    "        else:\n",
    "            cte_list.append({cte_alias: cte_query})\n",
    "    return cte_list\n",
    "\n",
    "\n",
    "def parse_query(raw_query):\n",
    "\n",
    "    formatter = column_parser.Parser(raw_query)\n",
    "    formatted_query = formatter.format_query(raw_query)\n",
    "\n",
    "    if 'WITH' in formatted_query:\n",
    "\n",
    "        if formatted_query.startswith('WITH'):\n",
    "\n",
    "            cte_dict = formatter.parse_cte(formatted_query)\n",
    "            unbundled = unbundle.Unbundle(formatted_query)\n",
    "            final_list = flatten_cte_nested(unbundled, cte_dict)\n",
    "\n",
    "        else:\n",
    "            sub_query_list = flatten_pure_nested(formatted_query)\n",
    "            final_list = []\n",
    "            for q in sub_query_list: \n",
    "\n",
    "                for alias, query in q.items():\n",
    "                    if 'WITH' in query:\n",
    "                        formatter = column_parser.Parser(query)\n",
    "                        formatted_query = formatter.format_query(query)\n",
    "\n",
    "                        cte_dict = formatter.parse_cte(formatted_query)\n",
    "                        unbundled = unbundle.Unbundle(formatted_query)\n",
    "\n",
    "                        cte_list = flatten_cte_nested(unbundled, cte_dict)\n",
    "                        final_list.append({alias: cte_list})\n",
    "\n",
    "                    else:\n",
    "                        final_list.append(q)\n",
    "\n",
    "    else:\n",
    "        final_list = flatten_pure_nested(raw_query)\n",
    "\n",
    "    return final_list\n"
   ]
  },
  {
   "cell_type": "markdown",
   "metadata": {},
   "source": [
    "## type A: subquery ( subqueries ) \n",
    "\n",
    "SELECT FROM (SELECT FROM (...))"
   ]
  },
  {
   "cell_type": "code",
   "execution_count": 12,
   "metadata": {},
   "outputs": [],
   "source": [
    "query = \"\"\"SELECT *\n",
    "   FROM\n",
    "     (SELECT a.*,\n",
    "             b.*,\n",
    "             c.*,\n",
    "             d.*\n",
    "      FROM\n",
    "        (SELECT DISTINCT anonymous_id,\n",
    "                         user_id\n",
    "         FROM mapbox_customer_data.segment_identifies\n",
    "         WHERE dt >= '2018-07-01'\n",
    "           AND anonymous_id IS NOT NULL\n",
    "           AND user_id IS NOT NULL ) a\n",
    "      LEFT JOIN\n",
    "        (SELECT id,\n",
    "                email,\n",
    "                created\n",
    "         FROM mapbox_customer_data.accounts\n",
    "         WHERE cast(dt AS DATE) = CURRENT_DATE - INTERVAL '1' DAY ) b ON a.user_id = b.id\n",
    "      LEFT JOIN\n",
    "        (SELECT anonymous_id AS anon_id_ad,\n",
    "                context_campaign_name,\n",
    "                min(TIMESTAMP) AS min_exposure\n",
    "         FROM mapbox_customer_data.segment_pages\n",
    "         WHERE dt >= '2018-07-01'\n",
    "           AND context_campaign_name IS NOT NULL\n",
    "         GROUP BY 1,\n",
    "                  2) c ON a.anonymous_id = c.anon_id_ad\n",
    "      LEFT JOIN\n",
    "        (SELECT DISTINCT anonymous_id AS anon_id_event,\n",
    "                         original_timestamp,\n",
    "                         event,\n",
    "                         context_traits_email\n",
    "         FROM mapbox_customer_data.segment_tracks\n",
    "         WHERE dt >= '2018-07-01'\n",
    "           AND event LIKE 'submitted_%form'\n",
    "           AND context_traits_email IS NOT NULL ) d ON a.anonymous_id = d.anon_id_event\n",
    "    LEFT JOIN\n",
    "        (SELECT sfdc_accounts.platform, sfdc_accounts.mobile_os, sfdc_accounts.service_metadata,\n",
    "sfdc_cases.account, sfdc_cases.num_requests, sfdc_cases.owner, sfdc_accounts.user_id\n",
    "FROM sfdc.accounts sfdc_accounts\n",
    "LEFT JOIN \n",
    "(SELECT MAX(dt) FROM \n",
    "    (SELECT dt \n",
    "    FROM sfdc.oppty \n",
    "    LEFT JOIN (SELECT MAX(dt) FROM (SELECT DISTINCT dt FROM sfdc.owner AS sfdc_owner) AS dt_owner ON sfdc_oppty.dt = sfdc_cases.dt)\n",
    "    LEFT JOIN (SELECT dt FROM sfdc.cases) sfdc_cases ON sfdc_oppty.dt = sfdc_cases.dt) )\n",
    "AS sfdc_cases_oppty ON sfdc_cases_oppty.dt = sfdc_accounts.dt\n",
    "LEFT JOIN sfdc.cases AS sfdc_cases ON sfdc_cases.id = sfdc_accounts.case_id\n",
    "WHERE sfdc_cases_oppty.dt > '2020-04-03' AND sfdc_cases_oppty.dt < '2020-05-04' ORDER BY 1 GROUP BY 3 LIMIT 20\n",
    "        ) e ON e.user_id = a.user_id\n",
    "        )\n",
    "   WHERE context_campaign_name IS NOT NULL \n",
    "\"\"\"\n"
   ]
  },
  {
   "cell_type": "code",
   "execution_count": 7,
   "metadata": {},
   "outputs": [
    {
     "data": {
      "text/plain": [
       "[{'level_1_main': 'SELECT * WHERE context_campaign_name IS NOT NULL FROM no alias '},\n",
       " {'level_2_main': 'SELECT a.*,        b.*,        c.*,        d.* FROM a LEFT JOIN b ON a.user_id = b.id LEFT JOIN c ON a.anonymous_id = c.anon_id_ad LEFT JOIN d ON a.anonymous_id = d.anon_id_event LEFT JOIN e ON e.user_id = a.user_id '},\n",
       " {'a': \"SELECT DISTINCT anonymous_id, user_id FROM mapbox_customer_data.segment_identifies WHERE dt >= '2018-07-01' AND anonymous_id IS NOT NULL AND user_id IS NOT NULL \"},\n",
       " {'c': \"SELECT anonymous_id AS anon_id_ad, context_campaign_name, min(TIMESTAMP) AS min_exposure FROM mapbox_customer_data.segment_pages WHERE dt >= '2018-07-01' AND context_campaign_name IS NOT NULL GROUP BY 1, 2\"},\n",
       " {'b': \"SELECT id, email, created FROM mapbox_customer_data.accounts WHERE cast(dt AS DATE) = CURRENT_DATE - INTERVAL '1' DAY \"},\n",
       " {'e': \"SELECT sfdc_accounts.platform,        sfdc_accounts.mobile_os,        sfdc_accounts.service_metadata,        sfdc_cases.account,        sfdc_cases.num_requests,        sfdc_cases.owner,        sfdc_accounts.user_id WHERE sfdc_cases_oppty.dt > '2020-04-03'   AND sfdc_cases_oppty.dt < '2020-05-04' FROM sfdc.accounts sfdc_accounts LEFT JOIN sfdc_cases_oppty ON sfdc_cases_oppty.dt = sfdc_accounts.dt LEFT JOIN sfdc.cases AS sfdc_cases ON sfdc_cases.id = sfdc_accounts.case_id \"},\n",
       " {'sfdc_cases_oppty': 'SELECT MAX(dt) FROM ( FROM sfdc.oppty LEFT JOIN dt_owner ON sfdc_oppty.dt = sfdc_cases.dt) LEFT JOIN sfdc_cases ON sfdc_oppty.dt = sfdc_cases.dt '},\n",
       " {'sfdc_cases': 'SELECT dt FROM sfdc.cases'},\n",
       " {'dt_owner': 'SELECT MAX(dt) FROM ( FROM sfdc.owner AS sfdc_owner '}]"
      ]
     },
     "execution_count": 7,
     "metadata": {},
     "output_type": "execute_result"
    }
   ],
   "source": [
    "parse_query(query)"
   ]
  },
  {
   "cell_type": "markdown",
   "metadata": {},
   "source": [
    "## type B: CTE ( subqueries )\n",
    "\n",
    "WITH a AS ()..."
   ]
  },
  {
   "cell_type": "code",
   "execution_count": 26,
   "metadata": {},
   "outputs": [
    {
     "data": {
      "text/plain": [
       "[{'appuserturnstile_30d': \"SELECT CASE\\n              WHEN LOWER(useragent) RLIKE '(mapboxeventsnavigation|navigation-)' THEN 'navigation'\\n              WHEN LOWER(useragent) RLIKE 'mapboxvision' THEN 'vision'\\n              WHEN LOWER(useragent) RLIKE 'mapboxeventsunity' THEN 'unity'\\n              WHEN LOWER(useragent) RLIKE 'mapboxtelemetry' THEN 'telemetry'\\n              WHEN LOWER(useragent) RLIKE '(mapboxevents|mapbox-maps-)' THEN 'maps'\\n              ELSE 'other'\\n          END AS service,\\n          COALESCE(OWNER, 'unknown') AS account,\\n          userid\\n   FROM sdk_events.china_appuserturnstile\\n   WHERE dt BETWEEN DATE_SUB('{run_date}', 29) AND '{run_date}' \"},\n",
       " {'appuserturnstile_7d': \"SELECT CASE\\n              WHEN LOWER(useragent) RLIKE '(mapboxeventsnavigation|navigation-)' THEN 'navigation'\\n              WHEN LOWER(useragent) RLIKE 'mapboxvision' THEN 'vision'\\n              WHEN LOWER(useragent) RLIKE 'mapboxeventsunity' THEN 'unity'\\n              WHEN LOWER(useragent) RLIKE 'mapboxtelemetry' THEN 'telemetry'\\n              WHEN LOWER(useragent) RLIKE '(mapboxevents|mapbox-maps-)' THEN 'maps'\\n              ELSE 'other'\\n          END AS service,\\n          COALESCE(OWNER, 'unknown') AS account,\\n          userid\\n   FROM sdk_events.china_appuserturnstile\\n   WHERE dt BETWEEN DATE_SUB('{run_date}', 6) AND '{run_date}' \"},\n",
       " {'appuserturnstile_1d': \"SELECT CASE\\n              WHEN LOWER(useragent) RLIKE '(mapboxeventsnavigation|navigation-)' THEN 'navigation'\\n              WHEN LOWER(useragent) RLIKE 'mapboxvision' THEN 'vision'\\n              WHEN LOWER(useragent) RLIKE 'mapboxeventsunity' THEN 'unity'\\n              WHEN LOWER(useragent) RLIKE 'mapboxtelemetry' THEN 'telemetry'\\n              WHEN LOWER(useragent) RLIKE '(mapboxevents|mapbox-maps-)' THEN 'maps'\\n              ELSE 'other'\\n          END AS service,\\n          COALESCE(OWNER, 'unknown') AS account,\\n          userid\\n   FROM sdk_events.china_appuserturnstile\\n   WHERE dt = '{run_date}' \"},\n",
       " {'mau_ts_cube': [{'level_1_main': \"SELECT '30d' AS aggregation,        'mobile' AS platform,        COALESCE(service, '_all') AS service,        COALESCE(account, '_all') AS account,        num_users FROM m \"},\n",
       "   {'m': 'SELECT service, account, COUNT(DISTINCT userid) AS num_users FROM appuserturnstile_30d GROUP BY service, account WITH CUBE'}]},\n",
       " {'wau_ts_cube': [{'level_1_main': \"SELECT '7d' AS aggregation,        'mobile' AS platform,        COALESCE(service, '_all') AS service,        COALESCE(account, '_all') AS account,        num_users FROM w \"},\n",
       "   {'w': 'SELECT service, account, COUNT(DISTINCT userid) AS num_users FROM appuserturnstile_7d GROUP BY service, account WITH CUBE'}]},\n",
       " {'dau_ts_cube': [{'level_1_main': \"SELECT '1d' AS aggregation,        'mobile' AS platform,        COALESCE(service, '_all') AS service,        COALESCE(account, '_all') AS account,        num_users FROM no alias FROM mau_ts_cube FROM wau_ts_cube \"},\n",
       "   {'no alias': 'SELECT service, account, COUNT(DISTINCT userid) AS num_users FROM appuserturnstile_1d GROUP BY service, account WITH CUBE) d'}]},\n",
       " {'main_query': 'SELECT aggregation,\\n       platform,\\n       service,\\n       account,\\n       num_users\\nFROM dau_ts_cube'}]"
      ]
     },
     "execution_count": 26,
     "metadata": {},
     "output_type": "execute_result"
    }
   ],
   "source": [
    "final_list"
   ]
  },
  {
   "cell_type": "markdown",
   "metadata": {},
   "source": [
    "## type C: subquery ( CTE ( subqueries ) )\n",
    "\n",
    "SELECT FROM (SELECT FROM (WITH a AS ()...))"
   ]
  },
  {
   "cell_type": "code",
   "execution_count": 10,
   "metadata": {},
   "outputs": [],
   "source": [
    "query = \"\"\"SELECT * FROM (SELECT *\\nFROM (\\n  with reg_users as (\\n  \\n  \\tselect * \\n  \\tfrom (\\n  \\tselect \\n  \\t        a.*\\n  \\t        , b.*\\n  \\t        , c.*\\n  \\t        , d.*\\n  \\tfrom \\n  \\t(\\n  \\tselect \\n  \\t        distinct \\n  \\t        anonymous_id\\n  \\t        , user_id\\n  \\tfrom mapbox_customer_data.segment_identifies\\n  \\twhere dt >= \\'2018-07-01\\'\\n  \\tand anonymous_id is not null\\n  \\tand user_id is not null\\n  \\t) a\\n  \\n  \\tleft join \\n  \\n  \\t(\\n  \\tselect \\n  \\t        id \\n  \\t        , email\\n  \\t        , created\\n  \\tfrom mapbox_customer_data.accounts\\n  \\twhere cast(dt as DATE) = CURRENT_DATE - INTERVAL \\'1\\' DAY \\n  \\t) b\\n  \\t        on a.user_id = b.id\\n  \\n  \\tleft join \\n  \\n  \\t(\\n  \\t    \\n  \\t        select        \\n  \\t                anonymous_id as anon_id_ad\\n  \\t                , context_campaign_name\\n  \\t                , min(timestamp) as min_exposure\\n  \\t        from mapbox_customer_data.segment_pages\\n  \\t        where dt >= \\'2018-07-01\\'\\n  \\t        and context_campaign_name is not null\\n  \\t        group by 1,2\\n  \\n  \\t) c \\n  \\t        on a.anonymous_id = c.anon_id_ad\\n  \\t        \\n  \\tleft join \\n  \\n  \\t(\\n  \\t        select \\n  \\t                distinct\\n  \\t                anonymous_id as anon_id_event\\n  \\t                , original_timestamp\\n  \\t                , event\\n  \\t                , context_traits_email\\n  \\t        from mapbox_customer_data.segment_tracks\\n  \\t        where dt >= \\'2018-07-01\\'\\n  \\t        and event like \\'submitted_%form\\'\\n  \\t        and context_traits_email is not null\\n  \\t) d\\n  \\t        on a.anonymous_id = d.anon_id_event\\n  \\n  \\t) \\n  \\twhere context_campaign_name is not null\\n  \\n  ), \\n  \\n  non_reg_users as (\\n  \\n  \\tselect \\n  \\t        context_campaign_name\\n  \\t        , min_exposure\\n  \\t        , event\\n  \\t        , original_timestamp as event_timestamp\\n  \\t        , context_traits_email as event_email\\n  \\tfrom (\\n  \\tselect a.*\\n  \\t        , b.*\\n  \\tfrom \\n  \\t(\\n  \\t        select \\n  \\t                anonymous_id as anon_id_ad\\n  \\t                , context_campaign_name\\n  \\t                , min(original_timestamp) as min_exposure\\n  \\t        from (       \\n  \\t        select        \\n  \\t                context_campaign_name\\n  \\t                , anonymous_id\\n  \\t                , original_timestamp \\n  \\t        from mapbox_customer_data.segment_pages\\n  \\t        where dt >= \\'2018-07-01\\'\\n  \\t        and context_campaign_name is not null\\n  \\t        )\\n  \\t        group by 1,2\\n  \\t) a\\n  \\n  \\tleft join \\n  \\t(\\n  \\t        select \\n  \\t                distinct\\n  \\t                anonymous_id as anon_id_event\\n  \\t                , original_timestamp\\n  \\t                , event\\n  \\t                , context_traits_email\\n  \\t        from mapbox_customer_data.segment_tracks\\n  \\t        where dt >= \\'2018-07-01\\'\\n  \\t        and event like \\'submitted_%form\\'\\n  \\t        and context_traits_email is not null\\n  \\t) b\\n  \\t        on a.anon_id_ad = b.anon_id_event\\n  \\n  \\t)\\n  \\twhere anon_id_event is not null\\n  \\tand to_unixtime(min_exposure) <= to_unixtime(original_timestamp)\\n  \\tand cast(min_exposure as DATE) >= cast(original_timestamp as DATE) - INTERVAL \\'28\\' DAY\\n  \\n  \\n  ), \\n  \\n  mql_flag as (\\n  \\n  \\tselect \\n  \\t        email\\n  \\t        , created_date\\n  \\t        , last_mql_date_c\\n  \\t        , mql_flag\\n  \\tfrom (\\n  \\n  \\tselect \\n  \\t        email\\n  \\t        , min(created_date) created_date\\n  \\t        , max(last_mql_date_c) last_mql_date_c\\n  \\t        , case when max(last_mql_date_c) is not null then 1 else 0 end as mql_flag\\n  \\t        , sum(case when is_deleted = true then 1 else 0 end) as is_deleted\\n  \\tfrom sales.salesforce_leads\\n  \\twhere cast(dt as DATE) = CURRENT_DATE - INTERVAL \\'1\\' DAY \\n  \\tgroup by 1\\n  \\t)\\n  \\twhere mql_flag = 1\\n  \\tand is_deleted = 0\\n  \\n  ),\\n  \\n  cleaned_list as (\\n  \\n  \\n  \\tselect \\n  \\t\\tdistinct \\n  \\t\\t\\t*\\n  \\tfrom (\\n  \\t\\tselect \\n  \\t\\t        context_campaign_name\\n  \\t\\t        , min_exposure\\n  \\t\\t        , \\'created_an_account\\' as event\\n  \\t\\t        , created as event_timestamp\\n  \\t\\t        , email as event_email\\n  \\t\\tfrom reg_users        \\n  \\t\\twhere to_unixtime(min_exposure) <= to_unixtime(created)\\n  \\t\\tand cast(min_exposure as DATE) >= cast(created as DATE) - INTERVAL \\'28\\' DAY\\n  \\n  \\n  \\t\\tunion all\\n  \\n  \\n  \\t\\tselect \\n  \\t\\t        context_campaign_name\\n  \\t\\t        , min_exposure\\n  \\t\\t        , event\\n  \\t\\t        , original_timestamp as event_timestamp\\n  \\t\\t        , context_traits_email as event_email\\n  \\t\\tfrom reg_users      \\n  \\t\\twhere to_unixtime(min_exposure) <= to_unixtime(original_timestamp)\\n  \\t\\tand cast(min_exposure as DATE) >= cast(original_timestamp as DATE) - INTERVAL \\'28\\' DAY\\n  \\n  \\t\\tunion all\\n  \\n  \\t\\tselect * \\n  \\t\\tfrom non_reg_users\\n  \\t)\\n  \\n  )\\n  \\n  \\n  \\n  select \\n  \\ta.*\\n  \\t, b.*\\n  from cleaned_list a\\n  left join mql_flag b \\n  \\ton a.event_email = b.email\\n) \"custom_sql_query\"\\nLIMIT 0) T LIMIT 0\n",
    "\"\"\"\n"
   ]
  },
  {
   "cell_type": "code",
   "execution_count": 11,
   "metadata": {},
   "outputs": [
    {
     "data": {
      "text/plain": [
       "[{'level_1_main': 'SELECT * FROM T '},\n",
       " {'T': 'SELECT * FROM custom_sql_query '},\n",
       " {'custom_sql_query': [{'reg_users': [{'level_1_main': 'SELECT * WHERE context_campaign_name IS NOT NULL FROM no alias '},\n",
       "     {'level_2_main': 'SELECT a.*,        b.*,        c.*,        d.* FROM a LEFT JOIN b ON a.user_id = b.id LEFT JOIN c ON a.anonymous_id = c.anon_id_ad LEFT JOIN d ON a.anonymous_id = d.anon_id_event '},\n",
       "     {'a': \"SELECT DISTINCT anonymous_id, user_id FROM mapbox_customer_data.segment_identifies WHERE dt >= '2018-07-01' AND anonymous_id IS NOT NULL AND user_id IS NOT NULL \"},\n",
       "     {'c': \"SELECT anonymous_id AS anon_id_ad, context_campaign_name, min(TIMESTAMP) AS min_exposure FROM mapbox_customer_data.segment_pages WHERE dt >= '2018-07-01' AND context_campaign_name IS NOT NULL GROUP BY 1, 2\"},\n",
       "     {'b': \"SELECT id, email, created FROM mapbox_customer_data.accounts WHERE cast(dt AS DATE) = CURRENT_DATE - INTERVAL '1' DAY \"},\n",
       "     {'d': \"SELECT DISTINCT anonymous_id AS anon_id_event, original_timestamp, event, context_traits_email FROM mapbox_customer_data.segment_tracks WHERE dt >= '2018-07-01' AND event LIKE 'submitted_%form' AND context_traits_email IS NOT NULL \"}]},\n",
       "   {'non_reg_users': [{'level_1_main': \"SELECT context_campaign_name,        min_exposure,        event,        original_timestamp AS event_timestamp,        context_traits_email AS event_email WHERE anon_id_event IS NOT NULL   AND to_unixtime(min_exposure) <= to_unixtime(original_timestamp)   AND cast(min_exposure AS DATE) >= cast(original_timestamp AS DATE) - INTERVAL '28' DAY FROM no alias \"},\n",
       "     {'level_2_main': 'SELECT a.*,        b.* FROM a LEFT JOIN b ON a.anon_id_ad = b.anon_id_event '},\n",
       "     {'b': \"SELECT DISTINCT anonymous_id AS anon_id_event, original_timestamp, event, context_traits_email FROM mapbox_customer_data.segment_tracks WHERE dt >= '2018-07-01' AND event LIKE 'submitted_%form' AND context_traits_email IS NOT NULL \"},\n",
       "     {'a': 'SELECT anonymous_id AS anon_id_ad,        context_campaign_name,        min(original_timestamp) AS min_exposure FROM no alias '},\n",
       "     {'no alias': \"SELECT context_campaign_name, anonymous_id, original_timestamp FROM mapbox_customer_data.segment_pages WHERE dt >= '2018-07-01' AND context_campaign_name IS NOT NULL \"}]},\n",
       "   {'mql_flag': [{'level_1_main': 'SELECT email,        created_date,        last_mql_date_c,        mql_flag WHERE mql_flag = 1   AND is_deleted = 0 FROM no alias '},\n",
       "     {'no alias': \"SELECT email, min(created_date) created_date, max(last_mql_date_c) last_mql_date_c, CASE WHEN max(last_mql_date_c) IS NOT NULL THEN 1 ELSE 0 END AS mql_flag, sum(CASE WHEN is_deleted = TRUE THEN 1 ELSE 0 END) AS is_deleted FROM sales.salesforce_leads WHERE cast(dt AS DATE) = CURRENT_DATE - INTERVAL '1' DAY GROUP BY 1\"}]},\n",
       "   {'cleaned_list': [{'level_1_main': 'SELECT DISTINCT * FROM no alias '},\n",
       "     {'no alias': \"SELECT context_campaign_name, min_exposure, 'created_an_account' AS event, created AS event_timestamp, email AS event_email FROM reg_users WHERE to_unixtime(min_exposure) <= to_unixtime(created) AND cast(min_exposure AS DATE) >= cast(created AS DATE) - INTERVAL '28' DAY UNION ALL SELECT context_campaign_name, min_exposure, event, original_timestamp AS event_timestamp, context_traits_email AS event_email FROM reg_users WHERE to_unixtime(min_exposure) <= to_unixtime(original_timestamp) AND cast(min_exposure AS DATE) >= cast(original_timestamp AS DATE) - INTERVAL '28' DAY UNION ALL SELECT * FROM non_reg_users\"}]},\n",
       "   {'main_query': 'SELECT a.*,\\n       b.*\\nFROM cleaned_list a\\nLEFT JOIN mql_flag b ON a.event_email = b.email'}]}]"
      ]
     },
     "execution_count": 11,
     "metadata": {},
     "output_type": "execute_result"
    }
   ],
   "source": [
    "parse_query(query)"
   ]
  },
  {
   "cell_type": "code",
   "execution_count": null,
   "metadata": {},
   "outputs": [],
   "source": []
  }
 ],
 "metadata": {
  "kernelspec": {
   "display_name": "Python 3",
   "language": "python",
   "name": "python3"
  },
  "language_info": {
   "codemirror_mode": {
    "name": "ipython",
    "version": 3
   },
   "file_extension": ".py",
   "mimetype": "text/x-python",
   "name": "python",
   "nbconvert_exporter": "python",
   "pygments_lexer": "ipython3",
   "version": "3.7.4"
  }
 },
 "nbformat": 4,
 "nbformat_minor": 2
}
