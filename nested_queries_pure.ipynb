{
 "cells": [
  {
   "cell_type": "code",
   "execution_count": 1,
   "metadata": {},
   "outputs": [],
   "source": [
    "from sqlanalyzer import column_parser\n",
    "import pandas as pd\n",
    "import sqlparse\n",
    "import re"
   ]
  },
  {
   "cell_type": "code",
   "execution_count": 2,
   "metadata": {},
   "outputs": [],
   "source": [
    "def delevel_query(query_list):\n",
    "    line_level = []\n",
    "    sub_query = []\n",
    "    pos_delete, pos_where = len(query_list), len(query_list)\n",
    "    \n",
    "    for i, line in enumerate(query_list):\n",
    "        if line.startswith('ORDER') or line.startswith('GROUP'):\n",
    "            pos_delete = i\n",
    "        if line.startswith('WHERE'):\n",
    "            pos_where = i \n",
    "        if line.startswith('FROM'):\n",
    "            pos_from = i-1\n",
    "        if line.startswith('LEFT JOIN') or line.startswith('INNER JOIN') or line.startswith('FULL OUTER JOIN'):\n",
    "            pos_join = i\n",
    "  \n",
    "    for line in query_list[:pos_from+2]:\n",
    "        line_level.append((line, \"level_1\"))\n",
    "        \n",
    "    for line in query_list[pos_from+1:pos_where]:\n",
    "        if line.startswith(' ') or line.startswith('FROM'):\n",
    "            sub_query.append(line[3:])\n",
    "        else:\n",
    "            line_level.append((line, \"level_1\"))\n",
    "\n",
    "    for line in query_list[pos_where:pos_delete]:    \n",
    "        line_level.append((line, \"level_1\"))\n",
    "\n",
    "    return line_level, sub_query[1:]"
   ]
  },
  {
   "cell_type": "code",
   "execution_count": 3,
   "metadata": {},
   "outputs": [],
   "source": [
    "def parse_sub_query(sub_query_list):\n",
    "    sub_query = \"\\n\".join(sub_query_list)\n",
    "    sub_query = sub_query.lstrip('\\n').lstrip(' ')\n",
    "    \n",
    "    formatter = column_parser.Parser(sub_query)\n",
    "    formatted = formatter.format_query(sub_query)\n",
    "    sub_query_list = formatted.split('\\n')\n",
    "\n",
    "    query = \"\\n\".join(sub_query_list).lstrip('\\n').lstrip(' ').lstrip('\\(')\n",
    "    query_list = query.split('\\n')\n",
    "    \n",
    "    return query_list"
   ]
  },
  {
   "cell_type": "code",
   "execution_count": 4,
   "metadata": {},
   "outputs": [],
   "source": [
    "def has_child(sub_query_list):\n",
    "    query_list = parse_sub_query(sub_query_list)\n",
    "    query_list = delevel_query(query_list)[1]\n",
    "    return query_list, query_list != []"
   ]
  },
  {
   "cell_type": "code",
   "execution_count": 2,
   "metadata": {},
   "outputs": [],
   "source": [
    "query_1 = \"\"\"SELECT * FROM sfdc.accounts sfdc_accounts\n",
    "LEFT JOIN (SELECT MAX(dt) FROM sfdc.cases) AS sfdc_cases ON sfdc_cases.dt = sfdc_accounts.dt\n",
    "WHERE dt > '2020-04-03' \n",
    "\"\"\"\n"
   ]
  },
  {
   "cell_type": "code",
   "execution_count": 10,
   "metadata": {},
   "outputs": [],
   "source": [
    "query_2 = \"\"\"SELECT * FROM sfdc.accounts sfdc_accounts\n",
    "LEFT JOIN sfdc.cases AS sfdc_cases ON sfdc_cases.dt = sfdc_accounts.dt\n",
    "WHERE dt > '2020-04-03' \n",
    "\"\"\""
   ]
  },
  {
   "cell_type": "code",
   "execution_count": 152,
   "metadata": {},
   "outputs": [],
   "source": [
    "query_3 = \"\"\"SELECT * FROM sfdc.accounts sfdc_accounts\n",
    "LEFT JOIN (SELECT MAX(dt) FROM (SELECT dt FROM sfdc.oppty sfdc_oppty) LEFT JOIN (SELECT dt FROM sfdc.cases)) AS sfdc_cases ON sfdc_cases.dt = sfdc_accounts.dt\n",
    "WHERE dt > '2020-04-03' \n",
    "\"\"\"\n"
   ]
  },
  {
   "cell_type": "code",
   "execution_count": null,
   "metadata": {},
   "outputs": [],
   "source": [
    "query_4 = \"\"\"SELECT *\n",
    "FROM (\n",
    "  SELECT u.name, b.customer_tier_c, b.name, m.account, b.x18_digit_account_id_c, s.id, m.platform, m.mobile_os, m.num_requests, Row_number() OVER(\n",
    "    PARTITION BY s.id\n",
    "  ) row_\n",
    "  FROM wbr.map_requests_by_account m\n",
    "  INNER JOIN (\n",
    "    SELECT DISTINCT id\n",
    "    FROM mapbox_customer_data.styles \n",
    "    WHERE cast(dt as DATE) >= CURRENT_DATE - INTERVAL '14' DAY\n",
    "      AND sources LIKE '%mapbox-streets-v7%'\n",
    "  ) s\n",
    "  ON m.service_metadata_version = s.id\n",
    "  LEFT JOIN (\n",
    "    SELECT customer_tier_c, csm_c, name, mapbox_username_c, x18_digit_account_id_c\n",
    "    FROM sfdc.accounts\n",
    "    WHERE cast(dt as DATE) = CURRENT_DATE - INTERVAL '1' DAY\n",
    "  ) b\n",
    "  ON m.account = b.mapbox_username_c\n",
    "  LEFT JOIN (\n",
    "    SELECT name, id\n",
    "    FROM sfdc.users\n",
    "    WHERE cast(dt as DATE) = CURRENT_DATE - INTERVAL '1' DAY\n",
    "  ) u\n",
    "  ON b.csm_c = u.id\n",
    "  WHERE cast(m.dt as DATE) >= CURRENT_DATE - INTERVAL '14' DAY\n",
    "    AND m.service_metadata = 'custom'\n",
    "    AND m.service = 'styles'\n",
    "    AND b.customer_tier_c IN (\n",
    "      'Tier 0',\n",
    "      'Tier 1',\n",
    "      'Tier 2',\n",
    "      'Tier 3',\n",
    "      'Tier 4'\n",
    "    )\n",
    ")\n",
    "WHERE row_ = 1\n",
    "AND m.service_metadata = 'custom'\n",
    "ORDER BY 1, 4\n",
    "LIMIT 5000\n",
    "\"\"\""
   ]
  },
  {
   "cell_type": "code",
   "execution_count": 3,
   "metadata": {},
   "outputs": [
    {
     "data": {
      "text/plain": [
       "['SELECT *',\n",
       " 'FROM sfdc.accounts sfdc_accounts',\n",
       " 'LEFT JOIN',\n",
       " '  (SELECT MAX(dt)',\n",
       " '   FROM sfdc.cases) AS sfdc_cases ON sfdc_cases.dt = sfdc_accounts.dt',\n",
       " \"WHERE dt > '2020-04-03'\"]"
      ]
     },
     "execution_count": 3,
     "metadata": {},
     "output_type": "execute_result"
    }
   ],
   "source": [
    "formatter = column_parser.Parser(query_1)\n",
    "formatted = formatter.format_query(query_1)\n",
    "query_list = formatted.split('\\n')\n",
    "query_list"
   ]
  },
  {
   "cell_type": "code",
   "execution_count": 4,
   "metadata": {
    "scrolled": true
   },
   "outputs": [
    {
     "ename": "NameError",
     "evalue": "name 'has_child' is not defined",
     "output_type": "error",
     "traceback": [
      "\u001b[0;31m---------------------------------------------------------------------------\u001b[0m",
      "\u001b[0;31mNameError\u001b[0m                                 Traceback (most recent call last)",
      "\u001b[0;32m<ipython-input-4-55019a2ce0d5>\u001b[0m in \u001b[0;36m<module>\u001b[0;34m\u001b[0m\n\u001b[1;32m      2\u001b[0m \u001b[0mformatted\u001b[0m \u001b[0;34m=\u001b[0m \u001b[0mformatter\u001b[0m\u001b[0;34m.\u001b[0m\u001b[0mformat_query\u001b[0m\u001b[0;34m(\u001b[0m\u001b[0mquery_1\u001b[0m\u001b[0;34m)\u001b[0m\u001b[0;34m\u001b[0m\u001b[0;34m\u001b[0m\u001b[0m\n\u001b[1;32m      3\u001b[0m \u001b[0mquery_list\u001b[0m \u001b[0;34m=\u001b[0m \u001b[0mformatted\u001b[0m\u001b[0;34m.\u001b[0m\u001b[0msplit\u001b[0m\u001b[0;34m(\u001b[0m\u001b[0;34m'\\n'\u001b[0m\u001b[0;34m)\u001b[0m\u001b[0;34m\u001b[0m\u001b[0;34m\u001b[0m\u001b[0m\n\u001b[0;32m----> 4\u001b[0;31m \u001b[0msub_query_list\u001b[0m\u001b[0;34m,\u001b[0m \u001b[0mhas_subquery\u001b[0m \u001b[0;34m=\u001b[0m \u001b[0mhas_child\u001b[0m\u001b[0;34m(\u001b[0m\u001b[0mquery_list\u001b[0m\u001b[0;34m)\u001b[0m\u001b[0;34m\u001b[0m\u001b[0;34m\u001b[0m\u001b[0m\n\u001b[0m",
      "\u001b[0;31mNameError\u001b[0m: name 'has_child' is not defined"
     ]
    }
   ],
   "source": [
    "formatter = column_parser.Parser(query_1)\n",
    "formatted = formatter.format_query(query_1)\n",
    "query_list = formatted.split('\\n')\n",
    "sub_query_list, has_subquery = has_child(query_list)"
   ]
  },
  {
   "cell_type": "code",
   "execution_count": 5,
   "metadata": {},
   "outputs": [
    {
     "ename": "NameError",
     "evalue": "name 'sub_query_list' is not defined",
     "output_type": "error",
     "traceback": [
      "\u001b[0;31m---------------------------------------------------------------------------\u001b[0m",
      "\u001b[0;31mNameError\u001b[0m                                 Traceback (most recent call last)",
      "\u001b[0;32m<ipython-input-5-40549e54341b>\u001b[0m in \u001b[0;36m<module>\u001b[0;34m\u001b[0m\n\u001b[0;32m----> 1\u001b[0;31m \u001b[0msub_query_list\u001b[0m\u001b[0;34m\u001b[0m\u001b[0;34m\u001b[0m\u001b[0m\n\u001b[0m",
      "\u001b[0;31mNameError\u001b[0m: name 'sub_query_list' is not defined"
     ]
    }
   ],
   "source": [
    "sub_query_list"
   ]
  },
  {
   "cell_type": "code",
   "execution_count": 10,
   "metadata": {},
   "outputs": [
    {
     "data": {
      "text/plain": [
       "True"
      ]
     },
     "execution_count": 10,
     "metadata": {},
     "output_type": "execute_result"
    }
   ],
   "source": [
    "has_subquery"
   ]
  },
  {
   "cell_type": "code",
   "execution_count": 11,
   "metadata": {},
   "outputs": [],
   "source": [
    "sub_sub_query_list, has_subquery = has_child(sub_query_list)"
   ]
  },
  {
   "cell_type": "code",
   "execution_count": 12,
   "metadata": {
    "scrolled": true
   },
   "outputs": [
    {
     "data": {
      "text/plain": [
       "[]"
      ]
     },
     "execution_count": 12,
     "metadata": {},
     "output_type": "execute_result"
    }
   ],
   "source": [
    "sub_sub_query_list"
   ]
  },
  {
   "cell_type": "code",
   "execution_count": 13,
   "metadata": {},
   "outputs": [
    {
     "data": {
      "text/plain": [
       "False"
      ]
     },
     "execution_count": 13,
     "metadata": {},
     "output_type": "execute_result"
    }
   ],
   "source": [
    "has_subquery"
   ]
  },
  {
   "cell_type": "code",
   "execution_count": 6,
   "metadata": {},
   "outputs": [
    {
     "data": {
      "text/html": [
       "<div>\n",
       "<style scoped>\n",
       "    .dataframe tbody tr th:only-of-type {\n",
       "        vertical-align: middle;\n",
       "    }\n",
       "\n",
       "    .dataframe tbody tr th {\n",
       "        vertical-align: top;\n",
       "    }\n",
       "\n",
       "    .dataframe thead th {\n",
       "        text-align: right;\n",
       "    }\n",
       "</style>\n",
       "<table border=\"1\" class=\"dataframe\">\n",
       "  <thead>\n",
       "    <tr style=\"text-align: right;\">\n",
       "      <th></th>\n",
       "      <th>db_table</th>\n",
       "      <th>all_columns</th>\n",
       "    </tr>\n",
       "  </thead>\n",
       "  <tbody>\n",
       "    <tr>\n",
       "      <td>0</td>\n",
       "      <td>sfdc.accounts</td>\n",
       "      <td>platform</td>\n",
       "    </tr>\n",
       "    <tr>\n",
       "      <td>1</td>\n",
       "      <td>sfdc.accounts</td>\n",
       "      <td>mobile_os</td>\n",
       "    </tr>\n",
       "    <tr>\n",
       "      <td>2</td>\n",
       "      <td>sfdc.accounts</td>\n",
       "      <td>service</td>\n",
       "    </tr>\n",
       "    <tr>\n",
       "      <td>3</td>\n",
       "      <td>sfdc.accounts</td>\n",
       "      <td>service_metadata</td>\n",
       "    </tr>\n",
       "    <tr>\n",
       "      <td>4</td>\n",
       "      <td>sfdc.accounts</td>\n",
       "      <td>service_metadata_version</td>\n",
       "    </tr>\n",
       "    <tr>\n",
       "      <td>5</td>\n",
       "      <td>sfdc.accounts</td>\n",
       "      <td>account</td>\n",
       "    </tr>\n",
       "    <tr>\n",
       "      <td>6</td>\n",
       "      <td>sfdc.accounts</td>\n",
       "      <td>num_requests</td>\n",
       "    </tr>\n",
       "    <tr>\n",
       "      <td>7</td>\n",
       "      <td>sfdc.accounts</td>\n",
       "      <td>dt</td>\n",
       "    </tr>\n",
       "  </tbody>\n",
       "</table>\n",
       "</div>"
      ],
      "text/plain": [
       "        db_table               all_columns\n",
       "0  sfdc.accounts                  platform\n",
       "1  sfdc.accounts                 mobile_os\n",
       "2  sfdc.accounts                   service\n",
       "3  sfdc.accounts          service_metadata\n",
       "4  sfdc.accounts  service_metadata_version\n",
       "5  sfdc.accounts                   account\n",
       "6  sfdc.accounts              num_requests\n",
       "7  sfdc.accounts                        dt"
      ]
     },
     "execution_count": 6,
     "metadata": {},
     "output_type": "execute_result"
    }
   ],
   "source": [
    "db_fields_1 = pd.DataFrame({'db_table': 'sfdc.accounts', \n",
    "            'all_columns': ['platform', 'mobile_os', 'service', 'service_metadata', 'service_metadata_version', 'account', 'num_requests', 'dt']})\n",
    "db_fields_1\n"
   ]
  },
  {
   "cell_type": "code",
   "execution_count": 7,
   "metadata": {},
   "outputs": [
    {
     "data": {
      "text/html": [
       "<div>\n",
       "<style scoped>\n",
       "    .dataframe tbody tr th:only-of-type {\n",
       "        vertical-align: middle;\n",
       "    }\n",
       "\n",
       "    .dataframe tbody tr th {\n",
       "        vertical-align: top;\n",
       "    }\n",
       "\n",
       "    .dataframe thead th {\n",
       "        text-align: right;\n",
       "    }\n",
       "</style>\n",
       "<table border=\"1\" class=\"dataframe\">\n",
       "  <thead>\n",
       "    <tr style=\"text-align: right;\">\n",
       "      <th></th>\n",
       "      <th>db_table</th>\n",
       "      <th>all_columns</th>\n",
       "    </tr>\n",
       "  </thead>\n",
       "  <tbody>\n",
       "    <tr>\n",
       "      <td>0</td>\n",
       "      <td>sfdc.cases</td>\n",
       "      <td>account</td>\n",
       "    </tr>\n",
       "    <tr>\n",
       "      <td>1</td>\n",
       "      <td>sfdc.cases</td>\n",
       "      <td>num_requests</td>\n",
       "    </tr>\n",
       "    <tr>\n",
       "      <td>2</td>\n",
       "      <td>sfdc.cases</td>\n",
       "      <td>dt</td>\n",
       "    </tr>\n",
       "    <tr>\n",
       "      <td>3</td>\n",
       "      <td>sfdc.cases</td>\n",
       "      <td>owner</td>\n",
       "    </tr>\n",
       "    <tr>\n",
       "      <td>4</td>\n",
       "      <td>sfdc.cases</td>\n",
       "      <td>id</td>\n",
       "    </tr>\n",
       "  </tbody>\n",
       "</table>\n",
       "</div>"
      ],
      "text/plain": [
       "     db_table   all_columns\n",
       "0  sfdc.cases       account\n",
       "1  sfdc.cases  num_requests\n",
       "2  sfdc.cases            dt\n",
       "3  sfdc.cases         owner\n",
       "4  sfdc.cases            id"
      ]
     },
     "execution_count": 7,
     "metadata": {},
     "output_type": "execute_result"
    }
   ],
   "source": [
    "db_fields_2 = pd.DataFrame({'db_table': 'sfdc.cases', \n",
    "            'all_columns': ['account', 'num_requests', 'dt', 'owner', 'id']})\n",
    "db_fields_2\n"
   ]
  },
  {
   "cell_type": "code",
   "execution_count": 11,
   "metadata": {},
   "outputs": [],
   "source": [
    "db_fields = db_fields_1.append(db_fields_2, ignore_index=True)"
   ]
  },
  {
   "cell_type": "code",
   "execution_count": 12,
   "metadata": {},
   "outputs": [],
   "source": [
    "formatter = column_parser.Parser(query_2)\n",
    "columns_queried = formatter.match_queried_fields(query_2, db_fields)"
   ]
  },
  {
   "cell_type": "code",
   "execution_count": 13,
   "metadata": {},
   "outputs": [
    {
     "data": {
      "text/plain": [
       "[{'database_name': 'sfdc', 'table_name': 'cases', 'column_name': 'dt'},\n",
       " {'database_name': 'sfdc', 'table_name': 'accounts', 'column_name': 'dt'}]"
      ]
     },
     "execution_count": 13,
     "metadata": {},
     "output_type": "execute_result"
    }
   ],
   "source": [
    "columns_queried"
   ]
  },
  {
   "cell_type": "code",
   "execution_count": 14,
   "metadata": {},
   "outputs": [],
   "source": [
    "formatted_query = formatter.format_query(query_2)\n",
    "cte_queries = formatter.parse_cte(formatted_query)"
   ]
  },
  {
   "cell_type": "code",
   "execution_count": 15,
   "metadata": {},
   "outputs": [
    {
     "data": {
      "text/plain": [
       "{'main': \"SELECT *\\nFROM sfdc.accounts sfdc_accounts\\nLEFT JOIN sfdc.cases AS sfdc_cases ON sfdc_cases.dt = sfdc_accounts.dt\\nWHERE dt > '2020-04-03'\"}"
      ]
     },
     "execution_count": 15,
     "metadata": {},
     "output_type": "execute_result"
    }
   ],
   "source": [
    "cte_queries"
   ]
  },
  {
   "cell_type": "code",
   "execution_count": 16,
   "metadata": {},
   "outputs": [],
   "source": [
    "all_columns_scanned = formatter._get_all_scanned_cols(cte_queries, db_fields)"
   ]
  },
  {
   "cell_type": "code",
   "execution_count": 17,
   "metadata": {},
   "outputs": [
    {
     "data": {
      "text/plain": [
       "['sfdc.cases.dt', 'sfdc.accounts.dt']"
      ]
     },
     "execution_count": 17,
     "metadata": {},
     "output_type": "execute_result"
    }
   ],
   "source": [
    "all_columns_scanned"
   ]
  },
  {
   "cell_type": "code",
   "execution_count": 18,
   "metadata": {},
   "outputs": [],
   "source": [
    "def _get_all_scanned_cols(self, cte_queries, meta_cols):\n",
    "    \"\"\"\n",
    "    Get all scanned original columns.\n",
    "    Args:\n",
    "        param1 (dict): A dictionary of CTE's name:query pair.\n",
    "        param2 (dict): A dictionary of metadata columns from Glue.\n",
    "    Returns:\n",
    "        list: A list of all scanned columns with db and table names.\n",
    "    \"\"\"\n",
    "    all_columns_scanned = []\n",
    "\n",
    "    for _,cte_query in cte_queries.items():\n",
    "\n",
    "        table_alias_mapping = self.get_table_names(cte_query.split('\\n'))\n",
    "        variables = self._get_all_variables(cte_query)\n",
    "        queried_columns = self._get_queried_columns(table_alias_mapping, meta_cols)\n",
    "        if variables == []:\n",
    "            original_columns_list = []\n",
    "            for table in queried_columns:\n",
    "                for k,v in table.items():\n",
    "                    for t in v:\n",
    "                        original_columns_list.append(\"{}.{}\".format(k,t))\n",
    "        else:\n",
    "            original_columns_list = self._map_db_columns(variables, queried_columns, table_alias_mapping)\n",
    "        all_columns_scanned.extend(list(set(original_columns_list)))\n",
    "    return all_columns_scanned\n"
   ]
  },
  {
   "cell_type": "code",
   "execution_count": 30,
   "metadata": {},
   "outputs": [],
   "source": [
    "all_columns_scanned = []\n",
    "\n",
    "for _,cte_query in cte_queries.items():\n",
    "\n",
    "    table_alias_mapping = formatter.get_table_names(cte_query.split('\\n'))\n",
    "#     variables = formatter._get_all_variables(cte_query)\n",
    "    variables = get_all_variables(cte_query)\n",
    "    queried_columns = formatter._get_queried_columns(table_alias_mapping, db_fields)\n",
    "\n",
    "    if variables == []:\n",
    "        original_columns_list = []\n",
    "        for table in queried_columns:\n",
    "            for k,v in table.items():\n",
    "                for t in v:\n",
    "                    original_columns_list.append(\"{}.{}\".format(k,t))\n",
    "    else:\n",
    "        original_columns_list = formatter._map_db_columns(variables, queried_columns, table_alias_mapping)\n",
    "        \n",
    "    all_columns_scanned.extend(list(set(original_columns_list)))\n",
    "    "
   ]
  },
  {
   "cell_type": "code",
   "execution_count": 31,
   "metadata": {},
   "outputs": [
    {
     "data": {
      "text/plain": [
       "['sfdc.cases.dt', 'sfdc.accounts.dt']"
      ]
     },
     "execution_count": 31,
     "metadata": {},
     "output_type": "execute_result"
    }
   ],
   "source": [
    "all_columns_scanned"
   ]
  },
  {
   "cell_type": "code",
   "execution_count": 20,
   "metadata": {},
   "outputs": [],
   "source": [
    "def get_all_variables(query):\n",
    "    \"\"\"\n",
    "    Get all variables including: table names, aliases, column names and aliases, and all other non-sql reserved words.\n",
    "    Args:\n",
    "        param (string): A string of any type of complete query; allows only complete query but can nest with CTE's and/or subqueries.\n",
    "    Returns:\n",
    "        list: A list of all variables within the query.\n",
    "    \"\"\"\n",
    "    all_variables = []\n",
    "\n",
    "    for e in query.split('\\n'):\n",
    "        if sum(list(map(lambda x: '*' in x, re.findall(r\"\\s[*]?\", e)))):\n",
    "            variable = []\n",
    "        else:\n",
    "            variable = [x.strip(' ') for x in re.findall(r\"[a-z_\\s.]+\", e)]\n",
    "\n",
    "        all_variables.extend(variable)\n",
    "\n",
    "    return all_variables\n"
   ]
  },
  {
   "cell_type": "code",
   "execution_count": 24,
   "metadata": {},
   "outputs": [],
   "source": [
    "all_variables = []\n",
    "\n",
    "for e in cte_queries['main'].split('\\n'):\n",
    "    if sum(list(map(lambda x: '*' in x, re.findall(r\"\\s[*]?\", e)))):\n",
    "        variable = []\n",
    "    else:\n",
    "        variable = [x.strip(' ') for x in re.findall(r\"[a-z_\\s.]+\", e)]\n",
    "\n",
    "    all_variables.extend(variable)"
   ]
  },
  {
   "cell_type": "code",
   "execution_count": 25,
   "metadata": {
    "scrolled": true
   },
   "outputs": [
    {
     "data": {
      "text/plain": [
       "['sfdc.cases.dt', 'sfdc.accounts.dt']"
      ]
     },
     "execution_count": 25,
     "metadata": {},
     "output_type": "execute_result"
    }
   ],
   "source": [
    "all_columns_scanned"
   ]
  },
  {
   "cell_type": "code",
   "execution_count": 125,
   "metadata": {},
   "outputs": [
    {
     "name": "stdout",
     "output_type": "stream",
     "text": [
      "['sfdc', 'accounts', 'dt']\n",
      "['sfdc', 'cases', 'dt']\n"
     ]
    }
   ],
   "source": [
    "column_payload = []\n",
    "for column in all_columns_scanned:\n",
    "    print(column.split('.'))\n",
    "    try:\n",
    "        col_split = column.split('.')\n",
    "        db, table, col = col_split[0], col_split[1], col_split[2]\n",
    "        row_payload = dict()\n",
    "        row_payload[\"database_name\"] = db\n",
    "        row_payload[\"table_name\"] = table \n",
    "        row_payload[\"column_name\"] = col\n",
    "#         for arg, value in kwargs.items():\n",
    "#             row_payload[arg] = value    \n",
    "        column_payload.append(row_payload)  \n",
    "    except:\n",
    "        pass"
   ]
  },
  {
   "cell_type": "code",
   "execution_count": 126,
   "metadata": {},
   "outputs": [
    {
     "data": {
      "text/plain": [
       "[{'database_name': 'sfdc', 'table_name': 'accounts', 'column_name': 'dt'},\n",
       " {'database_name': 'sfdc', 'table_name': 'cases', 'column_name': 'dt'}]"
      ]
     },
     "execution_count": 126,
     "metadata": {},
     "output_type": "execute_result"
    }
   ],
   "source": [
    "column_payload"
   ]
  },
  {
   "cell_type": "code",
   "execution_count": 38,
   "metadata": {},
   "outputs": [],
   "source": [
    "def get_all_scanned_cols(cte_queries, meta_cols):\n",
    "    \"\"\"\n",
    "    Get all scanned original columns.\n",
    "    Args:\n",
    "        param1 (dict): A dictionary of CTE's name:query pair.\n",
    "        param2 (dict): A dictionary of metadata columns from Glue.\n",
    "    Returns:\n",
    "        list: A list of all scanned columns with db and table names.\n",
    "    \"\"\"\n",
    "    all_columns_scanned = []\n",
    "\n",
    "    for _,cte_query in cte_queries.items():\n",
    "\n",
    "        table_alias_mapping = formatter.get_table_names(cte_query.split('\\n'))\n",
    "        variables = get_all_variables(cte_query)\n",
    "        queried_columns = formatter._get_queried_columns(table_alias_mapping, meta_cols)\n",
    "        if variables == []:\n",
    "            original_columns_list = []\n",
    "            for table in queried_columns:\n",
    "                for k,v in table.items():\n",
    "                    for t in v:\n",
    "                        original_columns_list.append(\"{}.{}\".format(k,t))\n",
    "        else:\n",
    "            original_columns_list = formatter._map_db_columns(variables, queried_columns, table_alias_mapping)\n",
    "        all_columns_scanned.extend(list(set(original_columns_list)))\n",
    "\n",
    "    return all_columns_scanned"
   ]
  },
  {
   "cell_type": "code",
   "execution_count": 41,
   "metadata": {},
   "outputs": [],
   "source": [
    "def match_queried_fields(query, db_fields):\n",
    "    \"\"\"\n",
    "    Match the query column with those registered on metastore.\n",
    "    Args:\n",
    "        query (string): the raw query.\n",
    "        db_fields (spark dataframe): dataframe containing column names.\n",
    "        **kargs: other metadata around query execution that needs to be populated to payload.\n",
    "\n",
    "    Return:\n",
    "        column_payload (json): the queried columns, table and db.\n",
    "    \"\"\"\n",
    "#     logging.info(\"Reading and formatting query...\")\n",
    "\n",
    "    formatted_query = formatter.format_query(query)\n",
    "    cte_queries = formatter.parse_cte(formatted_query)\n",
    "\n",
    "#     logging.info(\"Mapping and retrieving columns from query...\")\n",
    "#     all_columns_scanned = formatter._get_all_scanned_cols(cte_queries, db_fields)\n",
    "    all_columns_scanned = get_all_scanned_cols(cte_queries, db_fields)\n",
    "#     logging.info(\"All columns scanned in the query: {}.\".format(all_columns_scanned))\n",
    "\n",
    "    column_payload = []\n",
    "    for column in all_columns_scanned:\n",
    "        try:\n",
    "            col_split = column.split('.')\n",
    "            db, table, col = col_split[0], col_split[1], col_split[2]\n",
    "            row_payload = dict()\n",
    "            row_payload[\"database_name\"] = db\n",
    "            row_payload[\"table_name\"] = table \n",
    "            row_payload[\"column_name\"] = col\n",
    "#             for arg, value in kwargs.items():\n",
    "#                 row_payload[arg] = value    \n",
    "\n",
    "            column_payload.append(row_payload)  \n",
    "        except:\n",
    "            pass\n",
    "\n",
    "    return column_payload"
   ]
  },
  {
   "cell_type": "code",
   "execution_count": 146,
   "metadata": {},
   "outputs": [
    {
     "name": "stdout",
     "output_type": "stream",
     "text": [
      "['sfdc.accounts.dt', 'sfdc.cases.dt']\n"
     ]
    },
    {
     "data": {
      "text/plain": [
       "[{'database_name': 'sfdc', 'table_name': 'accounts', 'column_name': 'dt'},\n",
       " {'database_name': 'sfdc', 'table_name': 'cases', 'column_name': 'dt'}]"
      ]
     },
     "execution_count": 146,
     "metadata": {},
     "output_type": "execute_result"
    }
   ],
   "source": [
    "match_queried_fields(formatted, db_fields)"
   ]
  },
  {
   "cell_type": "code",
   "execution_count": 145,
   "metadata": {},
   "outputs": [
    {
     "name": "stdout",
     "output_type": "stream",
     "text": [
      "SELECT *\n",
      "FROM sfdc.accounts sfdc_accounts\n",
      "LEFT JOIN\n",
      "  (SELECT MAX(dt)\n",
      "   FROM sfdc.cases) AS sfdc_cases ON sfdc_cases.dt = sfdc_accounts.dt\n",
      "WHERE dt > '2020-04-03'\n"
     ]
    }
   ],
   "source": [
    "print(formatted)"
   ]
  },
  {
   "cell_type": "markdown",
   "metadata": {},
   "source": [
    "## 3-level nested"
   ]
  },
  {
   "cell_type": "code",
   "execution_count": 32,
   "metadata": {},
   "outputs": [],
   "source": [
    "query_3 = \"\"\"SELECT * FROM sfdc.accounts sfdc_accounts\n",
    "LEFT JOIN (SELECT MAX(dt) FROM (SELECT dt FROM sfdc.oppty sfdc_oppty) LEFT JOIN (SELECT dt FROM sfdc.cases)) AS sfdc_cases ON sfdc_cases.dt = sfdc_accounts.dt\n",
    "WHERE dt > '2020-04-03' \n",
    "\"\"\"\n"
   ]
  },
  {
   "cell_type": "code",
   "execution_count": 33,
   "metadata": {},
   "outputs": [],
   "source": [
    "formatter = column_parser.Parser(query_3)\n",
    "formatted_query = formatter.format_query(query_3)\n",
    "cte_queries = formatter.parse_cte(formatted_query)"
   ]
  },
  {
   "cell_type": "code",
   "execution_count": 46,
   "metadata": {},
   "outputs": [
    {
     "name": "stdout",
     "output_type": "stream",
     "text": [
      "SELECT *\n",
      "FROM sfdc.accounts sfdc_accounts\n",
      "LEFT JOIN\n",
      "  (SELECT MAX(dt)\n",
      "   FROM\n",
      "     (SELECT dt\n",
      "      FROM sfdc.oppty sfdc_oppty)\n",
      "   LEFT JOIN\n",
      "     (SELECT dt\n",
      "      FROM sfdc.cases)) AS sfdc_cases ON sfdc_cases.dt = sfdc_accounts.dt\n",
      "WHERE dt > '2020-04-03'\n"
     ]
    }
   ],
   "source": [
    "print(formatted_query)"
   ]
  },
  {
   "cell_type": "code",
   "execution_count": 44,
   "metadata": {
    "scrolled": true
   },
   "outputs": [
    {
     "data": {
      "text/plain": [
       "\"SELECT *\\nFROM sfdc.accounts sfdc_accounts\\nLEFT JOIN\\n  (SELECT MAX(dt)\\n   FROM\\n     (SELECT dt\\n      FROM sfdc.oppty sfdc_oppty)\\n   LEFT JOIN\\n     (SELECT dt\\n      FROM sfdc.cases)) AS sfdc_cases ON sfdc_cases.dt = sfdc_accounts.dt\\nWHERE dt > '2020-04-03'\""
      ]
     },
     "execution_count": 44,
     "metadata": {},
     "output_type": "execute_result"
    }
   ],
   "source": [
    "cte_queries['main']"
   ]
  },
  {
   "cell_type": "code",
   "execution_count": 42,
   "metadata": {},
   "outputs": [
    {
     "data": {
      "text/plain": [
       "[{'database_name': 'sfdc', 'table_name': 'cases', 'column_name': 'dt'},\n",
       " {'database_name': 'sfdc', 'table_name': 'accounts', 'column_name': 'dt'}]"
      ]
     },
     "execution_count": 42,
     "metadata": {},
     "output_type": "execute_result"
    }
   ],
   "source": [
    "match_queried_fields(formatted_query, db_fields)"
   ]
  }
 ],
 "metadata": {
  "kernelspec": {
   "display_name": "Python 3",
   "language": "python",
   "name": "python3"
  },
  "language_info": {
   "codemirror_mode": {
    "name": "ipython",
    "version": 3
   },
   "file_extension": ".py",
   "mimetype": "text/x-python",
   "name": "python",
   "nbconvert_exporter": "python",
   "pygments_lexer": "ipython3",
   "version": "3.7.4"
  }
 },
 "nbformat": 4,
 "nbformat_minor": 2
}
