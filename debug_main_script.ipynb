{
 "cells": [
  {
   "cell_type": "code",
   "execution_count": 1,
   "metadata": {},
   "outputs": [],
   "source": [
    "from sqlanalyzer import column_parser, unbundle\n",
    "from sqlanalyzer.unbundle import *\n",
    "import sqlparse\n",
    "import re\n",
    "import json\n",
    "import pandas as pd\n",
    "import time\n",
    "\n",
    "\n",
    "def extract_subquery_fields(query, db_fields):\n",
    "    formatter = column_parser.Parser(query)\n",
    "    formatted = formatter.format_query(query)\n",
    "    fields = formatter.match_queried_fields(formatted, db_fields)\n",
    "    return fields\n",
    "\n",
    "\n",
    "def compile_queried_cols(query_dict, df):\n",
    "    all_cols = []\n",
    "    for _,v in query_dict.items():\n",
    "        if isinstance(v, dict):\n",
    "            for _,v1 in v.items():\n",
    "                all_cols.extend(extract_subquery_fields(v1, df))\n",
    "        else:\n",
    "            all_cols.extend(extract_subquery_fields(v, df))\n",
    "    return all_cols"
   ]
  },
  {
   "cell_type": "code",
   "execution_count": 2,
   "metadata": {},
   "outputs": [],
   "source": [
    "query = open('active_devs.sql').read()\n",
    "\n",
    "formatter = column_parser.Parser(query)\n",
    "formatted_query = formatter.format_query(query)\n",
    "query_list = formatted_query.split('\\n')\n",
    "\n",
    "unbundled = unbundle.Unbundle(query)\n"
   ]
  },
  {
   "cell_type": "code",
   "execution_count": 3,
   "metadata": {},
   "outputs": [],
   "source": [
    "if is_cte(formatted_query):\n",
    "    cte_dict = formatter.parse_cte(formatted_query)\n",
    "    final_dict = {}\n",
    "    for alias, query in cte_dict.items():\n",
    "        formatter = column_parser.Parser(query)\n",
    "        formatted_query = formatter.format_query(query)\n",
    "        try:\n",
    "            final_dict[alias] = unbundled.extract_query_dict(formatted_query)\n",
    "        except:\n",
    "            final_dict[alias] = formatted_query\n",
    "\n",
    "else:\n",
    "    final_dict = unbundled.extract_query_dict(query)\n",
    "\n",
    "        "
   ]
  },
  {
   "cell_type": "code",
   "execution_count": 5,
   "metadata": {
    "collapsed": true
   },
   "outputs": [
    {
     "name": "stdout",
     "output_type": "stream",
     "text": [
      "analytics_service_endpoint_mapping \n",
      " SELECT b.*\n",
      "   FROM\n",
      "     (SELECT MAX(dt) AS dt\n",
      "      FROM analytics.service_endpoint_mapping) a\n",
      "   INNER JOIN analytics.service_endpoint_mapping b ON a.dt = b.dt),\n",
      " \n",
      "\n",
      "\n",
      "web_dev \n",
      " SELECT s.dt,\n",
      "          COALESCE(em.platform, 'unknown') AS platform,\n",
      "          COALESCE(service_org, 'other') AS service,\n",
      "          account\n",
      "   FROM sku.daily_by_account s\n",
      "   INNER JOIN mapbox_customer_data.accounts a ON s.account = a.id\n",
      "   AND a.dt = '{run_date}'\n",
      "   LEFT JOIN analytics_service_endpoint_mapping em ON s.sku_id = em.sku_id\n",
      "   AND em.in_sku IS NOT NULL\n",
      "   AND em.parent_sku IS NULL\n",
      "   WHERE s.dt BETWEEN DATE_SUB('{run_date}', 29) AND '{run_date}'\n",
      "   GROUP BY 1,\n",
      "            2,\n",
      "            3,\n",
      "            4),\n",
      " \n",
      "\n",
      "\n",
      "mobile_dev \n",
      " SELECT dt,\n",
      "          'mobile' AS platform,\n",
      "          CASE\n",
      "              WHEN LOWER(useragent) RLIKE '(mapboxeventsnavigation|navigation-)' THEN 'navigation'\n",
      "              WHEN LOWER(useragent) RLIKE '(mapboxeventsunity|mapbox-scenekit)' THEN 'unity'\n",
      "              WHEN LOWER(useragent) RLIKE 'mapboxtelemetry' THEN 'telemetry'\n",
      "              WHEN LOWER(useragent) RLIKE 'vision' THEN 'vision'\n",
      "              WHEN LOWER(useragent) RLIKE '(mapboxevents|mapbox-maps-)' THEN 'maps'\n",
      "              ELSE 'other'\n",
      "          END AS service,\n",
      "          OWNER AS account\n",
      "   FROM sdk_events.appuserturnstile\n",
      "   WHERE dt BETWEEN DATE_SUB('{run_date}', 29) AND '{run_date}'\n",
      "     AND (sdkidentifier IS NULL\n",
      "          OR sdkidentifier <> 'mapbox-gl-js')\n",
      "     AND OWNER IS NOT NULL\n",
      "   GROUP BY dt,\n",
      "            'mobile',\n",
      "            CASE\n",
      "                WHEN LOWER(useragent) RLIKE '(mapboxeventsnavigation|navigation-)' THEN 'navigation'\n",
      "                WHEN LOWER(useragent) RLIKE '(mapboxeventsunity|mapbox-scenekit)' THEN 'unity'\n",
      "                WHEN LOWER(useragent) RLIKE 'mapboxtelemetry' THEN 'telemetry'\n",
      "                WHEN LOWER(useragent) RLIKE 'vision' THEN 'vision'\n",
      "                WHEN LOWER(useragent) RLIKE '(mapboxevents|mapbox-maps-)' THEN 'maps'\n",
      "                ELSE 'other'\n",
      "            END,\n",
      "            OWNER),\n",
      " \n",
      "\n",
      "\n",
      "studio_dev \n",
      " SELECT dt,\n",
      "          'web' AS platform,\n",
      "          'studio' AS service,\n",
      "          user_id AS account\n",
      "   FROM mapbox_customer_data.segment_tracks\n",
      "   WHERE dt BETWEEN DATE_SUB('{run_date}', 29) AND '{run_date}'\n",
      "     AND event_text IN ('Finished an Upload',\n",
      "                        'Published a style',\n",
      "                        'Created a style',\n",
      "                        'Added add a map campaign to their account',\n",
      "                        'Created cartogram style',\n",
      "                        'Style editor updated stylesheet layer')\n",
      "   GROUP BY dt,\n",
      "            'web',\n",
      "            'studio',\n",
      "            user_id),\n",
      " \n",
      "\n",
      "\n",
      "web_mobile_studio \n",
      " SELECT dt,\n",
      "          platform,\n",
      "          service,\n",
      "          account\n",
      "   FROM web_dev\n",
      "   UNION ALL SELECT dt,\n",
      "                    platform,\n",
      "                    service,\n",
      "                    account\n",
      "   FROM mobile_dev\n",
      "   UNION ALL SELECT dt,\n",
      "                    platform,\n",
      "                    service,\n",
      "                    account\n",
      "   FROM studio_dev),\n",
      " \n",
      "\n",
      "\n",
      "mau_cube \n",
      " SELECT COALESCE(a.platform, 'other') AS platform,\n",
      "          COALESCE(a.service, 'unknown') AS service,\n",
      "          COUNT(DISTINCT a.account) AS num_devs,\n",
      "          COUNT(DISTINCT CASE\n",
      "                             WHEN b.account IS NOT NULL THEN NULL\n",
      "                             ELSE a.account\n",
      "                         END) AS num_devs_xstudio_only\n",
      "   FROM web_mobile_studio a\n",
      "   LEFT JOIN\n",
      "     (SELECT account,\n",
      "             CONCAT_WS(',', COLLECT_SET(LOWER(service))) AS service\n",
      "      FROM web_mobile_studio\n",
      "      GROUP BY account) b ON a.account = b.account\n",
      "   AND b.service = 'studio'\n",
      "   GROUP BY COALESCE(a.platform, 'other'),\n",
      "            COALESCE(a.service, 'unknown') WITH CUBE),\n",
      " \n",
      "\n",
      "\n",
      "wau_cube \n",
      " SELECT COALESCE(a.platform, 'other') AS platform,\n",
      "          COALESCE(a.service, 'unknown') AS service,\n",
      "          COUNT(DISTINCT a.account) AS num_devs,\n",
      "          COUNT(DISTINCT CASE\n",
      "                             WHEN b.account IS NOT NULL THEN NULL\n",
      "                             ELSE a.account\n",
      "                         END) AS num_devs_xstudio_only\n",
      "   FROM web_mobile_studio a\n",
      "   LEFT JOIN\n",
      "     (SELECT account,\n",
      "             CONCAT_WS(',', COLLECT_SET(LOWER(service))) AS service\n",
      "      FROM web_mobile_studio\n",
      "      WHERE dt BETWEEN DATE_SUB('{run_date}', 6) AND '{run_date}'\n",
      "      GROUP BY account) b ON a.account = b.account\n",
      "   AND b.service = 'studio'\n",
      "   WHERE a.dt BETWEEN DATE_SUB('{run_date}', 6) AND '{run_date}'\n",
      "   GROUP BY COALESCE(a.platform, 'other'),\n",
      "            COALESCE(a.service, 'unknown') WITH CUBE),\n",
      " \n",
      "\n",
      "\n",
      "dau_cube \n",
      " SELECT COALESCE(a.platform, 'other') AS platform,\n",
      "          COALESCE(a.service, 'unknown') AS service,\n",
      "          COUNT(DISTINCT a.account) AS num_devs,\n",
      "          COUNT(DISTINCT CASE\n",
      "                             WHEN b.account IS NOT NULL THEN NULL\n",
      "                             ELSE a.account\n",
      "                         END) AS num_devs_xstudio_only\n",
      "   FROM web_mobile_studio a\n",
      "   LEFT JOIN\n",
      "     (SELECT account,\n",
      "             CONCAT_WS(',', COLLECT_SET(LOWER(service))) AS service\n",
      "      FROM web_mobile_studio\n",
      "      WHERE dt = '{run_date}'\n",
      "      GROUP BY account) b ON a.account = b.account\n",
      "   AND b.service = 'studio'\n",
      "   WHERE a.dt = '{run_date}'\n",
      "   GROUP BY COALESCE(a.platform, 'other'),\n",
      "            COALESCE(a.service, 'unknown') WITH CUBE)\n",
      "SELECT '30d' AS aggregation,\n",
      "       COALESCE(platform, '_all') AS platform,\n",
      "       COALESCE(service, '_all') AS service,\n",
      "       num_devs,\n",
      "       num_devs_xstudio_only\n",
      "FROM mau_cube\n",
      "UNION ALL\n",
      "SELECT '7d' AS aggregation,\n",
      "       COALESCE(platform, '_all') AS platform,\n",
      "       COALESCE(service, '_all') AS service,\n",
      "       num_devs,\n",
      "       num_devs_xstudio_only\n",
      "FROM wau_cube\n",
      "UNION ALL\n",
      " \n",
      "\n",
      "\n",
      "main \n",
      " SELECT '1d' AS aggregation,\n",
      "       COALESCE(platform, '_all') AS platform,\n",
      "       COALESCE(service, '_all') AS service,\n",
      "       num_devs,\n",
      "       num_devs_xstudio_only\n",
      "FROM dau_cube \n",
      "\n",
      "\n"
     ]
    }
   ],
   "source": [
    "for k,v in cte_dict.items():\n",
    "    print(k, '\\n', v, '\\n\\n')"
   ]
  },
  {
   "cell_type": "code",
   "execution_count": 6,
   "metadata": {},
   "outputs": [
    {
     "data": {
      "text/plain": [
       "dict_keys(['analytics_service_endpoint_mapping', 'web_dev', 'mobile_dev', 'studio_dev', 'web_mobile_studio', 'mau_cube', 'wau_cube', 'dau_cube', 'main'])"
      ]
     },
     "execution_count": 6,
     "metadata": {},
     "output_type": "execute_result"
    }
   ],
   "source": [
    "cte_dict.keys()"
   ]
  },
  {
   "cell_type": "code",
   "execution_count": 39,
   "metadata": {},
   "outputs": [
    {
     "data": {
      "text/plain": [
       "'SELECT b.*\\n   FROM\\n     (SELECT MAX(dt) AS dt\\n      FROM analytics.service_endpoint_mapping) a\\n   INNER JOIN analytics.service_endpoint_mapping b ON a.dt = b.dt),\\n'"
      ]
     },
     "execution_count": 39,
     "metadata": {},
     "output_type": "execute_result"
    }
   ],
   "source": [
    "cte_dict['analytics_service_endpoint_mapping']"
   ]
  },
  {
   "cell_type": "code",
   "execution_count": 40,
   "metadata": {},
   "outputs": [],
   "source": [
    "# for alias, query in cte_dict.items():\n",
    "final_dict = {}\n",
    "query = cte_dict['analytics_service_endpoint_mapping']\n",
    "alias = 'analytics_service_endpoint_mapping'\n",
    "formatter = column_parser.Parser(query)\n",
    "formatted_query = formatter.format_query(query)\n",
    "final_dict[alias] = unbundled.extract_query_dict(formatted_query)\n",
    "\n",
    "    "
   ]
  },
  {
   "cell_type": "code",
   "execution_count": 41,
   "metadata": {},
   "outputs": [
    {
     "data": {
      "text/plain": [
       "{'b': 'analytics.service_endpoint_mapping) a INNER JOIN analytics.service_endpoint_mapping',\n",
       " 'main': 'SELECT b.* b ON a.dt = b.dt),'}"
      ]
     },
     "execution_count": 41,
     "metadata": {},
     "output_type": "execute_result"
    }
   ],
   "source": [
    "# extract_query_dict\n",
    "formatter = column_parser.Parser(query)\n",
    "formatted_query = formatter.format_query(query)\n",
    "query_list_0 = formatted_query.split('\\n')\n",
    "query_dict = {}\n",
    "\n",
    "sub_query = unbundled.delevel(query_list_0)\n",
    "query_dict = sub_query\n",
    "query_dict"
   ]
  },
  {
   "cell_type": "code",
   "execution_count": null,
   "metadata": {},
   "outputs": [],
   "source": []
  },
  {
   "cell_type": "code",
   "execution_count": 42,
   "metadata": {
    "scrolled": true
   },
   "outputs": [
    {
     "data": {
      "text/plain": [
       "{'analytics_service_endpoint_mapping': {'b': 'analytics.service_endpoint_mapping) a INNER JOIN analytics.service_endpoint_mapping',\n",
       "  'main': 'SELECT b.* b ON a.dt = b.dt),'}}"
      ]
     },
     "execution_count": 42,
     "metadata": {},
     "output_type": "execute_result"
    }
   ],
   "source": [
    "final_dict"
   ]
  },
  {
   "cell_type": "code",
   "execution_count": 43,
   "metadata": {},
   "outputs": [
    {
     "data": {
      "text/plain": [
       "'SELECT b.*\\nFROM\\n  (SELECT MAX(dt) AS dt\\n   FROM analytics.service_endpoint_mapping) a\\nINNER JOIN analytics.service_endpoint_mapping b ON a.dt = b.dt),'"
      ]
     },
     "execution_count": 43,
     "metadata": {},
     "output_type": "execute_result"
    }
   ],
   "source": [
    "formatted_query"
   ]
  },
  {
   "cell_type": "code",
   "execution_count": null,
   "metadata": {},
   "outputs": [],
   "source": [
    "# query_list_1 = formatted_query.split('\\n')\n",
    "# query_dict = {}\n",
    "\n",
    "# sub_query = unbundled.delevel(query_list_0)\n",
    "# query_dict = sub_query\n"
   ]
  },
  {
   "cell_type": "code",
   "execution_count": null,
   "metadata": {},
   "outputs": [],
   "source": [
    "# query_dict"
   ]
  },
  {
   "cell_type": "code",
   "execution_count": null,
   "metadata": {},
   "outputs": [],
   "source": [
    "# query_1 = cte_dict['wau_cube']\n",
    "# formatter = column_parser.Parser(query_1)\n",
    "# formatted_query_1 = formatter.format_query(query_1)\n",
    "# query_list_1 = formatted_query_1.split('\\n')\n"
   ]
  },
  {
   "cell_type": "code",
   "execution_count": null,
   "metadata": {},
   "outputs": [],
   "source": [
    "# query_2 = cte_dict['web_dev']\n",
    "# formatter = column_parser.Parser(query_2)\n",
    "# formatted_query_2 = formatter.format_query(query_2)\n",
    "# query_list_2 = formatted_query_2.split('\\n')\n"
   ]
  },
  {
   "cell_type": "code",
   "execution_count": null,
   "metadata": {},
   "outputs": [],
   "source": [
    "# for i,l in enumerate(query_list_1): print(i, l)"
   ]
  },
  {
   "cell_type": "code",
   "execution_count": null,
   "metadata": {},
   "outputs": [],
   "source": [
    "# for i,l in enumerate(query_list_2): print(i, l)"
   ]
  },
  {
   "cell_type": "code",
   "execution_count": 44,
   "metadata": {
    "scrolled": true
   },
   "outputs": [
    {
     "data": {
      "text/plain": [
       "['SELECT b.*',\n",
       " 'FROM',\n",
       " '  (SELECT MAX(dt) AS dt',\n",
       " '   FROM analytics.service_endpoint_mapping) a',\n",
       " 'INNER JOIN analytics.service_endpoint_mapping b ON a.dt = b.dt),']"
      ]
     },
     "execution_count": 44,
     "metadata": {},
     "output_type": "execute_result"
    }
   ],
   "source": [
    "query = cte_dict['analytics_service_endpoint_mapping']\n",
    "formatter = column_parser.Parser(query)\n",
    "formatted_query = formatter.format_query(query)\n",
    "query_list = formatted_query.split('\\n')\n",
    "query_list"
   ]
  },
  {
   "cell_type": "code",
   "execution_count": 45,
   "metadata": {},
   "outputs": [
    {
     "name": "stdout",
     "output_type": "stream",
     "text": [
      "0 SELECT b.*\n",
      "1 FROM\n",
      "2   (SELECT MAX(dt) AS dt\n",
      "3    FROM analytics.service_endpoint_mapping) a\n",
      "4 INNER JOIN analytics.service_endpoint_mapping b ON a.dt = b.dt),\n"
     ]
    }
   ],
   "source": [
    "for i, l in enumerate(query_list): print(i, l)"
   ]
  },
  {
   "cell_type": "code",
   "execution_count": 13,
   "metadata": {},
   "outputs": [],
   "source": [
    "pos_delete, pos_where = [len(query_list)-1], len(query_list)\n",
    "pos_join = []\n",
    "for i, line in enumerate(query_list):\n",
    "    if line.startswith('ORDER') or line.startswith('GROUP'):\n",
    "        pos_delete.append(i)\n",
    "    elif line.startswith('FROM') and len(line.split(' ')) > 1:\n",
    "        pos_join.append(i)\n",
    "        \n",
    "    elif line.startswith('FROM') and len(line.split(' ')) == 1:\n",
    "\n",
    "        for i2,line2 in enumerate(query_list[i+1:]):\n",
    "            if line2.startswith(' '): pos_join.append(i2+i+1)\n",
    "            else: break\n",
    "\n",
    "            \n",
    "    elif line.startswith('WHERE'):\n",
    "        pos_where = i\n",
    "    elif line.startswith('LEFT JOIN') or line.startswith('INNER JOIN') or line.startswith('FULL OUTER JOIN') or line.startswith('RIGHT JOIN'):\n",
    "        pos_join.append(i)\n",
    "\n",
    "if min(pos_delete) == len(query_list)-1:\n",
    "    pos_join.append(min(pos_delete))\n",
    "else:\n",
    "    pass"
   ]
  },
  {
   "cell_type": "code",
   "execution_count": 14,
   "metadata": {},
   "outputs": [
    {
     "data": {
      "text/plain": [
       "[2, 3, 4, 4]"
      ]
     },
     "execution_count": 14,
     "metadata": {},
     "output_type": "execute_result"
    }
   ],
   "source": [
    "pos_join"
   ]
  },
  {
   "cell_type": "code",
   "execution_count": 15,
   "metadata": {},
   "outputs": [
    {
     "data": {
      "text/plain": [
       "5"
      ]
     },
     "execution_count": 15,
     "metadata": {},
     "output_type": "execute_result"
    }
   ],
   "source": [
    "pos_where"
   ]
  },
  {
   "cell_type": "code",
   "execution_count": 16,
   "metadata": {},
   "outputs": [
    {
     "data": {
      "text/plain": [
       "([2, 3, 4], 5)"
      ]
     },
     "execution_count": 16,
     "metadata": {},
     "output_type": "execute_result"
    }
   ],
   "source": [
    "# delevel\n",
    "\n",
    "sub_query = {}\n",
    "pos_join, pos_where = unbundled._get_joins_pos(query_list)\n",
    "pos_join, pos_where\n"
   ]
  },
  {
   "cell_type": "code",
   "execution_count": 17,
   "metadata": {},
   "outputs": [
    {
     "data": {
      "text/plain": [
       "[1, 4]"
      ]
     },
     "execution_count": 17,
     "metadata": {},
     "output_type": "execute_result"
    }
   ],
   "source": [
    "alias_pos = unbundled._get_alias_pos(query_list, pos_join, pos_where)\n",
    "alias_pos"
   ]
  },
  {
   "cell_type": "markdown",
   "metadata": {},
   "source": [
    "## _get_alias_pos"
   ]
  },
  {
   "cell_type": "code",
   "execution_count": 18,
   "metadata": {},
   "outputs": [],
   "source": [
    "pos_join = list(set(pos_join))\n",
    "pos_join_list = iter(pos_join)\n",
    "next(pos_join_list)\n",
    "alias_pos = []\n"
   ]
  },
  {
   "cell_type": "code",
   "execution_count": 19,
   "metadata": {},
   "outputs": [],
   "source": [
    "if query_list[pos_join[0]].startswith('FROM'):\n",
    "    alias_pos.append(pos_join[0])\n"
   ]
  },
  {
   "cell_type": "code",
   "execution_count": 20,
   "metadata": {},
   "outputs": [
    {
     "data": {
      "text/plain": [
       "[2, 3, 4]"
      ]
     },
     "execution_count": 20,
     "metadata": {},
     "output_type": "execute_result"
    }
   ],
   "source": [
    "pos_join"
   ]
  },
  {
   "cell_type": "code",
   "execution_count": 21,
   "metadata": {},
   "outputs": [],
   "source": [
    "for i in range(len(pos_join)-1):\n",
    "    if i < len(pos_join)-2 and pos_join[i] < pos_where:\n",
    "        end_pos = next(pos_join_list)-1\n",
    "        alias_pos.append(end_pos-1)\n",
    "\n",
    "    elif pos_join[-1] >= pos_where:\n",
    "        end_pos = next(pos_join_list)-1\n",
    "        alias_pos.append(pos_where - 1)\n",
    "\n",
    "    else:\n",
    "        end_pos = pos_join[-1]\n",
    "        alias_pos.append(pos_where-1)\n"
   ]
  },
  {
   "cell_type": "code",
   "execution_count": 22,
   "metadata": {},
   "outputs": [],
   "source": [
    "alias_pos = sorted(list(set(alias_pos)))"
   ]
  },
  {
   "cell_type": "code",
   "execution_count": 23,
   "metadata": {},
   "outputs": [
    {
     "data": {
      "text/plain": [
       "[1, 4]"
      ]
     },
     "execution_count": 23,
     "metadata": {},
     "output_type": "execute_result"
    }
   ],
   "source": [
    "alias_pos"
   ]
  },
  {
   "cell_type": "code",
   "execution_count": 24,
   "metadata": {},
   "outputs": [
    {
     "data": {
      "text/plain": [
       "[(2, 1), (3, 4)]"
      ]
     },
     "execution_count": 24,
     "metadata": {},
     "output_type": "execute_result"
    }
   ],
   "source": [
    "sub_query_pos = list(zip(pos_join, alias_pos))\n",
    "sub_query_pos"
   ]
  },
  {
   "cell_type": "code",
   "execution_count": 25,
   "metadata": {},
   "outputs": [
    {
     "data": {
      "text/plain": [
       "({'b': 'analytics.service_endpoint_mapping) a INNER JOIN analytics.service_endpoint_mapping'},\n",
       " ['b ON a.dt = b.dt),'])"
      ]
     },
     "execution_count": 25,
     "metadata": {},
     "output_type": "execute_result"
    }
   ],
   "source": [
    "sub_query, keep = unbundled._parse_sub_query(query_list, sub_query_pos)\n",
    "sub_query, keep"
   ]
  },
  {
   "cell_type": "code",
   "execution_count": 26,
   "metadata": {},
   "outputs": [
    {
     "data": {
      "text/plain": [
       "[0]"
      ]
     },
     "execution_count": 26,
     "metadata": {},
     "output_type": "execute_result"
    }
   ],
   "source": [
    "main_query_pos = unbundled.main_query(query_list, sub_query_pos)\n",
    "main_query_pos"
   ]
  },
  {
   "cell_type": "code",
   "execution_count": 27,
   "metadata": {},
   "outputs": [
    {
     "data": {
      "text/plain": [
       "{'b': 'analytics.service_endpoint_mapping) a INNER JOIN analytics.service_endpoint_mapping',\n",
       " 'main': 'SELECT b.*'}"
      ]
     },
     "execution_count": 27,
     "metadata": {},
     "output_type": "execute_result"
    }
   ],
   "source": [
    "if main_query_pos != []:\n",
    "    sub_query['main'] = '\\n'.join([query_list[p] for p in main_query_pos])\n",
    "sub_query"
   ]
  },
  {
   "cell_type": "code",
   "execution_count": 28,
   "metadata": {},
   "outputs": [
    {
     "data": {
      "text/plain": [
       "{'b': 'analytics.service_endpoint_mapping) a INNER JOIN analytics.service_endpoint_mapping',\n",
       " 'main': 'SELECT b.* b ON a.dt = b.dt),'}"
      ]
     },
     "execution_count": 28,
     "metadata": {},
     "output_type": "execute_result"
    }
   ],
   "source": [
    "sub_query['main'] = sub_query['main'] + ' ' + '\\n'.join(keep)\n",
    "sub_query"
   ]
  },
  {
   "cell_type": "code",
   "execution_count": null,
   "metadata": {},
   "outputs": [],
   "source": []
  }
 ],
 "metadata": {
  "kernelspec": {
   "display_name": "Python 3",
   "language": "python",
   "name": "python3"
  },
  "language_info": {
   "codemirror_mode": {
    "name": "ipython",
    "version": 3
   },
   "file_extension": ".py",
   "mimetype": "text/x-python",
   "name": "python",
   "nbconvert_exporter": "python",
   "pygments_lexer": "ipython3",
   "version": "3.7.4"
  }
 },
 "nbformat": 4,
 "nbformat_minor": 2
}
