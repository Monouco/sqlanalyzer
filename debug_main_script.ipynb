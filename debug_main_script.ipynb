{
 "cells": [
  {
   "cell_type": "code",
   "execution_count": 1,
   "metadata": {},
   "outputs": [],
   "source": [
    "from sqlanalyzer import column_parser, unbundle\n",
    "from sqlanalyzer.unbundle import *\n",
    "import sqlparse\n",
    "import re\n",
    "import json\n",
    "import pandas as pd\n",
    "import time\n",
    "\n",
    "\n",
    "def extract_subquery_fields(query, db_fields):\n",
    "    formatter = column_parser.Parser(query)\n",
    "    formatted = formatter.format_query(query)\n",
    "    fields = formatter.match_queried_fields(formatted, db_fields)\n",
    "    return fields\n",
    "\n",
    "\n",
    "def compile_queried_cols(query_dict, df):\n",
    "    all_cols = []\n",
    "    for _,v in query_dict.items():\n",
    "        if isinstance(v, dict):\n",
    "            for _,v1 in v.items():\n",
    "                all_cols.extend(extract_subquery_fields(v1, df))\n",
    "        else:\n",
    "            all_cols.extend(extract_subquery_fields(v, df))\n",
    "    return all_cols"
   ]
  },
  {
   "cell_type": "code",
   "execution_count": 2,
   "metadata": {},
   "outputs": [],
   "source": [
    "query = open('active_devs.sql').read()\n",
    "\n",
    "formatter = column_parser.Parser(query)\n",
    "formatted_query = formatter.format_query(query)\n",
    "query_list = formatted_query.split('\\n')\n",
    "\n",
    "unbundled = unbundle.Unbundle(query)\n"
   ]
  },
  {
   "cell_type": "code",
   "execution_count": 3,
   "metadata": {},
   "outputs": [],
   "source": [
    "# if is_cte(formatted_query):\n",
    "\n",
    "cte_dict = formatter.parse_cte(formatted_query)\n",
    "final_dict = {}\n",
    "# for alias, query in cte_dict.items():\n",
    "#     formatter = column_parser.Parser(query)\n",
    "#     formatted_query = formatter.format_query(query)\n",
    "#     try:\n",
    "#         final_dict[alias] = unbundled.extract_query_dict(formatted_query)\n",
    "#     except:\n",
    "#         final_dict[alias] = formatted_query\n",
    "    \n",
    "#     with open('data.json', 'w') as outfile:\n",
    "#         json.dump(final_dict, outfile)\n",
    "\n",
    "# else:\n",
    "#     final_dict = unbundled.extract_query_dict(query)\n",
    "#     with open('data.json', 'w') as outfile:\n",
    "#         json.dump(unbundled.extract_query_dict(query), outfile)\n"
   ]
  },
  {
   "cell_type": "code",
   "execution_count": 4,
   "metadata": {
    "collapsed": true
   },
   "outputs": [
    {
     "name": "stdout",
     "output_type": "stream",
     "text": [
      "analytics_service_endpoint_mapping \n",
      " SELECT b.*\n",
      "   FROM\n",
      "     (SELECT MAX(dt) AS dt\n",
      "      FROM analytics.service_endpoint_mapping) a\n",
      "   INNER JOIN analytics.service_endpoint_mapping b ON a.dt = b.dt),\n",
      " \n",
      "\n",
      "\n",
      "web_dev \n",
      " SELECT s.dt,\n",
      "          COALESCE(em.platform, 'unknown') AS platform,\n",
      "          COALESCE(service_org, 'other') AS service,\n",
      "          account\n",
      "   FROM sku.daily_by_account s\n",
      "   INNER JOIN mapbox_customer_data.accounts a ON s.account = a.id\n",
      "   AND a.dt = '{run_date}'\n",
      "   LEFT JOIN analytics_service_endpoint_mapping em ON s.sku_id = em.sku_id\n",
      "   AND em.in_sku IS NOT NULL\n",
      "   AND em.parent_sku IS NULL\n",
      "   WHERE s.dt BETWEEN DATE_SUB('{run_date}', 29) AND '{run_date}'\n",
      "   GROUP BY 1,\n",
      "            2,\n",
      "            3,\n",
      "            4),\n",
      " \n",
      "\n",
      "\n",
      "mobile_dev \n",
      " SELECT dt,\n",
      "          'mobile' AS platform,\n",
      "          CASE\n",
      "              WHEN LOWER(useragent) RLIKE '(mapboxeventsnavigation|navigation-)' THEN 'navigation'\n",
      "              WHEN LOWER(useragent) RLIKE '(mapboxeventsunity|mapbox-scenekit)' THEN 'unity'\n",
      "              WHEN LOWER(useragent) RLIKE 'mapboxtelemetry' THEN 'telemetry'\n",
      "              WHEN LOWER(useragent) RLIKE 'vision' THEN 'vision'\n",
      "              WHEN LOWER(useragent) RLIKE '(mapboxevents|mapbox-maps-)' THEN 'maps'\n",
      "              ELSE 'other'\n",
      "          END AS service,\n",
      "          OWNER AS account\n",
      "   FROM sdk_events.appuserturnstile\n",
      "   WHERE dt BETWEEN DATE_SUB('{run_date}', 29) AND '{run_date}'\n",
      "     AND (sdkidentifier IS NULL\n",
      "          OR sdkidentifier <> 'mapbox-gl-js')\n",
      "     AND OWNER IS NOT NULL\n",
      "   GROUP BY dt,\n",
      "            'mobile',\n",
      "            CASE\n",
      "                WHEN LOWER(useragent) RLIKE '(mapboxeventsnavigation|navigation-)' THEN 'navigation'\n",
      "                WHEN LOWER(useragent) RLIKE '(mapboxeventsunity|mapbox-scenekit)' THEN 'unity'\n",
      "                WHEN LOWER(useragent) RLIKE 'mapboxtelemetry' THEN 'telemetry'\n",
      "                WHEN LOWER(useragent) RLIKE 'vision' THEN 'vision'\n",
      "                WHEN LOWER(useragent) RLIKE '(mapboxevents|mapbox-maps-)' THEN 'maps'\n",
      "                ELSE 'other'\n",
      "            END,\n",
      "            OWNER),\n",
      " \n",
      "\n",
      "\n",
      "studio_dev \n",
      " SELECT dt,\n",
      "          'web' AS platform,\n",
      "          'studio' AS service,\n",
      "          user_id AS account\n",
      "   FROM mapbox_customer_data.segment_tracks\n",
      "   WHERE dt BETWEEN DATE_SUB('{run_date}', 29) AND '{run_date}'\n",
      "     AND event_text IN ('Finished an Upload',\n",
      "                        'Published a style',\n",
      "                        'Created a style',\n",
      "                        'Added add a map campaign to their account',\n",
      "                        'Created cartogram style',\n",
      "                        'Style editor updated stylesheet layer')\n",
      "   GROUP BY dt,\n",
      "            'web',\n",
      "            'studio',\n",
      "            user_id),\n",
      " \n",
      "\n",
      "\n",
      "web_mobile_studio \n",
      " SELECT dt,\n",
      "          platform,\n",
      "          service,\n",
      "          account\n",
      "   FROM web_dev\n",
      "   UNION ALL SELECT dt,\n",
      "                    platform,\n",
      "                    service,\n",
      "                    account\n",
      "   FROM mobile_dev\n",
      "   UNION ALL SELECT dt,\n",
      "                    platform,\n",
      "                    service,\n",
      "                    account\n",
      "   FROM studio_dev),\n",
      " \n",
      "\n",
      "\n",
      "mau_cube \n",
      " SELECT COALESCE(a.platform, 'other') AS platform,\n",
      "          COALESCE(a.service, 'unknown') AS service,\n",
      "          COUNT(DISTINCT a.account) AS num_devs,\n",
      "          COUNT(DISTINCT CASE\n",
      "                             WHEN b.account IS NOT NULL THEN NULL\n",
      "                             ELSE a.account\n",
      "                         END) AS num_devs_xstudio_only\n",
      "   FROM web_mobile_studio a\n",
      "   LEFT JOIN\n",
      "     (SELECT account,\n",
      "             CONCAT_WS(',', COLLECT_SET(LOWER(service))) AS service\n",
      "      FROM web_mobile_studio\n",
      "      GROUP BY account) b ON a.account = b.account\n",
      "   AND b.service = 'studio'\n",
      "   GROUP BY COALESCE(a.platform, 'other'),\n",
      "            COALESCE(a.service, 'unknown') WITH CUBE),\n",
      " \n",
      "\n",
      "\n",
      "wau_cube \n",
      " SELECT COALESCE(a.platform, 'other') AS platform,\n",
      "          COALESCE(a.service, 'unknown') AS service,\n",
      "          COUNT(DISTINCT a.account) AS num_devs,\n",
      "          COUNT(DISTINCT CASE\n",
      "                             WHEN b.account IS NOT NULL THEN NULL\n",
      "                             ELSE a.account\n",
      "                         END) AS num_devs_xstudio_only\n",
      "   FROM web_mobile_studio a\n",
      "   LEFT JOIN\n",
      "     (SELECT account,\n",
      "             CONCAT_WS(',', COLLECT_SET(LOWER(service))) AS service\n",
      "      FROM web_mobile_studio\n",
      "      WHERE dt BETWEEN DATE_SUB('{run_date}', 6) AND '{run_date}'\n",
      "      GROUP BY account) b ON a.account = b.account\n",
      "   AND b.service = 'studio'\n",
      "   WHERE a.dt BETWEEN DATE_SUB('{run_date}', 6) AND '{run_date}'\n",
      "   GROUP BY COALESCE(a.platform, 'other'),\n",
      "            COALESCE(a.service, 'unknown') WITH CUBE),\n",
      " \n",
      "\n",
      "\n",
      "dau_cube \n",
      " SELECT COALESCE(a.platform, 'other') AS platform,\n",
      "          COALESCE(a.service, 'unknown') AS service,\n",
      "          COUNT(DISTINCT a.account) AS num_devs,\n",
      "          COUNT(DISTINCT CASE\n",
      "                             WHEN b.account IS NOT NULL THEN NULL\n",
      "                             ELSE a.account\n",
      "                         END) AS num_devs_xstudio_only\n",
      "   FROM web_mobile_studio a\n",
      "   LEFT JOIN\n",
      "     (SELECT account,\n",
      "             CONCAT_WS(',', COLLECT_SET(LOWER(service))) AS service\n",
      "      FROM web_mobile_studio\n",
      "      WHERE dt = '{run_date}'\n",
      "      GROUP BY account) b ON a.account = b.account\n",
      "   AND b.service = 'studio'\n",
      "   WHERE a.dt = '{run_date}'\n",
      "   GROUP BY COALESCE(a.platform, 'other'),\n",
      "            COALESCE(a.service, 'unknown') WITH CUBE)\n",
      "SELECT '30d' AS aggregation,\n",
      "       COALESCE(platform, '_all') AS platform,\n",
      "       COALESCE(service, '_all') AS service,\n",
      "       num_devs,\n",
      "       num_devs_xstudio_only\n",
      "FROM mau_cube\n",
      "UNION ALL\n",
      "SELECT '7d' AS aggregation,\n",
      "       COALESCE(platform, '_all') AS platform,\n",
      "       COALESCE(service, '_all') AS service,\n",
      "       num_devs,\n",
      "       num_devs_xstudio_only\n",
      "FROM wau_cube\n",
      "UNION ALL\n",
      " \n",
      "\n",
      "\n",
      "main \n",
      " SELECT '1d' AS aggregation,\n",
      "       COALESCE(platform, '_all') AS platform,\n",
      "       COALESCE(service, '_all') AS service,\n",
      "       num_devs,\n",
      "       num_devs_xstudio_only\n",
      "FROM dau_cube \n",
      "\n",
      "\n"
     ]
    }
   ],
   "source": [
    "for k,v in cte_dict.items():\n",
    "    print(k, '\\n', v, '\\n\\n')"
   ]
  },
  {
   "cell_type": "code",
   "execution_count": 5,
   "metadata": {},
   "outputs": [
    {
     "data": {
      "text/plain": [
       "dict_keys(['analytics_service_endpoint_mapping', 'web_dev', 'mobile_dev', 'studio_dev', 'web_mobile_studio', 'mau_cube', 'wau_cube', 'dau_cube', 'main'])"
      ]
     },
     "execution_count": 5,
     "metadata": {},
     "output_type": "execute_result"
    }
   ],
   "source": [
    "cte_dict.keys()"
   ]
  },
  {
   "cell_type": "code",
   "execution_count": 6,
   "metadata": {},
   "outputs": [],
   "source": [
    "# for alias, query in cte_dict.items():\n",
    "query = cte_dict['wau_cube']\n",
    "alias = 'wau_cube'\n",
    "formatter = column_parser.Parser(query)\n",
    "formatted_query = formatter.format_query(query)\n",
    "try:\n",
    "    final_dict[alias] = unbundled.extract_query_dict(formatted_query)\n",
    "except:\n",
    "    final_dict[alias] = formatted_query\n",
    "    "
   ]
  },
  {
   "cell_type": "code",
   "execution_count": 7,
   "metadata": {},
   "outputs": [
    {
     "data": {
      "text/plain": [
       "{'wau_cube': {'a': 'web_mobile_studio',\n",
       "  \"'studio'\": \"SELECT account,           CONCAT_WS(',', COLLECT_SET(LOWER(service))) AS service    FROM web_mobile_studio    WHERE dt BETWEEN DATE_SUB('{run_date}', 6) AND '{run_date}'    GROUP BY account) b ON a.account = b.account AND b.service =\",\n",
       "  'main': \"SELECT COALESCE(a.platform, 'other') AS platform,\\n       COALESCE(a.service, 'unknown') AS service,\\n       COUNT(DISTINCT a.account) AS num_devs,\\n       COUNT(DISTINCT CASE\\n                          WHEN b.account IS NOT NULL THEN NULL\\n                          ELSE a.account\\n                      END) AS num_devs_xstudio_only\\nFROM web_mobile_studio a\\nLEFT JOIN\\nWHERE a.dt BETWEEN DATE_SUB('{run_date}', 6) AND '{run_date}'\\nGROUP BY COALESCE(a.platform, 'other'),\\n         COALESCE(a.service, 'unknown') WITH CUBE), \"}}"
      ]
     },
     "execution_count": 7,
     "metadata": {},
     "output_type": "execute_result"
    }
   ],
   "source": [
    "final_dict"
   ]
  },
  {
   "cell_type": "code",
   "execution_count": 8,
   "metadata": {},
   "outputs": [
    {
     "data": {
      "text/plain": [
       "\"SELECT COALESCE(a.platform, 'other') AS platform,\\n       COALESCE(a.service, 'unknown') AS service,\\n       COUNT(DISTINCT a.account) AS num_devs,\\n       COUNT(DISTINCT CASE\\n                          WHEN b.account IS NOT NULL THEN NULL\\n                          ELSE a.account\\n                      END) AS num_devs_xstudio_only\\nFROM web_mobile_studio a\\nLEFT JOIN\\n  (SELECT account,\\n          CONCAT_WS(',', COLLECT_SET(LOWER(service))) AS service\\n   FROM web_mobile_studio\\n   WHERE dt BETWEEN DATE_SUB('{run_date}', 6) AND '{run_date}'\\n   GROUP BY account) b ON a.account = b.account\\nAND b.service = 'studio'\\nWHERE a.dt BETWEEN DATE_SUB('{run_date}', 6) AND '{run_date}'\\nGROUP BY COALESCE(a.platform, 'other'),\\n         COALESCE(a.service, 'unknown') WITH CUBE),\""
      ]
     },
     "execution_count": 8,
     "metadata": {},
     "output_type": "execute_result"
    }
   ],
   "source": [
    "formatted_query"
   ]
  },
  {
   "cell_type": "code",
   "execution_count": 11,
   "metadata": {},
   "outputs": [],
   "source": [
    "# query_list_1 = formatted_query.split('\\n')\n",
    "# query_dict = {}\n",
    "\n",
    "# sub_query = unbundled.delevel(query_list_0)\n",
    "# query_dict = sub_query\n"
   ]
  },
  {
   "cell_type": "code",
   "execution_count": 10,
   "metadata": {},
   "outputs": [
    {
     "data": {
      "text/plain": [
       "{}"
      ]
     },
     "execution_count": 10,
     "metadata": {},
     "output_type": "execute_result"
    }
   ],
   "source": [
    "query_dict"
   ]
  },
  {
   "cell_type": "code",
   "execution_count": 12,
   "metadata": {},
   "outputs": [],
   "source": [
    "query_1 = cte_dict['wau_cube']\n",
    "formatter = column_parser.Parser(query_1)\n",
    "formatted_query_1 = formatter.format_query(query_1)\n",
    "query_list_1 = formatted_query_1.split('\\n')\n"
   ]
  },
  {
   "cell_type": "code",
   "execution_count": 13,
   "metadata": {},
   "outputs": [],
   "source": [
    "query_2 = cte_dict['web_dev']\n",
    "formatter = column_parser.Parser(query_2)\n",
    "formatted_query_2 = formatter.format_query(query_2)\n",
    "query_list_2 = formatted_query_2.split('\\n')\n"
   ]
  },
  {
   "cell_type": "code",
   "execution_count": 14,
   "metadata": {},
   "outputs": [
    {
     "name": "stdout",
     "output_type": "stream",
     "text": [
      "0 SELECT COALESCE(a.platform, 'other') AS platform,\n",
      "1        COALESCE(a.service, 'unknown') AS service,\n",
      "2        COUNT(DISTINCT a.account) AS num_devs,\n",
      "3        COUNT(DISTINCT CASE\n",
      "4                           WHEN b.account IS NOT NULL THEN NULL\n",
      "5                           ELSE a.account\n",
      "6                       END) AS num_devs_xstudio_only\n",
      "7 FROM web_mobile_studio a\n",
      "8 LEFT JOIN\n",
      "9   (SELECT account,\n",
      "10           CONCAT_WS(',', COLLECT_SET(LOWER(service))) AS service\n",
      "11    FROM web_mobile_studio\n",
      "12    WHERE dt BETWEEN DATE_SUB('{run_date}', 6) AND '{run_date}'\n",
      "13    GROUP BY account) b ON a.account = b.account\n",
      "14 AND b.service = 'studio'\n",
      "15 WHERE a.dt BETWEEN DATE_SUB('{run_date}', 6) AND '{run_date}'\n",
      "16 GROUP BY COALESCE(a.platform, 'other'),\n",
      "17          COALESCE(a.service, 'unknown') WITH CUBE),\n"
     ]
    }
   ],
   "source": [
    "for i,l in enumerate(query_list_1): print(i, l)"
   ]
  },
  {
   "cell_type": "code",
   "execution_count": 15,
   "metadata": {},
   "outputs": [
    {
     "name": "stdout",
     "output_type": "stream",
     "text": [
      "0 SELECT s.dt,\n",
      "1        COALESCE(em.platform, 'unknown') AS platform,\n",
      "2        COALESCE(service_org, 'other') AS service,\n",
      "3        account\n",
      "4 FROM sku.daily_by_account s\n",
      "5 INNER JOIN mapbox_customer_data.accounts a ON s.account = a.id\n",
      "6 AND a.dt = '{run_date}'\n",
      "7 LEFT JOIN analytics_service_endpoint_mapping em ON s.sku_id = em.sku_id\n",
      "8 AND em.in_sku IS NOT NULL\n",
      "9 AND em.parent_sku IS NULL\n",
      "10 WHERE s.dt BETWEEN DATE_SUB('{run_date}', 29) AND '{run_date}'\n",
      "11 GROUP BY 1,\n",
      "12          2,\n",
      "13          3,\n",
      "14          4),\n"
     ]
    }
   ],
   "source": [
    "for i,l in enumerate(query_list_2): print(i, l)"
   ]
  },
  {
   "cell_type": "code",
   "execution_count": 18,
   "metadata": {},
   "outputs": [],
   "source": [
    "# _get_joins_pos\n",
    "query_list = query_list_1\n",
    "\n",
    "pos_delete, pos_where = [len(query_list)-1], len(query_list)\n",
    "pos_join = []\n",
    "for i, line in enumerate(query_list):\n",
    "    if line.startswith('ORDER') or line.startswith('GROUP'):\n",
    "        pos_delete.append(i)\n",
    "    if line.startswith('FROM') and len(line.split(' ')) > 1:\n",
    "        pos_join.append(i)\n",
    "    elif line.startswith('FROM') and len(line.split(' ')) == 1:\n",
    "        pos_join.append(i+1)\n",
    "    if line.startswith('WHERE'):\n",
    "        pos_where = i\n",
    "    if line.startswith('LEFT JOIN') or line.startswith('INNER JOIN') or line.startswith('FULL OUTER JOIN') or line.startswith('RIGHT JOIN'):\n",
    "        pos_join.append(i+1)\n",
    "\n",
    "if min(pos_delete) == len(query_list)-1:\n",
    "    pos_join.append(min(pos_delete))\n",
    "else:\n",
    "    pass"
   ]
  },
  {
   "cell_type": "code",
   "execution_count": 19,
   "metadata": {},
   "outputs": [
    {
     "data": {
      "text/plain": [
       "[7, 9]"
      ]
     },
     "execution_count": 19,
     "metadata": {},
     "output_type": "execute_result"
    }
   ],
   "source": [
    "pos_join"
   ]
  },
  {
   "cell_type": "code",
   "execution_count": 20,
   "metadata": {},
   "outputs": [
    {
     "data": {
      "text/plain": [
       "15"
      ]
     },
     "execution_count": 20,
     "metadata": {},
     "output_type": "execute_result"
    }
   ],
   "source": [
    "pos_where"
   ]
  },
  {
   "cell_type": "code",
   "execution_count": 24,
   "metadata": {},
   "outputs": [
    {
     "data": {
      "text/plain": [
       "([4, 6, 8], 10)"
      ]
     },
     "execution_count": 24,
     "metadata": {},
     "output_type": "execute_result"
    }
   ],
   "source": [
    "# delevel\n",
    "\n",
    "sub_query = {}\n",
    "pos_join, pos_where = unbundled._get_joins_pos(query_list_0)\n",
    "pos_join, pos_where\n"
   ]
  },
  {
   "cell_type": "code",
   "execution_count": null,
   "metadata": {},
   "outputs": [],
   "source": [
    "alias_pos = unbundled._get_alias_pos(query_list, pos_join, pos_where)\n",
    "sub_query_pos = list(zip(pos_join, alias_pos))\n",
    "sub_query, keep = unbundled._parse_sub_query(query_list, sub_query_pos)\n",
    "main_query_pos = unbundled.main_query(query_list, sub_query_pos)\n",
    "if main_query_pos != []:\n",
    "    sub_query['main'] = '\\n'.join([query_list[p] for p in main_query_pos])\n",
    "sub_query['main'] = sub_query['main'] + ' ' + '\\n'.join(keep)\n"
   ]
  },
  {
   "cell_type": "code",
   "execution_count": null,
   "metadata": {},
   "outputs": [],
   "source": []
  },
  {
   "cell_type": "code",
   "execution_count": null,
   "metadata": {},
   "outputs": [],
   "source": []
  },
  {
   "cell_type": "code",
   "execution_count": null,
   "metadata": {},
   "outputs": [],
   "source": []
  },
  {
   "cell_type": "code",
   "execution_count": null,
   "metadata": {},
   "outputs": [],
   "source": []
  },
  {
   "cell_type": "code",
   "execution_count": null,
   "metadata": {},
   "outputs": [],
   "source": [
    "for alias, query in sub_query.items():\n",
    "\n",
    "    formatter = column_parser.Parser(query)\n",
    "    formatted_query = formatter.format_query(query)\n",
    "    query_list = formatted_query.split('\\n')\n",
    "\n",
    "    if self.has_child(formatted_query) and alias != 'main':\n",
    "        sub_query_dict = self.delevel(query_list)\n",
    "        query_dict[alias] = sub_query_dict\n",
    "        query_dict = clean_dict(query_dict)\n",
    "\n",
    "    else:\n",
    "        pass"
   ]
  }
 ],
 "metadata": {
  "kernelspec": {
   "display_name": "Python 3",
   "language": "python",
   "name": "python3"
  },
  "language_info": {
   "codemirror_mode": {
    "name": "ipython",
    "version": 3
   },
   "file_extension": ".py",
   "mimetype": "text/x-python",
   "name": "python",
   "nbconvert_exporter": "python",
   "pygments_lexer": "ipython3",
   "version": "3.7.4"
  }
 },
 "nbformat": 4,
 "nbformat_minor": 2
}
