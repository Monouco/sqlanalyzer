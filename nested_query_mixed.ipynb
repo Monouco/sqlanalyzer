{
 "cells": [
  {
   "cell_type": "code",
   "execution_count": 3,
   "metadata": {},
   "outputs": [],
   "source": [
    "from sqlanalyzer import column_parser\n",
    "import pandas as pd\n",
    "import sqlparse\n",
    "import re\n"
   ]
  },
  {
   "cell_type": "code",
   "execution_count": 74,
   "metadata": {},
   "outputs": [],
   "source": [
    "def get_joins_pos(query_list):\n",
    "\n",
    "    pos_delete, pos_where = [len(query_list)-1], len(query_list)\n",
    "    pos_join = []\n",
    "    for i, line in enumerate(query_list):\n",
    "        if line.startswith('ORDER') or line.startswith('GROUP'):\n",
    "            pos_delete.append(i)\n",
    "        if line.startswith('FROM') and len(line.split(' ')) > 1:\n",
    "            pos_join.append(i)\n",
    "        elif line.startswith('FROM') and len(line.split(' ')) == 1:\n",
    "            pos_join.append(i+1)\n",
    "        if line.startswith('WHERE'):\n",
    "            pos_where = i\n",
    "        if line.startswith('LEFT JOIN') or line.startswith('INNER JOIN') or line.startswith('FULL OUTER JOIN'):\n",
    "            pos_join.append(i+1)\n",
    "\n",
    "    pos_join.append(min(pos_delete))\n",
    "    return pos_join, pos_where\n",
    "\n",
    "\n",
    "def get_alias_pos(query_list, pos_join, pos_where):\n",
    "    pos_join_list = iter(pos_join)\n",
    "    next(pos_join_list)\n",
    "    alias_pos = []\n",
    "\n",
    "    if query_list[pos_join[0]].startswith('FROM'):\n",
    "        alias_pos.append(pos_join[0])\n",
    "\n",
    "    for i in range(len(pos_join)-1):\n",
    "        if i < len(pos_join)-2 and pos_join[i] < pos_where:\n",
    "            end_pos = next(pos_join_list)-1\n",
    "            alias_pos.append(end_pos-1)\n",
    "\n",
    "        elif pos_join[-1] >= pos_where:\n",
    "            end_pos = next(pos_join_list)-1\n",
    "            alias_pos.append(pos_where - 1)\n",
    "        \n",
    "        elif pos_where == len(query_list):\n",
    "            end_pos = pos_join[-1]\n",
    "            alias_pos.append(pos_where-1)\n",
    "        else:\n",
    "            end_pos = pos_join[-1]\n",
    "            alias_pos.append(end_pos)\n",
    "\n",
    "    alias_pos = sorted(list(set(alias_pos)))\n",
    "    return alias_pos\n",
    "\n",
    "\n",
    "def parse_sub_query(query_list, sub_query_pos):\n",
    "    sub_query = {}\n",
    "    for _, sub_pos in enumerate(sub_query_pos):\n",
    "        alias = query_list[sub_pos[1]]\n",
    "        query = query_list[sub_pos[0]: sub_pos[1]]\n",
    "\n",
    "        try:\n",
    "            alias_list_rev = alias.split(' ')[::-1]\n",
    "            if alias_list_rev[0][-1] != ')':\n",
    "                alias_index = alias_list_rev.index('ON')\n",
    "                alias = alias_list_rev[alias_index+1]\n",
    "\n",
    "                if alias_list_rev[alias_index+2] == 'AS':\n",
    "                    del alias_list_rev[:alias_index+3]\n",
    "\n",
    "                else:\n",
    "                    del alias_list_rev[:alias_index+2]\n",
    "\n",
    "                query.append(' '.join(alias_list_rev[::-1]).rstrip(r'\\)').lstrip(' '))\n",
    "\n",
    "            else:\n",
    "                alias_list_rev[0] = alias_list_rev[0].rstrip('\\)')\n",
    "                alias = 'no alias'\n",
    "                query.append(' '.join(alias_list_rev[::-1]))\n",
    "\n",
    "        except:\n",
    "            query.append(' '.join(alias.split(' ')[:-1]).rstrip(r'\\)').lstrip(' '))\n",
    "            alias = alias.split(' ')[-1]\n",
    "\n",
    "        trans_query = ' '.join(query).lstrip(' \\(').lstrip(' FROM')\n",
    "    \n",
    "        if trans_query == '':\n",
    "            sub_query = {}\n",
    "        else:\n",
    "            sub_query[alias] = trans_query\n",
    "        \n",
    "    return sub_query\n",
    "\n",
    "\n",
    "def delevel(query_list):\n",
    "\n",
    "    sub_query = {}\n",
    "    pos_join, pos_where = get_joins_pos(query_list)\n",
    "    alias_pos = get_alias_pos(query_list, pos_join, pos_where)\n",
    "    sub_query_pos = list(zip(pos_join[:-1], alias_pos))\n",
    "    sub_query = parse_sub_query(query_list, sub_query_pos)\n",
    "\n",
    "    return sub_query\n",
    "\n",
    "\n",
    "def has_child(formatted_query):\n",
    "    \n",
    "    count = 0\n",
    "    for k,v in delevel(formatted_query.split('\\n')).items():\n",
    "        if v != {}: count += 1\n",
    "            \n",
    "    return count != 0\n"
   ]
  },
  {
   "cell_type": "code",
   "execution_count": 87,
   "metadata": {},
   "outputs": [],
   "source": [
    "query = \"\"\"WITH reg_users AS\n",
    "  (SELECT *\n",
    "   FROM\n",
    "     (SELECT a.*,\n",
    "             b.*,\n",
    "             c.*,\n",
    "             d.*\n",
    "      FROM\n",
    "        (SELECT DISTINCT anonymous_id,\n",
    "                         user_id\n",
    "         FROM mapbox_customer_data.segment_identifies\n",
    "         WHERE dt >= '2018-07-01'\n",
    "           AND anonymous_id IS NOT NULL\n",
    "           AND user_id IS NOT NULL ) a\n",
    "      LEFT JOIN\n",
    "        (SELECT id,\n",
    "                email,\n",
    "                created\n",
    "         FROM mapbox_customer_data.accounts\n",
    "         WHERE cast(dt AS DATE) = CURRENT_DATE - INTERVAL '1' DAY ) b ON a.user_id = b.id\n",
    "      LEFT JOIN\n",
    "        (SELECT anonymous_id AS anon_id_ad,\n",
    "                context_campaign_name,\n",
    "                min(TIMESTAMP) AS min_exposure\n",
    "         FROM mapbox_customer_data.segment_pages\n",
    "         WHERE dt >= '2018-07-01'\n",
    "           AND context_campaign_name IS NOT NULL\n",
    "         GROUP BY 1,\n",
    "                  2) c ON a.anonymous_id = c.anon_id_ad\n",
    "      LEFT JOIN\n",
    "        (SELECT DISTINCT anonymous_id AS anon_id_event,\n",
    "                         original_timestamp,\n",
    "                         event,\n",
    "                         context_traits_email\n",
    "         FROM mapbox_customer_data.segment_tracks\n",
    "         WHERE dt >= '2018-07-01'\n",
    "           AND event LIKE 'submitted_%form'\n",
    "           AND context_traits_email IS NOT NULL ) d ON a.anonymous_id = d.anon_id_event)\n",
    "   WHERE context_campaign_name IS NOT NULL ),\n",
    "\n",
    "     non_reg_users AS\n",
    "  (SELECT context_campaign_name,\n",
    "          min_exposure,\n",
    "          event,\n",
    "          original_timestamp AS event_timestamp,\n",
    "          context_traits_email AS event_email\n",
    "   FROM\n",
    "     (SELECT a.*,\n",
    "             b.*\n",
    "      FROM\n",
    "        (SELECT anonymous_id AS anon_id_ad,\n",
    "                context_campaign_name,\n",
    "                min(original_timestamp) AS min_exposure\n",
    "         FROM\n",
    "           (SELECT context_campaign_name,\n",
    "                   anonymous_id,\n",
    "                   original_timestamp\n",
    "            FROM mapbox_customer_data.segment_pages\n",
    "            WHERE dt >= '2018-07-01'\n",
    "              AND context_campaign_name IS NOT NULL )\n",
    "         GROUP BY 1,\n",
    "                  2) a\n",
    "      LEFT JOIN\n",
    "        (SELECT DISTINCT anonymous_id AS anon_id_event,\n",
    "                         original_timestamp,\n",
    "                         event,\n",
    "                         context_traits_email\n",
    "         FROM mapbox_customer_data.segment_tracks\n",
    "         WHERE dt >= '2018-07-01'\n",
    "           AND event LIKE 'submitted_%form'\n",
    "           AND context_traits_email IS NOT NULL ) b ON a.anon_id_ad = b.anon_id_event)\n",
    "   WHERE anon_id_event IS NOT NULL\n",
    "     AND to_unixtime(min_exposure) <= to_unixtime(original_timestamp)\n",
    "     AND cast(min_exposure AS DATE) >= cast(original_timestamp AS DATE) - INTERVAL '28' DAY ),\n",
    "\n",
    "     mql_flag AS\n",
    "  (SELECT email,\n",
    "          created_date,\n",
    "          last_mql_date_c,\n",
    "          mql_flag\n",
    "   FROM\n",
    "     (SELECT email,\n",
    "             min(created_date) created_date,\n",
    "             max(last_mql_date_c) last_mql_date_c,\n",
    "             CASE\n",
    "                 WHEN max(last_mql_date_c) IS NOT NULL THEN 1\n",
    "                 ELSE 0\n",
    "             END AS mql_flag,\n",
    "             sum(CASE\n",
    "                     WHEN is_deleted = TRUE THEN 1\n",
    "                     ELSE 0\n",
    "                 END) AS is_deleted\n",
    "      FROM sales.salesforce_leads\n",
    "      WHERE cast(dt AS DATE) = CURRENT_DATE - INTERVAL '1' DAY\n",
    "      GROUP BY 1)\n",
    "   WHERE mql_flag = 1\n",
    "     AND is_deleted = 0 ),\n",
    "\n",
    "     cleaned_list AS\n",
    "  (SELECT DISTINCT *\n",
    "   FROM\n",
    "     (SELECT context_campaign_name,\n",
    "             min_exposure,\n",
    "             'created_an_account' AS event,\n",
    "             created AS event_timestamp,\n",
    "             email AS event_email\n",
    "      FROM reg_users\n",
    "      WHERE to_unixtime(min_exposure) <= to_unixtime(created)\n",
    "        AND cast(min_exposure AS DATE) >= cast(created AS DATE) - INTERVAL '28' DAY\n",
    "      UNION ALL SELECT context_campaign_name,\n",
    "                       min_exposure,\n",
    "                       event,\n",
    "                       original_timestamp AS event_timestamp,\n",
    "                       context_traits_email AS event_email\n",
    "      FROM reg_users\n",
    "      WHERE to_unixtime(min_exposure) <= to_unixtime(original_timestamp)\n",
    "        AND cast(min_exposure AS DATE) >= cast(original_timestamp AS DATE) - INTERVAL '28' DAY\n",
    "      UNION ALL SELECT *\n",
    "      FROM non_reg_users))\n",
    "\n",
    "SELECT a.*,\n",
    "       b.*\n",
    "FROM cleaned_list a\n",
    "LEFT JOIN mql_flag b ON a.event_email = b.email\n",
    "\"\"\""
   ]
  },
  {
   "cell_type": "code",
   "execution_count": 88,
   "metadata": {},
   "outputs": [],
   "source": [
    "formatter = column_parser.Parser(query)\n",
    "formatted_query = formatter.format_query(query)\n",
    "query_list = formatted_query.split('\\n')"
   ]
  },
  {
   "cell_type": "code",
   "execution_count": 89,
   "metadata": {
    "scrolled": false
   },
   "outputs": [
    {
     "name": "stdout",
     "output_type": "stream",
     "text": [
      "WITH reg_users AS\n",
      "  (SELECT *\n",
      "   FROM\n",
      "     (SELECT a.*,\n",
      "             b.*,\n",
      "             c.*,\n",
      "             d.*\n",
      "      FROM\n",
      "        (SELECT DISTINCT anonymous_id,\n",
      "                         user_id\n",
      "         FROM mapbox_customer_data.segment_identifies\n",
      "         WHERE dt >= '2018-07-01'\n",
      "           AND anonymous_id IS NOT NULL\n",
      "           AND user_id IS NOT NULL ) a\n",
      "      LEFT JOIN\n",
      "        (SELECT id,\n",
      "                email,\n",
      "                created\n",
      "         FROM mapbox_customer_data.accounts\n",
      "         WHERE cast(dt AS DATE) = CURRENT_DATE - INTERVAL '1' DAY ) b ON a.user_id = b.id\n",
      "      LEFT JOIN\n",
      "        (SELECT anonymous_id AS anon_id_ad,\n",
      "                context_campaign_name,\n",
      "                min(TIMESTAMP) AS min_exposure\n",
      "         FROM mapbox_customer_data.segment_pages\n",
      "         WHERE dt >= '2018-07-01'\n",
      "           AND context_campaign_name IS NOT NULL\n",
      "         GROUP BY 1,\n",
      "                  2) c ON a.anonymous_id = c.anon_id_ad\n",
      "      LEFT JOIN\n",
      "        (SELECT DISTINCT anonymous_id AS anon_id_event,\n",
      "                         original_timestamp,\n",
      "                         event,\n",
      "                         context_traits_email\n",
      "         FROM mapbox_customer_data.segment_tracks\n",
      "         WHERE dt >= '2018-07-01'\n",
      "           AND event LIKE 'submitted_%form'\n",
      "           AND context_traits_email IS NOT NULL ) d ON a.anonymous_id = d.anon_id_event)\n",
      "   WHERE context_campaign_name IS NOT NULL ),\n",
      "     non_reg_users AS\n",
      "  (SELECT context_campaign_name,\n",
      "          min_exposure,\n",
      "          event,\n",
      "          original_timestamp AS event_timestamp,\n",
      "          context_traits_email AS event_email\n",
      "   FROM\n",
      "     (SELECT a.*,\n",
      "             b.*\n",
      "      FROM\n",
      "        (SELECT anonymous_id AS anon_id_ad,\n",
      "                context_campaign_name,\n",
      "                min(original_timestamp) AS min_exposure\n",
      "         FROM\n",
      "           (SELECT context_campaign_name,\n",
      "                   anonymous_id,\n",
      "                   original_timestamp\n",
      "            FROM mapbox_customer_data.segment_pages\n",
      "            WHERE dt >= '2018-07-01'\n",
      "              AND context_campaign_name IS NOT NULL )\n",
      "         GROUP BY 1,\n",
      "                  2) a\n",
      "      LEFT JOIN\n",
      "        (SELECT DISTINCT anonymous_id AS anon_id_event,\n",
      "                         original_timestamp,\n",
      "                         event,\n",
      "                         context_traits_email\n",
      "         FROM mapbox_customer_data.segment_tracks\n",
      "         WHERE dt >= '2018-07-01'\n",
      "           AND event LIKE 'submitted_%form'\n",
      "           AND context_traits_email IS NOT NULL ) b ON a.anon_id_ad = b.anon_id_event)\n",
      "   WHERE anon_id_event IS NOT NULL\n",
      "     AND to_unixtime(min_exposure) <= to_unixtime(original_timestamp)\n",
      "     AND cast(min_exposure AS DATE) >= cast(original_timestamp AS DATE) - INTERVAL '28' DAY ),\n",
      "     mql_flag AS\n",
      "  (SELECT email,\n",
      "          created_date,\n",
      "          last_mql_date_c,\n",
      "          mql_flag\n",
      "   FROM\n",
      "     (SELECT email,\n",
      "             min(created_date) created_date,\n",
      "             max(last_mql_date_c) last_mql_date_c,\n",
      "             CASE\n",
      "                 WHEN max(last_mql_date_c) IS NOT NULL THEN 1\n",
      "                 ELSE 0\n",
      "             END AS mql_flag,\n",
      "             sum(CASE\n",
      "                     WHEN is_deleted = TRUE THEN 1\n",
      "                     ELSE 0\n",
      "                 END) AS is_deleted\n",
      "      FROM sales.salesforce_leads\n",
      "      WHERE cast(dt AS DATE) = CURRENT_DATE - INTERVAL '1' DAY\n",
      "      GROUP BY 1)\n",
      "   WHERE mql_flag = 1\n",
      "     AND is_deleted = 0 ),\n",
      "     cleaned_list AS\n",
      "  (SELECT DISTINCT *\n",
      "   FROM\n",
      "     (SELECT context_campaign_name,\n",
      "             min_exposure,\n",
      "             'created_an_account' AS event,\n",
      "             created AS event_timestamp,\n",
      "             email AS event_email\n",
      "      FROM reg_users\n",
      "      WHERE to_unixtime(min_exposure) <= to_unixtime(created)\n",
      "        AND cast(min_exposure AS DATE) >= cast(created AS DATE) - INTERVAL '28' DAY\n",
      "      UNION ALL SELECT context_campaign_name,\n",
      "                       min_exposure,\n",
      "                       event,\n",
      "                       original_timestamp AS event_timestamp,\n",
      "                       context_traits_email AS event_email\n",
      "      FROM reg_users\n",
      "      WHERE to_unixtime(min_exposure) <= to_unixtime(original_timestamp)\n",
      "        AND cast(min_exposure AS DATE) >= cast(original_timestamp AS DATE) - INTERVAL '28' DAY\n",
      "      UNION ALL SELECT *\n",
      "      FROM non_reg_users))\n",
      "SELECT a.*,\n",
      "       b.*\n",
      "FROM cleaned_list a\n",
      "LEFT JOIN mql_flag b ON a.event_email = b.email\n"
     ]
    }
   ],
   "source": [
    "print(formatted_query)"
   ]
  },
  {
   "cell_type": "code",
   "execution_count": 78,
   "metadata": {},
   "outputs": [],
   "source": [
    "def is_cte(query):\n",
    "    return query.startswith('WITH')"
   ]
  },
  {
   "cell_type": "code",
   "execution_count": 79,
   "metadata": {},
   "outputs": [
    {
     "data": {
      "text/plain": [
       "True"
      ]
     },
     "execution_count": 79,
     "metadata": {},
     "output_type": "execute_result"
    }
   ],
   "source": [
    "is_cte(formatted_query)"
   ]
  },
  {
   "cell_type": "code",
   "execution_count": 80,
   "metadata": {},
   "outputs": [],
   "source": [
    "if is_cte(formatted_query):\n",
    "    cte_dict = formatter.parse_cte(formatted_query)"
   ]
  },
  {
   "cell_type": "code",
   "execution_count": 81,
   "metadata": {},
   "outputs": [
    {
     "data": {
      "text/plain": [
       "dict_keys(['reg_users', 'non_reg_users', 'mql_flag', 'cleaned_list', 'main'])"
      ]
     },
     "execution_count": 81,
     "metadata": {},
     "output_type": "execute_result"
    }
   ],
   "source": [
    "cte_dict.keys()"
   ]
  },
  {
   "cell_type": "code",
   "execution_count": 84,
   "metadata": {},
   "outputs": [],
   "source": [
    "def main(query):\n",
    "    formatter = column_parser.Parser(query)\n",
    "    formatted_query = formatter.format_query(query)\n",
    "    query_list_0 = formatted_query.split('\\n')\n",
    "    query_dict = {}\n",
    "    sub_query = delevel(query_list_0)\n",
    "#     query_dict['derived_query'] = sub_query\n",
    "    query_dict = sub_query\n",
    "\n",
    "    for alias, query in sub_query.items():\n",
    "        formatter = column_parser.Parser(query)\n",
    "        formatted_query = formatter.format_query(query)\n",
    "        query_list = formatted_query.split('\\n')\n",
    "        if has_child(formatted_query):\n",
    "            sub_query_dict = delevel(query_list)\n",
    "            query_dict[alias] = sub_query_dict\n",
    "            \n",
    "            for alias2, query2 in sub_query_dict.items():\n",
    "                formatter2 = column_parser.Parser(query2)\n",
    "                formatted_query2 = formatter2.format_query(query2)\n",
    "                query_list2 = formatted_query2.split('\\n')\n",
    "                \n",
    "                if has_child(formatted_query2):\n",
    "                    sub_query_dict2 = delevel(query_list2)\n",
    "                    sub_query_dict[alias2] = sub_query_dict2\n",
    "                    \n",
    "                    for alias3, query3 in sub_query_dict2.items():\n",
    "                        formatter3 = column_parser.Parser(query3)\n",
    "                        formatted_query3 = formatter3.format_query(query3)\n",
    "                        query_list3 = formatted_query3.split('\\n')\n",
    "                        if has_child(formatted_query3):\n",
    "                            sub_query_dict3 = delevel(query_list3)\n",
    "                            sub_query_dict2[alias3] = sub_query_dict3\n",
    "                            \n",
    "                            for alias4, query4 in sub_query_dict3.items():\n",
    "                                formatter4 = column_parser.Parser(query4)\n",
    "                                formatted_query4 = formatter4.format_query(query4)\n",
    "                                query_list4 = formatted_query4.split('\\n')\n",
    "                                if has_child(formatted_query4):\n",
    "                                    sub_query_dict4 = delevel(query_list4)\n",
    "                                    sub_query_dict3[alias4] = sub_query_dict4\n",
    "                                else:\n",
    "                                    pass\n",
    "                        else:\n",
    "                            pass\n",
    "                else:\n",
    "                    pass\n",
    "        else:\n",
    "            pass\n",
    "\n",
    "    return query_dict"
   ]
  },
  {
   "cell_type": "code",
   "execution_count": 85,
   "metadata": {
    "scrolled": false
   },
   "outputs": [
    {
     "name": "stdout",
     "output_type": "stream",
     "text": [
      "reg_users \n",
      " {'no alias': {'a': \"SELECT DISTINCT anonymous_id,                    user_id    FROM mapbox_customer_data.segment_identifies    WHERE dt >= '2018-07-01'      AND anonymous_id IS NOT NULL AND user_id IS NOT NULL \", 'b': \"SELECT id,           email,           created    FROM mapbox_customer_data.accounts WHERE cast(dt AS DATE) = CURRENT_DATE - INTERVAL '1' DAY \", 'c': \"SELECT anonymous_id AS anon_id_ad,           context_campaign_name,           min(TIMESTAMP) AS min_exposure    FROM mapbox_customer_data.segment_pages    WHERE dt >= '2018-07-01'      AND context_campaign_name IS NOT NULL    GROUP BY 1, 2\", 'd': \"SELECT DISTINCT anonymous_id AS anon_id_event,                    original_timestamp,                    event,                    context_traits_email    FROM mapbox_customer_data.segment_tracks    WHERE dt >= '2018-07-01'      AND event LIKE 'submitted_%form' AND context_traits_email IS NOT NULL \"}} \n",
      "\n",
      "\n",
      "\n",
      "non_reg_users \n",
      " {'no alias': {'a': {'2': \"SELECT context_campaign_name,           anonymous_id,           original_timestamp    FROM mapbox_customer_data.segment_pages    WHERE dt >= '2018-07-01'      AND context_campaign_name IS NOT NULL ) GROUP BY 1, \"}, 'b': \"SELECT DISTINCT anonymous_id AS anon_id_event,                    original_timestamp,                    event,                    context_traits_email    FROM mapbox_customer_data.segment_tracks    WHERE dt >= '2018-07-01'      AND event LIKE 'submitted_%form' AND context_traits_email IS NOT NULL \"}} \n",
      "\n",
      "\n",
      "\n",
      "mql_flag \n",
      " {'no alias': \"SELECT email,           min(created_date) created_date,           max(last_mql_date_c) last_mql_date_c,           CASE               WHEN max(last_mql_date_c) IS NOT NULL THEN 1               ELSE 0           END AS mql_flag,           sum(CASE                   WHEN is_deleted = TRUE THEN 1                   ELSE 0               END) AS is_deleted    FROM sales.salesforce_leads    WHERE cast(dt AS DATE) = CURRENT_DATE - INTERVAL '1' DAY    GROUP BY 1\"} \n",
      "\n",
      "\n",
      "\n",
      "cleaned_list \n",
      " {'no alias': \"SELECT context_campaign_name,           min_exposure,           'created_an_account' AS event,           created AS event_timestamp,           email AS event_email    FROM reg_users    WHERE to_unixtime(min_exposure) <= to_unixtime(created)      AND cast(min_exposure AS DATE) >= cast(created AS DATE) - INTERVAL '28' DAY    UNION ALL SELECT context_campaign_name,                     min_exposure,                     event,                     original_timestamp AS event_timestamp,                     context_traits_email AS event_email    FROM reg_users    WHERE to_unixtime(min_exposure) <= to_unixtime(original_timestamp)      AND cast(min_exposure AS DATE) >= cast(original_timestamp AS DATE) - INTERVAL '28' DAY    UNION ALL SELECT *    FROM non_reg_users\"} \n",
      "\n",
      "\n",
      "\n"
     ]
    }
   ],
   "source": [
    "for alias, query in cte_dict.items():\n",
    "    formatter = column_parser.Parser(query)\n",
    "    formatted_query = formatter.format_query(query)\n",
    "    try:\n",
    "        print(alias, '\\n', main(query), '\\n\\n\\n')\n",
    "    except:\n",
    "        pass"
   ]
  },
  {
   "cell_type": "code",
   "execution_count": 33,
   "metadata": {},
   "outputs": [
    {
     "data": {
      "text/plain": [
       "True"
      ]
     },
     "execution_count": 33,
     "metadata": {},
     "output_type": "execute_result"
    }
   ],
   "source": [
    "formatter = column_parser.Parser(cte_dict['main'])\n",
    "formatted_query = formatter.format_query(cte_dict['main'])\n",
    "has_child(formatted_query)\n"
   ]
  },
  {
   "cell_type": "code",
   "execution_count": 38,
   "metadata": {},
   "outputs": [
    {
     "data": {
      "text/plain": [
       "'SELECT a.*,\\n       b.*\\nFROM cleaned_list a\\nLEFT JOIN mql_flag b ON a.event_email = b.email'"
      ]
     },
     "execution_count": 38,
     "metadata": {},
     "output_type": "execute_result"
    }
   ],
   "source": [
    "formatted_query"
   ]
  },
  {
   "cell_type": "code",
   "execution_count": 35,
   "metadata": {},
   "outputs": [],
   "source": [
    "query_dict = {}\n",
    "query_list = formatted_query.split('\\n')\n",
    "sub_query_dict = delevel(query_list)\n",
    "query_dict = sub_query_dict\n"
   ]
  },
  {
   "cell_type": "code",
   "execution_count": 36,
   "metadata": {},
   "outputs": [
    {
     "data": {
      "text/plain": [
       "{'a': 'cleaned_list', 'b': 'LEFT JOIN mql_flag'}"
      ]
     },
     "execution_count": 36,
     "metadata": {},
     "output_type": "execute_result"
    }
   ],
   "source": [
    "query_dict"
   ]
  },
  {
   "cell_type": "code",
   "execution_count": 44,
   "metadata": {},
   "outputs": [
    {
     "name": "stdout",
     "output_type": "stream",
     "text": [
      "cleaned_list\n",
      "LEFT JOIN mql_flag\n"
     ]
    }
   ],
   "source": [
    "for _,v in delevel(formatted_query.split('\\n')).items():\n",
    "    print(v)"
   ]
  },
  {
   "cell_type": "code",
   "execution_count": 45,
   "metadata": {},
   "outputs": [
    {
     "ename": "IndexError",
     "evalue": "list index out of range",
     "output_type": "error",
     "traceback": [
      "\u001b[0;31m---------------------------------------------------------------------------\u001b[0m",
      "\u001b[0;31mIndexError\u001b[0m                                Traceback (most recent call last)",
      "\u001b[0;32m<ipython-input-45-add70760f08f>\u001b[0m in \u001b[0;36m<module>\u001b[0;34m\u001b[0m\n\u001b[0;32m----> 1\u001b[0;31m \u001b[0mhas_child\u001b[0m\u001b[0;34m(\u001b[0m\u001b[0;34m'LEFT JOIN mql_flag'\u001b[0m\u001b[0;34m)\u001b[0m\u001b[0;34m\u001b[0m\u001b[0;34m\u001b[0m\u001b[0m\n\u001b[0m",
      "\u001b[0;32m<ipython-input-37-c440f211511c>\u001b[0m in \u001b[0;36mhas_child\u001b[0;34m(formatted_query)\u001b[0m\n\u001b[1;32m      2\u001b[0m \u001b[0;34m\u001b[0m\u001b[0m\n\u001b[1;32m      3\u001b[0m     \u001b[0mcount\u001b[0m \u001b[0;34m=\u001b[0m \u001b[0;36m0\u001b[0m\u001b[0;34m\u001b[0m\u001b[0;34m\u001b[0m\u001b[0m\n\u001b[0;32m----> 4\u001b[0;31m     \u001b[0;32mfor\u001b[0m \u001b[0m_\u001b[0m\u001b[0;34m,\u001b[0m\u001b[0mv\u001b[0m \u001b[0;32min\u001b[0m \u001b[0mdelevel\u001b[0m\u001b[0;34m(\u001b[0m\u001b[0mformatted_query\u001b[0m\u001b[0;34m.\u001b[0m\u001b[0msplit\u001b[0m\u001b[0;34m(\u001b[0m\u001b[0;34m'\\n'\u001b[0m\u001b[0;34m)\u001b[0m\u001b[0;34m)\u001b[0m\u001b[0;34m.\u001b[0m\u001b[0mitems\u001b[0m\u001b[0;34m(\u001b[0m\u001b[0;34m)\u001b[0m\u001b[0;34m:\u001b[0m\u001b[0;34m\u001b[0m\u001b[0;34m\u001b[0m\u001b[0m\n\u001b[0m\u001b[1;32m      5\u001b[0m         \u001b[0;32mif\u001b[0m \u001b[0mv\u001b[0m \u001b[0;34m!=\u001b[0m \u001b[0;34m{\u001b[0m\u001b[0;34m}\u001b[0m\u001b[0;34m:\u001b[0m \u001b[0mcount\u001b[0m \u001b[0;34m+=\u001b[0m \u001b[0;36m1\u001b[0m\u001b[0;34m\u001b[0m\u001b[0;34m\u001b[0m\u001b[0m\n\u001b[1;32m      6\u001b[0m \u001b[0;34m\u001b[0m\u001b[0m\n",
      "\u001b[0;32m<ipython-input-14-f7c3781bb959>\u001b[0m in \u001b[0;36mdelevel\u001b[0;34m(query_list)\u001b[0m\n\u001b[1;32m     90\u001b[0m     \u001b[0msub_query\u001b[0m \u001b[0;34m=\u001b[0m \u001b[0;34m{\u001b[0m\u001b[0;34m}\u001b[0m\u001b[0;34m\u001b[0m\u001b[0;34m\u001b[0m\u001b[0m\n\u001b[1;32m     91\u001b[0m     \u001b[0mpos_join\u001b[0m\u001b[0;34m,\u001b[0m \u001b[0mpos_where\u001b[0m \u001b[0;34m=\u001b[0m \u001b[0mget_joins_pos\u001b[0m\u001b[0;34m(\u001b[0m\u001b[0mquery_list\u001b[0m\u001b[0;34m)\u001b[0m\u001b[0;34m\u001b[0m\u001b[0;34m\u001b[0m\u001b[0m\n\u001b[0;32m---> 92\u001b[0;31m     \u001b[0malias_pos\u001b[0m \u001b[0;34m=\u001b[0m \u001b[0mget_alias_pos\u001b[0m\u001b[0;34m(\u001b[0m\u001b[0mquery_list\u001b[0m\u001b[0;34m,\u001b[0m \u001b[0mpos_join\u001b[0m\u001b[0;34m,\u001b[0m \u001b[0mpos_where\u001b[0m\u001b[0;34m)\u001b[0m\u001b[0;34m\u001b[0m\u001b[0;34m\u001b[0m\u001b[0m\n\u001b[0m\u001b[1;32m     93\u001b[0m     \u001b[0msub_query_pos\u001b[0m \u001b[0;34m=\u001b[0m \u001b[0mlist\u001b[0m\u001b[0;34m(\u001b[0m\u001b[0mzip\u001b[0m\u001b[0;34m(\u001b[0m\u001b[0mpos_join\u001b[0m\u001b[0;34m[\u001b[0m\u001b[0;34m:\u001b[0m\u001b[0;34m-\u001b[0m\u001b[0;36m1\u001b[0m\u001b[0;34m]\u001b[0m\u001b[0;34m,\u001b[0m \u001b[0malias_pos\u001b[0m\u001b[0;34m)\u001b[0m\u001b[0;34m)\u001b[0m\u001b[0;34m\u001b[0m\u001b[0;34m\u001b[0m\u001b[0m\n\u001b[1;32m     94\u001b[0m     \u001b[0msub_query\u001b[0m \u001b[0;34m=\u001b[0m \u001b[0mparse_sub_query\u001b[0m\u001b[0;34m(\u001b[0m\u001b[0mquery_list\u001b[0m\u001b[0;34m,\u001b[0m \u001b[0msub_query_pos\u001b[0m\u001b[0;34m)\u001b[0m\u001b[0;34m\u001b[0m\u001b[0;34m\u001b[0m\u001b[0m\n",
      "\u001b[0;32m<ipython-input-14-f7c3781bb959>\u001b[0m in \u001b[0;36mget_alias_pos\u001b[0;34m(query_list, pos_join, pos_where)\u001b[0m\n\u001b[1;32m     24\u001b[0m     \u001b[0malias_pos\u001b[0m \u001b[0;34m=\u001b[0m \u001b[0;34m[\u001b[0m\u001b[0;34m]\u001b[0m\u001b[0;34m\u001b[0m\u001b[0;34m\u001b[0m\u001b[0m\n\u001b[1;32m     25\u001b[0m \u001b[0;34m\u001b[0m\u001b[0m\n\u001b[0;32m---> 26\u001b[0;31m     \u001b[0;32mif\u001b[0m \u001b[0mquery_list\u001b[0m\u001b[0;34m[\u001b[0m\u001b[0mpos_join\u001b[0m\u001b[0;34m[\u001b[0m\u001b[0;36m0\u001b[0m\u001b[0;34m]\u001b[0m\u001b[0;34m]\u001b[0m\u001b[0;34m.\u001b[0m\u001b[0mstartswith\u001b[0m\u001b[0;34m(\u001b[0m\u001b[0;34m'FROM'\u001b[0m\u001b[0;34m)\u001b[0m\u001b[0;34m:\u001b[0m\u001b[0;34m\u001b[0m\u001b[0;34m\u001b[0m\u001b[0m\n\u001b[0m\u001b[1;32m     27\u001b[0m         \u001b[0malias_pos\u001b[0m\u001b[0;34m.\u001b[0m\u001b[0mappend\u001b[0m\u001b[0;34m(\u001b[0m\u001b[0mpos_join\u001b[0m\u001b[0;34m[\u001b[0m\u001b[0;36m0\u001b[0m\u001b[0;34m]\u001b[0m\u001b[0;34m)\u001b[0m\u001b[0;34m\u001b[0m\u001b[0;34m\u001b[0m\u001b[0m\n\u001b[1;32m     28\u001b[0m \u001b[0;34m\u001b[0m\u001b[0m\n",
      "\u001b[0;31mIndexError\u001b[0m: list index out of range"
     ]
    }
   ],
   "source": [
    "has_child('LEFT JOIN mql_flag')"
   ]
  },
  {
   "cell_type": "code",
   "execution_count": null,
   "metadata": {},
   "outputs": [],
   "source": []
  }
 ],
 "metadata": {
  "kernelspec": {
   "display_name": "Python 3",
   "language": "python",
   "name": "python3"
  },
  "language_info": {
   "codemirror_mode": {
    "name": "ipython",
    "version": 3
   },
   "file_extension": ".py",
   "mimetype": "text/x-python",
   "name": "python",
   "nbconvert_exporter": "python",
   "pygments_lexer": "ipython3",
   "version": "3.7.4"
  }
 },
 "nbformat": 4,
 "nbformat_minor": 2
}
