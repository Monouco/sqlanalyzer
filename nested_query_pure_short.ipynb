{
 "cells": [
  {
   "cell_type": "code",
   "execution_count": 422,
   "metadata": {},
   "outputs": [],
   "source": [
    "from sqlanalyzer import column_parser\n",
    "import re\n",
    "import json\n",
    "import pandas as pd"
   ]
  },
  {
   "cell_type": "markdown",
   "metadata": {},
   "source": [
    "### debug"
   ]
  },
  {
   "cell_type": "code",
   "execution_count": 433,
   "metadata": {},
   "outputs": [],
   "source": [
    "query = \"\"\"SELECT\n",
    "      b.*\n",
    "      FROM\n",
    "      (\n",
    "        SELECT\n",
    "        MAX(dt) AS dt\n",
    "        FROM\n",
    "        analytics.service_endpoint_mapping\n",
    "      ) a\n",
    "      LEFT JOIN sfdc.accounts sfdc_accounts ON sfdc_accounts.id = b.id\n",
    "      INNER JOIN\n",
    "      analytics.service_endpoint_mapping b\n",
    "      ON\n",
    "      a.dt = b.dt\n",
    "      AND a.id = b.id\n",
    "      LEFT JOIN (\n",
    "        SELECT\n",
    "        account,\n",
    "        CONCAT_WS(',', COLLECT_SET(LOWER(service))) AS service\n",
    "        FROM\n",
    "        web_mobile_studio\n",
    "        GROUP BY\n",
    "        account\n",
    "      ) c\n",
    "      ON\n",
    "      a.account = c.account AND c.service = 'studio'\n",
    "      WHERE a.id = '123'\n",
    "      AND b.id = '234'\n",
    "      GROUP BY 1,2,3\n",
    "      ORDER BY 3,4\n",
    "\"\"\"\n"
   ]
  },
  {
   "cell_type": "code",
   "execution_count": 375,
   "metadata": {},
   "outputs": [],
   "source": [
    "query = \"\"\"SELECT a.*,\n",
    "             b.*,\n",
    "             c.*,\n",
    "             d.*\n",
    "      FROM\n",
    "        (SELECT DISTINCT anonymous_id,\n",
    "                         user_id\n",
    "         FROM mapbox_customer_data.segment_identifies\n",
    "         WHERE dt >= '2018-07-01'\n",
    "           AND anonymous_id IS NOT NULL\n",
    "           AND user_id IS NOT NULL ) a\n",
    "      LEFT JOIN\n",
    "        (SELECT id,\n",
    "                email,\n",
    "                created\n",
    "         FROM mapbox_customer_data.accounts\n",
    "         WHERE cast(dt AS DATE) = CURRENT_DATE - INTERVAL '1' DAY ) b ON a.user_id = b.id\n",
    "      LEFT JOIN\n",
    "        (SELECT anonymous_id AS anon_id_ad,\n",
    "                context_campaign_name,\n",
    "                min(TIMESTAMP) AS min_exposure\n",
    "         FROM mapbox_customer_data.segment_pages\n",
    "         WHERE dt >= '2018-07-01'\n",
    "           AND context_campaign_name IS NOT NULL\n",
    "         GROUP BY 1,\n",
    "                  2) c ON a.anonymous_id = c.anon_id_ad\n",
    "      LEFT JOIN\n",
    "        (SELECT DISTINCT anonymous_id AS anon_id_event,\n",
    "                         original_timestamp,\n",
    "                         event,\n",
    "                         context_traits_email\n",
    "         FROM mapbox_customer_data.segment_tracks\n",
    "         WHERE dt >= '2018-07-01'\n",
    "           AND event LIKE 'submitted_%form'\n",
    "           AND context_traits_email IS NOT NULL ) d ON a.anonymous_id = d.anon_id_event\n",
    "\"\"\""
   ]
  },
  {
   "cell_type": "code",
   "execution_count": 376,
   "metadata": {},
   "outputs": [
    {
     "name": "stdout",
     "output_type": "stream",
     "text": [
      "SELECT a.*,\n",
      "             b.*,\n",
      "             c.*,\n",
      "             d.*\n",
      "      FROM\n",
      "        (SELECT DISTINCT anonymous_id,\n",
      "                         user_id\n",
      "         FROM mapbox_customer_data.segment_identifies\n",
      "         WHERE dt >= '2018-07-01'\n",
      "           AND anonymous_id IS NOT NULL\n",
      "           AND user_id IS NOT NULL ) a\n",
      "      LEFT JOIN\n",
      "        (SELECT id,\n",
      "                email,\n",
      "                created\n",
      "         FROM mapbox_customer_data.accounts\n",
      "         WHERE cast(dt AS DATE) = CURRENT_DATE - INTERVAL '1' DAY ) b ON a.user_id = b.id\n",
      "      LEFT JOIN\n",
      "        (SELECT anonymous_id AS anon_id_ad,\n",
      "                context_campaign_name,\n",
      "                min(TIMESTAMP) AS min_exposure\n",
      "         FROM mapbox_customer_data.segment_pages\n",
      "         WHERE dt >= '2018-07-01'\n",
      "           AND context_campaign_name IS NOT NULL\n",
      "         GROUP BY 1,\n",
      "                  2) c ON a.anonymous_id = c.anon_id_ad\n",
      "      LEFT JOIN\n",
      "        (SELECT DISTINCT anonymous_id AS anon_id_event,\n",
      "                         original_timestamp,\n",
      "                         event,\n",
      "                         context_traits_email\n",
      "         FROM mapbox_customer_data.segment_tracks\n",
      "         WHERE dt >= '2018-07-01'\n",
      "           AND event LIKE 'submitted_%form'\n",
      "           AND context_traits_email IS NOT NULL ) d ON a.anonymous_id = d.anon_id_event\n",
      "\n"
     ]
    }
   ],
   "source": [
    "print(query)"
   ]
  },
  {
   "cell_type": "code",
   "execution_count": 423,
   "metadata": {},
   "outputs": [],
   "source": [
    "def within(num, rng):\n",
    "    if num >= min(rng) and num <= max(rng) and min(rng) < max(rng): return 1\n",
    "    else: return 0\n",
    "\n",
    "\n",
    "def is_cte(query):\n",
    "    return query.startswith('WITH')\n",
    "\n",
    "\n",
    "def clean_dict(query_dict):\n",
    "\n",
    "    for k,v in query_dict.items(): \n",
    "        if isinstance(v, dict) and len(v.keys()) == 1 and 'main' in v.keys():\n",
    "            query_dict[k] = v['main']\n",
    "            \n",
    "    return query_dict\n"
   ]
  },
  {
   "cell_type": "code",
   "execution_count": 424,
   "metadata": {},
   "outputs": [],
   "source": [
    "def main_query(query_list, sub_query_pos):\n",
    "\n",
    "    l = []\n",
    "    for i in range(len(query_list)): \n",
    "        count = 0\n",
    "        for pair in sorted(sub_query_pos):\n",
    "            count += within(i, pair)\n",
    "        if count == 0:\n",
    "            l.append(i)\n",
    "\n",
    "    return l\n",
    "\n",
    "\n",
    "def has_child(formatted_query):\n",
    "\n",
    "    count = 0\n",
    "    deleveled_list = delevel(formatted_query.split('\\n'))\n",
    "    if len(deleveled_list.keys()) > 1:\n",
    "        for _,v in deleveled_list.items():\n",
    "            if v != {}: count += 1\n",
    "\n",
    "    return count != 0\n"
   ]
  },
  {
   "cell_type": "code",
   "execution_count": 425,
   "metadata": {},
   "outputs": [],
   "source": [
    "def delevel(query_list):\n",
    "\n",
    "    sub_query = {}\n",
    "    pos_join, pos_where = _get_joins_pos(query_list)\n",
    "    alias_pos = _get_alias_pos(query_list, pos_join, pos_where)\n",
    "    sub_query_pos = list(zip(pos_join, alias_pos))\n",
    "    sub_query, keep = _parse_sub_query(query_list, sub_query_pos)\n",
    "    main_query_pos = main_query(query_list, sub_query_pos)\n",
    "    if main_query_pos != []:\n",
    "        sub_query['main'] = '\\n'.join([query_list[p] for p in main_query_pos])\n",
    "    sub_query['main'] = sub_query['main'] + ' ' + '\\n'.join(keep)\n",
    "\n",
    "    return sub_query\n"
   ]
  },
  {
   "cell_type": "markdown",
   "metadata": {},
   "source": [
    "## new: start get_sub_queries"
   ]
  },
  {
   "cell_type": "code",
   "execution_count": 426,
   "metadata": {},
   "outputs": [],
   "source": [
    "query = \"\"\"SELECT * \n",
    ", CASE WHEN service = 'directionsmatrix' THEN\n",
    "   CASE WHEN (sources = 'all' or sources is null or trim(sources) = '') AND (destinations = 'all' or destinations is null or trim(destinations) = '') then query_cardin*query_cardin\n",
    "        WHEN (sources = 'all' or sources is null  or trim(sources) = '') and destinations != 'all' and destinations is not null and trim(destinations) != '' then query_cardin*destinations_cardin\n",
    "        WHEN sources != 'all' and sources is not null and trim(sources) != '' and (destinations = 'all' or destinations is null or trim(destinations) = '') then sources_cardin*query_cardin\n",
    "        WHEN sources != 'all' and sources is not null and trim(sources) != '' and destinations != 'all' and destinations is not null and trim(destinations) != '' then sources_cardin*destinations_cardin\n",
    "        ELSE NULL end \n",
    "   WHEN service in ('geocode', 'permanentgeocode') THEN query_cardin\n",
    "        ELSE 1 END as total_subunits\n",
    "FROM (\n",
    "SELECT * \n",
    ", replace(regexp_extract(lower(cs_uri_query), '(sources=)(.+?)((?=&)|$)', 2), '%253b', ';') as sources\n",
    ", cardinality(split(replace(regexp_extract(lower(cs_uri_query), '(sources=)(.+?)((?=&)|$)', 2), '%253b', ';'), ';')) as sources_cardin\n",
    ", CASE WHEN cs_uri_query like '%destinations&%' then '1' ELSE\n",
    "replace(regexp_extract(lower(cs_uri_query), '(destinations=)(.+?)((?=&)|$)', 2), '%253b', ';') end as destinations\n",
    ", CASE WHEN cs_uri_query like '%destinations&%' then 1 ELSE\n",
    "cardinality(split(replace(regexp_extract(lower(cs_uri_query), '(destinations=)(.+?)((?=&)|$)', 2), '%253b', ';'), ';')) end as destinations_cardin\n",
    "--, split(replace(replace(lower(query), '%253b', ';'), '%252c', ','), ';') as query_mod\n",
    ", cardinality(split(replace(replace(lower(query), '%253b', ';'), '%252c', ','), ';')) as query_cardin \n",
    "FROM {cloudfront_logs_china_dataset}\n",
    "WHERE dt = '{run_date}'\n",
    "AND cast(hr as BIGINT) in {hr_block} \n",
    "--AND service in ('geocode', 'directionsmatrix', 'permanentgeocode')\n",
    ")\n",
    "\"\"\""
   ]
  },
  {
   "cell_type": "code",
   "execution_count": 428,
   "metadata": {},
   "outputs": [],
   "source": [
    "def get_sub_query(query_list):\n",
    "    pos_delete, pos_where = [len(query_list)-1], len(query_list)\n",
    "\n",
    "    for i, line in enumerate(query_list):\n",
    "        if line.startswith('ORDER') or line.startswith('GROUP'):\n",
    "            pos_delete.append(i)    \n",
    "        elif line.startswith('WHERE'):\n",
    "            pos_where = i\n",
    "\n",
    "    end_of_query = min(pos_delete) \n",
    "    \n",
    "    copy_query_list = query_list.copy()\n",
    "    main = next((s for s in copy_query_list if s.startswith('FROM')), 'end of query')\n",
    "    main_pos = copy_query_list.index(main)\n",
    "    main_query = copy_query_list[:main_pos+1]\n",
    "    main_query.extend(copy_query_list[pos_where:end_of_query])\n",
    "    del copy_query_list[:main_pos]\n",
    "    del copy_query_list[(pos_where-main_pos):]\n",
    "    \n",
    "    return copy_query_list\n"
   ]
  },
  {
   "cell_type": "code",
   "execution_count": 429,
   "metadata": {},
   "outputs": [],
   "source": [
    "def landmark(line):\n",
    "    for syntax in ['FROM', 'LEFT JOIN', 'INNER JOIN', 'OUTER JOIN', 'RIGHT JOIN', 'CROSS JOIN', 'FULL JOIN', 'FULL OUTER JOIN']:\n",
    "        if line.startswith(syntax):\n",
    "            return True\n",
    "        "
   ]
  },
  {
   "cell_type": "code",
   "execution_count": 430,
   "metadata": {},
   "outputs": [],
   "source": [
    "def divide(copy_query_list):\n",
    "    sub_join = []\n",
    "    for i, line in enumerate(copy_query_list): \n",
    "\n",
    "        if landmark(line):\n",
    "            sub_join.append(line)\n",
    "            del copy_query_list[:i+1]\n",
    "            join_query = next((s for s in copy_query_list if not s.startswith(' ')), 'end of query')\n",
    "            try:\n",
    "                join_pos = copy_query_list.index(join_query)\n",
    "                sub_join.extend(copy_query_list[:join_pos])\n",
    "                del copy_query_list[:join_pos]\n",
    "                break\n",
    "            except: \n",
    "                sub_join.extend(copy_query_list)\n",
    "                del copy_query_list[:]\n",
    "                break\n",
    "\n",
    "            \n",
    "    return sub_join, copy_query_list\n"
   ]
  },
  {
   "cell_type": "code",
   "execution_count": 431,
   "metadata": {},
   "outputs": [],
   "source": [
    "def get_sub_dict(copy_query_list):\n",
    "    i = 0\n",
    "    join_dict = {}\n",
    "    new_copy_query_list = copy_query_list\n",
    "    sub_join = [1]\n",
    "    while sub_join != []:\n",
    "        i += 1\n",
    "        sub_join, new_copy_query_list = divide(new_copy_query_list)\n",
    "        if sub_join != []:\n",
    "            join_dict['join_{}'.format(i)] = '\\n'.join(sub_join)\n",
    "            \n",
    "    return join_dict\n"
   ]
  },
  {
   "cell_type": "code",
   "execution_count": null,
   "metadata": {},
   "outputs": [],
   "source": []
  },
  {
   "cell_type": "code",
   "execution_count": 435,
   "metadata": {},
   "outputs": [
    {
     "data": {
      "text/plain": [
       "{'join_1': 'FROM\\n  (SELECT MAX(dt) AS dt\\n   FROM analytics.service_endpoint_mapping) a',\n",
       " 'join_2': 'LEFT JOIN sfdc.accounts sfdc_accounts ON sfdc_accounts.id = b.id',\n",
       " 'join_3': 'INNER JOIN analytics.service_endpoint_mapping b ON a.dt = b.dt',\n",
       " 'join_4': \"LEFT JOIN\\n  (SELECT account,\\n          CONCAT_WS(',', COLLECT_SET(LOWER(service))) AS service\\n   FROM web_mobile_studio\\n   GROUP BY account) c ON a.account = c.account\"}"
      ]
     },
     "execution_count": 435,
     "metadata": {},
     "output_type": "execute_result"
    }
   ],
   "source": [
    "formatter = column_parser.Parser(query)\n",
    "formatted_query = formatter.format_query(query)\n",
    "query_list_0 = formatted_query.split('\\n')\n",
    "\n",
    "copy_query_list = get_sub_query(query_list_0)\n",
    "join_dict = get_sub_dict(copy_query_list)\n",
    "join_dict"
   ]
  },
  {
   "cell_type": "markdown",
   "metadata": {},
   "source": [
    "## end get_sub_queries"
   ]
  },
  {
   "cell_type": "code",
   "execution_count": null,
   "metadata": {},
   "outputs": [],
   "source": []
  }
 ],
 "metadata": {
  "kernelspec": {
   "display_name": "Python 3",
   "language": "python",
   "name": "python3"
  },
  "language_info": {
   "codemirror_mode": {
    "name": "ipython",
    "version": 3
   },
   "file_extension": ".py",
   "mimetype": "text/x-python",
   "name": "python",
   "nbconvert_exporter": "python",
   "pygments_lexer": "ipython3",
   "version": "3.7.4"
  }
 },
 "nbformat": 4,
 "nbformat_minor": 2
}
