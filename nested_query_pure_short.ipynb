{
 "cells": [
  {
   "cell_type": "code",
   "execution_count": 1,
   "metadata": {},
   "outputs": [],
   "source": [
    "from sqlanalyzer import column_parser\n",
    "import re\n",
    "import json"
   ]
  },
  {
   "cell_type": "markdown",
   "metadata": {},
   "source": [
    "### debug"
   ]
  },
  {
   "cell_type": "code",
   "execution_count": 2,
   "metadata": {},
   "outputs": [],
   "source": [
    "query = \"\"\"SELECT * FROM (SELECT *\\nFROM (\\n  with reg_users as (\\n  \\n  \\tselect * \\n  \\tfrom (\\n  \\tselect \\n  \\t        a.*\\n  \\t        , b.*\\n  \\t        , c.*\\n  \\t        , d.*\\n  \\tfrom \\n  \\t(\\n  \\tselect \\n  \\t        distinct \\n  \\t        anonymous_id\\n  \\t        , user_id\\n  \\tfrom mapbox_customer_data.segment_identifies\\n  \\twhere dt >= \\'2018-07-01\\'\\n  \\tand anonymous_id is not null\\n  \\tand user_id is not null\\n  \\t) a\\n  \\n  \\tleft join \\n  \\n  \\t(\\n  \\tselect \\n  \\t        id \\n  \\t        , email\\n  \\t        , created\\n  \\tfrom mapbox_customer_data.accounts\\n  \\twhere cast(dt as DATE) = CURRENT_DATE - INTERVAL \\'1\\' DAY \\n  \\t) b\\n  \\t        on a.user_id = b.id\\n  \\n  \\tleft join \\n  \\n  \\t(\\n  \\t    \\n  \\t        select        \\n  \\t                anonymous_id as anon_id_ad\\n  \\t                , context_campaign_name\\n  \\t                , min(timestamp) as min_exposure\\n  \\t        from mapbox_customer_data.segment_pages\\n  \\t        where dt >= \\'2018-07-01\\'\\n  \\t        and context_campaign_name is not null\\n  \\t        group by 1,2\\n  \\n  \\t) c \\n  \\t        on a.anonymous_id = c.anon_id_ad\\n  \\t        \\n  \\tleft join \\n  \\n  \\t(\\n  \\t        select \\n  \\t                distinct\\n  \\t                anonymous_id as anon_id_event\\n  \\t                , original_timestamp\\n  \\t                , event\\n  \\t                , context_traits_email\\n  \\t        from mapbox_customer_data.segment_tracks\\n  \\t        where dt >= \\'2018-07-01\\'\\n  \\t        and event like \\'submitted_%form\\'\\n  \\t        and context_traits_email is not null\\n  \\t) d\\n  \\t        on a.anonymous_id = d.anon_id_event\\n  \\n  \\t) \\n  \\twhere context_campaign_name is not null\\n  \\n  ), \\n  \\n  non_reg_users as (\\n  \\n  \\tselect \\n  \\t        context_campaign_name\\n  \\t        , min_exposure\\n  \\t        , event\\n  \\t        , original_timestamp as event_timestamp\\n  \\t        , context_traits_email as event_email\\n  \\tfrom (\\n  \\tselect a.*\\n  \\t        , b.*\\n  \\tfrom \\n  \\t(\\n  \\t        select \\n  \\t                anonymous_id as anon_id_ad\\n  \\t                , context_campaign_name\\n  \\t                , min(original_timestamp) as min_exposure\\n  \\t        from (       \\n  \\t        select        \\n  \\t                context_campaign_name\\n  \\t                , anonymous_id\\n  \\t                , original_timestamp \\n  \\t        from mapbox_customer_data.segment_pages\\n  \\t        where dt >= \\'2018-07-01\\'\\n  \\t        and context_campaign_name is not null\\n  \\t        )\\n  \\t        group by 1,2\\n  \\t) a\\n  \\n  \\tleft join \\n  \\t(\\n  \\t        select \\n  \\t                distinct\\n  \\t                anonymous_id as anon_id_event\\n  \\t                , original_timestamp\\n  \\t                , event\\n  \\t                , context_traits_email\\n  \\t        from mapbox_customer_data.segment_tracks\\n  \\t        where dt >= \\'2018-07-01\\'\\n  \\t        and event like \\'submitted_%form\\'\\n  \\t        and context_traits_email is not null\\n  \\t) b\\n  \\t        on a.anon_id_ad = b.anon_id_event\\n  \\n  \\t)\\n  \\twhere anon_id_event is not null\\n  \\tand to_unixtime(min_exposure) <= to_unixtime(original_timestamp)\\n  \\tand cast(min_exposure as DATE) >= cast(original_timestamp as DATE) - INTERVAL \\'28\\' DAY\\n  \\n  \\n  ), \\n  \\n  mql_flag as (\\n  \\n  \\tselect \\n  \\t        email\\n  \\t        , created_date\\n  \\t        , last_mql_date_c\\n  \\t        , mql_flag\\n  \\tfrom (\\n  \\n  \\tselect \\n  \\t        email\\n  \\t        , min(created_date) created_date\\n  \\t        , max(last_mql_date_c) last_mql_date_c\\n  \\t        , case when max(last_mql_date_c) is not null then 1 else 0 end as mql_flag\\n  \\t        , sum(case when is_deleted = true then 1 else 0 end) as is_deleted\\n  \\tfrom sales.salesforce_leads\\n  \\twhere cast(dt as DATE) = CURRENT_DATE - INTERVAL \\'1\\' DAY \\n  \\tgroup by 1\\n  \\t)\\n  \\twhere mql_flag = 1\\n  \\tand is_deleted = 0\\n  \\n  ),\\n  \\n  cleaned_list as (\\n  \\n  \\n  \\tselect \\n  \\t\\tdistinct \\n  \\t\\t\\t*\\n  \\tfrom (\\n  \\t\\tselect \\n  \\t\\t        context_campaign_name\\n  \\t\\t        , min_exposure\\n  \\t\\t        , \\'created_an_account\\' as event\\n  \\t\\t        , created as event_timestamp\\n  \\t\\t        , email as event_email\\n  \\t\\tfrom reg_users        \\n  \\t\\twhere to_unixtime(min_exposure) <= to_unixtime(created)\\n  \\t\\tand cast(min_exposure as DATE) >= cast(created as DATE) - INTERVAL \\'28\\' DAY\\n  \\n  \\n  \\t\\tunion all\\n  \\n  \\n  \\t\\tselect \\n  \\t\\t        context_campaign_name\\n  \\t\\t        , min_exposure\\n  \\t\\t        , event\\n  \\t\\t        , original_timestamp as event_timestamp\\n  \\t\\t        , context_traits_email as event_email\\n  \\t\\tfrom reg_users      \\n  \\t\\twhere to_unixtime(min_exposure) <= to_unixtime(original_timestamp)\\n  \\t\\tand cast(min_exposure as DATE) >= cast(original_timestamp as DATE) - INTERVAL \\'28\\' DAY\\n  \\n  \\t\\tunion all\\n  \\n  \\t\\tselect * \\n  \\t\\tfrom non_reg_users\\n  \\t)\\n  \\n  )\\n  \\n  \\n  \\n  select \\n  \\ta.*\\n  \\t, b.*\\n  from cleaned_list a\\n  left join mql_flag b \\n  \\ton a.event_email = b.email\\n) \"custom_sql_query\"\\nLIMIT 0) T LIMIT 0\n",
    "\"\"\"\n"
   ]
  },
  {
   "cell_type": "code",
   "execution_count": 3,
   "metadata": {},
   "outputs": [],
   "source": [
    "def within(num, rng):\n",
    "    if num >= min(rng) and num <= max(rng) and min(rng) < max(rng): return 1\n",
    "    else: return 0\n",
    "\n",
    "\n",
    "def is_cte(query):\n",
    "    return query.startswith('WITH')\n",
    "\n",
    "\n",
    "def clean_dict(query_dict):\n",
    "\n",
    "    for k,v in query_dict.items(): \n",
    "        if isinstance(v, dict) and len(v.keys()) == 1 and 'main' in v.keys():\n",
    "            query_dict[k] = v['main']\n",
    "            \n",
    "    return query_dict\n",
    "\n",
    "\n",
    "def get_sub_query(query_list):\n",
    "    pos_delete, pos_where = [len(query_list)-1], len(query_list)\n",
    "\n",
    "    for i, line in enumerate(query_list):\n",
    "        if line.startswith('ORDER') or line.startswith('GROUP'):\n",
    "            pos_delete.append(i)    \n",
    "        elif line.startswith('WHERE'):\n",
    "            pos_where = i\n",
    "\n",
    "    end_of_query = min(pos_delete) \n",
    "    \n",
    "    copy_query_list = query_list.copy()\n",
    "    main = next((s for s in copy_query_list if s.startswith('FROM')), 'end of query')\n",
    "    main_pos = copy_query_list.index(main)\n",
    "    main_query = copy_query_list[:main_pos]\n",
    "    if end_of_query == pos_where:\n",
    "    # when WHERE is the end of query, ie no more GROUP BY or ORDER BY\n",
    "        main_query.extend(copy_query_list[pos_where:end_of_query+1])\n",
    "        del copy_query_list[:main_pos]\n",
    "\n",
    "    elif end_of_query < pos_where:\n",
    "    # when there is no WHERE clause\n",
    "        main_query.extend(copy_query_list[pos_where:end_of_query])\n",
    "        del copy_query_list[:main_pos]\n",
    "        del copy_query_list[(end_of_query - main_pos):]\n",
    "    \n",
    "    elif end_of_query > pos_where:\n",
    "    # when there's more after WHERE, eg GROUP BY/ORDER BY\n",
    "        main_query.extend(copy_query_list[pos_where:end_of_query])\n",
    "        del copy_query_list[:main_pos]\n",
    "        del copy_query_list[end_of_query-1:]\n",
    "    \n",
    "    return main_query, copy_query_list\n",
    "\n",
    "\n",
    "def landmark(line):\n",
    "    for syntax in ['FROM', 'LEFT JOIN', 'INNER JOIN', 'OUTER JOIN', 'RIGHT JOIN', 'CROSS JOIN', 'FULL JOIN', 'FULL OUTER JOIN']:\n",
    "        if line.startswith(syntax):\n",
    "            return True\n",
    "        else:\n",
    "            return False\n",
    "        \n",
    "\n",
    "def divider(copy_query_list):\n",
    "    sub_join = []\n",
    "    for i, line in enumerate(copy_query_list): \n",
    "\n",
    "        if landmark(line):\n",
    "            sub_join.append(line)\n",
    "            del copy_query_list[:i+1]\n",
    "            join_query = next((s for s in copy_query_list if not s.startswith(' ')), 'end of query')\n",
    "            \n",
    "            try:\n",
    "                join_pos = copy_query_list.index(join_query)\n",
    "                if landmark(copy_query_list[join_pos]):\n",
    "                    sub_join.extend(copy_query_list[:join_pos])\n",
    "                    del copy_query_list[:join_pos]\n",
    "                    break\n",
    "                    \n",
    "                else:\n",
    "                    sub_join.extend(copy_query_list[:join_pos+1])\n",
    "                    del copy_query_list[:join_pos+1]\n",
    "                    break\n",
    "    \n",
    "            except: \n",
    "                sub_join.extend(copy_query_list)\n",
    "                del copy_query_list[:]\n",
    "                break\n",
    "\n",
    "    return sub_join, copy_query_list\n",
    "      "
   ]
  },
  {
   "cell_type": "markdown",
   "metadata": {},
   "source": [
    "## start parse_alias"
   ]
  },
  {
   "cell_type": "code",
   "execution_count": 4,
   "metadata": {},
   "outputs": [],
   "source": [
    "def has_child(sub_query):\n",
    "    if 'SELECT' in sub_query and not sub_query.startswith('WITH'):\n",
    "        return True\n",
    "    else: \n",
    "        return False\n",
    "    "
   ]
  },
  {
   "cell_type": "code",
   "execution_count": 5,
   "metadata": {},
   "outputs": [],
   "source": [
    "def parse_alias(main_query, sub_query):\n",
    "    \n",
    "    sub_query_list = sub_query.rstrip('\\n ').split(' ')\n",
    "    sub_query_list = [w for w in sub_query_list if w]\n",
    "    sub_query_dict = {}\n",
    "    \n",
    "    if sub_query_list[0] == 'FROM':\n",
    "        \n",
    "        main_query.append('FROM')\n",
    "        sub_query_list.pop(0)\n",
    "        \n",
    "        sub_query_list_rev = sub_query_list[::-1]\n",
    "        \n",
    "        if sub_query_list_rev[0][-1] != ')':\n",
    "            alias = sub_query_list_rev[0]\n",
    "            sub_query_list.pop()\n",
    "            \n",
    "            if sub_query_list[-1] == 'AS':\n",
    "                sub_query_list.pop()\n",
    "            \n",
    "        else:\n",
    "            alias = 'no alias'\n",
    "            \n",
    "        main_query.append(alias)\n",
    "        \n",
    "    elif sub_query_list[0].rstrip('\\n ') not in ('FROM', 'CROSS'):\n",
    "        \n",
    "        join_ind = sub_query_list.index('JOIN')\n",
    "        main_query.extend(sub_query_list[:join_ind+1] )\n",
    "        del sub_query_list[:join_ind+1] \n",
    "\n",
    "        sub_query_list_rev = sub_query_list[::-1]\n",
    "\n",
    "        try: \n",
    "            on_ind = sub_query_list_rev.index('ON')\n",
    "            alias = sub_query_list_rev[on_ind+1]\n",
    "            main_part = sub_query_list_rev[:on_ind+2][::-1]\n",
    "            del sub_query_list_rev[:on_ind+2]\n",
    "            sub_query_list = sub_query_list_rev[::-1]\n",
    "            \n",
    "        except ValueError:\n",
    "            if sub_query_list_rev[0][-1] != ')':\n",
    "                alias = sub_query_list_rev[0]\n",
    "            else:\n",
    "                alias = 'no alias'\n",
    "        \n",
    "        main_query.extend(main_part)\n",
    "        \n",
    "    elif sub_query_list[0].rstrip('\\n ') == 'CROSS':\n",
    "        \n",
    "        join_ind = sub_query_list.index('JOIN')\n",
    "        main_query.extend(sub_query_list[:join_ind+1] )\n",
    "        del sub_query_list[:join_ind+1] \n",
    "\n",
    "        sub_query_list_rev = sub_query_list[::-1]\n",
    "        try:\n",
    "            as_ind = sub_query_list_rev.index('AS')\n",
    "            alias = sub_query_list_rev[as_ind-1]\n",
    "\n",
    "        except ValueError:\n",
    "            alias = sub_query_list_rev[0]\n",
    "        \n",
    "        main_query.append(alias)\n",
    "    \n",
    "    sub_query_dict[alias] = ' '.join(sub_query_list).lstrip('(').rstrip(')')\n",
    "    \n",
    "    return main_query, sub_query_dict\n"
   ]
  },
  {
   "cell_type": "code",
   "execution_count": 6,
   "metadata": {},
   "outputs": [],
   "source": [
    "def stitch_main(main_query, sub_query):\n",
    "    sub_query_dict = {}\n",
    "    if has_child(sub_query):\n",
    "        main_query, sub_query_dict = parse_alias(main_query, sub_query)\n",
    "    else:\n",
    "        main_query.append(sub_query)\n",
    "        \n",
    "    return main_query, sub_query_dict\n"
   ]
  },
  {
   "cell_type": "code",
   "execution_count": 7,
   "metadata": {},
   "outputs": [],
   "source": [
    "def separator(copy_query_list, main_query):\n",
    "    sub_query_list_copy = copy_query_list\n",
    "    sub_query = 'abc'\n",
    "    sub_queries = []\n",
    "\n",
    "    while sub_query:\n",
    "        sub_join, sub_query_list_copy = divider(sub_query_list_copy)\n",
    "        sub_query = ' '.join(sub_join)\n",
    "        main_query, sub_query_dict = stitch_main(main_query, sub_query)\n",
    "        if sub_query_dict != {}: sub_queries.append(sub_query_dict)\n",
    "    \n",
    "    return ' '.join(main_query), sub_queries\n"
   ]
  },
  {
   "cell_type": "markdown",
   "metadata": {},
   "source": [
    "## workflow"
   ]
  },
  {
   "cell_type": "code",
   "execution_count": 8,
   "metadata": {},
   "outputs": [],
   "source": [
    "formatter = column_parser.Parser(query)\n",
    "formatted_query = formatter.format_query(query)\n",
    "query_list = formatted_query.split('\\n')\n",
    "\n",
    "main_query, copy_query_list = get_sub_query(query_list)\n",
    "main_query, sub_queries = separator(copy_query_list, main_query)\n"
   ]
  },
  {
   "cell_type": "code",
   "execution_count": 9,
   "metadata": {},
   "outputs": [
    {
     "data": {
      "text/plain": [
       "('SELECT * FROM T ',\n",
       " [{'T': \"SELECT * FROM (WITH reg_users AS (SELECT * FROM (SELECT a.* , b.* , c.* , d.* FROM (SELECT DISTINCT anonymous_id , user_id FROM mapbox_customer_data.segment_identifies WHERE dt >= '2018-07-01' AND anonymous_id IS NOT NULL AND user_id IS NOT NULL ) a LEFT JOIN (SELECT id , email , created FROM mapbox_customer_data.accounts WHERE cast(dt AS DATE) = CURRENT_DATE - INTERVAL '1' DAY ) b ON a.user_id = b.id LEFT JOIN (SELECT anonymous_id AS anon_id_ad , context_campaign_name , min(TIMESTAMP) AS min_exposure FROM mapbox_customer_data.segment_pages WHERE dt >= '2018-07-01' AND context_campaign_name IS NOT NULL GROUP BY 1, 2) c ON a.anonymous_id = c.anon_id_ad LEFT JOIN (SELECT DISTINCT anonymous_id AS anon_id_event , original_timestamp , event , context_traits_email FROM mapbox_customer_data.segment_tracks WHERE dt >= '2018-07-01' AND event LIKE 'submitted_%form' AND context_traits_email IS NOT NULL ) d ON a.anonymous_id = d.anon_id_event) WHERE context_campaign_name IS NOT NULL ), non_reg_users AS (SELECT context_campaign_name , min_exposure , event , original_timestamp AS event_timestamp , context_traits_email AS event_email FROM (SELECT a.* , b.* FROM (SELECT anonymous_id AS anon_id_ad , context_campaign_name , min(original_timestamp) AS min_exposure FROM (SELECT context_campaign_name , anonymous_id , original_timestamp FROM mapbox_customer_data.segment_pages WHERE dt >= '2018-07-01' AND context_campaign_name IS NOT NULL ) GROUP BY 1, 2) a LEFT JOIN (SELECT DISTINCT anonymous_id AS anon_id_event , original_timestamp , event , context_traits_email FROM mapbox_customer_data.segment_tracks WHERE dt >= '2018-07-01' AND event LIKE 'submitted_%form' AND context_traits_email IS NOT NULL ) b ON a.anon_id_ad = b.anon_id_event) WHERE anon_id_event IS NOT NULL AND to_unixtime(min_exposure) <= to_unixtime(original_timestamp) AND cast(min_exposure AS DATE) >= cast(original_timestamp AS DATE) - INTERVAL '28' DAY ), mql_flag AS (SELECT email , created_date , last_mql_date_c , mql_flag FROM (SELECT email , min(created_date) created_date , max(last_mql_date_c) last_mql_date_c , CASE WHEN max(last_mql_date_c) IS NOT NULL THEN 1 ELSE 0 END AS mql_flag , sum(CASE WHEN is_deleted = TRUE THEN 1 ELSE 0 END) AS is_deleted FROM sales.salesforce_leads WHERE cast(dt AS DATE) = CURRENT_DATE - INTERVAL '1' DAY GROUP BY 1) WHERE mql_flag = 1 AND is_deleted = 0 ), cleaned_list AS (SELECT DISTINCT * FROM (SELECT context_campaign_name , min_exposure , 'created_an_account' AS event , created AS event_timestamp , email AS event_email FROM reg_users WHERE to_unixtime(min_exposure) <= to_unixtime(created) AND cast(min_exposure AS DATE) >= cast(created AS DATE) - INTERVAL '28' DAY UNION ALL SELECT context_campaign_name , min_exposure , event , original_timestamp AS event_timestamp , context_traits_email AS event_email FROM reg_users WHERE to_unixtime(min_exposure) <= to_unixtime(original_timestamp) AND cast(min_exposure AS DATE) >= cast(original_timestamp AS DATE) - INTERVAL '28' DAY UNION ALL SELECT * FROM non_reg_users)) SELECT a.* , b.* FROM cleaned_list a LEFT JOIN mql_flag b ON a.event_email = b.email) custom_sql_query LIMIT 0\"}])"
      ]
     },
     "execution_count": 9,
     "metadata": {},
     "output_type": "execute_result"
    }
   ],
   "source": [
    "main_query, sub_queries"
   ]
  },
  {
   "cell_type": "code",
   "execution_count": null,
   "metadata": {},
   "outputs": [],
   "source": []
  },
  {
   "cell_type": "code",
   "execution_count": null,
   "metadata": {},
   "outputs": [],
   "source": []
  },
  {
   "cell_type": "code",
   "execution_count": null,
   "metadata": {},
   "outputs": [],
   "source": []
  },
  {
   "cell_type": "code",
   "execution_count": 10,
   "metadata": {},
   "outputs": [
    {
     "name": "stdout",
     "output_type": "stream",
     "text": [
      "T \n",
      " SELECT * FROM custom_sql_query  \n",
      " [{'custom_sql_query': \"WITH reg_users AS (SELECT * FROM (SELECT a.*, b.*, c.*, d.* FROM (SELECT DISTINCT anonymous_id, user_id FROM mapbox_customer_data.segment_identifies WHERE dt >= '2018-07-01' AND anonymous_id IS NOT NULL AND user_id IS NOT NULL ) a LEFT JOIN (SELECT id, email, created FROM mapbox_customer_data.accounts WHERE cast(dt AS DATE) = CURRENT_DATE - INTERVAL '1' DAY ) b ON a.user_id = b.id LEFT JOIN (SELECT anonymous_id AS anon_id_ad, context_campaign_name, min(TIMESTAMP) AS min_exposure FROM mapbox_customer_data.segment_pages WHERE dt >= '2018-07-01' AND context_campaign_name IS NOT NULL GROUP BY 1, 2) c ON a.anonymous_id = c.anon_id_ad LEFT JOIN (SELECT DISTINCT anonymous_id AS anon_id_event, original_timestamp, event, context_traits_email FROM mapbox_customer_data.segment_tracks WHERE dt >= '2018-07-01' AND event LIKE 'submitted_%form' AND context_traits_email IS NOT NULL ) d ON a.anonymous_id = d.anon_id_event) WHERE context_campaign_name IS NOT NULL ), non_reg_users AS (SELECT context_campaign_name, min_exposure, event, original_timestamp AS event_timestamp, context_traits_email AS event_email FROM (SELECT a.*, b.* FROM (SELECT anonymous_id AS anon_id_ad, context_campaign_name, min(original_timestamp) AS min_exposure FROM (SELECT context_campaign_name, anonymous_id, original_timestamp FROM mapbox_customer_data.segment_pages WHERE dt >= '2018-07-01' AND context_campaign_name IS NOT NULL ) GROUP BY 1, 2) a LEFT JOIN (SELECT DISTINCT anonymous_id AS anon_id_event, original_timestamp, event, context_traits_email FROM mapbox_customer_data.segment_tracks WHERE dt >= '2018-07-01' AND event LIKE 'submitted_%form' AND context_traits_email IS NOT NULL ) b ON a.anon_id_ad = b.anon_id_event) WHERE anon_id_event IS NOT NULL AND to_unixtime(min_exposure) <= to_unixtime(original_timestamp) AND cast(min_exposure AS DATE) >= cast(original_timestamp AS DATE) - INTERVAL '28' DAY ), mql_flag AS (SELECT email, created_date, last_mql_date_c, mql_flag FROM (SELECT email, min(created_date) created_date, max(last_mql_date_c) last_mql_date_c, CASE WHEN max(last_mql_date_c) IS NOT NULL THEN 1 ELSE 0 END AS mql_flag, sum(CASE WHEN is_deleted = TRUE THEN 1 ELSE 0 END) AS is_deleted FROM sales.salesforce_leads WHERE cast(dt AS DATE) = CURRENT_DATE - INTERVAL '1' DAY GROUP BY 1) WHERE mql_flag = 1 AND is_deleted = 0 ), cleaned_list AS (SELECT DISTINCT * FROM (SELECT context_campaign_name, min_exposure, 'created_an_account' AS event, created AS event_timestamp, email AS event_email FROM reg_users WHERE to_unixtime(min_exposure) <= to_unixtime(created) AND cast(min_exposure AS DATE) >= cast(created AS DATE) - INTERVAL '28' DAY UNION ALL SELECT context_campaign_name, min_exposure, event, original_timestamp AS event_timestamp, context_traits_email AS event_email FROM reg_users WHERE to_unixtime(min_exposure) <= to_unixtime(original_timestamp) AND cast(min_exposure AS DATE) >= cast(original_timestamp AS DATE) - INTERVAL '28' DAY UNION ALL SELECT * FROM non_reg_users)) SELECT a.*, b.* FROM cleaned_list a LEFT JOIN mql_flag b ON a.event_email = b.email\"}]\n"
     ]
    }
   ],
   "source": [
    "for subq in sub_queries:\n",
    "    for k,v in subq.items():\n",
    "        if has_child(v):\n",
    "            query = v\n",
    "            formatter = column_parser.Parser(query)\n",
    "            formatted_query = formatter.format_query(query)\n",
    "            query_list = formatted_query.split('\\n')\n",
    "\n",
    "            main_query, copy_query_list = get_sub_query(query_list)\n",
    "            main_query, sub_queries = separator(copy_query_list, main_query)\n",
    "            main_query, sub_queries\n",
    "\n",
    "            print(k, '\\n', main_query, '\\n', sub_queries)\n",
    "        else: \n",
    "            print('no subquery. can be CTE.')\n",
    "            "
   ]
  },
  {
   "cell_type": "code",
   "execution_count": null,
   "metadata": {},
   "outputs": [],
   "source": []
  },
  {
   "cell_type": "code",
   "execution_count": null,
   "metadata": {},
   "outputs": [],
   "source": []
  },
  {
   "cell_type": "code",
   "execution_count": null,
   "metadata": {},
   "outputs": [],
   "source": []
  },
  {
   "cell_type": "code",
   "execution_count": 11,
   "metadata": {},
   "outputs": [
    {
     "data": {
      "text/plain": [
       "('SELECT * FROM custom_sql_query ',\n",
       " [{'custom_sql_query': \"WITH reg_users AS (SELECT * FROM (SELECT a.*, b.*, c.*, d.* FROM (SELECT DISTINCT anonymous_id, user_id FROM mapbox_customer_data.segment_identifies WHERE dt >= '2018-07-01' AND anonymous_id IS NOT NULL AND user_id IS NOT NULL ) a LEFT JOIN (SELECT id, email, created FROM mapbox_customer_data.accounts WHERE cast(dt AS DATE) = CURRENT_DATE - INTERVAL '1' DAY ) b ON a.user_id = b.id LEFT JOIN (SELECT anonymous_id AS anon_id_ad, context_campaign_name, min(TIMESTAMP) AS min_exposure FROM mapbox_customer_data.segment_pages WHERE dt >= '2018-07-01' AND context_campaign_name IS NOT NULL GROUP BY 1, 2) c ON a.anonymous_id = c.anon_id_ad LEFT JOIN (SELECT DISTINCT anonymous_id AS anon_id_event, original_timestamp, event, context_traits_email FROM mapbox_customer_data.segment_tracks WHERE dt >= '2018-07-01' AND event LIKE 'submitted_%form' AND context_traits_email IS NOT NULL ) d ON a.anonymous_id = d.anon_id_event) WHERE context_campaign_name IS NOT NULL ), non_reg_users AS (SELECT context_campaign_name, min_exposure, event, original_timestamp AS event_timestamp, context_traits_email AS event_email FROM (SELECT a.*, b.* FROM (SELECT anonymous_id AS anon_id_ad, context_campaign_name, min(original_timestamp) AS min_exposure FROM (SELECT context_campaign_name, anonymous_id, original_timestamp FROM mapbox_customer_data.segment_pages WHERE dt >= '2018-07-01' AND context_campaign_name IS NOT NULL ) GROUP BY 1, 2) a LEFT JOIN (SELECT DISTINCT anonymous_id AS anon_id_event, original_timestamp, event, context_traits_email FROM mapbox_customer_data.segment_tracks WHERE dt >= '2018-07-01' AND event LIKE 'submitted_%form' AND context_traits_email IS NOT NULL ) b ON a.anon_id_ad = b.anon_id_event) WHERE anon_id_event IS NOT NULL AND to_unixtime(min_exposure) <= to_unixtime(original_timestamp) AND cast(min_exposure AS DATE) >= cast(original_timestamp AS DATE) - INTERVAL '28' DAY ), mql_flag AS (SELECT email, created_date, last_mql_date_c, mql_flag FROM (SELECT email, min(created_date) created_date, max(last_mql_date_c) last_mql_date_c, CASE WHEN max(last_mql_date_c) IS NOT NULL THEN 1 ELSE 0 END AS mql_flag, sum(CASE WHEN is_deleted = TRUE THEN 1 ELSE 0 END) AS is_deleted FROM sales.salesforce_leads WHERE cast(dt AS DATE) = CURRENT_DATE - INTERVAL '1' DAY GROUP BY 1) WHERE mql_flag = 1 AND is_deleted = 0 ), cleaned_list AS (SELECT DISTINCT * FROM (SELECT context_campaign_name, min_exposure, 'created_an_account' AS event, created AS event_timestamp, email AS event_email FROM reg_users WHERE to_unixtime(min_exposure) <= to_unixtime(created) AND cast(min_exposure AS DATE) >= cast(created AS DATE) - INTERVAL '28' DAY UNION ALL SELECT context_campaign_name, min_exposure, event, original_timestamp AS event_timestamp, context_traits_email AS event_email FROM reg_users WHERE to_unixtime(min_exposure) <= to_unixtime(original_timestamp) AND cast(min_exposure AS DATE) >= cast(original_timestamp AS DATE) - INTERVAL '28' DAY UNION ALL SELECT * FROM non_reg_users)) SELECT a.*, b.* FROM cleaned_list a LEFT JOIN mql_flag b ON a.event_email = b.email\"}])"
      ]
     },
     "execution_count": 11,
     "metadata": {},
     "output_type": "execute_result"
    }
   ],
   "source": [
    "formatter = column_parser.Parser(query)\n",
    "formatted_query = formatter.format_query(query)\n",
    "query_list = formatted_query.split('\\n')\n",
    "\n",
    "main_query, copy_query_list = get_sub_query(query_list)\n",
    "main_query, sub_queries = separator(copy_query_list, main_query)\n",
    "main_query, sub_queries"
   ]
  },
  {
   "cell_type": "code",
   "execution_count": 12,
   "metadata": {},
   "outputs": [
    {
     "name": "stdout",
     "output_type": "stream",
     "text": [
      "no subquery. can be CTE.\n"
     ]
    }
   ],
   "source": [
    "for subq in sub_queries:\n",
    "    for k,v in subq.items():\n",
    "        if has_child(v):\n",
    "            query = v\n",
    "            formatter = column_parser.Parser(query)\n",
    "            formatted_query = formatter.format_query(query)\n",
    "            query_list = formatted_query.split('\\n')\n",
    "\n",
    "            main_query, copy_query_list = get_sub_query(query_list)\n",
    "            main_query, sub_queries = separator(copy_query_list, main_query)\n",
    "            main_query, sub_queries\n",
    "\n",
    "            print(k, '\\n', main_query, '\\n', sub_queries)\n",
    "        else: \n",
    "            print('no subquery. can be CTE.')"
   ]
  },
  {
   "cell_type": "code",
   "execution_count": null,
   "metadata": {},
   "outputs": [],
   "source": []
  }
 ],
 "metadata": {
  "kernelspec": {
   "display_name": "Python 3",
   "language": "python",
   "name": "python3"
  },
  "language_info": {
   "codemirror_mode": {
    "name": "ipython",
    "version": 3
   },
   "file_extension": ".py",
   "mimetype": "text/x-python",
   "name": "python",
   "nbconvert_exporter": "python",
   "pygments_lexer": "ipython3",
   "version": "3.7.4"
  }
 },
 "nbformat": 4,
 "nbformat_minor": 2
}
