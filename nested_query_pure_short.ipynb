{
 "cells": [
  {
   "cell_type": "code",
   "execution_count": 1,
   "metadata": {},
   "outputs": [],
   "source": [
    "from sqlanalyzer import column_parser\n",
    "import re\n",
    "import json"
   ]
  },
  {
   "cell_type": "markdown",
   "metadata": {},
   "source": [
    "### debug"
   ]
  },
  {
   "cell_type": "code",
   "execution_count": 2,
   "metadata": {},
   "outputs": [],
   "source": [
    "query = \"\"\"SELECT a.*,\n",
    "             b.*,\n",
    "             c.*,\n",
    "             d.*\n",
    "      FROM\n",
    "        (SELECT DISTINCT anonymous_id,\n",
    "                         user_id\n",
    "         FROM mapbox_customer_data.segment_identifies\n",
    "         WHERE dt >= '2018-07-01'\n",
    "           AND anonymous_id IS NOT NULL\n",
    "           AND user_id IS NOT NULL ) a\n",
    "      LEFT JOIN\n",
    "        (SELECT id,\n",
    "                email,\n",
    "                created\n",
    "         FROM mapbox_customer_data.accounts\n",
    "         WHERE cast(dt AS DATE) = CURRENT_DATE - INTERVAL '1' DAY ) b ON a.user_id = b.id\n",
    "      LEFT JOIN\n",
    "        (SELECT anonymous_id AS anon_id_ad,\n",
    "                context_campaign_name,\n",
    "                min(TIMESTAMP) AS min_exposure\n",
    "         FROM mapbox_customer_data.segment_pages\n",
    "         WHERE dt >= '2018-07-01'\n",
    "           AND context_campaign_name IS NOT NULL\n",
    "         GROUP BY 1,\n",
    "                  2) c ON a.anonymous_id = c.anon_id_ad\n",
    "      LEFT JOIN\n",
    "        (SELECT DISTINCT anonymous_id AS anon_id_event,\n",
    "                         original_timestamp,\n",
    "                         event,\n",
    "                         context_traits_email\n",
    "         FROM mapbox_customer_data.segment_tracks\n",
    "         WHERE dt >= '2018-07-01'\n",
    "           AND event LIKE 'submitted_%form'\n",
    "           AND context_traits_email IS NOT NULL ) d ON a.anonymous_id = d.anon_id_event\n",
    "WHERE dt = '2020-04-03'\n",
    "AND id = '123'\n",
    "ORDER BY 1,2,3\n",
    "GROUP BY 1,2,3\n",
    "\"\"\""
   ]
  },
  {
   "cell_type": "code",
   "execution_count": 3,
   "metadata": {},
   "outputs": [],
   "source": [
    "def within(num, rng):\n",
    "    if num >= min(rng) and num <= max(rng) and min(rng) < max(rng): return 1\n",
    "    else: return 0\n",
    "\n",
    "\n",
    "def is_cte(query):\n",
    "    return query.startswith('WITH')\n",
    "\n",
    "\n",
    "def clean_dict(query_dict):\n",
    "\n",
    "    for k,v in query_dict.items(): \n",
    "        if isinstance(v, dict) and len(v.keys()) == 1 and 'main' in v.keys():\n",
    "            query_dict[k] = v['main']\n",
    "            \n",
    "    return query_dict\n",
    "\n",
    "\n",
    "def get_sub_query(query_list):\n",
    "    pos_delete, pos_where = [len(query_list)-1], len(query_list)\n",
    "\n",
    "    for i, line in enumerate(query_list):\n",
    "        if line.startswith('ORDER') or line.startswith('GROUP'):\n",
    "            pos_delete.append(i)    \n",
    "        elif line.startswith('WHERE'):\n",
    "            pos_where = i\n",
    "\n",
    "    end_of_query = min(pos_delete) \n",
    "    \n",
    "    copy_query_list = query_list.copy()\n",
    "    main = next((s for s in copy_query_list if s.startswith('FROM')), 'end of query')\n",
    "    main_pos = copy_query_list.index(main)\n",
    "    main_query = copy_query_list[:main_pos]\n",
    "    if end_of_query == pos_where:\n",
    "        main_query.extend(copy_query_list[pos_where:end_of_query+1])\n",
    "    else:\n",
    "        main_query.extend(copy_query_list[pos_where:end_of_query])\n",
    "    del copy_query_list[:main_pos]\n",
    "    del copy_query_list[(pos_where-main_pos):]\n",
    "    \n",
    "    return main_query, copy_query_list\n",
    "\n",
    "\n",
    "def landmark(line):\n",
    "    for syntax in ['FROM', 'LEFT JOIN', 'INNER JOIN', 'OUTER JOIN', 'RIGHT JOIN', 'CROSS JOIN', 'FULL JOIN', 'FULL OUTER JOIN']:\n",
    "        if line.startswith(syntax):\n",
    "            return True\n",
    "        \n",
    "\n",
    "def divider(copy_query_list):\n",
    "    sub_join = []\n",
    "    for i, line in enumerate(copy_query_list): \n",
    "\n",
    "        if landmark(line):\n",
    "            sub_join.append(line)\n",
    "            del copy_query_list[:i+1]\n",
    "            join_query = next((s for s in copy_query_list if not s.startswith(' ')), 'end of query')\n",
    "            \n",
    "            try:\n",
    "                join_pos = copy_query_list.index(join_query)\n",
    "                if landmark(copy_query_list[join_pos]):\n",
    "                    sub_join.extend(copy_query_list[:join_pos])\n",
    "                    del copy_query_list[:join_pos]\n",
    "                    break\n",
    "                    \n",
    "                else:\n",
    "                    sub_join.extend(copy_query_list[:join_pos+1])\n",
    "                    del copy_query_list[:join_pos+1]\n",
    "                    break\n",
    "    \n",
    "            except: \n",
    "                sub_join.extend(copy_query_list)\n",
    "                del copy_query_list[:]\n",
    "                break\n",
    "\n",
    "    return sub_join, copy_query_list\n",
    "      "
   ]
  },
  {
   "cell_type": "markdown",
   "metadata": {},
   "source": [
    "## start parse_alias"
   ]
  },
  {
   "cell_type": "code",
   "execution_count": 4,
   "metadata": {},
   "outputs": [],
   "source": [
    "def has_child(sub_query):\n",
    "    if 'SELECT' in sub_query:\n",
    "        return True\n",
    "    else: \n",
    "        return False\n",
    "    "
   ]
  },
  {
   "cell_type": "code",
   "execution_count": 5,
   "metadata": {},
   "outputs": [],
   "source": [
    "def parse_alias(main_query, sub_query):\n",
    "    \n",
    "    sub_query_list = sub_query.rstrip('\\n ').split(' ')\n",
    "    sub_query_list = [w for w in sub_query_list if w]\n",
    "    sub_query_dict = {}\n",
    "    \n",
    "    if sub_query_list[0] == 'FROM':\n",
    "        \n",
    "        main_query.append('FROM')\n",
    "        sub_query_list.pop(0)\n",
    "        \n",
    "        sub_query_list_rev = sub_query_list[::-1]\n",
    "        \n",
    "        if sub_query_list_rev[0][-1] != ')':\n",
    "            alias = sub_query_list_rev[0]\n",
    "            sub_query_list.pop()\n",
    "            \n",
    "            if sub_query_list[-1] == 'AS':\n",
    "                sub_query_list.pop()\n",
    "            \n",
    "        else:\n",
    "            alias = 'no alias'\n",
    "            \n",
    "        main_query.append(alias)\n",
    "        \n",
    "    elif sub_query_list[0].rstrip('\\n ') not in ('FROM', 'CROSS'):\n",
    "        \n",
    "        join_ind = sub_query_list.index('JOIN')\n",
    "        main_query.extend(sub_query_list[:join_ind+1] )\n",
    "        del sub_query_list[:join_ind+1] \n",
    "\n",
    "        sub_query_list_rev = sub_query_list[::-1]\n",
    "\n",
    "        try: \n",
    "            on_ind = sub_query_list_rev.index('ON')\n",
    "            alias = sub_query_list_rev[on_ind+1]\n",
    "            main_part = sub_query_list_rev[:on_ind+2][::-1]\n",
    "            del sub_query_list_rev[:on_ind+2]\n",
    "            sub_query_list = sub_query_list_rev[::-1]\n",
    "            \n",
    "        except ValueError:\n",
    "            if sub_query_list_rev[0][-1] != ')':\n",
    "                alias = sub_query_list_rev[0]\n",
    "            else:\n",
    "                alias = 'no alias'\n",
    "        \n",
    "        main_query.extend(main_part)\n",
    "        \n",
    "    elif sub_query_list[0].rstrip('\\n ') == 'CROSS':\n",
    "        \n",
    "        join_ind = sub_query_list.index('JOIN')\n",
    "        main_query.extend(sub_query_list[:join_ind+1] )\n",
    "        del sub_query_list[:join_ind+1] \n",
    "\n",
    "        sub_query_list_rev = sub_query_list[::-1]\n",
    "        try:\n",
    "            as_ind = sub_query_list_rev.index('AS')\n",
    "            alias = sub_query_list_rev[as_ind-1]\n",
    "\n",
    "        except ValueError:\n",
    "            alias = sub_query_list_rev[0]\n",
    "        \n",
    "        main_query.append(alias)\n",
    "    \n",
    "    sub_query_dict[alias] = ' '.join(sub_query_list).lstrip('(').rstrip(')')\n",
    "    \n",
    "    return main_query, sub_query_dict\n"
   ]
  },
  {
   "cell_type": "code",
   "execution_count": 6,
   "metadata": {},
   "outputs": [],
   "source": [
    "def stitch_main(main_query, sub_query):\n",
    "    sub_query_dict = {}\n",
    "    if has_child(sub_query):\n",
    "        main_query, sub_query_dict = parse_alias(main_query, sub_query)\n",
    "    else:\n",
    "        main_query.append(sub_query)\n",
    "        \n",
    "    return main_query, sub_query_dict\n"
   ]
  },
  {
   "cell_type": "code",
   "execution_count": 7,
   "metadata": {},
   "outputs": [],
   "source": [
    "def separator(copy_query_list, main_query):\n",
    "    sub_query_list_copy = copy_query_list\n",
    "    sub_query = 'abc'\n",
    "    sub_queries = []\n",
    "\n",
    "    while sub_query:\n",
    "        sub_join, sub_query_list_copy = divider(sub_query_list_copy)\n",
    "        sub_query = ' '.join(sub_join)\n",
    "        main_query, sub_query_dict = stitch_main(main_query, sub_query)\n",
    "        if sub_query_dict != {}: sub_queries.append(sub_query_dict)\n",
    "    \n",
    "    return ' '.join(main_query), sub_queries\n"
   ]
  },
  {
   "cell_type": "markdown",
   "metadata": {},
   "source": [
    "## workflow"
   ]
  },
  {
   "cell_type": "code",
   "execution_count": 8,
   "metadata": {
    "scrolled": false
   },
   "outputs": [
    {
     "data": {
      "text/plain": [
       "(['SELECT a.*,',\n",
       "  '       b.*,',\n",
       "  '       c.*,',\n",
       "  '       d.*',\n",
       "  \"WHERE dt = '2020-04-03'\",\n",
       "  \"  AND id = '123'\"],\n",
       " ['FROM',\n",
       "  '  (SELECT DISTINCT anonymous_id,',\n",
       "  '                   user_id',\n",
       "  '   FROM mapbox_customer_data.segment_identifies',\n",
       "  \"   WHERE dt >= '2018-07-01'\",\n",
       "  '     AND anonymous_id IS NOT NULL',\n",
       "  '     AND user_id IS NOT NULL ) a',\n",
       "  'LEFT JOIN',\n",
       "  '  (SELECT id,',\n",
       "  '          email,',\n",
       "  '          created',\n",
       "  '   FROM mapbox_customer_data.accounts',\n",
       "  \"   WHERE cast(dt AS DATE) = CURRENT_DATE - INTERVAL '1' DAY ) b ON a.user_id = b.id\",\n",
       "  'LEFT JOIN',\n",
       "  '  (SELECT anonymous_id AS anon_id_ad,',\n",
       "  '          context_campaign_name,',\n",
       "  '          min(TIMESTAMP) AS min_exposure',\n",
       "  '   FROM mapbox_customer_data.segment_pages',\n",
       "  \"   WHERE dt >= '2018-07-01'\",\n",
       "  '     AND context_campaign_name IS NOT NULL',\n",
       "  '   GROUP BY 1,',\n",
       "  '            2) c ON a.anonymous_id = c.anon_id_ad',\n",
       "  'LEFT JOIN',\n",
       "  '  (SELECT DISTINCT anonymous_id AS anon_id_event,',\n",
       "  '                   original_timestamp,',\n",
       "  '                   event,',\n",
       "  '                   context_traits_email',\n",
       "  '   FROM mapbox_customer_data.segment_tracks',\n",
       "  \"   WHERE dt >= '2018-07-01'\",\n",
       "  \"     AND event LIKE 'submitted_%form'\",\n",
       "  '     AND context_traits_email IS NOT NULL ) d ON a.anonymous_id = d.anon_id_event'])"
      ]
     },
     "execution_count": 8,
     "metadata": {},
     "output_type": "execute_result"
    }
   ],
   "source": [
    "formatter = column_parser.Parser(query)\n",
    "formatted_query = formatter.format_query(query)\n",
    "query_list = formatted_query.split('\\n')\n",
    "\n",
    "main_query, copy_query_list = get_sub_query(query_list)\n",
    "main_query, copy_query_list"
   ]
  },
  {
   "cell_type": "code",
   "execution_count": 9,
   "metadata": {},
   "outputs": [
    {
     "data": {
      "text/plain": [
       "(\"SELECT a.*,        b.*,        c.*,        d.* WHERE dt = '2020-04-03'   AND id = '123' FROM a LEFT JOIN b ON a.user_id = b.id LEFT JOIN c ON a.anonymous_id = c.anon_id_ad LEFT JOIN d ON a.anonymous_id = d.anon_id_event \",\n",
       " [{'a': \"SELECT DISTINCT anonymous_id, user_id FROM mapbox_customer_data.segment_identifies WHERE dt >= '2018-07-01' AND anonymous_id IS NOT NULL AND user_id IS NOT NULL \"},\n",
       "  {'b': \"SELECT id, email, created FROM mapbox_customer_data.accounts WHERE cast(dt AS DATE) = CURRENT_DATE - INTERVAL '1' DAY \"},\n",
       "  {'c': \"SELECT anonymous_id AS anon_id_ad, context_campaign_name, min(TIMESTAMP) AS min_exposure FROM mapbox_customer_data.segment_pages WHERE dt >= '2018-07-01' AND context_campaign_name IS NOT NULL GROUP BY 1, 2\"},\n",
       "  {'d': \"SELECT DISTINCT anonymous_id AS anon_id_event, original_timestamp, event, context_traits_email FROM mapbox_customer_data.segment_tracks WHERE dt >= '2018-07-01' AND event LIKE 'submitted_%form' AND context_traits_email IS NOT NULL \"}])"
      ]
     },
     "execution_count": 9,
     "metadata": {},
     "output_type": "execute_result"
    }
   ],
   "source": [
    "main_query, sub_queries = separator(copy_query_list, main_query)\n",
    "main_query, sub_queries"
   ]
  },
  {
   "cell_type": "code",
   "execution_count": null,
   "metadata": {},
   "outputs": [],
   "source": [
    "for subq in sub_queries:\n",
    "    for k,v in subq.items():\n",
    "        query = v\n",
    "        formatter = column_parser.Parser(query)\n",
    "        formatted_query = formatter.format_query(query)\n",
    "        query_list = formatted_query.split('\\n')\n",
    "\n",
    "        main_query, copy_query_list = get_sub_query(query_list)\n",
    "        main_query, sub_queries = separator(copy_query_list, main_query)\n",
    "        main_query, sub_queries\n",
    "\n",
    "        print(k, '\\n', main_query, '\\n', sub_queries)\n",
    "            "
   ]
  },
  {
   "cell_type": "code",
   "execution_count": null,
   "metadata": {},
   "outputs": [],
   "source": [
    "main_query"
   ]
  },
  {
   "cell_type": "code",
   "execution_count": null,
   "metadata": {},
   "outputs": [],
   "source": [
    "for subq in sub_queries: \n",
    "    for k,v in subq.items():\n",
    "        if has_child(v):\n",
    "            print(v)\n",
    "            query = v\n",
    "            "
   ]
  },
  {
   "cell_type": "code",
   "execution_count": null,
   "metadata": {},
   "outputs": [],
   "source": [
    "query"
   ]
  },
  {
   "cell_type": "code",
   "execution_count": null,
   "metadata": {},
   "outputs": [],
   "source": [
    "print(formatted_query)"
   ]
  },
  {
   "cell_type": "code",
   "execution_count": null,
   "metadata": {},
   "outputs": [],
   "source": [
    "formatter = column_parser.Parser(query)\n",
    "formatted_query = formatter.format_query(query)\n",
    "query_list = formatted_query.split('\\n')\n",
    "\n",
    "main_query, copy_query_list = get_sub_query(query_list)\n",
    "main_query, sub_queries = separator(copy_query_list, main_query)\n",
    "main_query, sub_queries"
   ]
  },
  {
   "cell_type": "code",
   "execution_count": null,
   "metadata": {},
   "outputs": [],
   "source": []
  }
 ],
 "metadata": {
  "kernelspec": {
   "display_name": "Python 3",
   "language": "python",
   "name": "python3"
  },
  "language_info": {
   "codemirror_mode": {
    "name": "ipython",
    "version": 3
   },
   "file_extension": ".py",
   "mimetype": "text/x-python",
   "name": "python",
   "nbconvert_exporter": "python",
   "pygments_lexer": "ipython3",
   "version": "3.7.4"
  }
 },
 "nbformat": 4,
 "nbformat_minor": 2
}
