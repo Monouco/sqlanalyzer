{
 "cells": [
  {
   "cell_type": "code",
   "execution_count": 25,
   "metadata": {},
   "outputs": [],
   "source": [
    "from sqlanalyzer import column_parser\n",
    "import re\n",
    "import json\n",
    "import pandas as pd"
   ]
  },
  {
   "cell_type": "markdown",
   "metadata": {},
   "source": [
    "### debug"
   ]
  },
  {
   "cell_type": "code",
   "execution_count": 389,
   "metadata": {},
   "outputs": [],
   "source": [
    "query = \"\"\"SELECT\n",
    "      b.*\n",
    "      FROM\n",
    "      (\n",
    "        SELECT\n",
    "        MAX(dt) AS dt\n",
    "        FROM\n",
    "        analytics.service_endpoint_mapping\n",
    "      ) a\n",
    "      LEFT JOIN sfdc.accounts sfdc_accounts ON sfdc_accounts.id = b.id\n",
    "      INNER JOIN\n",
    "      analytics.service_endpoint_mapping b\n",
    "      ON\n",
    "      a.dt = b.dt\n",
    "      AND a.id = b.id\n",
    "      LEFT JOIN (\n",
    "        SELECT\n",
    "        account,\n",
    "        CONCAT_WS(',', COLLECT_SET(LOWER(service))) AS service\n",
    "        FROM\n",
    "        web_mobile_studio\n",
    "        GROUP BY\n",
    "        account\n",
    "      ) c\n",
    "      ON\n",
    "      a.account = c.account AND c.service = 'studio'\n",
    "      WHERE a.id = '123'\n",
    "      AND b.id = '234'\n",
    "      GROUP BY 1,2,3\n",
    "      ORDER BY 3,4\n",
    "\"\"\"\n"
   ]
  },
  {
   "cell_type": "code",
   "execution_count": 390,
   "metadata": {},
   "outputs": [
    {
     "name": "stdout",
     "output_type": "stream",
     "text": [
      "SELECT\n",
      "      b.*\n",
      "      FROM\n",
      "      (\n",
      "        SELECT\n",
      "        MAX(dt) AS dt\n",
      "        FROM\n",
      "        analytics.service_endpoint_mapping\n",
      "      ) a\n",
      "      LEFT JOIN sfdc.accounts sfdc_accounts ON sfdc_accounts.id = b.id\n",
      "      INNER JOIN\n",
      "      analytics.service_endpoint_mapping b\n",
      "      ON\n",
      "      a.dt = b.dt\n",
      "      AND a.id = b.id\n",
      "      LEFT JOIN (\n",
      "        SELECT\n",
      "        account,\n",
      "        CONCAT_WS(',', COLLECT_SET(LOWER(service))) AS service\n",
      "        FROM\n",
      "        web_mobile_studio\n",
      "        GROUP BY\n",
      "        account\n",
      "      ) c\n",
      "      ON\n",
      "      a.account = c.account AND c.service = 'studio'\n",
      "      WHERE a.id = '123'\n",
      "      AND b.id = '234'\n",
      "      GROUP BY 1,2,3\n",
      "      ORDER BY 3,4\n",
      "\n"
     ]
    }
   ],
   "source": [
    "print(query)"
   ]
  },
  {
   "cell_type": "code",
   "execution_count": 391,
   "metadata": {},
   "outputs": [],
   "source": [
    "def within(num, rng):\n",
    "    if num >= min(rng) and num <= max(rng) and min(rng) < max(rng): return 1\n",
    "    else: return 0\n",
    "\n",
    "\n",
    "def is_cte(query):\n",
    "    return query.startswith('WITH')\n",
    "\n",
    "\n",
    "def clean_dict(query_dict):\n",
    "\n",
    "    for k,v in query_dict.items(): \n",
    "        if isinstance(v, dict) and len(v.keys()) == 1 and 'main' in v.keys():\n",
    "            query_dict[k] = v['main']\n",
    "            \n",
    "    return query_dict\n"
   ]
  },
  {
   "cell_type": "code",
   "execution_count": 392,
   "metadata": {},
   "outputs": [],
   "source": [
    "def main_query(query_list, sub_query_pos):\n",
    "\n",
    "    l = []\n",
    "    for i in range(len(query_list)): \n",
    "        count = 0\n",
    "        for pair in sorted(sub_query_pos):\n",
    "            count += within(i, pair)\n",
    "        if count == 0:\n",
    "            l.append(i)\n",
    "\n",
    "    return l\n",
    "\n",
    "\n",
    "def _get_joins_pos(query_list):\n",
    "\n",
    "    pos_delete, pos_where = [len(query_list)-1], len(query_list)\n",
    "    pos_join = []\n",
    "    for i, line in enumerate(query_list):\n",
    "        if line.startswith('ORDER') or line.startswith('GROUP'):\n",
    "            pos_delete.append(i)\n",
    "        elif line.startswith('FROM') and len(line.split(' ')) > 1:\n",
    "            pos_join.append(i)\n",
    "\n",
    "        elif line.startswith('FROM') and len(line.split(' ')) == 1:\n",
    "            pos_join.append(i)\n",
    "            for i2,line2 in enumerate(query_list[i+1:]):\n",
    "                if line2.startswith(' '): pos_join.append(i2+i+1)\n",
    "                else: break\n",
    "\n",
    "        elif line.startswith('WHERE'):\n",
    "            pos_where = i\n",
    "        elif line.startswith('LEFT JOIN') or line.startswith('INNER JOIN') or line.startswith('FULL OUTER JOIN') or line.startswith('RIGHT JOIN'):\n",
    "            pos_join.append(i)\n",
    "            for i3,line3 in enumerate(query_list[i+1:]):\n",
    "                if line3.startswith(' '): pos_join.append(i3+i+1)\n",
    "                else: break\n",
    "\n",
    "    if min(pos_delete) == len(query_list)-1:\n",
    "        pos_join.append(min(pos_delete))\n",
    "    else:\n",
    "        pass\n",
    "\n",
    "    return sorted(list(set(pos_join))), pos_where\n",
    "\n",
    "\n",
    "def _get_alias_pos(query_list, pos_join, pos_where):\n",
    "\n",
    "    pos_join_list = iter(pos_join)\n",
    "    next(pos_join_list)\n",
    "    alias_pos = []\n",
    "\n",
    "    if query_list[pos_join[0]].startswith('FROM'):\n",
    "        alias_pos.append(pos_join[0])\n",
    "\n",
    "    for i in range(len(pos_join)-1):\n",
    "        if i < len(pos_join)-2 and pos_join[i] < pos_where:\n",
    "            end_pos = next(pos_join_list)-1\n",
    "            alias_pos.append(end_pos-1)\n",
    "\n",
    "        elif pos_join[-1] >= pos_where:\n",
    "            end_pos = next(pos_join_list)-1\n",
    "            alias_pos.append(pos_where - 1)\n",
    "\n",
    "        else:\n",
    "            end_pos = pos_join[-1]\n",
    "            alias_pos.append(pos_where-1)\n",
    "\n",
    "    alias_pos = sorted(list(set(alias_pos)))\n",
    "\n",
    "    return alias_pos\n",
    "\n",
    "\n",
    "def _parse_sub_query(query_list, sub_query_pos):\n",
    "\n",
    "    sub_query = {}\n",
    "    keep = []\n",
    "    for _, sub_pos in enumerate(sub_query_pos):\n",
    "        alias = query_list[sub_pos[1]]\n",
    "        query = query_list[sub_pos[0]: sub_pos[1]]\n",
    "\n",
    "        try:\n",
    "            alias_list_rev = alias.split(' ')[::-1]\n",
    "            if alias_list_rev[0][-1] != ')':\n",
    "                alias_index = alias_list_rev.index('ON')\n",
    "                alias = alias_list_rev[alias_index+1]\n",
    "\n",
    "                if alias_list_rev[alias_index+2] == 'AS':\n",
    "                    keep.append(' '.join(alias_list_rev[:alias_index+3][::-1]))\n",
    "                    del alias_list_rev[:alias_index+3]\n",
    "\n",
    "                else:\n",
    "                    keep.append(' '.join(alias_list_rev[:alias_index+2][::-1]))\n",
    "                    del alias_list_rev[:alias_index+2]\n",
    "\n",
    "                query.append(' '.join(alias_list_rev[::-1]).rstrip(r'\\)').lstrip(' '))\n",
    "\n",
    "            else:\n",
    "                alias_list_rev[0] = alias_list_rev[0].rstrip(r'\\)')\n",
    "                alias = 'no alias'\n",
    "                query.append(' '.join(alias_list_rev[::-1]))\n",
    "\n",
    "        except:\n",
    "            query.append(' '.join(alias.split(' ')[:-1]).rstrip(r'\\)').lstrip(' '))\n",
    "            alias = alias.split(' ')[-1]\n",
    "\n",
    "        trans_query = ' '.join(query).lstrip(r' \\(').lstrip(' FROM')\n",
    "\n",
    "        if trans_query == '':\n",
    "            sub_query = {}\n",
    "        else:\n",
    "            sub_query[alias] = trans_query\n",
    "\n",
    "    return sub_query, keep\n",
    "\n",
    "\n",
    "def delevel(query_list):\n",
    "\n",
    "    sub_query = {}\n",
    "    pos_join, pos_where = _get_joins_pos(query_list)\n",
    "    alias_pos = _get_alias_pos(query_list, pos_join, pos_where)\n",
    "    sub_query_pos = list(zip(pos_join, alias_pos))\n",
    "    sub_query, keep = _parse_sub_query(query_list, sub_query_pos)\n",
    "    main_query_pos = main_query(query_list, sub_query_pos)\n",
    "    if main_query_pos != []:\n",
    "        sub_query['main'] = '\\n'.join([query_list[p] for p in main_query_pos])\n",
    "    sub_query['main'] = sub_query['main'] + ' ' + '\\n'.join(keep)\n",
    "\n",
    "    return sub_query\n",
    "\n",
    "\n",
    "def has_child(formatted_query):\n",
    "\n",
    "    count = 0\n",
    "    deleveled_list = delevel(formatted_query.split('\\n'))\n",
    "    if len(deleveled_list.keys()) > 1:\n",
    "        for _,v in deleveled_list.items():\n",
    "            if v != {}: count += 1\n",
    "\n",
    "    return count != 0\n",
    "\n",
    "\n"
   ]
  },
  {
   "cell_type": "code",
   "execution_count": 393,
   "metadata": {},
   "outputs": [],
   "source": [
    "# def extract_query_dict(query):\n",
    "\n",
    "formatter = column_parser.Parser(query)\n",
    "formatted_query = formatter.format_query(query)\n",
    "query_list_0 = formatted_query.split('\\n')\n",
    "query_dict = {}\n"
   ]
  },
  {
   "cell_type": "code",
   "execution_count": 394,
   "metadata": {},
   "outputs": [
    {
     "name": "stdout",
     "output_type": "stream",
     "text": [
      "0 SELECT b.*\n",
      "1 FROM\n",
      "2   (SELECT MAX(dt) AS dt\n",
      "3    FROM analytics.service_endpoint_mapping) a\n",
      "4 LEFT JOIN sfdc.accounts sfdc_accounts ON sfdc_accounts.id = b.id\n",
      "5 INNER JOIN analytics.service_endpoint_mapping b ON a.dt = b.dt\n",
      "6 AND a.id = b.id\n",
      "7 LEFT JOIN\n",
      "8   (SELECT account,\n",
      "9           CONCAT_WS(',', COLLECT_SET(LOWER(service))) AS service\n",
      "10    FROM web_mobile_studio\n",
      "11    GROUP BY account) c ON a.account = c.account\n",
      "12 AND c.service = 'studio'\n",
      "13 WHERE a.id = '123'\n",
      "14   AND b.id = '234'\n",
      "15 GROUP BY 1,\n",
      "16          2,\n",
      "17          3\n",
      "18 ORDER BY 3,\n",
      "19          4\n"
     ]
    }
   ],
   "source": [
    "for i,line in enumerate(query_list_0): print(i, line)"
   ]
  },
  {
   "cell_type": "code",
   "execution_count": 395,
   "metadata": {},
   "outputs": [],
   "source": [
    "# sub_query = delevel(query_list_0)\n",
    "# query_dict = sub_query\n",
    "# query_dict"
   ]
  },
  {
   "cell_type": "code",
   "execution_count": 396,
   "metadata": {},
   "outputs": [],
   "source": [
    "query_list = query_list_0"
   ]
  },
  {
   "cell_type": "code",
   "execution_count": 397,
   "metadata": {},
   "outputs": [
    {
     "data": {
      "text/plain": [
       "([1, 2, 3, 4, 5, 7, 8, 9, 10, 11], 13)"
      ]
     },
     "execution_count": 397,
     "metadata": {},
     "output_type": "execute_result"
    }
   ],
   "source": [
    "# delevel\n",
    "sub_query = {}\n",
    "pos_join, pos_where = _get_joins_pos(query_list)\n",
    "pos_join, pos_where"
   ]
  },
  {
   "cell_type": "code",
   "execution_count": 398,
   "metadata": {},
   "outputs": [],
   "source": [
    "# alias_pos = _get_alias_pos(query_list, pos_join, pos_where)\n",
    "# alias_pos"
   ]
  },
  {
   "cell_type": "markdown",
   "metadata": {},
   "source": [
    "## new: start get_joins"
   ]
  },
  {
   "cell_type": "code",
   "execution_count": 410,
   "metadata": {},
   "outputs": [
    {
     "name": "stdout",
     "output_type": "stream",
     "text": [
      "0 SELECT b.*\n",
      "1 FROM\n",
      "2   (SELECT MAX(dt) AS dt\n",
      "3    FROM analytics.service_endpoint_mapping) a\n",
      "4 LEFT JOIN sfdc.accounts sfdc_accounts ON sfdc_accounts.id = b.id\n",
      "5 INNER JOIN analytics.service_endpoint_mapping b ON a.dt = b.dt\n",
      "6 AND a.id = b.id\n",
      "7 LEFT JOIN\n",
      "8   (SELECT account,\n",
      "9           CONCAT_WS(',', COLLECT_SET(LOWER(service))) AS service\n",
      "10    FROM web_mobile_studio\n",
      "11    GROUP BY account) c ON a.account = c.account\n",
      "12 AND c.service = 'studio'\n",
      "13 WHERE a.id = '123'\n",
      "14   AND b.id = '234'\n",
      "15 GROUP BY 1,\n",
      "16          2,\n",
      "17          3\n",
      "18 ORDER BY 3,\n",
      "19          4\n"
     ]
    }
   ],
   "source": [
    "for i, l in enumerate(query_list): print(i, l)"
   ]
  },
  {
   "cell_type": "code",
   "execution_count": 413,
   "metadata": {},
   "outputs": [],
   "source": [
    "pos_delete, pos_where = [len(query_list)-1], len(query_list)\n",
    "\n",
    "for i, line in enumerate(query_list):\n",
    "    if line.startswith('ORDER') or line.startswith('GROUP'):\n",
    "        pos_delete.append(i)    \n",
    "    elif line.startswith('WHERE'):\n",
    "        pos_where = i\n",
    "\n",
    "end_of_query = min(pos_delete) \n"
   ]
  },
  {
   "cell_type": "code",
   "execution_count": 443,
   "metadata": {},
   "outputs": [],
   "source": [
    "join_dict = {}\n",
    "copy_query_list = query_list.copy()\n",
    "main = next((s for s in copy_query_list if not s.startswith('FROM')), 'end of query')\n",
    "main_pos = copy_query_list.index(main)\n",
    "main_query = copy_query_list[:main_pos+1]\n",
    "main_query.extend(copy_query_list[pos_where:end_of_query])\n",
    "del copy_query_list[:main_pos+1]\n",
    "del copy_query_list[(pos_where-main_pos-1):]\n",
    "           "
   ]
  },
  {
   "cell_type": "code",
   "execution_count": 446,
   "metadata": {},
   "outputs": [],
   "source": [
    "sub_join = []\n",
    "for i, line in enumerate(copy_query_list): \n",
    "    \n",
    "    if line.startswith('FROM'):\n",
    "        sub_join.append(line)\n",
    "        del copy_query_list[:i+1]\n",
    "        first_join = next((s for s in copy_query_list if not s.startswith(' ')), 'end of query')\n",
    "        first_join_pos = copy_query_list.index(first_join)\n",
    "        sub_join.extend(copy_query_list[:first_join_pos])\n",
    "        del copy_query_list[:first_join_pos+1]\n",
    "        \n",
    "join_dict['join_1'] = ' '.join(sub_join)\n"
   ]
  },
  {
   "cell_type": "code",
   "execution_count": 444,
   "metadata": {},
   "outputs": [
    {
     "data": {
      "text/plain": [
       "['SELECT b.*', \"WHERE a.id = '123'\", \"  AND b.id = '234'\"]"
      ]
     },
     "execution_count": 444,
     "metadata": {},
     "output_type": "execute_result"
    }
   ],
   "source": [
    "main_query"
   ]
  },
  {
   "cell_type": "code",
   "execution_count": 445,
   "metadata": {},
   "outputs": [
    {
     "data": {
      "text/plain": [
       "['INNER JOIN analytics.service_endpoint_mapping b ON a.dt = b.dt',\n",
       " 'AND a.id = b.id',\n",
       " 'LEFT JOIN',\n",
       " '  (SELECT account,',\n",
       " \"          CONCAT_WS(',', COLLECT_SET(LOWER(service))) AS service\",\n",
       " '   FROM web_mobile_studio',\n",
       " '   GROUP BY account) c ON a.account = c.account',\n",
       " \"AND c.service = 'studio'\"]"
      ]
     },
     "execution_count": 445,
     "metadata": {},
     "output_type": "execute_result"
    }
   ],
   "source": [
    "copy_query_list"
   ]
  },
  {
   "cell_type": "code",
   "execution_count": 409,
   "metadata": {},
   "outputs": [
    {
     "data": {
      "text/plain": [
       "{'join_1': 'FROM   (SELECT MAX(dt) AS dt    FROM analytics.service_endpoint_mapping) a'}"
      ]
     },
     "execution_count": 409,
     "metadata": {},
     "output_type": "execute_result"
    }
   ],
   "source": [
    "join_dict"
   ]
  },
  {
   "cell_type": "markdown",
   "metadata": {},
   "source": [
    "## end get_joins"
   ]
  },
  {
   "cell_type": "code",
   "execution_count": 319,
   "metadata": {},
   "outputs": [
    {
     "name": "stdout",
     "output_type": "stream",
     "text": [
      "0 SELECT b.*\n",
      "1 FROM\n",
      "2   (SELECT MAX(dt) AS dt\n",
      "3    FROM analytics.service_endpoint_mapping) a\n",
      "4 LEFT JOIN sfdc.accounts sfdc_accounts ON sfdc_accounts.id = b.id\n",
      "5 INNER JOIN analytics.service_endpoint_mapping b ON a.dt = b.dt\n",
      "6 AND a.id = b.id\n",
      "7 LEFT JOIN\n",
      "8   (SELECT account,\n",
      "9           CONCAT_WS(',', COLLECT_SET(LOWER(service))) AS service\n",
      "10    FROM web_mobile_studio\n",
      "11    GROUP BY account) c ON a.account = c.account\n",
      "12 AND c.service = 'studio'\n"
     ]
    }
   ],
   "source": [
    "for i,line in enumerate(query_list_0): print(i, line)"
   ]
  },
  {
   "cell_type": "code",
   "execution_count": 320,
   "metadata": {},
   "outputs": [
    {
     "data": {
      "text/plain": [
       "[(1, 1), (2, 4), (3, 5)]"
      ]
     },
     "execution_count": 320,
     "metadata": {},
     "output_type": "execute_result"
    }
   ],
   "source": [
    "sub_query_pos"
   ]
  },
  {
   "cell_type": "code",
   "execution_count": 318,
   "metadata": {},
   "outputs": [
    {
     "data": {
      "text/plain": [
       "({'sfdc_accounts': 'SELECT MAX(dt) AS dt    FROM analytics.service_endpoint_mapping) a LEFT JOIN sfdc.accounts',\n",
       "  'b': 'analytics.service_endpoint_mapping) a LEFT JOIN sfdc.accounts sfdc_accounts ON sfdc_accounts.id = b.id INNER JOIN analytics.service_endpoint_mapping'},\n",
       " ['sfdc_accounts ON sfdc_accounts.id = b.id', 'b ON a.dt = b.dt'],\n",
       " [(1, 1), (2, 4), (3, 5)])"
      ]
     },
     "execution_count": 318,
     "metadata": {},
     "output_type": "execute_result"
    }
   ],
   "source": [
    "sub_query_pos = list(zip(pos_join, alias_pos))\n",
    "sub_query, keep = _parse_sub_query(query_list, sub_query_pos)\n",
    "sub_query, keep, sub_query_pos\n"
   ]
  },
  {
   "cell_type": "code",
   "execution_count": 203,
   "metadata": {},
   "outputs": [
    {
     "data": {
      "text/plain": [
       "[0, 1, 4]"
      ]
     },
     "execution_count": 203,
     "metadata": {},
     "output_type": "execute_result"
    }
   ],
   "source": [
    "main_query_pos = main_query(query_list, sub_query_pos)\n",
    "main_query_pos"
   ]
  },
  {
   "cell_type": "code",
   "execution_count": 204,
   "metadata": {},
   "outputs": [],
   "source": [
    "if main_query_pos != []:\n",
    "    sub_query['main'] = '\\n'.join([query_list[p] for p in main_query_pos])\n",
    "sub_query['main'] = sub_query['main'] + ' ' + '\\n'.join(keep)"
   ]
  },
  {
   "cell_type": "code",
   "execution_count": 205,
   "metadata": {},
   "outputs": [
    {
     "data": {
      "text/plain": [
       "{'a': 'SELECT MAX(dt) AS dt FROM analytics.service_endpoint_mapping',\n",
       " 'b': 'SELECT *    FROM sfdc.accounts) AS sfdc_accounts ON sfdc_accounts.dt = a.dt AND sfdc_accounts.id = a.acct_id LEFT JOIN analytics.service_endpoint_mapping',\n",
       " 'sfdc_accounts': 'sfdc.accounts',\n",
       " 'main': 'SELECT b.*\\nFROM\\nINNER JOIN b ON a.dt = b.dt\\nAS sfdc_accounts ON sfdc_accounts.dt = a.dt'}"
      ]
     },
     "execution_count": 205,
     "metadata": {},
     "output_type": "execute_result"
    }
   ],
   "source": [
    "sub_query"
   ]
  },
  {
   "cell_type": "code",
   "execution_count": null,
   "metadata": {},
   "outputs": [],
   "source": []
  }
 ],
 "metadata": {
  "kernelspec": {
   "display_name": "Python 3",
   "language": "python",
   "name": "python3"
  },
  "language_info": {
   "codemirror_mode": {
    "name": "ipython",
    "version": 3
   },
   "file_extension": ".py",
   "mimetype": "text/x-python",
   "name": "python",
   "nbconvert_exporter": "python",
   "pygments_lexer": "ipython3",
   "version": "3.7.4"
  }
 },
 "nbformat": 4,
 "nbformat_minor": 2
}
