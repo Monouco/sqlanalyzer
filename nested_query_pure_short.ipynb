{
 "cells": [
  {
   "cell_type": "code",
   "execution_count": 1,
   "metadata": {},
   "outputs": [],
   "source": [
    "from sqlanalyzer import column_parser\n",
    "import re\n",
    "import json\n",
    "import pandas as pd"
   ]
  },
  {
   "cell_type": "markdown",
   "metadata": {},
   "source": [
    "### debug"
   ]
  },
  {
   "cell_type": "code",
   "execution_count": 147,
   "metadata": {},
   "outputs": [],
   "source": [
    "query = \"\"\"SELECT\n",
    "      b.*\n",
    "      FROM\n",
    "      (\n",
    "        SELECT\n",
    "        MAX(dt) AS dt\n",
    "        FROM\n",
    "        analytics.service_endpoint_mapping\n",
    "      ) a\n",
    "      LEFT JOIN sfdc.accounts sfdc_accounts ON sfdc_accounts.id = b.id\n",
    "      INNER JOIN\n",
    "      analytics.service_endpoint_mapping b\n",
    "      ON\n",
    "      a.dt = b.dt\n",
    "      AND a.id = b.id\n",
    "      LEFT JOIN (\n",
    "        SELECT\n",
    "        account,\n",
    "        CONCAT_WS(',', COLLECT_SET(LOWER(service))) AS service\n",
    "        FROM\n",
    "        web_mobile_studio\n",
    "        GROUP BY\n",
    "        account\n",
    "      ) c\n",
    "      ON\n",
    "      a.account = c.account AND c.service = 'studio'\n",
    "      WHERE a.id = '123'\n",
    "      AND b.id = '234'\n",
    "      GROUP BY 1,2,3\n",
    "      ORDER BY 3,4\n",
    "\"\"\"\n"
   ]
  },
  {
   "cell_type": "code",
   "execution_count": 162,
   "metadata": {},
   "outputs": [],
   "source": [
    "query = \"\"\"SELECT a.*,\n",
    "             b.*,\n",
    "             c.*,\n",
    "             d.*\n",
    "      FROM\n",
    "        (SELECT DISTINCT anonymous_id,\n",
    "                         user_id\n",
    "         FROM mapbox_customer_data.segment_identifies\n",
    "         WHERE dt >= '2018-07-01'\n",
    "           AND anonymous_id IS NOT NULL\n",
    "           AND user_id IS NOT NULL ) a\n",
    "      LEFT JOIN\n",
    "        (SELECT id,\n",
    "                email,\n",
    "                created\n",
    "         FROM mapbox_customer_data.accounts\n",
    "         WHERE cast(dt AS DATE) = CURRENT_DATE - INTERVAL '1' DAY ) b ON a.user_id = b.id\n",
    "      LEFT JOIN\n",
    "        (SELECT anonymous_id AS anon_id_ad,\n",
    "                context_campaign_name,\n",
    "                min(TIMESTAMP) AS min_exposure\n",
    "         FROM mapbox_customer_data.segment_pages\n",
    "         WHERE dt >= '2018-07-01'\n",
    "           AND context_campaign_name IS NOT NULL\n",
    "         GROUP BY 1,\n",
    "                  2) c ON a.anonymous_id = c.anon_id_ad\n",
    "      LEFT JOIN\n",
    "        (SELECT DISTINCT anonymous_id AS anon_id_event,\n",
    "                         original_timestamp,\n",
    "                         event,\n",
    "                         context_traits_email\n",
    "         FROM mapbox_customer_data.segment_tracks\n",
    "         WHERE dt >= '2018-07-01'\n",
    "           AND event LIKE 'submitted_%form'\n",
    "           AND context_traits_email IS NOT NULL ) d ON a.anonymous_id = d.anon_id_event\n",
    "\"\"\""
   ]
  },
  {
   "cell_type": "code",
   "execution_count": 163,
   "metadata": {},
   "outputs": [
    {
     "name": "stdout",
     "output_type": "stream",
     "text": [
      "SELECT a.*,\n",
      "             b.*,\n",
      "             c.*,\n",
      "             d.*\n",
      "      FROM\n",
      "        (SELECT DISTINCT anonymous_id,\n",
      "                         user_id\n",
      "         FROM mapbox_customer_data.segment_identifies\n",
      "         WHERE dt >= '2018-07-01'\n",
      "           AND anonymous_id IS NOT NULL\n",
      "           AND user_id IS NOT NULL ) a\n",
      "      LEFT JOIN\n",
      "        (SELECT id,\n",
      "                email,\n",
      "                created\n",
      "         FROM mapbox_customer_data.accounts\n",
      "         WHERE cast(dt AS DATE) = CURRENT_DATE - INTERVAL '1' DAY ) b ON a.user_id = b.id\n",
      "      LEFT JOIN\n",
      "        (SELECT anonymous_id AS anon_id_ad,\n",
      "                context_campaign_name,\n",
      "                min(TIMESTAMP) AS min_exposure\n",
      "         FROM mapbox_customer_data.segment_pages\n",
      "         WHERE dt >= '2018-07-01'\n",
      "           AND context_campaign_name IS NOT NULL\n",
      "         GROUP BY 1,\n",
      "                  2) c ON a.anonymous_id = c.anon_id_ad\n",
      "      LEFT JOIN\n",
      "        (SELECT DISTINCT anonymous_id AS anon_id_event,\n",
      "                         original_timestamp,\n",
      "                         event,\n",
      "                         context_traits_email\n",
      "         FROM mapbox_customer_data.segment_tracks\n",
      "         WHERE dt >= '2018-07-01'\n",
      "           AND event LIKE 'submitted_%form'\n",
      "           AND context_traits_email IS NOT NULL ) d ON a.anonymous_id = d.anon_id_event\n",
      "\n"
     ]
    }
   ],
   "source": [
    "print(query)"
   ]
  },
  {
   "cell_type": "code",
   "execution_count": 126,
   "metadata": {},
   "outputs": [],
   "source": [
    "def within(num, rng):\n",
    "    if num >= min(rng) and num <= max(rng) and min(rng) < max(rng): return 1\n",
    "    else: return 0\n",
    "\n",
    "\n",
    "def is_cte(query):\n",
    "    return query.startswith('WITH')\n",
    "\n",
    "\n",
    "def clean_dict(query_dict):\n",
    "\n",
    "    for k,v in query_dict.items(): \n",
    "        if isinstance(v, dict) and len(v.keys()) == 1 and 'main' in v.keys():\n",
    "            query_dict[k] = v['main']\n",
    "            \n",
    "    return query_dict\n"
   ]
  },
  {
   "cell_type": "code",
   "execution_count": 127,
   "metadata": {},
   "outputs": [],
   "source": [
    "def main_query(query_list, sub_query_pos):\n",
    "\n",
    "    l = []\n",
    "    for i in range(len(query_list)): \n",
    "        count = 0\n",
    "        for pair in sorted(sub_query_pos):\n",
    "            count += within(i, pair)\n",
    "        if count == 0:\n",
    "            l.append(i)\n",
    "\n",
    "    return l\n",
    "\n",
    "\n",
    "def _get_joins_pos(query_list):\n",
    "\n",
    "    pos_delete, pos_where = [len(query_list)-1], len(query_list)\n",
    "    pos_join = []\n",
    "    for i, line in enumerate(query_list):\n",
    "        if line.startswith('ORDER') or line.startswith('GROUP'):\n",
    "            pos_delete.append(i)\n",
    "        elif line.startswith('FROM') and len(line.split(' ')) > 1:\n",
    "            pos_join.append(i)\n",
    "\n",
    "        elif line.startswith('FROM') and len(line.split(' ')) == 1:\n",
    "            pos_join.append(i)\n",
    "            for i2,line2 in enumerate(query_list[i+1:]):\n",
    "                if line2.startswith(' '): pos_join.append(i2+i+1)\n",
    "                else: break\n",
    "\n",
    "        elif line.startswith('WHERE'):\n",
    "            pos_where = i\n",
    "        elif line.startswith('LEFT JOIN') or line.startswith('INNER JOIN') or line.startswith('FULL OUTER JOIN') or line.startswith('RIGHT JOIN'):\n",
    "            pos_join.append(i)\n",
    "            for i3,line3 in enumerate(query_list[i+1:]):\n",
    "                if line3.startswith(' '): pos_join.append(i3+i+1)\n",
    "                else: break\n",
    "\n",
    "    if min(pos_delete) == len(query_list)-1:\n",
    "        pos_join.append(min(pos_delete))\n",
    "    else:\n",
    "        pass\n",
    "\n",
    "    return sorted(list(set(pos_join))), pos_where\n",
    "\n",
    "\n",
    "def _get_alias_pos(query_list, pos_join, pos_where):\n",
    "\n",
    "    pos_join_list = iter(pos_join)\n",
    "    next(pos_join_list)\n",
    "    alias_pos = []\n",
    "\n",
    "    if query_list[pos_join[0]].startswith('FROM'):\n",
    "        alias_pos.append(pos_join[0])\n",
    "\n",
    "    for i in range(len(pos_join)-1):\n",
    "        if i < len(pos_join)-2 and pos_join[i] < pos_where:\n",
    "            end_pos = next(pos_join_list)-1\n",
    "            alias_pos.append(end_pos-1)\n",
    "\n",
    "        elif pos_join[-1] >= pos_where:\n",
    "            end_pos = next(pos_join_list)-1\n",
    "            alias_pos.append(pos_where - 1)\n",
    "\n",
    "        else:\n",
    "            end_pos = pos_join[-1]\n",
    "            alias_pos.append(pos_where-1)\n",
    "\n",
    "    alias_pos = sorted(list(set(alias_pos)))\n",
    "\n",
    "    return alias_pos\n",
    "\n",
    "\n",
    "def _parse_sub_query(query_list, sub_query_pos):\n",
    "\n",
    "    sub_query = {}\n",
    "    keep = []\n",
    "    for _, sub_pos in enumerate(sub_query_pos):\n",
    "        alias = query_list[sub_pos[1]]\n",
    "        query = query_list[sub_pos[0]: sub_pos[1]]\n",
    "\n",
    "        try:\n",
    "            alias_list_rev = alias.split(' ')[::-1]\n",
    "            if alias_list_rev[0][-1] != ')':\n",
    "                alias_index = alias_list_rev.index('ON')\n",
    "                alias = alias_list_rev[alias_index+1]\n",
    "\n",
    "                if alias_list_rev[alias_index+2] == 'AS':\n",
    "                    keep.append(' '.join(alias_list_rev[:alias_index+3][::-1]))\n",
    "                    del alias_list_rev[:alias_index+3]\n",
    "\n",
    "                else:\n",
    "                    keep.append(' '.join(alias_list_rev[:alias_index+2][::-1]))\n",
    "                    del alias_list_rev[:alias_index+2]\n",
    "\n",
    "                query.append(' '.join(alias_list_rev[::-1]).rstrip(r'\\)').lstrip(' '))\n",
    "\n",
    "            else:\n",
    "                alias_list_rev[0] = alias_list_rev[0].rstrip(r'\\)')\n",
    "                alias = 'no alias'\n",
    "                query.append(' '.join(alias_list_rev[::-1]))\n",
    "\n",
    "        except:\n",
    "            query.append(' '.join(alias.split(' ')[:-1]).rstrip(r'\\)').lstrip(' '))\n",
    "            alias = alias.split(' ')[-1]\n",
    "\n",
    "        trans_query = ' '.join(query).lstrip(r' \\(').lstrip(' FROM')\n",
    "\n",
    "        if trans_query == '':\n",
    "            sub_query = {}\n",
    "        else:\n",
    "            sub_query[alias] = trans_query\n",
    "\n",
    "    return sub_query, keep\n",
    "\n",
    "\n",
    "def delevel(query_list):\n",
    "\n",
    "    sub_query = {}\n",
    "    pos_join, pos_where = _get_joins_pos(query_list)\n",
    "    alias_pos = _get_alias_pos(query_list, pos_join, pos_where)\n",
    "    sub_query_pos = list(zip(pos_join, alias_pos))\n",
    "    sub_query, keep = _parse_sub_query(query_list, sub_query_pos)\n",
    "    main_query_pos = main_query(query_list, sub_query_pos)\n",
    "    if main_query_pos != []:\n",
    "        sub_query['main'] = '\\n'.join([query_list[p] for p in main_query_pos])\n",
    "    sub_query['main'] = sub_query['main'] + ' ' + '\\n'.join(keep)\n",
    "\n",
    "    return sub_query\n",
    "\n",
    "\n",
    "def has_child(formatted_query):\n",
    "\n",
    "    count = 0\n",
    "    deleveled_list = delevel(formatted_query.split('\\n'))\n",
    "    if len(deleveled_list.keys()) > 1:\n",
    "        for _,v in deleveled_list.items():\n",
    "            if v != {}: count += 1\n",
    "\n",
    "    return count != 0\n",
    "\n",
    "\n"
   ]
  },
  {
   "cell_type": "code",
   "execution_count": 164,
   "metadata": {},
   "outputs": [],
   "source": [
    "# def extract_query_dict(query):\n",
    "\n",
    "formatter = column_parser.Parser(query)\n",
    "formatted_query = formatter.format_query(query)\n",
    "query_list_0 = formatted_query.split('\\n')\n",
    "query_dict = {}\n"
   ]
  },
  {
   "cell_type": "code",
   "execution_count": 165,
   "metadata": {},
   "outputs": [
    {
     "name": "stdout",
     "output_type": "stream",
     "text": [
      "0 SELECT a.*,\n",
      "1        b.*,\n",
      "2        c.*,\n",
      "3        d.*\n",
      "4 FROM\n",
      "5   (SELECT DISTINCT anonymous_id,\n",
      "6                    user_id\n",
      "7    FROM mapbox_customer_data.segment_identifies\n",
      "8    WHERE dt >= '2018-07-01'\n",
      "9      AND anonymous_id IS NOT NULL\n",
      "10      AND user_id IS NOT NULL ) a\n",
      "11 LEFT JOIN\n",
      "12   (SELECT id,\n",
      "13           email,\n",
      "14           created\n",
      "15    FROM mapbox_customer_data.accounts\n",
      "16    WHERE cast(dt AS DATE) = CURRENT_DATE - INTERVAL '1' DAY ) b ON a.user_id = b.id\n",
      "17 LEFT JOIN\n",
      "18   (SELECT anonymous_id AS anon_id_ad,\n",
      "19           context_campaign_name,\n",
      "20           min(TIMESTAMP) AS min_exposure\n",
      "21    FROM mapbox_customer_data.segment_pages\n",
      "22    WHERE dt >= '2018-07-01'\n",
      "23      AND context_campaign_name IS NOT NULL\n",
      "24    GROUP BY 1,\n",
      "25             2) c ON a.anonymous_id = c.anon_id_ad\n",
      "26 LEFT JOIN\n",
      "27   (SELECT DISTINCT anonymous_id AS anon_id_event,\n",
      "28                    original_timestamp,\n",
      "29                    event,\n",
      "30                    context_traits_email\n",
      "31    FROM mapbox_customer_data.segment_tracks\n",
      "32    WHERE dt >= '2018-07-01'\n",
      "33      AND event LIKE 'submitted_%form'\n",
      "34      AND context_traits_email IS NOT NULL ) d ON a.anonymous_id = d.anon_id_event\n"
     ]
    }
   ],
   "source": [
    "for i,line in enumerate(query_list_0): print(i, line)"
   ]
  },
  {
   "cell_type": "code",
   "execution_count": 166,
   "metadata": {},
   "outputs": [],
   "source": [
    "# sub_query = delevel(query_list_0)\n",
    "# query_dict = sub_query\n",
    "# query_dict"
   ]
  },
  {
   "cell_type": "code",
   "execution_count": 167,
   "metadata": {},
   "outputs": [],
   "source": [
    "query_list = query_list_0"
   ]
  },
  {
   "cell_type": "code",
   "execution_count": 168,
   "metadata": {},
   "outputs": [
    {
     "data": {
      "text/plain": [
       "([4,\n",
       "  5,\n",
       "  6,\n",
       "  7,\n",
       "  8,\n",
       "  9,\n",
       "  10,\n",
       "  11,\n",
       "  12,\n",
       "  13,\n",
       "  14,\n",
       "  15,\n",
       "  16,\n",
       "  17,\n",
       "  18,\n",
       "  19,\n",
       "  20,\n",
       "  21,\n",
       "  22,\n",
       "  23,\n",
       "  24,\n",
       "  25,\n",
       "  26,\n",
       "  27,\n",
       "  28,\n",
       "  29,\n",
       "  30,\n",
       "  31,\n",
       "  32,\n",
       "  33,\n",
       "  34],\n",
       " 35)"
      ]
     },
     "execution_count": 168,
     "metadata": {},
     "output_type": "execute_result"
    }
   ],
   "source": [
    "# delevel\n",
    "sub_query = {}\n",
    "pos_join, pos_where = _get_joins_pos(query_list)\n",
    "pos_join, pos_where"
   ]
  },
  {
   "cell_type": "code",
   "execution_count": 169,
   "metadata": {},
   "outputs": [],
   "source": [
    "# alias_pos = _get_alias_pos(query_list, pos_join, pos_where)\n",
    "# alias_pos"
   ]
  },
  {
   "cell_type": "markdown",
   "metadata": {},
   "source": [
    "## new: start get_joins"
   ]
  },
  {
   "cell_type": "code",
   "execution_count": 313,
   "metadata": {},
   "outputs": [
    {
     "name": "stdout",
     "output_type": "stream",
     "text": [
      "0 SELECT a.*,\n",
      "1        b.*,\n",
      "2        c.*,\n",
      "3        d.*\n",
      "4 FROM\n",
      "5   (SELECT DISTINCT anonymous_id,\n",
      "6                    user_id\n",
      "7    FROM mapbox_customer_data.segment_identifies\n",
      "8    WHERE dt >= '2018-07-01'\n",
      "9      AND anonymous_id IS NOT NULL\n",
      "10      AND user_id IS NOT NULL ) a\n",
      "11 LEFT JOIN\n",
      "12   (SELECT id,\n",
      "13           email,\n",
      "14           created\n",
      "15    FROM mapbox_customer_data.accounts\n",
      "16    WHERE cast(dt AS DATE) = CURRENT_DATE - INTERVAL '1' DAY ) b ON a.user_id = b.id\n",
      "17 LEFT JOIN\n",
      "18   (SELECT anonymous_id AS anon_id_ad,\n",
      "19           context_campaign_name,\n",
      "20           min(TIMESTAMP) AS min_exposure\n",
      "21    FROM mapbox_customer_data.segment_pages\n",
      "22    WHERE dt >= '2018-07-01'\n",
      "23      AND context_campaign_name IS NOT NULL\n",
      "24    GROUP BY 1,\n",
      "25             2) c ON a.anonymous_id = c.anon_id_ad\n",
      "26 LEFT JOIN\n",
      "27   (SELECT DISTINCT anonymous_id AS anon_id_event,\n",
      "28                    original_timestamp,\n",
      "29                    event,\n",
      "30                    context_traits_email\n",
      "31    FROM mapbox_customer_data.segment_tracks\n",
      "32    WHERE dt >= '2018-07-01'\n",
      "33      AND event LIKE 'submitted_%form'\n",
      "34      AND context_traits_email IS NOT NULL ) d ON a.anonymous_id = d.anon_id_event\n"
     ]
    }
   ],
   "source": [
    "for i, l in enumerate(query_list): print(i, l)"
   ]
  },
  {
   "cell_type": "code",
   "execution_count": 329,
   "metadata": {},
   "outputs": [],
   "source": [
    "pos_delete, pos_where = [len(query_list)-1], len(query_list)\n",
    "\n",
    "for i, line in enumerate(query_list):\n",
    "    if line.startswith('ORDER') or line.startswith('GROUP'):\n",
    "        pos_delete.append(i)    \n",
    "    elif line.startswith('WHERE'):\n",
    "        pos_where = i\n",
    "\n",
    "end_of_query = min(pos_delete) \n"
   ]
  },
  {
   "cell_type": "code",
   "execution_count": 330,
   "metadata": {},
   "outputs": [],
   "source": [
    "join_dict = {}\n",
    "copy_query_list = query_list.copy()\n",
    "main = next((s for s in copy_query_list if s.startswith('FROM')), 'end of query')\n",
    "main_pos = copy_query_list.index(main)\n",
    "main_query = copy_query_list[:main_pos+1]\n",
    "main_query.extend(copy_query_list[pos_where:end_of_query])\n",
    "del copy_query_list[:main_pos]\n",
    "del copy_query_list[(pos_where-main_pos):]\n",
    "           "
   ]
  },
  {
   "cell_type": "code",
   "execution_count": 331,
   "metadata": {},
   "outputs": [
    {
     "data": {
      "text/plain": [
       "['FROM',\n",
       " '  (SELECT DISTINCT anonymous_id,',\n",
       " '                   user_id',\n",
       " '   FROM mapbox_customer_data.segment_identifies',\n",
       " \"   WHERE dt >= '2018-07-01'\",\n",
       " '     AND anonymous_id IS NOT NULL',\n",
       " '     AND user_id IS NOT NULL ) a',\n",
       " 'LEFT JOIN',\n",
       " '  (SELECT id,',\n",
       " '          email,',\n",
       " '          created',\n",
       " '   FROM mapbox_customer_data.accounts',\n",
       " \"   WHERE cast(dt AS DATE) = CURRENT_DATE - INTERVAL '1' DAY ) b ON a.user_id = b.id\",\n",
       " 'LEFT JOIN',\n",
       " '  (SELECT anonymous_id AS anon_id_ad,',\n",
       " '          context_campaign_name,',\n",
       " '          min(TIMESTAMP) AS min_exposure',\n",
       " '   FROM mapbox_customer_data.segment_pages',\n",
       " \"   WHERE dt >= '2018-07-01'\",\n",
       " '     AND context_campaign_name IS NOT NULL',\n",
       " '   GROUP BY 1,',\n",
       " '            2) c ON a.anonymous_id = c.anon_id_ad',\n",
       " 'LEFT JOIN',\n",
       " '  (SELECT DISTINCT anonymous_id AS anon_id_event,',\n",
       " '                   original_timestamp,',\n",
       " '                   event,',\n",
       " '                   context_traits_email',\n",
       " '   FROM mapbox_customer_data.segment_tracks',\n",
       " \"   WHERE dt >= '2018-07-01'\",\n",
       " \"     AND event LIKE 'submitted_%form'\",\n",
       " '     AND context_traits_email IS NOT NULL ) d ON a.anonymous_id = d.anon_id_event']"
      ]
     },
     "execution_count": 331,
     "metadata": {},
     "output_type": "execute_result"
    }
   ],
   "source": [
    "copy_query_list"
   ]
  },
  {
   "cell_type": "code",
   "execution_count": 317,
   "metadata": {},
   "outputs": [],
   "source": [
    "def landmark(line):\n",
    "    if line.startswith('FROM'):\n",
    "        return True\n",
    "    elif line.startswith('LEFT JOIN'):\n",
    "        return True\n",
    "    elif line.startswith('INNER JOIN'):\n",
    "        return True\n",
    "    elif line.startswith('OUTER JOIN'):\n",
    "        return True\n",
    "    elif line.startswith('RIGHT JOIN'):\n",
    "        return True\n",
    "    elif line.startswith('CROSS JOIN'):\n",
    "        return True\n",
    "    elif line.startswith('FULL JOIN'):\n",
    "        return True\n",
    "    elif line.startswith('FULL OUTER JOIN'):\n",
    "        return True\n",
    "    "
   ]
  },
  {
   "cell_type": "code",
   "execution_count": 318,
   "metadata": {},
   "outputs": [],
   "source": [
    "def divide(copy_query_list):\n",
    "    sub_join = []\n",
    "    for i, line in enumerate(copy_query_list): \n",
    "\n",
    "        if landmark(line):\n",
    "            sub_join.append(line)\n",
    "            del copy_query_list[:i+1]\n",
    "            join_query = next((s for s in copy_query_list if not s.startswith(' ')), 'end of query')\n",
    "            try:\n",
    "                join_pos = copy_query_list.index(join_query)\n",
    "                sub_join.extend(copy_query_list[:join_pos])\n",
    "                del copy_query_list[:join_pos]\n",
    "                break\n",
    "            except: \n",
    "                sub_join.extend(copy_query_list)\n",
    "                del copy_query_list[:]\n",
    "                break\n",
    "\n",
    "            \n",
    "    return sub_join, copy_query_list\n"
   ]
  },
  {
   "cell_type": "code",
   "execution_count": 332,
   "metadata": {},
   "outputs": [],
   "source": [
    "i = 0\n",
    "join_dict = {}\n",
    "new_copy_query_list = copy_query_list\n",
    "sub_join = [1]\n",
    "while copy_query_list != []:\n",
    "    i += 1\n",
    "    sub_join, new_copy_query_list = divide(new_copy_query_list)\n",
    "    join_dict['join_{}'.format(i)] = '\\n'.join(sub_join)\n"
   ]
  },
  {
   "cell_type": "code",
   "execution_count": 333,
   "metadata": {},
   "outputs": [
    {
     "data": {
      "text/plain": [
       "{'join_1': \"FROM\\n  (SELECT DISTINCT anonymous_id,\\n                   user_id\\n   FROM mapbox_customer_data.segment_identifies\\n   WHERE dt >= '2018-07-01'\\n     AND anonymous_id IS NOT NULL\\n     AND user_id IS NOT NULL ) a\",\n",
       " 'join_2': \"LEFT JOIN\\n  (SELECT id,\\n          email,\\n          created\\n   FROM mapbox_customer_data.accounts\\n   WHERE cast(dt AS DATE) = CURRENT_DATE - INTERVAL '1' DAY ) b ON a.user_id = b.id\",\n",
       " 'join_3': \"LEFT JOIN\\n  (SELECT anonymous_id AS anon_id_ad,\\n          context_campaign_name,\\n          min(TIMESTAMP) AS min_exposure\\n   FROM mapbox_customer_data.segment_pages\\n   WHERE dt >= '2018-07-01'\\n     AND context_campaign_name IS NOT NULL\\n   GROUP BY 1,\\n            2) c ON a.anonymous_id = c.anon_id_ad\",\n",
       " 'join_4': \"LEFT JOIN\\n  (SELECT DISTINCT anonymous_id AS anon_id_event,\\n                   original_timestamp,\\n                   event,\\n                   context_traits_email\\n   FROM mapbox_customer_data.segment_tracks\\n   WHERE dt >= '2018-07-01'\\n     AND event LIKE 'submitted_%form'\\n     AND context_traits_email IS NOT NULL ) d ON a.anonymous_id = d.anon_id_event\"}"
      ]
     },
     "execution_count": 333,
     "metadata": {},
     "output_type": "execute_result"
    }
   ],
   "source": [
    "join_dict"
   ]
  },
  {
   "cell_type": "code",
   "execution_count": 237,
   "metadata": {},
   "outputs": [],
   "source": [
    "sub_join, new_copy_query_list = divide(copy_query_list)\n",
    "join_dict['join_{}'.format('2')] = '\\n'.join(sub_join)"
   ]
  },
  {
   "cell_type": "code",
   "execution_count": 238,
   "metadata": {
    "scrolled": true
   },
   "outputs": [],
   "source": [
    "sub_join, new_copy_query_list = divide(copy_query_list)\n",
    "join_dict['join_{}'.format('3')] = '\\n'.join(sub_join)"
   ]
  },
  {
   "cell_type": "code",
   "execution_count": 239,
   "metadata": {},
   "outputs": [
    {
     "ename": "ValueError",
     "evalue": "'end of query' is not in list",
     "output_type": "error",
     "traceback": [
      "\u001b[0;31m---------------------------------------------------------------------------\u001b[0m",
      "\u001b[0;31mValueError\u001b[0m                                Traceback (most recent call last)",
      "\u001b[0;32m<ipython-input-239-eedcb101ed46>\u001b[0m in \u001b[0;36m<module>\u001b[0;34m\u001b[0m\n\u001b[0;32m----> 1\u001b[0;31m \u001b[0msub_join\u001b[0m\u001b[0;34m,\u001b[0m \u001b[0mnew_copy_query_list\u001b[0m \u001b[0;34m=\u001b[0m \u001b[0mdivide\u001b[0m\u001b[0;34m(\u001b[0m\u001b[0mcopy_query_list\u001b[0m\u001b[0;34m)\u001b[0m\u001b[0;34m\u001b[0m\u001b[0;34m\u001b[0m\u001b[0m\n\u001b[0m\u001b[1;32m      2\u001b[0m \u001b[0mjoin_dict\u001b[0m\u001b[0;34m[\u001b[0m\u001b[0;34m'join_{}'\u001b[0m\u001b[0;34m.\u001b[0m\u001b[0mformat\u001b[0m\u001b[0;34m(\u001b[0m\u001b[0;34m'4'\u001b[0m\u001b[0;34m)\u001b[0m\u001b[0;34m]\u001b[0m \u001b[0;34m=\u001b[0m \u001b[0;34m'\\n'\u001b[0m\u001b[0;34m.\u001b[0m\u001b[0mjoin\u001b[0m\u001b[0;34m(\u001b[0m\u001b[0msub_join\u001b[0m\u001b[0;34m)\u001b[0m\u001b[0;34m\u001b[0m\u001b[0;34m\u001b[0m\u001b[0m\n",
      "\u001b[0;32m<ipython-input-235-4c39551c5035>\u001b[0m in \u001b[0;36mdivide\u001b[0;34m(copy_query_list)\u001b[0m\n\u001b[1;32m      8\u001b[0m             \u001b[0mjoin_query\u001b[0m \u001b[0;34m=\u001b[0m \u001b[0mnext\u001b[0m\u001b[0;34m(\u001b[0m\u001b[0;34m(\u001b[0m\u001b[0ms\u001b[0m \u001b[0;32mfor\u001b[0m \u001b[0ms\u001b[0m \u001b[0;32min\u001b[0m \u001b[0mcopy_query_list\u001b[0m \u001b[0;32mif\u001b[0m \u001b[0;32mnot\u001b[0m \u001b[0ms\u001b[0m\u001b[0;34m.\u001b[0m\u001b[0mstartswith\u001b[0m\u001b[0;34m(\u001b[0m\u001b[0;34m' '\u001b[0m\u001b[0;34m)\u001b[0m\u001b[0;34m)\u001b[0m\u001b[0;34m,\u001b[0m \u001b[0;34m'end of query'\u001b[0m\u001b[0;34m)\u001b[0m\u001b[0;34m\u001b[0m\u001b[0;34m\u001b[0m\u001b[0m\n\u001b[1;32m      9\u001b[0m \u001b[0;31m#             try:\u001b[0m\u001b[0;34m\u001b[0m\u001b[0;34m\u001b[0m\u001b[0;34m\u001b[0m\u001b[0m\n\u001b[0;32m---> 10\u001b[0;31m             \u001b[0mjoin_pos\u001b[0m \u001b[0;34m=\u001b[0m \u001b[0mcopy_query_list\u001b[0m\u001b[0;34m.\u001b[0m\u001b[0mindex\u001b[0m\u001b[0;34m(\u001b[0m\u001b[0mjoin_query\u001b[0m\u001b[0;34m)\u001b[0m\u001b[0;34m\u001b[0m\u001b[0;34m\u001b[0m\u001b[0m\n\u001b[0m\u001b[1;32m     11\u001b[0m             \u001b[0msub_join\u001b[0m\u001b[0;34m.\u001b[0m\u001b[0mextend\u001b[0m\u001b[0;34m(\u001b[0m\u001b[0mcopy_query_list\u001b[0m\u001b[0;34m[\u001b[0m\u001b[0;34m:\u001b[0m\u001b[0mjoin_pos\u001b[0m\u001b[0;34m]\u001b[0m\u001b[0;34m)\u001b[0m\u001b[0;34m\u001b[0m\u001b[0;34m\u001b[0m\u001b[0m\n\u001b[1;32m     12\u001b[0m             \u001b[0;32mdel\u001b[0m \u001b[0mcopy_query_list\u001b[0m\u001b[0;34m[\u001b[0m\u001b[0;34m:\u001b[0m\u001b[0mjoin_pos\u001b[0m\u001b[0;34m]\u001b[0m\u001b[0;34m\u001b[0m\u001b[0;34m\u001b[0m\u001b[0m\n",
      "\u001b[0;31mValueError\u001b[0m: 'end of query' is not in list"
     ]
    }
   ],
   "source": [
    "sub_join, new_copy_query_list = divide(copy_query_list)\n",
    "join_dict['join_{}'.format('4')] = '\\n'.join(sub_join)"
   ]
  },
  {
   "cell_type": "code",
   "execution_count": 246,
   "metadata": {},
   "outputs": [
    {
     "data": {
      "text/plain": [
       "[]"
      ]
     },
     "execution_count": 246,
     "metadata": {},
     "output_type": "execute_result"
    }
   ],
   "source": [
    "sub_join, new_copy_query_list = divide(copy_query_list)\n",
    "sub_join"
   ]
  },
  {
   "cell_type": "code",
   "execution_count": 259,
   "metadata": {},
   "outputs": [
    {
     "data": {
      "text/plain": [
       "{}"
      ]
     },
     "execution_count": 259,
     "metadata": {},
     "output_type": "execute_result"
    }
   ],
   "source": [
    "join_dict"
   ]
  },
  {
   "cell_type": "markdown",
   "metadata": {},
   "source": [
    "## end get_joins"
   ]
  },
  {
   "cell_type": "code",
   "execution_count": 22,
   "metadata": {},
   "outputs": [
    {
     "name": "stdout",
     "output_type": "stream",
     "text": [
      "0 SELECT b.*\n",
      "1 FROM\n",
      "2   (SELECT MAX(dt) AS dt\n",
      "3    FROM analytics.service_endpoint_mapping) a\n",
      "4 LEFT JOIN sfdc.accounts sfdc_accounts ON sfdc_accounts.id = b.id\n",
      "5 INNER JOIN analytics.service_endpoint_mapping b ON a.dt = b.dt\n",
      "6 AND a.id = b.id\n",
      "7 LEFT JOIN\n",
      "8   (SELECT account,\n",
      "9           CONCAT_WS(',', COLLECT_SET(LOWER(service))) AS service\n",
      "10    FROM web_mobile_studio\n",
      "11    GROUP BY account) c ON a.account = c.account\n",
      "12 AND c.service = 'studio'\n",
      "13 WHERE a.id = '123'\n",
      "14   AND b.id = '234'\n",
      "15 GROUP BY 1,\n",
      "16          2,\n",
      "17          3\n",
      "18 ORDER BY 3,\n",
      "19          4\n"
     ]
    }
   ],
   "source": [
    "for i,line in enumerate(query_list_0): print(i, line)"
   ]
  },
  {
   "cell_type": "code",
   "execution_count": 320,
   "metadata": {},
   "outputs": [
    {
     "data": {
      "text/plain": [
       "[(1, 1), (2, 4), (3, 5)]"
      ]
     },
     "execution_count": 320,
     "metadata": {},
     "output_type": "execute_result"
    }
   ],
   "source": [
    "sub_query_pos"
   ]
  },
  {
   "cell_type": "code",
   "execution_count": 318,
   "metadata": {},
   "outputs": [
    {
     "data": {
      "text/plain": [
       "({'sfdc_accounts': 'SELECT MAX(dt) AS dt    FROM analytics.service_endpoint_mapping) a LEFT JOIN sfdc.accounts',\n",
       "  'b': 'analytics.service_endpoint_mapping) a LEFT JOIN sfdc.accounts sfdc_accounts ON sfdc_accounts.id = b.id INNER JOIN analytics.service_endpoint_mapping'},\n",
       " ['sfdc_accounts ON sfdc_accounts.id = b.id', 'b ON a.dt = b.dt'],\n",
       " [(1, 1), (2, 4), (3, 5)])"
      ]
     },
     "execution_count": 318,
     "metadata": {},
     "output_type": "execute_result"
    }
   ],
   "source": [
    "sub_query_pos = list(zip(pos_join, alias_pos))\n",
    "sub_query, keep = _parse_sub_query(query_list, sub_query_pos)\n",
    "sub_query, keep, sub_query_pos\n"
   ]
  },
  {
   "cell_type": "code",
   "execution_count": 203,
   "metadata": {},
   "outputs": [
    {
     "data": {
      "text/plain": [
       "[0, 1, 4]"
      ]
     },
     "execution_count": 203,
     "metadata": {},
     "output_type": "execute_result"
    }
   ],
   "source": [
    "main_query_pos = main_query(query_list, sub_query_pos)\n",
    "main_query_pos"
   ]
  },
  {
   "cell_type": "code",
   "execution_count": 204,
   "metadata": {},
   "outputs": [],
   "source": [
    "if main_query_pos != []:\n",
    "    sub_query['main'] = '\\n'.join([query_list[p] for p in main_query_pos])\n",
    "sub_query['main'] = sub_query['main'] + ' ' + '\\n'.join(keep)"
   ]
  },
  {
   "cell_type": "code",
   "execution_count": 205,
   "metadata": {},
   "outputs": [
    {
     "data": {
      "text/plain": [
       "{'a': 'SELECT MAX(dt) AS dt FROM analytics.service_endpoint_mapping',\n",
       " 'b': 'SELECT *    FROM sfdc.accounts) AS sfdc_accounts ON sfdc_accounts.dt = a.dt AND sfdc_accounts.id = a.acct_id LEFT JOIN analytics.service_endpoint_mapping',\n",
       " 'sfdc_accounts': 'sfdc.accounts',\n",
       " 'main': 'SELECT b.*\\nFROM\\nINNER JOIN b ON a.dt = b.dt\\nAS sfdc_accounts ON sfdc_accounts.dt = a.dt'}"
      ]
     },
     "execution_count": 205,
     "metadata": {},
     "output_type": "execute_result"
    }
   ],
   "source": [
    "sub_query"
   ]
  },
  {
   "cell_type": "code",
   "execution_count": null,
   "metadata": {},
   "outputs": [],
   "source": []
  }
 ],
 "metadata": {
  "kernelspec": {
   "display_name": "Python 3",
   "language": "python",
   "name": "python3"
  },
  "language_info": {
   "codemirror_mode": {
    "name": "ipython",
    "version": 3
   },
   "file_extension": ".py",
   "mimetype": "text/x-python",
   "name": "python",
   "nbconvert_exporter": "python",
   "pygments_lexer": "ipython3",
   "version": "3.7.4"
  }
 },
 "nbformat": 4,
 "nbformat_minor": 2
}
