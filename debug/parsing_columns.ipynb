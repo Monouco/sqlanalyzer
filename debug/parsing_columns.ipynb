{
 "cells": [
  {
   "cell_type": "code",
   "execution_count": 1,
   "metadata": {},
   "outputs": [],
   "source": [
    "import json\n",
    "import pandas as pd\n",
    "from sqlanalyzer import column_parser, query_analyzer"
   ]
  },
  {
   "cell_type": "code",
   "execution_count": 2,
   "metadata": {},
   "outputs": [],
   "source": [
    "def extract_subquery_fields(query, db_fields, **kwargs):\n",
    "    formatter = column_parser.Parser(query)\n",
    "    formatted = formatter.format_query(query)\n",
    "    fields = formatter.match_queried_fields(formatted, db_fields, **kwargs)\n",
    "    return fields\n",
    "\n",
    "\n",
    "def unnest_query_list(query_list):\n",
    "    preprocess_list = []\n",
    "    \n",
    "    for q in query_list:\n",
    "        for _, query in q.items():\n",
    "            \n",
    "            if isinstance(query, str):\n",
    "                preprocess_list.append(query)\n",
    "            else:\n",
    "                \n",
    "                for sub_q in query:\n",
    "                    sub_list = []\n",
    "                    for _, sub_query in sub_q.items():\n",
    "                        \n",
    "                        if isinstance(sub_query, str):\n",
    "                            sub_list.append(sub_query)\n",
    "                            \n",
    "                        else:\n",
    "                            for sub_sub_q in sub_query:\n",
    "                                for _, sub_sub_query in sub_sub_q.items():\n",
    "                                    \n",
    "                                    if isinstance(sub_sub_query, str):\n",
    "                                        sub_list.append(sub_sub_query)\n",
    "                                        \n",
    "                    preprocess_list.extend(sub_list)\n",
    "                    \n",
    "    return preprocess_list\n",
    "    "
   ]
  },
  {
   "cell_type": "code",
   "execution_count": 3,
   "metadata": {
    "scrolled": false
   },
   "outputs": [],
   "source": [
    "# query = open('active_devs.sql').read()\n",
    "query = \"\"\"SELECT rrr.*,\n",
    "       CASE\n",
    "           WHEN entexc.sfdc_acct_id IS NOT NULL THEN TRUE\n",
    "           ELSE FALSE\n",
    "       END AS ent_exception,\n",
    "       CASE\n",
    "           WHEN pfree.mbx_acct_id IS NOT NULL THEN TRUE\n",
    "           ELSE FALSE\n",
    "       END AS paygo_free,\n",
    "       meta.sku_type\n",
    "FROM analytics.rack_rate_revenue rrr\n",
    "LEFT JOIN enterprise_exception entexc ON rrr.sfdc_acct_id = entexc.sfdc_acct_id\n",
    "AND rrr.mbx_acct_lvl = 'enterprise'\n",
    "LEFT JOIN paygo_free pfree ON rrr.mbx_acct_id = pfree.mbx_acct_id\n",
    "AND pfree.date_month BETWEEN DATE_ADD('month', -1, DATE(vdate)) AND DATE_ADD('day', -1, DATE(vdate))\n",
    "LEFT JOIN analytics.sku_metadata meta ON rrr.sku_id = meta.sku_id\n",
    "WHERE rrr.dt = '2020-06-30'\n",
    "\"\"\"\n",
    "formatter = column_parser.Parser(query)\n",
    "formatted_query = formatter.format_query(query)\n",
    "cte_queries = formatter.parse_cte(formatted_query)\n"
   ]
  },
  {
   "cell_type": "code",
   "execution_count": null,
   "metadata": {},
   "outputs": [],
   "source": [
    "with open('./data.json', 'r') as f:\n",
    "    query_dict = json.load(f)"
   ]
  },
  {
   "cell_type": "code",
   "execution_count": null,
   "metadata": {
    "scrolled": true
   },
   "outputs": [],
   "source": [
    "print(json.dumps(query_dict, indent=2), '\\n\\n\\n')"
   ]
  },
  {
   "cell_type": "code",
   "execution_count": null,
   "metadata": {
    "scrolled": true
   },
   "outputs": [],
   "source": [
    "query_dict.keys()"
   ]
  },
  {
   "cell_type": "code",
   "execution_count": 4,
   "metadata": {},
   "outputs": [
    {
     "name": "stdout",
     "output_type": "stream",
     "text": [
      "SELECT rrr.*,\n",
      "       CASE\n",
      "           WHEN entexc.sfdc_acct_id IS NOT NULL THEN TRUE\n",
      "           ELSE FALSE\n",
      "       END AS ent_exception,\n",
      "       CASE\n",
      "           WHEN pfree.mbx_acct_id IS NOT NULL THEN TRUE\n",
      "           ELSE FALSE\n",
      "       END AS paygo_free,\n",
      "       meta.sku_type\n",
      "FROM analytics.rack_rate_revenue rrr\n",
      "LEFT JOIN enterprise_exception entexc ON rrr.sfdc_acct_id = entexc.sfdc_acct_id\n",
      "AND rrr.mbx_acct_lvl = 'enterprise'\n",
      "LEFT JOIN paygo_free pfree ON rrr.mbx_acct_id = pfree.mbx_acct_id\n",
      "AND pfree.date_month BETWEEN DATE_ADD('month', -1, DATE(vdate)) AND DATE_ADD('day', -1, DATE(vdate))\n",
      "LEFT JOIN analytics.sku_metadata meta ON rrr.sku_id = meta.sku_id\n",
      "WHERE rrr.dt = '2020-06-30'\n"
     ]
    }
   ],
   "source": [
    "print(cte_queries['main_query'])"
   ]
  },
  {
   "cell_type": "markdown",
   "metadata": {},
   "source": [
    "## metastore "
   ]
  },
  {
   "cell_type": "code",
   "execution_count": 5,
   "metadata": {},
   "outputs": [],
   "source": [
    "db_fields_1 = pd.DataFrame({'db_table': 'analytics.rack_rate_revenue', \n",
    "            'all_columns': ['vdate',\n",
    " 'mbx_acct_id',\n",
    " 'mbx_acct_lvl',\n",
    " 'is_apa',\n",
    " 'sfdc_acct_id',\n",
    " 'sfdc_acct_name',\n",
    " 'sfdc_acct_owner',\n",
    " 'pod',\n",
    " 'service_group',\n",
    " 'sku_id',\n",
    " 'subunits',\n",
    " 'mtd_usage',\n",
    " 'daily_revenue',\n",
    " 'mtd_revenue',\n",
    " 'discount_rate',\n",
    " 'daily_revenue_w_discount',\n",
    " 'mtd_revenue_w_discount',\n",
    " 'dt']})\n"
   ]
  },
  {
   "cell_type": "code",
   "execution_count": 6,
   "metadata": {},
   "outputs": [],
   "source": [
    "db_fields_2 = pd.DataFrame({'db_table': 'analytics.sku_metadata', \n",
    "            'all_columns': ['sku_id', 'sku_ty', 'sku_na']})\n"
   ]
  },
  {
   "cell_type": "code",
   "execution_count": 7,
   "metadata": {},
   "outputs": [
    {
     "data": {
      "text/html": [
       "<div>\n",
       "<style scoped>\n",
       "    .dataframe tbody tr th:only-of-type {\n",
       "        vertical-align: middle;\n",
       "    }\n",
       "\n",
       "    .dataframe tbody tr th {\n",
       "        vertical-align: top;\n",
       "    }\n",
       "\n",
       "    .dataframe thead th {\n",
       "        text-align: right;\n",
       "    }\n",
       "</style>\n",
       "<table border=\"1\" class=\"dataframe\">\n",
       "  <thead>\n",
       "    <tr style=\"text-align: right;\">\n",
       "      <th></th>\n",
       "      <th>db_table</th>\n",
       "      <th>all_columns</th>\n",
       "    </tr>\n",
       "  </thead>\n",
       "  <tbody>\n",
       "    <tr>\n",
       "      <td>0</td>\n",
       "      <td>analytics.rack_rate_revenue</td>\n",
       "      <td>vdate</td>\n",
       "    </tr>\n",
       "    <tr>\n",
       "      <td>1</td>\n",
       "      <td>analytics.rack_rate_revenue</td>\n",
       "      <td>mbx_acct_id</td>\n",
       "    </tr>\n",
       "    <tr>\n",
       "      <td>2</td>\n",
       "      <td>analytics.rack_rate_revenue</td>\n",
       "      <td>mbx_acct_lvl</td>\n",
       "    </tr>\n",
       "    <tr>\n",
       "      <td>3</td>\n",
       "      <td>analytics.rack_rate_revenue</td>\n",
       "      <td>is_apa</td>\n",
       "    </tr>\n",
       "    <tr>\n",
       "      <td>4</td>\n",
       "      <td>analytics.rack_rate_revenue</td>\n",
       "      <td>sfdc_acct_id</td>\n",
       "    </tr>\n",
       "    <tr>\n",
       "      <td>5</td>\n",
       "      <td>analytics.rack_rate_revenue</td>\n",
       "      <td>sfdc_acct_name</td>\n",
       "    </tr>\n",
       "    <tr>\n",
       "      <td>6</td>\n",
       "      <td>analytics.rack_rate_revenue</td>\n",
       "      <td>sfdc_acct_owner</td>\n",
       "    </tr>\n",
       "    <tr>\n",
       "      <td>7</td>\n",
       "      <td>analytics.rack_rate_revenue</td>\n",
       "      <td>pod</td>\n",
       "    </tr>\n",
       "    <tr>\n",
       "      <td>8</td>\n",
       "      <td>analytics.rack_rate_revenue</td>\n",
       "      <td>service_group</td>\n",
       "    </tr>\n",
       "    <tr>\n",
       "      <td>9</td>\n",
       "      <td>analytics.rack_rate_revenue</td>\n",
       "      <td>sku_id</td>\n",
       "    </tr>\n",
       "    <tr>\n",
       "      <td>10</td>\n",
       "      <td>analytics.rack_rate_revenue</td>\n",
       "      <td>subunits</td>\n",
       "    </tr>\n",
       "    <tr>\n",
       "      <td>11</td>\n",
       "      <td>analytics.rack_rate_revenue</td>\n",
       "      <td>mtd_usage</td>\n",
       "    </tr>\n",
       "    <tr>\n",
       "      <td>12</td>\n",
       "      <td>analytics.rack_rate_revenue</td>\n",
       "      <td>daily_revenue</td>\n",
       "    </tr>\n",
       "    <tr>\n",
       "      <td>13</td>\n",
       "      <td>analytics.rack_rate_revenue</td>\n",
       "      <td>mtd_revenue</td>\n",
       "    </tr>\n",
       "    <tr>\n",
       "      <td>14</td>\n",
       "      <td>analytics.rack_rate_revenue</td>\n",
       "      <td>discount_rate</td>\n",
       "    </tr>\n",
       "    <tr>\n",
       "      <td>15</td>\n",
       "      <td>analytics.rack_rate_revenue</td>\n",
       "      <td>daily_revenue_w_discount</td>\n",
       "    </tr>\n",
       "    <tr>\n",
       "      <td>16</td>\n",
       "      <td>analytics.rack_rate_revenue</td>\n",
       "      <td>mtd_revenue_w_discount</td>\n",
       "    </tr>\n",
       "    <tr>\n",
       "      <td>17</td>\n",
       "      <td>analytics.rack_rate_revenue</td>\n",
       "      <td>dt</td>\n",
       "    </tr>\n",
       "    <tr>\n",
       "      <td>18</td>\n",
       "      <td>analytics.sku_metadata</td>\n",
       "      <td>sku_id</td>\n",
       "    </tr>\n",
       "    <tr>\n",
       "      <td>19</td>\n",
       "      <td>analytics.sku_metadata</td>\n",
       "      <td>sku_ty</td>\n",
       "    </tr>\n",
       "    <tr>\n",
       "      <td>20</td>\n",
       "      <td>analytics.sku_metadata</td>\n",
       "      <td>sku_na</td>\n",
       "    </tr>\n",
       "  </tbody>\n",
       "</table>\n",
       "</div>"
      ],
      "text/plain": [
       "                       db_table               all_columns\n",
       "0   analytics.rack_rate_revenue                     vdate\n",
       "1   analytics.rack_rate_revenue               mbx_acct_id\n",
       "2   analytics.rack_rate_revenue              mbx_acct_lvl\n",
       "3   analytics.rack_rate_revenue                    is_apa\n",
       "4   analytics.rack_rate_revenue              sfdc_acct_id\n",
       "5   analytics.rack_rate_revenue            sfdc_acct_name\n",
       "6   analytics.rack_rate_revenue           sfdc_acct_owner\n",
       "7   analytics.rack_rate_revenue                       pod\n",
       "8   analytics.rack_rate_revenue             service_group\n",
       "9   analytics.rack_rate_revenue                    sku_id\n",
       "10  analytics.rack_rate_revenue                  subunits\n",
       "11  analytics.rack_rate_revenue                 mtd_usage\n",
       "12  analytics.rack_rate_revenue             daily_revenue\n",
       "13  analytics.rack_rate_revenue               mtd_revenue\n",
       "14  analytics.rack_rate_revenue             discount_rate\n",
       "15  analytics.rack_rate_revenue  daily_revenue_w_discount\n",
       "16  analytics.rack_rate_revenue    mtd_revenue_w_discount\n",
       "17  analytics.rack_rate_revenue                        dt\n",
       "18       analytics.sku_metadata                    sku_id\n",
       "19       analytics.sku_metadata                    sku_ty\n",
       "20       analytics.sku_metadata                    sku_na"
      ]
     },
     "execution_count": 7,
     "metadata": {},
     "output_type": "execute_result"
    }
   ],
   "source": [
    "db_fields = db_fields_1.append(db_fields_2, ignore_index=True)\n",
    "db_fields"
   ]
  },
  {
   "cell_type": "code",
   "execution_count": 8,
   "metadata": {},
   "outputs": [],
   "source": [
    "raw_query = cte_queries['main_query']\n",
    "formatter = column_parser.Parser(raw_query)\n",
    "formatted = formatter.format_query(raw_query)\n",
    "analyzer = query_analyzer.Analyzer(formatted)\n",
    "query_dict = analyzer.parse_query(formatted)\n",
    "preprocess_list = unnest_query_list(query_dict)"
   ]
  },
  {
   "cell_type": "code",
   "execution_count": 11,
   "metadata": {},
   "outputs": [
    {
     "name": "stdout",
     "output_type": "stream",
     "text": [
      "SELECT rrr.*,\n",
      "       CASE\n",
      "           WHEN entexc.sfdc_acct_id IS NOT NULL THEN TRUE\n",
      "           ELSE FALSE\n",
      "       END AS ent_exception,\n",
      "       CASE\n",
      "           WHEN pfree.mbx_acct_id IS NOT NULL THEN TRUE\n",
      "           ELSE FALSE\n",
      "       END AS paygo_free,\n",
      "       meta.sku_type\n",
      "FROM analytics.rack_rate_revenue rrr\n",
      "LEFT JOIN enterprise_exception entexc ON rrr.sfdc_acct_id = entexc.sfdc_acct_id\n",
      "AND rrr.mbx_acct_lvl = 'enterprise'\n",
      "LEFT JOIN paygo_free pfree ON rrr.mbx_acct_id = pfree.mbx_acct_id\n",
      "AND pfree.date_month BETWEEN DATE_ADD('month', -1, DATE(vdate)) AND DATE_ADD('day', -1, DATE(vdate))\n",
      "LEFT JOIN analytics.sku_metadata meta ON rrr.sku_id = meta.sku_id\n",
      "WHERE rrr.dt = '2020-06-30'\n"
     ]
    }
   ],
   "source": [
    "print(preprocess_list[0])"
   ]
  },
  {
   "cell_type": "code",
   "execution_count": 10,
   "metadata": {},
   "outputs": [
    {
     "data": {
      "text/plain": [
       "[{'database_name': 'analytics',\n",
       "  'table_name': 'rack_rate_revenue',\n",
       "  'column_name': 'sfdc_acct_id'},\n",
       " {'database_name': 'analytics',\n",
       "  'table_name': 'rack_rate_revenue',\n",
       "  'column_name': 'mbx_acct_id'},\n",
       " {'database_name': 'analytics',\n",
       "  'table_name': 'sku_metadata',\n",
       "  'column_name': 'sku_id'},\n",
       " {'database_name': 'analytics',\n",
       "  'table_name': 'rack_rate_revenue',\n",
       "  'column_name': 'mbx_acct_lvl'},\n",
       " {'database_name': 'analytics',\n",
       "  'table_name': 'rack_rate_revenue',\n",
       "  'column_name': 'sku_id'},\n",
       " {'database_name': 'analytics',\n",
       "  'table_name': 'rack_rate_revenue',\n",
       "  'column_name': 'vdate'},\n",
       " {'database_name': 'analytics',\n",
       "  'table_name': 'rack_rate_revenue',\n",
       "  'column_name': 'dt'}]"
      ]
     },
     "execution_count": 10,
     "metadata": {},
     "output_type": "execute_result"
    }
   ],
   "source": [
    "extract_subquery_fields(preprocess_list[0], db_fields)"
   ]
  },
  {
   "cell_type": "code",
   "execution_count": null,
   "metadata": {},
   "outputs": [],
   "source": []
  }
 ],
 "metadata": {
  "kernelspec": {
   "display_name": "Python 3",
   "language": "python",
   "name": "python3"
  },
  "language_info": {
   "codemirror_mode": {
    "name": "ipython",
    "version": 3
   },
   "file_extension": ".py",
   "mimetype": "text/x-python",
   "name": "python",
   "nbconvert_exporter": "python",
   "pygments_lexer": "ipython3",
   "version": "3.7.4"
  }
 },
 "nbformat": 4,
 "nbformat_minor": 2
}
