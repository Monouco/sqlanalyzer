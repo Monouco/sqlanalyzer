{
 "cells": [
  {
   "cell_type": "code",
   "execution_count": 17,
   "metadata": {},
   "outputs": [],
   "source": [
    "import json\n",
    "import pandas as pd\n",
    "from sqlanalyzer import column_parser, query_analyzer"
   ]
  },
  {
   "cell_type": "code",
   "execution_count": 15,
   "metadata": {},
   "outputs": [],
   "source": [
    "def extract_subquery_fields(query, db_fields, **kwargs):\n",
    "    formatter = column_parser.Parser(query)\n",
    "    formatted = formatter.format_query(query)\n",
    "    fields = formatter.match_queried_fields(formatted, db_fields, **kwargs)\n",
    "    return fields\n",
    "\n",
    "\n",
    "def unnest_query_list(query_list):\n",
    "    preprocess_list = []\n",
    "    \n",
    "    for q in query_list:\n",
    "        for _, query in q.items():\n",
    "            \n",
    "            if isinstance(query, str):\n",
    "                preprocess_list.append(query)\n",
    "            else:\n",
    "                \n",
    "                for sub_q in query:\n",
    "                    sub_list = []\n",
    "                    for _, sub_query in sub_q.items():\n",
    "                        \n",
    "                        if isinstance(sub_query, str):\n",
    "                            sub_list.append(sub_query)\n",
    "                            \n",
    "                        else:\n",
    "                            for sub_sub_q in sub_query:\n",
    "                                for _, sub_sub_query in sub_sub_q.items():\n",
    "                                    \n",
    "                                    if isinstance(sub_sub_query, str):\n",
    "                                        sub_list.append(sub_sub_query)\n",
    "                                        \n",
    "                    preprocess_list.extend(sub_list)\n",
    "                    \n",
    "    return preprocess_list\n",
    "    "
   ]
  },
  {
   "cell_type": "code",
   "execution_count": 3,
   "metadata": {
    "scrolled": false
   },
   "outputs": [],
   "source": [
    "# query = open('active_devs.sql').read()\n",
    "query = \"\"\"SELECT rrr.*,\n",
    "       CASE\n",
    "           WHEN entexc.sfdc_acct_id IS NOT NULL THEN TRUE\n",
    "           ELSE FALSE\n",
    "       END AS ent_exception,\n",
    "       CASE\n",
    "           WHEN pfree.mbx_acct_id IS NOT NULL THEN TRUE\n",
    "           ELSE FALSE\n",
    "       END AS paygo_free,\n",
    "       meta.sku_type\n",
    "FROM analytics.rack_rate_revenue rrr\n",
    "LEFT JOIN enterprise_exception entexc ON rrr.sfdc_acct_id = entexc.sfdc_acct_id\n",
    "AND rrr.mbx_acct_lvl = 'enterprise'\n",
    "LEFT JOIN paygo_free pfree ON rrr.mbx_acct_id = pfree.mbx_acct_id\n",
    "AND pfree.date_month BETWEEN DATE_ADD('month', -1, DATE(vdate)) AND DATE_ADD('day', -1, DATE(vdate))\n",
    "LEFT JOIN analytics.sku_metadata meta ON rrr.sku_id = meta.sku_id\n",
    "WHERE rrr.dt = '2020-06-30'\n",
    "\"\"\"\n",
    "formatter = column_parser.Parser(query)\n",
    "formatted_query = formatter.format_query(query)\n",
    "cte_queries = formatter.parse_cte(formatted_query)\n"
   ]
  },
  {
   "cell_type": "code",
   "execution_count": 15,
   "metadata": {},
   "outputs": [],
   "source": [
    "with open('./data.json', 'r') as f:\n",
    "    query_dict = json.load(f)"
   ]
  },
  {
   "cell_type": "code",
   "execution_count": 16,
   "metadata": {
    "scrolled": true
   },
   "outputs": [
    {
     "name": "stdout",
     "output_type": "stream",
     "text": [
      "{\n",
      "  \"analytics_service_endpoint_mapping\": {\n",
      "    \"b\": {\n",
      "      \"a\": \"analytics.service_endpoint_mapping\",\n",
      "      \"analytics.service_endpoint_mapping\": \"INNER JOIN\",\n",
      "      \"main\": \"SELECT MAX(dt) AS dt\\nFROM analytics.service_endpoint_mapping) a\\nINNER JOIN analytics.service_endpoint_mapping \"\n",
      "    },\n",
      "    \"main\": \"SELECT b.*\\nFROM b ON a.dt = b.dt),\"\n",
      "  },\n",
      "  \"web_dev\": {\n",
      "    \"s\": \"sku.daily_by_account\",\n",
      "    \"main\": \"SELECT s.dt,\\n       COALESCE(em.platform, 'unknown') AS platform,\\n       COALESCE(service_org, 'other') AS service,\\n       account\\nFROM sku.daily_by_account s\\nINNER JOIN mapbox_customer_data.accounts a ON s.account = a.id\\nAND a.dt = '{run_date}'\\nLEFT JOIN analytics_service_endpoint_mapping em ON s.sku_id = em.sku_id\\nAND em.in_sku IS NOT NULL\\nAND em.parent_sku IS NULL\\nWHERE s.dt BETWEEN DATE_SUB('{run_date}', 29) AND '{run_date}'\\nGROUP BY 1,\\n         2,\\n         3,\\n         4), \"\n",
      "  },\n",
      "  \"mobile_dev\": {\n",
      "    \"main\": \"SELECT dt,\\n       'mobile' AS platform,\\n       CASE\\n           WHEN LOWER(useragent) RLIKE '(mapboxeventsnavigation|navigation-)' THEN 'navigation'\\n           WHEN LOWER(useragent) RLIKE '(mapboxeventsunity|mapbox-scenekit)' THEN 'unity'\\n           WHEN LOWER(useragent) RLIKE 'mapboxtelemetry' THEN 'telemetry'\\n           WHEN LOWER(useragent) RLIKE 'vision' THEN 'vision'\\n           WHEN LOWER(useragent) RLIKE '(mapboxevents|mapbox-maps-)' THEN 'maps'\\n           ELSE 'other'\\n       END AS service,\\n       OWNER AS account\\nFROM sdk_events.appuserturnstile\\nWHERE dt BETWEEN DATE_SUB('{run_date}', 29) AND '{run_date}'\\n  AND (sdkidentifier IS NULL\\n       OR sdkidentifier <> 'mapbox-gl-js')\\n  AND OWNER IS NOT NULL\\nGROUP BY dt,\\n         'mobile',\\n         CASE\\n             WHEN LOWER(useragent) RLIKE '(mapboxeventsnavigation|navigation-)' THEN 'navigation'\\n             WHEN LOWER(useragent) RLIKE '(mapboxeventsunity|mapbox-scenekit)' THEN 'unity'\\n             WHEN LOWER(useragent) RLIKE 'mapboxtelemetry' THEN 'telemetry'\\n             WHEN LOWER(useragent) RLIKE 'vision' THEN 'vision'\\n             WHEN LOWER(useragent) RLIKE '(mapboxevents|mapbox-maps-)' THEN 'maps'\\n             ELSE 'other'\\n         END,\\n         OWNER), \"\n",
      "  },\n",
      "  \"studio_dev\": {\n",
      "    \"main\": \"SELECT dt,\\n       'web' AS platform,\\n       'studio' AS service,\\n       user_id AS account\\nFROM mapbox_customer_data.segment_tracks\\nWHERE dt BETWEEN DATE_SUB('{run_date}', 29) AND '{run_date}'\\n  AND event_text IN ('Finished an Upload',\\n                     'Published a style',\\n                     'Created a style',\\n                     'Added add a map campaign to their account',\\n                     'Created cartogram style',\\n                     'Style editor updated stylesheet layer')\\nGROUP BY dt,\\n         'web',\\n         'studio',\\n         user_id), \"\n",
      "  },\n",
      "  \"web_mobile_studio\": {\n",
      "    \"main\": \"SELECT dt,\\n       platform,\\n       service,\\n       account\\nFROM web_dev\\nUNION ALL\\nSELECT dt,\\n       platform,\\nUNION ALL\\nSELECT dt,\\n       platform, \"\n",
      "  },\n",
      "  \"mau_cube\": {\n",
      "    \"a\": \"web_mobile_studio\",\n",
      "    \"main\": \"SELECT COALESCE(a.platform, 'other') AS platform,\\n       COALESCE(a.service, 'unknown') AS service,\\n       COUNT(DISTINCT a.account) AS num_devs,\\n       COUNT(DISTINCT CASE\\n                          WHEN b.account IS NOT NULL THEN NULL\\n                          ELSE a.account\\n                      END) AS num_devs_xstudio_only\\nFROM web_mobile_studio a\\nLEFT JOIN\\n  (SELECT account,\\n          CONCAT_WS(',', COLLECT_SET(LOWER(service))) AS service\\n   FROM web_mobile_studio\\n   GROUP BY account) b ON a.account = b.account\\nAND b.service = 'studio'\\nGROUP BY COALESCE(a.platform, 'other'),\\n         COALESCE(a.service, 'unknown') WITH CUBE), \"\n",
      "  },\n",
      "  \"wau_cube\": {\n",
      "    \"a\": \"web_mobile_studio\",\n",
      "    \"main\": \"SELECT COALESCE(a.platform, 'other') AS platform,\\n       COALESCE(a.service, 'unknown') AS service,\\n       COUNT(DISTINCT a.account) AS num_devs,\\n       COUNT(DISTINCT CASE\\n                          WHEN b.account IS NOT NULL THEN NULL\\n                          ELSE a.account\\n                      END) AS num_devs_xstudio_only\\nFROM web_mobile_studio a\\nLEFT JOIN\\n  (SELECT account,\\n          CONCAT_WS(',', COLLECT_SET(LOWER(service))) AS service\\n   FROM web_mobile_studio\\n   WHERE dt BETWEEN DATE_SUB('{run_date}', 6) AND '{run_date}'\\n   GROUP BY account) b ON a.account = b.account\\nAND b.service = 'studio'\\nWHERE a.dt BETWEEN DATE_SUB('{run_date}', 6) AND '{run_date}'\\nGROUP BY COALESCE(a.platform, 'other'),\\n         COALESCE(a.service, 'unknown') WITH CUBE), \"\n",
      "  },\n",
      "  \"dau_cube\": {\n",
      "    \"main\": \"SELECT COALESCE(a.platform, 'other') AS platform,\\n       COALESCE(a.service, 'unknown') AS service,\\n       COUNT(DISTINCT a.account) AS num_devs,\\n       COUNT(DISTINCT CASE\\n                          WHEN b.account IS NOT NULL THEN NULL\\n                          ELSE a.account\\n                      END) AS num_devs_xstudio_only\\nFROM web_mobile_studio a\\nLEFT JOIN\\n  (SELECT account,\\n          CONCAT_WS(',', COLLECT_SET(LOWER(service))) AS service\\n   FROM web_mobile_studio\\n   WHERE dt = '{run_date}'\\n   GROUP BY account) b ON a.account = b.account\\nUNION ALL \"\n",
      "  },\n",
      "  \"main\": {\n",
      "    \"main\": \"SELECT '1d' AS aggregation,\\n       COALESCE(platform, '_all') AS platform,\\n       COALESCE(service, '_all') AS service,\\n       num_devs,\\n       num_devs_xstudio_only\\nFROM dau_cube \"\n",
      "  }\n",
      "} \n",
      "\n",
      "\n",
      "\n"
     ]
    }
   ],
   "source": [
    "print(json.dumps(query_dict, indent=2), '\\n\\n\\n')"
   ]
  },
  {
   "cell_type": "code",
   "execution_count": 17,
   "metadata": {
    "scrolled": true
   },
   "outputs": [
    {
     "data": {
      "text/plain": [
       "dict_keys(['analytics_service_endpoint_mapping', 'web_dev', 'mobile_dev', 'studio_dev', 'web_mobile_studio', 'mau_cube', 'wau_cube', 'dau_cube', 'main'])"
      ]
     },
     "execution_count": 17,
     "metadata": {},
     "output_type": "execute_result"
    }
   ],
   "source": [
    "query_dict.keys()"
   ]
  },
  {
   "cell_type": "code",
   "execution_count": 5,
   "metadata": {},
   "outputs": [
    {
     "name": "stdout",
     "output_type": "stream",
     "text": [
      "SELECT rrr.*,\n",
      "       CASE\n",
      "           WHEN entexc.sfdc_acct_id IS NOT NULL THEN TRUE\n",
      "           ELSE FALSE\n",
      "       END AS ent_exception,\n",
      "       CASE\n",
      "           WHEN pfree.mbx_acct_id IS NOT NULL THEN TRUE\n",
      "           ELSE FALSE\n",
      "       END AS paygo_free,\n",
      "       meta.sku_type\n",
      "FROM analytics.rack_rate_revenue rrr\n",
      "LEFT JOIN enterprise_exception entexc ON rrr.sfdc_acct_id = entexc.sfdc_acct_id\n",
      "AND rrr.mbx_acct_lvl = 'enterprise'\n",
      "LEFT JOIN paygo_free pfree ON rrr.mbx_acct_id = pfree.mbx_acct_id\n",
      "AND pfree.date_month BETWEEN DATE_ADD('month', -1, DATE(vdate)) AND DATE_ADD('day', -1, DATE(vdate))\n",
      "LEFT JOIN analytics.sku_metadata meta ON rrr.sku_id = meta.sku_id\n",
      "WHERE rrr.dt = '2020-06-30'\n"
     ]
    }
   ],
   "source": [
    "print(cte_queries['main_query'])"
   ]
  },
  {
   "cell_type": "markdown",
   "metadata": {},
   "source": [
    "## metastore "
   ]
  },
  {
   "cell_type": "code",
   "execution_count": 8,
   "metadata": {},
   "outputs": [],
   "source": [
    "db_fields_1 = pd.DataFrame({'db_table': 'analytics.rack_rate_revenue', \n",
    "            'all_columns': ['vdate',\n",
    " 'mbx_acct_id',\n",
    " 'mbx_acct_lvl',\n",
    " 'is_apa',\n",
    " 'sfdc_acct_id',\n",
    " 'sfdc_acct_name',\n",
    " 'sfdc_acct_owner',\n",
    " 'pod',\n",
    " 'service_group',\n",
    " 'sku_id',\n",
    " 'subunits',\n",
    " 'mtd_usage',\n",
    " 'daily_revenue',\n",
    " 'mtd_revenue',\n",
    " 'discount_rate',\n",
    " 'daily_revenue_w_discount',\n",
    " 'mtd_revenue_w_discount',\n",
    " 'dt']})\n"
   ]
  },
  {
   "cell_type": "code",
   "execution_count": 10,
   "metadata": {},
   "outputs": [],
   "source": [
    "db_fields_2 = pd.DataFrame({'db_table': 'analytics.sku_metadata', \n",
    "            'all_columns': ['sku_id', 'sku_ty', 'sku_na']})\n"
   ]
  },
  {
   "cell_type": "code",
   "execution_count": 11,
   "metadata": {},
   "outputs": [
    {
     "data": {
      "text/html": [
       "<div>\n",
       "<style scoped>\n",
       "    .dataframe tbody tr th:only-of-type {\n",
       "        vertical-align: middle;\n",
       "    }\n",
       "\n",
       "    .dataframe tbody tr th {\n",
       "        vertical-align: top;\n",
       "    }\n",
       "\n",
       "    .dataframe thead th {\n",
       "        text-align: right;\n",
       "    }\n",
       "</style>\n",
       "<table border=\"1\" class=\"dataframe\">\n",
       "  <thead>\n",
       "    <tr style=\"text-align: right;\">\n",
       "      <th></th>\n",
       "      <th>db_table</th>\n",
       "      <th>all_columns</th>\n",
       "    </tr>\n",
       "  </thead>\n",
       "  <tbody>\n",
       "    <tr>\n",
       "      <td>0</td>\n",
       "      <td>analytics.rack_rate_revenue</td>\n",
       "      <td>vdate</td>\n",
       "    </tr>\n",
       "    <tr>\n",
       "      <td>1</td>\n",
       "      <td>analytics.rack_rate_revenue</td>\n",
       "      <td>mbx_acct_id</td>\n",
       "    </tr>\n",
       "    <tr>\n",
       "      <td>2</td>\n",
       "      <td>analytics.rack_rate_revenue</td>\n",
       "      <td>mbx_acct_lvl</td>\n",
       "    </tr>\n",
       "    <tr>\n",
       "      <td>3</td>\n",
       "      <td>analytics.rack_rate_revenue</td>\n",
       "      <td>is_apa</td>\n",
       "    </tr>\n",
       "    <tr>\n",
       "      <td>4</td>\n",
       "      <td>analytics.rack_rate_revenue</td>\n",
       "      <td>sfdc_acct_id</td>\n",
       "    </tr>\n",
       "    <tr>\n",
       "      <td>5</td>\n",
       "      <td>analytics.rack_rate_revenue</td>\n",
       "      <td>sfdc_acct_name</td>\n",
       "    </tr>\n",
       "    <tr>\n",
       "      <td>6</td>\n",
       "      <td>analytics.rack_rate_revenue</td>\n",
       "      <td>sfdc_acct_owner</td>\n",
       "    </tr>\n",
       "    <tr>\n",
       "      <td>7</td>\n",
       "      <td>analytics.rack_rate_revenue</td>\n",
       "      <td>pod</td>\n",
       "    </tr>\n",
       "    <tr>\n",
       "      <td>8</td>\n",
       "      <td>analytics.rack_rate_revenue</td>\n",
       "      <td>service_group</td>\n",
       "    </tr>\n",
       "    <tr>\n",
       "      <td>9</td>\n",
       "      <td>analytics.rack_rate_revenue</td>\n",
       "      <td>sku_id</td>\n",
       "    </tr>\n",
       "    <tr>\n",
       "      <td>10</td>\n",
       "      <td>analytics.rack_rate_revenue</td>\n",
       "      <td>subunits</td>\n",
       "    </tr>\n",
       "    <tr>\n",
       "      <td>11</td>\n",
       "      <td>analytics.rack_rate_revenue</td>\n",
       "      <td>mtd_usage</td>\n",
       "    </tr>\n",
       "    <tr>\n",
       "      <td>12</td>\n",
       "      <td>analytics.rack_rate_revenue</td>\n",
       "      <td>daily_revenue</td>\n",
       "    </tr>\n",
       "    <tr>\n",
       "      <td>13</td>\n",
       "      <td>analytics.rack_rate_revenue</td>\n",
       "      <td>mtd_revenue</td>\n",
       "    </tr>\n",
       "    <tr>\n",
       "      <td>14</td>\n",
       "      <td>analytics.rack_rate_revenue</td>\n",
       "      <td>discount_rate</td>\n",
       "    </tr>\n",
       "    <tr>\n",
       "      <td>15</td>\n",
       "      <td>analytics.rack_rate_revenue</td>\n",
       "      <td>daily_revenue_w_discount</td>\n",
       "    </tr>\n",
       "    <tr>\n",
       "      <td>16</td>\n",
       "      <td>analytics.rack_rate_revenue</td>\n",
       "      <td>mtd_revenue_w_discount</td>\n",
       "    </tr>\n",
       "    <tr>\n",
       "      <td>17</td>\n",
       "      <td>analytics.rack_rate_revenue</td>\n",
       "      <td>dt</td>\n",
       "    </tr>\n",
       "    <tr>\n",
       "      <td>18</td>\n",
       "      <td>analytics.sku_metadata</td>\n",
       "      <td>sku_id</td>\n",
       "    </tr>\n",
       "    <tr>\n",
       "      <td>19</td>\n",
       "      <td>analytics.sku_metadata</td>\n",
       "      <td>sku_ty</td>\n",
       "    </tr>\n",
       "    <tr>\n",
       "      <td>20</td>\n",
       "      <td>analytics.sku_metadata</td>\n",
       "      <td>sku_na</td>\n",
       "    </tr>\n",
       "  </tbody>\n",
       "</table>\n",
       "</div>"
      ],
      "text/plain": [
       "                       db_table               all_columns\n",
       "0   analytics.rack_rate_revenue                     vdate\n",
       "1   analytics.rack_rate_revenue               mbx_acct_id\n",
       "2   analytics.rack_rate_revenue              mbx_acct_lvl\n",
       "3   analytics.rack_rate_revenue                    is_apa\n",
       "4   analytics.rack_rate_revenue              sfdc_acct_id\n",
       "5   analytics.rack_rate_revenue            sfdc_acct_name\n",
       "6   analytics.rack_rate_revenue           sfdc_acct_owner\n",
       "7   analytics.rack_rate_revenue                       pod\n",
       "8   analytics.rack_rate_revenue             service_group\n",
       "9   analytics.rack_rate_revenue                    sku_id\n",
       "10  analytics.rack_rate_revenue                  subunits\n",
       "11  analytics.rack_rate_revenue                 mtd_usage\n",
       "12  analytics.rack_rate_revenue             daily_revenue\n",
       "13  analytics.rack_rate_revenue               mtd_revenue\n",
       "14  analytics.rack_rate_revenue             discount_rate\n",
       "15  analytics.rack_rate_revenue  daily_revenue_w_discount\n",
       "16  analytics.rack_rate_revenue    mtd_revenue_w_discount\n",
       "17  analytics.rack_rate_revenue                        dt\n",
       "18       analytics.sku_metadata                    sku_id\n",
       "19       analytics.sku_metadata                    sku_ty\n",
       "20       analytics.sku_metadata                    sku_na"
      ]
     },
     "execution_count": 11,
     "metadata": {},
     "output_type": "execute_result"
    }
   ],
   "source": [
    "db_fields = db_fields_1.append(db_fields_2, ignore_index=True)\n",
    "db_fields"
   ]
  },
  {
   "cell_type": "code",
   "execution_count": 18,
   "metadata": {},
   "outputs": [],
   "source": [
    "raw_query = cte_queries['main_query']\n",
    "formatter = column_parser.Parser(raw_query)\n",
    "formatted = formatter.format_query(raw_query)\n",
    "analyzer = query_analyzer.Analyzer(formatted)\n",
    "query_dict = analyzer.parse_query(formatted)\n",
    "preprocess_list = unnest_query_list(query_dict)"
   ]
  },
  {
   "cell_type": "code",
   "execution_count": 19,
   "metadata": {},
   "outputs": [
    {
     "data": {
      "text/plain": [
       "[\"SELECT rrr.*,\\n       CASE\\n           WHEN entexc.sfdc_acct_id IS NOT NULL THEN TRUE\\n           ELSE FALSE\\n       END AS ent_exception,\\n       CASE\\n           WHEN pfree.mbx_acct_id IS NOT NULL THEN TRUE\\n           ELSE FALSE\\n       END AS paygo_free,\\n       meta.sku_type\\nFROM analytics.rack_rate_revenue rrr\\nLEFT JOIN enterprise_exception entexc ON rrr.sfdc_acct_id = entexc.sfdc_acct_id\\nAND rrr.mbx_acct_lvl = 'enterprise'\\nLEFT JOIN paygo_free pfree ON rrr.mbx_acct_id = pfree.mbx_acct_id\\nAND pfree.date_month BETWEEN DATE_ADD('month', -1, DATE(vdate)) AND DATE_ADD('day', -1, DATE(vdate))\\nLEFT JOIN analytics.sku_metadata meta ON rrr.sku_id = meta.sku_id\\nWHERE rrr.dt = '2020-06-30'\"]"
      ]
     },
     "execution_count": 19,
     "metadata": {},
     "output_type": "execute_result"
    }
   ],
   "source": [
    "preprocess_list"
   ]
  },
  {
   "cell_type": "code",
   "execution_count": 20,
   "metadata": {},
   "outputs": [
    {
     "ename": "TypeError",
     "evalue": "'set' object is not subscriptable",
     "output_type": "error",
     "traceback": [
      "\u001b[0;31m---------------------------------------------------------------------------\u001b[0m",
      "\u001b[0;31mTypeError\u001b[0m                                 Traceback (most recent call last)",
      "\u001b[0;32m<ipython-input-20-9c545dfec84e>\u001b[0m in \u001b[0;36m<module>\u001b[0;34m\u001b[0m\n\u001b[0;32m----> 1\u001b[0;31m \u001b[0mextract_subquery_fields\u001b[0m\u001b[0;34m(\u001b[0m\u001b[0mpreprocess_list\u001b[0m\u001b[0;34m[\u001b[0m\u001b[0;36m0\u001b[0m\u001b[0;34m]\u001b[0m\u001b[0;34m,\u001b[0m \u001b[0mdb_fields\u001b[0m\u001b[0;34m)\u001b[0m\u001b[0;34m\u001b[0m\u001b[0;34m\u001b[0m\u001b[0m\n\u001b[0m",
      "\u001b[0;32m<ipython-input-15-8e1e0ed57ec9>\u001b[0m in \u001b[0;36mextract_subquery_fields\u001b[0;34m(query, db_fields, **kwargs)\u001b[0m\n\u001b[1;32m      2\u001b[0m     \u001b[0mformatter\u001b[0m \u001b[0;34m=\u001b[0m \u001b[0mcolumn_parser\u001b[0m\u001b[0;34m.\u001b[0m\u001b[0mParser\u001b[0m\u001b[0;34m(\u001b[0m\u001b[0mquery\u001b[0m\u001b[0;34m)\u001b[0m\u001b[0;34m\u001b[0m\u001b[0;34m\u001b[0m\u001b[0m\n\u001b[1;32m      3\u001b[0m     \u001b[0mformatted\u001b[0m \u001b[0;34m=\u001b[0m \u001b[0mformatter\u001b[0m\u001b[0;34m.\u001b[0m\u001b[0mformat_query\u001b[0m\u001b[0;34m(\u001b[0m\u001b[0mquery\u001b[0m\u001b[0;34m)\u001b[0m\u001b[0;34m\u001b[0m\u001b[0;34m\u001b[0m\u001b[0m\n\u001b[0;32m----> 4\u001b[0;31m     \u001b[0mfields\u001b[0m \u001b[0;34m=\u001b[0m \u001b[0mformatter\u001b[0m\u001b[0;34m.\u001b[0m\u001b[0mmatch_queried_fields\u001b[0m\u001b[0;34m(\u001b[0m\u001b[0mformatted\u001b[0m\u001b[0;34m,\u001b[0m \u001b[0mdb_fields\u001b[0m\u001b[0;34m,\u001b[0m \u001b[0;34m**\u001b[0m\u001b[0mkwargs\u001b[0m\u001b[0;34m)\u001b[0m\u001b[0;34m\u001b[0m\u001b[0;34m\u001b[0m\u001b[0m\n\u001b[0m\u001b[1;32m      5\u001b[0m     \u001b[0;32mreturn\u001b[0m \u001b[0mfields\u001b[0m\u001b[0;34m\u001b[0m\u001b[0;34m\u001b[0m\u001b[0m\n\u001b[1;32m      6\u001b[0m \u001b[0;34m\u001b[0m\u001b[0m\n",
      "\u001b[0;32m/opt/anaconda3/lib/python3.7/site-packages/sqlanalyzer/column_parser.py\u001b[0m in \u001b[0;36mmatch_queried_fields\u001b[0;34m(self, query, db_fields, **kwargs)\u001b[0m\n\u001b[1;32m    327\u001b[0m \u001b[0;34m\u001b[0m\u001b[0m\n\u001b[1;32m    328\u001b[0m         \u001b[0mlogging\u001b[0m\u001b[0;34m.\u001b[0m\u001b[0minfo\u001b[0m\u001b[0;34m(\u001b[0m\u001b[0;34m\"Mapping and retrieving columns from query...\"\u001b[0m\u001b[0;34m)\u001b[0m\u001b[0;34m\u001b[0m\u001b[0;34m\u001b[0m\u001b[0m\n\u001b[0;32m--> 329\u001b[0;31m         \u001b[0mall_columns_scanned\u001b[0m \u001b[0;34m=\u001b[0m \u001b[0mself\u001b[0m\u001b[0;34m.\u001b[0m\u001b[0m_get_all_scanned_cols\u001b[0m\u001b[0;34m(\u001b[0m\u001b[0mcte_queries\u001b[0m\u001b[0;34m,\u001b[0m \u001b[0mdb_fields\u001b[0m\u001b[0;34m)\u001b[0m\u001b[0;34m\u001b[0m\u001b[0;34m\u001b[0m\u001b[0m\n\u001b[0m\u001b[1;32m    330\u001b[0m         \u001b[0mlogging\u001b[0m\u001b[0;34m.\u001b[0m\u001b[0minfo\u001b[0m\u001b[0;34m(\u001b[0m\u001b[0;34m\"All columns scanned in the query: {}.\"\u001b[0m\u001b[0;34m.\u001b[0m\u001b[0mformat\u001b[0m\u001b[0;34m(\u001b[0m\u001b[0mall_columns_scanned\u001b[0m\u001b[0;34m)\u001b[0m\u001b[0;34m)\u001b[0m\u001b[0;34m\u001b[0m\u001b[0;34m\u001b[0m\u001b[0m\n\u001b[1;32m    331\u001b[0m \u001b[0;34m\u001b[0m\u001b[0m\n",
      "\u001b[0;32m/opt/anaconda3/lib/python3.7/site-packages/sqlanalyzer/column_parser.py\u001b[0m in \u001b[0;36m_get_all_scanned_cols\u001b[0;34m(self, cte_queries, meta_cols)\u001b[0m\n\u001b[1;32m    275\u001b[0m                             \u001b[0moriginal_columns_list\u001b[0m\u001b[0;34m.\u001b[0m\u001b[0mappend\u001b[0m\u001b[0;34m(\u001b[0m\u001b[0;34m\"{}.{}\"\u001b[0m\u001b[0;34m.\u001b[0m\u001b[0mformat\u001b[0m\u001b[0;34m(\u001b[0m\u001b[0mk\u001b[0m\u001b[0;34m,\u001b[0m\u001b[0mt\u001b[0m\u001b[0;34m)\u001b[0m\u001b[0;34m)\u001b[0m\u001b[0;34m\u001b[0m\u001b[0;34m\u001b[0m\u001b[0m\n\u001b[1;32m    276\u001b[0m             \u001b[0;32melse\u001b[0m\u001b[0;34m:\u001b[0m\u001b[0;34m\u001b[0m\u001b[0;34m\u001b[0m\u001b[0m\n\u001b[0;32m--> 277\u001b[0;31m                 \u001b[0moriginal_columns_list\u001b[0m \u001b[0;34m=\u001b[0m \u001b[0mself\u001b[0m\u001b[0;34m.\u001b[0m\u001b[0m_map_db_columns\u001b[0m\u001b[0;34m(\u001b[0m\u001b[0mvariables\u001b[0m\u001b[0;34m,\u001b[0m \u001b[0mqueried_columns\u001b[0m\u001b[0;34m,\u001b[0m \u001b[0mtable_alias_mapping\u001b[0m\u001b[0;34m)\u001b[0m\u001b[0;34m\u001b[0m\u001b[0;34m\u001b[0m\u001b[0m\n\u001b[0m\u001b[1;32m    278\u001b[0m             \u001b[0mall_columns_scanned\u001b[0m\u001b[0;34m.\u001b[0m\u001b[0mextend\u001b[0m\u001b[0;34m(\u001b[0m\u001b[0mlist\u001b[0m\u001b[0;34m(\u001b[0m\u001b[0mset\u001b[0m\u001b[0;34m(\u001b[0m\u001b[0moriginal_columns_list\u001b[0m\u001b[0;34m)\u001b[0m\u001b[0;34m)\u001b[0m\u001b[0;34m)\u001b[0m\u001b[0;34m\u001b[0m\u001b[0;34m\u001b[0m\u001b[0m\n\u001b[1;32m    279\u001b[0m \u001b[0;34m\u001b[0m\u001b[0m\n",
      "\u001b[0;32m/opt/anaconda3/lib/python3.7/site-packages/sqlanalyzer/column_parser.py\u001b[0m in \u001b[0;36m_map_db_columns\u001b[0;34m(self, var_list, queried_cols, table_alias_mapping)\u001b[0m\n\u001b[1;32m    224\u001b[0m                         \u001b[0;32mfor\u001b[0m \u001b[0mdb_table\u001b[0m \u001b[0;32min\u001b[0m \u001b[0mqueried_cols\u001b[0m\u001b[0;34m:\u001b[0m\u001b[0;34m\u001b[0m\u001b[0;34m\u001b[0m\u001b[0m\n\u001b[1;32m    225\u001b[0m                             \u001b[0;32mfor\u001b[0m \u001b[0mk\u001b[0m\u001b[0;34m,\u001b[0m\u001b[0mv\u001b[0m \u001b[0;32min\u001b[0m \u001b[0mdb_table\u001b[0m\u001b[0;34m.\u001b[0m\u001b[0mitems\u001b[0m\u001b[0;34m(\u001b[0m\u001b[0;34m)\u001b[0m\u001b[0;34m:\u001b[0m\u001b[0;34m\u001b[0m\u001b[0;34m\u001b[0m\u001b[0m\n\u001b[0;32m--> 226\u001b[0;31m                                 \u001b[0;32mif\u001b[0m \u001b[0mvar\u001b[0m \u001b[0;32min\u001b[0m \u001b[0mv\u001b[0m\u001b[0;34m[\u001b[0m\u001b[0;36m0\u001b[0m\u001b[0;34m]\u001b[0m\u001b[0;34m:\u001b[0m\u001b[0;34m\u001b[0m\u001b[0;34m\u001b[0m\u001b[0m\n\u001b[0m\u001b[1;32m    227\u001b[0m                                     \u001b[0moriginal_columns_list\u001b[0m\u001b[0;34m.\u001b[0m\u001b[0mappend\u001b[0m\u001b[0;34m(\u001b[0m\u001b[0;34m\"{}.{}\"\u001b[0m\u001b[0;34m.\u001b[0m\u001b[0mformat\u001b[0m\u001b[0;34m(\u001b[0m\u001b[0mk\u001b[0m\u001b[0;34m,\u001b[0m \u001b[0mvar\u001b[0m\u001b[0;34m)\u001b[0m\u001b[0;34m)\u001b[0m\u001b[0;34m\u001b[0m\u001b[0;34m\u001b[0m\u001b[0m\n\u001b[1;32m    228\u001b[0m \u001b[0;34m\u001b[0m\u001b[0m\n",
      "\u001b[0;31mTypeError\u001b[0m: 'set' object is not subscriptable"
     ]
    }
   ],
   "source": [
    "extract_subquery_fields(preprocess_list[0], db_fields)"
   ]
  },
  {
   "cell_type": "code",
   "execution_count": null,
   "metadata": {},
   "outputs": [],
   "source": []
  }
 ],
 "metadata": {
  "kernelspec": {
   "display_name": "Python 3",
   "language": "python",
   "name": "python3"
  },
  "language_info": {
   "codemirror_mode": {
    "name": "ipython",
    "version": 3
   },
   "file_extension": ".py",
   "mimetype": "text/x-python",
   "name": "python",
   "nbconvert_exporter": "python",
   "pygments_lexer": "ipython3",
   "version": "3.7.4"
  }
 },
 "nbformat": 4,
 "nbformat_minor": 2
}
