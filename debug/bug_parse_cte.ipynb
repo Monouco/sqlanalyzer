{
 "cells": [
  {
   "cell_type": "code",
   "execution_count": 60,
   "metadata": {},
   "outputs": [],
   "source": [
    "from sqlanalyzer import column_parser, unbundle\n",
    "import re\n",
    "import json"
   ]
  },
  {
   "cell_type": "code",
   "execution_count": 65,
   "metadata": {},
   "outputs": [],
   "source": [
    "query = \"\"\"WITH opp_product_share AS\n",
    "  (SELECT DATE_FORMAT(service_start_day, 'yyyy-MM-01') AS service_start_month,\n",
    "          DATE_FORMAT(service_end_day_r, 'yyyy-MM-01') AS service_end_month,\n",
    "          a.*,\n",
    "          arr * SHARE AS arr_p\n",
    "   FROM\n",
    "     (SELECT *,\n",
    "             CASE\n",
    "                 WHEN mapped_product = 'maps'\n",
    "                      AND product_name = 'unknown'\n",
    "                      AND num_items <= 1 THEN 1\n",
    "                 WHEN (total_value > 0\n",
    "                       AND total_product_value = 0) THEN list_price_value / total_value\n",
    "                 WHEN total_product_value > 0 THEN product_value / total_product_value\n",
    "                 ELSE 0\n",
    "             END AS SHARE,\n",
    "             service_end_day AS service_end_day_r\n",
    "      FROM opportunity_product) a), \n",
    "      \n",
    "arr_product_exp AS\n",
    "  (SELECT md.account_id,\n",
    "          md.account_name,\n",
    "          md.product_name,\n",
    "          CASE\n",
    "              WHEN md.mapped_product IN ('bundled') THEN 'maps'\n",
    "              ELSE md.mapped_product\n",
    "          END AS mapped_product, service_month,\n",
    "                                 COLLECT_SET(opportunity_id) AS opportunity_id_s, COLLECT_SET(CASE\n",
    "                                                                                                  WHEN stage_name NOT IN ('Won', '7 - ICR', 'Won - Pending') THEN opportunity_id\n",
    "                                                                                                  ELSE NULL\n",
    "                                                                                              END) AS opportunity_id_nw, SUM(arr_p) AS arr_p\n",
    "   FROM arr_by_month_dummy md\n",
    "   LEFT JOIN opp_product_share ps ON md.account_id = ps.account_id\n",
    "   AND md.product_name = ps.product_name\n",
    "   AND md.service_month BETWEEN ps.service_start_month AND ps.service_end_month\n",
    "   GROUP BY md.account_id,\n",
    "            md.account_name,\n",
    "            md.product_name,\n",
    "            md.mapped_product,\n",
    "            service_month),\n",
    "                                    \n",
    "arr_product_prev AS\n",
    "  (SELECT account_id,\n",
    "          account_name,\n",
    "          mapped_product,\n",
    "          product_name,\n",
    "          service_month,\n",
    "          COALESCE(ROUND(arr_p, 2), 0) AS arr_p,\n",
    "          COALESCE(LAG(ROUND(arr_p, 2)) OVER (PARTITION BY account_id, product_name\n",
    "                                              ORDER BY service_month ASC), 0) AS prev_arr_p,\n",
    "          opportunity_id_s AS opportunity_id,\n",
    "          CONCAT_WS(',', opportunity_id_s) AS opportunity_id_p,\n",
    "          LAG(CONCAT_WS(',', opportunity_id_s)) OVER (PARTITION BY account_id,\n",
    "                                                                   product_name\n",
    "                                                      ORDER BY service_month ASC) AS prev_opportunity_id_p,\n",
    "                                                     CONCAT_WS(',', opportunity_id_nw) AS opportunity_id_nw\n",
    "   FROM arr_product_exp)\n",
    "\n",
    "SELECT service_month,\n",
    "       account_id,\n",
    "       account_name,\n",
    "       mapped_product,\n",
    "       mid_product,\n",
    "       product_name,\n",
    "       account_status,\n",
    "       mapped_status,\n",
    "       mid_status,\n",
    "       product_status,\n",
    "       arr_p,\n",
    "       cum_arr_p,\n",
    "       prev_cum_arr_p,\n",
    "       opportunity_id_p,\n",
    "       prev_opportunity_id_p,\n",
    "       opportunity_id_nw\n",
    "FROM arr_full_status\n",
    "\"\"\""
   ]
  },
  {
   "cell_type": "code",
   "execution_count": 66,
   "metadata": {},
   "outputs": [],
   "source": [
    "formatter = column_parser.Parser(query)\n",
    "formatted_query = formatter.format_query(query)\n",
    "query_list = formatted_query.split('\\n')\n"
   ]
  },
  {
   "cell_type": "code",
   "execution_count": 67,
   "metadata": {
    "scrolled": false
   },
   "outputs": [
    {
     "name": "stdout",
     "output_type": "stream",
     "text": [
      "WITH opp_product_share AS\n",
      "  (SELECT DATE_FORMAT(service_start_day, 'yyyy-MM-01') AS service_start_month,\n",
      "          DATE_FORMAT(service_end_day_r, 'yyyy-MM-01') AS service_end_month,\n",
      "          a.*,\n",
      "          arr * SHARE AS arr_p\n",
      "   FROM\n",
      "     (SELECT *,\n",
      "             CASE\n",
      "                 WHEN mapped_product = 'maps'\n",
      "                      AND product_name = 'unknown'\n",
      "                      AND num_items <= 1 THEN 1\n",
      "                 WHEN (total_value > 0\n",
      "                       AND total_product_value = 0) THEN list_price_value / total_value\n",
      "                 WHEN total_product_value > 0 THEN product_value / total_product_value\n",
      "                 ELSE 0\n",
      "             END AS SHARE,\n",
      "             service_end_day AS service_end_day_r\n",
      "      FROM opportunity_product) a),\n",
      "     arr_product_exp AS\n",
      "  (SELECT md.account_id,\n",
      "          md.account_name,\n",
      "          md.product_name,\n",
      "          CASE\n",
      "              WHEN md.mapped_product IN ('bundled') THEN 'maps'\n",
      "              ELSE md.mapped_product\n",
      "          END AS mapped_product,\n",
      "          service_month,\n",
      "          COLLECT_SET(opportunity_id) AS opportunity_id_s,\n",
      "          COLLECT_SET(CASE\n",
      "                          WHEN stage_name NOT IN ('Won', '7 - ICR', 'Won - Pending') THEN opportunity_id\n",
      "                          ELSE NULL\n",
      "                      END) AS opportunity_id_nw,\n",
      "          SUM(arr_p) AS arr_p\n",
      "   FROM arr_by_month_dummy md\n",
      "   LEFT JOIN opp_product_share ps ON md.account_id = ps.account_id\n",
      "   AND md.product_name = ps.product_name\n",
      "   AND md.service_month BETWEEN ps.service_start_month AND ps.service_end_month\n",
      "   GROUP BY md.account_id,\n",
      "            md.account_name,\n",
      "            md.product_name,\n",
      "            md.mapped_product,\n",
      "            service_month),\n",
      "     arr_product_prev AS\n",
      "  (SELECT account_id,\n",
      "          account_name,\n",
      "          mapped_product,\n",
      "          product_name,\n",
      "          service_month,\n",
      "          COALESCE(ROUND(arr_p, 2), 0) AS arr_p,\n",
      "          COALESCE(LAG(ROUND(arr_p, 2)) OVER (PARTITION BY account_id, product_name\n",
      "                                              ORDER BY service_month ASC), 0) AS prev_arr_p,\n",
      "          opportunity_id_s AS opportunity_id,\n",
      "          CONCAT_WS(',', opportunity_id_s) AS opportunity_id_p,\n",
      "          LAG(CONCAT_WS(',', opportunity_id_s)) OVER (PARTITION BY account_id,\n",
      "                                                                   product_name\n",
      "                                                      ORDER BY service_month ASC) AS prev_opportunity_id_p,\n",
      "                                                     CONCAT_WS(',', opportunity_id_nw) AS opportunity_id_nw\n",
      "   FROM arr_product_exp)\n",
      "SELECT service_month,\n",
      "       account_id,\n",
      "       account_name,\n",
      "       mapped_product,\n",
      "       mid_product,\n",
      "       product_name,\n",
      "       account_status,\n",
      "       mapped_status,\n",
      "       mid_status,\n",
      "       product_status,\n",
      "       arr_p,\n",
      "       cum_arr_p,\n",
      "       prev_cum_arr_p,\n",
      "       opportunity_id_p,\n",
      "       prev_opportunity_id_p,\n",
      "       opportunity_id_nw\n",
      "FROM arr_full_status\n"
     ]
    }
   ],
   "source": [
    "print(formatted_query)"
   ]
  },
  {
   "cell_type": "code",
   "execution_count": 68,
   "metadata": {},
   "outputs": [],
   "source": [
    "cte = re.compile(r\"(WITH)*(.*AS\\s*\\(SELECT)\")\n",
    "pos_list = []\n",
    "for pos in cte.finditer(formatted_query):\n",
    "    pos_list.append(pos.start())\n",
    "\n",
    "cte_main = re.compile(r\"(SELECT)\")\n",
    "pos_list_main = []\n",
    "for pos in cte_main.finditer(formatted_query):\n",
    "    pos_list_main.append(pos.start())\n"
   ]
  },
  {
   "cell_type": "code",
   "execution_count": 69,
   "metadata": {
    "scrolled": true
   },
   "outputs": [
    {
     "data": {
      "text/plain": [
       "[0, 766, 1711]"
      ]
     },
     "execution_count": 69,
     "metadata": {},
     "output_type": "execute_result"
    }
   ],
   "source": [
    "pos_list"
   ]
  },
  {
   "cell_type": "code",
   "execution_count": 70,
   "metadata": {},
   "outputs": [],
   "source": [
    "cte = re.compile(r\"(WITH)*(.*AS\\s*\\(SELECT)\")\n",
    "pos_list = []\n",
    "for pos in cte.finditer(formatted_query):\n",
    "    pos_list.append(pos.start())"
   ]
  },
  {
   "cell_type": "code",
   "execution_count": 71,
   "metadata": {},
   "outputs": [
    {
     "data": {
      "text/plain": [
       "\"WITH opp_product_share AS\\n  (SELECT DATE_FORMAT(service_start_day, 'yyyy-MM-01') AS service_start_month,\\n          DATE_FORMAT(service_end_day_r, 'yyyy-MM-01') AS service_end_month,\\n          a.*,\\n          arr * SHARE AS arr_p\\n   FROM\\n     (SELECT *,\\n             CASE\\n                 WHEN mapped_product = 'maps'\\n                      AND product_name = 'unknown'\\n                      AND num_items <= 1 THEN 1\\n                 WHEN (total_value > 0\\n                       AND total_product_value = 0) THEN list_price_value / total_value\\n                 WHEN total_product_value > 0 THEN product_value / total_product_value\\n                 ELSE 0\\n             END AS SHARE,\\n             service_end_day AS service_end_day_r\\n      FROM opportunity_product) a),\\n     arr_product_exp AS\\n  (SELECT md.account_id,\\n          md.account_name,\\n          md.product_name,\\n          CASE\\n              WHEN md.mapped_product IN ('bundled') THEN 'maps'\\n              \""
      ]
     },
     "execution_count": 71,
     "metadata": {},
     "output_type": "execute_result"
    }
   ],
   "source": [
    "formatted_query[:962]"
   ]
  },
  {
   "cell_type": "code",
   "execution_count": 72,
   "metadata": {},
   "outputs": [
    {
     "name": "stdout",
     "output_type": "stream",
     "text": [
      "(0, 35)\n"
     ]
    }
   ],
   "source": [
    "cte = re.compile(r\"(WITH)*(.*AS\\s*\\(SELECT)\")\n",
    "x = re.search(cte, formatted_query[:962])\n",
    "print(x.span())"
   ]
  },
  {
   "cell_type": "code",
   "execution_count": 73,
   "metadata": {},
   "outputs": [
    {
     "data": {
      "text/plain": [
       "'WITH opp_product_share AS\\n '"
      ]
     },
     "execution_count": 73,
     "metadata": {},
     "output_type": "execute_result"
    }
   ],
   "source": [
    "formatted_query[:27]"
   ]
  },
  {
   "cell_type": "code",
   "execution_count": null,
   "metadata": {},
   "outputs": [],
   "source": []
  },
  {
   "cell_type": "code",
   "execution_count": null,
   "metadata": {},
   "outputs": [],
   "source": []
  },
  {
   "cell_type": "code",
   "execution_count": 74,
   "metadata": {},
   "outputs": [
    {
     "name": "stdout",
     "output_type": "stream",
     "text": [
      "0 0\n",
      "1 766\n",
      "2 1711\n"
     ]
    }
   ],
   "source": [
    "for index, pos in enumerate(pos_list): print(index, pos)"
   ]
  },
  {
   "cell_type": "code",
   "execution_count": 75,
   "metadata": {},
   "outputs": [],
   "source": [
    "index = 0; pos = 0"
   ]
  },
  {
   "cell_type": "code",
   "execution_count": 76,
   "metadata": {},
   "outputs": [
    {
     "data": {
      "text/plain": [
       "\"WITH opp_product_share AS\\n  (SELECT DATE_FORMAT(service_start_day, 'yyyy-MM-01') AS service_start_month,\\n          DATE_FORMAT(service_end_day_r, 'yyyy-MM-01') AS service_end_month,\\n          a.*,\\n          arr * SHARE AS arr_p\\n   FROM\\n     (SELECT *,\\n             CASE\\n                 WHEN mapped_product = 'maps'\\n                      AND product_name = 'unknown'\\n                      AND num_items <= 1 THEN 1\\n                 WHEN (total_value > 0\\n                       AND total_product_value = 0) THEN list_price_value / total_value\\n                 WHEN total_product_value > 0 THEN product_value / total_product_value\\n                 ELSE 0\\n             END AS SHARE,\\n             service_end_day AS service_end_day_r\\n      FROM opportunity_product) a),\\n\""
      ]
     },
     "execution_count": 76,
     "metadata": {},
     "output_type": "execute_result"
    }
   ],
   "source": [
    "query = formatted_query\n",
    "query[pos:pos_list[index+1]]"
   ]
  },
  {
   "cell_type": "code",
   "execution_count": 77,
   "metadata": {},
   "outputs": [],
   "source": [
    "# if pos_list != []:\n",
    "query = formatted_query\n",
    "cte_dict = {}\n",
    "for index, pos in enumerate(pos_list):\n",
    "    if index < len(pos_list)-1:\n",
    "        cte_query = query[pos:pos_list[index+1]]\n",
    "    else:\n",
    "        cte_query = query[pos:pos_list_main[-1]]\n",
    "\n",
    "    cte_query = cte_query.rstrip('\\n,')\n",
    "    cte_query = re.sub(r\"\\)$\", \"\", cte_query)\n",
    "\n",
    "    cte_name = re.findall(r\"(WITH)*(.*)AS\", cte_query)[0][1].strip(' ')    \n",
    "    cte_removed = re.compile(r\"\\(SELECT\")\n",
    "    pos_list_removed = []\n",
    "\n",
    "    for pos in cte_removed.finditer(cte_query):\n",
    "        pos_list_removed.append(pos.start())\n",
    "\n",
    "    cte_dict[cte_name] = cte_query[pos_list_removed[0]+1:]\n",
    "\n",
    "cte_dict['main'] = query[pos_list_main[-1]:]\n"
   ]
  },
  {
   "cell_type": "code",
   "execution_count": null,
   "metadata": {},
   "outputs": [],
   "source": []
  },
  {
   "cell_type": "code",
   "execution_count": 78,
   "metadata": {
    "scrolled": false
   },
   "outputs": [
    {
     "data": {
      "text/plain": [
       "{'opp_product_share': \"SELECT DATE_FORMAT(service_start_day, 'yyyy-MM-01') AS service_start_month,\\n          DATE_FORMAT(service_end_day_r, 'yyyy-MM-01') AS service_end_month,\\n          a.*,\\n          arr * SHARE AS arr_p\\n   FROM\\n     (SELECT *,\\n             CASE\\n                 WHEN mapped_product = 'maps'\\n                      AND product_name = 'unknown'\\n                      AND num_items <= 1 THEN 1\\n                 WHEN (total_value > 0\\n                       AND total_product_value = 0) THEN list_price_value / total_value\\n                 WHEN total_product_value > 0 THEN product_value / total_product_value\\n                 ELSE 0\\n             END AS SHARE,\\n             service_end_day AS service_end_day_r\\n      FROM opportunity_product) a\",\n",
       " 'arr_product_exp': \"SELECT md.account_id,\\n          md.account_name,\\n          md.product_name,\\n          CASE\\n              WHEN md.mapped_product IN ('bundled') THEN 'maps'\\n              ELSE md.mapped_product\\n          END AS mapped_product,\\n          service_month,\\n          COLLECT_SET(opportunity_id) AS opportunity_id_s,\\n          COLLECT_SET(CASE\\n                          WHEN stage_name NOT IN ('Won', '7 - ICR', 'Won - Pending') THEN opportunity_id\\n                          ELSE NULL\\n                      END) AS opportunity_id_nw,\\n          SUM(arr_p) AS arr_p\\n   FROM arr_by_month_dummy md\\n   LEFT JOIN opp_product_share ps ON md.account_id = ps.account_id\\n   AND md.product_name = ps.product_name\\n   AND md.service_month BETWEEN ps.service_start_month AND ps.service_end_month\\n   GROUP BY md.account_id,\\n            md.account_name,\\n            md.product_name,\\n            md.mapped_product,\\n            service_month\",\n",
       " 'arr_product_prev': \"SELECT account_id,\\n          account_name,\\n          mapped_product,\\n          product_name,\\n          service_month,\\n          COALESCE(ROUND(arr_p, 2), 0) AS arr_p,\\n          COALESCE(LAG(ROUND(arr_p, 2)) OVER (PARTITION BY account_id, product_name\\n                                              ORDER BY service_month ASC), 0) AS prev_arr_p,\\n          opportunity_id_s AS opportunity_id,\\n          CONCAT_WS(',', opportunity_id_s) AS opportunity_id_p,\\n          LAG(CONCAT_WS(',', opportunity_id_s)) OVER (PARTITION BY account_id,\\n                                                                   product_name\\n                                                      ORDER BY service_month ASC) AS prev_opportunity_id_p,\\n                                                     CONCAT_WS(',', opportunity_id_nw) AS opportunity_id_nw\\n   FROM arr_product_exp\",\n",
       " 'main': 'SELECT service_month,\\n       account_id,\\n       account_name,\\n       mapped_product,\\n       mid_product,\\n       product_name,\\n       account_status,\\n       mapped_status,\\n       mid_status,\\n       product_status,\\n       arr_p,\\n       cum_arr_p,\\n       prev_cum_arr_p,\\n       opportunity_id_p,\\n       prev_opportunity_id_p,\\n       opportunity_id_nw\\nFROM arr_full_status'}"
      ]
     },
     "execution_count": 78,
     "metadata": {},
     "output_type": "execute_result"
    }
   ],
   "source": [
    "cte_dict = formatter.parse_cte(formatted_query)\n",
    "cte_dict"
   ]
  },
  {
   "cell_type": "code",
   "execution_count": 79,
   "metadata": {},
   "outputs": [
    {
     "data": {
      "text/plain": [
       "dict_keys(['opp_product_share', 'arr_product_exp', 'arr_product_prev', 'main'])"
      ]
     },
     "execution_count": 79,
     "metadata": {},
     "output_type": "execute_result"
    }
   ],
   "source": [
    "cte_dict.keys()"
   ]
  },
  {
   "cell_type": "code",
   "execution_count": null,
   "metadata": {},
   "outputs": [],
   "source": []
  }
 ],
 "metadata": {
  "kernelspec": {
   "display_name": "Python 3",
   "language": "python",
   "name": "python3"
  },
  "language_info": {
   "codemirror_mode": {
    "name": "ipython",
    "version": 3
   },
   "file_extension": ".py",
   "mimetype": "text/x-python",
   "name": "python",
   "nbconvert_exporter": "python",
   "pygments_lexer": "ipython3",
   "version": "3.7.4"
  }
 },
 "nbformat": 4,
 "nbformat_minor": 2
}
