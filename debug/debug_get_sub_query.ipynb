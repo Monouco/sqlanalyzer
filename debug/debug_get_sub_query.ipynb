{
 "cells": [
  {
   "cell_type": "code",
   "execution_count": 1,
   "metadata": {},
   "outputs": [],
   "source": [
    "from sqlanalyzer import column_parser\n",
    "import re\n",
    "import json"
   ]
  },
  {
   "cell_type": "code",
   "execution_count": 2,
   "metadata": {},
   "outputs": [],
   "source": [
    "def get_sub_query(query_list):\n",
    "    pos_delete, pos_where = [len(query_list)], len(query_list)\n",
    "\n",
    "    for i, line in enumerate(query_list):\n",
    "        if line.startswith('ORDER') or line.startswith('GROUP'):\n",
    "            pos_delete.append(i)    \n",
    "        elif line.startswith('WHERE'):\n",
    "            pos_where = i\n",
    "\n",
    "    end_of_query = min(pos_delete) \n",
    "\n",
    "    copy_query_list = query_list.copy()\n",
    "    main = next((s for s in copy_query_list if s.startswith('FROM')), 'end of query')\n",
    "    main_pos = copy_query_list.index(main)\n",
    "    main_query = copy_query_list[:main_pos]\n",
    "\n",
    "    if end_of_query == pos_where and end_of_query < len(query_list):\n",
    "    # when one-line WHERE is the end of query, ie no more GROUP BY or ORDER BY\n",
    "        main_query.extend(copy_query_list[pos_where:end_of_query+1])\n",
    "        del copy_query_list[:main_pos]\n",
    "        del copy_query_list[end_of_query-main_pos-1:]\n",
    "        \n",
    "    elif end_of_query == pos_where + 1:\n",
    "    # when there's more after one-line WHERE, eg GROUP BY/ORDER BY\n",
    "        main_query.extend(copy_query_list[pos_where:end_of_query])\n",
    "        del copy_query_list[:main_pos]\n",
    "        del copy_query_list[end_of_query-main_pos-1:]\n",
    "\n",
    "    elif end_of_query > pos_where and end_of_query == len(query_list):\n",
    "    # when multi-line WHERE, no more GROUP BY or ORDER BY\n",
    "        main_query.extend(copy_query_list[pos_where:end_of_query])\n",
    "        del copy_query_list[:main_pos]\n",
    "        del copy_query_list[-(end_of_query-pos_where):]\n",
    "    \n",
    "    elif end_of_query > pos_where and end_of_query < len(query_list):\n",
    "    # when multi-line WHERE, followed by GROUP BY/ORDER BY\n",
    "        main_query.extend(copy_query_list[pos_where:end_of_query])\n",
    "        del copy_query_list[:main_pos]\n",
    "        del copy_query_list[pos_where-main_pos:end_of_query-main_pos]\n",
    "        del copy_query_list[-(len(query_list) - end_of_query):]\n",
    "        \n",
    "    elif end_of_query < pos_where and pos_where == len(query_list):\n",
    "    # when no WHERE, but GROUP BY/ORDER BY/LIMIT\n",
    "        del copy_query_list[:main_pos]\n",
    "        del copy_query_list[end_of_query-1:]\n",
    "      \n",
    "    elif end_of_query == pos_where and end_of_query == len(query_list):\n",
    "    # when no WHERE, no GROUP BY/ORDER BY/LIMIT\n",
    "        del copy_query_list[:main_pos]\n",
    "    \n",
    "    return main_query, copy_query_list\n"
   ]
  },
  {
   "cell_type": "markdown",
   "metadata": {},
   "source": [
    "## Type A: one line WHERE, no GROUP BY/ORDER BY/LIMIT\n",
    "## Type B: one line WHERE, followed by GROUP BY/ORDER BY/LIMIT\n",
    "## Type C: multi-line WHERE, no GROUP BY/ORDER BY/LIMIT\n",
    "## Type D: multi-line WHERE, followed by GROUP BY/ORDER BY/LIMIT\n",
    "## Type E: no WHERE, but GROUP BY/ORDER BY/LIMIT\n",
    "## Type F: no WHERE, no GROUP BY/ORDER BY/LIMIT"
   ]
  },
  {
   "cell_type": "markdown",
   "metadata": {},
   "source": [
    "## debug"
   ]
  },
  {
   "cell_type": "code",
   "execution_count": 6,
   "metadata": {},
   "outputs": [],
   "source": [
    "query = \"\"\"SELECT sfdc_accounts.platform,\\n       sfdc_accounts.mobile_os,\\n       sfdc_accounts.service_metadata,\\n       sfdc_cases.account,\\n       sfdc_cases.num_requests,\\n       sfdc_cases.owner,\\n       sfdc_accounts.user_id\\nFROM sfdc.accounts sfdc_accounts\\nLEFT JOIN\\n  (SELECT MAX(dt)\\n   FROM\\n     (SELECT dt\\n      FROM sfdc.oppty\\n      LEFT JOIN\\n        (SELECT MAX(dt)\\n         FROM\\n           (SELECT DISTINCT dt\\n            FROM sfdc.owner AS sfdc_owner) AS dt_owner ON sfdc_oppty.dt = sfdc_cases.dt)\\n      LEFT JOIN\\n        (SELECT dt\\n         FROM sfdc.cases) sfdc_cases ON sfdc_oppty.dt = sfdc_cases.dt)) AS sfdc_cases_oppty ON sfdc_cases_oppty.dt = sfdc_accounts.dt\\nLEFT JOIN sfdc.cases AS sfdc_cases ON sfdc_cases.id = sfdc_accounts.case_id\\nWHERE sfdc_cases_oppty.dt > '2020-04-03'\\n  AND sfdc_cases_oppty.dt < '2020-05-04'\\nORDER BY 1\\nGROUP BY 3\\nLIMIT 20\n",
    "\"\"\""
   ]
  },
  {
   "cell_type": "code",
   "execution_count": 7,
   "metadata": {},
   "outputs": [],
   "source": [
    "formatter = column_parser.Parser(query)\n",
    "formatted_query = formatter.format_query(query)\n",
    "query_list = formatted_query.split('\\n')\n"
   ]
  },
  {
   "cell_type": "code",
   "execution_count": 11,
   "metadata": {},
   "outputs": [
    {
     "name": "stdout",
     "output_type": "stream",
     "text": [
      "0 SELECT sfdc_accounts.platform,\n",
      "1        sfdc_accounts.mobile_os,\n",
      "2        sfdc_accounts.service_metadata,\n",
      "3        sfdc_cases.account,\n",
      "4        sfdc_cases.num_requests,\n",
      "5        sfdc_cases.owner,\n",
      "6        sfdc_accounts.user_id\n",
      "7 FROM sfdc.accounts sfdc_accounts\n",
      "8 LEFT JOIN\n",
      "9   (SELECT MAX(dt)\n",
      "10    FROM\n",
      "11      (SELECT dt\n",
      "12       FROM sfdc.oppty\n",
      "13       LEFT JOIN\n",
      "14         (SELECT MAX(dt)\n",
      "15          FROM\n",
      "16            (SELECT DISTINCT dt\n",
      "17             FROM sfdc.owner AS sfdc_owner) AS dt_owner ON sfdc_oppty.dt = sfdc_cases.dt)\n",
      "18       LEFT JOIN\n",
      "19         (SELECT dt\n",
      "20          FROM sfdc.cases) sfdc_cases ON sfdc_oppty.dt = sfdc_cases.dt)) AS sfdc_cases_oppty ON sfdc_cases_oppty.dt = sfdc_accounts.dt\n",
      "21 LEFT JOIN sfdc.cases AS sfdc_cases ON sfdc_cases.id = sfdc_accounts.case_id\n",
      "22 WHERE sfdc_cases_oppty.dt > '2020-04-03'\n",
      "23   AND sfdc_cases_oppty.dt < '2020-05-04'\n",
      "24 ORDER BY 1\n",
      "25 GROUP BY 3\n",
      "26 LIMIT 20\n"
     ]
    }
   ],
   "source": [
    "# get_sub_query(query_list)\n",
    "for i,l in enumerate(query_list): print(i,l)"
   ]
  },
  {
   "cell_type": "code",
   "execution_count": 9,
   "metadata": {},
   "outputs": [],
   "source": [
    "pos_delete, pos_where = [len(query_list)], len(query_list)\n",
    "\n",
    "for i, line in enumerate(query_list):\n",
    "    if line.startswith('ORDER') or line.startswith('GROUP'):\n",
    "        pos_delete.append(i)    \n",
    "    elif line.startswith('WHERE'):\n",
    "        pos_where = i\n",
    "\n",
    "end_of_query = min(pos_delete) \n",
    "\n",
    "copy_query_list = query_list.copy()\n",
    "main = next((s for s in copy_query_list if s.startswith('FROM')), 'end of query')\n",
    "main_pos = copy_query_list.index(main)\n",
    "main_query = copy_query_list[:main_pos]\n"
   ]
  },
  {
   "cell_type": "code",
   "execution_count": 10,
   "metadata": {},
   "outputs": [
    {
     "data": {
      "text/plain": [
       "(22, 24)"
      ]
     },
     "execution_count": 10,
     "metadata": {},
     "output_type": "execute_result"
    }
   ],
   "source": [
    "pos_where, end_of_query"
   ]
  },
  {
   "cell_type": "code",
   "execution_count": 14,
   "metadata": {},
   "outputs": [
    {
     "data": {
      "text/plain": [
       "['SELECT sfdc_accounts.platform,',\n",
       " '       sfdc_accounts.mobile_os,',\n",
       " '       sfdc_accounts.service_metadata,',\n",
       " '       sfdc_cases.account,',\n",
       " '       sfdc_cases.num_requests,',\n",
       " '       sfdc_cases.owner,',\n",
       " '       sfdc_accounts.user_id']"
      ]
     },
     "execution_count": 14,
     "metadata": {},
     "output_type": "execute_result"
    }
   ],
   "source": [
    "main_query"
   ]
  },
  {
   "cell_type": "code",
   "execution_count": 13,
   "metadata": {},
   "outputs": [
    {
     "name": "stdout",
     "output_type": "stream",
     "text": [
      "D\n"
     ]
    }
   ],
   "source": [
    "end_of_query > pos_where and end_of_query < len(query_list):\n"
   ]
  },
  {
   "cell_type": "code",
   "execution_count": 15,
   "metadata": {},
   "outputs": [],
   "source": [
    "# when multi-line WHERE, followed by GROUP BY/ORDER BY\n",
    "main_query.extend(copy_query_list[pos_where:end_of_query])\n"
   ]
  },
  {
   "cell_type": "code",
   "execution_count": 26,
   "metadata": {},
   "outputs": [
    {
     "data": {
      "text/plain": [
       "(['SELECT sfdc_accounts.platform,',\n",
       "  '       sfdc_accounts.mobile_os,',\n",
       "  '       sfdc_accounts.service_metadata,',\n",
       "  '       sfdc_cases.account,',\n",
       "  '       sfdc_cases.num_requests,',\n",
       "  '       sfdc_cases.owner,',\n",
       "  '       sfdc_accounts.user_id',\n",
       "  \"WHERE sfdc_cases_oppty.dt > '2020-04-03'\",\n",
       "  \"  AND sfdc_cases_oppty.dt < '2020-05-04'\"],\n",
       " ['FROM sfdc.accounts sfdc_accounts',\n",
       "  'LEFT JOIN',\n",
       "  '  (SELECT MAX(dt)',\n",
       "  '   FROM',\n",
       "  '     (SELECT dt',\n",
       "  '      FROM sfdc.oppty',\n",
       "  '      LEFT JOIN',\n",
       "  '        (SELECT MAX(dt)',\n",
       "  '         FROM',\n",
       "  '           (SELECT DISTINCT dt',\n",
       "  '            FROM sfdc.owner AS sfdc_owner) AS dt_owner ON sfdc_oppty.dt = sfdc_cases.dt)',\n",
       "  '      LEFT JOIN',\n",
       "  '        (SELECT dt',\n",
       "  '         FROM sfdc.cases) sfdc_cases ON sfdc_oppty.dt = sfdc_cases.dt)) AS sfdc_cases_oppty ON sfdc_cases_oppty.dt = sfdc_accounts.dt',\n",
       "  'LEFT JOIN sfdc.cases AS sfdc_cases ON sfdc_cases.id = sfdc_accounts.case_id'])"
      ]
     },
     "execution_count": 26,
     "metadata": {},
     "output_type": "execute_result"
    }
   ],
   "source": [
    "main_query, copy_query_list"
   ]
  },
  {
   "cell_type": "code",
   "execution_count": 25,
   "metadata": {},
   "outputs": [],
   "source": [
    "# del copy_query_list[:main_pos]\n",
    "# del copy_query_list[pos_where-main_pos:end_of_query-main_pos]\n",
    "# del copy_query_list[-(len(query_list) - end_of_query):]"
   ]
  },
  {
   "cell_type": "code",
   "execution_count": null,
   "metadata": {},
   "outputs": [],
   "source": []
  },
  {
   "cell_type": "code",
   "execution_count": null,
   "metadata": {},
   "outputs": [],
   "source": []
  },
  {
   "cell_type": "code",
   "execution_count": null,
   "metadata": {},
   "outputs": [],
   "source": []
  },
  {
   "cell_type": "code",
   "execution_count": null,
   "metadata": {},
   "outputs": [],
   "source": []
  },
  {
   "cell_type": "code",
   "execution_count": null,
   "metadata": {},
   "outputs": [],
   "source": []
  },
  {
   "cell_type": "markdown",
   "metadata": {},
   "source": [
    "## Type A: one line WHERE, no GROUP BY/ORDER BY/LIMIT\n",
    "end_of_query == pos_where"
   ]
  },
  {
   "cell_type": "code",
   "execution_count": 459,
   "metadata": {},
   "outputs": [],
   "source": [
    "query = \"\"\"SELECT *,\n",
    "b.ad, c.dfts\n",
    "   FROM\n",
    "     (SELECT a.*,\n",
    "             b.*,\n",
    "             c.*,\n",
    "             d.*\n",
    "      FROM\n",
    "        (SELECT DISTINCT anonymous_id,\n",
    "                         user_id\n",
    "         FROM mapbox_customer_data.segment_identifies\n",
    "         WHERE dt >= '2018-07-01'\n",
    "           AND anonymous_id IS NOT NULL\n",
    "           AND user_id IS NOT NULL ) a\n",
    "        )\n",
    "   WHERE context_campaign_name IS NOT NULL \n",
    "\"\"\""
   ]
  },
  {
   "cell_type": "code",
   "execution_count": 460,
   "metadata": {},
   "outputs": [],
   "source": [
    "formatter = column_parser.Parser(query)\n",
    "formatted_query = formatter.format_query(query)\n",
    "query_list = formatted_query.split('\\n')\n"
   ]
  },
  {
   "cell_type": "code",
   "execution_count": 461,
   "metadata": {},
   "outputs": [
    {
     "data": {
      "text/plain": [
       "(['SELECT *,',\n",
       "  '       b.ad,',\n",
       "  '       c.dfts',\n",
       "  'WHERE context_campaign_name IS NOT NULL'],\n",
       " ['FROM',\n",
       "  '  (SELECT a.*,',\n",
       "  '          b.*,',\n",
       "  '          c.*,',\n",
       "  '          d.*',\n",
       "  '   FROM',\n",
       "  '     (SELECT DISTINCT anonymous_id,',\n",
       "  '                      user_id',\n",
       "  '      FROM mapbox_customer_data.segment_identifies',\n",
       "  \"      WHERE dt >= '2018-07-01'\",\n",
       "  '        AND anonymous_id IS NOT NULL',\n",
       "  '        AND user_id IS NOT NULL ) a)'])"
      ]
     },
     "execution_count": 461,
     "metadata": {},
     "output_type": "execute_result"
    }
   ],
   "source": [
    "get_sub_query(query_list)"
   ]
  },
  {
   "cell_type": "code",
   "execution_count": 451,
   "metadata": {},
   "outputs": [],
   "source": [
    "pos_delete, pos_where = [len(query_list)], len(query_list)\n",
    "\n",
    "for i, line in enumerate(query_list):\n",
    "    if line.startswith('ORDER') or line.startswith('GROUP'):\n",
    "        pos_delete.append(i)    \n",
    "    elif line.startswith('WHERE'):\n",
    "        pos_where = i\n",
    "\n",
    "end_of_query = min(pos_delete) \n",
    "\n",
    "copy_query_list = query_list.copy()\n",
    "main = next((s for s in copy_query_list if s.startswith('FROM')), 'end of query')\n",
    "main_pos = copy_query_list.index(main)\n",
    "main_query = copy_query_list[:main_pos]\n"
   ]
  },
  {
   "cell_type": "code",
   "execution_count": 452,
   "metadata": {},
   "outputs": [
    {
     "data": {
      "text/plain": [
       "(15, 16)"
      ]
     },
     "execution_count": 452,
     "metadata": {},
     "output_type": "execute_result"
    }
   ],
   "source": [
    "pos_where, end_of_query"
   ]
  },
  {
   "cell_type": "code",
   "execution_count": 453,
   "metadata": {},
   "outputs": [
    {
     "data": {
      "text/plain": [
       "['SELECT *,', '       b.ad,', '       c.dfts']"
      ]
     },
     "execution_count": 453,
     "metadata": {},
     "output_type": "execute_result"
    }
   ],
   "source": [
    "main_query"
   ]
  },
  {
   "cell_type": "code",
   "execution_count": 454,
   "metadata": {},
   "outputs": [
    {
     "data": {
      "text/plain": [
       "True"
      ]
     },
     "execution_count": 454,
     "metadata": {},
     "output_type": "execute_result"
    }
   ],
   "source": [
    "end_of_query == pos_where + 1"
   ]
  },
  {
   "cell_type": "code",
   "execution_count": 455,
   "metadata": {},
   "outputs": [],
   "source": [
    "main_query.extend(copy_query_list[pos_where:end_of_query+1])\n",
    "del copy_query_list[:main_pos]\n",
    "del copy_query_list[end_of_query-main_pos-1:]"
   ]
  },
  {
   "cell_type": "code",
   "execution_count": 456,
   "metadata": {},
   "outputs": [],
   "source": [
    "# del copy_query_list[end_of_query-1:]"
   ]
  },
  {
   "cell_type": "code",
   "execution_count": 457,
   "metadata": {},
   "outputs": [
    {
     "data": {
      "text/plain": [
       "(['SELECT *,',\n",
       "  '       b.ad,',\n",
       "  '       c.dfts',\n",
       "  'WHERE context_campaign_name IS NOT NULL'],\n",
       " ['FROM',\n",
       "  '  (SELECT a.*,',\n",
       "  '          b.*,',\n",
       "  '          c.*,',\n",
       "  '          d.*',\n",
       "  '   FROM',\n",
       "  '     (SELECT DISTINCT anonymous_id,',\n",
       "  '                      user_id',\n",
       "  '      FROM mapbox_customer_data.segment_identifies',\n",
       "  \"      WHERE dt >= '2018-07-01'\",\n",
       "  '        AND anonymous_id IS NOT NULL',\n",
       "  '        AND user_id IS NOT NULL ) a)'])"
      ]
     },
     "execution_count": 457,
     "metadata": {},
     "output_type": "execute_result"
    }
   ],
   "source": [
    "main_query, copy_query_list"
   ]
  },
  {
   "cell_type": "markdown",
   "metadata": {},
   "source": [
    "## Type B: one line WHERE, followed by GROUP BY/ORDER BY/LIMIT"
   ]
  },
  {
   "cell_type": "code",
   "execution_count": 472,
   "metadata": {},
   "outputs": [],
   "source": [
    "query = \"\"\"SELECT *, c.dfsb, c.sdf, a.cbd\n",
    "   FROM\n",
    "     (SELECT a.*,\n",
    "             b.*,\n",
    "             c.*,\n",
    "             d.*\n",
    "      FROM\n",
    "        (SELECT DISTINCT anonymous_id,\n",
    "                         user_id\n",
    "         FROM mapbox_customer_data.segment_identifies\n",
    "         WHERE dt >= '2018-07-01'\n",
    "           AND anonymous_id IS NOT NULL\n",
    "           AND user_id IS NOT NULL ) a\n",
    "        )\n",
    "   WHERE context_campaign_name IS NOT NULL \n",
    "   GROUP BY 1\n",
    "   ORDER BY 3\n",
    " \n",
    "\"\"\""
   ]
  },
  {
   "cell_type": "code",
   "execution_count": 473,
   "metadata": {
    "scrolled": true
   },
   "outputs": [],
   "source": [
    "formatter = column_parser.Parser(query)\n",
    "formatted_query = formatter.format_query(query)\n",
    "query_list = formatted_query.split('\\n')\n",
    "# print(formatted_query)\n"
   ]
  },
  {
   "cell_type": "code",
   "execution_count": 474,
   "metadata": {},
   "outputs": [
    {
     "data": {
      "text/plain": [
       "(['SELECT *,',\n",
       "  '       c.dfsb,',\n",
       "  '       c.sdf,',\n",
       "  '       a.cbd',\n",
       "  'WHERE context_campaign_name IS NOT NULL'],\n",
       " ['FROM',\n",
       "  '  (SELECT a.*,',\n",
       "  '          b.*,',\n",
       "  '          c.*,',\n",
       "  '          d.*',\n",
       "  '   FROM',\n",
       "  '     (SELECT DISTINCT anonymous_id,',\n",
       "  '                      user_id',\n",
       "  '      FROM mapbox_customer_data.segment_identifies',\n",
       "  \"      WHERE dt >= '2018-07-01'\",\n",
       "  '        AND anonymous_id IS NOT NULL',\n",
       "  '        AND user_id IS NOT NULL ) a)'])"
      ]
     },
     "execution_count": 474,
     "metadata": {},
     "output_type": "execute_result"
    }
   ],
   "source": [
    "get_sub_query(query_list)"
   ]
  },
  {
   "cell_type": "code",
   "execution_count": 465,
   "metadata": {},
   "outputs": [],
   "source": [
    "pos_delete, pos_where = [len(query_list)], len(query_list)\n",
    "\n",
    "for i, line in enumerate(query_list):\n",
    "    if line.startswith('ORDER') or line.startswith('GROUP'):\n",
    "        pos_delete.append(i)    \n",
    "    elif line.startswith('WHERE'):\n",
    "        pos_where = i\n",
    "\n",
    "end_of_query = min(pos_delete) \n",
    "\n",
    "copy_query_list = query_list.copy()\n",
    "main = next((s for s in copy_query_list if s.startswith('FROM')), 'end of query')\n",
    "main_pos = copy_query_list.index(main)\n",
    "main_query = copy_query_list[:main_pos]\n"
   ]
  },
  {
   "cell_type": "code",
   "execution_count": 466,
   "metadata": {},
   "outputs": [
    {
     "data": {
      "text/plain": [
       "(16, 17)"
      ]
     },
     "execution_count": 466,
     "metadata": {},
     "output_type": "execute_result"
    }
   ],
   "source": [
    "pos_where, end_of_query"
   ]
  },
  {
   "cell_type": "code",
   "execution_count": 467,
   "metadata": {},
   "outputs": [
    {
     "data": {
      "text/plain": [
       "True"
      ]
     },
     "execution_count": 467,
     "metadata": {},
     "output_type": "execute_result"
    }
   ],
   "source": [
    "end_of_query == pos_where + 1"
   ]
  },
  {
   "cell_type": "code",
   "execution_count": 468,
   "metadata": {},
   "outputs": [
    {
     "data": {
      "text/plain": [
       "['WHERE context_campaign_name IS NOT NULL']"
      ]
     },
     "execution_count": 468,
     "metadata": {},
     "output_type": "execute_result"
    }
   ],
   "source": [
    "copy_query_list[pos_where:end_of_query]"
   ]
  },
  {
   "cell_type": "code",
   "execution_count": 469,
   "metadata": {},
   "outputs": [],
   "source": [
    "main_query.extend(copy_query_list[pos_where:end_of_query])\n",
    "del copy_query_list[:main_pos]\n",
    "del copy_query_list[end_of_query-main_pos-1:]"
   ]
  },
  {
   "cell_type": "code",
   "execution_count": 470,
   "metadata": {},
   "outputs": [
    {
     "data": {
      "text/plain": [
       "(['SELECT *,',\n",
       "  '       c.dfsb,',\n",
       "  '       c.sdf,',\n",
       "  '       a.cbd',\n",
       "  'WHERE context_campaign_name IS NOT NULL'],\n",
       " ['FROM',\n",
       "  '  (SELECT a.*,',\n",
       "  '          b.*,',\n",
       "  '          c.*,',\n",
       "  '          d.*',\n",
       "  '   FROM',\n",
       "  '     (SELECT DISTINCT anonymous_id,',\n",
       "  '                      user_id',\n",
       "  '      FROM mapbox_customer_data.segment_identifies',\n",
       "  \"      WHERE dt >= '2018-07-01'\",\n",
       "  '        AND anonymous_id IS NOT NULL',\n",
       "  '        AND user_id IS NOT NULL ) a)'])"
      ]
     },
     "execution_count": 470,
     "metadata": {},
     "output_type": "execute_result"
    }
   ],
   "source": [
    "main_query, copy_query_list"
   ]
  },
  {
   "cell_type": "markdown",
   "metadata": {},
   "source": [
    "## type C: multi-line WHERE, no GROUP BY/ORDER BY"
   ]
  },
  {
   "cell_type": "code",
   "execution_count": 475,
   "metadata": {},
   "outputs": [],
   "source": [
    "query = \"\"\"SELECT email,\n",
    "       created_date,\n",
    "       last_mql_date_c,\n",
    "       mql_flag\n",
    "FROM\n",
    "  (SELECT email,\n",
    "          min(created_date) created_date,\n",
    "          max(last_mql_date_c) last_mql_date_c,\n",
    "          CASE\n",
    "              WHEN max(last_mql_date_c) IS NOT NULL THEN 1\n",
    "              ELSE 0\n",
    "          END AS mql_flag,\n",
    "          sum(CASE\n",
    "                  WHEN is_deleted = TRUE THEN 1\n",
    "                  ELSE 0\n",
    "              END) AS is_deleted\n",
    "   FROM sales.salesforce_leads\n",
    "   WHERE cast(dt AS DATE) = CURRENT_DATE - INTERVAL '1' DAY\n",
    "   GROUP BY 1)\n",
    "WHERE mql_flag = 1\n",
    "  AND is_deleted = 0\n",
    "  AND dt = '2020'\n",
    "\"\"\""
   ]
  },
  {
   "cell_type": "code",
   "execution_count": 476,
   "metadata": {},
   "outputs": [],
   "source": [
    "formatter = column_parser.Parser(query)\n",
    "formatted_query = formatter.format_query(query)\n",
    "query_list = formatted_query.split('\\n')"
   ]
  },
  {
   "cell_type": "code",
   "execution_count": 477,
   "metadata": {},
   "outputs": [
    {
     "data": {
      "text/plain": [
       "(['SELECT email,',\n",
       "  '       created_date,',\n",
       "  '       last_mql_date_c,',\n",
       "  '       mql_flag',\n",
       "  'WHERE mql_flag = 1',\n",
       "  '  AND is_deleted = 0',\n",
       "  \"  AND dt = '2020'\"],\n",
       " ['FROM',\n",
       "  '  (SELECT email,',\n",
       "  '          min(created_date) created_date,',\n",
       "  '          max(last_mql_date_c) last_mql_date_c,',\n",
       "  '          CASE',\n",
       "  '              WHEN max(last_mql_date_c) IS NOT NULL THEN 1',\n",
       "  '              ELSE 0',\n",
       "  '          END AS mql_flag,',\n",
       "  '          sum(CASE',\n",
       "  '                  WHEN is_deleted = TRUE THEN 1',\n",
       "  '                  ELSE 0',\n",
       "  '              END) AS is_deleted',\n",
       "  '   FROM sales.salesforce_leads',\n",
       "  \"   WHERE cast(dt AS DATE) = CURRENT_DATE - INTERVAL '1' DAY\",\n",
       "  '   GROUP BY 1)'])"
      ]
     },
     "execution_count": 477,
     "metadata": {},
     "output_type": "execute_result"
    }
   ],
   "source": [
    "get_sub_query(query_list)"
   ]
  },
  {
   "cell_type": "code",
   "execution_count": 478,
   "metadata": {},
   "outputs": [],
   "source": [
    "pos_delete, pos_where = [len(query_list)], len(query_list)\n",
    "\n",
    "for i, line in enumerate(query_list):\n",
    "    if line.startswith('ORDER') or line.startswith('GROUP'):\n",
    "        pos_delete.append(i)    \n",
    "    elif line.startswith('WHERE'):\n",
    "        pos_where = i\n",
    "\n",
    "end_of_query = min(pos_delete) \n",
    "\n",
    "copy_query_list = query_list.copy()\n",
    "main = next((s for s in copy_query_list if s.startswith('FROM')), 'end of query')\n",
    "main_pos = copy_query_list.index(main)\n",
    "main_query = copy_query_list[:main_pos]\n"
   ]
  },
  {
   "cell_type": "code",
   "execution_count": 479,
   "metadata": {},
   "outputs": [
    {
     "data": {
      "text/plain": [
       "(19, 22)"
      ]
     },
     "execution_count": 479,
     "metadata": {},
     "output_type": "execute_result"
    }
   ],
   "source": [
    "pos_where, end_of_query"
   ]
  },
  {
   "cell_type": "code",
   "execution_count": 480,
   "metadata": {
    "scrolled": true
   },
   "outputs": [
    {
     "data": {
      "text/plain": [
       "True"
      ]
     },
     "execution_count": 480,
     "metadata": {},
     "output_type": "execute_result"
    }
   ],
   "source": [
    "end_of_query > pos_where and end_of_query == len(query_list)"
   ]
  },
  {
   "cell_type": "code",
   "execution_count": 481,
   "metadata": {},
   "outputs": [],
   "source": [
    "main_query.extend(copy_query_list[pos_where:end_of_query])\n",
    "del copy_query_list[:main_pos]\n",
    "del copy_query_list[-(end_of_query-pos_where):]"
   ]
  },
  {
   "cell_type": "code",
   "execution_count": 482,
   "metadata": {},
   "outputs": [
    {
     "data": {
      "text/plain": [
       "(['SELECT email,',\n",
       "  '       created_date,',\n",
       "  '       last_mql_date_c,',\n",
       "  '       mql_flag',\n",
       "  'WHERE mql_flag = 1',\n",
       "  '  AND is_deleted = 0',\n",
       "  \"  AND dt = '2020'\"],\n",
       " ['FROM',\n",
       "  '  (SELECT email,',\n",
       "  '          min(created_date) created_date,',\n",
       "  '          max(last_mql_date_c) last_mql_date_c,',\n",
       "  '          CASE',\n",
       "  '              WHEN max(last_mql_date_c) IS NOT NULL THEN 1',\n",
       "  '              ELSE 0',\n",
       "  '          END AS mql_flag,',\n",
       "  '          sum(CASE',\n",
       "  '                  WHEN is_deleted = TRUE THEN 1',\n",
       "  '                  ELSE 0',\n",
       "  '              END) AS is_deleted',\n",
       "  '   FROM sales.salesforce_leads',\n",
       "  \"   WHERE cast(dt AS DATE) = CURRENT_DATE - INTERVAL '1' DAY\",\n",
       "  '   GROUP BY 1)'])"
      ]
     },
     "execution_count": 482,
     "metadata": {},
     "output_type": "execute_result"
    }
   ],
   "source": [
    "main_query, copy_query_list"
   ]
  },
  {
   "cell_type": "markdown",
   "metadata": {},
   "source": [
    "## Type D: multi-line WHERE, followed by GROUP BY/ORDER BY/LIMIT"
   ]
  },
  {
   "cell_type": "code",
   "execution_count": 483,
   "metadata": {},
   "outputs": [],
   "source": [
    "query = \"\"\"SELECT *,\n",
    "b.dt,\n",
    "c.abc\n",
    "   FROM\n",
    "     (SELECT a.*,\n",
    "             b.*,\n",
    "             c.*,\n",
    "             d.*\n",
    "      FROM\n",
    "        (SELECT DISTINCT anonymous_id,\n",
    "                         user_id\n",
    "         FROM mapbox_customer_data.segment_identifies\n",
    "         WHERE dt >= '2018-07-01'\n",
    "           AND anonymous_id IS NOT NULL\n",
    "           AND user_id IS NOT NULL ) a\n",
    "        )\n",
    "WHERE mql_flag = 1\n",
    "  AND is_deleted = 0\n",
    "   GROUP BY 1\n",
    "   ORDER BY 3\n",
    "   LIMIT 5\n",
    "\"\"\""
   ]
  },
  {
   "cell_type": "code",
   "execution_count": 484,
   "metadata": {
    "scrolled": true
   },
   "outputs": [],
   "source": [
    "formatter = column_parser.Parser(query)\n",
    "formatted_query = formatter.format_query(query)\n",
    "query_list = formatted_query.split('\\n')\n",
    "# print(formatted_query)\n"
   ]
  },
  {
   "cell_type": "code",
   "execution_count": 485,
   "metadata": {},
   "outputs": [
    {
     "data": {
      "text/plain": [
       "(['SELECT *,',\n",
       "  '       b.dt,',\n",
       "  '       c.abc',\n",
       "  'WHERE mql_flag = 1',\n",
       "  '  AND is_deleted = 0'],\n",
       " ['FROM',\n",
       "  '  (SELECT a.*,',\n",
       "  '          b.*,',\n",
       "  '          c.*,',\n",
       "  '          d.*',\n",
       "  '   FROM',\n",
       "  '     (SELECT DISTINCT anonymous_id,',\n",
       "  '                      user_id',\n",
       "  '      FROM mapbox_customer_data.segment_identifies',\n",
       "  \"      WHERE dt >= '2018-07-01'\"])"
      ]
     },
     "execution_count": 485,
     "metadata": {},
     "output_type": "execute_result"
    }
   ],
   "source": [
    "get_sub_query(query_list)"
   ]
  },
  {
   "cell_type": "code",
   "execution_count": 409,
   "metadata": {},
   "outputs": [],
   "source": [
    "pos_delete, pos_where = [len(query_list)], len(query_list)\n",
    "\n",
    "for i, line in enumerate(query_list):\n",
    "    if line.startswith('ORDER') or line.startswith('GROUP'):\n",
    "        pos_delete.append(i)    \n",
    "    elif line.startswith('WHERE'):\n",
    "        pos_where = i\n",
    "\n",
    "end_of_query = min(pos_delete) \n",
    "\n",
    "copy_query_list = query_list.copy()\n",
    "main = next((s for s in copy_query_list if s.startswith('FROM')), 'end of query')\n",
    "main_pos = copy_query_list.index(main)\n",
    "main_query = copy_query_list[:main_pos]\n"
   ]
  },
  {
   "cell_type": "code",
   "execution_count": 410,
   "metadata": {
    "scrolled": true
   },
   "outputs": [
    {
     "data": {
      "text/plain": [
       "(15, 17)"
      ]
     },
     "execution_count": 410,
     "metadata": {},
     "output_type": "execute_result"
    }
   ],
   "source": [
    "pos_where, end_of_query"
   ]
  },
  {
   "cell_type": "code",
   "execution_count": 411,
   "metadata": {},
   "outputs": [
    {
     "data": {
      "text/plain": [
       "True"
      ]
     },
     "execution_count": 411,
     "metadata": {},
     "output_type": "execute_result"
    }
   ],
   "source": [
    "end_of_query > pos_where and end_of_query < len(query_list)"
   ]
  },
  {
   "cell_type": "code",
   "execution_count": 412,
   "metadata": {},
   "outputs": [],
   "source": [
    "main_query.extend(copy_query_list[pos_where:end_of_query])\n",
    "del copy_query_list[:main_pos]\n",
    "del copy_query_list[pos_where-main_pos:end_of_query-main_pos]\n",
    "del copy_query_list[-(end_of_query - (pos_where-main_pos)):]"
   ]
  },
  {
   "cell_type": "code",
   "execution_count": 413,
   "metadata": {},
   "outputs": [
    {
     "data": {
      "text/plain": [
       "(['SELECT *,',\n",
       "  '       b.dt,',\n",
       "  '       c.abc',\n",
       "  'WHERE mql_flag = 1',\n",
       "  '  AND is_deleted = 0'],\n",
       " ['FROM',\n",
       "  '  (SELECT a.*,',\n",
       "  '          b.*,',\n",
       "  '          c.*,',\n",
       "  '          d.*',\n",
       "  '   FROM',\n",
       "  '     (SELECT DISTINCT anonymous_id,',\n",
       "  '                      user_id',\n",
       "  '      FROM mapbox_customer_data.segment_identifies',\n",
       "  \"      WHERE dt >= '2018-07-01'\"])"
      ]
     },
     "execution_count": 413,
     "metadata": {},
     "output_type": "execute_result"
    }
   ],
   "source": [
    "main_query, copy_query_list"
   ]
  },
  {
   "cell_type": "markdown",
   "metadata": {},
   "source": [
    "## Type E: no WHERE, but GROUP BY/ORDER BY/LIMIT"
   ]
  },
  {
   "cell_type": "code",
   "execution_count": 489,
   "metadata": {},
   "outputs": [],
   "source": [
    "query = \"\"\"SELECT *, a.cbdf,f.dbfs\n",
    "   FROM\n",
    "     (SELECT a.*,\n",
    "             b.*,\n",
    "             c.*,\n",
    "             d.*\n",
    "      FROM\n",
    "        (SELECT DISTINCT anonymous_id,\n",
    "                         user_id\n",
    "         FROM mapbox_customer_data.segment_identifies\n",
    "         WHERE dt >= '2018-07-01'\n",
    "           AND anonymous_id IS NOT NULL\n",
    "           AND user_id IS NOT NULL ) a\n",
    "        )\n",
    "   GROUP BY 1\n",
    "   ORDER BY 3\n",
    "   LIMIT 5\n",
    "\"\"\""
   ]
  },
  {
   "cell_type": "code",
   "execution_count": 490,
   "metadata": {
    "scrolled": true
   },
   "outputs": [],
   "source": [
    "formatter = column_parser.Parser(query)\n",
    "formatted_query = formatter.format_query(query)\n",
    "query_list = formatted_query.split('\\n')\n",
    "# print(formatted_query)\n"
   ]
  },
  {
   "cell_type": "code",
   "execution_count": 491,
   "metadata": {},
   "outputs": [
    {
     "data": {
      "text/plain": [
       "(['SELECT *,', '       a.cbdf,', '       f.dbfs'],\n",
       " ['FROM',\n",
       "  '  (SELECT a.*,',\n",
       "  '          b.*,',\n",
       "  '          c.*,',\n",
       "  '          d.*',\n",
       "  '   FROM',\n",
       "  '     (SELECT DISTINCT anonymous_id,',\n",
       "  '                      user_id',\n",
       "  '      FROM mapbox_customer_data.segment_identifies',\n",
       "  \"      WHERE dt >= '2018-07-01'\",\n",
       "  '        AND anonymous_id IS NOT NULL',\n",
       "  '        AND user_id IS NOT NULL ) a)',\n",
       "  'GROUP BY 1',\n",
       "  'ORDER BY 3'])"
      ]
     },
     "execution_count": 491,
     "metadata": {},
     "output_type": "execute_result"
    }
   ],
   "source": [
    "get_sub_query(query_list)"
   ]
  },
  {
   "cell_type": "code",
   "execution_count": 429,
   "metadata": {},
   "outputs": [],
   "source": [
    "pos_delete, pos_where = [len(query_list)], len(query_list)\n",
    "\n",
    "for i, line in enumerate(query_list):\n",
    "    if line.startswith('ORDER') or line.startswith('GROUP'):\n",
    "        pos_delete.append(i)    \n",
    "    elif line.startswith('WHERE'):\n",
    "        pos_where = i\n",
    "\n",
    "end_of_query = min(pos_delete) \n",
    "\n",
    "copy_query_list = query_list.copy()\n",
    "main = next((s for s in copy_query_list if s.startswith('FROM')), 'end of query')\n",
    "main_pos = copy_query_list.index(main)\n",
    "main_query = copy_query_list[:main_pos]\n"
   ]
  },
  {
   "cell_type": "code",
   "execution_count": 430,
   "metadata": {},
   "outputs": [
    {
     "name": "stdout",
     "output_type": "stream",
     "text": [
      "0 SELECT *\n",
      "1 FROM\n",
      "2   (SELECT a.*,\n",
      "3           b.*,\n",
      "4           c.*,\n",
      "5           d.*\n",
      "6    FROM\n",
      "7      (SELECT DISTINCT anonymous_id,\n",
      "8                       user_id\n",
      "9       FROM mapbox_customer_data.segment_identifies\n",
      "10       WHERE dt >= '2018-07-01'\n",
      "11         AND anonymous_id IS NOT NULL\n",
      "12         AND user_id IS NOT NULL ) a)\n",
      "13 GROUP BY 1\n",
      "14 ORDER BY 3\n",
      "15 LIMIT 5\n"
     ]
    }
   ],
   "source": [
    "for i,l in enumerate(query_list): print(i,l)"
   ]
  },
  {
   "cell_type": "code",
   "execution_count": 431,
   "metadata": {},
   "outputs": [
    {
     "data": {
      "text/plain": [
       "(16, 13)"
      ]
     },
     "execution_count": 431,
     "metadata": {},
     "output_type": "execute_result"
    }
   ],
   "source": [
    "pos_where, end_of_query "
   ]
  },
  {
   "cell_type": "code",
   "execution_count": 432,
   "metadata": {},
   "outputs": [
    {
     "data": {
      "text/plain": [
       "True"
      ]
     },
     "execution_count": 432,
     "metadata": {},
     "output_type": "execute_result"
    }
   ],
   "source": [
    "end_of_query < pos_where and pos_where == len(query_list) "
   ]
  },
  {
   "cell_type": "code",
   "execution_count": 433,
   "metadata": {},
   "outputs": [],
   "source": [
    "del copy_query_list[:main_pos]\n",
    "del copy_query_list[end_of_query-1:]"
   ]
  },
  {
   "cell_type": "code",
   "execution_count": 434,
   "metadata": {},
   "outputs": [
    {
     "data": {
      "text/plain": [
       "(['SELECT *'],\n",
       " ['FROM',\n",
       "  '  (SELECT a.*,',\n",
       "  '          b.*,',\n",
       "  '          c.*,',\n",
       "  '          d.*',\n",
       "  '   FROM',\n",
       "  '     (SELECT DISTINCT anonymous_id,',\n",
       "  '                      user_id',\n",
       "  '      FROM mapbox_customer_data.segment_identifies',\n",
       "  \"      WHERE dt >= '2018-07-01'\",\n",
       "  '        AND anonymous_id IS NOT NULL',\n",
       "  '        AND user_id IS NOT NULL ) a)'])"
      ]
     },
     "execution_count": 434,
     "metadata": {},
     "output_type": "execute_result"
    }
   ],
   "source": [
    "main_query, copy_query_list"
   ]
  },
  {
   "cell_type": "code",
   "execution_count": null,
   "metadata": {},
   "outputs": [],
   "source": []
  },
  {
   "cell_type": "code",
   "execution_count": null,
   "metadata": {},
   "outputs": [],
   "source": []
  },
  {
   "cell_type": "code",
   "execution_count": null,
   "metadata": {},
   "outputs": [],
   "source": []
  },
  {
   "cell_type": "markdown",
   "metadata": {},
   "source": [
    "## Type F: no WHERE, no GROUP BY/ORDER BY/LIMIT"
   ]
  },
  {
   "cell_type": "code",
   "execution_count": 494,
   "metadata": {},
   "outputs": [],
   "source": [
    "query = \"\"\"SELECT *, a.cn, dnf.cvs\n",
    "   FROM\n",
    "     (SELECT a.*,\n",
    "             b.*,\n",
    "             c.*,\n",
    "             d.*\n",
    "      FROM\n",
    "        (SELECT DISTINCT anonymous_id,\n",
    "                         user_id\n",
    "         FROM mapbox_customer_data.segment_identifies\n",
    "         WHERE dt >= '2018-07-01'\n",
    "           AND anonymous_id IS NOT NULL\n",
    "           AND user_id IS NOT NULL ) a\n",
    "        )\n",
    "\"\"\""
   ]
  },
  {
   "cell_type": "code",
   "execution_count": 495,
   "metadata": {},
   "outputs": [],
   "source": [
    "formatter = column_parser.Parser(query)\n",
    "formatted_query = formatter.format_query(query)\n",
    "query_list = formatted_query.split('\\n')\n",
    "# print(formatted_query)\n"
   ]
  },
  {
   "cell_type": "code",
   "execution_count": 496,
   "metadata": {},
   "outputs": [
    {
     "data": {
      "text/plain": [
       "(['SELECT *,', '       a.cn,', '       dnf.cvs'],\n",
       " ['FROM',\n",
       "  '  (SELECT a.*,',\n",
       "  '          b.*,',\n",
       "  '          c.*,',\n",
       "  '          d.*',\n",
       "  '   FROM',\n",
       "  '     (SELECT DISTINCT anonymous_id,',\n",
       "  '                      user_id',\n",
       "  '      FROM mapbox_customer_data.segment_identifies',\n",
       "  \"      WHERE dt >= '2018-07-01'\",\n",
       "  '        AND anonymous_id IS NOT NULL',\n",
       "  '        AND user_id IS NOT NULL ) a)'])"
      ]
     },
     "execution_count": 496,
     "metadata": {},
     "output_type": "execute_result"
    }
   ],
   "source": [
    "get_sub_query(query_list)"
   ]
  },
  {
   "cell_type": "code",
   "execution_count": 437,
   "metadata": {},
   "outputs": [],
   "source": [
    "pos_delete, pos_where = [len(query_list)], len(query_list)\n",
    "\n",
    "for i, line in enumerate(query_list):\n",
    "    if line.startswith('ORDER') or line.startswith('GROUP'):\n",
    "        pos_delete.append(i)    \n",
    "    elif line.startswith('WHERE'):\n",
    "        pos_where = i\n",
    "\n",
    "end_of_query = min(pos_delete) \n",
    "\n",
    "copy_query_list = query_list.copy()\n",
    "main = next((s for s in copy_query_list if s.startswith('FROM')), 'end of query')\n",
    "main_pos = copy_query_list.index(main)\n",
    "main_query = copy_query_list[:main_pos]\n"
   ]
  },
  {
   "cell_type": "code",
   "execution_count": 438,
   "metadata": {},
   "outputs": [
    {
     "data": {
      "text/plain": [
       "(13, 13)"
      ]
     },
     "execution_count": 438,
     "metadata": {},
     "output_type": "execute_result"
    }
   ],
   "source": [
    "pos_where, end_of_query "
   ]
  },
  {
   "cell_type": "code",
   "execution_count": 441,
   "metadata": {},
   "outputs": [
    {
     "data": {
      "text/plain": [
       "True"
      ]
     },
     "execution_count": 441,
     "metadata": {},
     "output_type": "execute_result"
    }
   ],
   "source": [
    "c"
   ]
  },
  {
   "cell_type": "code",
   "execution_count": 443,
   "metadata": {},
   "outputs": [],
   "source": [
    "del copy_query_list[:main_pos]"
   ]
  },
  {
   "cell_type": "code",
   "execution_count": 444,
   "metadata": {},
   "outputs": [
    {
     "data": {
      "text/plain": [
       "(['SELECT *'],\n",
       " ['FROM',\n",
       "  '  (SELECT a.*,',\n",
       "  '          b.*,',\n",
       "  '          c.*,',\n",
       "  '          d.*',\n",
       "  '   FROM',\n",
       "  '     (SELECT DISTINCT anonymous_id,',\n",
       "  '                      user_id',\n",
       "  '      FROM mapbox_customer_data.segment_identifies',\n",
       "  \"      WHERE dt >= '2018-07-01'\",\n",
       "  '        AND anonymous_id IS NOT NULL',\n",
       "  '        AND user_id IS NOT NULL ) a)'])"
      ]
     },
     "execution_count": 444,
     "metadata": {},
     "output_type": "execute_result"
    }
   ],
   "source": [
    "main_query, copy_query_list"
   ]
  },
  {
   "cell_type": "code",
   "execution_count": null,
   "metadata": {},
   "outputs": [],
   "source": []
  },
  {
   "cell_type": "code",
   "execution_count": null,
   "metadata": {},
   "outputs": [],
   "source": []
  },
  {
   "cell_type": "code",
   "execution_count": null,
   "metadata": {},
   "outputs": [],
   "source": []
  }
 ],
 "metadata": {
  "kernelspec": {
   "display_name": "Python 3",
   "language": "python",
   "name": "python3"
  },
  "language_info": {
   "codemirror_mode": {
    "name": "ipython",
    "version": 3
   },
   "file_extension": ".py",
   "mimetype": "text/x-python",
   "name": "python",
   "nbconvert_exporter": "python",
   "pygments_lexer": "ipython3",
   "version": "3.7.4"
  }
 },
 "nbformat": 4,
 "nbformat_minor": 2
}
